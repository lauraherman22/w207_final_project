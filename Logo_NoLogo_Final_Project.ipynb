{
 "cells": [
  {
   "cell_type": "markdown",
   "metadata": {},
   "source": [
    "**Step 1: Import packages**"
   ]
  },
  {
   "cell_type": "code",
   "execution_count": 20,
   "metadata": {},
   "outputs": [],
   "source": [
    "# Import libraries\n",
    "import pandas as pd\n",
    "import numpy as np\n",
    "import matplotlib.pyplot as plt\n",
    "import os\n",
    "import warnings\n",
    "import tensorflow as tf\n",
    "import kerastuner as kt\n",
    "import IPython\n",
    "\n",
    "# sklearn libraries for preprocessing\n",
    "from sklearn import preprocessing\n",
    "from sklearn.preprocessing import StandardScaler\n",
    "from sklearn.decomposition import PCA\n",
    "from sklearn.model_selection import train_test_split\n",
    "\n",
    "# sklearn libraries for models\n",
    "from sklearn.linear_model import LogisticRegression\n",
    "from tensorflow import keras\n",
    "from kerastuner import HyperModel\n",
    "from kerastuner import Hyperband\n",
    "\n",
    "# sklearn libraries for evaluation\n",
    "from sklearn import metrics"
   ]
  },
  {
   "cell_type": "markdown",
   "metadata": {},
   "source": [
    "**Step 2: Define working directories**"
   ]
  },
  {
   "cell_type": "code",
   "execution_count": 21,
   "metadata": {},
   "outputs": [],
   "source": [
    "os.chdir('C:/Users/user/Documents/Berkeley_MIDS/W207_Machine_Learning/w207_final_project')"
   ]
  },
  {
   "cell_type": "markdown",
   "metadata": {},
   "source": [
    "**Step 3: Define classes**"
   ]
  },
  {
   "cell_type": "code",
   "execution_count": 22,
   "metadata": {},
   "outputs": [],
   "source": [
    "# Clear the training outputs at the end of every step\n",
    "class ClearTrainingOutput(tf.keras.callbacks.Callback):\n",
    "    def on_train_end(*args, **kwargs):\n",
    "        '''Clear the training outputs at the end of every step for the Keras Tuner'''\n",
    "        IPython.display.clear_output(wait = True)"
   ]
  },
  {
   "cell_type": "markdown",
   "metadata": {},
   "source": [
    "**Step 4: Define functions**"
   ]
  },
  {
   "cell_type": "code",
   "execution_count": 23,
   "metadata": {},
   "outputs": [],
   "source": [
    "def reduce(X, n):\n",
    "    '''PCA dimensionality reduction for X array and n principal components'''\n",
    "    pca = PCA(n_components = n) \n",
    "    X_reduced = pca.fit_transform(X)\n",
    "    return X_reduced"
   ]
  },
  {
   "cell_type": "code",
   "execution_count": 24,
   "metadata": {},
   "outputs": [],
   "source": [
    "def data_split(X, y, test_p, mini_s):\n",
    "    '''Split train and test data for X,y data arrays with test_p percentage of observations in the test data and \n",
    "    mini_s number of observations in the mini_train set.'''\n",
    "    # Split into train and test data\n",
    "    train_data, test_data, train_labels, test_labels = train_test_split(X, y, test_size=test_p, random_state=1, stratify=y)\n",
    "\n",
    "    # Split test data into development data and training into mini train set for computation time\n",
    "    dev_data, dev_labels = test_data[:int(test_data.shape[0]*0.5)], test_labels[:int(test_data.shape[0]*0.5)]\n",
    "    mini_train_data, mini_train_labels = train_data[:mini_s], train_labels[:mini_s]\n",
    "    print('Train data shape:', train_data.shape)\n",
    "    print('Dev data shape:', dev_data.shape)\n",
    "    print('Mini_train data shape:', mini_train_data.shape)\n",
    "    \n",
    "    return train_data, train_labels, test_data, test_labels, dev_data, dev_labels, mini_train_data, mini_train_labels"
   ]
  },
  {
   "cell_type": "code",
   "execution_count": 25,
   "metadata": {},
   "outputs": [],
   "source": [
    "def log_reg(train_X, train_Y, dev_X, dev_Y):\n",
    "    '''Logistic regression looping through values of C. Input train and test data and labels and funtion \n",
    "    returns list of accuracies and list of C values.'''\n",
    "    c_values = [0.001, 0.01, 0.1, 0.2, 0.3, 0.4, 0.5, 1.0, 2.0, 5.0]\n",
    "    LR = []\n",
    "    for c in c_values:\n",
    "        clf = LogisticRegression(C=c, solver='liblinear', multi_class='auto')\n",
    "        clf.fit(train_X, train_Y)\n",
    "        clf_pred = clf.predict(dev_X)\n",
    "        LR.append(round(metrics.f1_score(dev_Y, clf_pred, average='weighted'),3))\n",
    "\n",
    "    return LR, c_values"
   ]
  },
  {
   "cell_type": "code",
   "execution_count": 26,
   "metadata": {},
   "outputs": [],
   "source": [
    "def LR_accuracy_c(train_X, train_Y, dev_X, dev_Y):\n",
    "    '''Calls logistic regression function and returns highest accuracy for specific value of C.'''\n",
    "    accuracy_list = log_reg(train_X, train_Y, dev_X, dev_Y)[0]\n",
    "    accuracy = [y for x,y in sorted(enumerate(accuracy_list), key = lambda x: x[1], reverse=True)][:1]\n",
    "    accuracy_index = [x for x,y in sorted(enumerate(accuracy_list), key = lambda x: x[1], reverse=True)][:1]\n",
    "    C = log_reg(train_X, train_Y, dev_X, dev_Y)[1][accuracy_index[0]]\n",
    "    \n",
    "    return accuracy[0], C"
   ]
  },
  {
   "cell_type": "code",
   "execution_count": 27,
   "metadata": {},
   "outputs": [],
   "source": [
    "def PCA_visualization(pca_vals, title, colors):\n",
    "    x = [item[0] for item in pca_vals] \n",
    "    y = [item[1] for item in pca_vals] \n",
    "\n",
    "    fig = plt.figure(figsize = (8,8))\n",
    "    ax = fig.add_subplot(1,1,1) \n",
    "    ax.set_xlabel('Principal Component 1', fontsize = 15)\n",
    "    ax.set_ylabel('Principal Component 2', fontsize = 15)\n",
    "    ax.set_title(title, fontsize = 20)\n",
    "    ax.scatter(x, y, c=colors, s = 5)\n",
    "    ax.grid()"
   ]
  },
  {
   "cell_type": "code",
   "execution_count": 28,
   "metadata": {},
   "outputs": [],
   "source": [
    "def PCA_k_optimize(train_X, train_Y, dev_X, dev_Y, k_list):\n",
    "    accuracies = []\n",
    "    c_vals = []\n",
    "    # Subset pixel data\n",
    "    train_pixel = train_X[:, :150529]\n",
    "    dev_pixel = dev_X[:, :150529]\n",
    "    train_nopixel = train_X[:, 150529:]\n",
    "    dev_nopixel = dev_X[:, 150529:]\n",
    "    for k in k_list:\n",
    "        #Scale and reduce only pixel data\n",
    "        ss = StandardScaler()\n",
    "        train_pixel_s = ss.fit_transform(train_pixel)\n",
    "        dev_pixel_s = ss.transform(dev_pixel)\n",
    "        pca = PCA(n_components = k) \n",
    "        train_pixel_reduced = pca.fit_transform(train_pixel_s)\n",
    "        dev_pixel_reduced = pca.transform(dev_pixel_s)\n",
    "        #Concatenate reduced pixel data back with non pixel data\n",
    "        train_X_new = np.concatenate((train_nopixel, train_pixel_reduced), axis=1)\n",
    "        dev_X_new = np.concatenate((dev_nopixel, dev_pixel_reduced), axis=1)\n",
    "        #Obtain accuracy and optimized c value\n",
    "        results = LR_accuracy_c(train_X_new, train_Y, dev_X_new, dev_Y)\n",
    "        accuracies.append(results[0])\n",
    "        c_vals.append(results[1])\n",
    "    return accuracies, c_vals"
   ]
  },
  {
   "cell_type": "code",
   "execution_count": 66,
   "metadata": {},
   "outputs": [],
   "source": [
    "def model_builder(hp):\n",
    "    '''Build a single layer dense neural network using Keras Tuner'''\n",
    "    model = keras.Sequential()\n",
    "  \n",
    "    # Tune the number of units in the first Dense layer\n",
    "    # Choose an optimal value between 32-512\n",
    "    hp_units = hp.Int('units', min_value = 32, max_value = 512, step = 32)\n",
    "\n",
    "    model.add(keras.layers.Dense(units = hp_units, activation = 'relu'))\n",
    "    \n",
    "    model.add(keras.layers.Dense(2, activation = 'softmax'))\n",
    "\n",
    "    # Tune the learning rate for the optimizer \n",
    "    # Choose an optimal value from 0.01, 0.001, or 0.0001\n",
    "    hp_learning_rate = hp.Choice('learning_rate', values = [1e-2, 1e-3, 1e-4]) \n",
    "  \n",
    "    model.compile(optimizer = keras.optimizers.Adam(learning_rate = hp_learning_rate),\n",
    "                loss = keras.losses.SparseCategoricalCrossentropy(from_logits = True), \n",
    "                metrics = ['accuracy'])\n",
    "  \n",
    "    return model"
   ]
  },
  {
   "cell_type": "code",
   "execution_count": 109,
   "metadata": {},
   "outputs": [],
   "source": [
    "def build_model(nodes, dropout_rate, lr):\n",
    "    '''Build layers of a neural net'''\n",
    "    \n",
    "    # Begins the linear arrangment of layers\n",
    "    model = tf.keras.models.Sequential([\n",
    "\n",
    "    # First layer \n",
    "    # This is a dense layer. Nodes are fully connected.\n",
    "    # Nodes is the number of nodes in the layer. This will be specified when calling the function.\n",
    "    tf.keras.layers.Dense(nodes, activation='relu'),\n",
    "\n",
    "    # Second layer\n",
    "    # Uses dropout regularization by dropping a certain percentage before next layer\n",
    "    # This makes it so that some of the nodes in a given layer don’t pass on their information to the next layer. \n",
    "    # This helps with computation time (less parameters) and with overfitting.\n",
    "    # Each node in the second  layer has a probability equal to the specified dropout rate of being dropped from the computation of the activations of the next layer. \n",
    "    tf.keras.layers.Dropout(dropout_rate),\n",
    "    \n",
    "    # Third layer\n",
    "    # This is the output layer. It returns a logits array of length 2 (because we have 2 classes - logo or not logo)\n",
    "    # Each node contains a probability that indicates the current image belongs to one of the 2 classes\n",
    "    # It uses the activation function Softmax which is the equivalent of the Sigmoid function for multiclass logits\n",
    "    tf.keras.layers.Dense(2, activation='softmax')])\n",
    "    \n",
    "    # Compile the model using the Adam optimizer\n",
    "    # The learning rate will be specified when the function is called\n",
    "    model.compile(keras.optimizers.Adam(learning_rate = lr),\n",
    "              loss='sparse_categorical_crossentropy',\n",
    "              metrics=['accuracy'])\n",
    "    \n",
    "    return model"
   ]
  },
  {
   "cell_type": "code",
   "execution_count": 31,
   "metadata": {},
   "outputs": [],
   "source": [
    "# Fit the neural net model\n",
    "# Specify the number of epochs\n",
    "def fit_model(model, data, labels, epoch_num):\n",
    "    history = model.fit(data, labels, epochs = epoch_num)\n",
    "    return history"
   ]
  },
  {
   "cell_type": "code",
   "execution_count": 32,
   "metadata": {},
   "outputs": [],
   "source": [
    "# Evaluate the neural net model\n",
    "def evaluate_model(model, data, labels):\n",
    "    test_loss, test_acc = model.evaluate(data, labels)\n",
    "    return test_acc"
   ]
  },
  {
   "cell_type": "markdown",
   "metadata": {},
   "source": [
    "**Step 5: Read data**"
   ]
  },
  {
   "cell_type": "markdown",
   "metadata": {},
   "source": [
    "5.1 Load and combine pixel data files into dataframe"
   ]
  },
  {
   "cell_type": "code",
   "execution_count": 33,
   "metadata": {},
   "outputs": [
    {
     "name": "stdout",
     "output_type": "stream",
     "text": [
      "['arr_0', 'arr_1']\n"
     ]
    }
   ],
   "source": [
    "# Load npz files to combine and print content files\n",
    "data_1 = np.load('et_w207_project_npz_files_5000_tmp_tmp5ocrhjnn.npz')\n",
    "data_1.close\n",
    "\n",
    "data_2 = np.load('et_w207_project_npz_files_5000_tmp_tmp092sag67.npz')\n",
    "data_2.close\n",
    "\n",
    "data_3 = np.load('et_w207_project_npz_files_5000_tmp_tmpf31_pn8p.npz')\n",
    "data_3.close\n",
    "\n",
    "data_4 = np.load('et_w207_project_npz_files_5000_tmp_tmpq5b2g4n2.npz')\n",
    "data_4.close\n",
    "\n",
    "print(data_1.files)"
   ]
  },
  {
   "cell_type": "code",
   "execution_count": 34,
   "metadata": {},
   "outputs": [
    {
     "data": {
      "text/plain": [
       "array(['ozbpir-9ey6js-ggdqwo', '378ykanq', 'p366md-big834-7o23k6',\n",
       "       '3zruwvl2', 'q18iae-3vnh74-79npmy'], dtype='<U20')"
      ]
     },
     "execution_count": 34,
     "metadata": {},
     "output_type": "execute_result"
    }
   ],
   "source": [
    "# Show file arr_0 example\n",
    "data_1['arr_0'][:5]"
   ]
  },
  {
   "cell_type": "code",
   "execution_count": 35,
   "metadata": {},
   "outputs": [
    {
     "data": {
      "text/plain": [
       "array([[-103.939   , -116.779   , -123.68    , ..., -103.939   ,\n",
       "        -116.779   , -123.68    ],\n",
       "       [ -46.939003,  -74.779   , -118.68    , ...,  -57.939003,\n",
       "         -84.779   , -118.68    ],\n",
       "       [ 151.061   ,  138.22101 ,  131.32    , ...,  151.061   ,\n",
       "         138.22101 ,  131.32    ],\n",
       "       [  -3.939003,  -66.779   ,  -96.68    , ...,   -3.939003,\n",
       "         -66.779   ,  -96.68    ],\n",
       "       [-103.939   , -116.779   , -123.68    , ..., -103.939   ,\n",
       "        -116.779   , -123.68    ]], dtype=float32)"
      ]
     },
     "execution_count": 35,
     "metadata": {},
     "output_type": "execute_result"
    }
   ],
   "source": [
    "# Show file arr_1 example\n",
    "data_1['arr_1'][:5]"
   ]
  },
  {
   "cell_type": "code",
   "execution_count": 36,
   "metadata": {},
   "outputs": [
    {
     "name": "stdout",
     "output_type": "stream",
     "text": [
      "(878,)\n",
      "(893,)\n",
      "(638,)\n",
      "(1353,)\n"
     ]
    }
   ],
   "source": [
    "# Get number of observations in each file\n",
    "print(data_1['arr_0'].shape)\n",
    "print(data_2['arr_0'].shape)\n",
    "print(data_3['arr_0'].shape)\n",
    "print(data_4['arr_0'].shape)"
   ]
  },
  {
   "cell_type": "code",
   "execution_count": 37,
   "metadata": {},
   "outputs": [
    {
     "name": "stdout",
     "output_type": "stream",
     "text": [
      "(3762, 150528)\n"
     ]
    }
   ],
   "source": [
    "# Concatenate data from all files\n",
    "data_key = np.concatenate((data_1['arr_0'], data_2['arr_0'], data_3['arr_0'], data_4['arr_0']))\n",
    "\n",
    "data_pixel = np.concatenate((data_1['arr_1'], data_2['arr_1'], data_3['arr_1'], data_4['arr_1']))\n",
    "print(data_pixel.shape)"
   ]
  },
  {
   "cell_type": "code",
   "execution_count": 38,
   "metadata": {},
   "outputs": [
    {
     "data": {
      "text/html": [
       "<div>\n",
       "<style scoped>\n",
       "    .dataframe tbody tr th:only-of-type {\n",
       "        vertical-align: middle;\n",
       "    }\n",
       "\n",
       "    .dataframe tbody tr th {\n",
       "        vertical-align: top;\n",
       "    }\n",
       "\n",
       "    .dataframe thead th {\n",
       "        text-align: right;\n",
       "    }\n",
       "</style>\n",
       "<table border=\"1\" class=\"dataframe\">\n",
       "  <thead>\n",
       "    <tr style=\"text-align: right;\">\n",
       "      <th></th>\n",
       "      <th>pixel_array</th>\n",
       "    </tr>\n",
       "    <tr>\n",
       "      <th>attachment_key</th>\n",
       "      <th></th>\n",
       "    </tr>\n",
       "  </thead>\n",
       "  <tbody>\n",
       "    <tr>\n",
       "      <th>ozbpir-9ey6js-ggdqwo</th>\n",
       "      <td>[-0.40760392, -0.45795685, -0.4850196, -0.4076...</td>\n",
       "    </tr>\n",
       "    <tr>\n",
       "      <th>378ykanq</th>\n",
       "      <td>[-0.18407452, -0.29325098, -0.46541175, -0.097...</td>\n",
       "    </tr>\n",
       "    <tr>\n",
       "      <th>p366md-big834-7o23k6</th>\n",
       "      <td>[0.5923961, 0.54204315, 0.51498044, 0.5923961,...</td>\n",
       "    </tr>\n",
       "    <tr>\n",
       "      <th>3zruwvl2</th>\n",
       "      <td>[-0.015447071, -0.26187843, -0.37913725, -0.01...</td>\n",
       "    </tr>\n",
       "    <tr>\n",
       "      <th>q18iae-3vnh74-79npmy</th>\n",
       "      <td>[-0.40760392, -0.45795685, -0.4850196, -0.4076...</td>\n",
       "    </tr>\n",
       "    <tr>\n",
       "      <th>...</th>\n",
       "      <td>...</td>\n",
       "    </tr>\n",
       "    <tr>\n",
       "      <th>pktyig-481wyg-6gyulf</th>\n",
       "      <td>[-0.3605451, -0.41089803, -0.38305882, -0.3644...</td>\n",
       "    </tr>\n",
       "    <tr>\n",
       "      <th>zu7y3rha</th>\n",
       "      <td>[-0.007603933, -0.05795686, -0.08501961, -0.00...</td>\n",
       "    </tr>\n",
       "    <tr>\n",
       "      <th>pxcwxf-8tnpyg-8vhb9r</th>\n",
       "      <td>[0.3022, 0.18125883, 0.12674509, 0.31004313, 0...</td>\n",
       "    </tr>\n",
       "    <tr>\n",
       "      <th>p4hakf-fsskmw-1224up</th>\n",
       "      <td>[-0.40368235, -0.45403528, -0.48109803, -0.387...</td>\n",
       "    </tr>\n",
       "    <tr>\n",
       "      <th>ptuhsk-22124o-f0sxoc</th>\n",
       "      <td>[0.43945488, 0.39302352, 0.3502745, 0.44729802...</td>\n",
       "    </tr>\n",
       "  </tbody>\n",
       "</table>\n",
       "<p>3759 rows × 1 columns</p>\n",
       "</div>"
      ],
      "text/plain": [
       "                                                            pixel_array\n",
       "attachment_key                                                         \n",
       "ozbpir-9ey6js-ggdqwo  [-0.40760392, -0.45795685, -0.4850196, -0.4076...\n",
       "378ykanq              [-0.18407452, -0.29325098, -0.46541175, -0.097...\n",
       "p366md-big834-7o23k6  [0.5923961, 0.54204315, 0.51498044, 0.5923961,...\n",
       "3zruwvl2              [-0.015447071, -0.26187843, -0.37913725, -0.01...\n",
       "q18iae-3vnh74-79npmy  [-0.40760392, -0.45795685, -0.4850196, -0.4076...\n",
       "...                                                                 ...\n",
       "pktyig-481wyg-6gyulf  [-0.3605451, -0.41089803, -0.38305882, -0.3644...\n",
       "zu7y3rha              [-0.007603933, -0.05795686, -0.08501961, -0.00...\n",
       "pxcwxf-8tnpyg-8vhb9r  [0.3022, 0.18125883, 0.12674509, 0.31004313, 0...\n",
       "p4hakf-fsskmw-1224up  [-0.40368235, -0.45403528, -0.48109803, -0.387...\n",
       "ptuhsk-22124o-f0sxoc  [0.43945488, 0.39302352, 0.3502745, 0.44729802...\n",
       "\n",
       "[3759 rows x 1 columns]"
      ]
     },
     "execution_count": 38,
     "metadata": {},
     "output_type": "execute_result"
    }
   ],
   "source": [
    "# Create key value pairs with attachment key and pixel array\n",
    "# Standardize pixel values between 0 and 1 by dividing by 255\n",
    "# Store pixel data as dataframe\n",
    "data_dict = {}\n",
    "for i in range(data_key.shape[0]):\n",
    "    data_dict[data_key[i]] = [data_pixel[i]/255]\n",
    "\n",
    "df_pixel = pd.DataFrame(data=data_dict)\n",
    "df_pixel_t = df_pixel.transpose()\n",
    "df_pixel_t.index.names = ['attachment_key']\n",
    "df_pixel_t.columns = ['pixel_array']\n",
    "df_pixel_t"
   ]
  },
  {
   "cell_type": "markdown",
   "metadata": {},
   "source": [
    "5.2 Load metadata file"
   ]
  },
  {
   "cell_type": "code",
   "execution_count": 39,
   "metadata": {},
   "outputs": [
    {
     "data": {
      "text/html": [
       "<div>\n",
       "<style scoped>\n",
       "    .dataframe tbody tr th:only-of-type {\n",
       "        vertical-align: middle;\n",
       "    }\n",
       "\n",
       "    .dataframe tbody tr th {\n",
       "        vertical-align: top;\n",
       "    }\n",
       "\n",
       "    .dataframe thead th {\n",
       "        text-align: right;\n",
       "    }\n",
       "</style>\n",
       "<table border=\"1\" class=\"dataframe\">\n",
       "  <thead>\n",
       "    <tr style=\"text-align: right;\">\n",
       "      <th></th>\n",
       "      <th>attachment_key</th>\n",
       "      <th>size_mb</th>\n",
       "      <th>height</th>\n",
       "      <th>width</th>\n",
       "      <th>h_to_w</th>\n",
       "      <th>filename</th>\n",
       "      <th>logo</th>\n",
       "    </tr>\n",
       "  </thead>\n",
       "  <tbody>\n",
       "    <tr>\n",
       "      <th>0</th>\n",
       "      <td>001lq61k</td>\n",
       "      <td>0.122520</td>\n",
       "      <td>514.0</td>\n",
       "      <td>720.0</td>\n",
       "      <td>0.713889</td>\n",
       "      <td>campus ministry on the beach.jpg</td>\n",
       "      <td>0</td>\n",
       "    </tr>\n",
       "    <tr>\n",
       "      <th>1</th>\n",
       "      <td>002dlirq</td>\n",
       "      <td>3.256944</td>\n",
       "      <td>4072.0</td>\n",
       "      <td>3868.0</td>\n",
       "      <td>1.052741</td>\n",
       "      <td>BIG ALS FISH FLASH UV VP PL.jpg</td>\n",
       "      <td>0</td>\n",
       "    </tr>\n",
       "    <tr>\n",
       "      <th>2</th>\n",
       "      <td>003qefgm</td>\n",
       "      <td>0.002522</td>\n",
       "      <td>80.0</td>\n",
       "      <td>200.0</td>\n",
       "      <td>0.400000</td>\n",
       "      <td>netix_email_studio.png</td>\n",
       "      <td>1</td>\n",
       "    </tr>\n",
       "    <tr>\n",
       "      <th>3</th>\n",
       "      <td>0083okjl</td>\n",
       "      <td>0.116802</td>\n",
       "      <td>600.0</td>\n",
       "      <td>600.0</td>\n",
       "      <td>1.000000</td>\n",
       "      <td>productshot2.jpg</td>\n",
       "      <td>0</td>\n",
       "    </tr>\n",
       "    <tr>\n",
       "      <th>4</th>\n",
       "      <td>00a957mh</td>\n",
       "      <td>0.140714</td>\n",
       "      <td>816.0</td>\n",
       "      <td>2382.0</td>\n",
       "      <td>0.342569</td>\n",
       "      <td>divine_medical_billing_inc_master.png</td>\n",
       "      <td>1</td>\n",
       "    </tr>\n",
       "  </tbody>\n",
       "</table>\n",
       "</div>"
      ],
      "text/plain": [
       "  attachment_key   size_mb  height   width    h_to_w  \\\n",
       "0       001lq61k  0.122520   514.0   720.0  0.713889   \n",
       "1       002dlirq  3.256944  4072.0  3868.0  1.052741   \n",
       "2       003qefgm  0.002522    80.0   200.0  0.400000   \n",
       "3       0083okjl  0.116802   600.0   600.0  1.000000   \n",
       "4       00a957mh  0.140714   816.0  2382.0  0.342569   \n",
       "\n",
       "                                filename  logo  \n",
       "0       campus ministry on the beach.jpg     0  \n",
       "1        BIG ALS FISH FLASH UV VP PL.jpg     0  \n",
       "2                 netix_email_studio.png     1  \n",
       "3                       productshot2.jpg     0  \n",
       "4  divine_medical_billing_inc_master.png     1  "
      ]
     },
     "execution_count": 39,
     "metadata": {},
     "output_type": "execute_result"
    }
   ],
   "source": [
    "# Load excel data\n",
    "df = pd.read_csv('school_project_data_set-new.csv')\n",
    "df.head()"
   ]
  },
  {
   "cell_type": "markdown",
   "metadata": {},
   "source": [
    "5.3 Combine pixel and metadata features in a pandas dataframe"
   ]
  },
  {
   "cell_type": "code",
   "execution_count": 40,
   "metadata": {},
   "outputs": [
    {
     "data": {
      "text/html": [
       "<div>\n",
       "<style scoped>\n",
       "    .dataframe tbody tr th:only-of-type {\n",
       "        vertical-align: middle;\n",
       "    }\n",
       "\n",
       "    .dataframe tbody tr th {\n",
       "        vertical-align: top;\n",
       "    }\n",
       "\n",
       "    .dataframe thead th {\n",
       "        text-align: right;\n",
       "    }\n",
       "</style>\n",
       "<table border=\"1\" class=\"dataframe\">\n",
       "  <thead>\n",
       "    <tr style=\"text-align: right;\">\n",
       "      <th></th>\n",
       "      <th>attachment_key</th>\n",
       "      <th>size_mb</th>\n",
       "      <th>height</th>\n",
       "      <th>width</th>\n",
       "      <th>h_to_w</th>\n",
       "      <th>filename</th>\n",
       "      <th>logo</th>\n",
       "      <th>pixel_array</th>\n",
       "    </tr>\n",
       "  </thead>\n",
       "  <tbody>\n",
       "    <tr>\n",
       "      <th>0</th>\n",
       "      <td>00xjny6u</td>\n",
       "      <td>0.011849</td>\n",
       "      <td>520.0</td>\n",
       "      <td>506.0</td>\n",
       "      <td>1.027668</td>\n",
       "      <td>Esterdale Theatre - Logo.png</td>\n",
       "      <td>1</td>\n",
       "      <td>[0.5923961, 0.54204315, 0.51498044, 0.5923961,...</td>\n",
       "    </tr>\n",
       "    <tr>\n",
       "      <th>1</th>\n",
       "      <td>04o31jop</td>\n",
       "      <td>0.012610</td>\n",
       "      <td>269.0</td>\n",
       "      <td>396.0</td>\n",
       "      <td>0.679293</td>\n",
       "      <td>BLUE_LOGO.png</td>\n",
       "      <td>1</td>\n",
       "      <td>[0.5923961, 0.54204315, 0.51498044, 0.5923961,...</td>\n",
       "    </tr>\n",
       "    <tr>\n",
       "      <th>2</th>\n",
       "      <td>0840h7ox</td>\n",
       "      <td>0.399114</td>\n",
       "      <td>518.0</td>\n",
       "      <td>920.0</td>\n",
       "      <td>0.563044</td>\n",
       "      <td>ZEN_LB-5.jpg</td>\n",
       "      <td>0</td>\n",
       "      <td>[0.106121555, 0.05576863, 0.052235294, 0.09043...</td>\n",
       "    </tr>\n",
       "    <tr>\n",
       "      <th>3</th>\n",
       "      <td>0awudx2h</td>\n",
       "      <td>0.011226</td>\n",
       "      <td>200.0</td>\n",
       "      <td>200.0</td>\n",
       "      <td>1.000000</td>\n",
       "      <td>article central 200.jpg</td>\n",
       "      <td>1</td>\n",
       "      <td>[0.5923961, 0.54204315, 0.51498044, 0.5923961,...</td>\n",
       "    </tr>\n",
       "    <tr>\n",
       "      <th>4</th>\n",
       "      <td>0bb8y85h</td>\n",
       "      <td>0.263813</td>\n",
       "      <td>885.0</td>\n",
       "      <td>800.0</td>\n",
       "      <td>1.106250</td>\n",
       "      <td>1116-100_WGTank_white.jpg</td>\n",
       "      <td>0</td>\n",
       "      <td>[0.5923961, 0.54204315, 0.51498044, 0.5923961,...</td>\n",
       "    </tr>\n",
       "    <tr>\n",
       "      <th>...</th>\n",
       "      <td>...</td>\n",
       "      <td>...</td>\n",
       "      <td>...</td>\n",
       "      <td>...</td>\n",
       "      <td>...</td>\n",
       "      <td>...</td>\n",
       "      <td>...</td>\n",
       "      <td>...</td>\n",
       "    </tr>\n",
       "    <tr>\n",
       "      <th>3750</th>\n",
       "      <td>zu7y3rha</td>\n",
       "      <td>0.147371</td>\n",
       "      <td>498.0</td>\n",
       "      <td>702.0</td>\n",
       "      <td>0.709402</td>\n",
       "      <td>journalism.jpg</td>\n",
       "      <td>0</td>\n",
       "      <td>[-0.007603933, -0.05795686, -0.08501961, -0.00...</td>\n",
       "    </tr>\n",
       "    <tr>\n",
       "      <th>3751</th>\n",
       "      <td>zuanbsqe</td>\n",
       "      <td>0.580392</td>\n",
       "      <td>206.0</td>\n",
       "      <td>415.0</td>\n",
       "      <td>0.496386</td>\n",
       "      <td>2013 05 26_techstars_id_final_bug solo graysca...</td>\n",
       "      <td>1</td>\n",
       "      <td>[0.5923961, 0.54204315, 0.51498044, 0.5923961,...</td>\n",
       "    </tr>\n",
       "    <tr>\n",
       "      <th>3752</th>\n",
       "      <td>zw9234v4</td>\n",
       "      <td>2.021135</td>\n",
       "      <td>1645.0</td>\n",
       "      <td>1450.0</td>\n",
       "      <td>1.134483</td>\n",
       "      <td>SPIN N GLO SILVER WING GPK MY.jpg</td>\n",
       "      <td>0</td>\n",
       "      <td>[0.5923961, 0.54204315, 0.51498044, 0.5923961,...</td>\n",
       "    </tr>\n",
       "    <tr>\n",
       "      <th>3753</th>\n",
       "      <td>zxfqbfj1</td>\n",
       "      <td>0.012057</td>\n",
       "      <td>36.0</td>\n",
       "      <td>345.0</td>\n",
       "      <td>0.104348</td>\n",
       "      <td>cornerstone web logo medium.png</td>\n",
       "      <td>1</td>\n",
       "      <td>[-0.40760392, -0.45795685, -0.4850196, -0.4076...</td>\n",
       "    </tr>\n",
       "    <tr>\n",
       "      <th>3754</th>\n",
       "      <td>zzgkjqna</td>\n",
       "      <td>0.027983</td>\n",
       "      <td>56.0</td>\n",
       "      <td>350.0</td>\n",
       "      <td>0.160000</td>\n",
       "      <td>fieldcontrolslogohorz web.jpg</td>\n",
       "      <td>1</td>\n",
       "      <td>[0.5923961, 0.54204315, 0.51498044, 0.5923961,...</td>\n",
       "    </tr>\n",
       "  </tbody>\n",
       "</table>\n",
       "<p>3755 rows × 8 columns</p>\n",
       "</div>"
      ],
      "text/plain": [
       "     attachment_key   size_mb  height   width    h_to_w  \\\n",
       "0          00xjny6u  0.011849   520.0   506.0  1.027668   \n",
       "1          04o31jop  0.012610   269.0   396.0  0.679293   \n",
       "2          0840h7ox  0.399114   518.0   920.0  0.563044   \n",
       "3          0awudx2h  0.011226   200.0   200.0  1.000000   \n",
       "4          0bb8y85h  0.263813   885.0   800.0  1.106250   \n",
       "...             ...       ...     ...     ...       ...   \n",
       "3750       zu7y3rha  0.147371   498.0   702.0  0.709402   \n",
       "3751       zuanbsqe  0.580392   206.0   415.0  0.496386   \n",
       "3752       zw9234v4  2.021135  1645.0  1450.0  1.134483   \n",
       "3753       zxfqbfj1  0.012057    36.0   345.0  0.104348   \n",
       "3754       zzgkjqna  0.027983    56.0   350.0  0.160000   \n",
       "\n",
       "                                               filename  logo  \\\n",
       "0                          Esterdale Theatre - Logo.png     1   \n",
       "1                                         BLUE_LOGO.png     1   \n",
       "2                                          ZEN_LB-5.jpg     0   \n",
       "3                               article central 200.jpg     1   \n",
       "4                             1116-100_WGTank_white.jpg     0   \n",
       "...                                                 ...   ...   \n",
       "3750                                     journalism.jpg     0   \n",
       "3751  2013 05 26_techstars_id_final_bug solo graysca...     1   \n",
       "3752                  SPIN N GLO SILVER WING GPK MY.jpg     0   \n",
       "3753                    cornerstone web logo medium.png     1   \n",
       "3754                      fieldcontrolslogohorz web.jpg     1   \n",
       "\n",
       "                                            pixel_array  \n",
       "0     [0.5923961, 0.54204315, 0.51498044, 0.5923961,...  \n",
       "1     [0.5923961, 0.54204315, 0.51498044, 0.5923961,...  \n",
       "2     [0.106121555, 0.05576863, 0.052235294, 0.09043...  \n",
       "3     [0.5923961, 0.54204315, 0.51498044, 0.5923961,...  \n",
       "4     [0.5923961, 0.54204315, 0.51498044, 0.5923961,...  \n",
       "...                                                 ...  \n",
       "3750  [-0.007603933, -0.05795686, -0.08501961, -0.00...  \n",
       "3751  [0.5923961, 0.54204315, 0.51498044, 0.5923961,...  \n",
       "3752  [0.5923961, 0.54204315, 0.51498044, 0.5923961,...  \n",
       "3753  [-0.40760392, -0.45795685, -0.4850196, -0.4076...  \n",
       "3754  [0.5923961, 0.54204315, 0.51498044, 0.5923961,...  \n",
       "\n",
       "[3755 rows x 8 columns]"
      ]
     },
     "execution_count": 40,
     "metadata": {},
     "output_type": "execute_result"
    }
   ],
   "source": [
    "# Merge dataframes by attachment key\n",
    "combined_df = df.merge(df_pixel_t, on='attachment_key')\n",
    "combined_df"
   ]
  },
  {
   "cell_type": "code",
   "execution_count": 41,
   "metadata": {},
   "outputs": [],
   "source": [
    "### VISUALIZATIONS FROM PANDAS PROFILING HERE"
   ]
  },
  {
   "cell_type": "markdown",
   "metadata": {},
   "source": [
    "**Step 6: Data preprocessing**"
   ]
  },
  {
   "cell_type": "markdown",
   "metadata": {},
   "source": [
    "6.1 Remove null values"
   ]
  },
  {
   "cell_type": "code",
   "execution_count": 42,
   "metadata": {},
   "outputs": [
    {
     "name": "stdout",
     "output_type": "stream",
     "text": [
      "<class 'pandas.core.frame.DataFrame'>\n",
      "Int64Index: 3754 entries, 0 to 3754\n",
      "Data columns (total 8 columns):\n",
      " #   Column          Non-Null Count  Dtype  \n",
      "---  ------          --------------  -----  \n",
      " 0   attachment_key  3754 non-null   object \n",
      " 1   size_mb         3754 non-null   float64\n",
      " 2   height          3754 non-null   float64\n",
      " 3   width           3754 non-null   float64\n",
      " 4   h_to_w          3754 non-null   float64\n",
      " 5   filename        3754 non-null   object \n",
      " 6   logo            3754 non-null   int64  \n",
      " 7   pixel_array     3754 non-null   object \n",
      "dtypes: float64(4), int64(1), object(3)\n",
      "memory usage: 264.0+ KB\n"
     ]
    }
   ],
   "source": [
    "# Remove rows with null values\n",
    "combined_df = combined_df[combined_df.height.notnull()]\n",
    "combined_df.info(verbose=True)"
   ]
  },
  {
   "cell_type": "markdown",
   "metadata": {},
   "source": [
    "6.2 Create file type dummy variables from file name"
   ]
  },
  {
   "cell_type": "code",
   "execution_count": 43,
   "metadata": {},
   "outputs": [
    {
     "name": "stdout",
     "output_type": "stream",
     "text": [
      "{'hot', 'jpg', '0mm', 'age', 'peg', 'ite', 'png', 'ack', 'jpe', 'pig', '73e', 'lue'}\n"
     ]
    }
   ],
   "source": [
    "# Find file types from filename\n",
    "file_types = []\n",
    "for item in combined_df['filename']:\n",
    "    file_types.append(item[-3:].lower())\n",
    "\n",
    "print(set(file_types))"
   ]
  },
  {
   "cell_type": "code",
   "execution_count": 44,
   "metadata": {},
   "outputs": [],
   "source": [
    "# Create list of file types from filename to append to df\n",
    "filetype_encoding = []\n",
    "for item in combined_df['filename']:\n",
    "    if item[-3:].lower() == 'jpg':\n",
    "        filetype_encoding.append('jpg')\n",
    "    elif item[-3:].lower() == 'png':\n",
    "        filetype_encoding.append('png')\n",
    "    else:\n",
    "        filetype_encoding.append('other')"
   ]
  },
  {
   "cell_type": "code",
   "execution_count": 45,
   "metadata": {},
   "outputs": [
    {
     "name": "stderr",
     "output_type": "stream",
     "text": [
      "/Users/alyssaaugsburger/anaconda3/lib/python3.7/site-packages/ipykernel_launcher.py:2: SettingWithCopyWarning: \n",
      "A value is trying to be set on a copy of a slice from a DataFrame.\n",
      "Try using .loc[row_indexer,col_indexer] = value instead\n",
      "\n",
      "See the caveats in the documentation: https://pandas.pydata.org/pandas-docs/stable/user_guide/indexing.html#returning-a-view-versus-a-copy\n",
      "  \n"
     ]
    },
    {
     "data": {
      "text/html": [
       "<div>\n",
       "<style scoped>\n",
       "    .dataframe tbody tr th:only-of-type {\n",
       "        vertical-align: middle;\n",
       "    }\n",
       "\n",
       "    .dataframe tbody tr th {\n",
       "        vertical-align: top;\n",
       "    }\n",
       "\n",
       "    .dataframe thead th {\n",
       "        text-align: right;\n",
       "    }\n",
       "</style>\n",
       "<table border=\"1\" class=\"dataframe\">\n",
       "  <thead>\n",
       "    <tr style=\"text-align: right;\">\n",
       "      <th></th>\n",
       "      <th>attachment_key</th>\n",
       "      <th>size_mb</th>\n",
       "      <th>height</th>\n",
       "      <th>width</th>\n",
       "      <th>h_to_w</th>\n",
       "      <th>filetype</th>\n",
       "      <th>pixel_array</th>\n",
       "      <th>filename</th>\n",
       "      <th>logo</th>\n",
       "    </tr>\n",
       "  </thead>\n",
       "  <tbody>\n",
       "    <tr>\n",
       "      <th>0</th>\n",
       "      <td>00xjny6u</td>\n",
       "      <td>0.011849</td>\n",
       "      <td>520.0</td>\n",
       "      <td>506.0</td>\n",
       "      <td>1.027668</td>\n",
       "      <td>png</td>\n",
       "      <td>[0.5923961, 0.54204315, 0.51498044, 0.5923961,...</td>\n",
       "      <td>Esterdale Theatre - Logo.png</td>\n",
       "      <td>1</td>\n",
       "    </tr>\n",
       "    <tr>\n",
       "      <th>1</th>\n",
       "      <td>04o31jop</td>\n",
       "      <td>0.012610</td>\n",
       "      <td>269.0</td>\n",
       "      <td>396.0</td>\n",
       "      <td>0.679293</td>\n",
       "      <td>png</td>\n",
       "      <td>[0.5923961, 0.54204315, 0.51498044, 0.5923961,...</td>\n",
       "      <td>BLUE_LOGO.png</td>\n",
       "      <td>1</td>\n",
       "    </tr>\n",
       "    <tr>\n",
       "      <th>2</th>\n",
       "      <td>0840h7ox</td>\n",
       "      <td>0.399114</td>\n",
       "      <td>518.0</td>\n",
       "      <td>920.0</td>\n",
       "      <td>0.563044</td>\n",
       "      <td>jpg</td>\n",
       "      <td>[0.106121555, 0.05576863, 0.052235294, 0.09043...</td>\n",
       "      <td>ZEN_LB-5.jpg</td>\n",
       "      <td>0</td>\n",
       "    </tr>\n",
       "    <tr>\n",
       "      <th>3</th>\n",
       "      <td>0awudx2h</td>\n",
       "      <td>0.011226</td>\n",
       "      <td>200.0</td>\n",
       "      <td>200.0</td>\n",
       "      <td>1.000000</td>\n",
       "      <td>jpg</td>\n",
       "      <td>[0.5923961, 0.54204315, 0.51498044, 0.5923961,...</td>\n",
       "      <td>article central 200.jpg</td>\n",
       "      <td>1</td>\n",
       "    </tr>\n",
       "    <tr>\n",
       "      <th>4</th>\n",
       "      <td>0bb8y85h</td>\n",
       "      <td>0.263813</td>\n",
       "      <td>885.0</td>\n",
       "      <td>800.0</td>\n",
       "      <td>1.106250</td>\n",
       "      <td>jpg</td>\n",
       "      <td>[0.5923961, 0.54204315, 0.51498044, 0.5923961,...</td>\n",
       "      <td>1116-100_WGTank_white.jpg</td>\n",
       "      <td>0</td>\n",
       "    </tr>\n",
       "  </tbody>\n",
       "</table>\n",
       "</div>"
      ],
      "text/plain": [
       "  attachment_key   size_mb  height  width    h_to_w filetype  \\\n",
       "0       00xjny6u  0.011849   520.0  506.0  1.027668      png   \n",
       "1       04o31jop  0.012610   269.0  396.0  0.679293      png   \n",
       "2       0840h7ox  0.399114   518.0  920.0  0.563044      jpg   \n",
       "3       0awudx2h  0.011226   200.0  200.0  1.000000      jpg   \n",
       "4       0bb8y85h  0.263813   885.0  800.0  1.106250      jpg   \n",
       "\n",
       "                                         pixel_array  \\\n",
       "0  [0.5923961, 0.54204315, 0.51498044, 0.5923961,...   \n",
       "1  [0.5923961, 0.54204315, 0.51498044, 0.5923961,...   \n",
       "2  [0.106121555, 0.05576863, 0.052235294, 0.09043...   \n",
       "3  [0.5923961, 0.54204315, 0.51498044, 0.5923961,...   \n",
       "4  [0.5923961, 0.54204315, 0.51498044, 0.5923961,...   \n",
       "\n",
       "                       filename  logo  \n",
       "0  Esterdale Theatre - Logo.png     1  \n",
       "1                 BLUE_LOGO.png     1  \n",
       "2                  ZEN_LB-5.jpg     0  \n",
       "3       article central 200.jpg     1  \n",
       "4     1116-100_WGTank_white.jpg     0  "
      ]
     },
     "execution_count": 45,
     "metadata": {},
     "output_type": "execute_result"
    }
   ],
   "source": [
    "# Create df that includes column for file type\n",
    "combined_df['filetype'] = filetype_encoding\n",
    "combined_df = combined_df[['attachment_key', 'size_mb', 'height', 'width', 'h_to_w', 'filetype', 'pixel_array', 'filename','logo']]\n",
    "combined_df.head()\n",
    "#warnings.simplefilter(action='ignore', category=SettingWithCopyWarning)"
   ]
  },
  {
   "cell_type": "code",
   "execution_count": 46,
   "metadata": {},
   "outputs": [
    {
     "data": {
      "text/html": [
       "<div>\n",
       "<style scoped>\n",
       "    .dataframe tbody tr th:only-of-type {\n",
       "        vertical-align: middle;\n",
       "    }\n",
       "\n",
       "    .dataframe tbody tr th {\n",
       "        vertical-align: top;\n",
       "    }\n",
       "\n",
       "    .dataframe thead th {\n",
       "        text-align: right;\n",
       "    }\n",
       "</style>\n",
       "<table border=\"1\" class=\"dataframe\">\n",
       "  <thead>\n",
       "    <tr style=\"text-align: right;\">\n",
       "      <th></th>\n",
       "      <th>attachment_key</th>\n",
       "      <th>size_mb</th>\n",
       "      <th>height</th>\n",
       "      <th>width</th>\n",
       "      <th>h_to_w</th>\n",
       "      <th>filetype</th>\n",
       "      <th>pixel_array</th>\n",
       "      <th>filename</th>\n",
       "      <th>logo</th>\n",
       "      <th>jpg</th>\n",
       "      <th>other</th>\n",
       "      <th>png</th>\n",
       "    </tr>\n",
       "  </thead>\n",
       "  <tbody>\n",
       "    <tr>\n",
       "      <th>0</th>\n",
       "      <td>00xjny6u</td>\n",
       "      <td>0.011849</td>\n",
       "      <td>520.0</td>\n",
       "      <td>506.0</td>\n",
       "      <td>1.027668</td>\n",
       "      <td>png</td>\n",
       "      <td>[0.5923961, 0.54204315, 0.51498044, 0.5923961,...</td>\n",
       "      <td>Esterdale Theatre - Logo.png</td>\n",
       "      <td>1</td>\n",
       "      <td>0</td>\n",
       "      <td>0</td>\n",
       "      <td>1</td>\n",
       "    </tr>\n",
       "    <tr>\n",
       "      <th>1</th>\n",
       "      <td>04o31jop</td>\n",
       "      <td>0.012610</td>\n",
       "      <td>269.0</td>\n",
       "      <td>396.0</td>\n",
       "      <td>0.679293</td>\n",
       "      <td>png</td>\n",
       "      <td>[0.5923961, 0.54204315, 0.51498044, 0.5923961,...</td>\n",
       "      <td>BLUE_LOGO.png</td>\n",
       "      <td>1</td>\n",
       "      <td>0</td>\n",
       "      <td>0</td>\n",
       "      <td>1</td>\n",
       "    </tr>\n",
       "    <tr>\n",
       "      <th>2</th>\n",
       "      <td>0840h7ox</td>\n",
       "      <td>0.399114</td>\n",
       "      <td>518.0</td>\n",
       "      <td>920.0</td>\n",
       "      <td>0.563044</td>\n",
       "      <td>jpg</td>\n",
       "      <td>[0.106121555, 0.05576863, 0.052235294, 0.09043...</td>\n",
       "      <td>ZEN_LB-5.jpg</td>\n",
       "      <td>0</td>\n",
       "      <td>1</td>\n",
       "      <td>0</td>\n",
       "      <td>0</td>\n",
       "    </tr>\n",
       "    <tr>\n",
       "      <th>3</th>\n",
       "      <td>0awudx2h</td>\n",
       "      <td>0.011226</td>\n",
       "      <td>200.0</td>\n",
       "      <td>200.0</td>\n",
       "      <td>1.000000</td>\n",
       "      <td>jpg</td>\n",
       "      <td>[0.5923961, 0.54204315, 0.51498044, 0.5923961,...</td>\n",
       "      <td>article central 200.jpg</td>\n",
       "      <td>1</td>\n",
       "      <td>1</td>\n",
       "      <td>0</td>\n",
       "      <td>0</td>\n",
       "    </tr>\n",
       "    <tr>\n",
       "      <th>4</th>\n",
       "      <td>0bb8y85h</td>\n",
       "      <td>0.263813</td>\n",
       "      <td>885.0</td>\n",
       "      <td>800.0</td>\n",
       "      <td>1.106250</td>\n",
       "      <td>jpg</td>\n",
       "      <td>[0.5923961, 0.54204315, 0.51498044, 0.5923961,...</td>\n",
       "      <td>1116-100_WGTank_white.jpg</td>\n",
       "      <td>0</td>\n",
       "      <td>1</td>\n",
       "      <td>0</td>\n",
       "      <td>0</td>\n",
       "    </tr>\n",
       "  </tbody>\n",
       "</table>\n",
       "</div>"
      ],
      "text/plain": [
       "  attachment_key   size_mb  height  width    h_to_w filetype  \\\n",
       "0       00xjny6u  0.011849   520.0  506.0  1.027668      png   \n",
       "1       04o31jop  0.012610   269.0  396.0  0.679293      png   \n",
       "2       0840h7ox  0.399114   518.0  920.0  0.563044      jpg   \n",
       "3       0awudx2h  0.011226   200.0  200.0  1.000000      jpg   \n",
       "4       0bb8y85h  0.263813   885.0  800.0  1.106250      jpg   \n",
       "\n",
       "                                         pixel_array  \\\n",
       "0  [0.5923961, 0.54204315, 0.51498044, 0.5923961,...   \n",
       "1  [0.5923961, 0.54204315, 0.51498044, 0.5923961,...   \n",
       "2  [0.106121555, 0.05576863, 0.052235294, 0.09043...   \n",
       "3  [0.5923961, 0.54204315, 0.51498044, 0.5923961,...   \n",
       "4  [0.5923961, 0.54204315, 0.51498044, 0.5923961,...   \n",
       "\n",
       "                       filename  logo  jpg  other  png  \n",
       "0  Esterdale Theatre - Logo.png     1    0      0    1  \n",
       "1                 BLUE_LOGO.png     1    0      0    1  \n",
       "2                  ZEN_LB-5.jpg     0    1      0    0  \n",
       "3       article central 200.jpg     1    1      0    0  \n",
       "4     1116-100_WGTank_white.jpg     0    1      0    0  "
      ]
     },
     "execution_count": 46,
     "metadata": {},
     "output_type": "execute_result"
    }
   ],
   "source": [
    "# Get dummies for file type\n",
    "filetype_dummies = pd.get_dummies(combined_df.filetype)\n",
    "\n",
    "# add to initial df\n",
    "combined_df = pd.concat((combined_df, filetype_dummies), axis=1)\n",
    "\n",
    "# print head of df\n",
    "combined_df.head()"
   ]
  },
  {
   "cell_type": "markdown",
   "metadata": {},
   "source": [
    "6.3 Scale metadata variables"
   ]
  },
  {
   "cell_type": "code",
   "execution_count": 47,
   "metadata": {},
   "outputs": [],
   "source": [
    "# Scale continuous feature variables\n",
    "combined_df['size_mb'] = preprocessing.scale(combined_df['size_mb'])\n",
    "combined_df['h_to_w'] = preprocessing.scale(combined_df['h_to_w'])\n",
    "combined_df['height'] = preprocessing.scale(combined_df['height'])\n",
    "combined_df['width'] = preprocessing.scale(combined_df['width'])"
   ]
  },
  {
   "cell_type": "markdown",
   "metadata": {},
   "source": [
    "6.4 Create X, y arrays"
   ]
  },
  {
   "cell_type": "code",
   "execution_count": 48,
   "metadata": {},
   "outputs": [
    {
     "data": {
      "text/html": [
       "<div>\n",
       "<style scoped>\n",
       "    .dataframe tbody tr th:only-of-type {\n",
       "        vertical-align: middle;\n",
       "    }\n",
       "\n",
       "    .dataframe tbody tr th {\n",
       "        vertical-align: top;\n",
       "    }\n",
       "\n",
       "    .dataframe thead th {\n",
       "        text-align: right;\n",
       "    }\n",
       "</style>\n",
       "<table border=\"1\" class=\"dataframe\">\n",
       "  <thead>\n",
       "    <tr style=\"text-align: right;\">\n",
       "      <th></th>\n",
       "      <th>attachment_key</th>\n",
       "      <th>pixel_array</th>\n",
       "      <th>size_mb</th>\n",
       "      <th>h_to_w</th>\n",
       "      <th>jpg</th>\n",
       "      <th>png</th>\n",
       "      <th>other</th>\n",
       "      <th>height</th>\n",
       "      <th>width</th>\n",
       "      <th>logo</th>\n",
       "      <th>filetype</th>\n",
       "      <th>filename</th>\n",
       "    </tr>\n",
       "  </thead>\n",
       "  <tbody>\n",
       "    <tr>\n",
       "      <th>0</th>\n",
       "      <td>00xjny6u</td>\n",
       "      <td>[0.5923961, 0.54204315, 0.51498044, 0.5923961,...</td>\n",
       "      <td>-0.366308</td>\n",
       "      <td>0.638439</td>\n",
       "      <td>0</td>\n",
       "      <td>1</td>\n",
       "      <td>0</td>\n",
       "      <td>-0.712708</td>\n",
       "      <td>-0.888611</td>\n",
       "      <td>1</td>\n",
       "      <td>png</td>\n",
       "      <td>Esterdale Theatre - Logo.png</td>\n",
       "    </tr>\n",
       "    <tr>\n",
       "      <th>1</th>\n",
       "      <td>04o31jop</td>\n",
       "      <td>[0.5923961, 0.54204315, 0.51498044, 0.5923961,...</td>\n",
       "      <td>-0.366187</td>\n",
       "      <td>-0.187892</td>\n",
       "      <td>0</td>\n",
       "      <td>1</td>\n",
       "      <td>0</td>\n",
       "      <td>-0.861519</td>\n",
       "      <td>-0.943446</td>\n",
       "      <td>1</td>\n",
       "      <td>png</td>\n",
       "      <td>BLUE_LOGO.png</td>\n",
       "    </tr>\n",
       "    <tr>\n",
       "      <th>2</th>\n",
       "      <td>0840h7ox</td>\n",
       "      <td>[0.106121555, 0.05576863, 0.052235294, 0.09043...</td>\n",
       "      <td>-0.304882</td>\n",
       "      <td>-0.463630</td>\n",
       "      <td>1</td>\n",
       "      <td>0</td>\n",
       "      <td>0</td>\n",
       "      <td>-0.713894</td>\n",
       "      <td>-0.682232</td>\n",
       "      <td>0</td>\n",
       "      <td>jpg</td>\n",
       "      <td>ZEN_LB-5.jpg</td>\n",
       "    </tr>\n",
       "    <tr>\n",
       "      <th>3</th>\n",
       "      <td>0awudx2h</td>\n",
       "      <td>[0.5923961, 0.54204315, 0.51498044, 0.5923961,...</td>\n",
       "      <td>-0.366407</td>\n",
       "      <td>0.572811</td>\n",
       "      <td>1</td>\n",
       "      <td>0</td>\n",
       "      <td>0</td>\n",
       "      <td>-0.902427</td>\n",
       "      <td>-1.041152</td>\n",
       "      <td>1</td>\n",
       "      <td>jpg</td>\n",
       "      <td>article central 200.jpg</td>\n",
       "    </tr>\n",
       "    <tr>\n",
       "      <th>4</th>\n",
       "      <td>0bb8y85h</td>\n",
       "      <td>[0.5923961, 0.54204315, 0.51498044, 0.5923961,...</td>\n",
       "      <td>-0.326343</td>\n",
       "      <td>0.824832</td>\n",
       "      <td>1</td>\n",
       "      <td>0</td>\n",
       "      <td>0</td>\n",
       "      <td>-0.496310</td>\n",
       "      <td>-0.742052</td>\n",
       "      <td>0</td>\n",
       "      <td>jpg</td>\n",
       "      <td>1116-100_WGTank_white.jpg</td>\n",
       "    </tr>\n",
       "  </tbody>\n",
       "</table>\n",
       "</div>"
      ],
      "text/plain": [
       "  attachment_key                                        pixel_array   size_mb  \\\n",
       "0       00xjny6u  [0.5923961, 0.54204315, 0.51498044, 0.5923961,... -0.366308   \n",
       "1       04o31jop  [0.5923961, 0.54204315, 0.51498044, 0.5923961,... -0.366187   \n",
       "2       0840h7ox  [0.106121555, 0.05576863, 0.052235294, 0.09043... -0.304882   \n",
       "3       0awudx2h  [0.5923961, 0.54204315, 0.51498044, 0.5923961,... -0.366407   \n",
       "4       0bb8y85h  [0.5923961, 0.54204315, 0.51498044, 0.5923961,... -0.326343   \n",
       "\n",
       "     h_to_w  jpg  png  other    height     width  logo filetype  \\\n",
       "0  0.638439    0    1      0 -0.712708 -0.888611     1      png   \n",
       "1 -0.187892    0    1      0 -0.861519 -0.943446     1      png   \n",
       "2 -0.463630    1    0      0 -0.713894 -0.682232     0      jpg   \n",
       "3  0.572811    1    0      0 -0.902427 -1.041152     1      jpg   \n",
       "4  0.824832    1    0      0 -0.496310 -0.742052     0      jpg   \n",
       "\n",
       "                       filename  \n",
       "0  Esterdale Theatre - Logo.png  \n",
       "1                 BLUE_LOGO.png  \n",
       "2                  ZEN_LB-5.jpg  \n",
       "3       article central 200.jpg  \n",
       "4     1116-100_WGTank_white.jpg  "
      ]
     },
     "execution_count": 48,
     "metadata": {},
     "output_type": "execute_result"
    }
   ],
   "source": [
    "# Organize df to separate into feature arrays\n",
    "combined_df = combined_df[['attachment_key', 'pixel_array', 'size_mb', 'h_to_w', 'jpg', 'png', 'other',\n",
    "                                     'height', 'width', 'logo', 'filetype', 'filename']]\n",
    "combined_df.head()"
   ]
  },
  {
   "cell_type": "code",
   "execution_count": 49,
   "metadata": {},
   "outputs": [
    {
     "name": "stdout",
     "output_type": "stream",
     "text": [
      "(3754, 150528)\n"
     ]
    }
   ],
   "source": [
    "# y array contains logo/not logo binary variable\n",
    "y = np.array(combined_df.iloc[:, 9])\n",
    "\n",
    "# X array contains pixel array only\n",
    "X = np.array(combined_df['pixel_array'].tolist())\n",
    "print(X.shape)\n"
   ]
  },
  {
   "cell_type": "code",
   "execution_count": 50,
   "metadata": {},
   "outputs": [],
   "source": [
    "# Reduce dimensionality of pixel array\n",
    "ss_pixel = StandardScaler()\n",
    "XS = ss_pixel.fit_transform(X)\n",
    "pixel_reduced = reduce(XS,2)\n",
    "X_reduced = pixel_reduced\n",
    "\n",
    "# Reduce dimensionality of non-pixel data\n",
    "nopixel_X = np.array(combined_df.iloc[:, 2:7].values)\n",
    "ss_nopixel = StandardScaler()\n",
    "nopixel_XS = ss_nopixel.fit_transform(nopixel_X)\n",
    "nopixel_reduced = reduce(nopixel_XS,2)\n",
    "\n",
    "# Reduce dimensionality of pixel and non-pixel data\n",
    "combined_X = np.concatenate((nopixel_X, X), axis = 1)\n",
    "ss_combined = StandardScaler()\n",
    "combined_XS = ss_nopixel.fit_transform(combined_X)\n",
    "combined_reduced = reduce(combined_XS,2)\n",
    "\n",
    "colors = ['r' if label == 0 else 'g' for label in y]"
   ]
  },
  {
   "cell_type": "code",
   "execution_count": 31,
   "metadata": {},
   "outputs": [
    {
     "data": {
      "image/png": "[encoded data removed]",
      "text/plain": [
       "<Figure size 576x576 with 1 Axes>"
      ]
     },
     "metadata": {
      "needs_background": "light"
     },
     "output_type": "display_data"
    },
    {
     "data": {
      "image/png": "[encoded data removed]",
      "text/plain": [
       "<Figure size 576x576 with 1 Axes>"
      ]
     },
     "metadata": {
      "needs_background": "light"
     },
     "output_type": "display_data"
    },
    {
     "data": {
      "image/png": "[encoded data removed]",
      "text/plain": [
       "<Figure size 576x576 with 1 Axes>"
      ]
     },
     "metadata": {
      "needs_background": "light"
     },
     "output_type": "display_data"
    }
   ],
   "source": [
    "PCA_visualization(pixel_reduced,'PCA - Pixel Only', colors)\n",
    "PCA_visualization(nopixel_reduced,'PCA - No Pixel Data', colors)\n",
    "PCA_visualization(combined_reduced,'PCA - Pixel and Other Data', colors)\n"
   ]
  },
  {
   "cell_type": "markdown",
   "metadata": {},
   "source": [
    "6.6 Create alternate X arrays with metadata features"
   ]
  },
  {
   "cell_type": "code",
   "execution_count": 51,
   "metadata": {},
   "outputs": [
    {
     "name": "stdout",
     "output_type": "stream",
     "text": [
      "(3754, 9)\n",
      "(3754, 7)\n",
      "(3754, 4)\n",
      "(3754, 5)\n",
      "(3754, 7)\n",
      "(3754, 5)\n",
      "(3754, 150533)\n"
     ]
    }
   ],
   "source": [
    "# Create variations of X array with reduced pixel data and different metadata features\n",
    "\n",
    "# X2 array contains pixel features, size, height, width, h_to_w, filetype dummies\n",
    "X2 = np.concatenate((pixel_reduced, np.array(combined_df.iloc[:, 2:9])),axis=1)\n",
    "print(X2.shape)\n",
    "\n",
    "# X3 array contains pixel features, size, h_to_w, filetype dummies\n",
    "X3 = np.concatenate((pixel_reduced, np.array(combined_df.iloc[:, 2:7])),axis=1)\n",
    "print(X3.shape)\n",
    "\n",
    "# X4 array contains pixel array, size, h_to_w\n",
    "X4 = np.concatenate((pixel_reduced, np.array(combined_df.iloc[:, 2:4])),axis=1)\n",
    "print(X4.shape)\n",
    "\n",
    "# X5 array contains pixel array, filetype dummies \n",
    "X5 = np.concatenate((pixel_reduced, np.array(combined_df.iloc[:, 4:7])),axis=1)\n",
    "print(X5.shape)\n",
    "\n",
    "# X6 array contains size, height, width, h_to_w, filetype\n",
    "X6 = np.array(combined_df.iloc[:, 2:9])\n",
    "print(X6.shape)\n",
    "\n",
    "# X7 array contains size, h_to_w, filetype\n",
    "X7 = np.array(combined_df.iloc[:, 2:7])\n",
    "print(X7.shape)\n",
    "\n",
    "# X8 array contains full pixel array, size, h_to_w, filetype\n",
    "X8 = np.concatenate((X, X7), axis=1)\n",
    "print(X8.shape)"
   ]
  },
  {
   "cell_type": "markdown",
   "metadata": {},
   "source": [
    "6.7 Split each set of features into train, development, and test data"
   ]
  },
  {
   "cell_type": "code",
   "execution_count": 52,
   "metadata": {},
   "outputs": [
    {
     "name": "stdout",
     "output_type": "stream",
     "text": [
      "Train data shape: (2252, 2)\n",
      "Dev data shape: (751, 2)\n",
      "Mini_train data shape: (100, 2)\n",
      "Train data shape: (2252, 9)\n",
      "Dev data shape: (751, 9)\n",
      "Mini_train data shape: (100, 9)\n",
      "Train data shape: (2252, 7)\n",
      "Dev data shape: (751, 7)\n",
      "Mini_train data shape: (100, 7)\n",
      "Train data shape: (2252, 4)\n",
      "Dev data shape: (751, 4)\n",
      "Mini_train data shape: (100, 4)\n",
      "Train data shape: (2252, 5)\n",
      "Dev data shape: (751, 5)\n",
      "Mini_train data shape: (100, 5)\n",
      "Train data shape: (2252, 7)\n",
      "Dev data shape: (751, 7)\n",
      "Mini_train data shape: (100, 7)\n",
      "Train data shape: (2252, 5)\n",
      "Dev data shape: (751, 5)\n",
      "Mini_train data shape: (100, 5)\n",
      "Train data shape: (2252, 150533)\n",
      "Dev data shape: (751, 150533)\n",
      "Mini_train data shape: (100, 150533)\n"
     ]
    }
   ],
   "source": [
    "# Split all feature combinations into train, test data\n",
    "train_data, train_labels, test_data, test_labels, dev_data, dev_labels, mini_train_data, mini_train_labels = data_split(X_reduced, y, 0.4, 100)\n",
    "train_data2, train_labels2, test_data2, test_labels2, dev_data2, dev_labels2, mini_train_data2, mini_train_labels2 = data_split(X2, y, 0.4, 100)\n",
    "train_data3, train_labels3, test_data3, test_labels3, dev_data3, dev_labels3, mini_train_data3, mini_train_labels3 = data_split(X3, y, 0.4, 100)\n",
    "train_data4, train_labels4, test_data4, test_labels4, dev_data4, dev_labels4, mini_train_data4, mini_train_labels4 = data_split(X4, y, 0.4, 100)\n",
    "train_data5, train_labels5, test_data5, test_labels5, dev_data5, dev_labels5, mini_train_data5, mini_train_labels5 = data_split(X5, y, 0.4, 100)\n",
    "train_data6, train_labels6, test_data6, test_labels6, dev_data6, dev_labels6, mini_train_data6, mini_train_labels6 = data_split(X6, y, 0.4, 100)\n",
    "train_data7, train_labels7, test_data7, test_labels7, dev_data7, dev_labels7, mini_train_data7, mini_train_labels7 = data_split(X7, y, 0.4, 100)\n",
    "train_data8, train_labels8, test_data8, test_labels8, dev_data8, dev_labels8, mini_train_data8, mini_train_labels8 = data_split(X8, y, 0.4, 100)"
   ]
  },
  {
   "cell_type": "markdown",
   "metadata": {},
   "source": [
    "**Step 7: Logistic Regression**"
   ]
  },
  {
   "cell_type": "markdown",
   "metadata": {},
   "source": [
    "7.1 Run logistic regression for pixel data only"
   ]
  },
  {
   "cell_type": "code",
   "execution_count": 34,
   "metadata": {},
   "outputs": [
    {
     "name": "stdout",
     "output_type": "stream",
     "text": [
      "Features: pixel features only\n",
      "Best Accuracy: 0.583, c=0.001\n"
     ]
    }
   ],
   "source": [
    "# Pixel array only\n",
    "# Run LR and output best accuracy with c value\n",
    "print('Features: pixel features only\\nBest Accuracy: {}, c={}'.format(\n",
    "    LR_accuracy_c(train_data, train_labels, dev_data, dev_labels)[0],\n",
    "    LR_accuracy_c(train_data, train_labels, dev_data, dev_labels)[1]))"
   ]
  },
  {
   "cell_type": "markdown",
   "metadata": {},
   "source": [
    "7.2 Run logistic regression for all feature combinations"
   ]
  },
  {
   "cell_type": "code",
   "execution_count": 35,
   "metadata": {},
   "outputs": [
    {
     "name": "stdout",
     "output_type": "stream",
     "text": [
      "Features: pixel features, size, height, width, h_to_w, filetype dummies\n",
      "Best Accuracy: 0.857, c=0.1\n",
      "\n",
      "Features: pixel features, size, h_to_w, filetype dummies\n",
      "Best Accuracy: 0.852, c=0.3\n",
      "\n",
      "Features: pixel features, size, h_to_w\n",
      "Best Accuracy: 0.768, c=0.3\n",
      "\n",
      "Features: pixel features, filetype dummies\n",
      "Best Accuracy: 0.82, c=0.1\n",
      "\n",
      "Features: size, height, width, h_to_w, filetype\n",
      "Best Accuracy: 0.845, c=0.1\n",
      "\n",
      "Features: size, h_to_w, filetype\n",
      "Best Accuracy: 0.849, c=0.01\n",
      "\n"
     ]
    }
   ],
   "source": [
    "# Run LR and output best accuracies with c values for each combination of features\n",
    "print('Features: pixel features, size, height, width, h_to_w, filetype dummies\\nBest Accuracy: {}, c={}\\n'.format(\n",
    "    LR_accuracy_c(train_data2, train_labels2, dev_data2, dev_labels2)[0],\n",
    "    LR_accuracy_c(train_data2, train_labels2, dev_data2, dev_labels2)[1]))\n",
    "\n",
    "print('Features: pixel features, size, h_to_w, filetype dummies\\nBest Accuracy: {}, c={}\\n'.format(\n",
    "    LR_accuracy_c(train_data3, train_labels3, dev_data3, dev_labels3)[0],\n",
    "    LR_accuracy_c(train_data3, train_labels3, dev_data3, dev_labels3)[1]))\n",
    "\n",
    "print('Features: pixel features, size, h_to_w\\nBest Accuracy: {}, c={}\\n'.format(\n",
    "    LR_accuracy_c(train_data4, train_labels4, dev_data4, dev_labels4)[0],\n",
    "    LR_accuracy_c(train_data4, train_labels4, dev_data4, dev_labels4)[1]))\n",
    "\n",
    "print('Features: pixel features, filetype dummies\\nBest Accuracy: {}, c={}\\n'.format(\n",
    "    LR_accuracy_c(train_data5, train_labels5, dev_data5, dev_labels5)[0],\n",
    "    LR_accuracy_c(train_data5, train_labels5, dev_data5, dev_labels5)[1]))\n",
    "\n",
    "print('Features: size, height, width, h_to_w, filetype\\nBest Accuracy: {}, c={}\\n'.format(\n",
    "    LR_accuracy_c(train_data6, train_labels6, dev_data6, dev_labels6)[0],\n",
    "    LR_accuracy_c(train_data6, train_labels6, dev_data6, dev_labels6)[1]))\n",
    "\n",
    "print('Features: size, h_to_w, filetype\\nBest Accuracy: {}, c={}\\n'.format(\n",
    "    LR_accuracy_c(train_data7, train_labels7, dev_data7, dev_labels7)[0],\n",
    "    LR_accuracy_c(train_data7, train_labels7, dev_data7, dev_labels7)[1]))"
   ]
  },
  {
   "cell_type": "code",
   "execution_count": 54,
   "metadata": {},
   "outputs": [
    {
     "ename": "KeyboardInterrupt",
     "evalue": "",
     "output_type": "error",
     "traceback": [
      "\u001b[0;31m---------------------------------------------------------------------------\u001b[0m",
      "\u001b[0;31mKeyboardInterrupt\u001b[0m                         Traceback (most recent call last)",
      "\u001b[0;32m<ipython-input-54-e7dcd03f9a8d>\u001b[0m in \u001b[0;36m<module>\u001b[0;34m\u001b[0m\n\u001b[1;32m      1\u001b[0m \u001b[0;31m#Determine best k value for PCA of pixel data\u001b[0m\u001b[0;34m\u001b[0m\u001b[0;34m\u001b[0m\u001b[0;34m\u001b[0m\u001b[0m\n\u001b[1;32m      2\u001b[0m \u001b[0mk_list\u001b[0m \u001b[0;34m=\u001b[0m \u001b[0;34m[\u001b[0m\u001b[0mi\u001b[0m \u001b[0;32mfor\u001b[0m \u001b[0mi\u001b[0m \u001b[0;32min\u001b[0m \u001b[0mrange\u001b[0m\u001b[0;34m(\u001b[0m\u001b[0;36m1\u001b[0m\u001b[0;34m,\u001b[0m\u001b[0;36m15\u001b[0m\u001b[0;34m)\u001b[0m\u001b[0;34m]\u001b[0m\u001b[0;34m\u001b[0m\u001b[0;34m\u001b[0m\u001b[0m\n\u001b[0;32m----> 3\u001b[0;31m \u001b[0mlogreg_results\u001b[0m \u001b[0;34m=\u001b[0m \u001b[0mPCA_k_optimize\u001b[0m\u001b[0;34m(\u001b[0m\u001b[0mtrain_data8\u001b[0m\u001b[0;34m,\u001b[0m \u001b[0mtrain_labels8\u001b[0m\u001b[0;34m,\u001b[0m \u001b[0mdev_data8\u001b[0m\u001b[0;34m,\u001b[0m \u001b[0mdev_labels8\u001b[0m\u001b[0;34m,\u001b[0m \u001b[0mk_list\u001b[0m\u001b[0;34m)\u001b[0m\u001b[0;34m\u001b[0m\u001b[0;34m\u001b[0m\u001b[0m\n\u001b[0m\u001b[1;32m      4\u001b[0m \u001b[0maccuracies\u001b[0m \u001b[0;34m=\u001b[0m \u001b[0mlogreg_results\u001b[0m\u001b[0;34m[\u001b[0m\u001b[0;36m0\u001b[0m\u001b[0;34m]\u001b[0m\u001b[0;34m\u001b[0m\u001b[0;34m\u001b[0m\u001b[0m\n\u001b[1;32m      5\u001b[0m \u001b[0mc_vals\u001b[0m \u001b[0;34m=\u001b[0m \u001b[0mlogreg_results\u001b[0m\u001b[0;34m[\u001b[0m\u001b[0;36m1\u001b[0m\u001b[0;34m]\u001b[0m\u001b[0;34m\u001b[0m\u001b[0;34m\u001b[0m\u001b[0m\n",
      "\u001b[0;32m<ipython-input-28-51fe9d84ee24>\u001b[0m in \u001b[0;36mPCA_k_optimize\u001b[0;34m(train_X, train_Y, dev_X, dev_Y, k_list)\u001b[0m\n\u001b[1;32m     13\u001b[0m         \u001b[0mdev_pixel_s\u001b[0m \u001b[0;34m=\u001b[0m \u001b[0mss\u001b[0m\u001b[0;34m.\u001b[0m\u001b[0mtransform\u001b[0m\u001b[0;34m(\u001b[0m\u001b[0mdev_pixel\u001b[0m\u001b[0;34m)\u001b[0m\u001b[0;34m\u001b[0m\u001b[0;34m\u001b[0m\u001b[0m\n\u001b[1;32m     14\u001b[0m         \u001b[0mpca\u001b[0m \u001b[0;34m=\u001b[0m \u001b[0mPCA\u001b[0m\u001b[0;34m(\u001b[0m\u001b[0mn_components\u001b[0m \u001b[0;34m=\u001b[0m \u001b[0mk\u001b[0m\u001b[0;34m)\u001b[0m\u001b[0;34m\u001b[0m\u001b[0;34m\u001b[0m\u001b[0m\n\u001b[0;32m---> 15\u001b[0;31m         \u001b[0mtrain_pixel_reduced\u001b[0m \u001b[0;34m=\u001b[0m \u001b[0mpca\u001b[0m\u001b[0;34m.\u001b[0m\u001b[0mfit_transform\u001b[0m\u001b[0;34m(\u001b[0m\u001b[0mtrain_pixel_s\u001b[0m\u001b[0;34m)\u001b[0m\u001b[0;34m\u001b[0m\u001b[0;34m\u001b[0m\u001b[0m\n\u001b[0m\u001b[1;32m     16\u001b[0m         \u001b[0mdev_pixel_reduced\u001b[0m \u001b[0;34m=\u001b[0m \u001b[0mpca\u001b[0m\u001b[0;34m.\u001b[0m\u001b[0mtransform\u001b[0m\u001b[0;34m(\u001b[0m\u001b[0mdev_pixel_s\u001b[0m\u001b[0;34m)\u001b[0m\u001b[0;34m\u001b[0m\u001b[0;34m\u001b[0m\u001b[0m\n\u001b[1;32m     17\u001b[0m         \u001b[0;31m#Concatenate reduced pixel data back with non pixel data\u001b[0m\u001b[0;34m\u001b[0m\u001b[0;34m\u001b[0m\u001b[0;34m\u001b[0m\u001b[0m\n",
      "\u001b[0;32m~/anaconda3/lib/python3.7/site-packages/sklearn/decomposition/pca.py\u001b[0m in \u001b[0;36mfit_transform\u001b[0;34m(self, X, y)\u001b[0m\n\u001b[1;32m    358\u001b[0m \u001b[0;34m\u001b[0m\u001b[0m\n\u001b[1;32m    359\u001b[0m         \"\"\"\n\u001b[0;32m--> 360\u001b[0;31m         \u001b[0mU\u001b[0m\u001b[0;34m,\u001b[0m \u001b[0mS\u001b[0m\u001b[0;34m,\u001b[0m \u001b[0mV\u001b[0m \u001b[0;34m=\u001b[0m \u001b[0mself\u001b[0m\u001b[0;34m.\u001b[0m\u001b[0m_fit\u001b[0m\u001b[0;34m(\u001b[0m\u001b[0mX\u001b[0m\u001b[0;34m)\u001b[0m\u001b[0;34m\u001b[0m\u001b[0;34m\u001b[0m\u001b[0m\n\u001b[0m\u001b[1;32m    361\u001b[0m         \u001b[0mU\u001b[0m \u001b[0;34m=\u001b[0m \u001b[0mU\u001b[0m\u001b[0;34m[\u001b[0m\u001b[0;34m:\u001b[0m\u001b[0;34m,\u001b[0m \u001b[0;34m:\u001b[0m\u001b[0mself\u001b[0m\u001b[0;34m.\u001b[0m\u001b[0mn_components_\u001b[0m\u001b[0;34m]\u001b[0m\u001b[0;34m\u001b[0m\u001b[0;34m\u001b[0m\u001b[0m\n\u001b[1;32m    362\u001b[0m \u001b[0;34m\u001b[0m\u001b[0m\n",
      "\u001b[0;32m~/anaconda3/lib/python3.7/site-packages/sklearn/decomposition/pca.py\u001b[0m in \u001b[0;36m_fit\u001b[0;34m(self, X)\u001b[0m\n\u001b[1;32m    380\u001b[0m \u001b[0;34m\u001b[0m\u001b[0m\n\u001b[1;32m    381\u001b[0m         X = check_array(X, dtype=[np.float64, np.float32], ensure_2d=True,\n\u001b[0;32m--> 382\u001b[0;31m                         copy=self.copy)\n\u001b[0m\u001b[1;32m    383\u001b[0m \u001b[0;34m\u001b[0m\u001b[0m\n\u001b[1;32m    384\u001b[0m         \u001b[0;31m# Handle n_components==None\u001b[0m\u001b[0;34m\u001b[0m\u001b[0;34m\u001b[0m\u001b[0;34m\u001b[0m\u001b[0m\n",
      "\u001b[0;32m~/anaconda3/lib/python3.7/site-packages/sklearn/utils/validation.py\u001b[0m in \u001b[0;36mcheck_array\u001b[0;34m(array, accept_sparse, accept_large_sparse, dtype, order, copy, force_all_finite, ensure_2d, allow_nd, ensure_min_samples, ensure_min_features, warn_on_dtype, estimator)\u001b[0m\n\u001b[1;32m    540\u001b[0m         \u001b[0;32mif\u001b[0m \u001b[0mforce_all_finite\u001b[0m\u001b[0;34m:\u001b[0m\u001b[0;34m\u001b[0m\u001b[0;34m\u001b[0m\u001b[0m\n\u001b[1;32m    541\u001b[0m             _assert_all_finite(array,\n\u001b[0;32m--> 542\u001b[0;31m                                allow_nan=force_all_finite == 'allow-nan')\n\u001b[0m\u001b[1;32m    543\u001b[0m \u001b[0;34m\u001b[0m\u001b[0m\n\u001b[1;32m    544\u001b[0m     \u001b[0;32mif\u001b[0m \u001b[0mensure_min_samples\u001b[0m \u001b[0;34m>\u001b[0m \u001b[0;36m0\u001b[0m\u001b[0;34m:\u001b[0m\u001b[0;34m\u001b[0m\u001b[0;34m\u001b[0m\u001b[0m\n",
      "\u001b[0;32m~/anaconda3/lib/python3.7/site-packages/sklearn/utils/validation.py\u001b[0m in \u001b[0;36m_assert_all_finite\u001b[0;34m(X, allow_nan)\u001b[0m\n\u001b[1;32m     47\u001b[0m     \u001b[0;31m# safely to reduce dtype induced overflows.\u001b[0m\u001b[0;34m\u001b[0m\u001b[0;34m\u001b[0m\u001b[0;34m\u001b[0m\u001b[0m\n\u001b[1;32m     48\u001b[0m     \u001b[0mis_float\u001b[0m \u001b[0;34m=\u001b[0m \u001b[0mX\u001b[0m\u001b[0;34m.\u001b[0m\u001b[0mdtype\u001b[0m\u001b[0;34m.\u001b[0m\u001b[0mkind\u001b[0m \u001b[0;32min\u001b[0m \u001b[0;34m'fc'\u001b[0m\u001b[0;34m\u001b[0m\u001b[0;34m\u001b[0m\u001b[0m\n\u001b[0;32m---> 49\u001b[0;31m     \u001b[0;32mif\u001b[0m \u001b[0mis_float\u001b[0m \u001b[0;32mand\u001b[0m \u001b[0;34m(\u001b[0m\u001b[0mnp\u001b[0m\u001b[0;34m.\u001b[0m\u001b[0misfinite\u001b[0m\u001b[0;34m(\u001b[0m\u001b[0m_safe_accumulator_op\u001b[0m\u001b[0;34m(\u001b[0m\u001b[0mnp\u001b[0m\u001b[0;34m.\u001b[0m\u001b[0msum\u001b[0m\u001b[0;34m,\u001b[0m \u001b[0mX\u001b[0m\u001b[0;34m)\u001b[0m\u001b[0;34m)\u001b[0m\u001b[0;34m)\u001b[0m\u001b[0;34m:\u001b[0m\u001b[0;34m\u001b[0m\u001b[0;34m\u001b[0m\u001b[0m\n\u001b[0m\u001b[1;32m     50\u001b[0m         \u001b[0;32mpass\u001b[0m\u001b[0;34m\u001b[0m\u001b[0;34m\u001b[0m\u001b[0m\n\u001b[1;32m     51\u001b[0m     \u001b[0;32melif\u001b[0m \u001b[0mis_float\u001b[0m\u001b[0;34m:\u001b[0m\u001b[0;34m\u001b[0m\u001b[0;34m\u001b[0m\u001b[0m\n",
      "\u001b[0;32m~/anaconda3/lib/python3.7/site-packages/sklearn/utils/extmath.py\u001b[0m in \u001b[0;36m_safe_accumulator_op\u001b[0;34m(op, x, *args, **kwargs)\u001b[0m\n\u001b[1;32m    686\u001b[0m         \u001b[0mresult\u001b[0m \u001b[0;34m=\u001b[0m \u001b[0mop\u001b[0m\u001b[0;34m(\u001b[0m\u001b[0mx\u001b[0m\u001b[0;34m,\u001b[0m \u001b[0;34m*\u001b[0m\u001b[0margs\u001b[0m\u001b[0;34m,\u001b[0m \u001b[0;34m**\u001b[0m\u001b[0mkwargs\u001b[0m\u001b[0;34m,\u001b[0m \u001b[0mdtype\u001b[0m\u001b[0;34m=\u001b[0m\u001b[0mnp\u001b[0m\u001b[0;34m.\u001b[0m\u001b[0mfloat64\u001b[0m\u001b[0;34m)\u001b[0m\u001b[0;34m\u001b[0m\u001b[0;34m\u001b[0m\u001b[0m\n\u001b[1;32m    687\u001b[0m     \u001b[0;32melse\u001b[0m\u001b[0;34m:\u001b[0m\u001b[0;34m\u001b[0m\u001b[0;34m\u001b[0m\u001b[0m\n\u001b[0;32m--> 688\u001b[0;31m         \u001b[0mresult\u001b[0m \u001b[0;34m=\u001b[0m \u001b[0mop\u001b[0m\u001b[0;34m(\u001b[0m\u001b[0mx\u001b[0m\u001b[0;34m,\u001b[0m \u001b[0;34m*\u001b[0m\u001b[0margs\u001b[0m\u001b[0;34m,\u001b[0m \u001b[0;34m**\u001b[0m\u001b[0mkwargs\u001b[0m\u001b[0;34m)\u001b[0m\u001b[0;34m\u001b[0m\u001b[0;34m\u001b[0m\u001b[0m\n\u001b[0m\u001b[1;32m    689\u001b[0m     \u001b[0;32mreturn\u001b[0m \u001b[0mresult\u001b[0m\u001b[0;34m\u001b[0m\u001b[0;34m\u001b[0m\u001b[0m\n\u001b[1;32m    690\u001b[0m \u001b[0;34m\u001b[0m\u001b[0m\n",
      "\u001b[0;32m~/anaconda3/lib/python3.7/site-packages/numpy/core/fromnumeric.py\u001b[0m in \u001b[0;36msum\u001b[0;34m(a, axis, dtype, out, keepdims, initial)\u001b[0m\n\u001b[1;32m   2074\u001b[0m \u001b[0;34m\u001b[0m\u001b[0m\n\u001b[1;32m   2075\u001b[0m     return _wrapreduction(a, np.add, 'sum', axis, dtype, out, keepdims=keepdims,\n\u001b[0;32m-> 2076\u001b[0;31m                           initial=initial)\n\u001b[0m\u001b[1;32m   2077\u001b[0m \u001b[0;34m\u001b[0m\u001b[0m\n\u001b[1;32m   2078\u001b[0m \u001b[0;34m\u001b[0m\u001b[0m\n",
      "\u001b[0;32m~/anaconda3/lib/python3.7/site-packages/numpy/core/fromnumeric.py\u001b[0m in \u001b[0;36m_wrapreduction\u001b[0;34m(obj, ufunc, method, axis, dtype, out, **kwargs)\u001b[0m\n\u001b[1;32m     84\u001b[0m                 \u001b[0;32mreturn\u001b[0m \u001b[0mreduction\u001b[0m\u001b[0;34m(\u001b[0m\u001b[0maxis\u001b[0m\u001b[0;34m=\u001b[0m\u001b[0maxis\u001b[0m\u001b[0;34m,\u001b[0m \u001b[0mout\u001b[0m\u001b[0;34m=\u001b[0m\u001b[0mout\u001b[0m\u001b[0;34m,\u001b[0m \u001b[0;34m**\u001b[0m\u001b[0mpasskwargs\u001b[0m\u001b[0;34m)\u001b[0m\u001b[0;34m\u001b[0m\u001b[0;34m\u001b[0m\u001b[0m\n\u001b[1;32m     85\u001b[0m \u001b[0;34m\u001b[0m\u001b[0m\n\u001b[0;32m---> 86\u001b[0;31m     \u001b[0;32mreturn\u001b[0m \u001b[0mufunc\u001b[0m\u001b[0;34m.\u001b[0m\u001b[0mreduce\u001b[0m\u001b[0;34m(\u001b[0m\u001b[0mobj\u001b[0m\u001b[0;34m,\u001b[0m \u001b[0maxis\u001b[0m\u001b[0;34m,\u001b[0m \u001b[0mdtype\u001b[0m\u001b[0;34m,\u001b[0m \u001b[0mout\u001b[0m\u001b[0;34m,\u001b[0m \u001b[0;34m**\u001b[0m\u001b[0mpasskwargs\u001b[0m\u001b[0;34m)\u001b[0m\u001b[0;34m\u001b[0m\u001b[0;34m\u001b[0m\u001b[0m\n\u001b[0m\u001b[1;32m     87\u001b[0m \u001b[0;34m\u001b[0m\u001b[0m\n\u001b[1;32m     88\u001b[0m \u001b[0;34m\u001b[0m\u001b[0m\n",
      "\u001b[0;31mKeyboardInterrupt\u001b[0m: "
     ]
    }
   ],
   "source": [
    "#Determine best k value for PCA of pixel data\n",
    "k_list = [i for i in range(1,15)]\n",
    "logreg_results = PCA_k_optimize(train_data8, train_labels8, dev_data8, dev_labels8, k_list)\n",
    "accuracies = logreg_results[0]\n",
    "c_vals = logreg_results[1]\n",
    "max_index = accuracies.index(max(accuracies))\n",
    "max_acc = accuracies[max_index]\n",
    "max_c = c_vals[max_index]\n",
    "max_k = k_list[max_index]\n",
    "print('Features: pixel array reduced to {0} dimensions, size, h_to_w, filetype\\nBest Accuracy: {1}, c={2}\\n'.format(max_k, max_acc, max_c))"
   ]
  },
  {
   "cell_type": "code",
   "execution_count": 55,
   "metadata": {},
   "outputs": [
    {
     "name": "stdout",
     "output_type": "stream",
     "text": [
      "(3754, 6)\n",
      "Train data shape: (2252, 6)\n",
      "Dev data shape: (751, 6)\n",
      "Mini_train data shape: (100, 6)\n"
     ]
    }
   ],
   "source": [
    "# Create new train/test data with optimized k value for pixel data\n",
    "reduce_pixel_k = reduce(X, max_k)\n",
    "\n",
    "X9 = np.concatenate((reduce_pixel_k, X7), axis=1)\n",
    "print(X9.shape)\n",
    "train_data9, train_labels9, test_data9, test_labels9, dev_data9, dev_labels9, mini_train_data9, mini_train_labels9 = data_split(X9, y, 0.4, 100)"
   ]
  },
  {
   "cell_type": "code",
   "execution_count": 38,
   "metadata": {},
   "outputs": [
    {
     "data": {
      "image/png": "[encoded data removed]",
      "text/plain": [
       "<Figure size 576x576 with 1 Axes>"
      ]
     },
     "metadata": {
      "needs_background": "light"
     },
     "output_type": "display_data"
    }
   ],
   "source": [
    "fig = plt.figure(figsize = (8,8))\n",
    "ax = fig.add_subplot(1,1,1) \n",
    "ax.set_xlabel('PCA k value', fontsize = 15)\n",
    "ax.set_ylabel('Max accuracy', fontsize = 15)\n",
    "ax.set_title(\"PCA k value vs. maximum accuracy\", fontsize = 20)\n",
    "ax.scatter(k_list, accuracies, s = 25)\n",
    "for c in c_vals:\n",
    "    plt.annotate(\"C={}\".format(c), (k_list[c_vals.index(c)], accuracies[c_vals.index(c)]), textcoords=\"offset points\", xytext=(0,10), ha='center')\n",
    "ax.grid()"
   ]
  },
  {
   "cell_type": "markdown",
   "metadata": {},
   "source": [
    "**Step 8: Multilayer NN**"
   ]
  },
  {
   "cell_type": "markdown",
   "metadata": {},
   "source": [
    "8.1 Build a single-layer dense neural network using Keras Tuner so that we can easily tune the hyperparameters."
   ]
  },
  {
   "cell_type": "code",
   "execution_count": 74,
   "metadata": {},
   "outputs": [],
   "source": [
    "# Instantiate the tuner to perform hypertuning using the Hyperband tuner and the model_builder function we defined initially.\n",
    "tuner = kt.Hyperband(model_builder,\n",
    "                     objective = 'val_accuracy', \n",
    "                     max_epochs = 10,\n",
    "                     factor = 3,\n",
    "                     directory = 'C:/Users/user/Documents/Berkeley_MIDS/W207_Machine_Learning/w207_final_project',\n",
    "                     project_name = 'keras_tuner_results')    "
   ]
  },
  {
   "cell_type": "code",
   "execution_count": 75,
   "metadata": {},
   "outputs": [
    {
     "data": {
      "text/html": [
       "<span style=\"color:#4527A0\"><h1 style=\"font-size:18px\">Trial complete</h1></span>"
      ],
      "text/plain": [
       "<IPython.core.display.HTML object>"
      ]
     },
     "metadata": {},
     "output_type": "display_data"
    },
    {
     "data": {
      "text/html": [
       "<span style=\"color:#4527A0\"><h1 style=\"font-size:18px\">Trial summary</h1></span>"
      ],
      "text/plain": [
       "<IPython.core.display.HTML object>"
      ]
     },
     "metadata": {},
     "output_type": "display_data"
    },
    {
     "data": {
      "text/html": [
       "<span style=\"color:cyan\"> |-Trial ID: 01df5a15e53d0a33231ca043abc7ba30</span>"
      ],
      "text/plain": [
       "<IPython.core.display.HTML object>"
      ]
     },
     "metadata": {},
     "output_type": "display_data"
    },
    {
     "data": {
      "text/html": [
       "<span style=\"color:cyan\"> |-Score: 0.8482024073600769</span>"
      ],
      "text/plain": [
       "<IPython.core.display.HTML object>"
      ]
     },
     "metadata": {},
     "output_type": "display_data"
    },
    {
     "data": {
      "text/html": [
       "<span style=\"color:cyan\"> |-Best step: 0</span>"
      ],
      "text/plain": [
       "<IPython.core.display.HTML object>"
      ]
     },
     "metadata": {},
     "output_type": "display_data"
    },
    {
     "data": {
      "text/html": [
       "<span style=\"color:#7E57C2\"><h2 style=\"font-size:16px\">Hyperparameters:</h2></span>"
      ],
      "text/plain": [
       "<IPython.core.display.HTML object>"
      ]
     },
     "metadata": {},
     "output_type": "display_data"
    },
    {
     "data": {
      "text/html": [
       "<span style=\"color:cyan\"> |-learning_rate: 0.001</span>"
      ],
      "text/plain": [
       "<IPython.core.display.HTML object>"
      ]
     },
     "metadata": {},
     "output_type": "display_data"
    },
    {
     "data": {
      "text/html": [
       "<span style=\"color:blue\"> |-tuner/bracket: 0</span>"
      ],
      "text/plain": [
       "<IPython.core.display.HTML object>"
      ]
     },
     "metadata": {},
     "output_type": "display_data"
    },
    {
     "data": {
      "text/html": [
       "<span style=\"color:cyan\"> |-tuner/epochs: 10</span>"
      ],
      "text/plain": [
       "<IPython.core.display.HTML object>"
      ]
     },
     "metadata": {},
     "output_type": "display_data"
    },
    {
     "data": {
      "text/html": [
       "<span style=\"color:blue\"> |-tuner/initial_epoch: 0</span>"
      ],
      "text/plain": [
       "<IPython.core.display.HTML object>"
      ]
     },
     "metadata": {},
     "output_type": "display_data"
    },
    {
     "data": {
      "text/html": [
       "<span style=\"color:cyan\"> |-tuner/round: 0</span>"
      ],
      "text/plain": [
       "<IPython.core.display.HTML object>"
      ]
     },
     "metadata": {},
     "output_type": "display_data"
    },
    {
     "data": {
      "text/html": [
       "<span style=\"color:blue\"> |-units: 512</span>"
      ],
      "text/plain": [
       "<IPython.core.display.HTML object>"
      ]
     },
     "metadata": {},
     "output_type": "display_data"
    },
    {
     "name": "stdout",
     "output_type": "stream",
     "text": [
      "INFO:tensorflow:Oracle triggered exit\n",
      "\n",
      "The hyperparameter search is complete. The optimal number of units in the first densely-connected\n",
      "layer is 384 and the optimal learning rate for the optimizer\n",
      "is 0.001.\n",
      "\n"
     ]
    }
   ],
   "source": [
    "# Run the hyperparameter search\n",
    "tuner.search(train_data9, train_labels9, epochs = 10, validation_data = (dev_data9, dev_labels9), callbacks = [ClearTrainingOutput()])\n",
    "\n",
    "# Get the optimal hyperparameters\n",
    "best_hps = tuner.get_best_hyperparameters(num_trials = 1)[0]\n",
    "\n",
    "# Print the results\n",
    "print(f\"\"\"\n",
    "The hyperparameter search is complete. The optimal number of units in the first densely-connected\n",
    "layer is {best_hps.get('units')} and the optimal learning rate for the optimizer\n",
    "is {best_hps.get('learning_rate')}.\n",
    "\"\"\")"
   ]
  },
  {
   "cell_type": "code",
   "execution_count": 76,
   "metadata": {},
   "outputs": [
    {
     "name": "stdout",
     "output_type": "stream",
     "text": [
      "Epoch 1/10\n",
      "71/71 [==============================] - ETA: 0s - loss: 0.7996 - accuracy: 0.50 - ETA: 0s - loss: 0.6655 - accuracy: 0.62 - 0s 2ms/step - loss: 0.6582 - accuracy: 0.6337 - val_loss: 0.6182 - val_accuracy: 0.6804\n",
      "Epoch 2/10\n",
      "71/71 [==============================] - ETA: 0s - loss: 0.6029 - accuracy: 0.71 - ETA: 0s - loss: 0.5493 - accuracy: 0.77 - 0s 1ms/step - loss: 0.5420 - accuracy: 0.7789 - val_loss: 0.5108 - val_accuracy: 0.7976\n",
      "Epoch 3/10\n",
      "71/71 [==============================] - ETA: 0s - loss: 0.4573 - accuracy: 0.90 - ETA: 0s - loss: 0.5413 - accuracy: 0.77 - 0s 1ms/step - loss: 0.5415 - accuracy: 0.7718 - val_loss: 0.5192 - val_accuracy: 0.8096\n",
      "Epoch 4/10\n",
      "71/71 [==============================] - ETA: 0s - loss: 0.5138 - accuracy: 0.84 - ETA: 0s - loss: 0.5463 - accuracy: 0.75 - 0s 1ms/step - loss: 0.5415 - accuracy: 0.7615 - val_loss: 0.5120 - val_accuracy: 0.7843\n",
      "Epoch 5/10\n",
      "71/71 [==============================] - ETA: 0s - loss: 0.5237 - accuracy: 0.78 - ETA: 0s - loss: 0.5185 - accuracy: 0.79 - 0s 1ms/step - loss: 0.5203 - accuracy: 0.7900 - val_loss: 0.5574 - val_accuracy: 0.7510\n",
      "Epoch 6/10\n",
      "71/71 [==============================] - ETA: 0s - loss: 0.5348 - accuracy: 0.78 - ETA: 0s - loss: 0.4843 - accuracy: 0.82 - 0s 1ms/step - loss: 0.4817 - accuracy: 0.8313 - val_loss: 0.4512 - val_accuracy: 0.8682\n",
      "Epoch 7/10\n",
      "71/71 [==============================] - ETA: 0s - loss: 0.3971 - accuracy: 0.90 - ETA: 0s - loss: 0.4725 - accuracy: 0.83 - 0s 1ms/step - loss: 0.4732 - accuracy: 0.8353 - val_loss: 0.4535 - val_accuracy: 0.8589\n",
      "Epoch 8/10\n",
      "71/71 [==============================] - ETA: 0s - loss: 0.5031 - accuracy: 0.81 - ETA: 0s - loss: 0.4749 - accuracy: 0.84 - 0s 2ms/step - loss: 0.4736 - accuracy: 0.8415 - val_loss: 0.4956 - val_accuracy: 0.8056\n",
      "Epoch 9/10\n",
      "71/71 [==============================] - ETA: 0s - loss: 0.5016 - accuracy: 0.81 - ETA: 0s - loss: 0.4829 - accuracy: 0.82 - 0s 1ms/step - loss: 0.4806 - accuracy: 0.8286 - val_loss: 0.4668 - val_accuracy: 0.8336\n",
      "Epoch 10/10\n",
      "71/71 [==============================] - ETA: 0s - loss: 0.5283 - accuracy: 0.78 - ETA: 0s - loss: 0.4725 - accuracy: 0.83 - 0s 1ms/step - loss: 0.4759 - accuracy: 0.8344 - val_loss: 0.4885 - val_accuracy: 0.8096\n"
     ]
    },
    {
     "data": {
      "text/plain": [
       "<tensorflow.python.keras.callbacks.History at 0x7f79bd3b6a20>"
      ]
     },
     "execution_count": 76,
     "metadata": {},
     "output_type": "execute_result"
    }
   ],
   "source": [
    "# Build the model with the optimal hyperparameters and train it on the data\n",
    "model = tuner.hypermodel.build(best_hps)\n",
    "model.fit(train_data9, train_labels9, epochs = 10, validation_data = (dev_data9, dev_labels9))"
   ]
  },
  {
   "cell_type": "markdown",
   "metadata": {},
   "source": [
    "8.2 Build a multi-layer dense neural network."
   ]
  },
  {
   "cell_type": "code",
   "execution_count": 113,
   "metadata": {},
   "outputs": [
    {
     "name": "stdout",
     "output_type": "stream",
     "text": [
      "Epoch 1/50\n",
      "71/71 [==============================] - ETA: 0s - loss: 1.0945 - accuracy: 0.56 - ETA: 0s - loss: 1.7258 - accuracy: 0.59 - 0s 1ms/step - loss: 1.6300 - accuracy: 0.6017\n",
      "Epoch 2/50\n",
      "71/71 [==============================] - ETA: 0s - loss: 1.9373 - accuracy: 0.65 - ETA: 0s - loss: 1.1947 - accuracy: 0.67 - 0s 943us/step - loss: 1.1737 - accuracy: 0.6825\n",
      "Epoch 3/50\n",
      "71/71 [==============================] - ETA: 0s - loss: 1.1524 - accuracy: 0.75 - ETA: 0s - loss: 0.9579 - accuracy: 0.72 - 0s 926us/step - loss: 0.9444 - accuracy: 0.7300\n",
      "Epoch 4/50\n",
      "71/71 [==============================] - ETA: 0s - loss: 1.0251 - accuracy: 0.62 - ETA: 0s - loss: 0.7984 - accuracy: 0.74 - 0s 950us/step - loss: 0.7878 - accuracy: 0.7433\n",
      "Epoch 5/50\n",
      "71/71 [==============================] - ETA: 0s - loss: 0.5290 - accuracy: 0.87 - ETA: 0s - loss: 0.7461 - accuracy: 0.76 - 0s 985us/step - loss: 0.7384 - accuracy: 0.7602\n",
      "Epoch 6/50\n",
      "71/71 [==============================] - ETA: 0s - loss: 0.7283 - accuracy: 0.78 - ETA: 0s - loss: 0.6234 - accuracy: 0.78 - 0s 946us/step - loss: 0.6102 - accuracy: 0.7864\n",
      "Epoch 7/50\n",
      "71/71 [==============================] - ETA: 0s - loss: 0.4711 - accuracy: 0.84 - ETA: 0s - loss: 0.6259 - accuracy: 0.77 - 0s 993us/step - loss: 0.6178 - accuracy: 0.7802\n",
      "Epoch 8/50\n",
      "71/71 [==============================] - ETA: 0s - loss: 0.4014 - accuracy: 0.90 - ETA: 0s - loss: 0.5549 - accuracy: 0.79 - 0s 949us/step - loss: 0.5484 - accuracy: 0.7931\n",
      "Epoch 9/50\n",
      "71/71 [==============================] - ETA: 0s - loss: 0.7246 - accuracy: 0.81 - ETA: 0s - loss: 0.5004 - accuracy: 0.79 - 0s 1ms/step - loss: 0.4814 - accuracy: 0.7966\n",
      "Epoch 10/50\n",
      "71/71 [==============================] - ETA: 0s - loss: 0.6000 - accuracy: 0.71 - ETA: 0s - loss: 0.5097 - accuracy: 0.78 - 0s 959us/step - loss: 0.4810 - accuracy: 0.7988\n",
      "Epoch 11/50\n",
      "71/71 [==============================] - ETA: 0s - loss: 0.2602 - accuracy: 0.90 - ETA: 0s - loss: 0.4456 - accuracy: 0.81 - 0s 982us/step - loss: 0.4451 - accuracy: 0.8139\n",
      "Epoch 12/50\n",
      "71/71 [==============================] - ETA: 0s - loss: 0.1063 - accuracy: 0.96 - ETA: 0s - loss: 0.4363 - accuracy: 0.80 - 0s 1ms/step - loss: 0.4465 - accuracy: 0.8046\n",
      "Epoch 13/50\n",
      "71/71 [==============================] - ETA: 0s - loss: 0.4405 - accuracy: 0.87 - ETA: 0s - loss: 0.4055 - accuracy: 0.82 - 0s 995us/step - loss: 0.3993 - accuracy: 0.8286\n",
      "Epoch 14/50\n",
      "71/71 [==============================] - ETA: 0s - loss: 0.2878 - accuracy: 0.87 - ETA: 0s - loss: 0.4147 - accuracy: 0.81 - 0s 1ms/step - loss: 0.4110 - accuracy: 0.8193\n",
      "Epoch 15/50\n",
      "71/71 [==============================] - ETA: 0s - loss: 0.3573 - accuracy: 0.84 - ETA: 0s - loss: 0.3675 - accuracy: 0.82 - 0s 968us/step - loss: 0.3722 - accuracy: 0.8228\n",
      "Epoch 16/50\n",
      "71/71 [==============================] - ETA: 0s - loss: 0.3534 - accuracy: 0.81 - ETA: 0s - loss: 0.3742 - accuracy: 0.82 - 0s 986us/step - loss: 0.3706 - accuracy: 0.8264\n",
      "Epoch 17/50\n",
      "71/71 [==============================] - ETA: 0s - loss: 0.2736 - accuracy: 0.90 - ETA: 0s - loss: 0.3839 - accuracy: 0.82 - 0s 1ms/step - loss: 0.3736 - accuracy: 0.8308\n",
      "Epoch 18/50\n",
      "71/71 [==============================] - ETA: 0s - loss: 0.3076 - accuracy: 0.90 - ETA: 0s - loss: 0.3538 - accuracy: 0.84 - 0s 978us/step - loss: 0.3583 - accuracy: 0.8410\n",
      "Epoch 19/50\n",
      "71/71 [==============================] - ETA: 0s - loss: 0.3405 - accuracy: 0.87 - ETA: 0s - loss: 0.3668 - accuracy: 0.83 - 0s 1ms/step - loss: 0.3534 - accuracy: 0.8424\n",
      "Epoch 20/50\n",
      "71/71 [==============================] - ETA: 0s - loss: 0.5040 - accuracy: 0.78 - ETA: 0s - loss: 0.3576 - accuracy: 0.82 - 0s 983us/step - loss: 0.3553 - accuracy: 0.8277\n",
      "Epoch 21/50\n",
      "71/71 [==============================] - ETA: 0s - loss: 0.2688 - accuracy: 0.87 - ETA: 0s - loss: 0.3597 - accuracy: 0.82 - 0s 968us/step - loss: 0.3509 - accuracy: 0.8357\n",
      "Epoch 22/50\n",
      "71/71 [==============================] - ETA: 0s - loss: 0.3121 - accuracy: 0.90 - ETA: 0s - loss: 0.3344 - accuracy: 0.85 - 0s 1ms/step - loss: 0.3408 - accuracy: 0.8464\n",
      "Epoch 23/50\n",
      "71/71 [==============================] - ETA: 0s - loss: 0.4323 - accuracy: 0.81 - ETA: 0s - loss: 0.3652 - accuracy: 0.83 - 0s 1ms/step - loss: 0.3643 - accuracy: 0.8401\n",
      "Epoch 24/50\n",
      "71/71 [==============================] - ETA: 0s - loss: 0.2800 - accuracy: 0.93 - ETA: 0s - loss: 0.3358 - accuracy: 0.84 - 0s 1ms/step - loss: 0.3407 - accuracy: 0.8472\n",
      "Epoch 25/50\n",
      "71/71 [==============================] - ETA: 0s - loss: 0.2864 - accuracy: 0.84 - ETA: 0s - loss: 0.3458 - accuracy: 0.84 - 0s 971us/step - loss: 0.3549 - accuracy: 0.8384\n",
      "Epoch 26/50\n",
      "71/71 [==============================] - ETA: 0s - loss: 0.3396 - accuracy: 0.87 - ETA: 0s - loss: 0.3426 - accuracy: 0.84 - 0s 1ms/step - loss: 0.3426 - accuracy: 0.8477\n",
      "Epoch 27/50\n",
      "71/71 [==============================] - ETA: 0s - loss: 0.3313 - accuracy: 0.87 - ETA: 0s - loss: 0.3579 - accuracy: 0.84 - 0s 1ms/step - loss: 0.3565 - accuracy: 0.8433\n",
      "Epoch 28/50\n",
      "71/71 [==============================] - ETA: 0s - loss: 0.3470 - accuracy: 0.84 - ETA: 0s - loss: 0.3455 - accuracy: 0.83 - 0s 1ms/step - loss: 0.3507 - accuracy: 0.8339\n",
      "Epoch 29/50\n",
      "71/71 [==============================] - ETA: 0s - loss: 0.2925 - accuracy: 0.84 - ETA: 0s - loss: 0.3399 - accuracy: 0.84 - 0s 972us/step - loss: 0.3397 - accuracy: 0.8468\n",
      "Epoch 30/50\n",
      "71/71 [==============================] - ETA: 0s - loss: 0.2780 - accuracy: 0.90 - ETA: 0s - loss: 0.3196 - accuracy: 0.85 - 0s 1ms/step - loss: 0.3368 - accuracy: 0.8504\n",
      "Epoch 31/50\n",
      "71/71 [==============================] - ETA: 0s - loss: 0.3016 - accuracy: 0.90 - ETA: 0s - loss: 0.3557 - accuracy: 0.83 - 0s 1ms/step - loss: 0.3480 - accuracy: 0.8401\n",
      "Epoch 32/50\n",
      "71/71 [==============================] - ETA: 0s - loss: 0.4322 - accuracy: 0.81 - ETA: 0s - loss: 0.3621 - accuracy: 0.83 - 0s 1ms/step - loss: 0.3491 - accuracy: 0.8441\n",
      "Epoch 33/50\n",
      "71/71 [==============================] - ETA: 0s - loss: 0.2959 - accuracy: 0.87 - ETA: 0s - loss: 0.3565 - accuracy: 0.82 - 0s 950us/step - loss: 0.3476 - accuracy: 0.8357\n",
      "Epoch 34/50\n",
      "71/71 [==============================] - ETA: 0s - loss: 0.2089 - accuracy: 0.90 - ETA: 0s - loss: 0.3645 - accuracy: 0.83 - 0s 1ms/step - loss: 0.3604 - accuracy: 0.8388\n",
      "Epoch 35/50\n",
      "71/71 [==============================] - ETA: 0s - loss: 0.4381 - accuracy: 0.75 - ETA: 0s - loss: 0.3303 - accuracy: 0.84 - 0s 1ms/step - loss: 0.3364 - accuracy: 0.8410\n",
      "Epoch 36/50\n",
      "71/71 [==============================] - ETA: 0s - loss: 0.4531 - accuracy: 0.78 - ETA: 0s - loss: 0.3388 - accuracy: 0.85 - 0s 1ms/step - loss: 0.3441 - accuracy: 0.8433\n",
      "Epoch 37/50\n",
      "71/71 [==============================] - ETA: 0s - loss: 0.2603 - accuracy: 0.90 - ETA: 0s - loss: 0.3463 - accuracy: 0.83 - 0s 1ms/step - loss: 0.3376 - accuracy: 0.8419\n",
      "Epoch 38/50\n",
      "71/71 [==============================] - ETA: 0s - loss: 0.2694 - accuracy: 0.87 - ETA: 0s - loss: 0.3302 - accuracy: 0.84 - 0s 895us/step - loss: 0.3344 - accuracy: 0.8437\n",
      "Epoch 39/50\n",
      "71/71 [==============================] - ETA: 0s - loss: 0.2752 - accuracy: 0.90 - ETA: 0s - loss: 0.3489 - accuracy: 0.84 - 0s 890us/step - loss: 0.3454 - accuracy: 0.8424\n",
      "Epoch 40/50\n",
      "71/71 [==============================] - ETA: 0s - loss: 0.4825 - accuracy: 0.78 - ETA: 0s - loss: 0.3335 - accuracy: 0.84 - 0s 891us/step - loss: 0.3304 - accuracy: 0.8508\n",
      "Epoch 41/50\n",
      "71/71 [==============================] - ETA: 0s - loss: 0.3960 - accuracy: 0.81 - ETA: 0s - loss: 0.3362 - accuracy: 0.84 - 0s 902us/step - loss: 0.3328 - accuracy: 0.8468\n",
      "Epoch 42/50\n",
      "71/71 [==============================] - ETA: 0s - loss: 0.2350 - accuracy: 0.90 - ETA: 0s - loss: 0.3255 - accuracy: 0.85 - 0s 904us/step - loss: 0.3338 - accuracy: 0.8481\n",
      "Epoch 43/50\n",
      "71/71 [==============================] - ETA: 0s - loss: 0.2749 - accuracy: 0.90 - ETA: 0s - loss: 0.3401 - accuracy: 0.84 - 0s 959us/step - loss: 0.3340 - accuracy: 0.8481\n",
      "Epoch 44/50\n",
      "71/71 [==============================] - ETA: 0s - loss: 0.2376 - accuracy: 0.90 - ETA: 0s - loss: 0.3239 - accuracy: 0.85 - 0s 965us/step - loss: 0.3257 - accuracy: 0.8579\n",
      "Epoch 45/50\n"
     ]
    },
    {
     "name": "stdout",
     "output_type": "stream",
     "text": [
      "71/71 [==============================] - ETA: 0s - loss: 0.2842 - accuracy: 0.84 - ETA: 0s - loss: 0.3574 - accuracy: 0.83 - 0s 908us/step - loss: 0.3458 - accuracy: 0.8481\n",
      "Epoch 46/50\n",
      "71/71 [==============================] - ETA: 0s - loss: 0.2665 - accuracy: 0.93 - ETA: 0s - loss: 0.3322 - accuracy: 0.85 - 0s 909us/step - loss: 0.3267 - accuracy: 0.8575\n",
      "Epoch 47/50\n",
      "71/71 [==============================] - ETA: 0s - loss: 0.2776 - accuracy: 0.81 - ETA: 0s - loss: 0.3187 - accuracy: 0.85 - 0s 877us/step - loss: 0.3278 - accuracy: 0.8539\n",
      "Epoch 48/50\n",
      "71/71 [==============================] - ETA: 0s - loss: 0.1641 - accuracy: 0.93 - ETA: 0s - loss: 0.3315 - accuracy: 0.84 - 0s 876us/step - loss: 0.3317 - accuracy: 0.8481\n",
      "Epoch 49/50\n",
      "71/71 [==============================] - ETA: 0s - loss: 0.3295 - accuracy: 0.90 - ETA: 0s - loss: 0.3267 - accuracy: 0.85 - 0s 886us/step - loss: 0.3289 - accuracy: 0.8508\n",
      "Epoch 50/50\n",
      "71/71 [==============================] - ETA: 0s - loss: 0.4529 - accuracy: 0.78 - ETA: 0s - loss: 0.3274 - accuracy: 0.85 - 0s 903us/step - loss: 0.3283 - accuracy: 0.8499\n",
      "24/24 [==============================] - ETA: 0s - loss: 0.3455 - accuracy: 0.87 - 0s 807us/step - loss: 0.3425 - accuracy: 0.8469\n",
      "0.8468708395957947\n"
     ]
    }
   ],
   "source": [
    "# Run an intial model using the parameters from the Keras Tuner model and an intial dropout rate of .2\n",
    "build_model_output = build_model(384, .2, .001)\n",
    "fit_model_output = fit_model(build_model_output, train_data9, train_labels9, 50)\n",
    "final_accuracy = evaluate_model(build_model_output, dev_data9, dev_labels9)\n",
    "print(final_accuracy)"
   ]
  },
  {
   "cell_type": "markdown",
   "metadata": {},
   "source": [
    "8.3 Tune the hyperparameters to try and improve the accuracy."
   ]
  },
  {
   "cell_type": "code",
   "execution_count": 118,
   "metadata": {},
   "outputs": [
    {
     "name": "stdout",
     "output_type": "stream",
     "text": [
      "Epoch 1/10\n",
      "71/71 [==============================] - ETA: 0s - loss: 7.3443 - accuracy: 0.31 - ETA: 0s - loss: 1.6628 - accuracy: 0.59 - 0s 1ms/step - loss: 1.5049 - accuracy: 0.6128\n",
      "Epoch 2/10\n",
      "71/71 [==============================] - ETA: 0s - loss: 1.0177 - accuracy: 0.62 - ETA: 0s - loss: 0.9255 - accuracy: 0.68 - 0s 1ms/step - loss: 0.9185 - accuracy: 0.6812\n",
      "Epoch 3/10\n",
      "71/71 [==============================] - ETA: 0s - loss: 0.7291 - accuracy: 0.68 - ETA: 0s - loss: 0.7979 - accuracy: 0.72 - 0s 933us/step - loss: 0.8007 - accuracy: 0.7225\n",
      "Epoch 4/10\n",
      "71/71 [==============================] - ETA: 0s - loss: 0.5280 - accuracy: 0.75 - ETA: 0s - loss: 0.6825 - accuracy: 0.75 - 0s 976us/step - loss: 0.7443 - accuracy: 0.7438\n",
      "Epoch 5/10\n",
      "71/71 [==============================] - ETA: 0s - loss: 0.8068 - accuracy: 0.71 - ETA: 0s - loss: 0.7150 - accuracy: 0.75 - 0s 961us/step - loss: 0.6950 - accuracy: 0.7611\n",
      "Epoch 6/10\n",
      "71/71 [==============================] - ETA: 0s - loss: 0.6737 - accuracy: 0.78 - ETA: 0s - loss: 0.6703 - accuracy: 0.76 - 0s 994us/step - loss: 0.6727 - accuracy: 0.7660\n",
      "Epoch 7/10\n",
      "71/71 [==============================] - ETA: 0s - loss: 0.7110 - accuracy: 0.71 - ETA: 0s - loss: 0.5547 - accuracy: 0.79 - 0s 972us/step - loss: 0.5457 - accuracy: 0.7877\n",
      "Epoch 8/10\n",
      "71/71 [==============================] - ETA: 0s - loss: 0.4070 - accuracy: 0.84 - ETA: 0s - loss: 0.5375 - accuracy: 0.78 - 0s 974us/step - loss: 0.5237 - accuracy: 0.7895\n",
      "Epoch 9/10\n",
      "71/71 [==============================] - ETA: 0s - loss: 0.6630 - accuracy: 0.75 - ETA: 0s - loss: 0.5355 - accuracy: 0.78 - 0s 977us/step - loss: 0.5248 - accuracy: 0.7926\n",
      "Epoch 10/10\n",
      "71/71 [==============================] - ETA: 0s - loss: 0.3715 - accuracy: 0.87 - ETA: 0s - loss: 0.4951 - accuracy: 0.81 - 0s 963us/step - loss: 0.4948 - accuracy: 0.8073\n",
      "24/24 [==============================] - ETA: 0s - loss: 0.4856 - accuracy: 0.75 - 0s 800us/step - loss: 0.4704 - accuracy: 0.7696\n",
      "Epoch 1/10\n",
      "71/71 [==============================] - ETA: 0s - loss: 1.7079 - accuracy: 0.46 - ETA: 0s - loss: 1.7819 - accuracy: 0.61 - 0s 1ms/step - loss: 1.6732 - accuracy: 0.6181\n",
      "Epoch 2/10\n",
      "71/71 [==============================] - ETA: 0s - loss: 1.4260 - accuracy: 0.65 - ETA: 0s - loss: 1.2371 - accuracy: 0.66 - 0s 1ms/step - loss: 1.1858 - accuracy: 0.6790\n",
      "Epoch 3/10\n",
      "71/71 [==============================] - ETA: 0s - loss: 0.4680 - accuracy: 0.81 - ETA: 0s - loss: 1.0024 - accuracy: 0.72 - 0s 952us/step - loss: 0.9332 - accuracy: 0.7380\n",
      "Epoch 4/10\n",
      "71/71 [==============================] - ETA: 0s - loss: 1.6096 - accuracy: 0.50 - ETA: 0s - loss: 0.8413 - accuracy: 0.74 - 0s 962us/step - loss: 0.8063 - accuracy: 0.7531\n",
      "Epoch 5/10\n",
      "71/71 [==============================] - ETA: 0s - loss: 0.3951 - accuracy: 0.81 - ETA: 0s - loss: 0.7783 - accuracy: 0.75 - 0s 1ms/step - loss: 0.7603 - accuracy: 0.7678\n",
      "Epoch 6/10\n",
      "71/71 [==============================] - ETA: 0s - loss: 0.7011 - accuracy: 0.71 - ETA: 0s - loss: 0.6716 - accuracy: 0.77 - 0s 969us/step - loss: 0.6597 - accuracy: 0.7753\n",
      "Epoch 7/10\n",
      "71/71 [==============================] - ETA: 0s - loss: 0.8024 - accuracy: 0.71 - ETA: 0s - loss: 0.6119 - accuracy: 0.78 - 0s 1ms/step - loss: 0.5991 - accuracy: 0.7824\n",
      "Epoch 8/10\n",
      "71/71 [==============================] - ETA: 0s - loss: 0.6258 - accuracy: 0.75 - ETA: 0s - loss: 0.5387 - accuracy: 0.78 - 0s 1ms/step - loss: 0.5527 - accuracy: 0.7829\n",
      "Epoch 9/10\n",
      "71/71 [==============================] - ETA: 0s - loss: 0.4111 - accuracy: 0.81 - ETA: 0s - loss: 0.5158 - accuracy: 0.78 - 0s 990us/step - loss: 0.5119 - accuracy: 0.7886\n",
      "Epoch 10/10\n",
      "71/71 [==============================] - ETA: 0s - loss: 0.3688 - accuracy: 0.84 - ETA: 0s - loss: 0.4756 - accuracy: 0.80 - 0s 1ms/step - loss: 0.4703 - accuracy: 0.8055\n",
      "24/24 [==============================] - ETA: 0s - loss: 0.5698 - accuracy: 0.78 - 0s 745us/step - loss: 0.5447 - accuracy: 0.7510\n",
      "Epoch 1/10\n",
      "71/71 [==============================] - ETA: 0s - loss: 2.7951 - accuracy: 0.46 - ETA: 0s - loss: 1.9786 - accuracy: 0.59 - 0s 1ms/step - loss: 1.9037 - accuracy: 0.6057\n",
      "Epoch 2/10\n",
      "71/71 [==============================] - ETA: 0s - loss: 1.7903 - accuracy: 0.71 - ETA: 0s - loss: 1.3601 - accuracy: 0.66 - 0s 939us/step - loss: 1.3347 - accuracy: 0.6696\n",
      "Epoch 3/10\n",
      "71/71 [==============================] - ETA: 0s - loss: 1.3700 - accuracy: 0.65 - ETA: 0s - loss: 1.0929 - accuracy: 0.69 - 0s 1ms/step - loss: 1.0633 - accuracy: 0.6985\n",
      "Epoch 4/10\n",
      "71/71 [==============================] - ETA: 0s - loss: 0.7272 - accuracy: 0.68 - ETA: 0s - loss: 0.9057 - accuracy: 0.72 - 0s 1ms/step - loss: 0.8912 - accuracy: 0.7318\n",
      "Epoch 5/10\n",
      "71/71 [==============================] - ETA: 0s - loss: 1.0241 - accuracy: 0.62 - ETA: 0s - loss: 0.7718 - accuracy: 0.74 - 0s 985us/step - loss: 0.7707 - accuracy: 0.7442\n",
      "Epoch 6/10\n",
      "71/71 [==============================] - ETA: 0s - loss: 0.5024 - accuracy: 0.78 - ETA: 0s - loss: 0.6366 - accuracy: 0.76 - 0s 1ms/step - loss: 0.6281 - accuracy: 0.7642\n",
      "Epoch 7/10\n",
      "71/71 [==============================] - ETA: 0s - loss: 0.5024 - accuracy: 0.81 - ETA: 0s - loss: 0.5526 - accuracy: 0.78 - 0s 990us/step - loss: 0.5747 - accuracy: 0.7762\n",
      "Epoch 8/10\n",
      "71/71 [==============================] - ETA: 0s - loss: 0.4833 - accuracy: 0.81 - ETA: 0s - loss: 0.5128 - accuracy: 0.80 - 0s 1ms/step - loss: 0.5166 - accuracy: 0.7922\n",
      "Epoch 9/10\n",
      "71/71 [==============================] - ETA: 0s - loss: 0.5560 - accuracy: 0.71 - ETA: 0s - loss: 0.4684 - accuracy: 0.79 - 0s 1ms/step - loss: 0.4765 - accuracy: 0.7940\n",
      "Epoch 10/10\n",
      "71/71 [==============================] - ETA: 0s - loss: 0.3386 - accuracy: 0.84 - ETA: 0s - loss: 0.4458 - accuracy: 0.79 - 0s 985us/step - loss: 0.4412 - accuracy: 0.7988\n",
      "24/24 [==============================] - ETA: 0s - loss: 0.3853 - accuracy: 0.84 - 0s 738us/step - loss: 0.3754 - accuracy: 0.8123\n",
      "Epoch 1/10\n",
      "71/71 [==============================] - ETA: 0s - loss: 1.3865 - accuracy: 0.50 - ETA: 0s - loss: 2.5542 - accuracy: 0.58 - 0s 1ms/step - loss: 2.3811 - accuracy: 0.5999\n",
      "Epoch 2/10\n",
      "71/71 [==============================] - ETA: 0s - loss: 2.6598 - accuracy: 0.59 - ETA: 0s - loss: 1.8514 - accuracy: 0.62 - 0s 1ms/step - loss: 1.6997 - accuracy: 0.6461\n",
      "Epoch 3/10\n",
      "71/71 [==============================] - ETA: 0s - loss: 1.3584 - accuracy: 0.65 - ETA: 0s - loss: 1.4908 - accuracy: 0.66 - 0s 1ms/step - loss: 1.3089 - accuracy: 0.6887\n",
      "Epoch 4/10\n",
      "71/71 [==============================] - ETA: 0s - loss: 0.9398 - accuracy: 0.71 - ETA: 0s - loss: 1.0134 - accuracy: 0.72 - 0s 1ms/step - loss: 0.9643 - accuracy: 0.7291\n",
      "Epoch 5/10\n",
      "71/71 [==============================] - ETA: 0s - loss: 1.1035 - accuracy: 0.78 - ETA: 0s - loss: 0.8191 - accuracy: 0.73 - 0s 1ms/step - loss: 0.7875 - accuracy: 0.7451\n",
      "Epoch 6/10\n",
      "71/71 [==============================] - ETA: 0s - loss: 0.4391 - accuracy: 0.81 - ETA: 0s - loss: 0.7379 - accuracy: 0.74 - 0s 1ms/step - loss: 0.6858 - accuracy: 0.7575\n",
      "Epoch 7/10\n",
      "71/71 [==============================] - ETA: 0s - loss: 0.5215 - accuracy: 0.81 - ETA: 0s - loss: 0.5923 - accuracy: 0.77 - 0s 937us/step - loss: 0.5825 - accuracy: 0.7784\n",
      "Epoch 8/10\n",
      "71/71 [==============================] - ETA: 0s - loss: 0.4970 - accuracy: 0.78 - ETA: 0s - loss: 0.5378 - accuracy: 0.79 - 0s 977us/step - loss: 0.5244 - accuracy: 0.7944\n",
      "Epoch 9/10\n",
      "71/71 [==============================] - ETA: 0s - loss: 0.5203 - accuracy: 0.75 - ETA: 0s - loss: 0.4771 - accuracy: 0.80 - 0s 926us/step - loss: 0.4832 - accuracy: 0.8055\n",
      "Epoch 10/10\n",
      "71/71 [==============================] - ETA: 0s - loss: 0.4521 - accuracy: 0.81 - ETA: 0s - loss: 0.4089 - accuracy: 0.82 - 0s 1ms/step - loss: 0.4121 - accuracy: 0.8210\n",
      "24/24 [==============================] - ETA: 0s - loss: 0.3412 - accuracy: 0.90 - 0s 689us/step - loss: 0.3442 - accuracy: 0.8642\n",
      "Epoch 1/10\n",
      "71/71 [==============================] - ETA: 0s - loss: 7.8223 - accuracy: 0.65 - ETA: 0s - loss: 3.4227 - accuracy: 0.57 - 0s 1ms/step - loss: 3.3375 - accuracy: 0.5821\n",
      "Epoch 2/10\n",
      "71/71 [==============================] - ETA: 0s - loss: 2.3146 - accuracy: 0.68 - ETA: 0s - loss: 2.2563 - accuracy: 0.62 - 0s 956us/step - loss: 2.1307 - accuracy: 0.6319\n"
     ]
    },
    {
     "name": "stdout",
     "output_type": "stream",
     "text": [
      "Epoch 3/10\n",
      "71/71 [==============================] - ETA: 0s - loss: 1.8781 - accuracy: 0.59 - ETA: 0s - loss: 1.5735 - accuracy: 0.67 - 0s 966us/step - loss: 1.5533 - accuracy: 0.6701\n",
      "Epoch 4/10\n",
      "71/71 [==============================] - ETA: 0s - loss: 0.9520 - accuracy: 0.75 - ETA: 0s - loss: 1.2749 - accuracy: 0.68 - 0s 919us/step - loss: 1.1943 - accuracy: 0.7038\n",
      "Epoch 5/10\n",
      "71/71 [==============================] - ETA: 0s - loss: 1.2200 - accuracy: 0.65 - ETA: 0s - loss: 0.8656 - accuracy: 0.73 - 0s 897us/step - loss: 0.8592 - accuracy: 0.7358\n",
      "Epoch 6/10\n",
      "71/71 [==============================] - ETA: 0s - loss: 0.7549 - accuracy: 0.75 - ETA: 0s - loss: 0.7345 - accuracy: 0.74 - 0s 884us/step - loss: 0.7310 - accuracy: 0.7496\n",
      "Epoch 7/10\n",
      "71/71 [==============================] - ETA: 0s - loss: 1.1394 - accuracy: 0.65 - ETA: 0s - loss: 0.6567 - accuracy: 0.76 - 0s 904us/step - loss: 0.6454 - accuracy: 0.7567\n",
      "Epoch 8/10\n",
      "71/71 [==============================] - ETA: 0s - loss: 0.5915 - accuracy: 0.71 - ETA: 0s - loss: 0.5371 - accuracy: 0.77 - 0s 875us/step - loss: 0.5315 - accuracy: 0.7766\n",
      "Epoch 9/10\n",
      "71/71 [==============================] - ETA: 0s - loss: 0.3814 - accuracy: 0.84 - ETA: 0s - loss: 0.4426 - accuracy: 0.80 - 0s 884us/step - loss: 0.4478 - accuracy: 0.8042\n",
      "Epoch 10/10\n",
      "71/71 [==============================] - ETA: 0s - loss: 0.6359 - accuracy: 0.81 - ETA: 0s - loss: 0.4649 - accuracy: 0.79 - 0s 919us/step - loss: 0.4538 - accuracy: 0.8020\n",
      "24/24 [==============================] - ETA: 0s - loss: 0.3544 - accuracy: 0.87 - 0s 983us/step - loss: 0.3556 - accuracy: 0.8282\n",
      "Epoch 1/10\n",
      "71/71 [==============================] - ETA: 0s - loss: 4.6018 - accuracy: 0.43 - ETA: 0s - loss: 4.1383 - accuracy: 0.56 - 0s 982us/step - loss: 3.7943 - accuracy: 0.5746\n",
      "Epoch 2/10\n",
      "71/71 [==============================] - ETA: 0s - loss: 2.1432 - accuracy: 0.53 - ETA: 0s - loss: 2.5069 - accuracy: 0.61 - 0s 887us/step - loss: 2.4397 - accuracy: 0.6208\n",
      "Epoch 3/10\n",
      "71/71 [==============================] - ETA: 0s - loss: 1.9395 - accuracy: 0.68 - ETA: 0s - loss: 1.7063 - accuracy: 0.66 - 0s 897us/step - loss: 1.6645 - accuracy: 0.6647\n",
      "Epoch 4/10\n",
      "71/71 [==============================] - ETA: 0s - loss: 2.0346 - accuracy: 0.56 - ETA: 0s - loss: 1.2444 - accuracy: 0.68 - 0s 896us/step - loss: 1.1906 - accuracy: 0.6949\n",
      "Epoch 5/10\n",
      "71/71 [==============================] - ETA: 0s - loss: 0.4541 - accuracy: 0.84 - ETA: 0s - loss: 0.8605 - accuracy: 0.73 - 0s 922us/step - loss: 0.8530 - accuracy: 0.7402\n",
      "Epoch 6/10\n",
      "71/71 [==============================] - ETA: 0s - loss: 0.8604 - accuracy: 0.71 - ETA: 0s - loss: 0.7129 - accuracy: 0.75 - 0s 903us/step - loss: 0.7026 - accuracy: 0.7593\n",
      "Epoch 7/10\n",
      "71/71 [==============================] - ETA: 0s - loss: 0.4942 - accuracy: 0.81 - ETA: 0s - loss: 0.5744 - accuracy: 0.77 - 0s 989us/step - loss: 0.5695 - accuracy: 0.7780\n",
      "Epoch 8/10\n",
      "71/71 [==============================] - ETA: 0s - loss: 0.6362 - accuracy: 0.68 - ETA: 0s - loss: 0.5418 - accuracy: 0.78 - 0s 1ms/step - loss: 0.5188 - accuracy: 0.7869\n",
      "Epoch 9/10\n",
      "71/71 [==============================] - ETA: 0s - loss: 0.5146 - accuracy: 0.78 - ETA: 0s - loss: 0.4646 - accuracy: 0.79 - 0s 942us/step - loss: 0.4700 - accuracy: 0.7926\n",
      "Epoch 10/10\n",
      "71/71 [==============================] - ETA: 0s - loss: 0.7988 - accuracy: 0.68 - ETA: 0s - loss: 0.4322 - accuracy: 0.81 - 0s 935us/step - loss: 0.4469 - accuracy: 0.8002\n",
      "24/24 [==============================] - ETA: 0s - loss: 0.3890 - accuracy: 0.84 - 0s 796us/step - loss: 0.3908 - accuracy: 0.8362\n",
      "Epoch 1/10\n",
      "71/71 [==============================] - ETA: 0s - loss: 8.1747 - accuracy: 0.56 - ETA: 0s - loss: 4.7009 - accuracy: 0.54 - 0s 990us/step - loss: 4.3767 - accuracy: 0.5577\n",
      "Epoch 2/10\n",
      "71/71 [==============================] - ETA: 0s - loss: 1.6467 - accuracy: 0.62 - ETA: 0s - loss: 2.6717 - accuracy: 0.61 - 0s 968us/step - loss: 2.5805 - accuracy: 0.6168\n",
      "Epoch 3/10\n",
      "71/71 [==============================] - ETA: 0s - loss: 2.0260 - accuracy: 0.62 - ETA: 0s - loss: 1.8327 - accuracy: 0.64 - 0s 964us/step - loss: 1.7289 - accuracy: 0.6532\n",
      "Epoch 4/10\n",
      "71/71 [==============================] - ETA: 0s - loss: 0.8486 - accuracy: 0.84 - ETA: 0s - loss: 1.2479 - accuracy: 0.68 - 0s 927us/step - loss: 1.1742 - accuracy: 0.6949\n",
      "Epoch 5/10\n",
      "71/71 [==============================] - ETA: 0s - loss: 1.3837 - accuracy: 0.65 - ETA: 0s - loss: 0.7840 - accuracy: 0.72 - 0s 1ms/step - loss: 0.7924 - accuracy: 0.7260\n",
      "Epoch 6/10\n",
      "71/71 [==============================] - ETA: 0s - loss: 0.8338 - accuracy: 0.59 - ETA: 0s - loss: 0.6333 - accuracy: 0.75 - 0s 884us/step - loss: 0.6064 - accuracy: 0.7607\n",
      "Epoch 7/10\n",
      "71/71 [==============================] - ETA: 0s - loss: 0.4273 - accuracy: 0.81 - ETA: 0s - loss: 0.5319 - accuracy: 0.77 - 0s 851us/step - loss: 0.5229 - accuracy: 0.7806\n",
      "Epoch 8/10\n",
      "71/71 [==============================] - ETA: 0s - loss: 0.3695 - accuracy: 0.84 - ETA: 0s - loss: 0.4641 - accuracy: 0.79 - 0s 877us/step - loss: 0.4612 - accuracy: 0.7931\n",
      "Epoch 9/10\n",
      "71/71 [==============================] - ETA: 0s - loss: 0.5966 - accuracy: 0.71 - ETA: 0s - loss: 0.4294 - accuracy: 0.80 - 0s 855us/step - loss: 0.4308 - accuracy: 0.8028\n",
      "Epoch 10/10\n",
      "71/71 [==============================] - ETA: 0s - loss: 0.3780 - accuracy: 0.84 - ETA: 0s - loss: 0.4260 - accuracy: 0.80 - 0s 875us/step - loss: 0.4223 - accuracy: 0.8077\n",
      "24/24 [==============================] - ETA: 0s - loss: 0.3993 - accuracy: 0.78 - 0s 741us/step - loss: 0.4067 - accuracy: 0.7963\n",
      "Epoch 1/10\n",
      "71/71 [==============================] - ETA: 0s - loss: 7.2244 - accuracy: 0.71 - ETA: 0s - loss: 5.3695 - accuracy: 0.58 - 0s 1ms/step - loss: 5.1366 - accuracy: 0.5786\n",
      "Epoch 2/10\n",
      "71/71 [==============================] - ETA: 0s - loss: 3.0676 - accuracy: 0.59 - ETA: 0s - loss: 3.6947 - accuracy: 0.62 - 0s 985us/step - loss: 3.6320 - accuracy: 0.6110\n",
      "Epoch 3/10\n",
      "71/71 [==============================] - ETA: 0s - loss: 2.4336 - accuracy: 0.75 - ETA: 0s - loss: 2.5439 - accuracy: 0.62 - 0s 934us/step - loss: 2.4550 - accuracy: 0.6310\n",
      "Epoch 4/10\n",
      "71/71 [==============================] - ETA: 0s - loss: 1.9939 - accuracy: 0.59 - ETA: 0s - loss: 1.6068 - accuracy: 0.66 - 0s 874us/step - loss: 1.5779 - accuracy: 0.6665\n",
      "Epoch 5/10\n",
      "71/71 [==============================] - ETA: 0s - loss: 1.0886 - accuracy: 0.53 - ETA: 0s - loss: 0.9538 - accuracy: 0.69 - 0s 905us/step - loss: 0.9347 - accuracy: 0.6989\n",
      "Epoch 6/10\n",
      "71/71 [==============================] - ETA: 0s - loss: 0.4490 - accuracy: 0.75 - ETA: 0s - loss: 0.6975 - accuracy: 0.73 - 0s 909us/step - loss: 0.6842 - accuracy: 0.7385\n",
      "Epoch 7/10\n",
      "71/71 [==============================] - ETA: 0s - loss: 0.5282 - accuracy: 0.71 - ETA: 0s - loss: 0.5631 - accuracy: 0.76 - 0s 1ms/step - loss: 0.5585 - accuracy: 0.7660\n",
      "Epoch 8/10\n",
      "71/71 [==============================] - ETA: 0s - loss: 0.5340 - accuracy: 0.75 - ETA: 0s - loss: 0.5204 - accuracy: 0.77 - 0s 928us/step - loss: 0.5100 - accuracy: 0.7811\n",
      "Epoch 9/10\n",
      "71/71 [==============================] - ETA: 0s - loss: 0.3242 - accuracy: 0.84 - ETA: 0s - loss: 0.4734 - accuracy: 0.78 - 0s 963us/step - loss: 0.4697 - accuracy: 0.7900\n",
      "Epoch 10/10\n",
      "71/71 [==============================] - ETA: 0s - loss: 0.4931 - accuracy: 0.68 - ETA: 0s - loss: 0.4708 - accuracy: 0.79 - 0s 907us/step - loss: 0.4576 - accuracy: 0.7966\n",
      "24/24 [==============================] - ETA: 0s - loss: 0.3494 - accuracy: 0.87 - 0s 658us/step - loss: 0.3597 - accuracy: 0.8575\n",
      "Epoch 1/10\n",
      "71/71 [==============================] - ETA: 0s - loss: 6.8117 - accuracy: 0.53 - ETA: 0s - loss: 8.6417 - accuracy: 0.55 - 0s 922us/step - loss: 8.4407 - accuracy: 0.5488\n",
      "Epoch 2/10\n",
      "71/71 [==============================] - ETA: 0s - loss: 3.1391 - accuracy: 0.68 - ETA: 0s - loss: 5.9422 - accuracy: 0.58 - 0s 891us/step - loss: 5.8471 - accuracy: 0.5821\n",
      "Epoch 3/10\n",
      "71/71 [==============================] - ETA: 0s - loss: 3.6983 - accuracy: 0.62 - ETA: 0s - loss: 3.8352 - accuracy: 0.61 - 0s 883us/step - loss: 3.6714 - accuracy: 0.6137\n",
      "Epoch 4/10\n"
     ]
    },
    {
     "name": "stdout",
     "output_type": "stream",
     "text": [
      "71/71 [==============================] - ETA: 0s - loss: 2.3633 - accuracy: 0.59 - ETA: 0s - loss: 2.3228 - accuracy: 0.62 - 0s 992us/step - loss: 2.1708 - accuracy: 0.6217\n",
      "Epoch 5/10\n",
      "71/71 [==============================] - ETA: 0s - loss: 2.2668 - accuracy: 0.65 - ETA: 0s - loss: 1.4265 - accuracy: 0.65 - 0s 1ms/step - loss: 1.3009 - accuracy: 0.6687\n",
      "Epoch 6/10\n",
      "71/71 [==============================] - ETA: 0s - loss: 0.8843 - accuracy: 0.62 - ETA: 0s - loss: 0.8949 - accuracy: 0.69 - 0s 975us/step - loss: 0.8701 - accuracy: 0.6985\n",
      "Epoch 7/10\n",
      "71/71 [==============================] - ETA: 0s - loss: 0.4629 - accuracy: 0.84 - ETA: 0s - loss: 0.6873 - accuracy: 0.73 - 0s 964us/step - loss: 0.6831 - accuracy: 0.7260\n",
      "Epoch 8/10\n",
      "71/71 [==============================] - ETA: 0s - loss: 0.4455 - accuracy: 0.75 - ETA: 0s - loss: 0.5962 - accuracy: 0.74 - 0s 948us/step - loss: 0.5762 - accuracy: 0.7562\n",
      "Epoch 9/10\n",
      "71/71 [==============================] - ETA: 0s - loss: 0.5425 - accuracy: 0.81 - ETA: 0s - loss: 0.5545 - accuracy: 0.75 - 0s 1ms/step - loss: 0.5689 - accuracy: 0.7451\n",
      "Epoch 10/10\n",
      "71/71 [==============================] - ETA: 0s - loss: 0.7608 - accuracy: 0.75 - ETA: 0s - loss: 0.5141 - accuracy: 0.77 - 0s 1ms/step - loss: 0.5160 - accuracy: 0.7687\n",
      "24/24 [==============================] - ETA: 0s - loss: 0.3924 - accuracy: 0.84 - 0s 856us/step - loss: 0.3990 - accuracy: 0.8043\n"
     ]
    }
   ],
   "source": [
    "# Optimize dropout rate\n",
    "# Loop through dropout rates\n",
    "dropout_list = [.1,.2,.3,.4,.5,.6,.7,.8,.9]\n",
    "final_accuracy_dropout_list = []\n",
    "\n",
    "for i in dropout_list:\n",
    "    build_model_output = build_model(384, i, .001)\n",
    "    fit_model_output = fit_model(build_model_output, train_data9, train_labels9, 10)\n",
    "    final_accuracy = evaluate_model(build_model_output, dev_data9, dev_labels9)\n",
    "    final_accuracy_dropout_list.append(final_accuracy)"
   ]
  },
  {
   "cell_type": "code",
   "execution_count": 119,
   "metadata": {},
   "outputs": [
    {
     "data": {
      "text/plain": [
       "Text(0, 0.5, 'Accuracy')"
      ]
     },
     "execution_count": 119,
     "metadata": {},
     "output_type": "execute_result"
    },
    {
     "data": {
      "image/png": "[encoded data removed]",
      "text/plain": [
       "<Figure size 432x288 with 1 Axes>"
      ]
     },
     "metadata": {
      "needs_background": "light"
     },
     "output_type": "display_data"
    }
   ],
   "source": [
    "# Graph results\n",
    "plt.plot(dropout_list, final_accuracy_dropout_list, marker = \".\")\n",
    "plt.xlabel('Dropout Rate')\n",
    "plt.ylabel('Accuracy')"
   ]
  },
  {
   "cell_type": "code",
   "execution_count": 121,
   "metadata": {},
   "outputs": [
    {
     "name": "stdout",
     "output_type": "stream",
     "text": [
      "Epoch 1/50\n",
      "71/71 [==============================] - ETA: 0s - loss: 7.3671 - accuracy: 0.40 - ETA: 0s - loss: 2.8112 - accuracy: 0.58 - 0s 965us/step - loss: 2.6369 - accuracy: 0.5879\n",
      "Epoch 2/50\n",
      "71/71 [==============================] - ETA: 0s - loss: 2.1745 - accuracy: 0.59 - ETA: 0s - loss: 1.7554 - accuracy: 0.66 - 0s 990us/step - loss: 1.6711 - accuracy: 0.6705\n",
      "Epoch 3/50\n",
      "71/71 [==============================] - ETA: 0s - loss: 1.6687 - accuracy: 0.56 - ETA: 0s - loss: 1.3586 - accuracy: 0.68 - 0s 1ms/step - loss: 1.3545 - accuracy: 0.6852\n",
      "Epoch 4/50\n",
      "71/71 [==============================] - ETA: 0s - loss: 1.1078 - accuracy: 0.68 - ETA: 0s - loss: 1.0465 - accuracy: 0.70 - 0s 1ms/step - loss: 1.0029 - accuracy: 0.7171\n",
      "Epoch 5/50\n",
      "71/71 [==============================] - ETA: 0s - loss: 0.4558 - accuracy: 0.81 - ETA: 0s - loss: 0.8215 - accuracy: 0.73 - 0s 948us/step - loss: 0.8445 - accuracy: 0.7362\n",
      "Epoch 6/50\n",
      "71/71 [==============================] - ETA: 0s - loss: 0.6201 - accuracy: 0.78 - ETA: 0s - loss: 0.6703 - accuracy: 0.75 - 0s 1ms/step - loss: 0.6466 - accuracy: 0.7682\n",
      "Epoch 7/50\n",
      "71/71 [==============================] - ETA: 0s - loss: 1.0278 - accuracy: 0.68 - ETA: 0s - loss: 0.5551 - accuracy: 0.78 - 0s 1ms/step - loss: 0.5562 - accuracy: 0.7869\n",
      "Epoch 8/50\n",
      "71/71 [==============================] - ETA: 0s - loss: 0.7450 - accuracy: 0.75 - ETA: 0s - loss: 0.5668 - accuracy: 0.78 - 0s 1ms/step - loss: 0.5515 - accuracy: 0.7842\n",
      "Epoch 9/50\n",
      "71/71 [==============================] - ETA: 0s - loss: 0.4159 - accuracy: 0.84 - ETA: 0s - loss: 0.4999 - accuracy: 0.79 - 0s 1ms/step - loss: 0.4958 - accuracy: 0.7957\n",
      "Epoch 10/50\n",
      "71/71 [==============================] - ETA: 0s - loss: 0.4948 - accuracy: 0.75 - ETA: 0s - loss: 0.4317 - accuracy: 0.79 - 0s 1ms/step - loss: 0.4341 - accuracy: 0.7993\n",
      "Epoch 11/50\n",
      "71/71 [==============================] - ETA: 0s - loss: 0.3732 - accuracy: 0.81 - ETA: 0s - loss: 0.4152 - accuracy: 0.82 - 0s 1ms/step - loss: 0.4314 - accuracy: 0.8108\n",
      "Epoch 12/50\n",
      "71/71 [==============================] - ETA: 0s - loss: 0.1873 - accuracy: 0.90 - ETA: 0s - loss: 0.3916 - accuracy: 0.82 - 0s 971us/step - loss: 0.4038 - accuracy: 0.8171\n",
      "Epoch 13/50\n",
      "71/71 [==============================] - ETA: 0s - loss: 0.4757 - accuracy: 0.78 - ETA: 0s - loss: 0.4044 - accuracy: 0.81 - 0s 1ms/step - loss: 0.3957 - accuracy: 0.8166\n",
      "Epoch 14/50\n",
      "71/71 [==============================] - ETA: 0s - loss: 0.3291 - accuracy: 0.90 - ETA: 0s - loss: 0.3947 - accuracy: 0.82 - 0s 1ms/step - loss: 0.3909 - accuracy: 0.8219\n",
      "Epoch 15/50\n",
      "71/71 [==============================] - ETA: 0s - loss: 0.4797 - accuracy: 0.75 - ETA: 0s - loss: 0.4000 - accuracy: 0.81 - 0s 1ms/step - loss: 0.3872 - accuracy: 0.8277\n",
      "Epoch 16/50\n",
      "71/71 [==============================] - ETA: 0s - loss: 0.5668 - accuracy: 0.71 - ETA: 0s - loss: 0.3762 - accuracy: 0.83 - 0s 922us/step - loss: 0.3856 - accuracy: 0.8255\n",
      "Epoch 17/50\n",
      "71/71 [==============================] - ETA: 0s - loss: 0.3187 - accuracy: 0.84 - ETA: 0s - loss: 0.3492 - accuracy: 0.84 - 0s 955us/step - loss: 0.3635 - accuracy: 0.8317\n",
      "Epoch 18/50\n",
      "71/71 [==============================] - ETA: 0s - loss: 0.4317 - accuracy: 0.71 - ETA: 0s - loss: 0.3838 - accuracy: 0.81 - 0s 979us/step - loss: 0.3777 - accuracy: 0.8264\n",
      "Epoch 19/50\n",
      "71/71 [==============================] - ETA: 0s - loss: 0.2780 - accuracy: 0.87 - ETA: 0s - loss: 0.3562 - accuracy: 0.83 - 0s 1ms/step - loss: 0.3435 - accuracy: 0.8419\n",
      "Epoch 20/50\n",
      "71/71 [==============================] - ETA: 0s - loss: 0.1273 - accuracy: 0.96 - ETA: 0s - loss: 0.3534 - accuracy: 0.83 - 0s 1ms/step - loss: 0.3572 - accuracy: 0.8353\n",
      "Epoch 21/50\n",
      "71/71 [==============================] - ETA: 0s - loss: 0.3603 - accuracy: 0.84 - ETA: 0s - loss: 0.3661 - accuracy: 0.83 - 0s 1ms/step - loss: 0.3708 - accuracy: 0.8264\n",
      "Epoch 22/50\n",
      "71/71 [==============================] - ETA: 0s - loss: 0.2778 - accuracy: 0.84 - ETA: 0s - loss: 0.3463 - accuracy: 0.83 - 0s 1ms/step - loss: 0.3550 - accuracy: 0.8330\n",
      "Epoch 23/50\n",
      "71/71 [==============================] - ETA: 0s - loss: 0.5351 - accuracy: 0.71 - ETA: 0s - loss: 0.3433 - accuracy: 0.84 - 0s 959us/step - loss: 0.3507 - accuracy: 0.8401\n",
      "Epoch 24/50\n",
      "71/71 [==============================] - ETA: 0s - loss: 0.3476 - accuracy: 0.87 - ETA: 0s - loss: 0.3465 - accuracy: 0.85 - 0s 1ms/step - loss: 0.3536 - accuracy: 0.8450\n",
      "Epoch 25/50\n",
      "71/71 [==============================] - ETA: 0s - loss: 0.4480 - accuracy: 0.78 - ETA: 0s - loss: 0.3521 - accuracy: 0.83 - 0s 965us/step - loss: 0.3536 - accuracy: 0.8308\n",
      "Epoch 26/50\n",
      "71/71 [==============================] - ETA: 0s - loss: 0.5184 - accuracy: 0.75 - ETA: 0s - loss: 0.3592 - accuracy: 0.83 - 0s 1ms/step - loss: 0.3642 - accuracy: 0.8273\n",
      "Epoch 27/50\n",
      "71/71 [==============================] - ETA: 0s - loss: 0.3154 - accuracy: 0.87 - ETA: 0s - loss: 0.3557 - accuracy: 0.83 - 0s 981us/step - loss: 0.3578 - accuracy: 0.8335\n",
      "Epoch 28/50\n",
      "71/71 [==============================] - ETA: 0s - loss: 0.2520 - accuracy: 0.84 - ETA: 0s - loss: 0.3539 - accuracy: 0.83 - 0s 1ms/step - loss: 0.3579 - accuracy: 0.8393\n",
      "Epoch 29/50\n",
      "71/71 [==============================] - ETA: 0s - loss: 0.2994 - accuracy: 0.84 - ETA: 0s - loss: 0.3482 - accuracy: 0.83 - 0s 1ms/step - loss: 0.3481 - accuracy: 0.8397\n",
      "Epoch 30/50\n",
      "71/71 [==============================] - ETA: 0s - loss: 0.3427 - accuracy: 0.84 - ETA: 0s - loss: 0.3554 - accuracy: 0.83 - 0s 981us/step - loss: 0.3526 - accuracy: 0.8379\n",
      "Epoch 31/50\n",
      "71/71 [==============================] - ETA: 0s - loss: 0.1488 - accuracy: 0.96 - ETA: 0s - loss: 0.3337 - accuracy: 0.85 - 0s 1ms/step - loss: 0.3487 - accuracy: 0.8406\n",
      "Epoch 32/50\n",
      "71/71 [==============================] - ETA: 0s - loss: 0.4043 - accuracy: 0.84 - ETA: 0s - loss: 0.3495 - accuracy: 0.84 - 0s 1ms/step - loss: 0.3548 - accuracy: 0.8401\n",
      "Epoch 33/50\n",
      "71/71 [==============================] - ETA: 0s - loss: 0.3603 - accuracy: 0.81 - ETA: 0s - loss: 0.3408 - accuracy: 0.84 - 0s 1ms/step - loss: 0.3391 - accuracy: 0.8441\n",
      "Epoch 34/50\n",
      "71/71 [==============================] - ETA: 0s - loss: 0.4745 - accuracy: 0.84 - ETA: 0s - loss: 0.3551 - accuracy: 0.83 - 0s 994us/step - loss: 0.3411 - accuracy: 0.8477\n",
      "Epoch 35/50\n",
      "71/71 [==============================] - ETA: 0s - loss: 0.3773 - accuracy: 0.78 - ETA: 0s - loss: 0.3349 - accuracy: 0.84 - 0s 1ms/step - loss: 0.3420 - accuracy: 0.8406\n",
      "Epoch 36/50\n",
      "71/71 [==============================] - ETA: 0s - loss: 0.2665 - accuracy: 0.90 - ETA: 0s - loss: 0.3441 - accuracy: 0.83 - 0s 1ms/step - loss: 0.3405 - accuracy: 0.8397\n",
      "Epoch 37/50\n",
      "71/71 [==============================] - ETA: 0s - loss: 0.3474 - accuracy: 0.84 - ETA: 0s - loss: 0.3323 - accuracy: 0.84 - 0s 918us/step - loss: 0.3409 - accuracy: 0.8446\n",
      "Epoch 38/50\n",
      "71/71 [==============================] - ETA: 0s - loss: 0.2818 - accuracy: 0.87 - ETA: 0s - loss: 0.3442 - accuracy: 0.83 - 0s 902us/step - loss: 0.3369 - accuracy: 0.8415\n",
      "Epoch 39/50\n",
      "71/71 [==============================] - ETA: 0s - loss: 0.3782 - accuracy: 0.81 - ETA: 0s - loss: 0.3381 - accuracy: 0.85 - 0s 920us/step - loss: 0.3380 - accuracy: 0.8504\n",
      "Epoch 40/50\n",
      "71/71 [==============================] - ETA: 0s - loss: 0.2311 - accuracy: 0.93 - ETA: 0s - loss: 0.3495 - accuracy: 0.84 - 0s 922us/step - loss: 0.3412 - accuracy: 0.8459\n",
      "Epoch 41/50\n",
      "71/71 [==============================] - ETA: 0s - loss: 0.3199 - accuracy: 0.84 - ETA: 0s - loss: 0.3327 - accuracy: 0.85 - 0s 949us/step - loss: 0.3331 - accuracy: 0.8552\n",
      "Epoch 42/50\n",
      "71/71 [==============================] - ETA: 0s - loss: 0.2535 - accuracy: 0.87 - ETA: 0s - loss: 0.3326 - accuracy: 0.85 - 0s 972us/step - loss: 0.3310 - accuracy: 0.8548\n",
      "Epoch 43/50\n",
      "71/71 [==============================] - ETA: 0s - loss: 0.2804 - accuracy: 0.87 - ETA: 0s - loss: 0.3311 - accuracy: 0.84 - 0s 900us/step - loss: 0.3326 - accuracy: 0.8499\n",
      "Epoch 44/50\n",
      "71/71 [==============================] - ETA: 0s - loss: 0.2493 - accuracy: 0.87 - ETA: 0s - loss: 0.3253 - accuracy: 0.84 - 0s 961us/step - loss: 0.3295 - accuracy: 0.8490\n",
      "Epoch 45/50\n"
     ]
    },
    {
     "name": "stdout",
     "output_type": "stream",
     "text": [
      "71/71 [==============================] - ETA: 0s - loss: 0.2635 - accuracy: 0.90 - ETA: 0s - loss: 0.3438 - accuracy: 0.84 - 0s 1ms/step - loss: 0.3383 - accuracy: 0.8472\n",
      "Epoch 46/50\n",
      "71/71 [==============================] - ETA: 0s - loss: 0.4033 - accuracy: 0.78 - ETA: 0s - loss: 0.3312 - accuracy: 0.84 - 0s 904us/step - loss: 0.3313 - accuracy: 0.8517\n",
      "Epoch 47/50\n",
      "71/71 [==============================] - ETA: 0s - loss: 0.2926 - accuracy: 0.90 - ETA: 0s - loss: 0.3351 - accuracy: 0.85 - 0s 934us/step - loss: 0.3400 - accuracy: 0.8508\n",
      "Epoch 48/50\n",
      "71/71 [==============================] - ETA: 0s - loss: 0.2884 - accuracy: 0.87 - ETA: 0s - loss: 0.3432 - accuracy: 0.84 - 0s 1ms/step - loss: 0.3429 - accuracy: 0.8468\n",
      "Epoch 49/50\n",
      "71/71 [==============================] - ETA: 0s - loss: 0.2949 - accuracy: 0.84 - ETA: 0s - loss: 0.3375 - accuracy: 0.84 - 0s 982us/step - loss: 0.3323 - accuracy: 0.8521\n",
      "Epoch 50/50\n",
      "71/71 [==============================] - ETA: 0s - loss: 0.2475 - accuracy: 0.93 - ETA: 0s - loss: 0.3378 - accuracy: 0.85 - 0s 926us/step - loss: 0.3356 - accuracy: 0.8526\n",
      "24/24 [==============================] - ETA: 0s - loss: 0.3540 - accuracy: 0.90 - 0s 679us/step - loss: 0.3358 - accuracy: 0.8668\n",
      "0.8668442368507385\n"
     ]
    }
   ],
   "source": [
    "# Looks like best dropout rate is .4, so now we will use this\n",
    "# Run model using optimized dropout rate\n",
    "build_model_output = build_model(384, .4, .001)\n",
    "fit_model_output = fit_model(build_model_output, train_data9, train_labels9, 50)\n",
    "final_accuracy = evaluate_model(build_model_output, dev_data9, dev_labels9)\n",
    "print(final_accuracy)"
   ]
  },
  {
   "cell_type": "code",
   "execution_count": 122,
   "metadata": {},
   "outputs": [
    {
     "name": "stdout",
     "output_type": "stream",
     "text": [
      "Epoch 1/10\n",
      "71/71 [==============================] - ETA: 0s - loss: 6.0535 - accuracy: 0.37 - ETA: 0s - loss: 8.5258 - accuracy: 0.40 - 0s 1ms/step - loss: 8.4634 - accuracy: 0.4210\n",
      "Epoch 2/10\n",
      "71/71 [==============================] - ETA: 0s - loss: 9.3830 - accuracy: 0.37 - ETA: 0s - loss: 8.6540 - accuracy: 0.42 - 0s 1ms/step - loss: 8.7400 - accuracy: 0.4192\n",
      "Epoch 3/10\n",
      "71/71 [==============================] - ETA: 0s - loss: 9.7270 - accuracy: 0.34 - ETA: 0s - loss: 8.2770 - accuracy: 0.42 - 0s 981us/step - loss: 8.2585 - accuracy: 0.4170\n",
      "Epoch 4/10\n",
      "71/71 [==============================] - ETA: 0s - loss: 8.8865 - accuracy: 0.56 - ETA: 0s - loss: 8.5054 - accuracy: 0.41 - 0s 1ms/step - loss: 8.2662 - accuracy: 0.4263\n",
      "Epoch 5/10\n",
      "71/71 [==============================] - ETA: 0s - loss: 8.3935 - accuracy: 0.53 - ETA: 0s - loss: 8.1225 - accuracy: 0.41 - 0s 998us/step - loss: 8.2673 - accuracy: 0.4210\n",
      "Epoch 6/10\n",
      "71/71 [==============================] - ETA: 0s - loss: 4.3973 - accuracy: 0.62 - ETA: 0s - loss: 8.1494 - accuracy: 0.41 - 0s 1ms/step - loss: 8.0501 - accuracy: 0.4183\n",
      "Epoch 7/10\n",
      "71/71 [==============================] - ETA: 0s - loss: 4.5741 - accuracy: 0.62 - ETA: 0s - loss: 8.0397 - accuracy: 0.41 - 0s 1ms/step - loss: 7.8947 - accuracy: 0.4205\n",
      "Epoch 8/10\n",
      "71/71 [==============================] - ETA: 0s - loss: 5.5876 - accuracy: 0.43 - ETA: 0s - loss: 7.6698 - accuracy: 0.41 - 0s 1ms/step - loss: 7.7051 - accuracy: 0.4281\n",
      "Epoch 9/10\n",
      "71/71 [==============================] - ETA: 0s - loss: 7.0651 - accuracy: 0.46 - ETA: 0s - loss: 7.9750 - accuracy: 0.41 - 0s 967us/step - loss: 7.7358 - accuracy: 0.4241\n",
      "Epoch 10/10\n",
      "71/71 [==============================] - ETA: 0s - loss: 8.9788 - accuracy: 0.43 - ETA: 0s - loss: 7.2706 - accuracy: 0.43 - 0s 1ms/step - loss: 7.3966 - accuracy: 0.4290\n",
      "24/24 [==============================] - ETA: 0s - loss: 6.7183 - accuracy: 0.40 - 0s 763us/step - loss: 6.8685 - accuracy: 0.4328\n",
      "Epoch 1/10\n",
      "71/71 [==============================] - ETA: 0s - loss: 2.0603 - accuracy: 0.56 - ETA: 0s - loss: 3.7779 - accuracy: 0.50 - 0s 1ms/step - loss: 3.6939 - accuracy: 0.4987\n",
      "Epoch 2/10\n",
      "71/71 [==============================] - ETA: 0s - loss: 3.7194 - accuracy: 0.50 - ETA: 0s - loss: 3.1871 - accuracy: 0.51 - 0s 1ms/step - loss: 3.2465 - accuracy: 0.5115\n",
      "Epoch 3/10\n",
      "71/71 [==============================] - ETA: 0s - loss: 2.3711 - accuracy: 0.53 - ETA: 0s - loss: 3.2028 - accuracy: 0.48 - 0s 1ms/step - loss: 3.1340 - accuracy: 0.4987\n",
      "Epoch 4/10\n",
      "71/71 [==============================] - ETA: 0s - loss: 2.2741 - accuracy: 0.56 - ETA: 0s - loss: 2.9117 - accuracy: 0.52 - 0s 1ms/step - loss: 2.7935 - accuracy: 0.5346\n",
      "Epoch 5/10\n",
      "71/71 [==============================] - ETA: 0s - loss: 1.5895 - accuracy: 0.56 - ETA: 0s - loss: 2.6810 - accuracy: 0.52 - 0s 1ms/step - loss: 2.6491 - accuracy: 0.5462\n",
      "Epoch 6/10\n",
      "71/71 [==============================] - ETA: 0s - loss: 3.2992 - accuracy: 0.56 - ETA: 0s - loss: 2.4709 - accuracy: 0.57 - 0s 1ms/step - loss: 2.5657 - accuracy: 0.5613\n",
      "Epoch 7/10\n",
      "71/71 [==============================] - ETA: 0s - loss: 3.6724 - accuracy: 0.43 - ETA: 0s - loss: 2.3723 - accuracy: 0.58 - 0s 1ms/step - loss: 2.4801 - accuracy: 0.5746\n",
      "Epoch 8/10\n",
      "71/71 [==============================] - ETA: 0s - loss: 4.2269 - accuracy: 0.50 - ETA: 0s - loss: 2.8178 - accuracy: 0.54 - 0s 1ms/step - loss: 2.6969 - accuracy: 0.5555\n",
      "Epoch 9/10\n",
      "71/71 [==============================] - ETA: 0s - loss: 4.2286 - accuracy: 0.59 - ETA: 0s - loss: 2.3942 - accuracy: 0.58 - 0s 1ms/step - loss: 2.4125 - accuracy: 0.5804\n",
      "Epoch 10/10\n",
      "71/71 [==============================] - ETA: 0s - loss: 2.5902 - accuracy: 0.40 - ETA: 0s - loss: 2.4930 - accuracy: 0.57 - 0s 1ms/step - loss: 2.5375 - accuracy: 0.5671\n",
      "24/24 [==============================] - ETA: 0s - loss: 1.0196 - accuracy: 0.62 - 0s 701us/step - loss: 1.1950 - accuracy: 0.5832\n",
      "Epoch 1/10\n",
      "71/71 [==============================] - ETA: 0s - loss: 4.1580 - accuracy: 0.75 - ETA: 0s - loss: 2.9123 - accuracy: 0.58 - 0s 1ms/step - loss: 2.7771 - accuracy: 0.5813\n",
      "Epoch 2/10\n",
      "71/71 [==============================] - ETA: 0s - loss: 3.9988 - accuracy: 0.53 - ETA: 0s - loss: 2.6929 - accuracy: 0.55 - 0s 1ms/step - loss: 2.6336 - accuracy: 0.5657\n",
      "Epoch 3/10\n",
      "71/71 [==============================] - ETA: 0s - loss: 2.8047 - accuracy: 0.46 - ETA: 0s - loss: 2.5468 - accuracy: 0.58 - 0s 969us/step - loss: 2.5298 - accuracy: 0.5799\n",
      "Epoch 4/10\n",
      "71/71 [==============================] - ETA: 0s - loss: 1.5549 - accuracy: 0.62 - ETA: 0s - loss: 2.4240 - accuracy: 0.56 - 0s 978us/step - loss: 2.4168 - accuracy: 0.5764\n",
      "Epoch 5/10\n",
      "71/71 [==============================] - ETA: 0s - loss: 2.3807 - accuracy: 0.65 - ETA: 0s - loss: 2.4227 - accuracy: 0.60 - 0s 1ms/step - loss: 2.4094 - accuracy: 0.5986\n",
      "Epoch 6/10\n",
      "71/71 [==============================] - ETA: 0s - loss: 2.7839 - accuracy: 0.34 - ETA: 0s - loss: 2.2485 - accuracy: 0.60 - 0s 1ms/step - loss: 2.1858 - accuracy: 0.6044\n",
      "Epoch 7/10\n",
      "71/71 [==============================] - ETA: 0s - loss: 2.9818 - accuracy: 0.56 - ETA: 0s - loss: 2.0090 - accuracy: 0.60 - 0s 1ms/step - loss: 2.0453 - accuracy: 0.6052\n",
      "Epoch 8/10\n",
      "71/71 [==============================] - ETA: 0s - loss: 1.4704 - accuracy: 0.62 - ETA: 0s - loss: 2.1557 - accuracy: 0.62 - 0s 1ms/step - loss: 2.0627 - accuracy: 0.6217\n",
      "Epoch 9/10\n",
      "71/71 [==============================] - ETA: 0s - loss: 1.8378 - accuracy: 0.59 - ETA: 0s - loss: 1.8461 - accuracy: 0.64 - 0s 1ms/step - loss: 1.9699 - accuracy: 0.6292\n",
      "Epoch 10/10\n",
      "71/71 [==============================] - ETA: 0s - loss: 1.1588 - accuracy: 0.78 - ETA: 0s - loss: 1.9134 - accuracy: 0.64 - 0s 1ms/step - loss: 1.9366 - accuracy: 0.6417\n",
      "24/24 [==============================] - ETA: 0s - loss: 0.7230 - accuracy: 0.68 - 0s 688us/step - loss: 0.8157 - accuracy: 0.6778\n",
      "Epoch 1/10\n",
      "71/71 [==============================] - ETA: 0s - loss: 6.2352 - accuracy: 0.65 - ETA: 0s - loss: 2.8037 - accuracy: 0.58 - 0s 1ms/step - loss: 2.4869 - accuracy: 0.6048\n",
      "Epoch 2/10\n",
      "71/71 [==============================] - ETA: 0s - loss: 1.7913 - accuracy: 0.59 - ETA: 0s - loss: 1.7659 - accuracy: 0.64 - 0s 994us/step - loss: 1.6409 - accuracy: 0.6634\n",
      "Epoch 3/10\n",
      "71/71 [==============================] - ETA: 0s - loss: 1.2036 - accuracy: 0.62 - ETA: 0s - loss: 1.4534 - accuracy: 0.67 - 0s 988us/step - loss: 1.3772 - accuracy: 0.6807\n",
      "Epoch 4/10\n",
      "71/71 [==============================] - ETA: 0s - loss: 1.4148 - accuracy: 0.71 - ETA: 0s - loss: 0.9213 - accuracy: 0.73 - 0s 1ms/step - loss: 0.9257 - accuracy: 0.7349\n",
      "Epoch 5/10\n",
      "71/71 [==============================] - ETA: 0s - loss: 0.7869 - accuracy: 0.65 - ETA: 0s - loss: 0.8864 - accuracy: 0.73 - 0s 1ms/step - loss: 0.8429 - accuracy: 0.7456\n",
      "Epoch 6/10\n",
      "71/71 [==============================] - ETA: 0s - loss: 0.5948 - accuracy: 0.78 - ETA: 0s - loss: 0.6798 - accuracy: 0.76 - 0s 900us/step - loss: 0.6798 - accuracy: 0.7584\n",
      "Epoch 7/10\n",
      "71/71 [==============================] - ETA: 0s - loss: 0.7999 - accuracy: 0.71 - ETA: 0s - loss: 0.6412 - accuracy: 0.76 - 0s 903us/step - loss: 0.6467 - accuracy: 0.7673\n",
      "Epoch 8/10\n",
      "71/71 [==============================] - ETA: 0s - loss: 0.3199 - accuracy: 0.84 - ETA: 0s - loss: 0.5296 - accuracy: 0.78 - 0s 967us/step - loss: 0.5193 - accuracy: 0.7877\n",
      "Epoch 9/10\n",
      "71/71 [==============================] - ETA: 0s - loss: 0.4651 - accuracy: 0.81 - ETA: 0s - loss: 0.4877 - accuracy: 0.79 - 0s 964us/step - loss: 0.4816 - accuracy: 0.7980\n",
      "Epoch 10/10\n",
      "71/71 [==============================] - ETA: 0s - loss: 0.3040 - accuracy: 0.87 - ETA: 0s - loss: 0.4209 - accuracy: 0.81 - 0s 911us/step - loss: 0.4251 - accuracy: 0.8104\n",
      "24/24 [==============================] - ETA: 0s - loss: 0.3448 - accuracy: 0.87 - 0s 889us/step - loss: 0.3700 - accuracy: 0.8429\n",
      "Epoch 1/10\n",
      "71/71 [==============================] - ETA: 0s - loss: 4.8401 - accuracy: 0.59 - ETA: 0s - loss: 2.4662 - accuracy: 0.66 - 0s 1ms/step - loss: 2.1921 - accuracy: 0.6767\n",
      "Epoch 2/10\n",
      "71/71 [==============================] - ETA: 0s - loss: 0.5410 - accuracy: 0.84 - ETA: 0s - loss: 0.6556 - accuracy: 0.77 - 0s 1ms/step - loss: 0.5853 - accuracy: 0.7855\n"
     ]
    },
    {
     "name": "stdout",
     "output_type": "stream",
     "text": [
      "Epoch 3/10\n",
      "71/71 [==============================] - ETA: 0s - loss: 0.3199 - accuracy: 0.84 - ETA: 0s - loss: 0.4524 - accuracy: 0.79 - 0s 949us/step - loss: 0.4480 - accuracy: 0.7953\n",
      "Epoch 4/10\n",
      "71/71 [==============================] - ETA: 0s - loss: 0.3301 - accuracy: 0.81 - ETA: 0s - loss: 0.4094 - accuracy: 0.81 - 0s 1ms/step - loss: 0.4134 - accuracy: 0.8117\n",
      "Epoch 5/10\n",
      "71/71 [==============================] - ETA: 0s - loss: 0.5508 - accuracy: 0.71 - ETA: 0s - loss: 0.4279 - accuracy: 0.80 - 0s 930us/step - loss: 0.4240 - accuracy: 0.8077\n",
      "Epoch 6/10\n",
      "71/71 [==============================] - ETA: 0s - loss: 0.5549 - accuracy: 0.81 - ETA: 0s - loss: 0.3899 - accuracy: 0.82 - 0s 911us/step - loss: 0.3919 - accuracy: 0.8219\n",
      "Epoch 7/10\n",
      "71/71 [==============================] - ETA: 0s - loss: 0.2230 - accuracy: 0.90 - ETA: 0s - loss: 0.3900 - accuracy: 0.83 - 0s 887us/step - loss: 0.3994 - accuracy: 0.8304\n",
      "Epoch 8/10\n",
      "71/71 [==============================] - ETA: 0s - loss: 0.3485 - accuracy: 0.87 - ETA: 0s - loss: 0.4155 - accuracy: 0.81 - 0s 892us/step - loss: 0.4084 - accuracy: 0.8197\n",
      "Epoch 9/10\n",
      "71/71 [==============================] - ETA: 0s - loss: 0.4802 - accuracy: 0.81 - ETA: 0s - loss: 0.4051 - accuracy: 0.82 - 0s 952us/step - loss: 0.4121 - accuracy: 0.8246\n",
      "Epoch 10/10\n",
      "71/71 [==============================] - ETA: 0s - loss: 0.3668 - accuracy: 0.78 - ETA: 0s - loss: 0.3947 - accuracy: 0.82 - 0s 966us/step - loss: 0.4197 - accuracy: 0.8157\n",
      "24/24 [==============================] - ETA: 0s - loss: 0.5554 - accuracy: 0.75 - 0s 808us/step - loss: 0.5711 - accuracy: 0.7590\n",
      "Epoch 1/10\n",
      "71/71 [==============================] - ETA: 0s - loss: 5.9389 - accuracy: 0.37 - ETA: 0s - loss: 47.4908 - accuracy: 0.647 - 0s 935us/step - loss: 41.1081 - accuracy: 0.6594\n",
      "Epoch 2/10\n",
      "71/71 [==============================] - ETA: 0s - loss: 10.9098 - accuracy: 0.750 - ETA: 0s - loss: 11.0621 - accuracy: 0.739 - 0s 978us/step - loss: 9.6304 - accuracy: 0.7536\n",
      "Epoch 3/10\n",
      "71/71 [==============================] - ETA: 0s - loss: 9.2032 - accuracy: 0.78 - ETA: 0s - loss: 9.5820 - accuracy: 0.75 - 0s 948us/step - loss: 10.3620 - accuracy: 0.7580\n",
      "Epoch 4/10\n",
      "71/71 [==============================] - ETA: 0s - loss: 2.4585 - accuracy: 0.87 - ETA: 0s - loss: 10.5735 - accuracy: 0.768 - 0s 894us/step - loss: 10.3773 - accuracy: 0.7695\n",
      "Epoch 5/10\n",
      "71/71 [==============================] - ETA: 0s - loss: 12.1796 - accuracy: 0.718 - ETA: 0s - loss: 17.2324 - accuracy: 0.742 - 0s 893us/step - loss: 18.4338 - accuracy: 0.7442\n",
      "Epoch 6/10\n",
      "71/71 [==============================] - ETA: 0s - loss: 78.3130 - accuracy: 0.593 - ETA: 0s - loss: 17.9218 - accuracy: 0.776 - 0s 879us/step - loss: 16.2773 - accuracy: 0.7802\n",
      "Epoch 7/10\n",
      "71/71 [==============================] - ETA: 0s - loss: 5.9288 - accuracy: 0.84 - ETA: 0s - loss: 10.6412 - accuracy: 0.789 - 0s 885us/step - loss: 10.9217 - accuracy: 0.7815\n",
      "Epoch 8/10\n",
      "71/71 [==============================] - ETA: 0s - loss: 1.5658 - accuracy: 0.75 - ETA: 0s - loss: 11.5500 - accuracy: 0.785 - 0s 921us/step - loss: 11.4744 - accuracy: 0.7851\n",
      "Epoch 9/10\n",
      "71/71 [==============================] - ETA: 0s - loss: 8.9632 - accuracy: 0.81 - ETA: 0s - loss: 19.6448 - accuracy: 0.757 - 0s 930us/step - loss: 19.7783 - accuracy: 0.7642\n",
      "Epoch 10/10\n",
      "71/71 [==============================] - ETA: 0s - loss: 17.7542 - accuracy: 0.781 - ETA: 0s - loss: 22.0236 - accuracy: 0.758 - 0s 938us/step - loss: 22.2446 - accuracy: 0.7611\n",
      "24/24 [==============================] - ETA: 0s - loss: 19.7564 - accuracy: 0.781 - 0s 792us/step - loss: 45.8211 - accuracy: 0.7710\n"
     ]
    }
   ],
   "source": [
    "# Optimize learning rate\n",
    "# Loop through learning rates\n",
    "learning_rate_list = [.000001, .00001, .0001, .001, .01, .1]\n",
    "final_accuracy_learning_list = []\n",
    "\n",
    "for i in learning_rate_list:\n",
    "    build_model_output = build_model(384, .4, i)\n",
    "    fit_model_output = fit_model(build_model_output, train_data9, train_labels9, 10)\n",
    "    final_accuracy = evaluate_model(build_model_output, dev_data9, dev_labels9)\n",
    "    final_accuracy_learning_list.append(final_accuracy)"
   ]
  },
  {
   "cell_type": "code",
   "execution_count": 123,
   "metadata": {},
   "outputs": [
    {
     "data": {
      "text/plain": [
       "Text(0, 0.5, 'Accuracy')"
      ]
     },
     "execution_count": 123,
     "metadata": {},
     "output_type": "execute_result"
    },
    {
     "data": {
      "image/png": "[encoded data removed]",
      "text/plain": [
       "<Figure size 432x288 with 1 Axes>"
      ]
     },
     "metadata": {
      "needs_background": "light"
     },
     "output_type": "display_data"
    }
   ],
   "source": [
    "# Graph results\n",
    "plt.plot(learning_rate_list, final_accuracy_learning_list, label = \"Predicted Accuracies\", marker = \".\")\n",
    "plt.xlabel('Learning Rate')\n",
    "plt.ylabel('Accuracy')"
   ]
  },
  {
   "cell_type": "code",
   "execution_count": 125,
   "metadata": {},
   "outputs": [
    {
     "name": "stdout",
     "output_type": "stream",
     "text": [
      "Epoch 1/50\n",
      "71/71 [==============================] - ETA: 0s - loss: 4.9209 - accuracy: 0.31 - ETA: 0s - loss: 2.5132 - accuracy: 0.57 - 0s 1ms/step - loss: 2.1505 - accuracy: 0.6132\n",
      "Epoch 2/50\n",
      "71/71 [==============================] - ETA: 0s - loss: 0.8907 - accuracy: 0.68 - ETA: 0s - loss: 1.7039 - accuracy: 0.64 - 0s 969us/step - loss: 1.6035 - accuracy: 0.6536\n",
      "Epoch 3/50\n",
      "71/71 [==============================] - ETA: 0s - loss: 1.5184 - accuracy: 0.62 - ETA: 0s - loss: 1.2230 - accuracy: 0.68 - 0s 998us/step - loss: 1.1669 - accuracy: 0.6940\n",
      "Epoch 4/50\n",
      "71/71 [==============================] - ETA: 0s - loss: 1.1056 - accuracy: 0.75 - ETA: 0s - loss: 0.8446 - accuracy: 0.73 - 0s 961us/step - loss: 0.8403 - accuracy: 0.7362\n",
      "Epoch 5/50\n",
      "71/71 [==============================] - ETA: 0s - loss: 0.6686 - accuracy: 0.78 - ETA: 0s - loss: 0.6881 - accuracy: 0.76 - 0s 1ms/step - loss: 0.6884 - accuracy: 0.7629\n",
      "Epoch 6/50\n",
      "71/71 [==============================] - ETA: 0s - loss: 0.6918 - accuracy: 0.78 - ETA: 0s - loss: 0.6804 - accuracy: 0.76 - 0s 1ms/step - loss: 0.6444 - accuracy: 0.7682\n",
      "Epoch 7/50\n",
      "71/71 [==============================] - ETA: 0s - loss: 0.4284 - accuracy: 0.78 - ETA: 0s - loss: 0.5846 - accuracy: 0.77 - 0s 1ms/step - loss: 0.5470 - accuracy: 0.7882\n",
      "Epoch 8/50\n",
      "71/71 [==============================] - ETA: 0s - loss: 0.3473 - accuracy: 0.93 - ETA: 0s - loss: 0.5088 - accuracy: 0.79 - 0s 1ms/step - loss: 0.5287 - accuracy: 0.7909\n",
      "Epoch 9/50\n",
      "71/71 [==============================] - ETA: 0s - loss: 0.4162 - accuracy: 0.81 - ETA: 0s - loss: 0.4436 - accuracy: 0.80 - 0s 916us/step - loss: 0.4387 - accuracy: 0.8060\n",
      "Epoch 10/50\n",
      "71/71 [==============================] - ETA: 0s - loss: 0.3920 - accuracy: 0.81 - ETA: 0s - loss: 0.3927 - accuracy: 0.82 - 0s 1ms/step - loss: 0.4055 - accuracy: 0.8210\n",
      "Epoch 11/50\n",
      "71/71 [==============================] - ETA: 0s - loss: 0.2771 - accuracy: 0.87 - ETA: 0s - loss: 0.3928 - accuracy: 0.82 - 0s 1ms/step - loss: 0.4167 - accuracy: 0.8122\n",
      "Epoch 12/50\n",
      "71/71 [==============================] - ETA: 0s - loss: 0.4495 - accuracy: 0.78 - ETA: 0s - loss: 0.3968 - accuracy: 0.82 - 0s 1ms/step - loss: 0.3950 - accuracy: 0.8255\n",
      "Epoch 13/50\n",
      "71/71 [==============================] - ETA: 0s - loss: 0.2904 - accuracy: 0.87 - ETA: 0s - loss: 0.3744 - accuracy: 0.83 - 0s 1ms/step - loss: 0.3776 - accuracy: 0.8286\n",
      "Epoch 14/50\n",
      "71/71 [==============================] - ETA: 0s - loss: 0.5389 - accuracy: 0.75 - ETA: 0s - loss: 0.4074 - accuracy: 0.80 - 0s 1ms/step - loss: 0.3881 - accuracy: 0.8166\n",
      "Epoch 15/50\n",
      "71/71 [==============================] - ETA: 0s - loss: 0.2516 - accuracy: 0.90 - ETA: 0s - loss: 0.3709 - accuracy: 0.82 - 0s 1ms/step - loss: 0.3728 - accuracy: 0.8264\n",
      "Epoch 16/50\n",
      "71/71 [==============================] - ETA: 0s - loss: 0.3868 - accuracy: 0.87 - ETA: 0s - loss: 0.3648 - accuracy: 0.83 - 0s 1ms/step - loss: 0.3693 - accuracy: 0.8277\n",
      "Epoch 17/50\n",
      "71/71 [==============================] - ETA: 0s - loss: 0.4831 - accuracy: 0.78 - ETA: 0s - loss: 0.3574 - accuracy: 0.83 - 0s 1ms/step - loss: 0.3653 - accuracy: 0.8273\n",
      "Epoch 18/50\n",
      "71/71 [==============================] - ETA: 0s - loss: 0.2716 - accuracy: 0.87 - ETA: 0s - loss: 0.3743 - accuracy: 0.82 - 0s 1ms/step - loss: 0.3650 - accuracy: 0.8295\n",
      "Epoch 19/50\n",
      "71/71 [==============================] - ETA: 0s - loss: 0.2468 - accuracy: 0.87 - ETA: 0s - loss: 0.3651 - accuracy: 0.83 - 0s 1ms/step - loss: 0.3740 - accuracy: 0.8255\n",
      "Epoch 20/50\n",
      "71/71 [==============================] - ETA: 0s - loss: 0.3593 - accuracy: 0.81 - ETA: 0s - loss: 0.3693 - accuracy: 0.82 - 0s 1ms/step - loss: 0.3610 - accuracy: 0.8339\n",
      "Epoch 21/50\n",
      "71/71 [==============================] - ETA: 0s - loss: 0.2981 - accuracy: 0.87 - ETA: 0s - loss: 0.3537 - accuracy: 0.83 - 0s 1ms/step - loss: 0.3585 - accuracy: 0.8370\n",
      "Epoch 22/50\n",
      "71/71 [==============================] - ETA: 0s - loss: 0.4714 - accuracy: 0.81 - ETA: 0s - loss: 0.3553 - accuracy: 0.83 - 0s 991us/step - loss: 0.3601 - accuracy: 0.8348\n",
      "Epoch 23/50\n",
      "71/71 [==============================] - ETA: 0s - loss: 0.2894 - accuracy: 0.90 - ETA: 0s - loss: 0.3559 - accuracy: 0.83 - 0s 960us/step - loss: 0.3535 - accuracy: 0.8401\n",
      "Epoch 24/50\n",
      "71/71 [==============================] - ETA: 0s - loss: 0.4194 - accuracy: 0.78 - ETA: 0s - loss: 0.3779 - accuracy: 0.81 - 0s 1ms/step - loss: 0.3628 - accuracy: 0.8317\n",
      "Epoch 25/50\n",
      "71/71 [==============================] - ETA: 0s - loss: 0.3967 - accuracy: 0.71 - ETA: 0s - loss: 0.3444 - accuracy: 0.84 - 0s 999us/step - loss: 0.3497 - accuracy: 0.8459\n",
      "Epoch 26/50\n",
      "71/71 [==============================] - ETA: 0s - loss: 0.3870 - accuracy: 0.81 - ETA: 0s - loss: 0.3379 - accuracy: 0.84 - 0s 1ms/step - loss: 0.3481 - accuracy: 0.8366\n",
      "Epoch 27/50\n",
      "71/71 [==============================] - ETA: 0s - loss: 0.4036 - accuracy: 0.81 - ETA: 0s - loss: 0.3506 - accuracy: 0.84 - 0s 1ms/step - loss: 0.3512 - accuracy: 0.8428\n",
      "Epoch 28/50\n",
      "71/71 [==============================] - ETA: 0s - loss: 0.4693 - accuracy: 0.71 - ETA: 0s - loss: 0.3490 - accuracy: 0.84 - 0s 1ms/step - loss: 0.3495 - accuracy: 0.8401\n",
      "Epoch 29/50\n",
      "71/71 [==============================] - ETA: 0s - loss: 0.5517 - accuracy: 0.78 - ETA: 0s - loss: 0.3614 - accuracy: 0.83 - 0s 1ms/step - loss: 0.3542 - accuracy: 0.8379\n",
      "Epoch 30/50\n",
      "71/71 [==============================] - ETA: 0s - loss: 0.2550 - accuracy: 0.87 - ETA: 0s - loss: 0.3451 - accuracy: 0.84 - 0s 1ms/step - loss: 0.3504 - accuracy: 0.8370\n",
      "Epoch 31/50\n",
      "71/71 [==============================] - ETA: 0s - loss: 0.1889 - accuracy: 0.93 - ETA: 0s - loss: 0.3571 - accuracy: 0.82 - 0s 991us/step - loss: 0.3505 - accuracy: 0.8335\n",
      "Epoch 32/50\n",
      "71/71 [==============================] - ETA: 0s - loss: 0.6529 - accuracy: 0.71 - ETA: 0s - loss: 0.3445 - accuracy: 0.84 - 0s 1ms/step - loss: 0.3423 - accuracy: 0.8455\n",
      "Epoch 33/50\n",
      "71/71 [==============================] - ETA: 0s - loss: 0.3707 - accuracy: 0.84 - ETA: 0s - loss: 0.3465 - accuracy: 0.83 - 0s 1ms/step - loss: 0.3476 - accuracy: 0.8397\n",
      "Epoch 34/50\n",
      "71/71 [==============================] - ETA: 0s - loss: 0.3630 - accuracy: 0.81 - ETA: 0s - loss: 0.3452 - accuracy: 0.84 - 0s 1ms/step - loss: 0.3465 - accuracy: 0.8450\n",
      "Epoch 35/50\n",
      "71/71 [==============================] - ETA: 0s - loss: 0.4491 - accuracy: 0.78 - ETA: 0s - loss: 0.3332 - accuracy: 0.86 - 0s 1ms/step - loss: 0.3408 - accuracy: 0.8486\n",
      "Epoch 36/50\n",
      "71/71 [==============================] - ETA: 0s - loss: 0.3336 - accuracy: 0.84 - ETA: 0s - loss: 0.3364 - accuracy: 0.84 - 0s 1ms/step - loss: 0.3360 - accuracy: 0.8468\n",
      "Epoch 37/50\n",
      "71/71 [==============================] - ETA: 0s - loss: 0.3478 - accuracy: 0.84 - ETA: 0s - loss: 0.3453 - accuracy: 0.84 - 0s 1ms/step - loss: 0.3417 - accuracy: 0.8415\n",
      "Epoch 38/50\n",
      "71/71 [==============================] - ETA: 0s - loss: 0.3153 - accuracy: 0.84 - ETA: 0s - loss: 0.3499 - accuracy: 0.83 - 0s 1ms/step - loss: 0.3417 - accuracy: 0.8437\n",
      "Epoch 39/50\n",
      "71/71 [==============================] - ETA: 0s - loss: 0.3335 - accuracy: 0.90 - ETA: 0s - loss: 0.3536 - accuracy: 0.84 - 0s 1ms/step - loss: 0.3477 - accuracy: 0.8472\n",
      "Epoch 40/50\n",
      "71/71 [==============================] - ETA: 0s - loss: 0.3202 - accuracy: 0.90 - ETA: 0s - loss: 0.3437 - accuracy: 0.84 - 0s 1ms/step - loss: 0.3416 - accuracy: 0.8450\n",
      "Epoch 41/50\n",
      "71/71 [==============================] - ETA: 0s - loss: 0.2838 - accuracy: 0.87 - ETA: 0s - loss: 0.3373 - accuracy: 0.84 - 0s 1ms/step - loss: 0.3389 - accuracy: 0.8446\n",
      "Epoch 42/50\n",
      "71/71 [==============================] - ETA: 0s - loss: 0.4870 - accuracy: 0.75 - ETA: 0s - loss: 0.3322 - accuracy: 0.84 - 0s 1ms/step - loss: 0.3428 - accuracy: 0.8428\n",
      "Epoch 43/50\n",
      "71/71 [==============================] - ETA: 0s - loss: 0.3673 - accuracy: 0.81 - ETA: 0s - loss: 0.3166 - accuracy: 0.86 - 0s 1ms/step - loss: 0.3317 - accuracy: 0.8526\n",
      "Epoch 44/50\n",
      "71/71 [==============================] - ETA: 0s - loss: 0.3711 - accuracy: 0.87 - ETA: 0s - loss: 0.3450 - accuracy: 0.84 - 0s 1ms/step - loss: 0.3313 - accuracy: 0.8499\n",
      "Epoch 45/50\n"
     ]
    },
    {
     "name": "stdout",
     "output_type": "stream",
     "text": [
      "71/71 [==============================] - ETA: 0s - loss: 0.2838 - accuracy: 0.90 - ETA: 0s - loss: 0.3298 - accuracy: 0.85 - 0s 923us/step - loss: 0.3345 - accuracy: 0.8486\n",
      "Epoch 46/50\n",
      "71/71 [==============================] - ETA: 0s - loss: 0.2443 - accuracy: 0.90 - ETA: 0s - loss: 0.3372 - accuracy: 0.83 - 0s 1ms/step - loss: 0.3407 - accuracy: 0.8406\n",
      "Epoch 47/50\n",
      "71/71 [==============================] - ETA: 0s - loss: 0.3257 - accuracy: 0.84 - ETA: 0s - loss: 0.3332 - accuracy: 0.85 - 0s 1ms/step - loss: 0.3356 - accuracy: 0.8508\n",
      "Epoch 48/50\n",
      "71/71 [==============================] - ETA: 0s - loss: 0.3020 - accuracy: 0.87 - ETA: 0s - loss: 0.3382 - accuracy: 0.84 - 0s 909us/step - loss: 0.3292 - accuracy: 0.8535\n",
      "Epoch 49/50\n",
      "71/71 [==============================] - ETA: 0s - loss: 0.3878 - accuracy: 0.78 - ETA: 0s - loss: 0.3336 - accuracy: 0.84 - 0s 894us/step - loss: 0.3307 - accuracy: 0.8495\n",
      "Epoch 50/50\n",
      "71/71 [==============================] - ETA: 0s - loss: 0.3709 - accuracy: 0.81 - ETA: 0s - loss: 0.3361 - accuracy: 0.84 - 0s 908us/step - loss: 0.3355 - accuracy: 0.8455\n",
      "24/24 [==============================] - ETA: 0s - loss: 0.3613 - accuracy: 0.78 - 0s 740us/step - loss: 0.3537 - accuracy: 0.8322\n",
      "0.8322237133979797\n"
     ]
    }
   ],
   "source": [
    "# Looks like best learning rate is .001, so now we will use this\n",
    "# Run model using learning dropout rate\n",
    "build_model_output = build_model(384, .4, .001)\n",
    "fit_model_output = fit_model(build_model_output, train_data9, train_labels9, 50)\n",
    "final_accuracy = evaluate_model(build_model_output, dev_data9, dev_labels9)\n",
    "print(final_accuracy)"
   ]
  },
  {
   "cell_type": "code",
   "execution_count": 126,
   "metadata": {},
   "outputs": [
    {
     "name": "stdout",
     "output_type": "stream",
     "text": [
      "Epoch 1/10\n",
      "71/71 [==============================] - ETA: 0s - loss: 4.9893 - accuracy: 0.34 - ETA: 0s - loss: 5.3231 - accuracy: 0.59 - 0s 740us/step - loss: 5.3231 - accuracy: 0.5933\n",
      "Epoch 2/10\n",
      "71/71 [==============================] - ETA: 0s - loss: 2.4102 - accuracy: 0.56 - 0s 663us/step - loss: 3.5062 - accuracy: 0.5853\n",
      "Epoch 3/10\n",
      "71/71 [==============================] - ETA: 0s - loss: 2.0882 - accuracy: 0.68 - 0s 655us/step - loss: 1.6283 - accuracy: 0.5977\n",
      "Epoch 4/10\n",
      "71/71 [==============================] - ETA: 0s - loss: 1.0016 - accuracy: 0.59 - 0s 644us/step - loss: 0.7869 - accuracy: 0.5733\n",
      "Epoch 5/10\n",
      "71/71 [==============================] - ETA: 0s - loss: 0.6332 - accuracy: 0.68 - ETA: 0s - loss: 0.6720 - accuracy: 0.60 - 0s 1ms/step - loss: 0.6754 - accuracy: 0.5955\n",
      "Epoch 6/10\n",
      "71/71 [==============================] - ETA: 0s - loss: 0.6858 - accuracy: 0.53 - 0s 696us/step - loss: 0.6757 - accuracy: 0.5955\n",
      "Epoch 7/10\n",
      "71/71 [==============================] - ETA: 0s - loss: 0.6388 - accuracy: 0.68 - ETA: 0s - loss: 0.6753 - accuracy: 0.59 - 0s 733us/step - loss: 0.6753 - accuracy: 0.5955\n",
      "Epoch 8/10\n",
      "71/71 [==============================] - ETA: 0s - loss: 0.6247 - accuracy: 0.71 - ETA: 0s - loss: 0.6752 - accuracy: 0.59 - 0s 772us/step - loss: 0.6760 - accuracy: 0.5955\n",
      "Epoch 9/10\n",
      "71/71 [==============================] - ETA: 0s - loss: 0.6363 - accuracy: 0.65 - ETA: 0s - loss: 0.6752 - accuracy: 0.59 - 0s 734us/step - loss: 0.6752 - accuracy: 0.5955\n",
      "Epoch 10/10\n",
      "71/71 [==============================] - ETA: 0s - loss: 0.7488 - accuracy: 0.40 - ETA: 0s - loss: 0.6744 - accuracy: 0.59 - 0s 767us/step - loss: 0.6756 - accuracy: 0.5955\n",
      "24/24 [==============================] - ETA: 0s - loss: 0.6752 - accuracy: 0.59 - 0s 594us/step - loss: 0.6857 - accuracy: 0.5686\n",
      "Epoch 1/10\n",
      "71/71 [==============================] - ETA: 0s - loss: 13.3671 - accuracy: 0.562 - ETA: 0s - loss: 7.4144 - accuracy: 0.544 - 0s 963us/step - loss: 6.9549 - accuracy: 0.5484\n",
      "Epoch 2/10\n",
      "71/71 [==============================] - ETA: 0s - loss: 4.3088 - accuracy: 0.50 - ETA: 0s - loss: 4.9714 - accuracy: 0.57 - 0s 1ms/step - loss: 4.8673 - accuracy: 0.5693\n",
      "Epoch 3/10\n",
      "71/71 [==============================] - ETA: 0s - loss: 3.5193 - accuracy: 0.59 - ETA: 0s - loss: 3.9266 - accuracy: 0.59 - 0s 938us/step - loss: 3.7591 - accuracy: 0.6008\n",
      "Epoch 4/10\n",
      "71/71 [==============================] - ETA: 0s - loss: 1.3820 - accuracy: 0.65 - ETA: 0s - loss: 2.8098 - accuracy: 0.60 - 0s 872us/step - loss: 2.7667 - accuracy: 0.6026\n",
      "Epoch 5/10\n",
      "71/71 [==============================] - ETA: 0s - loss: 2.5137 - accuracy: 0.68 - ETA: 0s - loss: 1.9109 - accuracy: 0.63 - 0s 825us/step - loss: 1.8629 - accuracy: 0.6425\n",
      "Epoch 6/10\n",
      "71/71 [==============================] - ETA: 0s - loss: 1.9172 - accuracy: 0.59 - ETA: 0s - loss: 1.4667 - accuracy: 0.66 - 0s 906us/step - loss: 1.4022 - accuracy: 0.6705\n",
      "Epoch 7/10\n",
      "71/71 [==============================] - ETA: 0s - loss: 1.0276 - accuracy: 0.65 - ETA: 0s - loss: 0.8664 - accuracy: 0.72 - 0s 807us/step - loss: 0.8803 - accuracy: 0.7194\n",
      "Epoch 8/10\n",
      "71/71 [==============================] - ETA: 0s - loss: 0.3882 - accuracy: 0.84 - ETA: 0s - loss: 0.6845 - accuracy: 0.74 - 0s 990us/step - loss: 0.6747 - accuracy: 0.7451\n",
      "Epoch 9/10\n",
      "71/71 [==============================] - ETA: 0s - loss: 0.4276 - accuracy: 0.84 - ETA: 0s - loss: 0.5719 - accuracy: 0.76 - 0s 945us/step - loss: 0.5530 - accuracy: 0.7709\n",
      "Epoch 10/10\n",
      "71/71 [==============================] - ETA: 0s - loss: 0.4463 - accuracy: 0.78 - ETA: 0s - loss: 0.4641 - accuracy: 0.79 - 0s 953us/step - loss: 0.4713 - accuracy: 0.7957\n",
      "24/24 [==============================] - ETA: 0s - loss: 0.3541 - accuracy: 0.87 - 0s 718us/step - loss: 0.3784 - accuracy: 0.8216\n",
      "Epoch 1/10\n",
      "71/71 [==============================] - ETA: 0s - loss: 15.9154 - accuracy: 0.343 - ETA: 0s - loss: 5.1977 - accuracy: 0.542 - 0s 965us/step - loss: 5.0118 - accuracy: 0.5528\n",
      "Epoch 2/10\n",
      "71/71 [==============================] - ETA: 0s - loss: 2.6919 - accuracy: 0.62 - ETA: 0s - loss: 3.5544 - accuracy: 0.57 - 0s 890us/step - loss: 3.4726 - accuracy: 0.5861\n",
      "Epoch 3/10\n",
      "71/71 [==============================] - ETA: 0s - loss: 3.4057 - accuracy: 0.65 - ETA: 0s - loss: 2.5326 - accuracy: 0.61 - 0s 877us/step - loss: 2.4903 - accuracy: 0.6168\n",
      "Epoch 4/10\n",
      "71/71 [==============================] - ETA: 0s - loss: 2.3369 - accuracy: 0.65 - ETA: 0s - loss: 1.8785 - accuracy: 0.64 - 0s 865us/step - loss: 1.8472 - accuracy: 0.6488\n",
      "Epoch 5/10\n",
      "71/71 [==============================] - ETA: 0s - loss: 1.3947 - accuracy: 0.68 - ETA: 0s - loss: 1.3450 - accuracy: 0.67 - 0s 869us/step - loss: 1.3249 - accuracy: 0.6812\n",
      "Epoch 6/10\n",
      "71/71 [==============================] - ETA: 0s - loss: 2.2036 - accuracy: 0.56 - ETA: 0s - loss: 0.9962 - accuracy: 0.72 - 0s 865us/step - loss: 0.9774 - accuracy: 0.7247\n",
      "Epoch 7/10\n",
      "71/71 [==============================] - ETA: 0s - loss: 1.0351 - accuracy: 0.65 - ETA: 0s - loss: 0.8047 - accuracy: 0.73 - 0s 837us/step - loss: 0.8077 - accuracy: 0.7411\n",
      "Epoch 8/10\n",
      "71/71 [==============================] - ETA: 0s - loss: 0.8293 - accuracy: 0.68 - ETA: 0s - loss: 0.6660 - accuracy: 0.75 - 0s 910us/step - loss: 0.6474 - accuracy: 0.7624\n",
      "Epoch 9/10\n",
      "71/71 [==============================] - ETA: 0s - loss: 0.5240 - accuracy: 0.81 - ETA: 0s - loss: 0.5089 - accuracy: 0.78 - 0s 823us/step - loss: 0.5168 - accuracy: 0.7851\n",
      "Epoch 10/10\n",
      "71/71 [==============================] - ETA: 0s - loss: 0.4870 - accuracy: 0.81 - ETA: 0s - loss: 0.5045 - accuracy: 0.79 - 0s 823us/step - loss: 0.5054 - accuracy: 0.7891\n",
      "24/24 [==============================] - ETA: 0s - loss: 0.3620 - accuracy: 0.81 - 0s 642us/step - loss: 0.3732 - accuracy: 0.8349\n",
      "Epoch 1/10\n",
      "71/71 [==============================] - ETA: 0s - loss: 6.2034 - accuracy: 0.46 - ETA: 0s - loss: 4.6775 - accuracy: 0.54 - 0s 1ms/step - loss: 4.5260 - accuracy: 0.5466\n",
      "Epoch 2/10\n",
      "71/71 [==============================] - ETA: 0s - loss: 2.0202 - accuracy: 0.65 - ETA: 0s - loss: 3.2823 - accuracy: 0.60 - 0s 891us/step - loss: 3.2019 - accuracy: 0.6159\n",
      "Epoch 3/10\n",
      "71/71 [==============================] - ETA: 0s - loss: 3.0438 - accuracy: 0.65 - ETA: 0s - loss: 2.5293 - accuracy: 0.62 - 0s 971us/step - loss: 2.4733 - accuracy: 0.6266\n",
      "Epoch 4/10\n",
      "71/71 [==============================] - ETA: 0s - loss: 1.7249 - accuracy: 0.71 - ETA: 0s - loss: 1.9931 - accuracy: 0.62 - 0s 1ms/step - loss: 1.8451 - accuracy: 0.6465\n",
      "Epoch 5/10\n",
      "71/71 [==============================] - ETA: 0s - loss: 1.0375 - accuracy: 0.75 - ETA: 0s - loss: 1.4818 - accuracy: 0.67 - 0s 952us/step - loss: 1.4050 - accuracy: 0.6936\n",
      "Epoch 6/10\n",
      "71/71 [==============================] - ETA: 0s - loss: 1.4971 - accuracy: 0.65 - ETA: 0s - loss: 1.1441 - accuracy: 0.71 - 0s 844us/step - loss: 1.1311 - accuracy: 0.7140\n",
      "Epoch 7/10\n",
      "71/71 [==============================] - ETA: 0s - loss: 0.8270 - accuracy: 0.81 - ETA: 0s - loss: 0.8729 - accuracy: 0.74 - 0s 828us/step - loss: 0.8692 - accuracy: 0.7411\n",
      "Epoch 8/10\n",
      "71/71 [==============================] - ETA: 0s - loss: 1.1190 - accuracy: 0.68 - ETA: 0s - loss: 0.7151 - accuracy: 0.75 - 0s 836us/step - loss: 0.7161 - accuracy: 0.7584\n",
      "Epoch 9/10\n",
      "71/71 [==============================] - ETA: 0s - loss: 0.7779 - accuracy: 0.65 - ETA: 0s - loss: 0.6009 - accuracy: 0.78 - 0s 825us/step - loss: 0.5957 - accuracy: 0.7784\n",
      "Epoch 10/10\n",
      "71/71 [==============================] - ETA: 0s - loss: 0.5676 - accuracy: 0.81 - ETA: 0s - loss: 0.5062 - accuracy: 0.78 - 0s 901us/step - loss: 0.5086 - accuracy: 0.7824\n",
      "24/24 [==============================] - ETA: 0s - loss: 0.3650 - accuracy: 0.87 - 0s 726us/step - loss: 0.3503 - accuracy: 0.8482\n",
      "Epoch 1/10\n",
      "71/71 [==============================] - ETA: 0s - loss: 4.5814 - accuracy: 0.65 - ETA: 0s - loss: 3.6614 - accuracy: 0.57 - 0s 875us/step - loss: 3.5445 - accuracy: 0.5875\n",
      "Epoch 2/10\n",
      "71/71 [==============================] - ETA: 0s - loss: 2.0724 - accuracy: 0.71 - ETA: 0s - loss: 2.7188 - accuracy: 0.62 - 0s 865us/step - loss: 2.6668 - accuracy: 0.6266\n",
      "Epoch 3/10\n"
     ]
    },
    {
     "name": "stdout",
     "output_type": "stream",
     "text": [
      "71/71 [==============================] - ETA: 0s - loss: 3.3137 - accuracy: 0.53 - ETA: 0s - loss: 1.8945 - accuracy: 0.66 - 0s 927us/step - loss: 1.7954 - accuracy: 0.6670\n",
      "Epoch 4/10\n",
      "71/71 [==============================] - ETA: 0s - loss: 2.7266 - accuracy: 0.59 - ETA: 0s - loss: 1.3116 - accuracy: 0.70 - 0s 940us/step - loss: 1.3434 - accuracy: 0.7029\n",
      "Epoch 5/10\n",
      "71/71 [==============================] - ETA: 0s - loss: 1.3556 - accuracy: 0.68 - ETA: 0s - loss: 1.1533 - accuracy: 0.71 - 0s 916us/step - loss: 1.1290 - accuracy: 0.7189\n",
      "Epoch 6/10\n",
      "71/71 [==============================] - ETA: 0s - loss: 0.9805 - accuracy: 0.65 - ETA: 0s - loss: 0.8259 - accuracy: 0.74 - 0s 908us/step - loss: 0.8138 - accuracy: 0.7531\n",
      "Epoch 7/10\n",
      "71/71 [==============================] - ETA: 0s - loss: 0.1894 - accuracy: 0.96 - ETA: 0s - loss: 0.6890 - accuracy: 0.76 - 0s 922us/step - loss: 0.6852 - accuracy: 0.7660\n",
      "Epoch 8/10\n",
      "71/71 [==============================] - ETA: 0s - loss: 0.9471 - accuracy: 0.78 - ETA: 0s - loss: 0.6206 - accuracy: 0.77 - 0s 865us/step - loss: 0.5971 - accuracy: 0.7811\n",
      "Epoch 9/10\n",
      "71/71 [==============================] - ETA: 0s - loss: 0.3765 - accuracy: 0.84 - ETA: 0s - loss: 0.5308 - accuracy: 0.78 - 0s 820us/step - loss: 0.5287 - accuracy: 0.7869\n",
      "Epoch 10/10\n",
      "71/71 [==============================] - ETA: 0s - loss: 0.2473 - accuracy: 0.90 - ETA: 0s - loss: 0.4366 - accuracy: 0.80 - 0s 878us/step - loss: 0.4404 - accuracy: 0.8046\n",
      "24/24 [==============================] - ETA: 0s - loss: 0.3809 - accuracy: 0.87 - 0s 715us/step - loss: 0.3530 - accuracy: 0.8322\n",
      "Epoch 1/10\n",
      "71/71 [==============================] - ETA: 0s - loss: 2.4405 - accuracy: 0.62 - ETA: 0s - loss: 2.6068 - accuracy: 0.58 - 0s 853us/step - loss: 2.5446 - accuracy: 0.5879\n",
      "Epoch 2/10\n",
      "71/71 [==============================] - ETA: 0s - loss: 1.7573 - accuracy: 0.62 - ETA: 0s - loss: 1.9173 - accuracy: 0.62 - 0s 858us/step - loss: 1.9115 - accuracy: 0.6257\n",
      "Epoch 3/10\n",
      "71/71 [==============================] - ETA: 0s - loss: 1.1632 - accuracy: 0.59 - ETA: 0s - loss: 1.2939 - accuracy: 0.68 - 0s 941us/step - loss: 1.2766 - accuracy: 0.6847\n",
      "Epoch 4/10\n",
      "71/71 [==============================] - ETA: 0s - loss: 0.6681 - accuracy: 0.81 - ETA: 0s - loss: 0.9670 - accuracy: 0.71 - 0s 966us/step - loss: 0.9611 - accuracy: 0.7123\n",
      "Epoch 5/10\n",
      "71/71 [==============================] - ETA: 0s - loss: 0.8559 - accuracy: 0.68 - ETA: 0s - loss: 0.8059 - accuracy: 0.73 - 0s 846us/step - loss: 0.7772 - accuracy: 0.7496\n",
      "Epoch 6/10\n",
      "71/71 [==============================] - ETA: 0s - loss: 1.1739 - accuracy: 0.68 - ETA: 0s - loss: 0.6516 - accuracy: 0.76 - 0s 831us/step - loss: 0.6452 - accuracy: 0.7602\n",
      "Epoch 7/10\n",
      "71/71 [==============================] - ETA: 0s - loss: 0.5917 - accuracy: 0.81 - ETA: 0s - loss: 0.5225 - accuracy: 0.78 - 0s 833us/step - loss: 0.5304 - accuracy: 0.7851\n",
      "Epoch 8/10\n",
      "71/71 [==============================] - ETA: 0s - loss: 0.6611 - accuracy: 0.81 - ETA: 0s - loss: 0.4796 - accuracy: 0.79 - 0s 879us/step - loss: 0.4776 - accuracy: 0.7913\n",
      "Epoch 9/10\n",
      "71/71 [==============================] - ETA: 0s - loss: 0.4164 - accuracy: 0.84 - ETA: 0s - loss: 0.4339 - accuracy: 0.80 - 0s 867us/step - loss: 0.4283 - accuracy: 0.8104\n",
      "Epoch 10/10\n",
      "71/71 [==============================] - ETA: 0s - loss: 0.7342 - accuracy: 0.68 - ETA: 0s - loss: 0.3951 - accuracy: 0.82 - 0s 867us/step - loss: 0.3949 - accuracy: 0.8255\n",
      "24/24 [==============================] - ETA: 0s - loss: 0.3655 - accuracy: 0.84 - 0s 717us/step - loss: 0.3678 - accuracy: 0.8162\n",
      "Epoch 1/10\n",
      "71/71 [==============================] - ETA: 0s - loss: 2.1962 - accuracy: 0.59 - ETA: 0s - loss: 3.0550 - accuracy: 0.59 - 0s 929us/step - loss: 2.9745 - accuracy: 0.5924\n",
      "Epoch 2/10\n",
      "71/71 [==============================] - ETA: 0s - loss: 3.4702 - accuracy: 0.50 - ETA: 0s - loss: 2.2504 - accuracy: 0.64 - 0s 899us/step - loss: 2.1421 - accuracy: 0.6599\n",
      "Epoch 3/10\n",
      "71/71 [==============================] - ETA: 0s - loss: 1.6870 - accuracy: 0.75 - ETA: 0s - loss: 1.6262 - accuracy: 0.69 - 0s 907us/step - loss: 1.6149 - accuracy: 0.6936\n",
      "Epoch 4/10\n",
      "71/71 [==============================] - ETA: 0s - loss: 0.9122 - accuracy: 0.71 - ETA: 0s - loss: 1.2674 - accuracy: 0.72 - 0s 1ms/step - loss: 1.2477 - accuracy: 0.7207\n",
      "Epoch 5/10\n",
      "71/71 [==============================] - ETA: 0s - loss: 1.7617 - accuracy: 0.65 - ETA: 0s - loss: 1.0334 - accuracy: 0.74 - 0s 962us/step - loss: 1.0067 - accuracy: 0.7429\n",
      "Epoch 6/10\n",
      "71/71 [==============================] - ETA: 0s - loss: 1.0302 - accuracy: 0.71 - ETA: 0s - loss: 0.8223 - accuracy: 0.74 - 0s 1ms/step - loss: 0.7915 - accuracy: 0.7491\n",
      "Epoch 7/10\n",
      "71/71 [==============================] - ETA: 0s - loss: 0.8922 - accuracy: 0.71 - ETA: 0s - loss: 0.7186 - accuracy: 0.76 - 0s 964us/step - loss: 0.6943 - accuracy: 0.7651\n",
      "Epoch 8/10\n",
      "71/71 [==============================] - ETA: 0s - loss: 0.4307 - accuracy: 0.90 - ETA: 0s - loss: 0.5852 - accuracy: 0.78 - 0s 985us/step - loss: 0.5775 - accuracy: 0.7860\n",
      "Epoch 9/10\n",
      "71/71 [==============================] - ETA: 0s - loss: 0.6509 - accuracy: 0.81 - ETA: 0s - loss: 0.5331 - accuracy: 0.78 - 0s 958us/step - loss: 0.5315 - accuracy: 0.7886\n",
      "Epoch 10/10\n",
      "71/71 [==============================] - ETA: 0s - loss: 0.7624 - accuracy: 0.71 - ETA: 0s - loss: 0.4460 - accuracy: 0.81 - 0s 961us/step - loss: 0.4438 - accuracy: 0.8148\n",
      "24/24 [==============================] - ETA: 0s - loss: 0.3608 - accuracy: 0.87 - 0s 878us/step - loss: 0.3725 - accuracy: 0.8415\n",
      "Epoch 1/10\n",
      "71/71 [==============================] - ETA: 0s - loss: 3.5397 - accuracy: 0.43 - ETA: 0s - loss: 2.4120 - accuracy: 0.58 - 0s 961us/step - loss: 2.3272 - accuracy: 0.5933\n",
      "Epoch 2/10\n",
      "71/71 [==============================] - ETA: 0s - loss: 1.8499 - accuracy: 0.50 - ETA: 0s - loss: 1.7952 - accuracy: 0.62 - 0s 1ms/step - loss: 1.6989 - accuracy: 0.6448\n",
      "Epoch 3/10\n",
      "71/71 [==============================] - ETA: 0s - loss: 0.9845 - accuracy: 0.84 - ETA: 0s - loss: 1.3258 - accuracy: 0.69 - 0s 931us/step - loss: 1.3168 - accuracy: 0.6892\n",
      "Epoch 4/10\n",
      "71/71 [==============================] - ETA: 0s - loss: 1.9418 - accuracy: 0.59 - ETA: 0s - loss: 0.9992 - accuracy: 0.71 - 0s 920us/step - loss: 0.9735 - accuracy: 0.7251\n",
      "Epoch 5/10\n",
      "71/71 [==============================] - ETA: 0s - loss: 0.7493 - accuracy: 0.81 - ETA: 0s - loss: 0.7592 - accuracy: 0.75 - 0s 913us/step - loss: 0.7385 - accuracy: 0.7620\n",
      "Epoch 6/10\n",
      "71/71 [==============================] - ETA: 0s - loss: 0.2523 - accuracy: 0.84 - ETA: 0s - loss: 0.6788 - accuracy: 0.75 - 0s 1ms/step - loss: 0.6551 - accuracy: 0.7593\n",
      "Epoch 7/10\n",
      "71/71 [==============================] - ETA: 0s - loss: 0.6800 - accuracy: 0.78 - ETA: 0s - loss: 0.5685 - accuracy: 0.78 - 0s 995us/step - loss: 0.5616 - accuracy: 0.7824\n",
      "Epoch 8/10\n",
      "71/71 [==============================] - ETA: 0s - loss: 0.2281 - accuracy: 0.90 - ETA: 0s - loss: 0.5211 - accuracy: 0.77 - 0s 981us/step - loss: 0.5026 - accuracy: 0.7855\n",
      "Epoch 9/10\n",
      "71/71 [==============================] - ETA: 0s - loss: 0.4260 - accuracy: 0.78 - ETA: 0s - loss: 0.4876 - accuracy: 0.78 - 0s 1ms/step - loss: 0.4610 - accuracy: 0.7957\n",
      "Epoch 10/10\n",
      "71/71 [==============================] - ETA: 0s - loss: 0.4995 - accuracy: 0.81 - ETA: 0s - loss: 0.4183 - accuracy: 0.80 - 0s 956us/step - loss: 0.4159 - accuracy: 0.8126\n",
      "24/24 [==============================] - ETA: 0s - loss: 0.3637 - accuracy: 0.90 - 0s 687us/step - loss: 0.3551 - accuracy: 0.8575\n",
      "Epoch 1/10\n",
      "71/71 [==============================] - ETA: 0s - loss: 6.2064 - accuracy: 0.53 - ETA: 0s - loss: 2.6535 - accuracy: 0.58 - 0s 1ms/step - loss: 2.5449 - accuracy: 0.5933\n",
      "Epoch 2/10\n",
      "71/71 [==============================] - ETA: 0s - loss: 2.6241 - accuracy: 0.68 - ETA: 0s - loss: 1.7648 - accuracy: 0.65 - 0s 1ms/step - loss: 1.6444 - accuracy: 0.6665\n",
      "Epoch 3/10\n",
      "71/71 [==============================] - ETA: 0s - loss: 1.5814 - accuracy: 0.71 - ETA: 0s - loss: 1.4318 - accuracy: 0.69 - 0s 951us/step - loss: 1.4099 - accuracy: 0.6887\n",
      "Epoch 4/10\n",
      "71/71 [==============================] - ETA: 0s - loss: 0.7533 - accuracy: 0.84 - ETA: 0s - loss: 1.0521 - accuracy: 0.73 - 0s 966us/step - loss: 1.0837 - accuracy: 0.7313\n"
     ]
    },
    {
     "name": "stdout",
     "output_type": "stream",
     "text": [
      "Epoch 5/10\n",
      "71/71 [==============================] - ETA: 0s - loss: 0.5788 - accuracy: 0.75 - ETA: 0s - loss: 0.8119 - accuracy: 0.74 - 0s 1ms/step - loss: 0.8036 - accuracy: 0.7473\n",
      "Epoch 6/10\n",
      "71/71 [==============================] - ETA: 0s - loss: 0.6121 - accuracy: 0.81 - ETA: 0s - loss: 0.6519 - accuracy: 0.78 - 0s 912us/step - loss: 0.6645 - accuracy: 0.7780\n",
      "Epoch 7/10\n",
      "71/71 [==============================] - ETA: 0s - loss: 0.4283 - accuracy: 0.81 - ETA: 0s - loss: 0.5653 - accuracy: 0.77 - 0s 1ms/step - loss: 0.5781 - accuracy: 0.7789\n",
      "Epoch 8/10\n",
      "71/71 [==============================] - ETA: 0s - loss: 0.6516 - accuracy: 0.68 - ETA: 0s - loss: 0.5185 - accuracy: 0.79 - 0s 993us/step - loss: 0.5122 - accuracy: 0.7917\n",
      "Epoch 9/10\n",
      "71/71 [==============================] - ETA: 0s - loss: 0.2743 - accuracy: 0.87 - ETA: 0s - loss: 0.4674 - accuracy: 0.80 - 0s 953us/step - loss: 0.4566 - accuracy: 0.8108\n",
      "Epoch 10/10\n",
      "71/71 [==============================] - ETA: 0s - loss: 0.4172 - accuracy: 0.78 - ETA: 0s - loss: 0.4458 - accuracy: 0.80 - 0s 927us/step - loss: 0.4405 - accuracy: 0.8037\n",
      "24/24 [==============================] - ETA: 0s - loss: 0.3696 - accuracy: 0.87 - 0s 666us/step - loss: 0.3455 - accuracy: 0.8362\n",
      "Epoch 1/10\n",
      "71/71 [==============================] - ETA: 0s - loss: 3.9280 - accuracy: 0.46 - ETA: 0s - loss: 2.4663 - accuracy: 0.57 - 0s 1ms/step - loss: 2.1871 - accuracy: 0.6052\n",
      "Epoch 2/10\n",
      "71/71 [==============================] - ETA: 0s - loss: 0.9085 - accuracy: 0.65 - ETA: 0s - loss: 1.3925 - accuracy: 0.66 - 0s 1ms/step - loss: 1.3262 - accuracy: 0.6754\n",
      "Epoch 3/10\n",
      "71/71 [==============================] - ETA: 0s - loss: 1.4927 - accuracy: 0.56 - ETA: 0s - loss: 1.0065 - accuracy: 0.71 - 0s 1ms/step - loss: 1.0254 - accuracy: 0.7091\n",
      "Epoch 4/10\n",
      "71/71 [==============================] - ETA: 0s - loss: 1.0774 - accuracy: 0.68 - ETA: 0s - loss: 0.8470 - accuracy: 0.73 - 0s 1ms/step - loss: 0.8278 - accuracy: 0.7371\n",
      "Epoch 5/10\n",
      "71/71 [==============================] - ETA: 0s - loss: 0.4658 - accuracy: 0.84 - ETA: 0s - loss: 0.6996 - accuracy: 0.76 - 0s 1ms/step - loss: 0.6652 - accuracy: 0.7709\n",
      "Epoch 6/10\n",
      "71/71 [==============================] - ETA: 0s - loss: 0.4079 - accuracy: 0.87 - ETA: 0s - loss: 0.5726 - accuracy: 0.79 - 0s 1ms/step - loss: 0.5684 - accuracy: 0.7877\n",
      "Epoch 7/10\n",
      "71/71 [==============================] - ETA: 0s - loss: 0.6028 - accuracy: 0.81 - ETA: 0s - loss: 0.5378 - accuracy: 0.78 - 0s 1ms/step - loss: 0.5106 - accuracy: 0.7957\n",
      "Epoch 8/10\n",
      "71/71 [==============================] - ETA: 0s - loss: 0.2316 - accuracy: 0.90 - ETA: 0s - loss: 0.4811 - accuracy: 0.80 - 0s 912us/step - loss: 0.4796 - accuracy: 0.8046\n",
      "Epoch 9/10\n",
      "71/71 [==============================] - ETA: 0s - loss: 0.4867 - accuracy: 0.81 - ETA: 0s - loss: 0.4381 - accuracy: 0.81 - 0s 881us/step - loss: 0.4478 - accuracy: 0.8073\n",
      "Epoch 10/10\n",
      "71/71 [==============================] - ETA: 0s - loss: 0.4447 - accuracy: 0.71 - ETA: 0s - loss: 0.4541 - accuracy: 0.80 - 0s 883us/step - loss: 0.4539 - accuracy: 0.7988\n",
      "24/24 [==============================] - ETA: 0s - loss: 0.3287 - accuracy: 0.87 - 0s 700us/step - loss: 0.3771 - accuracy: 0.8389\n",
      "Epoch 1/10\n",
      "71/71 [==============================] - ETA: 0s - loss: 3.3672 - accuracy: 0.46 - ETA: 0s - loss: 2.3016 - accuracy: 0.57 - 0s 1000us/step - loss: 2.2308 - accuracy: 0.5888\n",
      "Epoch 2/10\n",
      "71/71 [==============================] - ETA: 0s - loss: 1.1316 - accuracy: 0.65 - ETA: 0s - loss: 1.6410 - accuracy: 0.64 - 0s 1ms/step - loss: 1.4950 - accuracy: 0.6630\n",
      "Epoch 3/10\n",
      "71/71 [==============================] - ETA: 0s - loss: 1.2422 - accuracy: 0.75 - ETA: 0s - loss: 1.1275 - accuracy: 0.69 - 0s 1ms/step - loss: 1.1280 - accuracy: 0.7012\n",
      "Epoch 4/10\n",
      "71/71 [==============================] - ETA: 0s - loss: 1.3776 - accuracy: 0.65 - ETA: 0s - loss: 0.9573 - accuracy: 0.71 - 0s 942us/step - loss: 0.9506 - accuracy: 0.7189\n",
      "Epoch 5/10\n",
      "71/71 [==============================] - ETA: 0s - loss: 0.9711 - accuracy: 0.81 - ETA: 0s - loss: 0.6969 - accuracy: 0.76 - 0s 943us/step - loss: 0.7003 - accuracy: 0.7673\n",
      "Epoch 6/10\n",
      "71/71 [==============================] - ETA: 0s - loss: 0.4928 - accuracy: 0.71 - ETA: 0s - loss: 0.6291 - accuracy: 0.76 - 0s 961us/step - loss: 0.5912 - accuracy: 0.7789\n",
      "Epoch 7/10\n",
      "71/71 [==============================] - ETA: 0s - loss: 0.4718 - accuracy: 0.78 - ETA: 0s - loss: 0.5395 - accuracy: 0.79 - 0s 1ms/step - loss: 0.5352 - accuracy: 0.7851\n",
      "Epoch 8/10\n",
      "71/71 [==============================] - ETA: 0s - loss: 0.3804 - accuracy: 0.81 - ETA: 0s - loss: 0.5142 - accuracy: 0.79 - 0s 1ms/step - loss: 0.5016 - accuracy: 0.7984\n",
      "Epoch 9/10\n",
      "71/71 [==============================] - ETA: 0s - loss: 0.4177 - accuracy: 0.78 - ETA: 0s - loss: 0.4813 - accuracy: 0.78 - 0s 1ms/step - loss: 0.4531 - accuracy: 0.7966\n",
      "Epoch 10/10\n",
      "71/71 [==============================] - ETA: 0s - loss: 0.3613 - accuracy: 0.81 - ETA: 0s - loss: 0.4362 - accuracy: 0.80 - 0s 1ms/step - loss: 0.4284 - accuracy: 0.8131\n",
      "24/24 [==============================] - ETA: 0s - loss: 0.3618 - accuracy: 0.87 - 0s 831us/step - loss: 0.3427 - accuracy: 0.8575\n"
     ]
    }
   ],
   "source": [
    "# Try different numbers of nodes - keeping dropout at .3 and learning rate at .001\n",
    "\n",
    "#Loop through nodes\n",
    "final_accuracy_node_list = []\n",
    "\n",
    "for i in range(1, 550, 50):\n",
    "    build_model_output = build_model(i, .4, .001)\n",
    "    fit_model_output = fit_model(build_model_output, train_data9, train_labels9, 10)\n",
    "    final_accuracy = evaluate_model(build_model_output, dev_data9, dev_labels9)\n",
    "    final_accuracy_node_list.append(final_accuracy)"
   ]
  },
  {
   "cell_type": "code",
   "execution_count": 127,
   "metadata": {},
   "outputs": [
    {
     "data": {
      "text/plain": [
       "Text(0, 0.5, 'Accuracy')"
      ]
     },
     "execution_count": 127,
     "metadata": {},
     "output_type": "execute_result"
    },
    {
     "data": {
      "image/png": "[encoded data removed]",
      "text/plain": [
       "<Figure size 432x288 with 1 Axes>"
      ]
     },
     "metadata": {
      "needs_background": "light"
     },
     "output_type": "display_data"
    }
   ],
   "source": [
    "#Graph the results\n",
    "plt.plot(range(1,550,50), final_accuracy_node_list, marker = \".\")\n",
    "plt.xlabel('Number of Nodes')\n",
    "plt.ylabel('Accuracy')"
   ]
  },
  {
   "cell_type": "code",
   "execution_count": 129,
   "metadata": {},
   "outputs": [
    {
     "name": "stdout",
     "output_type": "stream",
     "text": [
      "Epoch 1/10\n",
      "71/71 [==============================] - ETA: 0s - loss: 3.6420 - accuracy: 0.68 - ETA: 0s - loss: 2.9648 - accuracy: 0.57 - 0s 945us/step - loss: 2.8017 - accuracy: 0.5870\n",
      "Epoch 2/10\n",
      "71/71 [==============================] - ETA: 0s - loss: 2.1983 - accuracy: 0.71 - ETA: 0s - loss: 1.8871 - accuracy: 0.63 - 0s 942us/step - loss: 1.7537 - accuracy: 0.6559\n",
      "Epoch 3/10\n",
      "71/71 [==============================] - ETA: 0s - loss: 1.8225 - accuracy: 0.59 - ETA: 0s - loss: 1.3534 - accuracy: 0.69 - 0s 962us/step - loss: 1.3627 - accuracy: 0.6914\n",
      "Epoch 4/10\n",
      "71/71 [==============================] - ETA: 0s - loss: 1.4792 - accuracy: 0.62 - ETA: 0s - loss: 1.1365 - accuracy: 0.71 - 0s 948us/step - loss: 1.0587 - accuracy: 0.7225\n",
      "Epoch 5/10\n",
      "71/71 [==============================] - ETA: 0s - loss: 0.6083 - accuracy: 0.78 - ETA: 0s - loss: 0.8053 - accuracy: 0.75 - 0s 1ms/step - loss: 0.7784 - accuracy: 0.7549\n",
      "Epoch 6/10\n",
      "71/71 [==============================] - ETA: 0s - loss: 0.9414 - accuracy: 0.75 - ETA: 0s - loss: 0.7032 - accuracy: 0.75 - 0s 956us/step - loss: 0.6843 - accuracy: 0.7638\n",
      "Epoch 7/10\n",
      "71/71 [==============================] - ETA: 0s - loss: 0.6169 - accuracy: 0.75 - ETA: 0s - loss: 0.5754 - accuracy: 0.78 - 0s 989us/step - loss: 0.5728 - accuracy: 0.7784\n",
      "Epoch 8/10\n",
      "71/71 [==============================] - ETA: 0s - loss: 0.4704 - accuracy: 0.75 - ETA: 0s - loss: 0.5013 - accuracy: 0.80 - 0s 993us/step - loss: 0.4927 - accuracy: 0.8064\n",
      "Epoch 9/10\n",
      "71/71 [==============================] - ETA: 0s - loss: 0.5260 - accuracy: 0.84 - ETA: 0s - loss: 0.4523 - accuracy: 0.81 - 0s 976us/step - loss: 0.4523 - accuracy: 0.8077\n",
      "Epoch 10/10\n",
      "71/71 [==============================] - ETA: 0s - loss: 0.2332 - accuracy: 0.90 - ETA: 0s - loss: 0.4398 - accuracy: 0.80 - 0s 1ms/step - loss: 0.4181 - accuracy: 0.8148\n",
      "24/24 [==============================] - ETA: 0s - loss: 0.3658 - accuracy: 0.87 - 0s 888us/step - loss: 0.3579 - accuracy: 0.8202\n",
      "Epoch 1/10\n",
      "71/71 [==============================] - ETA: 0s - loss: 3.5138 - accuracy: 0.59 - ETA: 0s - loss: 2.6702 - accuracy: 0.59 - 0s 991us/step - loss: 2.5400 - accuracy: 0.6101\n",
      "Epoch 2/10\n",
      "71/71 [==============================] - ETA: 0s - loss: 1.2067 - accuracy: 0.78 - ETA: 0s - loss: 1.9329 - accuracy: 0.65 - 0s 1ms/step - loss: 1.8819 - accuracy: 0.6523\n",
      "Epoch 3/10\n",
      "71/71 [==============================] - ETA: 0s - loss: 2.1759 - accuracy: 0.71 - ETA: 0s - loss: 1.5839 - accuracy: 0.65 - 0s 1ms/step - loss: 1.4135 - accuracy: 0.6714\n",
      "Epoch 4/10\n",
      "71/71 [==============================] - ETA: 0s - loss: 1.1463 - accuracy: 0.65 - ETA: 0s - loss: 1.0279 - accuracy: 0.72 - 0s 1ms/step - loss: 1.0410 - accuracy: 0.7287\n",
      "Epoch 5/10\n",
      "71/71 [==============================] - ETA: 0s - loss: 0.7827 - accuracy: 0.81 - ETA: 0s - loss: 0.8194 - accuracy: 0.74 - 0s 920us/step - loss: 0.8052 - accuracy: 0.7473\n",
      "Epoch 6/10\n",
      "71/71 [==============================] - ETA: 0s - loss: 0.7881 - accuracy: 0.65 - ETA: 0s - loss: 0.7575 - accuracy: 0.75 - 0s 1ms/step - loss: 0.7377 - accuracy: 0.7518\n",
      "Epoch 7/10\n",
      "71/71 [==============================] - ETA: 0s - loss: 0.4648 - accuracy: 0.84 - ETA: 0s - loss: 0.6008 - accuracy: 0.78 - 0s 915us/step - loss: 0.5897 - accuracy: 0.7842\n",
      "Epoch 8/10\n",
      "71/71 [==============================] - ETA: 0s - loss: 0.2454 - accuracy: 0.87 - ETA: 0s - loss: 0.5087 - accuracy: 0.79 - 0s 1ms/step - loss: 0.4933 - accuracy: 0.7935\n",
      "Epoch 9/10\n",
      "71/71 [==============================] - ETA: 0s - loss: 0.5119 - accuracy: 0.81 - ETA: 0s - loss: 0.4537 - accuracy: 0.80 - 0s 934us/step - loss: 0.4516 - accuracy: 0.8051\n",
      "Epoch 10/10\n",
      "71/71 [==============================] - ETA: 0s - loss: 0.2747 - accuracy: 0.84 - ETA: 0s - loss: 0.4379 - accuracy: 0.80 - 0s 983us/step - loss: 0.4485 - accuracy: 0.7984\n",
      "24/24 [==============================] - ETA: 0s - loss: 0.3540 - accuracy: 0.90 - 0s 689us/step - loss: 0.3406 - accuracy: 0.8628\n",
      "Epoch 1/10\n",
      "71/71 [==============================] - ETA: 0s - loss: 5.4984 - accuracy: 0.50 - ETA: 0s - loss: 2.6875 - accuracy: 0.59 - 0s 1ms/step - loss: 2.4839 - accuracy: 0.6061\n",
      "Epoch 2/10\n",
      "71/71 [==============================] - ETA: 0s - loss: 1.4354 - accuracy: 0.62 - ETA: 0s - loss: 1.8267 - accuracy: 0.65 - 0s 1ms/step - loss: 1.7044 - accuracy: 0.6621\n",
      "Epoch 3/10\n",
      "71/71 [==============================] - ETA: 0s - loss: 0.7972 - accuracy: 0.78 - ETA: 0s - loss: 1.3391 - accuracy: 0.69 - 0s 1ms/step - loss: 1.2821 - accuracy: 0.6932\n",
      "Epoch 4/10\n",
      "71/71 [==============================] - ETA: 0s - loss: 1.3818 - accuracy: 0.71 - ETA: 0s - loss: 0.9824 - accuracy: 0.72 - 0s 1ms/step - loss: 0.9640 - accuracy: 0.7345\n",
      "Epoch 5/10\n",
      "71/71 [==============================] - ETA: 0s - loss: 0.3287 - accuracy: 0.84 - ETA: 0s - loss: 0.7389 - accuracy: 0.75 - 0s 1ms/step - loss: 0.7739 - accuracy: 0.7464\n",
      "Epoch 6/10\n",
      "71/71 [==============================] - ETA: 0s - loss: 0.7001 - accuracy: 0.87 - ETA: 0s - loss: 0.7033 - accuracy: 0.76 - 0s 1ms/step - loss: 0.6809 - accuracy: 0.7664\n",
      "Epoch 7/10\n",
      "71/71 [==============================] - ETA: 0s - loss: 0.7073 - accuracy: 0.78 - ETA: 0s - loss: 0.5541 - accuracy: 0.78 - 0s 1ms/step - loss: 0.5462 - accuracy: 0.7864\n",
      "Epoch 8/10\n",
      "71/71 [==============================] - ETA: 0s - loss: 0.5855 - accuracy: 0.78 - ETA: 0s - loss: 0.4770 - accuracy: 0.81 - 0s 1ms/step - loss: 0.4847 - accuracy: 0.8104\n",
      "Epoch 9/10\n",
      "71/71 [==============================] - ETA: 0s - loss: 0.5711 - accuracy: 0.68 - ETA: 0s - loss: 0.5013 - accuracy: 0.79 - 0s 1ms/step - loss: 0.4770 - accuracy: 0.7962\n",
      "Epoch 10/10\n",
      "71/71 [==============================] - ETA: 0s - loss: 0.4221 - accuracy: 0.75 - ETA: 0s - loss: 0.4465 - accuracy: 0.81 - 0s 1ms/step - loss: 0.4478 - accuracy: 0.8064\n",
      "24/24 [==============================] - ETA: 0s - loss: 0.3453 - accuracy: 0.87 - 0s 710us/step - loss: 0.3503 - accuracy: 0.8336\n",
      "Epoch 1/10\n",
      "71/71 [==============================] - ETA: 0s - loss: 3.6701 - accuracy: 0.53 - ETA: 0s - loss: 2.8829 - accuracy: 0.57 - 0s 1ms/step - loss: 2.6640 - accuracy: 0.5933\n",
      "Epoch 2/10\n",
      "71/71 [==============================] - ETA: 0s - loss: 3.5573 - accuracy: 0.65 - ETA: 0s - loss: 2.1293 - accuracy: 0.63 - 0s 1ms/step - loss: 1.9323 - accuracy: 0.6536\n",
      "Epoch 3/10\n",
      "71/71 [==============================] - ETA: 0s - loss: 1.1349 - accuracy: 0.65 - ETA: 0s - loss: 1.4744 - accuracy: 0.68 - 0s 1ms/step - loss: 1.4587 - accuracy: 0.6776\n",
      "Epoch 4/10\n",
      "71/71 [==============================] - ETA: 0s - loss: 1.7043 - accuracy: 0.68 - ETA: 0s - loss: 1.2107 - accuracy: 0.70 - 0s 1ms/step - loss: 1.1506 - accuracy: 0.7105\n",
      "Epoch 5/10\n",
      "71/71 [==============================] - ETA: 0s - loss: 1.3884 - accuracy: 0.62 - ETA: 0s - loss: 1.0116 - accuracy: 0.73 - 0s 1ms/step - loss: 0.9974 - accuracy: 0.7287\n",
      "Epoch 6/10\n",
      "71/71 [==============================] - ETA: 0s - loss: 0.5457 - accuracy: 0.81 - ETA: 0s - loss: 0.7041 - accuracy: 0.76 - 0s 993us/step - loss: 0.6972 - accuracy: 0.7660\n",
      "Epoch 7/10\n",
      "71/71 [==============================] - ETA: 0s - loss: 0.9790 - accuracy: 0.75 - ETA: 0s - loss: 0.6683 - accuracy: 0.77 - 0s 920us/step - loss: 0.6435 - accuracy: 0.7758\n",
      "Epoch 8/10\n",
      "71/71 [==============================] - ETA: 0s - loss: 0.8292 - accuracy: 0.71 - ETA: 0s - loss: 0.5684 - accuracy: 0.78 - 0s 911us/step - loss: 0.5566 - accuracy: 0.7842\n",
      "Epoch 9/10\n",
      "71/71 [==============================] - ETA: 0s - loss: 0.4841 - accuracy: 0.84 - ETA: 0s - loss: 0.5069 - accuracy: 0.78 - 0s 896us/step - loss: 0.4978 - accuracy: 0.7917\n",
      "Epoch 10/10\n",
      "71/71 [==============================] - ETA: 0s - loss: 0.3936 - accuracy: 0.87 - ETA: 0s - loss: 0.4678 - accuracy: 0.80 - 0s 1ms/step - loss: 0.4677 - accuracy: 0.8006\n",
      "24/24 [==============================] - ETA: 0s - loss: 0.3936 - accuracy: 0.87 - 0s 834us/step - loss: 0.3578 - accuracy: 0.8309\n",
      "Epoch 1/10\n",
      "71/71 [==============================] - ETA: 0s - loss: 4.5991 - accuracy: 0.31 - ETA: 0s - loss: 2.5271 - accuracy: 0.57 - 0s 1ms/step - loss: 2.3748 - accuracy: 0.5910\n",
      "Epoch 2/10\n",
      "71/71 [==============================] - ETA: 0s - loss: 1.0244 - accuracy: 0.75 - ETA: 0s - loss: 1.5189 - accuracy: 0.66 - 0s 932us/step - loss: 1.5067 - accuracy: 0.6674\n"
     ]
    },
    {
     "name": "stdout",
     "output_type": "stream",
     "text": [
      "Epoch 3/10\n",
      "71/71 [==============================] - ETA: 0s - loss: 0.7070 - accuracy: 0.75 - ETA: 0s - loss: 1.1882 - accuracy: 0.68 - 0s 987us/step - loss: 1.1535 - accuracy: 0.6914\n",
      "Epoch 4/10\n",
      "71/71 [==============================] - ETA: 0s - loss: 0.8145 - accuracy: 0.71 - ETA: 0s - loss: 0.9512 - accuracy: 0.73 - 0s 957us/step - loss: 0.9591 - accuracy: 0.7296\n",
      "Epoch 5/10\n",
      "71/71 [==============================] - ETA: 0s - loss: 0.9456 - accuracy: 0.75 - ETA: 0s - loss: 0.8283 - accuracy: 0.73 - 0s 890us/step - loss: 0.7932 - accuracy: 0.7438\n",
      "Epoch 6/10\n",
      "71/71 [==============================] - ETA: 0s - loss: 0.4353 - accuracy: 0.84 - ETA: 0s - loss: 0.6652 - accuracy: 0.76 - 0s 896us/step - loss: 0.6566 - accuracy: 0.7687\n",
      "Epoch 7/10\n",
      "71/71 [==============================] - ETA: 0s - loss: 0.2937 - accuracy: 0.90 - ETA: 0s - loss: 0.5605 - accuracy: 0.78 - 0s 890us/step - loss: 0.5677 - accuracy: 0.7789\n",
      "Epoch 8/10\n",
      "71/71 [==============================] - ETA: 0s - loss: 0.4748 - accuracy: 0.78 - ETA: 0s - loss: 0.5040 - accuracy: 0.79 - 0s 888us/step - loss: 0.4931 - accuracy: 0.8024\n",
      "Epoch 9/10\n",
      "71/71 [==============================] - ETA: 0s - loss: 0.6625 - accuracy: 0.75 - ETA: 0s - loss: 0.4705 - accuracy: 0.79 - 0s 899us/step - loss: 0.4689 - accuracy: 0.7940\n",
      "Epoch 10/10\n",
      "71/71 [==============================] - ETA: 0s - loss: 0.2594 - accuracy: 0.90 - ETA: 0s - loss: 0.4250 - accuracy: 0.81 - 0s 996us/step - loss: 0.4201 - accuracy: 0.8095\n",
      "24/24 [==============================] - ETA: 0s - loss: 0.3665 - accuracy: 0.84 - 0s 678us/step - loss: 0.3539 - accuracy: 0.8562\n",
      "Epoch 1/10\n",
      "71/71 [==============================] - ETA: 0s - loss: 5.5010 - accuracy: 0.15 - ETA: 0s - loss: 2.3499 - accuracy: 0.59 - 0s 1ms/step - loss: 2.2227 - accuracy: 0.5995\n",
      "Epoch 2/10\n",
      "71/71 [==============================] - ETA: 0s - loss: 2.6365 - accuracy: 0.53 - ETA: 0s - loss: 1.6573 - accuracy: 0.66 - 0s 924us/step - loss: 1.6009 - accuracy: 0.6607\n",
      "Epoch 3/10\n",
      "71/71 [==============================] - ETA: 0s - loss: 0.6417 - accuracy: 0.71 - ETA: 0s - loss: 1.1742 - accuracy: 0.71 - 0s 931us/step - loss: 1.1532 - accuracy: 0.7207\n",
      "Epoch 4/10\n",
      "71/71 [==============================] - ETA: 0s - loss: 0.8656 - accuracy: 0.78 - ETA: 0s - loss: 0.9638 - accuracy: 0.73 - 0s 938us/step - loss: 0.9306 - accuracy: 0.7380\n",
      "Epoch 5/10\n",
      "71/71 [==============================] - ETA: 0s - loss: 0.5652 - accuracy: 0.84 - ETA: 0s - loss: 0.7590 - accuracy: 0.76 - 0s 972us/step - loss: 0.7408 - accuracy: 0.7695\n",
      "Epoch 6/10\n",
      "71/71 [==============================] - ETA: 0s - loss: 0.5289 - accuracy: 0.81 - ETA: 0s - loss: 0.6068 - accuracy: 0.77 - 0s 959us/step - loss: 0.5965 - accuracy: 0.7815\n",
      "Epoch 7/10\n",
      "71/71 [==============================] - ETA: 0s - loss: 0.2850 - accuracy: 0.87 - ETA: 0s - loss: 0.5385 - accuracy: 0.78 - 0s 1ms/step - loss: 0.5551 - accuracy: 0.7837\n",
      "Epoch 8/10\n",
      "71/71 [==============================] - ETA: 0s - loss: 0.4053 - accuracy: 0.81 - ETA: 0s - loss: 0.5039 - accuracy: 0.79 - 0s 924us/step - loss: 0.4803 - accuracy: 0.8002\n",
      "Epoch 9/10\n",
      "71/71 [==============================] - ETA: 0s - loss: 0.2682 - accuracy: 0.84 - ETA: 0s - loss: 0.4517 - accuracy: 0.80 - 0s 978us/step - loss: 0.4399 - accuracy: 0.8108\n",
      "Epoch 10/10\n",
      "71/71 [==============================] - ETA: 0s - loss: 0.5560 - accuracy: 0.71 - ETA: 0s - loss: 0.4369 - accuracy: 0.80 - 0s 941us/step - loss: 0.4261 - accuracy: 0.8055\n",
      "24/24 [==============================] - ETA: 0s - loss: 0.3440 - accuracy: 0.87 - 0s 750us/step - loss: 0.3385 - accuracy: 0.8575\n"
     ]
    }
   ],
   "source": [
    "# It looks like best value is somewhere between 300 and 450\n",
    "# Narrow this down\n",
    "# Loop through nodes\n",
    "final_accuracy_node_list = []\n",
    "\n",
    "for i in range(300, 450, 25):\n",
    "    build_model_output = build_model(i, .4, .001)\n",
    "    fit_model_output = fit_model(build_model_output, train_data9, train_labels9, 10)\n",
    "    final_accuracy = evaluate_model(build_model_output, dev_data9, dev_labels9)\n",
    "    final_accuracy_node_list.append(final_accuracy)"
   ]
  },
  {
   "cell_type": "code",
   "execution_count": 130,
   "metadata": {},
   "outputs": [
    {
     "data": {
      "text/plain": [
       "Text(0, 0.5, 'Accuracy')"
      ]
     },
     "execution_count": 130,
     "metadata": {},
     "output_type": "execute_result"
    },
    {
     "data": {
      "image/png": "[encoded data removed]",
      "text/plain": [
       "<Figure size 432x288 with 1 Axes>"
      ]
     },
     "metadata": {
      "needs_background": "light"
     },
     "output_type": "display_data"
    }
   ],
   "source": [
    "#Graph results\n",
    "plt.plot(range(300, 450, 25), final_accuracy_node_list, marker = \".\")\n",
    "plt.xlabel('Number of Nodes')\n",
    "plt.ylabel('Accuracy')"
   ]
  },
  {
   "cell_type": "code",
   "execution_count": 131,
   "metadata": {},
   "outputs": [
    {
     "name": "stdout",
     "output_type": "stream",
     "text": [
      "Epoch 1/10\n",
      "71/71 [==============================] - ETA: 0s - loss: 14.5004 - accuracy: 0.281 - ETA: 0s - loss: 3.1540 - accuracy: 0.568 - 0s 954us/step - loss: 2.9814 - accuracy: 0.5742\n",
      "Epoch 2/10\n",
      "71/71 [==============================] - ETA: 0s - loss: 3.3051 - accuracy: 0.46 - ETA: 0s - loss: 2.0453 - accuracy: 0.63 - 0s 947us/step - loss: 2.0029 - accuracy: 0.6372\n",
      "Epoch 3/10\n",
      "71/71 [==============================] - ETA: 0s - loss: 1.1384 - accuracy: 0.62 - ETA: 0s - loss: 1.4212 - accuracy: 0.66 - 0s 917us/step - loss: 1.4114 - accuracy: 0.6665\n",
      "Epoch 4/10\n",
      "71/71 [==============================] - ETA: 0s - loss: 1.2318 - accuracy: 0.78 - ETA: 0s - loss: 1.1224 - accuracy: 0.71 - 0s 922us/step - loss: 1.0912 - accuracy: 0.7176\n",
      "Epoch 5/10\n",
      "71/71 [==============================] - ETA: 0s - loss: 1.0773 - accuracy: 0.68 - ETA: 0s - loss: 0.8840 - accuracy: 0.74 - 0s 937us/step - loss: 0.8689 - accuracy: 0.7433\n",
      "Epoch 6/10\n",
      "71/71 [==============================] - ETA: 0s - loss: 0.7432 - accuracy: 0.81 - ETA: 0s - loss: 0.8013 - accuracy: 0.75 - 0s 1ms/step - loss: 0.7795 - accuracy: 0.7540\n",
      "Epoch 7/10\n",
      "71/71 [==============================] - ETA: 0s - loss: 0.5087 - accuracy: 0.78 - ETA: 0s - loss: 0.6353 - accuracy: 0.77 - 0s 1ms/step - loss: 0.6112 - accuracy: 0.7815\n",
      "Epoch 8/10\n",
      "71/71 [==============================] - ETA: 0s - loss: 0.6229 - accuracy: 0.75 - ETA: 0s - loss: 0.5436 - accuracy: 0.78 - 0s 1ms/step - loss: 0.5405 - accuracy: 0.7793\n",
      "Epoch 9/10\n",
      "71/71 [==============================] - ETA: 0s - loss: 0.4943 - accuracy: 0.84 - ETA: 0s - loss: 0.4855 - accuracy: 0.80 - 0s 1ms/step - loss: 0.4761 - accuracy: 0.8002\n",
      "Epoch 10/10\n",
      "71/71 [==============================] - ETA: 0s - loss: 0.7539 - accuracy: 0.68 - ETA: 0s - loss: 0.4771 - accuracy: 0.80 - 0s 960us/step - loss: 0.4723 - accuracy: 0.8015\n",
      "24/24 [==============================] - ETA: 0s - loss: 0.3885 - accuracy: 0.84 - 0s 678us/step - loss: 0.3902 - accuracy: 0.8096\n",
      "Epoch 1/10\n",
      "71/71 [==============================] - ETA: 0s - loss: 5.0876 - accuracy: 0.53 - ETA: 0s - loss: 2.4877 - accuracy: 0.59 - 0s 1ms/step - loss: 2.3772 - accuracy: 0.6035\n",
      "Epoch 2/10\n",
      "71/71 [==============================] - ETA: 0s - loss: 2.2754 - accuracy: 0.68 - ETA: 0s - loss: 1.8617 - accuracy: 0.64 - 0s 1ms/step - loss: 1.7437 - accuracy: 0.6456\n",
      "Epoch 3/10\n",
      "71/71 [==============================] - ETA: 0s - loss: 0.6202 - accuracy: 0.78 - ETA: 0s - loss: 1.4096 - accuracy: 0.67 - 0s 1ms/step - loss: 1.4118 - accuracy: 0.6781\n",
      "Epoch 4/10\n",
      "71/71 [==============================] - ETA: 0s - loss: 1.2278 - accuracy: 0.68 - ETA: 0s - loss: 1.0687 - accuracy: 0.71 - 0s 1ms/step - loss: 1.0200 - accuracy: 0.7216\n",
      "Epoch 5/10\n",
      "71/71 [==============================] - ETA: 0s - loss: 1.5887 - accuracy: 0.65 - ETA: 0s - loss: 0.8533 - accuracy: 0.74 - 0s 1ms/step - loss: 0.8154 - accuracy: 0.7478\n",
      "Epoch 6/10\n",
      "71/71 [==============================] - ETA: 0s - loss: 0.9469 - accuracy: 0.65 - ETA: 0s - loss: 0.6927 - accuracy: 0.76 - 0s 1ms/step - loss: 0.6502 - accuracy: 0.7731\n",
      "Epoch 7/10\n",
      "71/71 [==============================] - ETA: 0s - loss: 0.5204 - accuracy: 0.75 - ETA: 0s - loss: 0.5843 - accuracy: 0.78 - 0s 1ms/step - loss: 0.5741 - accuracy: 0.7891\n",
      "Epoch 8/10\n",
      "71/71 [==============================] - ETA: 0s - loss: 0.7708 - accuracy: 0.78 - ETA: 0s - loss: 0.5128 - accuracy: 0.79 - 0s 1ms/step - loss: 0.5105 - accuracy: 0.7926\n",
      "Epoch 9/10\n",
      "71/71 [==============================] - ETA: 0s - loss: 0.3835 - accuracy: 0.84 - ETA: 0s - loss: 0.4747 - accuracy: 0.79 - 0s 1ms/step - loss: 0.4722 - accuracy: 0.8051\n",
      "Epoch 10/10\n",
      "71/71 [==============================] - ETA: 0s - loss: 0.5174 - accuracy: 0.75 - ETA: 0s - loss: 0.4657 - accuracy: 0.77 - 0s 1ms/step - loss: 0.4483 - accuracy: 0.7891\n",
      "24/24 [==============================] - ETA: 0s - loss: 0.4278 - accuracy: 0.78 - 0s 651us/step - loss: 0.4032 - accuracy: 0.8083\n",
      "Epoch 1/10\n",
      "71/71 [==============================] - ETA: 0s - loss: 3.5851 - accuracy: 0.46 - ETA: 0s - loss: 2.4126 - accuracy: 0.59 - 0s 1ms/step - loss: 2.2301 - accuracy: 0.6035\n",
      "Epoch 2/10\n",
      "71/71 [==============================] - ETA: 0s - loss: 1.5935 - accuracy: 0.65 - ETA: 0s - loss: 1.5759 - accuracy: 0.66 - 0s 1ms/step - loss: 1.4910 - accuracy: 0.6665\n",
      "Epoch 3/10\n",
      "71/71 [==============================] - ETA: 0s - loss: 2.5583 - accuracy: 0.62 - ETA: 0s - loss: 1.3720 - accuracy: 0.69 - 0s 1ms/step - loss: 1.2695 - accuracy: 0.6972\n",
      "Epoch 4/10\n",
      "71/71 [==============================] - ETA: 0s - loss: 1.1844 - accuracy: 0.65 - ETA: 0s - loss: 0.9454 - accuracy: 0.73 - 0s 1ms/step - loss: 0.8762 - accuracy: 0.7451\n",
      "Epoch 5/10\n",
      "71/71 [==============================] - ETA: 0s - loss: 0.8224 - accuracy: 0.75 - ETA: 0s - loss: 0.7836 - accuracy: 0.75 - 0s 993us/step - loss: 0.7634 - accuracy: 0.7540\n",
      "Epoch 6/10\n",
      "71/71 [==============================] - ETA: 0s - loss: 1.0256 - accuracy: 0.65 - ETA: 0s - loss: 0.6516 - accuracy: 0.76 - 0s 1ms/step - loss: 0.6410 - accuracy: 0.7731\n",
      "Epoch 7/10\n",
      "71/71 [==============================] - ETA: 0s - loss: 0.9426 - accuracy: 0.62 - ETA: 0s - loss: 0.5384 - accuracy: 0.77 - 0s 1ms/step - loss: 0.5293 - accuracy: 0.7882\n",
      "Epoch 8/10\n",
      "71/71 [==============================] - ETA: 0s - loss: 0.6031 - accuracy: 0.78 - ETA: 0s - loss: 0.5285 - accuracy: 0.79 - 0s 1ms/step - loss: 0.5161 - accuracy: 0.7909\n",
      "Epoch 9/10\n",
      "71/71 [==============================] - ETA: 0s - loss: 0.6098 - accuracy: 0.65 - ETA: 0s - loss: 0.4689 - accuracy: 0.79 - 0s 1ms/step - loss: 0.4465 - accuracy: 0.8060\n",
      "Epoch 10/10\n",
      "71/71 [==============================] - ETA: 0s - loss: 0.3317 - accuracy: 0.84 - ETA: 0s - loss: 0.4138 - accuracy: 0.81 - 0s 1ms/step - loss: 0.4103 - accuracy: 0.8179\n",
      "24/24 [==============================] - ETA: 0s - loss: 0.3471 - accuracy: 0.87 - 0s 717us/step - loss: 0.3508 - accuracy: 0.8296\n",
      "Epoch 1/10\n",
      "71/71 [==============================] - ETA: 0s - loss: 1.2089 - accuracy: 0.62 - ETA: 0s - loss: 2.5884 - accuracy: 0.57 - 0s 1ms/step - loss: 2.4849 - accuracy: 0.5817\n",
      "Epoch 2/10\n",
      "71/71 [==============================] - ETA: 0s - loss: 3.0343 - accuracy: 0.53 - ETA: 0s - loss: 2.0110 - accuracy: 0.63 - 0s 1ms/step - loss: 1.9131 - accuracy: 0.6403\n",
      "Epoch 3/10\n",
      "71/71 [==============================] - ETA: 0s - loss: 1.0665 - accuracy: 0.68 - ETA: 0s - loss: 1.4407 - accuracy: 0.67 - 0s 1ms/step - loss: 1.3212 - accuracy: 0.6936\n",
      "Epoch 4/10\n",
      "71/71 [==============================] - ETA: 0s - loss: 0.4333 - accuracy: 0.84 - ETA: 0s - loss: 1.1328 - accuracy: 0.71 - 0s 1ms/step - loss: 1.0416 - accuracy: 0.7291\n",
      "Epoch 5/10\n",
      "71/71 [==============================] - ETA: 0s - loss: 0.4570 - accuracy: 0.84 - ETA: 0s - loss: 0.8190 - accuracy: 0.73 - 0s 942us/step - loss: 0.8052 - accuracy: 0.7451\n",
      "Epoch 6/10\n",
      "71/71 [==============================] - ETA: 0s - loss: 1.1395 - accuracy: 0.75 - ETA: 0s - loss: 0.7398 - accuracy: 0.75 - 0s 889us/step - loss: 0.7107 - accuracy: 0.7607\n",
      "Epoch 7/10\n",
      "71/71 [==============================] - ETA: 0s - loss: 0.4115 - accuracy: 0.78 - ETA: 0s - loss: 0.6133 - accuracy: 0.77 - 0s 1ms/step - loss: 0.6042 - accuracy: 0.7718\n",
      "Epoch 8/10\n",
      "71/71 [==============================] - ETA: 0s - loss: 0.4171 - accuracy: 0.87 - ETA: 0s - loss: 0.5769 - accuracy: 0.77 - 0s 1ms/step - loss: 0.5715 - accuracy: 0.7789\n",
      "Epoch 9/10\n",
      "71/71 [==============================] - ETA: 0s - loss: 0.4709 - accuracy: 0.78 - ETA: 0s - loss: 0.4939 - accuracy: 0.79 - 0s 938us/step - loss: 0.4961 - accuracy: 0.7926\n",
      "Epoch 10/10\n",
      "71/71 [==============================] - ETA: 0s - loss: 0.4285 - accuracy: 0.75 - ETA: 0s - loss: 0.4531 - accuracy: 0.79 - 0s 952us/step - loss: 0.4577 - accuracy: 0.7953\n",
      "24/24 [==============================] - ETA: 0s - loss: 0.3531 - accuracy: 0.87 - 0s 770us/step - loss: 0.3428 - accuracy: 0.8442\n",
      "Epoch 1/10\n",
      "71/71 [==============================] - ETA: 0s - loss: 4.9255 - accuracy: 0.46 - ETA: 0s - loss: 2.5961 - accuracy: 0.57 - 0s 1ms/step - loss: 2.4671 - accuracy: 0.5853\n",
      "Epoch 2/10\n",
      "71/71 [==============================] - ETA: 0s - loss: 1.2721 - accuracy: 0.65 - ETA: 0s - loss: 1.7666 - accuracy: 0.63 - 0s 1ms/step - loss: 1.6989 - accuracy: 0.6452\n"
     ]
    },
    {
     "name": "stdout",
     "output_type": "stream",
     "text": [
      "Epoch 3/10\n",
      "71/71 [==============================] - ETA: 0s - loss: 1.1882 - accuracy: 0.68 - ETA: 0s - loss: 1.4137 - accuracy: 0.67 - 0s 962us/step - loss: 1.3195 - accuracy: 0.6865\n",
      "Epoch 4/10\n",
      "71/71 [==============================] - ETA: 0s - loss: 1.4150 - accuracy: 0.68 - ETA: 0s - loss: 1.0165 - accuracy: 0.71 - 0s 941us/step - loss: 0.9948 - accuracy: 0.7154\n",
      "Epoch 5/10\n",
      "71/71 [==============================] - ETA: 0s - loss: 0.6434 - accuracy: 0.87 - ETA: 0s - loss: 0.7651 - accuracy: 0.74 - 0s 921us/step - loss: 0.7920 - accuracy: 0.7487\n",
      "Epoch 6/10\n",
      "71/71 [==============================] - ETA: 0s - loss: 1.4511 - accuracy: 0.75 - ETA: 0s - loss: 0.6924 - accuracy: 0.77 - 0s 904us/step - loss: 0.6773 - accuracy: 0.7753\n",
      "Epoch 7/10\n",
      "71/71 [==============================] - ETA: 0s - loss: 0.4102 - accuracy: 0.84 - ETA: 0s - loss: 0.5751 - accuracy: 0.77 - 0s 979us/step - loss: 0.5587 - accuracy: 0.7820\n",
      "Epoch 8/10\n",
      "71/71 [==============================] - ETA: 0s - loss: 0.7652 - accuracy: 0.81 - ETA: 0s - loss: 0.4895 - accuracy: 0.80 - 0s 1ms/step - loss: 0.4922 - accuracy: 0.7988\n",
      "Epoch 9/10\n",
      "71/71 [==============================] - ETA: 0s - loss: 0.3152 - accuracy: 0.81 - ETA: 0s - loss: 0.4633 - accuracy: 0.79 - 0s 941us/step - loss: 0.4621 - accuracy: 0.8015\n",
      "Epoch 10/10\n",
      "71/71 [==============================] - ETA: 0s - loss: 0.4392 - accuracy: 0.78 - ETA: 0s - loss: 0.4658 - accuracy: 0.79 - 0s 928us/step - loss: 0.4641 - accuracy: 0.7962\n",
      "24/24 [==============================] - ETA: 0s - loss: 0.3923 - accuracy: 0.87 - 0s 717us/step - loss: 0.3885 - accuracy: 0.8402\n"
     ]
    }
   ],
   "source": [
    "# It looks like best value is somewhere between 375 and 425\n",
    "# Narrow this down\n",
    "# Loop through nodes\n",
    "final_accuracy_node_list = []\n",
    "\n",
    "for i in range(375, 425, 10):\n",
    "    build_model_output = build_model(i, .4, .001)\n",
    "    fit_model_output = fit_model(build_model_output, train_data9, train_labels9, 10)\n",
    "    final_accuracy = evaluate_model(build_model_output, dev_data9, dev_labels9)\n",
    "    final_accuracy_node_list.append(final_accuracy)\n"
   ]
  },
  {
   "cell_type": "code",
   "execution_count": 132,
   "metadata": {},
   "outputs": [
    {
     "data": {
      "text/plain": [
       "Text(0, 0.5, 'Accuracy')"
      ]
     },
     "execution_count": 132,
     "metadata": {},
     "output_type": "execute_result"
    },
    {
     "data": {
      "image/png": "[encoded data removed]",
      "text/plain": [
       "<Figure size 432x288 with 1 Axes>"
      ]
     },
     "metadata": {
      "needs_background": "light"
     },
     "output_type": "display_data"
    }
   ],
   "source": [
    "#Graph results\n",
    "plt.plot(range(375, 425, 10), final_accuracy_node_list, marker = \".\")\n",
    "plt.xlabel('Number of Nodes')\n",
    "plt.ylabel('Accuracy')"
   ]
  },
  {
   "cell_type": "code",
   "execution_count": 137,
   "metadata": {},
   "outputs": [
    {
     "name": "stdout",
     "output_type": "stream",
     "text": [
      "Epoch 1/10\n",
      "71/71 [==============================] - ETA: 0s - loss: 2.1041 - accuracy: 0.62 - ETA: 0s - loss: 2.5790 - accuracy: 0.58 - 0s 1ms/step - loss: 2.4566 - accuracy: 0.5910\n",
      "Epoch 2/10\n",
      "71/71 [==============================] - ETA: 0s - loss: 0.9380 - accuracy: 0.75 - ETA: 0s - loss: 1.9586 - accuracy: 0.64 - 0s 952us/step - loss: 1.8930 - accuracy: 0.6474\n",
      "Epoch 3/10\n",
      "71/71 [==============================] - ETA: 0s - loss: 2.4989 - accuracy: 0.56 - ETA: 0s - loss: 1.3963 - accuracy: 0.70 - 0s 947us/step - loss: 1.3727 - accuracy: 0.6954\n",
      "Epoch 4/10\n",
      "71/71 [==============================] - ETA: 0s - loss: 1.2776 - accuracy: 0.65 - ETA: 0s - loss: 1.0408 - accuracy: 0.72 - 0s 1ms/step - loss: 1.0063 - accuracy: 0.7269\n",
      "Epoch 5/10\n",
      "71/71 [==============================] - ETA: 0s - loss: 0.9669 - accuracy: 0.75 - ETA: 0s - loss: 0.8879 - accuracy: 0.73 - 0s 979us/step - loss: 0.9231 - accuracy: 0.7251\n",
      "Epoch 6/10\n",
      "71/71 [==============================] - ETA: 0s - loss: 0.7666 - accuracy: 0.68 - ETA: 0s - loss: 0.7418 - accuracy: 0.75 - 0s 985us/step - loss: 0.7186 - accuracy: 0.7629\n",
      "Epoch 7/10\n",
      "71/71 [==============================] - ETA: 0s - loss: 0.6034 - accuracy: 0.87 - ETA: 0s - loss: 0.6176 - accuracy: 0.78 - 0s 1ms/step - loss: 0.6263 - accuracy: 0.7718\n",
      "Epoch 8/10\n",
      "71/71 [==============================] - ETA: 0s - loss: 0.3121 - accuracy: 0.84 - ETA: 0s - loss: 0.5389 - accuracy: 0.78 - 0s 989us/step - loss: 0.5152 - accuracy: 0.7869\n",
      "Epoch 9/10\n",
      "71/71 [==============================] - ETA: 0s - loss: 0.4114 - accuracy: 0.78 - ETA: 0s - loss: 0.4872 - accuracy: 0.78 - 0s 946us/step - loss: 0.4708 - accuracy: 0.7886\n",
      "Epoch 10/10\n",
      "71/71 [==============================] - ETA: 0s - loss: 0.5500 - accuracy: 0.75 - ETA: 0s - loss: 0.4286 - accuracy: 0.81 - 0s 1ms/step - loss: 0.4283 - accuracy: 0.8175\n",
      "24/24 [==============================] - ETA: 0s - loss: 0.3451 - accuracy: 0.90 - 0s 691us/step - loss: 0.3382 - accuracy: 0.8748\n",
      "Epoch 1/10\n",
      "71/71 [==============================] - ETA: 0s - loss: 4.5273 - accuracy: 0.46 - ETA: 0s - loss: 2.2426 - accuracy: 0.60 - 0s 1ms/step - loss: 2.2680 - accuracy: 0.6004\n",
      "Epoch 2/10\n",
      "71/71 [==============================] - ETA: 0s - loss: 2.2786 - accuracy: 0.59 - ETA: 0s - loss: 1.5979 - accuracy: 0.63 - 0s 1ms/step - loss: 1.4770 - accuracy: 0.6616\n",
      "Epoch 3/10\n",
      "71/71 [==============================] - ETA: 0s - loss: 1.8765 - accuracy: 0.56 - ETA: 0s - loss: 1.1989 - accuracy: 0.70 - 0s 996us/step - loss: 1.1755 - accuracy: 0.7083\n",
      "Epoch 4/10\n",
      "71/71 [==============================] - ETA: 0s - loss: 0.6235 - accuracy: 0.75 - ETA: 0s - loss: 0.9844 - accuracy: 0.71 - 0s 1ms/step - loss: 0.9688 - accuracy: 0.7211\n",
      "Epoch 5/10\n",
      "71/71 [==============================] - ETA: 0s - loss: 0.7324 - accuracy: 0.84 - ETA: 0s - loss: 0.8135 - accuracy: 0.75 - 0s 1ms/step - loss: 0.7894 - accuracy: 0.7567\n",
      "Epoch 6/10\n",
      "71/71 [==============================] - ETA: 0s - loss: 0.5563 - accuracy: 0.78 - ETA: 0s - loss: 0.6613 - accuracy: 0.76 - 0s 1ms/step - loss: 0.6498 - accuracy: 0.7762\n",
      "Epoch 7/10\n",
      "71/71 [==============================] - ETA: 0s - loss: 0.8518 - accuracy: 0.71 - ETA: 0s - loss: 0.6123 - accuracy: 0.76 - 0s 1ms/step - loss: 0.5985 - accuracy: 0.7722\n",
      "Epoch 8/10\n",
      "71/71 [==============================] - ETA: 0s - loss: 0.3824 - accuracy: 0.78 - ETA: 0s - loss: 0.4847 - accuracy: 0.79 - 0s 1ms/step - loss: 0.4774 - accuracy: 0.7997\n",
      "Epoch 9/10\n",
      "71/71 [==============================] - ETA: 0s - loss: 0.7171 - accuracy: 0.59 - ETA: 0s - loss: 0.4462 - accuracy: 0.80 - 0s 966us/step - loss: 0.4541 - accuracy: 0.8015\n",
      "Epoch 10/10\n",
      "71/71 [==============================] - ETA: 0s - loss: 0.4525 - accuracy: 0.81 - ETA: 0s - loss: 0.4275 - accuracy: 0.80 - 0s 962us/step - loss: 0.4153 - accuracy: 0.8197\n",
      "24/24 [==============================] - ETA: 0s - loss: 0.3506 - accuracy: 0.90 - 0s 668us/step - loss: 0.3452 - accuracy: 0.8695\n",
      "Epoch 1/10\n",
      "71/71 [==============================] - ETA: 0s - loss: 6.8719 - accuracy: 0.40 - ETA: 0s - loss: 2.6710 - accuracy: 0.56 - 0s 1ms/step - loss: 2.5416 - accuracy: 0.5861\n",
      "Epoch 2/10\n",
      "71/71 [==============================] - ETA: 0s - loss: 2.6781 - accuracy: 0.62 - ETA: 0s - loss: 1.8069 - accuracy: 0.65 - 0s 984us/step - loss: 1.7445 - accuracy: 0.6448\n",
      "Epoch 3/10\n",
      "71/71 [==============================] - ETA: 0s - loss: 1.6481 - accuracy: 0.59 - ETA: 0s - loss: 1.3427 - accuracy: 0.69 - 0s 1ms/step - loss: 1.3054 - accuracy: 0.7012\n",
      "Epoch 4/10\n",
      "71/71 [==============================] - ETA: 0s - loss: 0.9364 - accuracy: 0.75 - ETA: 0s - loss: 1.0186 - accuracy: 0.73 - 0s 991us/step - loss: 0.9717 - accuracy: 0.7362\n",
      "Epoch 5/10\n",
      "71/71 [==============================] - ETA: 0s - loss: 0.4659 - accuracy: 0.78 - ETA: 0s - loss: 0.8681 - accuracy: 0.74 - 0s 1ms/step - loss: 0.8636 - accuracy: 0.7500\n",
      "Epoch 6/10\n",
      "71/71 [==============================] - ETA: 0s - loss: 0.7288 - accuracy: 0.81 - ETA: 0s - loss: 0.7383 - accuracy: 0.76 - 0s 1ms/step - loss: 0.7127 - accuracy: 0.7691\n",
      "Epoch 7/10\n",
      "71/71 [==============================] - ETA: 0s - loss: 0.6963 - accuracy: 0.78 - ETA: 0s - loss: 0.6116 - accuracy: 0.78 - 0s 1ms/step - loss: 0.6039 - accuracy: 0.7837\n",
      "Epoch 8/10\n",
      "71/71 [==============================] - ETA: 0s - loss: 0.2067 - accuracy: 0.90 - ETA: 0s - loss: 0.5327 - accuracy: 0.78 - 0s 1ms/step - loss: 0.5275 - accuracy: 0.7855\n",
      "Epoch 9/10\n",
      "71/71 [==============================] - ETA: 0s - loss: 0.5845 - accuracy: 0.75 - ETA: 0s - loss: 0.4873 - accuracy: 0.78 - 0s 984us/step - loss: 0.4781 - accuracy: 0.7957\n",
      "Epoch 10/10\n",
      "71/71 [==============================] - ETA: 0s - loss: 0.2685 - accuracy: 0.87 - ETA: 0s - loss: 0.4979 - accuracy: 0.79 - 0s 978us/step - loss: 0.4678 - accuracy: 0.8046\n",
      "24/24 [==============================] - ETA: 0s - loss: 0.3475 - accuracy: 0.87 - 0s 672us/step - loss: 0.3464 - accuracy: 0.8375\n",
      "Epoch 1/10\n",
      "71/71 [==============================] - ETA: 0s - loss: 5.9963 - accuracy: 0.40 - ETA: 0s - loss: 2.3431 - accuracy: 0.57 - 0s 1ms/step - loss: 2.1920 - accuracy: 0.5919\n",
      "Epoch 2/10\n",
      "71/71 [==============================] - ETA: 0s - loss: 2.2830 - accuracy: 0.59 - ETA: 0s - loss: 1.6004 - accuracy: 0.66 - 0s 974us/step - loss: 1.5462 - accuracy: 0.6723\n",
      "Epoch 3/10\n",
      "71/71 [==============================] - ETA: 0s - loss: 1.1304 - accuracy: 0.75 - ETA: 0s - loss: 1.1583 - accuracy: 0.69 - 0s 1ms/step - loss: 1.1044 - accuracy: 0.6994\n",
      "Epoch 4/10\n",
      "71/71 [==============================] - ETA: 0s - loss: 1.3275 - accuracy: 0.81 - ETA: 0s - loss: 0.9139 - accuracy: 0.72 - 0s 1ms/step - loss: 0.8857 - accuracy: 0.7300\n",
      "Epoch 5/10\n",
      "71/71 [==============================] - ETA: 0s - loss: 0.4503 - accuracy: 0.71 - ETA: 0s - loss: 0.7505 - accuracy: 0.75 - 0s 981us/step - loss: 0.7265 - accuracy: 0.7593\n",
      "Epoch 6/10\n",
      "71/71 [==============================] - ETA: 0s - loss: 0.7276 - accuracy: 0.75 - ETA: 0s - loss: 0.6831 - accuracy: 0.75 - 0s 964us/step - loss: 0.6545 - accuracy: 0.7655\n",
      "Epoch 7/10\n",
      "71/71 [==============================] - ETA: 0s - loss: 0.2123 - accuracy: 0.90 - ETA: 0s - loss: 0.5417 - accuracy: 0.78 - 0s 991us/step - loss: 0.5181 - accuracy: 0.7909\n",
      "Epoch 8/10\n",
      "71/71 [==============================] - ETA: 0s - loss: 0.3768 - accuracy: 0.84 - ETA: 0s - loss: 0.5241 - accuracy: 0.78 - 0s 920us/step - loss: 0.5042 - accuracy: 0.7931\n",
      "Epoch 9/10\n",
      "71/71 [==============================] - ETA: 0s - loss: 0.4033 - accuracy: 0.78 - ETA: 0s - loss: 0.4384 - accuracy: 0.81 - 0s 1ms/step - loss: 0.4372 - accuracy: 0.8015\n",
      "Epoch 10/10\n",
      "71/71 [==============================] - ETA: 0s - loss: 0.3453 - accuracy: 0.78 - ETA: 0s - loss: 0.4011 - accuracy: 0.81 - 0s 918us/step - loss: 0.3991 - accuracy: 0.8206\n",
      "24/24 [==============================] - ETA: 0s - loss: 0.3964 - accuracy: 0.81 - 0s 793us/step - loss: 0.3794 - accuracy: 0.8322\n",
      "Epoch 1/10\n",
      "71/71 [==============================] - ETA: 0s - loss: 5.4562 - accuracy: 0.40 - ETA: 0s - loss: 2.5125 - accuracy: 0.59 - 0s 991us/step - loss: 2.4206 - accuracy: 0.5924\n",
      "Epoch 2/10\n",
      "71/71 [==============================] - ETA: 0s - loss: 2.0087 - accuracy: 0.56 - ETA: 0s - loss: 1.8116 - accuracy: 0.63 - 0s 1ms/step - loss: 1.6580 - accuracy: 0.6519\n"
     ]
    },
    {
     "name": "stdout",
     "output_type": "stream",
     "text": [
      "Epoch 3/10\n",
      "71/71 [==============================] - ETA: 0s - loss: 2.1319 - accuracy: 0.62 - ETA: 0s - loss: 1.2176 - accuracy: 0.70 - 0s 992us/step - loss: 1.1986 - accuracy: 0.6972\n",
      "Epoch 4/10\n",
      "71/71 [==============================] - ETA: 0s - loss: 0.8764 - accuracy: 0.65 - ETA: 0s - loss: 0.9848 - accuracy: 0.72 - 0s 946us/step - loss: 0.9385 - accuracy: 0.7251\n",
      "Epoch 5/10\n",
      "71/71 [==============================] - ETA: 0s - loss: 0.5252 - accuracy: 0.84 - ETA: 0s - loss: 0.7354 - accuracy: 0.76 - 0s 905us/step - loss: 0.7152 - accuracy: 0.7709\n",
      "Epoch 6/10\n",
      "71/71 [==============================] - ETA: 0s - loss: 0.5882 - accuracy: 0.78 - ETA: 0s - loss: 0.6857 - accuracy: 0.75 - 0s 960us/step - loss: 0.6702 - accuracy: 0.7575\n",
      "Epoch 7/10\n",
      "71/71 [==============================] - ETA: 0s - loss: 0.5710 - accuracy: 0.71 - ETA: 0s - loss: 0.5829 - accuracy: 0.77 - 0s 1ms/step - loss: 0.5664 - accuracy: 0.7829\n",
      "Epoch 8/10\n",
      "71/71 [==============================] - ETA: 0s - loss: 0.4743 - accuracy: 0.81 - ETA: 0s - loss: 0.5119 - accuracy: 0.79 - 0s 963us/step - loss: 0.5050 - accuracy: 0.7957\n",
      "Epoch 9/10\n",
      "71/71 [==============================] - ETA: 0s - loss: 0.9392 - accuracy: 0.65 - ETA: 0s - loss: 0.4837 - accuracy: 0.80 - 0s 995us/step - loss: 0.4688 - accuracy: 0.8024\n",
      "Epoch 10/10\n",
      "71/71 [==============================] - ETA: 0s - loss: 0.5582 - accuracy: 0.81 - ETA: 0s - loss: 0.4151 - accuracy: 0.81 - 0s 980us/step - loss: 0.4162 - accuracy: 0.8171\n",
      "24/24 [==============================] - ETA: 0s - loss: 0.3396 - accuracy: 0.90 - 0s 759us/step - loss: 0.3719 - accuracy: 0.8495\n",
      "Epoch 1/10\n",
      "71/71 [==============================] - ETA: 0s - loss: 9.1704 - accuracy: 0.40 - ETA: 0s - loss: 3.0814 - accuracy: 0.58 - 0s 946us/step - loss: 2.9383 - accuracy: 0.5950\n",
      "Epoch 2/10\n",
      "71/71 [==============================] - ETA: 0s - loss: 2.1128 - accuracy: 0.65 - ETA: 0s - loss: 1.9181 - accuracy: 0.64 - 0s 945us/step - loss: 1.8906 - accuracy: 0.6448\n",
      "Epoch 3/10\n",
      "71/71 [==============================] - ETA: 0s - loss: 1.2819 - accuracy: 0.65 - ETA: 0s - loss: 1.2925 - accuracy: 0.70 - 0s 940us/step - loss: 1.2595 - accuracy: 0.7100\n",
      "Epoch 4/10\n",
      "71/71 [==============================] - ETA: 0s - loss: 0.9031 - accuracy: 0.75 - ETA: 0s - loss: 1.0912 - accuracy: 0.71 - 0s 988us/step - loss: 1.0825 - accuracy: 0.7202\n",
      "Epoch 5/10\n",
      "71/71 [==============================] - ETA: 0s - loss: 1.1010 - accuracy: 0.62 - ETA: 0s - loss: 0.8776 - accuracy: 0.73 - 0s 990us/step - loss: 0.8802 - accuracy: 0.7411\n",
      "Epoch 6/10\n",
      "71/71 [==============================] - ETA: 0s - loss: 0.4065 - accuracy: 0.81 - ETA: 0s - loss: 0.7762 - accuracy: 0.75 - 0s 1ms/step - loss: 0.7450 - accuracy: 0.7633\n",
      "Epoch 7/10\n",
      "71/71 [==============================] - ETA: 0s - loss: 0.7211 - accuracy: 0.75 - ETA: 0s - loss: 0.6304 - accuracy: 0.77 - 0s 928us/step - loss: 0.6211 - accuracy: 0.7793\n",
      "Epoch 8/10\n",
      "71/71 [==============================] - ETA: 0s - loss: 0.9428 - accuracy: 0.78 - ETA: 0s - loss: 0.5603 - accuracy: 0.78 - 0s 1ms/step - loss: 0.5330 - accuracy: 0.7962\n",
      "Epoch 9/10\n",
      "71/71 [==============================] - ETA: 0s - loss: 0.4376 - accuracy: 0.84 - ETA: 0s - loss: 0.4956 - accuracy: 0.79 - 0s 954us/step - loss: 0.5122 - accuracy: 0.7891\n",
      "Epoch 10/10\n",
      "71/71 [==============================] - ETA: 0s - loss: 0.6759 - accuracy: 0.78 - ETA: 0s - loss: 0.4907 - accuracy: 0.80 - 0s 1ms/step - loss: 0.4860 - accuracy: 0.7997\n",
      "24/24 [==============================] - ETA: 0s - loss: 0.3831 - accuracy: 0.84 - 0s 695us/step - loss: 0.3618 - accuracy: 0.8269\n",
      "Epoch 1/10\n",
      "71/71 [==============================] - ETA: 0s - loss: 3.0105 - accuracy: 0.53 - ETA: 0s - loss: 2.5742 - accuracy: 0.58 - 0s 969us/step - loss: 2.5223 - accuracy: 0.5875\n",
      "Epoch 2/10\n",
      "71/71 [==============================] - ETA: 0s - loss: 2.8309 - accuracy: 0.68 - ETA: 0s - loss: 1.6698 - accuracy: 0.65 - 0s 938us/step - loss: 1.6337 - accuracy: 0.6559\n",
      "Epoch 3/10\n",
      "71/71 [==============================] - ETA: 0s - loss: 1.9085 - accuracy: 0.56 - ETA: 0s - loss: 1.3176 - accuracy: 0.67 - 0s 995us/step - loss: 1.2994 - accuracy: 0.6825\n",
      "Epoch 4/10\n",
      "71/71 [==============================] - ETA: 0s - loss: 0.9951 - accuracy: 0.75 - ETA: 0s - loss: 1.2798 - accuracy: 0.70 - 0s 1ms/step - loss: 1.1676 - accuracy: 0.7202\n",
      "Epoch 5/10\n",
      "71/71 [==============================] - ETA: 0s - loss: 0.9070 - accuracy: 0.81 - ETA: 0s - loss: 0.8231 - accuracy: 0.74 - 0s 1ms/step - loss: 0.8070 - accuracy: 0.7558\n",
      "Epoch 6/10\n",
      "71/71 [==============================] - ETA: 0s - loss: 1.2595 - accuracy: 0.68 - ETA: 0s - loss: 0.6810 - accuracy: 0.76 - 0s 951us/step - loss: 0.6578 - accuracy: 0.7682\n",
      "Epoch 7/10\n",
      "71/71 [==============================] - ETA: 0s - loss: 0.9800 - accuracy: 0.65 - ETA: 0s - loss: 0.5848 - accuracy: 0.78 - 0s 1ms/step - loss: 0.5853 - accuracy: 0.7837\n",
      "Epoch 8/10\n",
      "71/71 [==============================] - ETA: 0s - loss: 0.4791 - accuracy: 0.75 - ETA: 0s - loss: 0.5019 - accuracy: 0.79 - 0s 903us/step - loss: 0.5084 - accuracy: 0.7922\n",
      "Epoch 9/10\n",
      "71/71 [==============================] - ETA: 0s - loss: 0.4519 - accuracy: 0.78 - ETA: 0s - loss: 0.4603 - accuracy: 0.80 - 0s 1ms/step - loss: 0.4741 - accuracy: 0.7988\n",
      "Epoch 10/10\n",
      "71/71 [==============================] - ETA: 0s - loss: 0.5348 - accuracy: 0.75 - ETA: 0s - loss: 0.4612 - accuracy: 0.79 - 0s 1ms/step - loss: 0.4548 - accuracy: 0.7988\n",
      "24/24 [==============================] - ETA: 0s - loss: 0.4257 - accuracy: 0.78 - 0s 724us/step - loss: 0.4116 - accuracy: 0.7989\n",
      "Epoch 1/10\n",
      "71/71 [==============================] - ETA: 0s - loss: 6.1015 - accuracy: 0.40 - ETA: 0s - loss: 2.6032 - accuracy: 0.59 - 0s 949us/step - loss: 2.4593 - accuracy: 0.5968\n",
      "Epoch 2/10\n",
      "71/71 [==============================] - ETA: 0s - loss: 1.2654 - accuracy: 0.68 - ETA: 0s - loss: 2.0779 - accuracy: 0.62 - 0s 963us/step - loss: 1.9529 - accuracy: 0.6328\n",
      "Epoch 3/10\n",
      "71/71 [==============================] - ETA: 0s - loss: 0.7503 - accuracy: 0.75 - ETA: 0s - loss: 1.3274 - accuracy: 0.67 - 0s 918us/step - loss: 1.3131 - accuracy: 0.6758\n",
      "Epoch 4/10\n",
      "71/71 [==============================] - ETA: 0s - loss: 1.6506 - accuracy: 0.62 - ETA: 0s - loss: 1.1363 - accuracy: 0.71 - 0s 1ms/step - loss: 1.1492 - accuracy: 0.7109\n",
      "Epoch 5/10\n",
      "71/71 [==============================] - ETA: 0s - loss: 0.6185 - accuracy: 0.81 - ETA: 0s - loss: 0.8833 - accuracy: 0.75 - 0s 950us/step - loss: 0.8611 - accuracy: 0.7491\n",
      "Epoch 6/10\n",
      "71/71 [==============================] - ETA: 0s - loss: 0.5740 - accuracy: 0.75 - ETA: 0s - loss: 0.7361 - accuracy: 0.75 - 0s 927us/step - loss: 0.7099 - accuracy: 0.7611\n",
      "Epoch 7/10\n",
      "71/71 [==============================] - ETA: 0s - loss: 0.4701 - accuracy: 0.84 - ETA: 0s - loss: 0.6186 - accuracy: 0.78 - 0s 932us/step - loss: 0.6032 - accuracy: 0.7895\n",
      "Epoch 8/10\n",
      "71/71 [==============================] - ETA: 0s - loss: 0.7582 - accuracy: 0.78 - ETA: 0s - loss: 0.6210 - accuracy: 0.77 - 0s 975us/step - loss: 0.5947 - accuracy: 0.7775\n",
      "Epoch 9/10\n",
      "71/71 [==============================] - ETA: 0s - loss: 0.3364 - accuracy: 0.84 - ETA: 0s - loss: 0.4842 - accuracy: 0.78 - 0s 1ms/step - loss: 0.4865 - accuracy: 0.7904\n",
      "Epoch 10/10\n",
      "71/71 [==============================] - ETA: 0s - loss: 0.3531 - accuracy: 0.84 - ETA: 0s - loss: 0.4210 - accuracy: 0.81 - 0s 941us/step - loss: 0.4233 - accuracy: 0.8131\n",
      "24/24 [==============================] - ETA: 0s - loss: 0.3627 - accuracy: 0.84 - 0s 761us/step - loss: 0.3990 - accuracy: 0.8043\n",
      "Epoch 1/10\n",
      "71/71 [==============================] - ETA: 0s - loss: 4.3279 - accuracy: 0.34 - ETA: 0s - loss: 2.6831 - accuracy: 0.59 - 0s 951us/step - loss: 2.5896 - accuracy: 0.5959\n",
      "Epoch 2/10\n",
      "71/71 [==============================] - ETA: 0s - loss: 2.5061 - accuracy: 0.46 - ETA: 0s - loss: 1.7903 - accuracy: 0.65 - 0s 1ms/step - loss: 1.7180 - accuracy: 0.6607\n",
      "Epoch 3/10\n",
      "71/71 [==============================] - ETA: 0s - loss: 1.9358 - accuracy: 0.56 - ETA: 0s - loss: 1.2858 - accuracy: 0.68 - 0s 990us/step - loss: 1.2857 - accuracy: 0.6865\n",
      "Epoch 4/10\n",
      "71/71 [==============================] - ETA: 0s - loss: 1.0264 - accuracy: 0.65 - ETA: 0s - loss: 1.1217 - accuracy: 0.70 - 0s 1ms/step - loss: 1.0728 - accuracy: 0.7198\n"
     ]
    },
    {
     "name": "stdout",
     "output_type": "stream",
     "text": [
      "Epoch 5/10\n",
      "71/71 [==============================] - ETA: 0s - loss: 0.9592 - accuracy: 0.65 - ETA: 0s - loss: 0.8333 - accuracy: 0.74 - 0s 941us/step - loss: 0.8339 - accuracy: 0.7442\n",
      "Epoch 6/10\n",
      "71/71 [==============================] - ETA: 0s - loss: 0.3660 - accuracy: 0.81 - ETA: 0s - loss: 0.6954 - accuracy: 0.76 - 0s 919us/step - loss: 0.6690 - accuracy: 0.7642\n",
      "Epoch 7/10\n",
      "71/71 [==============================] - ETA: 0s - loss: 1.0270 - accuracy: 0.59 - ETA: 0s - loss: 0.6042 - accuracy: 0.77 - 0s 952us/step - loss: 0.6016 - accuracy: 0.7718\n",
      "Epoch 8/10\n",
      "71/71 [==============================] - ETA: 0s - loss: 0.3813 - accuracy: 0.75 - ETA: 0s - loss: 0.5545 - accuracy: 0.77 - 0s 986us/step - loss: 0.5446 - accuracy: 0.7842\n",
      "Epoch 9/10\n",
      "71/71 [==============================] - ETA: 0s - loss: 0.5441 - accuracy: 0.75 - ETA: 0s - loss: 0.5168 - accuracy: 0.78 - 0s 969us/step - loss: 0.4972 - accuracy: 0.7926\n",
      "Epoch 10/10\n",
      "71/71 [==============================] - ETA: 0s - loss: 0.4202 - accuracy: 0.87 - ETA: 0s - loss: 0.4583 - accuracy: 0.79 - 0s 905us/step - loss: 0.4499 - accuracy: 0.7993\n",
      "24/24 [==============================] - ETA: 0s - loss: 0.3404 - accuracy: 0.87 - 0s 920us/step - loss: 0.3666 - accuracy: 0.8309\n",
      "Epoch 1/10\n",
      "71/71 [==============================] - ETA: 0s - loss: 11.3382 - accuracy: 0.468 - ETA: 0s - loss: 3.0824 - accuracy: 0.564 - 0s 1ms/step - loss: 2.7916 - accuracy: 0.5875\n",
      "Epoch 2/10\n",
      "71/71 [==============================] - ETA: 0s - loss: 1.3598 - accuracy: 0.62 - ETA: 0s - loss: 1.7654 - accuracy: 0.65 - 0s 1ms/step - loss: 1.7699 - accuracy: 0.6492\n",
      "Epoch 3/10\n",
      "71/71 [==============================] - ETA: 0s - loss: 1.4308 - accuracy: 0.65 - ETA: 0s - loss: 1.3352 - accuracy: 0.70 - 0s 990us/step - loss: 1.2572 - accuracy: 0.7114\n",
      "Epoch 4/10\n",
      "71/71 [==============================] - ETA: 0s - loss: 1.0496 - accuracy: 0.71 - ETA: 0s - loss: 1.0252 - accuracy: 0.72 - 0s 1ms/step - loss: 1.0650 - accuracy: 0.7154\n",
      "Epoch 5/10\n",
      "71/71 [==============================] - ETA: 0s - loss: 0.5080 - accuracy: 0.84 - ETA: 0s - loss: 0.8867 - accuracy: 0.75 - 0s 960us/step - loss: 0.8734 - accuracy: 0.7433\n",
      "Epoch 6/10\n",
      "71/71 [==============================] - ETA: 0s - loss: 1.0060 - accuracy: 0.62 - ETA: 0s - loss: 0.7317 - accuracy: 0.76 - 0s 923us/step - loss: 0.6982 - accuracy: 0.7664\n",
      "Epoch 7/10\n",
      "71/71 [==============================] - ETA: 0s - loss: 0.6526 - accuracy: 0.68 - ETA: 0s - loss: 0.6877 - accuracy: 0.76 - 0s 934us/step - loss: 0.6650 - accuracy: 0.7620\n",
      "Epoch 8/10\n",
      "71/71 [==============================] - ETA: 0s - loss: 0.7835 - accuracy: 0.78 - ETA: 0s - loss: 0.5431 - accuracy: 0.78 - 0s 922us/step - loss: 0.5404 - accuracy: 0.7900\n",
      "Epoch 9/10\n",
      "71/71 [==============================] - ETA: 0s - loss: 0.3515 - accuracy: 0.87 - ETA: 0s - loss: 0.5271 - accuracy: 0.77 - 0s 927us/step - loss: 0.5226 - accuracy: 0.7806\n",
      "Epoch 10/10\n",
      "71/71 [==============================] - ETA: 0s - loss: 0.5451 - accuracy: 0.71 - ETA: 0s - loss: 0.4765 - accuracy: 0.81 - 0s 1ms/step - loss: 0.4631 - accuracy: 0.8126\n",
      "24/24 [==============================] - ETA: 0s - loss: 0.3581 - accuracy: 0.87 - 0s 727us/step - loss: 0.3542 - accuracy: 0.8216\n"
     ]
    }
   ],
   "source": [
    "# It looks like best value is somewhere between 400 and 410\n",
    "# Narrow this down\n",
    "# Loop through nodes\n",
    "final_accuracy_node_list = []\n",
    "\n",
    "for i in range(400, 410, 1):\n",
    "    build_model_output = build_model(i, .4, .001)\n",
    "    fit_model_output = fit_model(build_model_output, train_data9, train_labels9, 10)\n",
    "    final_accuracy = evaluate_model(build_model_output, dev_data9, dev_labels9)\n",
    "    final_accuracy_node_list.append(final_accuracy)"
   ]
  },
  {
   "cell_type": "code",
   "execution_count": 138,
   "metadata": {},
   "outputs": [
    {
     "data": {
      "text/plain": [
       "Text(0, 0.5, 'Accuracy')"
      ]
     },
     "execution_count": 138,
     "metadata": {},
     "output_type": "execute_result"
    },
    {
     "data": {
      "image/png": "[encoded data removed]",
      "text/plain": [
       "<Figure size 432x288 with 1 Axes>"
      ]
     },
     "metadata": {
      "needs_background": "light"
     },
     "output_type": "display_data"
    }
   ],
   "source": [
    "#Graph results\n",
    "plt.plot(range(400, 410, 1), final_accuracy_node_list, marker = \".\")\n",
    "plt.xlabel('Number of Nodes')\n",
    "plt.ylabel('Accuracy')"
   ]
  },
  {
   "cell_type": "code",
   "execution_count": 146,
   "metadata": {},
   "outputs": [
    {
     "name": "stdout",
     "output_type": "stream",
     "text": [
      "Epoch 1/50\n",
      "71/71 [==============================] - ETA: 0s - loss: 3.3529 - accuracy: 0.50 - ETA: 0s - loss: 2.5659 - accuracy: 0.59 - 0s 945us/step - loss: 2.4555 - accuracy: 0.6008\n",
      "Epoch 2/50\n",
      "71/71 [==============================] - ETA: 0s - loss: 1.8366 - accuracy: 0.56 - ETA: 0s - loss: 1.6823 - accuracy: 0.66 - 0s 932us/step - loss: 1.5961 - accuracy: 0.6736\n",
      "Epoch 3/50\n",
      "71/71 [==============================] - ETA: 0s - loss: 1.0956 - accuracy: 0.71 - ETA: 0s - loss: 1.3168 - accuracy: 0.69 - 0s 953us/step - loss: 1.2742 - accuracy: 0.6980\n",
      "Epoch 4/50\n",
      "71/71 [==============================] - ETA: 0s - loss: 0.6843 - accuracy: 0.71 - ETA: 0s - loss: 0.9930 - accuracy: 0.71 - 0s 937us/step - loss: 0.9721 - accuracy: 0.7202\n",
      "Epoch 5/50\n",
      "71/71 [==============================] - ETA: 0s - loss: 0.8148 - accuracy: 0.75 - ETA: 0s - loss: 0.8086 - accuracy: 0.73 - 0s 941us/step - loss: 0.7856 - accuracy: 0.7447\n",
      "Epoch 6/50\n",
      "71/71 [==============================] - ETA: 0s - loss: 0.9863 - accuracy: 0.68 - ETA: 0s - loss: 0.6544 - accuracy: 0.77 - 0s 1ms/step - loss: 0.6589 - accuracy: 0.7669\n",
      "Epoch 7/50\n",
      "71/71 [==============================] - ETA: 0s - loss: 0.5974 - accuracy: 0.81 - ETA: 0s - loss: 0.5917 - accuracy: 0.77 - 0s 998us/step - loss: 0.5756 - accuracy: 0.7784\n",
      "Epoch 8/50\n",
      "71/71 [==============================] - ETA: 0s - loss: 0.4478 - accuracy: 0.81 - ETA: 0s - loss: 0.5417 - accuracy: 0.77 - 0s 1ms/step - loss: 0.5252 - accuracy: 0.7833\n",
      "Epoch 9/50\n",
      "71/71 [==============================] - ETA: 0s - loss: 0.2245 - accuracy: 0.90 - ETA: 0s - loss: 0.4863 - accuracy: 0.79 - 0s 1ms/step - loss: 0.4730 - accuracy: 0.7975\n",
      "Epoch 10/50\n",
      "71/71 [==============================] - ETA: 0s - loss: 0.3823 - accuracy: 0.81 - ETA: 0s - loss: 0.4324 - accuracy: 0.80 - 0s 1ms/step - loss: 0.4258 - accuracy: 0.8086\n",
      "Epoch 11/50\n",
      "71/71 [==============================] - ETA: 0s - loss: 0.4863 - accuracy: 0.84 - ETA: 0s - loss: 0.4313 - accuracy: 0.80 - 0s 1ms/step - loss: 0.4292 - accuracy: 0.8060\n",
      "Epoch 12/50\n",
      "71/71 [==============================] - ETA: 0s - loss: 0.5335 - accuracy: 0.68 - ETA: 0s - loss: 0.4182 - accuracy: 0.81 - 0s 1ms/step - loss: 0.4154 - accuracy: 0.8166\n",
      "Epoch 13/50\n",
      "71/71 [==============================] - ETA: 0s - loss: 0.3419 - accuracy: 0.84 - ETA: 0s - loss: 0.3788 - accuracy: 0.82 - 0s 1ms/step - loss: 0.3752 - accuracy: 0.8264\n",
      "Epoch 14/50\n",
      "71/71 [==============================] - ETA: 0s - loss: 0.2361 - accuracy: 0.93 - ETA: 0s - loss: 0.3892 - accuracy: 0.82 - 0s 1ms/step - loss: 0.3906 - accuracy: 0.8210\n",
      "Epoch 15/50\n",
      "71/71 [==============================] - ETA: 0s - loss: 0.3110 - accuracy: 0.87 - ETA: 0s - loss: 0.3920 - accuracy: 0.82 - 0s 1ms/step - loss: 0.3797 - accuracy: 0.8304\n",
      "Epoch 16/50\n",
      "71/71 [==============================] - ETA: 0s - loss: 0.4295 - accuracy: 0.81 - ETA: 0s - loss: 0.3773 - accuracy: 0.83 - 0s 977us/step - loss: 0.3664 - accuracy: 0.8388\n",
      "Epoch 17/50\n",
      "71/71 [==============================] - ETA: 0s - loss: 0.3494 - accuracy: 0.84 - ETA: 0s - loss: 0.3662 - accuracy: 0.83 - 0s 969us/step - loss: 0.3618 - accuracy: 0.8339\n",
      "Epoch 18/50\n",
      "71/71 [==============================] - ETA: 0s - loss: 0.1517 - accuracy: 1.00 - ETA: 0s - loss: 0.3720 - accuracy: 0.82 - 0s 1ms/step - loss: 0.3676 - accuracy: 0.8282\n",
      "Epoch 19/50\n",
      "71/71 [==============================] - ETA: 0s - loss: 0.5548 - accuracy: 0.81 - ETA: 0s - loss: 0.3619 - accuracy: 0.83 - 0s 1ms/step - loss: 0.3568 - accuracy: 0.8397\n",
      "Epoch 20/50\n",
      "71/71 [==============================] - ETA: 0s - loss: 0.4635 - accuracy: 0.78 - ETA: 0s - loss: 0.3616 - accuracy: 0.83 - 0s 1ms/step - loss: 0.3644 - accuracy: 0.8273\n",
      "Epoch 21/50\n",
      "71/71 [==============================] - ETA: 0s - loss: 0.4680 - accuracy: 0.75 - ETA: 0s - loss: 0.3558 - accuracy: 0.84 - 0s 1ms/step - loss: 0.3526 - accuracy: 0.8410\n",
      "Epoch 22/50\n",
      "71/71 [==============================] - ETA: 0s - loss: 0.3601 - accuracy: 0.84 - ETA: 0s - loss: 0.3500 - accuracy: 0.84 - 0s 1ms/step - loss: 0.3580 - accuracy: 0.8326\n",
      "Epoch 23/50\n",
      "71/71 [==============================] - ETA: 0s - loss: 0.3075 - accuracy: 0.84 - ETA: 0s - loss: 0.3536 - accuracy: 0.83 - 0s 988us/step - loss: 0.3594 - accuracy: 0.8299\n",
      "Epoch 24/50\n",
      "71/71 [==============================] - ETA: 0s - loss: 0.3458 - accuracy: 0.84 - ETA: 0s - loss: 0.3473 - accuracy: 0.84 - 0s 1ms/step - loss: 0.3540 - accuracy: 0.8401\n",
      "Epoch 25/50\n",
      "71/71 [==============================] - ETA: 0s - loss: 0.2703 - accuracy: 0.93 - ETA: 0s - loss: 0.3582 - accuracy: 0.84 - 0s 983us/step - loss: 0.3570 - accuracy: 0.8419\n",
      "Epoch 26/50\n",
      "71/71 [==============================] - ETA: 0s - loss: 0.4548 - accuracy: 0.78 - ETA: 0s - loss: 0.3409 - accuracy: 0.85 - 0s 1ms/step - loss: 0.3456 - accuracy: 0.8441\n",
      "Epoch 27/50\n",
      "71/71 [==============================] - ETA: 0s - loss: 0.3586 - accuracy: 0.84 - ETA: 0s - loss: 0.3491 - accuracy: 0.83 - 0s 977us/step - loss: 0.3477 - accuracy: 0.8424\n",
      "Epoch 28/50\n",
      "71/71 [==============================] - ETA: 0s - loss: 0.3932 - accuracy: 0.81 - ETA: 0s - loss: 0.3677 - accuracy: 0.82 - 0s 1ms/step - loss: 0.3520 - accuracy: 0.8344\n",
      "Epoch 29/50\n",
      "71/71 [==============================] - ETA: 0s - loss: 0.2017 - accuracy: 0.96 - ETA: 0s - loss: 0.3427 - accuracy: 0.85 - 0s 965us/step - loss: 0.3437 - accuracy: 0.8495\n",
      "Epoch 30/50\n",
      "71/71 [==============================] - ETA: 0s - loss: 0.3097 - accuracy: 0.90 - ETA: 0s - loss: 0.3549 - accuracy: 0.83 - 0s 1ms/step - loss: 0.3507 - accuracy: 0.8344\n",
      "Epoch 31/50\n",
      "71/71 [==============================] - ETA: 0s - loss: 0.2527 - accuracy: 0.93 - ETA: 0s - loss: 0.3549 - accuracy: 0.84 - 0s 1ms/step - loss: 0.3431 - accuracy: 0.8446\n",
      "Epoch 32/50\n",
      "71/71 [==============================] - ETA: 0s - loss: 0.3879 - accuracy: 0.78 - ETA: 0s - loss: 0.3597 - accuracy: 0.83 - 0s 1ms/step - loss: 0.3518 - accuracy: 0.8397\n",
      "Epoch 33/50\n",
      "71/71 [==============================] - ETA: 0s - loss: 0.3196 - accuracy: 0.87 - ETA: 0s - loss: 0.3354 - accuracy: 0.85 - 0s 1ms/step - loss: 0.3465 - accuracy: 0.8450\n",
      "Epoch 34/50\n",
      "71/71 [==============================] - ETA: 0s - loss: 0.1722 - accuracy: 0.96 - ETA: 0s - loss: 0.3505 - accuracy: 0.84 - 0s 996us/step - loss: 0.3446 - accuracy: 0.8459\n",
      "Epoch 35/50\n",
      "71/71 [==============================] - ETA: 0s - loss: 0.2898 - accuracy: 0.87 - ETA: 0s - loss: 0.3565 - accuracy: 0.83 - 0s 1ms/step - loss: 0.3437 - accuracy: 0.8424\n",
      "Epoch 36/50\n",
      "71/71 [==============================] - ETA: 0s - loss: 0.3053 - accuracy: 0.81 - ETA: 0s - loss: 0.3313 - accuracy: 0.84 - 0s 1ms/step - loss: 0.3304 - accuracy: 0.8459\n",
      "Epoch 37/50\n",
      "71/71 [==============================] - ETA: 0s - loss: 0.2448 - accuracy: 0.90 - ETA: 0s - loss: 0.3352 - accuracy: 0.84 - 0s 908us/step - loss: 0.3385 - accuracy: 0.8459\n",
      "Epoch 38/50\n",
      "71/71 [==============================] - ETA: 0s - loss: 0.3292 - accuracy: 0.84 - ETA: 0s - loss: 0.3359 - accuracy: 0.83 - 0s 911us/step - loss: 0.3387 - accuracy: 0.8406\n",
      "Epoch 39/50\n",
      "71/71 [==============================] - ETA: 0s - loss: 0.2507 - accuracy: 0.87 - ETA: 0s - loss: 0.3463 - accuracy: 0.84 - 0s 905us/step - loss: 0.3394 - accuracy: 0.8441\n",
      "Epoch 40/50\n",
      "71/71 [==============================] - ETA: 0s - loss: 0.1514 - accuracy: 0.96 - ETA: 0s - loss: 0.3447 - accuracy: 0.83 - 0s 934us/step - loss: 0.3445 - accuracy: 0.8415\n",
      "Epoch 41/50\n",
      "71/71 [==============================] - ETA: 0s - loss: 0.2695 - accuracy: 0.87 - ETA: 0s - loss: 0.3554 - accuracy: 0.83 - 0s 966us/step - loss: 0.3440 - accuracy: 0.8410\n",
      "Epoch 42/50\n",
      "71/71 [==============================] - ETA: 0s - loss: 0.2326 - accuracy: 0.93 - ETA: 0s - loss: 0.3402 - accuracy: 0.83 - 0s 907us/step - loss: 0.3366 - accuracy: 0.8424\n",
      "Epoch 43/50\n",
      "71/71 [==============================] - ETA: 0s - loss: 0.2905 - accuracy: 0.87 - ETA: 0s - loss: 0.3451 - accuracy: 0.83 - 0s 888us/step - loss: 0.3455 - accuracy: 0.8437\n",
      "Epoch 44/50\n",
      "71/71 [==============================] - ETA: 0s - loss: 0.3029 - accuracy: 0.87 - ETA: 0s - loss: 0.3281 - accuracy: 0.84 - 0s 905us/step - loss: 0.3322 - accuracy: 0.8446\n",
      "Epoch 45/50\n"
     ]
    },
    {
     "name": "stdout",
     "output_type": "stream",
     "text": [
      "71/71 [==============================] - ETA: 0s - loss: 0.3585 - accuracy: 0.81 - ETA: 0s - loss: 0.3273 - accuracy: 0.85 - 0s 1ms/step - loss: 0.3346 - accuracy: 0.8508\n",
      "Epoch 46/50\n",
      "71/71 [==============================] - ETA: 0s - loss: 0.5025 - accuracy: 0.75 - ETA: 0s - loss: 0.3331 - accuracy: 0.84 - 0s 1ms/step - loss: 0.3376 - accuracy: 0.8441\n",
      "Epoch 47/50\n",
      "71/71 [==============================] - ETA: 0s - loss: 0.3106 - accuracy: 0.87 - ETA: 0s - loss: 0.3237 - accuracy: 0.86 - 0s 931us/step - loss: 0.3318 - accuracy: 0.8521\n",
      "Epoch 48/50\n",
      "71/71 [==============================] - ETA: 0s - loss: 0.3060 - accuracy: 0.87 - ETA: 0s - loss: 0.3364 - accuracy: 0.84 - 0s 1ms/step - loss: 0.3341 - accuracy: 0.8499\n",
      "Epoch 49/50\n",
      "71/71 [==============================] - ETA: 0s - loss: 0.3995 - accuracy: 0.81 - ETA: 0s - loss: 0.3420 - accuracy: 0.84 - 0s 899us/step - loss: 0.3328 - accuracy: 0.8495\n",
      "Epoch 50/50\n",
      "71/71 [==============================] - ETA: 0s - loss: 0.4354 - accuracy: 0.81 - ETA: 0s - loss: 0.3336 - accuracy: 0.84 - 0s 937us/step - loss: 0.3332 - accuracy: 0.8490\n",
      "24/24 [==============================] - ETA: 0s - loss: 0.3531 - accuracy: 0.90 - 0s 720us/step - loss: 0.3366 - accuracy: 0.8682\n",
      "0.868175745010376\n"
     ]
    }
   ],
   "source": [
    "#Best value is 400. Re-run model with this value and 50 epochs, since we have tuned all the parameters.\n",
    "build_model_output = build_model(400, .4, .001)\n",
    "fit_model_output = fit_model(build_model_output, train_data9, train_labels9, 50)\n",
    "final_accuracy = evaluate_model(build_model_output, dev_data9, dev_labels9)\n",
    "print(final_accuracy)"
   ]
  },
  {
   "cell_type": "code",
   "execution_count": 147,
   "metadata": {},
   "outputs": [
    {
     "data": {
      "image/png": "[encoded data removed]",
      "text/plain": [
       "<Figure size 864x360 with 2 Axes>"
      ]
     },
     "metadata": {
      "needs_background": "light"
     },
     "output_type": "display_data"
    }
   ],
   "source": [
    "# Plot training cost and accuracy\n",
    "hist = fit_model_output.history\n",
    "fig = plt.figure(figsize=(12, 5))\n",
    "ax = fig.add_subplot(1, 2, 1)\n",
    "ax.plot(hist['loss'], lw=3)\n",
    "ax.set_title('Training loss (cost)', size=15)\n",
    "ax.set_xlabel('Epoch', size=15)\n",
    "ax.tick_params(axis='both', which='major', labelsize=15)\n",
    "\n",
    "ax = fig.add_subplot(1, 2, 2)\n",
    "ax.plot(hist['accuracy'], lw=3)\n",
    "ax.set_title('Training accuracy', size=15)\n",
    "ax.set_xlabel('Epoch', size=15)\n",
    "ax.tick_params(axis='both', which='major', labelsize=15)\n",
    "plt.tight_layout()"
   ]
  },
  {
   "cell_type": "markdown",
   "metadata": {},
   "source": [
    "**Conclusions**"
   ]
  },
  {
   "cell_type": "code",
   "execution_count": null,
   "metadata": {},
   "outputs": [],
   "source": []
  }
 ],
 "metadata": {
  "kernelspec": {
   "display_name": "Python 3",
   "language": "python",
   "name": "python3"
  },
  "language_info": {
   "codemirror_mode": {
    "name": "ipython",
    "version": 3
   },
   "file_extension": ".py",
   "mimetype": "text/x-python",
   "name": "python",
   "nbconvert_exporter": "python",
   "pygments_lexer": "ipython3",
   "version": "3.7.3"
  }
 },
 "nbformat": 4,
 "nbformat_minor": 2
}
