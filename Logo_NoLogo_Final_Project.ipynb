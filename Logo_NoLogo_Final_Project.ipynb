{
 "cells": [
  {
   "cell_type": "markdown",
   "metadata": {},
   "source": [
    "**Step 1: Import packages**"
   ]
  },
  {
   "cell_type": "code",
   "execution_count": 20,
   "metadata": {},
   "outputs": [],
   "source": [
    "# Import libraries\n",
    "import pandas as pd\n",
    "import numpy as np\n",
    "import matplotlib.pyplot as plt\n",
    "import os\n",
    "import warnings\n",
    "import tensorflow as tf\n",
    "\n",
    "# sklearn libraries for preprocessing\n",
    "from sklearn import preprocessing\n",
    "from sklearn.preprocessing import StandardScaler\n",
    "from sklearn.decomposition import PCA\n",
    "from sklearn.model_selection import train_test_split\n",
    "\n",
    "# sklearn libraries for models\n",
    "from sklearn.linear_model import LogisticRegression\n",
    "\n",
    "# sklearn libraries for evaluation\n",
    "from sklearn import metrics"
   ]
  },
  {
   "cell_type": "markdown",
   "metadata": {},
   "source": [
    "**Step 2: Define working directories**"
   ]
  },
  {
   "cell_type": "code",
   "execution_count": 2,
   "metadata": {},
   "outputs": [],
   "source": [
    "os.chdir('C:/Users/user/Documents/Berkeley_MIDS/W207_Machine_Learning/w207_final_project')"
   ]
  },
  {
   "cell_type": "markdown",
   "metadata": {},
   "source": [
    "**Step 3: Define classes**"
   ]
  },
  {
   "cell_type": "markdown",
   "metadata": {},
   "source": [
    "**Step 4: Define functions**"
   ]
  },
  {
   "cell_type": "code",
   "execution_count": 3,
   "metadata": {},
   "outputs": [],
   "source": [
    "def reduce(X, n):\n",
    "    '''PCA dimensionality reduction for X array and n principal components'''\n",
    "    pca = PCA(n_components = n) \n",
    "    X_reduced = pca.fit_transform(X)\n",
    "    return X_reduced"
   ]
  },
  {
   "cell_type": "code",
   "execution_count": 4,
   "metadata": {},
   "outputs": [],
   "source": [
    "def data_split(X, y, test_p, mini_s):\n",
    "    '''Split train and test data for X,y data arrays with test_p percentage of observations in the test data and \n",
    "    mini_s number of observations in the mini_train set.'''\n",
    "    # Split into train and test data\n",
    "    train_data, test_data, train_labels, test_labels = train_test_split(X, y, test_size=test_p, random_state=1, stratify=y)\n",
    "\n",
    "    # Split test data into development data and training into mini train set for computation time\n",
    "    dev_data, dev_labels = test_data[:int(test_data.shape[0]*0.5)], test_labels[:int(test_data.shape[0]*0.5)]\n",
    "    mini_train_data, mini_train_labels = train_data[:mini_s], train_labels[:mini_s]\n",
    "    print('Train data shape:', train_data.shape)\n",
    "    print('Dev data shape:', dev_data.shape)\n",
    "    print('Mini_train data shape:', mini_train_data.shape)\n",
    "    \n",
    "    return train_data, train_labels, test_data, test_labels, dev_data, dev_labels, mini_train_data, mini_train_labels"
   ]
  },
  {
   "cell_type": "code",
   "execution_count": 5,
   "metadata": {},
   "outputs": [],
   "source": [
    "def log_reg(train_X, train_Y, dev_X, dev_Y):\n",
    "    '''Logistic regression looping through values of C. Input train and test data and labels and funtion \n",
    "    returns list of accuracies and list of C values.'''\n",
    "    c_values = [0.001, 0.01, 0.1, 0.2, 0.3, 0.4, 0.5, 1.0, 2.0, 5.0]\n",
    "    LR = []\n",
    "    for c in c_values:\n",
    "        clf = LogisticRegression(C=c, solver='liblinear', multi_class='auto')\n",
    "        clf.fit(train_X, train_Y)\n",
    "        clf_pred = clf.predict(dev_X)\n",
    "        LR.append(round(metrics.f1_score(dev_Y, clf_pred, average='weighted'),3))\n",
    "\n",
    "    return LR, c_values"
   ]
  },
  {
   "cell_type": "code",
   "execution_count": 59,
   "metadata": {},
   "outputs": [],
   "source": [
    "def LR_accuracy_c(train_X, train_Y, dev_X, dev_Y):\n",
    "    '''Calls logistic regression function and returns highest accuracy for specific value of C.'''\n",
    "    accuracy_list = log_reg(train_X, train_Y, dev_X, dev_Y)[0]\n",
    "    accuracy = [y for x,y in sorted(enumerate(accuracy_list), key = lambda x: x[1], reverse=True)][:1]\n",
    "    accuracy_index = [x for x,y in sorted(enumerate(accuracy_list), key = lambda x: x[1], reverse=True)][:1]\n",
    "    C = log_reg(train_X, train_Y, dev_X, dev_Y)[1][accuracy_index[0]]\n",
    "    \n",
    "    return accuracy[0], C"
   ]
  },
  {
   "cell_type": "markdown",
   "metadata": {},
   "source": [
    "**Step 5: Read data**"
   ]
  },
  {
   "cell_type": "markdown",
   "metadata": {},
   "source": [
    "5.1 Load and combine pixel data files into dataframe"
   ]
  },
  {
   "cell_type": "code",
   "execution_count": 7,
   "metadata": {},
   "outputs": [
    {
     "name": "stdout",
     "output_type": "stream",
     "text": [
      "['arr_0', 'arr_1']\n"
     ]
    }
   ],
   "source": [
    "# Load npz files to combine and print content files\n",
    "data_1 = np.load('et_w207_project_npz_files_5000_tmp_tmp5ocrhjnn.npz')\n",
    "data_1.close\n",
    "\n",
    "data_2 = np.load('et_w207_project_npz_files_5000_tmp_tmp092sag67.npz')\n",
    "data_2.close\n",
    "\n",
    "data_3 = np.load('et_w207_project_npz_files_5000_tmp_tmpf31_pn8p.npz')\n",
    "data_3.close\n",
    "\n",
    "data_4 = np.load('et_w207_project_npz_files_5000_tmp_tmpq5b2g4n2.npz')\n",
    "data_4.close\n",
    "\n",
    "print(data_1.files)"
   ]
  },
  {
   "cell_type": "code",
   "execution_count": 8,
   "metadata": {},
   "outputs": [
    {
     "data": {
      "text/plain": [
       "array(['ozbpir-9ey6js-ggdqwo', '378ykanq', 'p366md-big834-7o23k6',\n",
       "       '3zruwvl2', 'q18iae-3vnh74-79npmy'], dtype='<U20')"
      ]
     },
     "execution_count": 8,
     "metadata": {},
     "output_type": "execute_result"
    }
   ],
   "source": [
    "# Show file arr_0 example\n",
    "data_1['arr_0'][:5]"
   ]
  },
  {
   "cell_type": "code",
   "execution_count": 9,
   "metadata": {},
   "outputs": [
    {
     "data": {
      "text/plain": [
       "array([[-103.939   , -116.779   , -123.68    , ..., -103.939   ,\n",
       "        -116.779   , -123.68    ],\n",
       "       [ -46.939003,  -74.779   , -118.68    , ...,  -57.939003,\n",
       "         -84.779   , -118.68    ],\n",
       "       [ 151.061   ,  138.22101 ,  131.32    , ...,  151.061   ,\n",
       "         138.22101 ,  131.32    ],\n",
       "       [  -3.939003,  -66.779   ,  -96.68    , ...,   -3.939003,\n",
       "         -66.779   ,  -96.68    ],\n",
       "       [-103.939   , -116.779   , -123.68    , ..., -103.939   ,\n",
       "        -116.779   , -123.68    ]], dtype=float32)"
      ]
     },
     "execution_count": 9,
     "metadata": {},
     "output_type": "execute_result"
    }
   ],
   "source": [
    "# Show file arr_1 example\n",
    "data_1['arr_1'][:5]"
   ]
  },
  {
   "cell_type": "code",
   "execution_count": 10,
   "metadata": {},
   "outputs": [
    {
     "name": "stdout",
     "output_type": "stream",
     "text": [
      "(878,)\n",
      "(893,)\n",
      "(638,)\n",
      "(1353,)\n"
     ]
    }
   ],
   "source": [
    "# Get number of observations in each file\n",
    "print(data_1['arr_0'].shape)\n",
    "print(data_2['arr_0'].shape)\n",
    "print(data_3['arr_0'].shape)\n",
    "print(data_4['arr_0'].shape)"
   ]
  },
  {
   "cell_type": "code",
   "execution_count": 11,
   "metadata": {},
   "outputs": [
    {
     "name": "stdout",
     "output_type": "stream",
     "text": [
      "(3762, 150528)\n"
     ]
    }
   ],
   "source": [
    "# Concatenate data from all files\n",
    "data_key = np.concatenate((data_1['arr_0'], data_2['arr_0'], data_3['arr_0'], data_4['arr_0']))\n",
    "\n",
    "data_pixel = np.concatenate((data_1['arr_1'], data_2['arr_1'], data_3['arr_1'], data_4['arr_1']))\n",
    "print(data_pixel.shape)"
   ]
  },
  {
   "cell_type": "code",
   "execution_count": 12,
   "metadata": {},
   "outputs": [
    {
     "data": {
      "text/html": [
       "<div>\n",
       "<style scoped>\n",
       "    .dataframe tbody tr th:only-of-type {\n",
       "        vertical-align: middle;\n",
       "    }\n",
       "\n",
       "    .dataframe tbody tr th {\n",
       "        vertical-align: top;\n",
       "    }\n",
       "\n",
       "    .dataframe thead th {\n",
       "        text-align: right;\n",
       "    }\n",
       "</style>\n",
       "<table border=\"1\" class=\"dataframe\">\n",
       "  <thead>\n",
       "    <tr style=\"text-align: right;\">\n",
       "      <th></th>\n",
       "      <th>pixel_array</th>\n",
       "    </tr>\n",
       "    <tr>\n",
       "      <th>attachment_key</th>\n",
       "      <th></th>\n",
       "    </tr>\n",
       "  </thead>\n",
       "  <tbody>\n",
       "    <tr>\n",
       "      <td>ozbpir-9ey6js-ggdqwo</td>\n",
       "      <td>[-0.40760392, -0.45795685, -0.4850196, -0.4076...</td>\n",
       "    </tr>\n",
       "    <tr>\n",
       "      <td>378ykanq</td>\n",
       "      <td>[-0.18407452, -0.29325098, -0.46541175, -0.097...</td>\n",
       "    </tr>\n",
       "    <tr>\n",
       "      <td>p366md-big834-7o23k6</td>\n",
       "      <td>[0.5923961, 0.54204315, 0.51498044, 0.5923961,...</td>\n",
       "    </tr>\n",
       "    <tr>\n",
       "      <td>3zruwvl2</td>\n",
       "      <td>[-0.015447071, -0.26187843, -0.37913725, -0.01...</td>\n",
       "    </tr>\n",
       "    <tr>\n",
       "      <td>q18iae-3vnh74-79npmy</td>\n",
       "      <td>[-0.40760392, -0.45795685, -0.4850196, -0.4076...</td>\n",
       "    </tr>\n",
       "    <tr>\n",
       "      <td>...</td>\n",
       "      <td>...</td>\n",
       "    </tr>\n",
       "    <tr>\n",
       "      <td>pktyig-481wyg-6gyulf</td>\n",
       "      <td>[-0.3605451, -0.41089803, -0.38305882, -0.3644...</td>\n",
       "    </tr>\n",
       "    <tr>\n",
       "      <td>zu7y3rha</td>\n",
       "      <td>[-0.007603933, -0.05795686, -0.08501961, -0.00...</td>\n",
       "    </tr>\n",
       "    <tr>\n",
       "      <td>pxcwxf-8tnpyg-8vhb9r</td>\n",
       "      <td>[0.3022, 0.18125883, 0.12674509, 0.31004313, 0...</td>\n",
       "    </tr>\n",
       "    <tr>\n",
       "      <td>p4hakf-fsskmw-1224up</td>\n",
       "      <td>[-0.40368235, -0.45403528, -0.48109803, -0.387...</td>\n",
       "    </tr>\n",
       "    <tr>\n",
       "      <td>ptuhsk-22124o-f0sxoc</td>\n",
       "      <td>[0.43945488, 0.39302352, 0.3502745, 0.44729802...</td>\n",
       "    </tr>\n",
       "  </tbody>\n",
       "</table>\n",
       "<p>3759 rows × 1 columns</p>\n",
       "</div>"
      ],
      "text/plain": [
       "                                                            pixel_array\n",
       "attachment_key                                                         \n",
       "ozbpir-9ey6js-ggdqwo  [-0.40760392, -0.45795685, -0.4850196, -0.4076...\n",
       "378ykanq              [-0.18407452, -0.29325098, -0.46541175, -0.097...\n",
       "p366md-big834-7o23k6  [0.5923961, 0.54204315, 0.51498044, 0.5923961,...\n",
       "3zruwvl2              [-0.015447071, -0.26187843, -0.37913725, -0.01...\n",
       "q18iae-3vnh74-79npmy  [-0.40760392, -0.45795685, -0.4850196, -0.4076...\n",
       "...                                                                 ...\n",
       "pktyig-481wyg-6gyulf  [-0.3605451, -0.41089803, -0.38305882, -0.3644...\n",
       "zu7y3rha              [-0.007603933, -0.05795686, -0.08501961, -0.00...\n",
       "pxcwxf-8tnpyg-8vhb9r  [0.3022, 0.18125883, 0.12674509, 0.31004313, 0...\n",
       "p4hakf-fsskmw-1224up  [-0.40368235, -0.45403528, -0.48109803, -0.387...\n",
       "ptuhsk-22124o-f0sxoc  [0.43945488, 0.39302352, 0.3502745, 0.44729802...\n",
       "\n",
       "[3759 rows x 1 columns]"
      ]
     },
     "execution_count": 12,
     "metadata": {},
     "output_type": "execute_result"
    }
   ],
   "source": [
    "# Create key value pairs with attachment key and pixel array\n",
    "# Standardize pixel values between 0 and 1 by dividing by 255\n",
    "# Store pixel data as dataframe\n",
    "data_dict = {}\n",
    "for i in range(data_key.shape[0]):\n",
    "    data_dict[data_key[i]] = [data_pixel[i]/255]\n",
    "\n",
    "df_pixel = pd.DataFrame(data=data_dict)\n",
    "df_pixel_t = df_pixel.transpose()\n",
    "df_pixel_t.index.names = ['attachment_key']\n",
    "df_pixel_t.columns = ['pixel_array']\n",
    "df_pixel_t"
   ]
  },
  {
   "cell_type": "markdown",
   "metadata": {},
   "source": [
    "5.2 Load metadata file"
   ]
  },
  {
   "cell_type": "code",
   "execution_count": 34,
   "metadata": {},
   "outputs": [
    {
     "data": {
      "text/html": [
       "<div>\n",
       "<style scoped>\n",
       "    .dataframe tbody tr th:only-of-type {\n",
       "        vertical-align: middle;\n",
       "    }\n",
       "\n",
       "    .dataframe tbody tr th {\n",
       "        vertical-align: top;\n",
       "    }\n",
       "\n",
       "    .dataframe thead th {\n",
       "        text-align: right;\n",
       "    }\n",
       "</style>\n",
       "<table border=\"1\" class=\"dataframe\">\n",
       "  <thead>\n",
       "    <tr style=\"text-align: right;\">\n",
       "      <th></th>\n",
       "      <th>attachment_key</th>\n",
       "      <th>size_mb</th>\n",
       "      <th>height</th>\n",
       "      <th>width</th>\n",
       "      <th>h_to_w</th>\n",
       "      <th>filename</th>\n",
       "      <th>logo</th>\n",
       "    </tr>\n",
       "  </thead>\n",
       "  <tbody>\n",
       "    <tr>\n",
       "      <td>0</td>\n",
       "      <td>001lq61k</td>\n",
       "      <td>0.122520</td>\n",
       "      <td>514.0</td>\n",
       "      <td>720.0</td>\n",
       "      <td>0.713889</td>\n",
       "      <td>campus ministry on the beach.jpg</td>\n",
       "      <td>0</td>\n",
       "    </tr>\n",
       "    <tr>\n",
       "      <td>1</td>\n",
       "      <td>002dlirq</td>\n",
       "      <td>3.256944</td>\n",
       "      <td>4072.0</td>\n",
       "      <td>3868.0</td>\n",
       "      <td>1.052741</td>\n",
       "      <td>BIG ALS FISH FLASH UV VP PL.jpg</td>\n",
       "      <td>0</td>\n",
       "    </tr>\n",
       "    <tr>\n",
       "      <td>2</td>\n",
       "      <td>003qefgm</td>\n",
       "      <td>0.002522</td>\n",
       "      <td>80.0</td>\n",
       "      <td>200.0</td>\n",
       "      <td>0.400000</td>\n",
       "      <td>netix_email_studio.png</td>\n",
       "      <td>1</td>\n",
       "    </tr>\n",
       "    <tr>\n",
       "      <td>3</td>\n",
       "      <td>0083okjl</td>\n",
       "      <td>0.116802</td>\n",
       "      <td>600.0</td>\n",
       "      <td>600.0</td>\n",
       "      <td>1.000000</td>\n",
       "      <td>productshot2.jpg</td>\n",
       "      <td>0</td>\n",
       "    </tr>\n",
       "    <tr>\n",
       "      <td>4</td>\n",
       "      <td>00a957mh</td>\n",
       "      <td>0.140714</td>\n",
       "      <td>816.0</td>\n",
       "      <td>2382.0</td>\n",
       "      <td>0.342569</td>\n",
       "      <td>divine_medical_billing_inc_master.png</td>\n",
       "      <td>1</td>\n",
       "    </tr>\n",
       "  </tbody>\n",
       "</table>\n",
       "</div>"
      ],
      "text/plain": [
       "  attachment_key   size_mb  height   width    h_to_w  \\\n",
       "0       001lq61k  0.122520   514.0   720.0  0.713889   \n",
       "1       002dlirq  3.256944  4072.0  3868.0  1.052741   \n",
       "2       003qefgm  0.002522    80.0   200.0  0.400000   \n",
       "3       0083okjl  0.116802   600.0   600.0  1.000000   \n",
       "4       00a957mh  0.140714   816.0  2382.0  0.342569   \n",
       "\n",
       "                                filename  logo  \n",
       "0       campus ministry on the beach.jpg     0  \n",
       "1        BIG ALS FISH FLASH UV VP PL.jpg     0  \n",
       "2                 netix_email_studio.png     1  \n",
       "3                       productshot2.jpg     0  \n",
       "4  divine_medical_billing_inc_master.png     1  "
      ]
     },
     "execution_count": 34,
     "metadata": {},
     "output_type": "execute_result"
    }
   ],
   "source": [
    "# Load excel data\n",
    "df = pd.read_csv('school_project_data_set-new.csv')\n",
    "df.head()"
   ]
  },
  {
   "cell_type": "markdown",
   "metadata": {},
   "source": [
    "5.3 Combine pixel and metadata features in a pandas dataframe"
   ]
  },
  {
   "cell_type": "code",
   "execution_count": 35,
   "metadata": {},
   "outputs": [
    {
     "data": {
      "text/html": [
       "<div>\n",
       "<style scoped>\n",
       "    .dataframe tbody tr th:only-of-type {\n",
       "        vertical-align: middle;\n",
       "    }\n",
       "\n",
       "    .dataframe tbody tr th {\n",
       "        vertical-align: top;\n",
       "    }\n",
       "\n",
       "    .dataframe thead th {\n",
       "        text-align: right;\n",
       "    }\n",
       "</style>\n",
       "<table border=\"1\" class=\"dataframe\">\n",
       "  <thead>\n",
       "    <tr style=\"text-align: right;\">\n",
       "      <th></th>\n",
       "      <th>attachment_key</th>\n",
       "      <th>size_mb</th>\n",
       "      <th>height</th>\n",
       "      <th>width</th>\n",
       "      <th>h_to_w</th>\n",
       "      <th>filename</th>\n",
       "      <th>logo</th>\n",
       "      <th>pixel_array</th>\n",
       "    </tr>\n",
       "  </thead>\n",
       "  <tbody>\n",
       "    <tr>\n",
       "      <td>0</td>\n",
       "      <td>00xjny6u</td>\n",
       "      <td>0.011849</td>\n",
       "      <td>520.0</td>\n",
       "      <td>506.0</td>\n",
       "      <td>1.027668</td>\n",
       "      <td>Esterdale Theatre - Logo.png</td>\n",
       "      <td>1</td>\n",
       "      <td>[0.5923961, 0.54204315, 0.51498044, 0.5923961,...</td>\n",
       "    </tr>\n",
       "    <tr>\n",
       "      <td>1</td>\n",
       "      <td>04o31jop</td>\n",
       "      <td>0.012610</td>\n",
       "      <td>269.0</td>\n",
       "      <td>396.0</td>\n",
       "      <td>0.679293</td>\n",
       "      <td>BLUE_LOGO.png</td>\n",
       "      <td>1</td>\n",
       "      <td>[0.5923961, 0.54204315, 0.51498044, 0.5923961,...</td>\n",
       "    </tr>\n",
       "    <tr>\n",
       "      <td>2</td>\n",
       "      <td>0840h7ox</td>\n",
       "      <td>0.399114</td>\n",
       "      <td>518.0</td>\n",
       "      <td>920.0</td>\n",
       "      <td>0.563044</td>\n",
       "      <td>ZEN_LB-5.jpg</td>\n",
       "      <td>0</td>\n",
       "      <td>[0.106121555, 0.05576863, 0.052235294, 0.09043...</td>\n",
       "    </tr>\n",
       "    <tr>\n",
       "      <td>3</td>\n",
       "      <td>0awudx2h</td>\n",
       "      <td>0.011226</td>\n",
       "      <td>200.0</td>\n",
       "      <td>200.0</td>\n",
       "      <td>1.000000</td>\n",
       "      <td>article central 200.jpg</td>\n",
       "      <td>1</td>\n",
       "      <td>[0.5923961, 0.54204315, 0.51498044, 0.5923961,...</td>\n",
       "    </tr>\n",
       "    <tr>\n",
       "      <td>4</td>\n",
       "      <td>0bb8y85h</td>\n",
       "      <td>0.263813</td>\n",
       "      <td>885.0</td>\n",
       "      <td>800.0</td>\n",
       "      <td>1.106250</td>\n",
       "      <td>1116-100_WGTank_white.jpg</td>\n",
       "      <td>0</td>\n",
       "      <td>[0.5923961, 0.54204315, 0.51498044, 0.5923961,...</td>\n",
       "    </tr>\n",
       "    <tr>\n",
       "      <td>...</td>\n",
       "      <td>...</td>\n",
       "      <td>...</td>\n",
       "      <td>...</td>\n",
       "      <td>...</td>\n",
       "      <td>...</td>\n",
       "      <td>...</td>\n",
       "      <td>...</td>\n",
       "      <td>...</td>\n",
       "    </tr>\n",
       "    <tr>\n",
       "      <td>3750</td>\n",
       "      <td>zu7y3rha</td>\n",
       "      <td>0.147371</td>\n",
       "      <td>498.0</td>\n",
       "      <td>702.0</td>\n",
       "      <td>0.709402</td>\n",
       "      <td>journalism.jpg</td>\n",
       "      <td>0</td>\n",
       "      <td>[-0.007603933, -0.05795686, -0.08501961, -0.00...</td>\n",
       "    </tr>\n",
       "    <tr>\n",
       "      <td>3751</td>\n",
       "      <td>zuanbsqe</td>\n",
       "      <td>0.580392</td>\n",
       "      <td>206.0</td>\n",
       "      <td>415.0</td>\n",
       "      <td>0.496386</td>\n",
       "      <td>2013 05 26_techstars_id_final_bug solo graysca...</td>\n",
       "      <td>1</td>\n",
       "      <td>[0.5923961, 0.54204315, 0.51498044, 0.5923961,...</td>\n",
       "    </tr>\n",
       "    <tr>\n",
       "      <td>3752</td>\n",
       "      <td>zw9234v4</td>\n",
       "      <td>2.021135</td>\n",
       "      <td>1645.0</td>\n",
       "      <td>1450.0</td>\n",
       "      <td>1.134483</td>\n",
       "      <td>SPIN N GLO SILVER WING GPK MY.jpg</td>\n",
       "      <td>0</td>\n",
       "      <td>[0.5923961, 0.54204315, 0.51498044, 0.5923961,...</td>\n",
       "    </tr>\n",
       "    <tr>\n",
       "      <td>3753</td>\n",
       "      <td>zxfqbfj1</td>\n",
       "      <td>0.012057</td>\n",
       "      <td>36.0</td>\n",
       "      <td>345.0</td>\n",
       "      <td>0.104348</td>\n",
       "      <td>cornerstone web logo medium.png</td>\n",
       "      <td>1</td>\n",
       "      <td>[-0.40760392, -0.45795685, -0.4850196, -0.4076...</td>\n",
       "    </tr>\n",
       "    <tr>\n",
       "      <td>3754</td>\n",
       "      <td>zzgkjqna</td>\n",
       "      <td>0.027983</td>\n",
       "      <td>56.0</td>\n",
       "      <td>350.0</td>\n",
       "      <td>0.160000</td>\n",
       "      <td>fieldcontrolslogohorz web.jpg</td>\n",
       "      <td>1</td>\n",
       "      <td>[0.5923961, 0.54204315, 0.51498044, 0.5923961,...</td>\n",
       "    </tr>\n",
       "  </tbody>\n",
       "</table>\n",
       "<p>3755 rows × 8 columns</p>\n",
       "</div>"
      ],
      "text/plain": [
       "     attachment_key   size_mb  height   width    h_to_w  \\\n",
       "0          00xjny6u  0.011849   520.0   506.0  1.027668   \n",
       "1          04o31jop  0.012610   269.0   396.0  0.679293   \n",
       "2          0840h7ox  0.399114   518.0   920.0  0.563044   \n",
       "3          0awudx2h  0.011226   200.0   200.0  1.000000   \n",
       "4          0bb8y85h  0.263813   885.0   800.0  1.106250   \n",
       "...             ...       ...     ...     ...       ...   \n",
       "3750       zu7y3rha  0.147371   498.0   702.0  0.709402   \n",
       "3751       zuanbsqe  0.580392   206.0   415.0  0.496386   \n",
       "3752       zw9234v4  2.021135  1645.0  1450.0  1.134483   \n",
       "3753       zxfqbfj1  0.012057    36.0   345.0  0.104348   \n",
       "3754       zzgkjqna  0.027983    56.0   350.0  0.160000   \n",
       "\n",
       "                                               filename  logo  \\\n",
       "0                          Esterdale Theatre - Logo.png     1   \n",
       "1                                         BLUE_LOGO.png     1   \n",
       "2                                          ZEN_LB-5.jpg     0   \n",
       "3                               article central 200.jpg     1   \n",
       "4                             1116-100_WGTank_white.jpg     0   \n",
       "...                                                 ...   ...   \n",
       "3750                                     journalism.jpg     0   \n",
       "3751  2013 05 26_techstars_id_final_bug solo graysca...     1   \n",
       "3752                  SPIN N GLO SILVER WING GPK MY.jpg     0   \n",
       "3753                    cornerstone web logo medium.png     1   \n",
       "3754                      fieldcontrolslogohorz web.jpg     1   \n",
       "\n",
       "                                            pixel_array  \n",
       "0     [0.5923961, 0.54204315, 0.51498044, 0.5923961,...  \n",
       "1     [0.5923961, 0.54204315, 0.51498044, 0.5923961,...  \n",
       "2     [0.106121555, 0.05576863, 0.052235294, 0.09043...  \n",
       "3     [0.5923961, 0.54204315, 0.51498044, 0.5923961,...  \n",
       "4     [0.5923961, 0.54204315, 0.51498044, 0.5923961,...  \n",
       "...                                                 ...  \n",
       "3750  [-0.007603933, -0.05795686, -0.08501961, -0.00...  \n",
       "3751  [0.5923961, 0.54204315, 0.51498044, 0.5923961,...  \n",
       "3752  [0.5923961, 0.54204315, 0.51498044, 0.5923961,...  \n",
       "3753  [-0.40760392, -0.45795685, -0.4850196, -0.4076...  \n",
       "3754  [0.5923961, 0.54204315, 0.51498044, 0.5923961,...  \n",
       "\n",
       "[3755 rows x 8 columns]"
      ]
     },
     "execution_count": 35,
     "metadata": {},
     "output_type": "execute_result"
    }
   ],
   "source": [
    "# Merge dataframes by attachment key\n",
    "combined_df = df.merge(df_pixel_t, on='attachment_key')\n",
    "combined_df"
   ]
  },
  {
   "cell_type": "code",
   "execution_count": 29,
   "metadata": {},
   "outputs": [],
   "source": [
    "### VISUALIZATIONS FROM PANDAS PROFILING HERE"
   ]
  },
  {
   "cell_type": "markdown",
   "metadata": {},
   "source": [
    "**Step 6: Data preprocessing**"
   ]
  },
  {
   "cell_type": "markdown",
   "metadata": {},
   "source": [
    "6.1 Remove null values"
   ]
  },
  {
   "cell_type": "code",
   "execution_count": 36,
   "metadata": {},
   "outputs": [
    {
     "name": "stdout",
     "output_type": "stream",
     "text": [
      "<class 'pandas.core.frame.DataFrame'>\n",
      "Int64Index: 3754 entries, 0 to 3754\n",
      "Data columns (total 8 columns):\n",
      "attachment_key    3754 non-null object\n",
      "size_mb           3754 non-null float64\n",
      "height            3754 non-null float64\n",
      "width             3754 non-null float64\n",
      "h_to_w            3754 non-null float64\n",
      "filename          3754 non-null object\n",
      "logo              3754 non-null int64\n",
      "pixel_array       3754 non-null object\n",
      "dtypes: float64(4), int64(1), object(3)\n",
      "memory usage: 264.0+ KB\n"
     ]
    }
   ],
   "source": [
    "# Remove rows with null values\n",
    "combined_df = combined_df[combined_df.height.notnull()]\n",
    "combined_df.info(verbose=True)"
   ]
  },
  {
   "cell_type": "markdown",
   "metadata": {},
   "source": [
    "6.2 Create file type dummy variables from file name"
   ]
  },
  {
   "cell_type": "code",
   "execution_count": 37,
   "metadata": {},
   "outputs": [
    {
     "name": "stdout",
     "output_type": "stream",
     "text": [
      "{'73e', 'peg', 'jpg', 'png', 'ack', 'age', 'hot', 'ite', 'pig', '0mm', 'lue', 'jpe'}\n"
     ]
    }
   ],
   "source": [
    "# Find file types from filename\n",
    "file_types = []\n",
    "for item in combined_df['filename']:\n",
    "    file_types.append(item[-3:].lower())\n",
    "\n",
    "print(set(file_types))"
   ]
  },
  {
   "cell_type": "code",
   "execution_count": 38,
   "metadata": {},
   "outputs": [],
   "source": [
    "# Create list of file types from filename to append to df\n",
    "filetype_encoding = []\n",
    "for item in combined_df['filename']:\n",
    "    if item[-3:].lower() == 'jpg':\n",
    "        filetype_encoding.append('jpg')\n",
    "    elif item[-3:].lower() == 'png':\n",
    "        filetype_encoding.append('png')\n",
    "    else:\n",
    "        filetype_encoding.append('other')"
   ]
  },
  {
   "cell_type": "code",
   "execution_count": 41,
   "metadata": {},
   "outputs": [
    {
     "data": {
      "text/html": [
       "<div>\n",
       "<style scoped>\n",
       "    .dataframe tbody tr th:only-of-type {\n",
       "        vertical-align: middle;\n",
       "    }\n",
       "\n",
       "    .dataframe tbody tr th {\n",
       "        vertical-align: top;\n",
       "    }\n",
       "\n",
       "    .dataframe thead th {\n",
       "        text-align: right;\n",
       "    }\n",
       "</style>\n",
       "<table border=\"1\" class=\"dataframe\">\n",
       "  <thead>\n",
       "    <tr style=\"text-align: right;\">\n",
       "      <th></th>\n",
       "      <th>attachment_key</th>\n",
       "      <th>size_mb</th>\n",
       "      <th>height</th>\n",
       "      <th>width</th>\n",
       "      <th>h_to_w</th>\n",
       "      <th>filetype</th>\n",
       "      <th>pixel_array</th>\n",
       "      <th>filename</th>\n",
       "      <th>logo</th>\n",
       "    </tr>\n",
       "  </thead>\n",
       "  <tbody>\n",
       "    <tr>\n",
       "      <td>0</td>\n",
       "      <td>00xjny6u</td>\n",
       "      <td>0.011849</td>\n",
       "      <td>520.0</td>\n",
       "      <td>506.0</td>\n",
       "      <td>1.027668</td>\n",
       "      <td>png</td>\n",
       "      <td>[0.5923961, 0.54204315, 0.51498044, 0.5923961,...</td>\n",
       "      <td>Esterdale Theatre - Logo.png</td>\n",
       "      <td>1</td>\n",
       "    </tr>\n",
       "    <tr>\n",
       "      <td>1</td>\n",
       "      <td>04o31jop</td>\n",
       "      <td>0.012610</td>\n",
       "      <td>269.0</td>\n",
       "      <td>396.0</td>\n",
       "      <td>0.679293</td>\n",
       "      <td>png</td>\n",
       "      <td>[0.5923961, 0.54204315, 0.51498044, 0.5923961,...</td>\n",
       "      <td>BLUE_LOGO.png</td>\n",
       "      <td>1</td>\n",
       "    </tr>\n",
       "    <tr>\n",
       "      <td>2</td>\n",
       "      <td>0840h7ox</td>\n",
       "      <td>0.399114</td>\n",
       "      <td>518.0</td>\n",
       "      <td>920.0</td>\n",
       "      <td>0.563044</td>\n",
       "      <td>jpg</td>\n",
       "      <td>[0.106121555, 0.05576863, 0.052235294, 0.09043...</td>\n",
       "      <td>ZEN_LB-5.jpg</td>\n",
       "      <td>0</td>\n",
       "    </tr>\n",
       "    <tr>\n",
       "      <td>3</td>\n",
       "      <td>0awudx2h</td>\n",
       "      <td>0.011226</td>\n",
       "      <td>200.0</td>\n",
       "      <td>200.0</td>\n",
       "      <td>1.000000</td>\n",
       "      <td>jpg</td>\n",
       "      <td>[0.5923961, 0.54204315, 0.51498044, 0.5923961,...</td>\n",
       "      <td>article central 200.jpg</td>\n",
       "      <td>1</td>\n",
       "    </tr>\n",
       "    <tr>\n",
       "      <td>4</td>\n",
       "      <td>0bb8y85h</td>\n",
       "      <td>0.263813</td>\n",
       "      <td>885.0</td>\n",
       "      <td>800.0</td>\n",
       "      <td>1.106250</td>\n",
       "      <td>jpg</td>\n",
       "      <td>[0.5923961, 0.54204315, 0.51498044, 0.5923961,...</td>\n",
       "      <td>1116-100_WGTank_white.jpg</td>\n",
       "      <td>0</td>\n",
       "    </tr>\n",
       "  </tbody>\n",
       "</table>\n",
       "</div>"
      ],
      "text/plain": [
       "  attachment_key   size_mb  height  width    h_to_w filetype  \\\n",
       "0       00xjny6u  0.011849   520.0  506.0  1.027668      png   \n",
       "1       04o31jop  0.012610   269.0  396.0  0.679293      png   \n",
       "2       0840h7ox  0.399114   518.0  920.0  0.563044      jpg   \n",
       "3       0awudx2h  0.011226   200.0  200.0  1.000000      jpg   \n",
       "4       0bb8y85h  0.263813   885.0  800.0  1.106250      jpg   \n",
       "\n",
       "                                         pixel_array  \\\n",
       "0  [0.5923961, 0.54204315, 0.51498044, 0.5923961,...   \n",
       "1  [0.5923961, 0.54204315, 0.51498044, 0.5923961,...   \n",
       "2  [0.106121555, 0.05576863, 0.052235294, 0.09043...   \n",
       "3  [0.5923961, 0.54204315, 0.51498044, 0.5923961,...   \n",
       "4  [0.5923961, 0.54204315, 0.51498044, 0.5923961,...   \n",
       "\n",
       "                       filename  logo  \n",
       "0  Esterdale Theatre - Logo.png     1  \n",
       "1                 BLUE_LOGO.png     1  \n",
       "2                  ZEN_LB-5.jpg     0  \n",
       "3       article central 200.jpg     1  \n",
       "4     1116-100_WGTank_white.jpg     0  "
      ]
     },
     "execution_count": 41,
     "metadata": {},
     "output_type": "execute_result"
    }
   ],
   "source": [
    "# Create df that includes column for file type\n",
    "combined_df['filetype'] = filetype_encoding\n",
    "combined_df = combined_df[['attachment_key', 'size_mb', 'height', 'width', 'h_to_w', 'filetype', 'pixel_array', 'filename','logo']]\n",
    "combined_df.head()\n",
    "#warnings.simplefilter(action='ignore', category=SettingWithCopyWarning)"
   ]
  },
  {
   "cell_type": "code",
   "execution_count": 42,
   "metadata": {},
   "outputs": [
    {
     "data": {
      "text/html": [
       "<div>\n",
       "<style scoped>\n",
       "    .dataframe tbody tr th:only-of-type {\n",
       "        vertical-align: middle;\n",
       "    }\n",
       "\n",
       "    .dataframe tbody tr th {\n",
       "        vertical-align: top;\n",
       "    }\n",
       "\n",
       "    .dataframe thead th {\n",
       "        text-align: right;\n",
       "    }\n",
       "</style>\n",
       "<table border=\"1\" class=\"dataframe\">\n",
       "  <thead>\n",
       "    <tr style=\"text-align: right;\">\n",
       "      <th></th>\n",
       "      <th>attachment_key</th>\n",
       "      <th>size_mb</th>\n",
       "      <th>height</th>\n",
       "      <th>width</th>\n",
       "      <th>h_to_w</th>\n",
       "      <th>filetype</th>\n",
       "      <th>pixel_array</th>\n",
       "      <th>filename</th>\n",
       "      <th>logo</th>\n",
       "      <th>jpg</th>\n",
       "      <th>other</th>\n",
       "      <th>png</th>\n",
       "    </tr>\n",
       "  </thead>\n",
       "  <tbody>\n",
       "    <tr>\n",
       "      <td>0</td>\n",
       "      <td>00xjny6u</td>\n",
       "      <td>0.011849</td>\n",
       "      <td>520.0</td>\n",
       "      <td>506.0</td>\n",
       "      <td>1.027668</td>\n",
       "      <td>png</td>\n",
       "      <td>[0.5923961, 0.54204315, 0.51498044, 0.5923961,...</td>\n",
       "      <td>Esterdale Theatre - Logo.png</td>\n",
       "      <td>1</td>\n",
       "      <td>0</td>\n",
       "      <td>0</td>\n",
       "      <td>1</td>\n",
       "    </tr>\n",
       "    <tr>\n",
       "      <td>1</td>\n",
       "      <td>04o31jop</td>\n",
       "      <td>0.012610</td>\n",
       "      <td>269.0</td>\n",
       "      <td>396.0</td>\n",
       "      <td>0.679293</td>\n",
       "      <td>png</td>\n",
       "      <td>[0.5923961, 0.54204315, 0.51498044, 0.5923961,...</td>\n",
       "      <td>BLUE_LOGO.png</td>\n",
       "      <td>1</td>\n",
       "      <td>0</td>\n",
       "      <td>0</td>\n",
       "      <td>1</td>\n",
       "    </tr>\n",
       "    <tr>\n",
       "      <td>2</td>\n",
       "      <td>0840h7ox</td>\n",
       "      <td>0.399114</td>\n",
       "      <td>518.0</td>\n",
       "      <td>920.0</td>\n",
       "      <td>0.563044</td>\n",
       "      <td>jpg</td>\n",
       "      <td>[0.106121555, 0.05576863, 0.052235294, 0.09043...</td>\n",
       "      <td>ZEN_LB-5.jpg</td>\n",
       "      <td>0</td>\n",
       "      <td>1</td>\n",
       "      <td>0</td>\n",
       "      <td>0</td>\n",
       "    </tr>\n",
       "    <tr>\n",
       "      <td>3</td>\n",
       "      <td>0awudx2h</td>\n",
       "      <td>0.011226</td>\n",
       "      <td>200.0</td>\n",
       "      <td>200.0</td>\n",
       "      <td>1.000000</td>\n",
       "      <td>jpg</td>\n",
       "      <td>[0.5923961, 0.54204315, 0.51498044, 0.5923961,...</td>\n",
       "      <td>article central 200.jpg</td>\n",
       "      <td>1</td>\n",
       "      <td>1</td>\n",
       "      <td>0</td>\n",
       "      <td>0</td>\n",
       "    </tr>\n",
       "    <tr>\n",
       "      <td>4</td>\n",
       "      <td>0bb8y85h</td>\n",
       "      <td>0.263813</td>\n",
       "      <td>885.0</td>\n",
       "      <td>800.0</td>\n",
       "      <td>1.106250</td>\n",
       "      <td>jpg</td>\n",
       "      <td>[0.5923961, 0.54204315, 0.51498044, 0.5923961,...</td>\n",
       "      <td>1116-100_WGTank_white.jpg</td>\n",
       "      <td>0</td>\n",
       "      <td>1</td>\n",
       "      <td>0</td>\n",
       "      <td>0</td>\n",
       "    </tr>\n",
       "  </tbody>\n",
       "</table>\n",
       "</div>"
      ],
      "text/plain": [
       "  attachment_key   size_mb  height  width    h_to_w filetype  \\\n",
       "0       00xjny6u  0.011849   520.0  506.0  1.027668      png   \n",
       "1       04o31jop  0.012610   269.0  396.0  0.679293      png   \n",
       "2       0840h7ox  0.399114   518.0  920.0  0.563044      jpg   \n",
       "3       0awudx2h  0.011226   200.0  200.0  1.000000      jpg   \n",
       "4       0bb8y85h  0.263813   885.0  800.0  1.106250      jpg   \n",
       "\n",
       "                                         pixel_array  \\\n",
       "0  [0.5923961, 0.54204315, 0.51498044, 0.5923961,...   \n",
       "1  [0.5923961, 0.54204315, 0.51498044, 0.5923961,...   \n",
       "2  [0.106121555, 0.05576863, 0.052235294, 0.09043...   \n",
       "3  [0.5923961, 0.54204315, 0.51498044, 0.5923961,...   \n",
       "4  [0.5923961, 0.54204315, 0.51498044, 0.5923961,...   \n",
       "\n",
       "                       filename  logo  jpg  other  png  \n",
       "0  Esterdale Theatre - Logo.png     1    0      0    1  \n",
       "1                 BLUE_LOGO.png     1    0      0    1  \n",
       "2                  ZEN_LB-5.jpg     0    1      0    0  \n",
       "3       article central 200.jpg     1    1      0    0  \n",
       "4     1116-100_WGTank_white.jpg     0    1      0    0  "
      ]
     },
     "execution_count": 42,
     "metadata": {},
     "output_type": "execute_result"
    }
   ],
   "source": [
    "# Get dummies for file type\n",
    "filetype_dummies = pd.get_dummies(combined_df.filetype)\n",
    "\n",
    "# add to initial df\n",
    "combined_df = pd.concat((combined_df, filetype_dummies), axis=1)\n",
    "\n",
    "# print head of df\n",
    "combined_df.head()"
   ]
  },
  {
   "cell_type": "markdown",
   "metadata": {},
   "source": [
    "6.3 Scale metadata variables"
   ]
  },
  {
   "cell_type": "code",
   "execution_count": 43,
   "metadata": {},
   "outputs": [],
   "source": [
    "# Scale continuous feature variables\n",
    "combined_df['size_mb'] = preprocessing.scale(combined_df['size_mb'])\n",
    "combined_df['h_to_w'] = preprocessing.scale(combined_df['h_to_w'])\n",
    "combined_df['height'] = preprocessing.scale(combined_df['height'])\n",
    "combined_df['width'] = preprocessing.scale(combined_df['width'])"
   ]
  },
  {
   "cell_type": "markdown",
   "metadata": {},
   "source": [
    "6.4 Create X, y arrays"
   ]
  },
  {
   "cell_type": "code",
   "execution_count": 44,
   "metadata": {},
   "outputs": [
    {
     "data": {
      "text/html": [
       "<div>\n",
       "<style scoped>\n",
       "    .dataframe tbody tr th:only-of-type {\n",
       "        vertical-align: middle;\n",
       "    }\n",
       "\n",
       "    .dataframe tbody tr th {\n",
       "        vertical-align: top;\n",
       "    }\n",
       "\n",
       "    .dataframe thead th {\n",
       "        text-align: right;\n",
       "    }\n",
       "</style>\n",
       "<table border=\"1\" class=\"dataframe\">\n",
       "  <thead>\n",
       "    <tr style=\"text-align: right;\">\n",
       "      <th></th>\n",
       "      <th>attachment_key</th>\n",
       "      <th>pixel_array</th>\n",
       "      <th>size_mb</th>\n",
       "      <th>h_to_w</th>\n",
       "      <th>jpg</th>\n",
       "      <th>png</th>\n",
       "      <th>other</th>\n",
       "      <th>height</th>\n",
       "      <th>width</th>\n",
       "      <th>logo</th>\n",
       "      <th>filetype</th>\n",
       "      <th>filename</th>\n",
       "    </tr>\n",
       "  </thead>\n",
       "  <tbody>\n",
       "    <tr>\n",
       "      <td>0</td>\n",
       "      <td>00xjny6u</td>\n",
       "      <td>[0.5923961, 0.54204315, 0.51498044, 0.5923961,...</td>\n",
       "      <td>-0.366308</td>\n",
       "      <td>0.638439</td>\n",
       "      <td>0</td>\n",
       "      <td>1</td>\n",
       "      <td>0</td>\n",
       "      <td>-0.712708</td>\n",
       "      <td>-0.888611</td>\n",
       "      <td>1</td>\n",
       "      <td>png</td>\n",
       "      <td>Esterdale Theatre - Logo.png</td>\n",
       "    </tr>\n",
       "    <tr>\n",
       "      <td>1</td>\n",
       "      <td>04o31jop</td>\n",
       "      <td>[0.5923961, 0.54204315, 0.51498044, 0.5923961,...</td>\n",
       "      <td>-0.366187</td>\n",
       "      <td>-0.187892</td>\n",
       "      <td>0</td>\n",
       "      <td>1</td>\n",
       "      <td>0</td>\n",
       "      <td>-0.861519</td>\n",
       "      <td>-0.943446</td>\n",
       "      <td>1</td>\n",
       "      <td>png</td>\n",
       "      <td>BLUE_LOGO.png</td>\n",
       "    </tr>\n",
       "    <tr>\n",
       "      <td>2</td>\n",
       "      <td>0840h7ox</td>\n",
       "      <td>[0.106121555, 0.05576863, 0.052235294, 0.09043...</td>\n",
       "      <td>-0.304882</td>\n",
       "      <td>-0.463630</td>\n",
       "      <td>1</td>\n",
       "      <td>0</td>\n",
       "      <td>0</td>\n",
       "      <td>-0.713894</td>\n",
       "      <td>-0.682232</td>\n",
       "      <td>0</td>\n",
       "      <td>jpg</td>\n",
       "      <td>ZEN_LB-5.jpg</td>\n",
       "    </tr>\n",
       "    <tr>\n",
       "      <td>3</td>\n",
       "      <td>0awudx2h</td>\n",
       "      <td>[0.5923961, 0.54204315, 0.51498044, 0.5923961,...</td>\n",
       "      <td>-0.366407</td>\n",
       "      <td>0.572811</td>\n",
       "      <td>1</td>\n",
       "      <td>0</td>\n",
       "      <td>0</td>\n",
       "      <td>-0.902427</td>\n",
       "      <td>-1.041152</td>\n",
       "      <td>1</td>\n",
       "      <td>jpg</td>\n",
       "      <td>article central 200.jpg</td>\n",
       "    </tr>\n",
       "    <tr>\n",
       "      <td>4</td>\n",
       "      <td>0bb8y85h</td>\n",
       "      <td>[0.5923961, 0.54204315, 0.51498044, 0.5923961,...</td>\n",
       "      <td>-0.326343</td>\n",
       "      <td>0.824832</td>\n",
       "      <td>1</td>\n",
       "      <td>0</td>\n",
       "      <td>0</td>\n",
       "      <td>-0.496310</td>\n",
       "      <td>-0.742052</td>\n",
       "      <td>0</td>\n",
       "      <td>jpg</td>\n",
       "      <td>1116-100_WGTank_white.jpg</td>\n",
       "    </tr>\n",
       "  </tbody>\n",
       "</table>\n",
       "</div>"
      ],
      "text/plain": [
       "  attachment_key                                        pixel_array   size_mb  \\\n",
       "0       00xjny6u  [0.5923961, 0.54204315, 0.51498044, 0.5923961,... -0.366308   \n",
       "1       04o31jop  [0.5923961, 0.54204315, 0.51498044, 0.5923961,... -0.366187   \n",
       "2       0840h7ox  [0.106121555, 0.05576863, 0.052235294, 0.09043... -0.304882   \n",
       "3       0awudx2h  [0.5923961, 0.54204315, 0.51498044, 0.5923961,... -0.366407   \n",
       "4       0bb8y85h  [0.5923961, 0.54204315, 0.51498044, 0.5923961,... -0.326343   \n",
       "\n",
       "     h_to_w  jpg  png  other    height     width  logo filetype  \\\n",
       "0  0.638439    0    1      0 -0.712708 -0.888611     1      png   \n",
       "1 -0.187892    0    1      0 -0.861519 -0.943446     1      png   \n",
       "2 -0.463630    1    0      0 -0.713894 -0.682232     0      jpg   \n",
       "3  0.572811    1    0      0 -0.902427 -1.041152     1      jpg   \n",
       "4  0.824832    1    0      0 -0.496310 -0.742052     0      jpg   \n",
       "\n",
       "                       filename  \n",
       "0  Esterdale Theatre - Logo.png  \n",
       "1                 BLUE_LOGO.png  \n",
       "2                  ZEN_LB-5.jpg  \n",
       "3       article central 200.jpg  \n",
       "4     1116-100_WGTank_white.jpg  "
      ]
     },
     "execution_count": 44,
     "metadata": {},
     "output_type": "execute_result"
    }
   ],
   "source": [
    "# Organize df to separate into feature arrays\n",
    "combined_df = combined_df[['attachment_key', 'pixel_array', 'size_mb', 'h_to_w', 'jpg', 'png', 'other',\n",
    "                                     'height', 'width', 'logo', 'filetype', 'filename']]\n",
    "combined_df.head()"
   ]
  },
  {
   "cell_type": "code",
   "execution_count": 45,
   "metadata": {},
   "outputs": [
    {
     "name": "stdout",
     "output_type": "stream",
     "text": [
      "(3754, 150528)\n"
     ]
    }
   ],
   "source": [
    "# y array contains logo/not logo binary variable\n",
    "y = np.array(combined_df.iloc[:, 9])\n",
    "\n",
    "# X array contains pixel array only\n",
    "X = np.array(combined_df['pixel_array'].tolist())\n",
    "print(X.shape)"
   ]
  },
  {
   "cell_type": "markdown",
   "metadata": {},
   "source": [
    "6.5 Reduce dimensionality of pixel data"
   ]
  },
  {
   "cell_type": "code",
   "execution_count": 46,
   "metadata": {},
   "outputs": [],
   "source": [
    "# Reduce dimensionality of pixel array\n",
    "X_reduced = reduce(X,2)"
   ]
  },
  {
   "cell_type": "code",
   "execution_count": null,
   "metadata": {},
   "outputs": [],
   "source": [
    "### PCA VISUALIZATIONS HERE"
   ]
  },
  {
   "cell_type": "markdown",
   "metadata": {},
   "source": [
    "6.6 Create alternate X arrays with metadata features"
   ]
  },
  {
   "cell_type": "code",
   "execution_count": 47,
   "metadata": {},
   "outputs": [
    {
     "name": "stdout",
     "output_type": "stream",
     "text": [
      "(3754, 9)\n",
      "(3754, 7)\n",
      "(3754, 4)\n",
      "(3754, 5)\n",
      "(3754, 7)\n",
      "(3754, 5)\n"
     ]
    }
   ],
   "source": [
    "# Create variations of X array with reduced pixel data and different metadata features\n",
    "\n",
    "# X2 array contains pixel features, size, height, width, h_to_w, filetype dummies\n",
    "X2 = np.concatenate((X_reduced, np.array(combined_df.iloc[:, 2:9])),axis=1)\n",
    "print(X2.shape)\n",
    "\n",
    "# X3 array contains pixel features, size, h_to_w, filetype dummies\n",
    "X3 = np.concatenate((X_reduced, np.array(combined_df.iloc[:, 2:7])),axis=1)\n",
    "print(X3.shape)\n",
    "\n",
    "# X4 array contains pixel array, size, h_to_w\n",
    "X4 = np.concatenate((X_reduced, np.array(combined_df.iloc[:, 2:4])),axis=1)\n",
    "print(X4.shape)\n",
    "\n",
    "# X5 array contains pixel array, filetype dummies \n",
    "X5 = np.concatenate((X_reduced, np.array(combined_df.iloc[:, 4:7])),axis=1)\n",
    "print(X5.shape)\n",
    "\n",
    "# X6 array contains size, height, width, h_to_w, filetype\n",
    "X6 = np.array(combined_df.iloc[:, 2:9])\n",
    "print(X6.shape)\n",
    "\n",
    "# X7 array contains size, h_to_w, filetype\n",
    "X7 = np.array(combined_df.iloc[:, 2:7])\n",
    "print(X7.shape)"
   ]
  },
  {
   "cell_type": "markdown",
   "metadata": {},
   "source": [
    "6.7 Split each set of features into train, development, and test data"
   ]
  },
  {
   "cell_type": "code",
   "execution_count": 48,
   "metadata": {},
   "outputs": [
    {
     "name": "stdout",
     "output_type": "stream",
     "text": [
      "Train data shape: (2252, 2)\n",
      "Dev data shape: (751, 2)\n",
      "Mini_train data shape: (100, 2)\n",
      "Train data shape: (2252, 9)\n",
      "Dev data shape: (751, 9)\n",
      "Mini_train data shape: (100, 9)\n",
      "Train data shape: (2252, 7)\n",
      "Dev data shape: (751, 7)\n",
      "Mini_train data shape: (100, 7)\n",
      "Train data shape: (2252, 4)\n",
      "Dev data shape: (751, 4)\n",
      "Mini_train data shape: (100, 4)\n",
      "Train data shape: (2252, 5)\n",
      "Dev data shape: (751, 5)\n",
      "Mini_train data shape: (100, 5)\n",
      "Train data shape: (2252, 7)\n",
      "Dev data shape: (751, 7)\n",
      "Mini_train data shape: (100, 7)\n",
      "Train data shape: (2252, 5)\n",
      "Dev data shape: (751, 5)\n",
      "Mini_train data shape: (100, 5)\n"
     ]
    }
   ],
   "source": [
    "# Split all feature combinations into train, test data\n",
    "train_data, train_labels, test_data, test_labels, dev_data, dev_labels, mini_train_data, mini_train_labels = data_split(X_reduced, y, 0.4, 100)\n",
    "train_data2, train_labels2, test_data2, test_labels2, dev_data2, dev_labels2, mini_train_data2, mini_train_labels2 = data_split(X2, y, 0.4, 100)\n",
    "train_data3, train_labels3, test_data3, test_labels3, dev_data3, dev_labels3, mini_train_data3, mini_train_labels3 = data_split(X3, y, 0.4, 100)\n",
    "train_data4, train_labels4, test_data4, test_labels4, dev_data4, dev_labels4, mini_train_data4, mini_train_labels4 = data_split(X4, y, 0.4, 100)\n",
    "train_data5, train_labels5, test_data5, test_labels5, dev_data5, dev_labels5, mini_train_data5, mini_train_labels5 = data_split(X5, y, 0.4, 100)\n",
    "train_data6, train_labels6, test_data6, test_labels6, dev_data6, dev_labels6, mini_train_data6, mini_train_labels6 = data_split(X6, y, 0.4, 100)\n",
    "train_data7, train_labels7, test_data7, test_labels7, dev_data7, dev_labels7, mini_train_data7, mini_train_labels7 = data_split(X7, y, 0.4, 100)"
   ]
  },
  {
   "cell_type": "markdown",
   "metadata": {},
   "source": [
    "**Step 7: Logistic Regression**"
   ]
  },
  {
   "cell_type": "markdown",
   "metadata": {},
   "source": [
    "7.1 Run logistic regression for pixel data only"
   ]
  },
  {
   "cell_type": "code",
   "execution_count": 60,
   "metadata": {},
   "outputs": [
    {
     "name": "stdout",
     "output_type": "stream",
     "text": [
      "Features: pixel features only\n",
      "Best Accuracy: 0.577, c=0.001\n"
     ]
    }
   ],
   "source": [
    "# Pixel array only\n",
    "# Run LR and output best accuracy with c value\n",
    "print('Features: pixel features only\\nBest Accuracy: {}, c={}'.format(\n",
    "    LR_accuracy_c(train_data, train_labels, dev_data, dev_labels)[0],\n",
    "    LR_accuracy_c(train_data, train_labels, dev_data, dev_labels)[1]))"
   ]
  },
  {
   "cell_type": "markdown",
   "metadata": {},
   "source": [
    "7.2 Run logistic regression for all feature combinations"
   ]
  },
  {
   "cell_type": "code",
   "execution_count": 61,
   "metadata": {},
   "outputs": [
    {
     "name": "stdout",
     "output_type": "stream",
     "text": [
      "Features: pixel features, size, height, width, h_to_w, filetype dummies\n",
      "Best Accuracy: 0.858, c=0.1\n",
      "\n",
      "Features: pixel features, size, h_to_w, filetype dummies\n",
      "Best Accuracy: 0.849, c=2.0\n",
      "\n",
      "Features: pixel features, size, h_to_w\n",
      "Best Accuracy: 0.768, c=0.3\n",
      "\n",
      "Features: pixel features, filetype dummies\n",
      "Best Accuracy: 0.822, c=0.2\n",
      "\n",
      "Features: size, height, width, h_to_w, filetype\n",
      "Best Accuracy: 0.845, c=0.1\n",
      "\n",
      "Features: size, h_to_w, filetype\n",
      "Best Accuracy: 0.849, c=0.01\n",
      "\n"
     ]
    }
   ],
   "source": [
    "# Run LR and output best accuracies with c values for each combination of features\n",
    "print('Features: pixel features, size, height, width, h_to_w, filetype dummies\\nBest Accuracy: {}, c={}\\n'.format(\n",
    "    LR_accuracy_c(train_data2, train_labels2, dev_data2, dev_labels2)[0],\n",
    "    LR_accuracy_c(train_data2, train_labels2, dev_data2, dev_labels2)[1]))\n",
    "\n",
    "print('Features: pixel features, size, h_to_w, filetype dummies\\nBest Accuracy: {}, c={}\\n'.format(\n",
    "    LR_accuracy_c(train_data3, train_labels3, dev_data3, dev_labels3)[0],\n",
    "    LR_accuracy_c(train_data3, train_labels3, dev_data3, dev_labels3)[1]))\n",
    "\n",
    "print('Features: pixel features, size, h_to_w\\nBest Accuracy: {}, c={}\\n'.format(\n",
    "    LR_accuracy_c(train_data4, train_labels4, dev_data4, dev_labels4)[0],\n",
    "    LR_accuracy_c(train_data4, train_labels4, dev_data4, dev_labels4)[1]))\n",
    "\n",
    "print('Features: pixel features, filetype dummies\\nBest Accuracy: {}, c={}\\n'.format(\n",
    "    LR_accuracy_c(train_data5, train_labels5, dev_data5, dev_labels5)[0],\n",
    "    LR_accuracy_c(train_data5, train_labels5, dev_data5, dev_labels5)[1]))\n",
    "\n",
    "print('Features: size, height, width, h_to_w, filetype\\nBest Accuracy: {}, c={}\\n'.format(\n",
    "    LR_accuracy_c(train_data6, train_labels6, dev_data6, dev_labels6)[0],\n",
    "    LR_accuracy_c(train_data6, train_labels6, dev_data6, dev_labels6)[1]))\n",
    "\n",
    "print('Features: size, h_to_w, filetype\\nBest Accuracy: {}, c={}\\n'.format(\n",
    "    LR_accuracy_c(train_data7, train_labels7, dev_data7, dev_labels7)[0],\n",
    "    LR_accuracy_c(train_data7, train_labels7, dev_data7, dev_labels7)[1]))"
   ]
  },
  {
   "cell_type": "markdown",
   "metadata": {},
   "source": [
    "**Step 8: Multilayer NN**"
   ]
  },
  {
   "cell_type": "markdown",
   "metadata": {},
   "source": [
    "**Conclusions**"
   ]
  },
  {
   "cell_type": "code",
   "execution_count": null,
   "metadata": {},
   "outputs": [],
   "source": []
  }
 ],
 "metadata": {
  "kernelspec": {
   "display_name": "Python 3",
   "language": "python",
   "name": "python3"
  },
  "language_info": {
   "codemirror_mode": {
    "name": "ipython",
    "version": 3
   },
   "file_extension": ".py",
   "mimetype": "text/x-python",
   "name": "python",
   "nbconvert_exporter": "python",
   "pygments_lexer": "ipython3",
   "version": "3.7.4"
  }
 },
 "nbformat": 4,
 "nbformat_minor": 2
}
