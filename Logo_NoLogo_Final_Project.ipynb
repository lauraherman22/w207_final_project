{
 "cells": [
  {
   "cell_type": "markdown",
   "metadata": {},
   "source": [
    "**Step 1: Import packages**"
   ]
  },
  {
   "cell_type": "code",
   "execution_count": 2,
   "metadata": {},
   "outputs": [],
   "source": [
    "import pandas as pd\n",
    "import numpy as np\n",
    "import matplotlib.pyplot as plt\n",
    "import os\n",
    "\n",
    "from sklearn.model_selection import train_test_split\n",
    "from sklearn.preprocessing import StandardScaler"
   ]
  },
  {
   "cell_type": "markdown",
   "metadata": {},
   "source": [
    "**Step 2: Define working directories**"
   ]
  },
  {
   "cell_type": "code",
   "execution_count": 3,
   "metadata": {},
   "outputs": [],
   "source": [
    "os.chdir('C:/Users/user/Documents/Berkeley_MIDS/W207_Machine_Learning/w207_final_project')"
   ]
  },
  {
   "cell_type": "markdown",
   "metadata": {},
   "source": [
    "**Step 3: Define classes**"
   ]
  },
  {
   "cell_type": "markdown",
   "metadata": {},
   "source": [
    "**Step 4: Define functions**"
   ]
  },
  {
   "cell_type": "markdown",
   "metadata": {},
   "source": [
    "**Step 5: Read data**"
   ]
  },
  {
   "cell_type": "code",
   "execution_count": 6,
   "metadata": {},
   "outputs": [
    {
     "name": "stdout",
     "output_type": "stream",
     "text": [
      "['arr_0', 'arr_1']\n"
     ]
    }
   ],
   "source": [
    "# Load npz files to combine and print content files\n",
    "data_1 = np.load('et_w207_project_npz_files_5000_tmp_tmp5ocrhjnn.npz')\n",
    "data_1.close\n",
    "\n",
    "data_2 = np.load('et_w207_project_npz_files_5000_tmp_tmp092sag67.npz')\n",
    "data_2.close\n",
    "\n",
    "data_3 = np.load('et_w207_project_npz_files_5000_tmp_tmpf31_pn8p.npz')\n",
    "data_3.close\n",
    "\n",
    "data_4 = np.load('et_w207_project_npz_files_5000_tmp_tmpq5b2g4n2.npz')\n",
    "data_4.close\n",
    "\n",
    "print(data_1.files)"
   ]
  },
  {
   "cell_type": "code",
   "execution_count": 7,
   "metadata": {},
   "outputs": [
    {
     "data": {
      "text/plain": [
       "array(['ozbpir-9ey6js-ggdqwo', '378ykanq', 'p366md-big834-7o23k6',\n",
       "       '3zruwvl2', 'q18iae-3vnh74-79npmy'], dtype='<U20')"
      ]
     },
     "execution_count": 7,
     "metadata": {},
     "output_type": "execute_result"
    }
   ],
   "source": [
    "# Show file arr_0 example\n",
    "data_1['arr_0'][:5]"
   ]
  },
  {
   "cell_type": "code",
   "execution_count": 8,
   "metadata": {},
   "outputs": [
    {
     "data": {
      "text/plain": [
       "array([[-103.939   , -116.779   , -123.68    , ..., -103.939   ,\n",
       "        -116.779   , -123.68    ],\n",
       "       [ -46.939003,  -74.779   , -118.68    , ...,  -57.939003,\n",
       "         -84.779   , -118.68    ],\n",
       "       [ 151.061   ,  138.22101 ,  131.32    , ...,  151.061   ,\n",
       "         138.22101 ,  131.32    ],\n",
       "       [  -3.939003,  -66.779   ,  -96.68    , ...,   -3.939003,\n",
       "         -66.779   ,  -96.68    ],\n",
       "       [-103.939   , -116.779   , -123.68    , ..., -103.939   ,\n",
       "        -116.779   , -123.68    ]], dtype=float32)"
      ]
     },
     "execution_count": 8,
     "metadata": {},
     "output_type": "execute_result"
    }
   ],
   "source": [
    "# Show file arr_1 example\n",
    "data_1['arr_1'][:5]"
   ]
  },
  {
   "cell_type": "code",
   "execution_count": 9,
   "metadata": {},
   "outputs": [
    {
     "name": "stdout",
     "output_type": "stream",
     "text": [
      "(878,)\n",
      "(893,)\n",
      "(638,)\n",
      "(1353,)\n"
     ]
    }
   ],
   "source": [
    "# Get number of observations in each file\n",
    "print(data_1['arr_0'].shape)\n",
    "print(data_2['arr_0'].shape)\n",
    "print(data_3['arr_0'].shape)\n",
    "print(data_4['arr_0'].shape)"
   ]
  },
  {
   "cell_type": "code",
   "execution_count": 10,
   "metadata": {},
   "outputs": [
    {
     "name": "stdout",
     "output_type": "stream",
     "text": [
      "(3762, 150528)\n"
     ]
    }
   ],
   "source": [
    "# Concatenate data from all files\n",
    "data_key = np.concatenate((data_1['arr_0'], data_2['arr_0'], data_3['arr_0'], data_4['arr_0']))\n",
    "\n",
    "data_pixel = np.concatenate((data_1['arr_1'], data_2['arr_1'], data_3['arr_1'], data_4['arr_1']))\n",
    "print(data_pixel.shape)"
   ]
  },
  {
   "cell_type": "code",
   "execution_count": 15,
   "metadata": {},
   "outputs": [
    {
     "data": {
      "text/html": [
       "<div>\n",
       "<style scoped>\n",
       "    .dataframe tbody tr th:only-of-type {\n",
       "        vertical-align: middle;\n",
       "    }\n",
       "\n",
       "    .dataframe tbody tr th {\n",
       "        vertical-align: top;\n",
       "    }\n",
       "\n",
       "    .dataframe thead th {\n",
       "        text-align: right;\n",
       "    }\n",
       "</style>\n",
       "<table border=\"1\" class=\"dataframe\">\n",
       "  <thead>\n",
       "    <tr style=\"text-align: right;\">\n",
       "      <th></th>\n",
       "      <th>pixel_array</th>\n",
       "    </tr>\n",
       "    <tr>\n",
       "      <th>attachment_key</th>\n",
       "      <th></th>\n",
       "    </tr>\n",
       "  </thead>\n",
       "  <tbody>\n",
       "    <tr>\n",
       "      <td>ozbpir-9ey6js-ggdqwo</td>\n",
       "      <td>[-103.939, -116.779, -123.68, -103.939, -116.7...</td>\n",
       "    </tr>\n",
       "    <tr>\n",
       "      <td>378ykanq</td>\n",
       "      <td>[-46.939003, -74.779, -118.68, -24.939003, -57...</td>\n",
       "    </tr>\n",
       "    <tr>\n",
       "      <td>p366md-big834-7o23k6</td>\n",
       "      <td>[151.061, 138.22101, 131.32, 151.061, 138.2210...</td>\n",
       "    </tr>\n",
       "    <tr>\n",
       "      <td>3zruwvl2</td>\n",
       "      <td>[-3.939003, -66.779, -96.68, -3.939003, -66.77...</td>\n",
       "    </tr>\n",
       "    <tr>\n",
       "      <td>q18iae-3vnh74-79npmy</td>\n",
       "      <td>[-103.939, -116.779, -123.68, -103.939, -116.7...</td>\n",
       "    </tr>\n",
       "    <tr>\n",
       "      <td>...</td>\n",
       "      <td>...</td>\n",
       "    </tr>\n",
       "    <tr>\n",
       "      <td>pktyig-481wyg-6gyulf</td>\n",
       "      <td>[-91.939, -104.779, -97.68, -92.939, -105.779,...</td>\n",
       "    </tr>\n",
       "    <tr>\n",
       "      <td>zu7y3rha</td>\n",
       "      <td>[-1.939003, -14.778999, -21.68, -1.939003, -14...</td>\n",
       "    </tr>\n",
       "    <tr>\n",
       "      <td>pxcwxf-8tnpyg-8vhb9r</td>\n",
       "      <td>[77.061, 46.221, 32.32, 79.061, 49.221, 33.32,...</td>\n",
       "    </tr>\n",
       "    <tr>\n",
       "      <td>p4hakf-fsskmw-1224up</td>\n",
       "      <td>[-102.939, -115.779, -122.68, -98.939, -111.77...</td>\n",
       "    </tr>\n",
       "    <tr>\n",
       "      <td>ptuhsk-22124o-f0sxoc</td>\n",
       "      <td>[112.061, 100.221, 89.32, 114.061, 102.221, 93...</td>\n",
       "    </tr>\n",
       "  </tbody>\n",
       "</table>\n",
       "<p>3759 rows × 1 columns</p>\n",
       "</div>"
      ],
      "text/plain": [
       "                                                            pixel_array\n",
       "attachment_key                                                         \n",
       "ozbpir-9ey6js-ggdqwo  [-103.939, -116.779, -123.68, -103.939, -116.7...\n",
       "378ykanq              [-46.939003, -74.779, -118.68, -24.939003, -57...\n",
       "p366md-big834-7o23k6  [151.061, 138.22101, 131.32, 151.061, 138.2210...\n",
       "3zruwvl2              [-3.939003, -66.779, -96.68, -3.939003, -66.77...\n",
       "q18iae-3vnh74-79npmy  [-103.939, -116.779, -123.68, -103.939, -116.7...\n",
       "...                                                                 ...\n",
       "pktyig-481wyg-6gyulf  [-91.939, -104.779, -97.68, -92.939, -105.779,...\n",
       "zu7y3rha              [-1.939003, -14.778999, -21.68, -1.939003, -14...\n",
       "pxcwxf-8tnpyg-8vhb9r  [77.061, 46.221, 32.32, 79.061, 49.221, 33.32,...\n",
       "p4hakf-fsskmw-1224up  [-102.939, -115.779, -122.68, -98.939, -111.77...\n",
       "ptuhsk-22124o-f0sxoc  [112.061, 100.221, 89.32, 114.061, 102.221, 93...\n",
       "\n",
       "[3759 rows x 1 columns]"
      ]
     },
     "execution_count": 15,
     "metadata": {},
     "output_type": "execute_result"
    }
   ],
   "source": [
    "# Store pixel vectors as DF with attachment key\n",
    "\n",
    "# Create key value pairs with attachment key and pixel array\n",
    "data_dict = {}\n",
    "for i in range(data_key.shape[0]):\n",
    "    data_dict[data_key[i]] = [data_pixel[i]]\n",
    "\n",
    "df_pixel = pd.DataFrame(data=data_dict)\n",
    "df_pixel_t = df_pixel.transpose()\n",
    "df_pixel_t.index.names = ['attachment_key']\n",
    "df_pixel_t.columns = ['pixel_array']\n",
    "df_pixel_t"
   ]
  },
  {
   "cell_type": "code",
   "execution_count": 16,
   "metadata": {},
   "outputs": [
    {
     "data": {
      "text/html": [
       "<div>\n",
       "<style scoped>\n",
       "    .dataframe tbody tr th:only-of-type {\n",
       "        vertical-align: middle;\n",
       "    }\n",
       "\n",
       "    .dataframe tbody tr th {\n",
       "        vertical-align: top;\n",
       "    }\n",
       "\n",
       "    .dataframe thead th {\n",
       "        text-align: right;\n",
       "    }\n",
       "</style>\n",
       "<table border=\"1\" class=\"dataframe\">\n",
       "  <thead>\n",
       "    <tr style=\"text-align: right;\">\n",
       "      <th></th>\n",
       "      <th>attachment_key</th>\n",
       "      <th>size_mb</th>\n",
       "      <th>height</th>\n",
       "      <th>width</th>\n",
       "      <th>h_to_w</th>\n",
       "      <th>filename</th>\n",
       "      <th>logo</th>\n",
       "    </tr>\n",
       "  </thead>\n",
       "  <tbody>\n",
       "    <tr>\n",
       "      <td>0</td>\n",
       "      <td>q36z0t-gf0ta0-91uq4d</td>\n",
       "      <td>5.256976</td>\n",
       "      <td>3351.0</td>\n",
       "      <td>2530.0</td>\n",
       "      <td>1.324506</td>\n",
       "      <td>WVC021819TH-5756.jpg</td>\n",
       "      <td>0</td>\n",
       "    </tr>\n",
       "    <tr>\n",
       "      <td>1</td>\n",
       "      <td>p0td2i-8fv5ew-2c7suq</td>\n",
       "      <td>0.688739</td>\n",
       "      <td>3420.0</td>\n",
       "      <td>1365.0</td>\n",
       "      <td>2.505495</td>\n",
       "      <td>Lastricato_CastelloDelTrebbio.jpg</td>\n",
       "      <td>0</td>\n",
       "    </tr>\n",
       "    <tr>\n",
       "      <td>2</td>\n",
       "      <td>q6p0vh-6wed5k-3c8m2s</td>\n",
       "      <td>11.636952</td>\n",
       "      <td>6240.0</td>\n",
       "      <td>4160.0</td>\n",
       "      <td>1.500000</td>\n",
       "      <td>WVC2Port2020-9684.jpg</td>\n",
       "      <td>0</td>\n",
       "    </tr>\n",
       "    <tr>\n",
       "      <td>3</td>\n",
       "      <td>pg1c3o-fqyk3c-72hr82</td>\n",
       "      <td>4.161787</td>\n",
       "      <td>3257.0</td>\n",
       "      <td>4885.0</td>\n",
       "      <td>0.666735</td>\n",
       "      <td>EB4A1971.jpg</td>\n",
       "      <td>0</td>\n",
       "    </tr>\n",
       "    <tr>\n",
       "      <td>4</td>\n",
       "      <td>q52mox-a2mcsg-4ir06w</td>\n",
       "      <td>4.081567</td>\n",
       "      <td>3738.0</td>\n",
       "      <td>5600.0</td>\n",
       "      <td>0.667500</td>\n",
       "      <td>934879096.jpg</td>\n",
       "      <td>0</td>\n",
       "    </tr>\n",
       "  </tbody>\n",
       "</table>\n",
       "</div>"
      ],
      "text/plain": [
       "         attachment_key    size_mb  height   width    h_to_w  \\\n",
       "0  q36z0t-gf0ta0-91uq4d   5.256976  3351.0  2530.0  1.324506   \n",
       "1  p0td2i-8fv5ew-2c7suq   0.688739  3420.0  1365.0  2.505495   \n",
       "2  q6p0vh-6wed5k-3c8m2s  11.636952  6240.0  4160.0  1.500000   \n",
       "3  pg1c3o-fqyk3c-72hr82   4.161787  3257.0  4885.0  0.666735   \n",
       "4  q52mox-a2mcsg-4ir06w   4.081567  3738.0  5600.0  0.667500   \n",
       "\n",
       "                            filename  logo  \n",
       "0               WVC021819TH-5756.jpg     0  \n",
       "1  Lastricato_CastelloDelTrebbio.jpg     0  \n",
       "2              WVC2Port2020-9684.jpg     0  \n",
       "3                       EB4A1971.jpg     0  \n",
       "4                      934879096.jpg     0  "
      ]
     },
     "execution_count": 16,
     "metadata": {},
     "output_type": "execute_result"
    }
   ],
   "source": [
    "# Load excel data\n",
    "df = pd.read_csv('school_project_data_set-query.csv')\n",
    "df.head()"
   ]
  },
  {
   "cell_type": "code",
   "execution_count": 17,
   "metadata": {},
   "outputs": [
    {
     "data": {
      "text/html": [
       "<div>\n",
       "<style scoped>\n",
       "    .dataframe tbody tr th:only-of-type {\n",
       "        vertical-align: middle;\n",
       "    }\n",
       "\n",
       "    .dataframe tbody tr th {\n",
       "        vertical-align: top;\n",
       "    }\n",
       "\n",
       "    .dataframe thead th {\n",
       "        text-align: right;\n",
       "    }\n",
       "</style>\n",
       "<table border=\"1\" class=\"dataframe\">\n",
       "  <thead>\n",
       "    <tr style=\"text-align: right;\">\n",
       "      <th></th>\n",
       "      <th>attachment_key</th>\n",
       "      <th>size_mb</th>\n",
       "      <th>height</th>\n",
       "      <th>width</th>\n",
       "      <th>h_to_w</th>\n",
       "      <th>filename</th>\n",
       "      <th>logo</th>\n",
       "      <th>pixel_array</th>\n",
       "    </tr>\n",
       "  </thead>\n",
       "  <tbody>\n",
       "    <tr>\n",
       "      <td>0</td>\n",
       "      <td>q4zhny-2mxzu8-fz6s49</td>\n",
       "      <td>2.423621</td>\n",
       "      <td>4500.0</td>\n",
       "      <td>4500.0</td>\n",
       "      <td>1.000000</td>\n",
       "      <td>Ska-HazyIPA-can-White.jpg</td>\n",
       "      <td>0</td>\n",
       "      <td>[151.061, 138.22101, 131.32, 151.061, 138.2210...</td>\n",
       "    </tr>\n",
       "    <tr>\n",
       "      <td>1</td>\n",
       "      <td>pgeoak-9l272o-5dah6f</td>\n",
       "      <td>0.014292</td>\n",
       "      <td>137.0</td>\n",
       "      <td>327.0</td>\n",
       "      <td>0.418960</td>\n",
       "      <td>Screen Shot 2018-10-10 at 7.07.12 PM.png</td>\n",
       "      <td>0</td>\n",
       "      <td>[140.061, 133.22101, 125.32, 140.061, 133.2210...</td>\n",
       "    </tr>\n",
       "    <tr>\n",
       "      <td>2</td>\n",
       "      <td>pgeoak-9l272o-5dah6f</td>\n",
       "      <td>0.014292</td>\n",
       "      <td>137.0</td>\n",
       "      <td>327.0</td>\n",
       "      <td>0.418960</td>\n",
       "      <td>Screen Shot 2018-10-10 at 7.07.12 PM.png</td>\n",
       "      <td>1</td>\n",
       "      <td>[140.061, 133.22101, 125.32, 140.061, 133.2210...</td>\n",
       "    </tr>\n",
       "    <tr>\n",
       "      <td>3</td>\n",
       "      <td>vd92yz5a</td>\n",
       "      <td>0.109244</td>\n",
       "      <td>716.0</td>\n",
       "      <td>1428.0</td>\n",
       "      <td>0.501401</td>\n",
       "      <td>a pha_logo.jpg</td>\n",
       "      <td>1</td>\n",
       "      <td>[151.061, 138.22101, 131.32, 151.061, 138.2210...</td>\n",
       "    </tr>\n",
       "    <tr>\n",
       "      <td>4</td>\n",
       "      <td>pu19n0-ajc888-actmf5</td>\n",
       "      <td>0.027520</td>\n",
       "      <td>1251.0</td>\n",
       "      <td>1250.0</td>\n",
       "      <td>1.000800</td>\n",
       "      <td>AXON - Icon Family - July 2019-03.png</td>\n",
       "      <td>1</td>\n",
       "      <td>[-103.939, -116.779, -123.68, -103.939, -116.7...</td>\n",
       "    </tr>\n",
       "    <tr>\n",
       "      <td>...</td>\n",
       "      <td>...</td>\n",
       "      <td>...</td>\n",
       "      <td>...</td>\n",
       "      <td>...</td>\n",
       "      <td>...</td>\n",
       "      <td>...</td>\n",
       "      <td>...</td>\n",
       "      <td>...</td>\n",
       "    </tr>\n",
       "    <tr>\n",
       "      <td>4422</td>\n",
       "      <td>px1yxs-mfwvk-az49zm</td>\n",
       "      <td>0.045961</td>\n",
       "      <td>333.0</td>\n",
       "      <td>500.0</td>\n",
       "      <td>0.666000</td>\n",
       "      <td>zoom_se_rts400_574634_a_15a.jpg</td>\n",
       "      <td>0</td>\n",
       "      <td>[94.061, 94.221, 101.32, 94.061, 94.221, 101.3...</td>\n",
       "    </tr>\n",
       "    <tr>\n",
       "      <td>4423</td>\n",
       "      <td>q6mxyb-ferzig-bai2df</td>\n",
       "      <td>0.220249</td>\n",
       "      <td>352.0</td>\n",
       "      <td>500.0</td>\n",
       "      <td>0.704000</td>\n",
       "      <td>zoom_se_etsec150_576329_sod_01b_US.jpg</td>\n",
       "      <td>0</td>\n",
       "      <td>[151.061, 138.22101, 131.32, 151.061, 138.2210...</td>\n",
       "    </tr>\n",
       "    <tr>\n",
       "      <td>4424</td>\n",
       "      <td>olffz6-6619ps-53fw6l</td>\n",
       "      <td>0.006069</td>\n",
       "      <td>162.0</td>\n",
       "      <td>500.0</td>\n",
       "      <td>0.324000</td>\n",
       "      <td>web-logo-run-gum-energy-gum.png</td>\n",
       "      <td>1</td>\n",
       "      <td>[-103.939, -116.779, -123.68, -103.939, -116.7...</td>\n",
       "    </tr>\n",
       "    <tr>\n",
       "      <td>4425</td>\n",
       "      <td>px1yxs-mfwvk-174b2s</td>\n",
       "      <td>0.071568</td>\n",
       "      <td>540.0</td>\n",
       "      <td>500.0</td>\n",
       "      <td>1.080000</td>\n",
       "      <td>zoom_fr_sys_498889_z_01a.jpg</td>\n",
       "      <td>0</td>\n",
       "      <td>[151.061, 138.22101, 131.32, 151.061, 138.2210...</td>\n",
       "    </tr>\n",
       "    <tr>\n",
       "      <td>4426</td>\n",
       "      <td>q6qjrl-fs5ej4-c6p902</td>\n",
       "      <td>0.073736</td>\n",
       "      <td>322.0</td>\n",
       "      <td>500.0</td>\n",
       "      <td>0.644000</td>\n",
       "      <td>zoom_se_dts400_576064_sod_01a.jpg</td>\n",
       "      <td>0</td>\n",
       "      <td>[151.061, 138.22101, 131.32, 151.061, 138.2210...</td>\n",
       "    </tr>\n",
       "  </tbody>\n",
       "</table>\n",
       "<p>4427 rows × 8 columns</p>\n",
       "</div>"
      ],
      "text/plain": [
       "            attachment_key   size_mb  height   width    h_to_w  \\\n",
       "0     q4zhny-2mxzu8-fz6s49  2.423621  4500.0  4500.0  1.000000   \n",
       "1     pgeoak-9l272o-5dah6f  0.014292   137.0   327.0  0.418960   \n",
       "2     pgeoak-9l272o-5dah6f  0.014292   137.0   327.0  0.418960   \n",
       "3                 vd92yz5a  0.109244   716.0  1428.0  0.501401   \n",
       "4     pu19n0-ajc888-actmf5  0.027520  1251.0  1250.0  1.000800   \n",
       "...                    ...       ...     ...     ...       ...   \n",
       "4422   px1yxs-mfwvk-az49zm  0.045961   333.0   500.0  0.666000   \n",
       "4423  q6mxyb-ferzig-bai2df  0.220249   352.0   500.0  0.704000   \n",
       "4424  olffz6-6619ps-53fw6l  0.006069   162.0   500.0  0.324000   \n",
       "4425   px1yxs-mfwvk-174b2s  0.071568   540.0   500.0  1.080000   \n",
       "4426  q6qjrl-fs5ej4-c6p902  0.073736   322.0   500.0  0.644000   \n",
       "\n",
       "                                      filename  logo  \\\n",
       "0                    Ska-HazyIPA-can-White.jpg     0   \n",
       "1     Screen Shot 2018-10-10 at 7.07.12 PM.png     0   \n",
       "2     Screen Shot 2018-10-10 at 7.07.12 PM.png     1   \n",
       "3                               a pha_logo.jpg     1   \n",
       "4        AXON - Icon Family - July 2019-03.png     1   \n",
       "...                                        ...   ...   \n",
       "4422           zoom_se_rts400_574634_a_15a.jpg     0   \n",
       "4423    zoom_se_etsec150_576329_sod_01b_US.jpg     0   \n",
       "4424           web-logo-run-gum-energy-gum.png     1   \n",
       "4425              zoom_fr_sys_498889_z_01a.jpg     0   \n",
       "4426         zoom_se_dts400_576064_sod_01a.jpg     0   \n",
       "\n",
       "                                            pixel_array  \n",
       "0     [151.061, 138.22101, 131.32, 151.061, 138.2210...  \n",
       "1     [140.061, 133.22101, 125.32, 140.061, 133.2210...  \n",
       "2     [140.061, 133.22101, 125.32, 140.061, 133.2210...  \n",
       "3     [151.061, 138.22101, 131.32, 151.061, 138.2210...  \n",
       "4     [-103.939, -116.779, -123.68, -103.939, -116.7...  \n",
       "...                                                 ...  \n",
       "4422  [94.061, 94.221, 101.32, 94.061, 94.221, 101.3...  \n",
       "4423  [151.061, 138.22101, 131.32, 151.061, 138.2210...  \n",
       "4424  [-103.939, -116.779, -123.68, -103.939, -116.7...  \n",
       "4425  [151.061, 138.22101, 131.32, 151.061, 138.2210...  \n",
       "4426  [151.061, 138.22101, 131.32, 151.061, 138.2210...  \n",
       "\n",
       "[4427 rows x 8 columns]"
      ]
     },
     "execution_count": 17,
     "metadata": {},
     "output_type": "execute_result"
    }
   ],
   "source": [
    "# Merge dataframes by attachment key\n",
    "merge_meta_pixel = df.merge(df_pixel_t, on='attachment_key')\n",
    "merge_meta_pixel"
   ]
  },
  {
   "cell_type": "code",
   "execution_count": null,
   "metadata": {},
   "outputs": [],
   "source": [
    "# STILL WORKING\n",
    "# Split into train, development, test data\n",
    "X_train, X_test, y_train, y_test = train_test_split(X, y, test_size=0.4,\n",
    "                                                    random_state=1, stratify=y)"
   ]
  },
  {
   "cell_type": "markdown",
   "metadata": {},
   "source": [
    "**Step 6: Data preprocessing**"
   ]
  },
  {
   "cell_type": "code",
   "execution_count": null,
   "metadata": {},
   "outputs": [],
   "source": [
    "# Standardize pixel values between 0 and 1 by dividing by 255"
   ]
  },
  {
   "cell_type": "markdown",
   "metadata": {},
   "source": [
    "**Step 7: Single Layer NN**"
   ]
  },
  {
   "cell_type": "markdown",
   "metadata": {},
   "source": [
    "7.1: Build the NN Model"
   ]
  },
  {
   "cell_type": "markdown",
   "metadata": {},
   "source": [
    "7.2: Fit the NN Model"
   ]
  },
  {
   "cell_type": "markdown",
   "metadata": {},
   "source": [
    "7.3: Evaluate performance on the test set"
   ]
  },
  {
   "cell_type": "markdown",
   "metadata": {},
   "source": [
    "7.4: Make predictions"
   ]
  },
  {
   "cell_type": "markdown",
   "metadata": {},
   "source": [
    "**Step 8: Multilayer NN**"
   ]
  },
  {
   "cell_type": "markdown",
   "metadata": {},
   "source": [
    "8.1: Build the NN Model"
   ]
  },
  {
   "cell_type": "markdown",
   "metadata": {},
   "source": [
    "8.2: Fit the NN Model"
   ]
  },
  {
   "cell_type": "markdown",
   "metadata": {},
   "source": [
    "8.3: Evaluate performance on the test set"
   ]
  },
  {
   "cell_type": "markdown",
   "metadata": {},
   "source": [
    "8.4: Make predictions"
   ]
  },
  {
   "cell_type": "markdown",
   "metadata": {},
   "source": [
    "**Conclusions**"
   ]
  },
  {
   "cell_type": "code",
   "execution_count": null,
   "metadata": {},
   "outputs": [],
   "source": []
  }
 ],
 "metadata": {
  "kernelspec": {
   "display_name": "Python 3",
   "language": "python",
   "name": "python3"
  },
  "language_info": {
   "codemirror_mode": {
    "name": "ipython",
    "version": 3
   },
   "file_extension": ".py",
   "mimetype": "text/x-python",
   "name": "python",
   "nbconvert_exporter": "python",
   "pygments_lexer": "ipython3",
   "version": "3.7.4"
  }
 },
 "nbformat": 4,
 "nbformat_minor": 2
}
