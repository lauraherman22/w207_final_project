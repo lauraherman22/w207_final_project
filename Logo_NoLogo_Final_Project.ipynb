{
 "cells": [
  {
   "cell_type": "markdown",
   "metadata": {},
   "source": [
    "**Step 1: Import packages**"
   ]
  },
  {
   "cell_type": "code",
   "execution_count": 34,
   "metadata": {},
   "outputs": [],
   "source": [
    "# Import libraries\n",
    "import pandas as pd\n",
    "import numpy as np\n",
    "import matplotlib.pyplot as plt\n",
    "import os\n",
    "import warnings\n",
    "import tensorflow as tf\n",
    "import kerastuner as kt\n",
    "import IPython\n",
    "\n",
    "# sklearn libraries for preprocessing\n",
    "from sklearn import preprocessing\n",
    "from sklearn.preprocessing import StandardScaler\n",
    "from sklearn.decomposition import PCA\n",
    "from sklearn.model_selection import train_test_split\n",
    "\n",
    "# sklearn libraries for models\n",
    "from sklearn.linear_model import LogisticRegression\n",
    "from tensorflow import keras\n",
    "from kerastuner import HyperModel\n",
    "from kerastuner import Hyperband\n",
    "\n",
    "# sklearn libraries for evaluation\n",
    "from sklearn import metrics"
   ]
  },
  {
   "cell_type": "markdown",
   "metadata": {},
   "source": [
    "**Step 2: Define working directories**"
   ]
  },
  {
   "cell_type": "code",
   "execution_count": 2,
   "metadata": {},
   "outputs": [],
   "source": [
    "os.chdir('C:/Users/user/Documents/Berkeley_MIDS/W207_Machine_Learning/w207_final_project')\n",
    "#os.chdir('/Users/alyssaaugsburger/Documents/Berkeley_MIDS/W207/Final_Project')"
   ]
  },
  {
   "cell_type": "markdown",
   "metadata": {},
   "source": [
    "**Step 3: Define classes**"
   ]
  },
  {
   "cell_type": "code",
   "execution_count": null,
   "metadata": {},
   "outputs": [],
   "source": [
    "# Clear the training outputs at the end of every step\n",
    "class ClearTrainingOutput(tf.keras.callbacks.Callback):\n",
    "    def on_train_end(*args, **kwargs):\n",
    "        '''Clear the training outputs at the end of every step for the Keras Tuner'''\n",
    "        IPython.display.clear_output(wait = True)"
   ]
  },
  {
   "cell_type": "markdown",
   "metadata": {},
   "source": [
    "**Step 4: Define functions**"
   ]
  },
  {
   "cell_type": "code",
   "execution_count": 3,
   "metadata": {},
   "outputs": [],
   "source": [
    "def reduce(X, n):\n",
    "    '''PCA dimensionality reduction for X array and n principal components'''\n",
    "    pca = PCA(n_components = n) \n",
    "    X_reduced = pca.fit_transform(X)\n",
    "    return X_reduced"
   ]
  },
  {
   "cell_type": "code",
   "execution_count": 4,
   "metadata": {},
   "outputs": [],
   "source": [
    "def data_split(X, y, test_p, mini_s):\n",
    "    '''Split train and test data for X,y data arrays with test_p percentage of observations in the test data and \n",
    "    mini_s number of observations in the mini_train set.'''\n",
    "    # Split into train and test data\n",
    "    train_data, test_data, train_labels, test_labels = train_test_split(X, y, test_size=test_p, random_state=1, stratify=y)\n",
    "\n",
    "    # Split test data into development data and training into mini train set for computation time\n",
    "    dev_data, dev_labels = test_data[:int(test_data.shape[0]*0.5)], test_labels[:int(test_data.shape[0]*0.5)]\n",
    "    mini_train_data, mini_train_labels = train_data[:mini_s], train_labels[:mini_s]\n",
    "    print('Train data shape:', train_data.shape)\n",
    "    print('Dev data shape:', dev_data.shape)\n",
    "    print('Mini_train data shape:', mini_train_data.shape)\n",
    "    \n",
    "    return train_data, train_labels, test_data, test_labels, dev_data, dev_labels, mini_train_data, mini_train_labels"
   ]
  },
  {
   "cell_type": "code",
   "execution_count": 5,
   "metadata": {},
   "outputs": [],
   "source": [
    "def log_reg(train_X, train_Y, dev_X, dev_Y):\n",
    "    '''Logistic regression looping through values of C. Input train and test data and labels and funtion \n",
    "    returns list of accuracies and list of C values.'''\n",
    "    c_values = [0.001, 0.01, 0.1, 0.2, 0.3, 0.4, 0.5, 1.0, 2.0, 5.0]\n",
    "    LR = []\n",
    "    for c in c_values:\n",
    "        clf = LogisticRegression(C=c, solver='liblinear', multi_class='auto')\n",
    "        clf.fit(train_X, train_Y)\n",
    "        clf_pred = clf.predict(dev_X)\n",
    "        LR.append(round(metrics.f1_score(dev_Y, clf_pred, average='weighted'),3))\n",
    "\n",
    "    return LR, c_values"
   ]
  },
  {
   "cell_type": "code",
   "execution_count": 6,
   "metadata": {},
   "outputs": [],
   "source": [
    "def LR_accuracy_c(train_X, train_Y, dev_X, dev_Y):\n",
    "    '''Calls logistic regression function and returns highest accuracy for specific value of C.'''\n",
    "    accuracy_list = log_reg(train_X, train_Y, dev_X, dev_Y)[0]\n",
    "    accuracy = [y for x,y in sorted(enumerate(accuracy_list), key = lambda x: x[1], reverse=True)][:1]\n",
    "    accuracy_index = [x for x,y in sorted(enumerate(accuracy_list), key = lambda x: x[1], reverse=True)][:1]\n",
    "    C = log_reg(train_X, train_Y, dev_X, dev_Y)[1][accuracy_index[0]]\n",
    "    \n",
    "    return accuracy[0], C"
   ]
  },
  {
   "cell_type": "code",
   "execution_count": 7,
   "metadata": {},
   "outputs": [],
   "source": [
    "def PCA_visualization(pca_vals, title, colors):\n",
    "    x = [item[0] for item in pca_vals] \n",
    "    y = [item[1] for item in pca_vals] \n",
    "\n",
    "    fig = plt.figure(figsize = (8,8))\n",
    "    ax = fig.add_subplot(1,1,1) \n",
    "    ax.set_xlabel('Principal Component 1', fontsize = 15)\n",
    "    ax.set_ylabel('Principal Component 2', fontsize = 15)\n",
    "    ax.set_title(title, fontsize = 20)\n",
    "    ax.scatter(x, y, c=colors, s = 5)\n",
    "    ax.grid()"
   ]
  },
  {
   "cell_type": "code",
   "execution_count": 8,
   "metadata": {},
   "outputs": [],
   "source": [
    "def PCA_k_optimize(train_X, train_Y, dev_X, dev_Y, k_list):\n",
    "    accuracies = []\n",
    "    c_vals = []\n",
    "    # Subset pixel data\n",
    "    train_pixel = train_X[:, :150529]\n",
    "    dev_pixel = dev_X[:, :150529]\n",
    "    train_nopixel = train_X[:, 150529:]\n",
    "    dev_nopixel = dev_X[:, 150529:]\n",
    "    for k in k_list:\n",
    "        #Scale and reduce only pixel data\n",
    "        ss = StandardScaler()\n",
    "        train_pixel_s = ss.fit_transform(train_pixel)\n",
    "        dev_pixel_s = ss.transform(dev_pixel)\n",
    "        pca = PCA(n_components = k) \n",
    "        train_pixel_reduced = pca.fit_transform(train_pixel_s)\n",
    "        dev_pixel_reduced = pca.transform(dev_pixel_s)\n",
    "        #Concatenate reduced pixel data back with non pixel data\n",
    "        train_X_new = np.concatenate((train_nopixel, train_pixel_reduced), axis=1)\n",
    "        dev_X_new = np.concatenate((dev_nopixel, dev_pixel_reduced), axis=1)\n",
    "        #Obtain accuracy and optimized c value\n",
    "        results = LR_accuracy_c(train_X_new, train_Y, dev_X_new, dev_Y)\n",
    "        accuracies.append(results[0])\n",
    "        c_vals.append(results[1])\n",
    "    return accuracies, c_vals"
   ]
  },
  {
   "cell_type": "code",
   "execution_count": null,
   "metadata": {},
   "outputs": [],
   "source": [
    "def model_builder(hp):\n",
    "    '''Build a single layer dense neural network using Keras Tuner'''\n",
    "    model = keras.Sequential()\n",
    "  \n",
    "    # Tune the number of units in the first Dense layer\n",
    "    # Choose an optimal value between 32-512\n",
    "    hp_units = hp.Int('units', min_value = 32, max_value = 512, step = 32)\n",
    "\n",
    "    model.add(keras.layers.Dense(units = hp_units, activation = 'relu'))\n",
    "    \n",
    "    model.add(keras.layers.Dense(2, activation = 'softmax'))\n",
    "\n",
    "    # Tune the learning rate for the optimizer \n",
    "    # Choose an optimal value from 0.01, 0.001, or 0.0001\n",
    "    hp_learning_rate = hp.Choice('learning_rate', values = [1e-2, 1e-3, 1e-4]) \n",
    "  \n",
    "    model.compile(optimizer = keras.optimizers.Adam(learning_rate = hp_learning_rate),\n",
    "                loss = keras.losses.SparseCategoricalCrossentropy(from_logits = True), \n",
    "                metrics = ['accuracy'])\n",
    "  \n",
    "    return model"
   ]
  },
  {
   "cell_type": "code",
   "execution_count": 112,
   "metadata": {},
   "outputs": [],
   "source": [
    "def build_model(nodes, dropout_rate, lr):\n",
    "    '''Build layers of a neural net'''\n",
    "    \n",
    "    # Begins the linear arrangment of layers\n",
    "    model = tf.keras.models.Sequential([\n",
    "\n",
    "    # First layer \n",
    "    # This is a dense layer. Nodes are fully connected.\n",
    "    # Nodes is the number of nodes in the layer. This will be specified when calling the function.\n",
    "    tf.keras.layers.Dense(nodes, activation='relu'),\n",
    "\n",
    "    # Second layer\n",
    "    # Uses dropout regularization by dropping a certain percentage before next layer\n",
    "    # This makes it so that some of the nodes in a given layer don’t pass on their information to the next layer. \n",
    "    # This helps with computation time (less parameters) and with overfitting.\n",
    "    # Each node in the second  layer has a probability equal to the specified dropout rate of being dropped from the computation of the activations of the next layer. \n",
    "    tf.keras.layers.Dropout(dropout_rate),\n",
    "    \n",
    "    # Third layer\n",
    "    # This is the output layer. It returns a logits array of length 2 (because we have 2 classes - logo or not logo)\n",
    "    # Each node contains a probability that indicates the current image belongs to one of the 2 classes\n",
    "    # It uses the activation function Softmax which is the equivalent of the Sigmoid function for multiclass logits\n",
    "    tf.keras.layers.Dense(2, activation='softmax')])\n",
    "    \n",
    "    # Compile the model using the Adam optimizer\n",
    "    # The learning rate will be specified when the function is called\n",
    "    model.compile(keras.optimizers.Adam(learning_rate = lr),\n",
    "              loss='sparse_categorical_crossentropy',\n",
    "              metrics=['accuracy'])\n",
    "    \n",
    "    return model"
   ]
  },
  {
   "cell_type": "code",
   "execution_count": 113,
   "metadata": {},
   "outputs": [],
   "source": [
    "# Fit the neural net model\n",
    "# Specify the number of epochs\n",
    "def fit_model(model, data, labels, epoch_num):\n",
    "    history = model.fit(data, labels, epochs = epoch_num)\n",
    "    return history"
   ]
  },
  {
   "cell_type": "code",
   "execution_count": 114,
   "metadata": {},
   "outputs": [],
   "source": [
    "# Evaluate the neural net model\n",
    "def evaluate_model(model, data, labels):\n",
    "    test_loss, test_acc = model.evaluate(data, labels)\n",
    "    return test_acc"
   ]
  },
  {
   "cell_type": "markdown",
   "metadata": {},
   "source": [
    "**Step 5: Read data**"
   ]
  },
  {
   "cell_type": "markdown",
   "metadata": {},
   "source": [
    "5.1 Load and combine pixel data files into dataframe"
   ]
  },
  {
   "cell_type": "code",
   "execution_count": 9,
   "metadata": {},
   "outputs": [
    {
     "name": "stdout",
     "output_type": "stream",
     "text": [
      "['arr_0', 'arr_1']\n"
     ]
    }
   ],
   "source": [
    "# Load npz files to combine and print content files\n",
    "data_1 = np.load('et_w207_project_npz_files_5000_tmp_tmp5ocrhjnn.npz')\n",
    "data_1.close\n",
    "\n",
    "data_2 = np.load('et_w207_project_npz_files_5000_tmp_tmp092sag67.npz')\n",
    "data_2.close\n",
    "\n",
    "data_3 = np.load('et_w207_project_npz_files_5000_tmp_tmpf31_pn8p.npz')\n",
    "data_3.close\n",
    "\n",
    "data_4 = np.load('et_w207_project_npz_files_5000_tmp_tmpq5b2g4n2.npz')\n",
    "data_4.close\n",
    "\n",
    "print(data_1.files)"
   ]
  },
  {
   "cell_type": "code",
   "execution_count": 10,
   "metadata": {},
   "outputs": [
    {
     "data": {
      "text/plain": [
       "array(['ozbpir-9ey6js-ggdqwo', '378ykanq', 'p366md-big834-7o23k6',\n",
       "       '3zruwvl2', 'q18iae-3vnh74-79npmy'], dtype='<U20')"
      ]
     },
     "execution_count": 10,
     "metadata": {},
     "output_type": "execute_result"
    }
   ],
   "source": [
    "# Show file arr_0 example\n",
    "data_1['arr_0'][:5]"
   ]
  },
  {
   "cell_type": "code",
   "execution_count": 11,
   "metadata": {},
   "outputs": [
    {
     "data": {
      "text/plain": [
       "array([[-103.939   , -116.779   , -123.68    , ..., -103.939   ,\n",
       "        -116.779   , -123.68    ],\n",
       "       [ -46.939003,  -74.779   , -118.68    , ...,  -57.939003,\n",
       "         -84.779   , -118.68    ],\n",
       "       [ 151.061   ,  138.22101 ,  131.32    , ...,  151.061   ,\n",
       "         138.22101 ,  131.32    ],\n",
       "       [  -3.939003,  -66.779   ,  -96.68    , ...,   -3.939003,\n",
       "         -66.779   ,  -96.68    ],\n",
       "       [-103.939   , -116.779   , -123.68    , ..., -103.939   ,\n",
       "        -116.779   , -123.68    ]], dtype=float32)"
      ]
     },
     "execution_count": 11,
     "metadata": {},
     "output_type": "execute_result"
    }
   ],
   "source": [
    "# Show file arr_1 example\n",
    "data_1['arr_1'][:5]"
   ]
  },
  {
   "cell_type": "code",
   "execution_count": 12,
   "metadata": {},
   "outputs": [
    {
     "name": "stdout",
     "output_type": "stream",
     "text": [
      "(878,)\n",
      "(893,)\n",
      "(638,)\n",
      "(1353,)\n"
     ]
    }
   ],
   "source": [
    "# Get number of observations in each file\n",
    "print(data_1['arr_0'].shape)\n",
    "print(data_2['arr_0'].shape)\n",
    "print(data_3['arr_0'].shape)\n",
    "print(data_4['arr_0'].shape)"
   ]
  },
  {
   "cell_type": "code",
   "execution_count": 13,
   "metadata": {},
   "outputs": [
    {
     "name": "stdout",
     "output_type": "stream",
     "text": [
      "(3762, 150528)\n"
     ]
    }
   ],
   "source": [
    "# Concatenate data from all files\n",
    "data_key = np.concatenate((data_1['arr_0'], data_2['arr_0'], data_3['arr_0'], data_4['arr_0']))\n",
    "\n",
    "data_pixel = np.concatenate((data_1['arr_1'], data_2['arr_1'], data_3['arr_1'], data_4['arr_1']))\n",
    "print(data_pixel.shape)"
   ]
  },
  {
   "cell_type": "code",
   "execution_count": 14,
   "metadata": {},
   "outputs": [
    {
     "data": {
      "text/html": [
       "<div>\n",
       "<style scoped>\n",
       "    .dataframe tbody tr th:only-of-type {\n",
       "        vertical-align: middle;\n",
       "    }\n",
       "\n",
       "    .dataframe tbody tr th {\n",
       "        vertical-align: top;\n",
       "    }\n",
       "\n",
       "    .dataframe thead th {\n",
       "        text-align: right;\n",
       "    }\n",
       "</style>\n",
       "<table border=\"1\" class=\"dataframe\">\n",
       "  <thead>\n",
       "    <tr style=\"text-align: right;\">\n",
       "      <th></th>\n",
       "      <th>pixel_array</th>\n",
       "    </tr>\n",
       "    <tr>\n",
       "      <th>attachment_key</th>\n",
       "      <th></th>\n",
       "    </tr>\n",
       "  </thead>\n",
       "  <tbody>\n",
       "    <tr>\n",
       "      <th>ozbpir-9ey6js-ggdqwo</th>\n",
       "      <td>[-0.40760392, -0.45795685, -0.4850196, -0.4076...</td>\n",
       "    </tr>\n",
       "    <tr>\n",
       "      <th>378ykanq</th>\n",
       "      <td>[-0.18407452, -0.29325098, -0.46541175, -0.097...</td>\n",
       "    </tr>\n",
       "    <tr>\n",
       "      <th>p366md-big834-7o23k6</th>\n",
       "      <td>[0.5923961, 0.54204315, 0.51498044, 0.5923961,...</td>\n",
       "    </tr>\n",
       "    <tr>\n",
       "      <th>3zruwvl2</th>\n",
       "      <td>[-0.015447071, -0.26187843, -0.37913725, -0.01...</td>\n",
       "    </tr>\n",
       "    <tr>\n",
       "      <th>q18iae-3vnh74-79npmy</th>\n",
       "      <td>[-0.40760392, -0.45795685, -0.4850196, -0.4076...</td>\n",
       "    </tr>\n",
       "    <tr>\n",
       "      <th>...</th>\n",
       "      <td>...</td>\n",
       "    </tr>\n",
       "    <tr>\n",
       "      <th>pktyig-481wyg-6gyulf</th>\n",
       "      <td>[-0.3605451, -0.41089803, -0.38305882, -0.3644...</td>\n",
       "    </tr>\n",
       "    <tr>\n",
       "      <th>zu7y3rha</th>\n",
       "      <td>[-0.007603933, -0.05795686, -0.08501961, -0.00...</td>\n",
       "    </tr>\n",
       "    <tr>\n",
       "      <th>pxcwxf-8tnpyg-8vhb9r</th>\n",
       "      <td>[0.3022, 0.18125883, 0.12674509, 0.31004313, 0...</td>\n",
       "    </tr>\n",
       "    <tr>\n",
       "      <th>p4hakf-fsskmw-1224up</th>\n",
       "      <td>[-0.40368235, -0.45403528, -0.48109803, -0.387...</td>\n",
       "    </tr>\n",
       "    <tr>\n",
       "      <th>ptuhsk-22124o-f0sxoc</th>\n",
       "      <td>[0.43945488, 0.39302352, 0.3502745, 0.44729802...</td>\n",
       "    </tr>\n",
       "  </tbody>\n",
       "</table>\n",
       "<p>3759 rows × 1 columns</p>\n",
       "</div>"
      ],
      "text/plain": [
       "                                                            pixel_array\n",
       "attachment_key                                                         \n",
       "ozbpir-9ey6js-ggdqwo  [-0.40760392, -0.45795685, -0.4850196, -0.4076...\n",
       "378ykanq              [-0.18407452, -0.29325098, -0.46541175, -0.097...\n",
       "p366md-big834-7o23k6  [0.5923961, 0.54204315, 0.51498044, 0.5923961,...\n",
       "3zruwvl2              [-0.015447071, -0.26187843, -0.37913725, -0.01...\n",
       "q18iae-3vnh74-79npmy  [-0.40760392, -0.45795685, -0.4850196, -0.4076...\n",
       "...                                                                 ...\n",
       "pktyig-481wyg-6gyulf  [-0.3605451, -0.41089803, -0.38305882, -0.3644...\n",
       "zu7y3rha              [-0.007603933, -0.05795686, -0.08501961, -0.00...\n",
       "pxcwxf-8tnpyg-8vhb9r  [0.3022, 0.18125883, 0.12674509, 0.31004313, 0...\n",
       "p4hakf-fsskmw-1224up  [-0.40368235, -0.45403528, -0.48109803, -0.387...\n",
       "ptuhsk-22124o-f0sxoc  [0.43945488, 0.39302352, 0.3502745, 0.44729802...\n",
       "\n",
       "[3759 rows x 1 columns]"
      ]
     },
     "execution_count": 14,
     "metadata": {},
     "output_type": "execute_result"
    }
   ],
   "source": [
    "# Create key value pairs with attachment key and pixel array\n",
    "# Standardize pixel values between 0 and 1 by dividing by 255\n",
    "# Store pixel data as dataframe\n",
    "data_dict = {}\n",
    "for i in range(data_key.shape[0]):\n",
    "    data_dict[data_key[i]] = [data_pixel[i]/255]\n",
    "\n",
    "df_pixel = pd.DataFrame(data=data_dict)\n",
    "df_pixel_t = df_pixel.transpose()\n",
    "df_pixel_t.index.names = ['attachment_key']\n",
    "df_pixel_t.columns = ['pixel_array']\n",
    "df_pixel_t"
   ]
  },
  {
   "cell_type": "markdown",
   "metadata": {},
   "source": [
    "5.2 Load metadata file"
   ]
  },
  {
   "cell_type": "code",
   "execution_count": 15,
   "metadata": {},
   "outputs": [
    {
     "data": {
      "text/html": [
       "<div>\n",
       "<style scoped>\n",
       "    .dataframe tbody tr th:only-of-type {\n",
       "        vertical-align: middle;\n",
       "    }\n",
       "\n",
       "    .dataframe tbody tr th {\n",
       "        vertical-align: top;\n",
       "    }\n",
       "\n",
       "    .dataframe thead th {\n",
       "        text-align: right;\n",
       "    }\n",
       "</style>\n",
       "<table border=\"1\" class=\"dataframe\">\n",
       "  <thead>\n",
       "    <tr style=\"text-align: right;\">\n",
       "      <th></th>\n",
       "      <th>attachment_key</th>\n",
       "      <th>size_mb</th>\n",
       "      <th>height</th>\n",
       "      <th>width</th>\n",
       "      <th>h_to_w</th>\n",
       "      <th>filename</th>\n",
       "      <th>logo</th>\n",
       "    </tr>\n",
       "  </thead>\n",
       "  <tbody>\n",
       "    <tr>\n",
       "      <th>0</th>\n",
       "      <td>001lq61k</td>\n",
       "      <td>0.122520</td>\n",
       "      <td>514.0</td>\n",
       "      <td>720.0</td>\n",
       "      <td>0.713889</td>\n",
       "      <td>campus ministry on the beach.jpg</td>\n",
       "      <td>0</td>\n",
       "    </tr>\n",
       "    <tr>\n",
       "      <th>1</th>\n",
       "      <td>002dlirq</td>\n",
       "      <td>3.256944</td>\n",
       "      <td>4072.0</td>\n",
       "      <td>3868.0</td>\n",
       "      <td>1.052741</td>\n",
       "      <td>BIG ALS FISH FLASH UV VP PL.jpg</td>\n",
       "      <td>0</td>\n",
       "    </tr>\n",
       "    <tr>\n",
       "      <th>2</th>\n",
       "      <td>003qefgm</td>\n",
       "      <td>0.002522</td>\n",
       "      <td>80.0</td>\n",
       "      <td>200.0</td>\n",
       "      <td>0.400000</td>\n",
       "      <td>netix_email_studio.png</td>\n",
       "      <td>1</td>\n",
       "    </tr>\n",
       "    <tr>\n",
       "      <th>3</th>\n",
       "      <td>0083okjl</td>\n",
       "      <td>0.116802</td>\n",
       "      <td>600.0</td>\n",
       "      <td>600.0</td>\n",
       "      <td>1.000000</td>\n",
       "      <td>productshot2.jpg</td>\n",
       "      <td>0</td>\n",
       "    </tr>\n",
       "    <tr>\n",
       "      <th>4</th>\n",
       "      <td>00a957mh</td>\n",
       "      <td>0.140714</td>\n",
       "      <td>816.0</td>\n",
       "      <td>2382.0</td>\n",
       "      <td>0.342569</td>\n",
       "      <td>divine_medical_billing_inc_master.png</td>\n",
       "      <td>1</td>\n",
       "    </tr>\n",
       "  </tbody>\n",
       "</table>\n",
       "</div>"
      ],
      "text/plain": [
       "  attachment_key   size_mb  height   width    h_to_w  \\\n",
       "0       001lq61k  0.122520   514.0   720.0  0.713889   \n",
       "1       002dlirq  3.256944  4072.0  3868.0  1.052741   \n",
       "2       003qefgm  0.002522    80.0   200.0  0.400000   \n",
       "3       0083okjl  0.116802   600.0   600.0  1.000000   \n",
       "4       00a957mh  0.140714   816.0  2382.0  0.342569   \n",
       "\n",
       "                                filename  logo  \n",
       "0       campus ministry on the beach.jpg     0  \n",
       "1        BIG ALS FISH FLASH UV VP PL.jpg     0  \n",
       "2                 netix_email_studio.png     1  \n",
       "3                       productshot2.jpg     0  \n",
       "4  divine_medical_billing_inc_master.png     1  "
      ]
     },
     "execution_count": 15,
     "metadata": {},
     "output_type": "execute_result"
    }
   ],
   "source": [
    "# Load excel data\n",
    "df = pd.read_csv('school_project_data_set-new.csv')\n",
    "df.head()"
   ]
  },
  {
   "cell_type": "markdown",
   "metadata": {},
   "source": [
    "5.3 Combine pixel and metadata features in a pandas dataframe"
   ]
  },
  {
   "cell_type": "code",
   "execution_count": 16,
   "metadata": {},
   "outputs": [
    {
     "data": {
      "text/html": [
       "<div>\n",
       "<style scoped>\n",
       "    .dataframe tbody tr th:only-of-type {\n",
       "        vertical-align: middle;\n",
       "    }\n",
       "\n",
       "    .dataframe tbody tr th {\n",
       "        vertical-align: top;\n",
       "    }\n",
       "\n",
       "    .dataframe thead th {\n",
       "        text-align: right;\n",
       "    }\n",
       "</style>\n",
       "<table border=\"1\" class=\"dataframe\">\n",
       "  <thead>\n",
       "    <tr style=\"text-align: right;\">\n",
       "      <th></th>\n",
       "      <th>attachment_key</th>\n",
       "      <th>size_mb</th>\n",
       "      <th>height</th>\n",
       "      <th>width</th>\n",
       "      <th>h_to_w</th>\n",
       "      <th>filename</th>\n",
       "      <th>logo</th>\n",
       "      <th>pixel_array</th>\n",
       "    </tr>\n",
       "  </thead>\n",
       "  <tbody>\n",
       "    <tr>\n",
       "      <th>0</th>\n",
       "      <td>00xjny6u</td>\n",
       "      <td>0.011849</td>\n",
       "      <td>520.0</td>\n",
       "      <td>506.0</td>\n",
       "      <td>1.027668</td>\n",
       "      <td>Esterdale Theatre - Logo.png</td>\n",
       "      <td>1</td>\n",
       "      <td>[0.5923961, 0.54204315, 0.51498044, 0.5923961,...</td>\n",
       "    </tr>\n",
       "    <tr>\n",
       "      <th>1</th>\n",
       "      <td>04o31jop</td>\n",
       "      <td>0.012610</td>\n",
       "      <td>269.0</td>\n",
       "      <td>396.0</td>\n",
       "      <td>0.679293</td>\n",
       "      <td>BLUE_LOGO.png</td>\n",
       "      <td>1</td>\n",
       "      <td>[0.5923961, 0.54204315, 0.51498044, 0.5923961,...</td>\n",
       "    </tr>\n",
       "    <tr>\n",
       "      <th>2</th>\n",
       "      <td>0840h7ox</td>\n",
       "      <td>0.399114</td>\n",
       "      <td>518.0</td>\n",
       "      <td>920.0</td>\n",
       "      <td>0.563044</td>\n",
       "      <td>ZEN_LB-5.jpg</td>\n",
       "      <td>0</td>\n",
       "      <td>[0.106121555, 0.05576863, 0.052235294, 0.09043...</td>\n",
       "    </tr>\n",
       "    <tr>\n",
       "      <th>3</th>\n",
       "      <td>0awudx2h</td>\n",
       "      <td>0.011226</td>\n",
       "      <td>200.0</td>\n",
       "      <td>200.0</td>\n",
       "      <td>1.000000</td>\n",
       "      <td>article central 200.jpg</td>\n",
       "      <td>1</td>\n",
       "      <td>[0.5923961, 0.54204315, 0.51498044, 0.5923961,...</td>\n",
       "    </tr>\n",
       "    <tr>\n",
       "      <th>4</th>\n",
       "      <td>0bb8y85h</td>\n",
       "      <td>0.263813</td>\n",
       "      <td>885.0</td>\n",
       "      <td>800.0</td>\n",
       "      <td>1.106250</td>\n",
       "      <td>1116-100_WGTank_white.jpg</td>\n",
       "      <td>0</td>\n",
       "      <td>[0.5923961, 0.54204315, 0.51498044, 0.5923961,...</td>\n",
       "    </tr>\n",
       "    <tr>\n",
       "      <th>...</th>\n",
       "      <td>...</td>\n",
       "      <td>...</td>\n",
       "      <td>...</td>\n",
       "      <td>...</td>\n",
       "      <td>...</td>\n",
       "      <td>...</td>\n",
       "      <td>...</td>\n",
       "      <td>...</td>\n",
       "    </tr>\n",
       "    <tr>\n",
       "      <th>3750</th>\n",
       "      <td>zu7y3rha</td>\n",
       "      <td>0.147371</td>\n",
       "      <td>498.0</td>\n",
       "      <td>702.0</td>\n",
       "      <td>0.709402</td>\n",
       "      <td>journalism.jpg</td>\n",
       "      <td>0</td>\n",
       "      <td>[-0.007603933, -0.05795686, -0.08501961, -0.00...</td>\n",
       "    </tr>\n",
       "    <tr>\n",
       "      <th>3751</th>\n",
       "      <td>zuanbsqe</td>\n",
       "      <td>0.580392</td>\n",
       "      <td>206.0</td>\n",
       "      <td>415.0</td>\n",
       "      <td>0.496386</td>\n",
       "      <td>2013 05 26_techstars_id_final_bug solo graysca...</td>\n",
       "      <td>1</td>\n",
       "      <td>[0.5923961, 0.54204315, 0.51498044, 0.5923961,...</td>\n",
       "    </tr>\n",
       "    <tr>\n",
       "      <th>3752</th>\n",
       "      <td>zw9234v4</td>\n",
       "      <td>2.021135</td>\n",
       "      <td>1645.0</td>\n",
       "      <td>1450.0</td>\n",
       "      <td>1.134483</td>\n",
       "      <td>SPIN N GLO SILVER WING GPK MY.jpg</td>\n",
       "      <td>0</td>\n",
       "      <td>[0.5923961, 0.54204315, 0.51498044, 0.5923961,...</td>\n",
       "    </tr>\n",
       "    <tr>\n",
       "      <th>3753</th>\n",
       "      <td>zxfqbfj1</td>\n",
       "      <td>0.012057</td>\n",
       "      <td>36.0</td>\n",
       "      <td>345.0</td>\n",
       "      <td>0.104348</td>\n",
       "      <td>cornerstone web logo medium.png</td>\n",
       "      <td>1</td>\n",
       "      <td>[-0.40760392, -0.45795685, -0.4850196, -0.4076...</td>\n",
       "    </tr>\n",
       "    <tr>\n",
       "      <th>3754</th>\n",
       "      <td>zzgkjqna</td>\n",
       "      <td>0.027983</td>\n",
       "      <td>56.0</td>\n",
       "      <td>350.0</td>\n",
       "      <td>0.160000</td>\n",
       "      <td>fieldcontrolslogohorz web.jpg</td>\n",
       "      <td>1</td>\n",
       "      <td>[0.5923961, 0.54204315, 0.51498044, 0.5923961,...</td>\n",
       "    </tr>\n",
       "  </tbody>\n",
       "</table>\n",
       "<p>3755 rows × 8 columns</p>\n",
       "</div>"
      ],
      "text/plain": [
       "     attachment_key   size_mb  height   width    h_to_w  \\\n",
       "0          00xjny6u  0.011849   520.0   506.0  1.027668   \n",
       "1          04o31jop  0.012610   269.0   396.0  0.679293   \n",
       "2          0840h7ox  0.399114   518.0   920.0  0.563044   \n",
       "3          0awudx2h  0.011226   200.0   200.0  1.000000   \n",
       "4          0bb8y85h  0.263813   885.0   800.0  1.106250   \n",
       "...             ...       ...     ...     ...       ...   \n",
       "3750       zu7y3rha  0.147371   498.0   702.0  0.709402   \n",
       "3751       zuanbsqe  0.580392   206.0   415.0  0.496386   \n",
       "3752       zw9234v4  2.021135  1645.0  1450.0  1.134483   \n",
       "3753       zxfqbfj1  0.012057    36.0   345.0  0.104348   \n",
       "3754       zzgkjqna  0.027983    56.0   350.0  0.160000   \n",
       "\n",
       "                                               filename  logo  \\\n",
       "0                          Esterdale Theatre - Logo.png     1   \n",
       "1                                         BLUE_LOGO.png     1   \n",
       "2                                          ZEN_LB-5.jpg     0   \n",
       "3                               article central 200.jpg     1   \n",
       "4                             1116-100_WGTank_white.jpg     0   \n",
       "...                                                 ...   ...   \n",
       "3750                                     journalism.jpg     0   \n",
       "3751  2013 05 26_techstars_id_final_bug solo graysca...     1   \n",
       "3752                  SPIN N GLO SILVER WING GPK MY.jpg     0   \n",
       "3753                    cornerstone web logo medium.png     1   \n",
       "3754                      fieldcontrolslogohorz web.jpg     1   \n",
       "\n",
       "                                            pixel_array  \n",
       "0     [0.5923961, 0.54204315, 0.51498044, 0.5923961,...  \n",
       "1     [0.5923961, 0.54204315, 0.51498044, 0.5923961,...  \n",
       "2     [0.106121555, 0.05576863, 0.052235294, 0.09043...  \n",
       "3     [0.5923961, 0.54204315, 0.51498044, 0.5923961,...  \n",
       "4     [0.5923961, 0.54204315, 0.51498044, 0.5923961,...  \n",
       "...                                                 ...  \n",
       "3750  [-0.007603933, -0.05795686, -0.08501961, -0.00...  \n",
       "3751  [0.5923961, 0.54204315, 0.51498044, 0.5923961,...  \n",
       "3752  [0.5923961, 0.54204315, 0.51498044, 0.5923961,...  \n",
       "3753  [-0.40760392, -0.45795685, -0.4850196, -0.4076...  \n",
       "3754  [0.5923961, 0.54204315, 0.51498044, 0.5923961,...  \n",
       "\n",
       "[3755 rows x 8 columns]"
      ]
     },
     "execution_count": 16,
     "metadata": {},
     "output_type": "execute_result"
    }
   ],
   "source": [
    "# Merge dataframes by attachment key\n",
    "combined_df = df.merge(df_pixel_t, on='attachment_key')\n",
    "combined_df"
   ]
  },
  {
   "cell_type": "code",
   "execution_count": 17,
   "metadata": {},
   "outputs": [],
   "source": [
    "### VISUALIZATIONS FROM PANDAS PROFILING HERE"
   ]
  },
  {
   "cell_type": "markdown",
   "metadata": {},
   "source": [
    "**Step 6: Data preprocessing**"
   ]
  },
  {
   "cell_type": "markdown",
   "metadata": {},
   "source": [
    "6.1 Remove null values"
   ]
  },
  {
   "cell_type": "code",
   "execution_count": 18,
   "metadata": {},
   "outputs": [
    {
     "name": "stdout",
     "output_type": "stream",
     "text": [
      "<class 'pandas.core.frame.DataFrame'>\n",
      "Int64Index: 3754 entries, 0 to 3754\n",
      "Data columns (total 8 columns):\n",
      " #   Column          Non-Null Count  Dtype  \n",
      "---  ------          --------------  -----  \n",
      " 0   attachment_key  3754 non-null   object \n",
      " 1   size_mb         3754 non-null   float64\n",
      " 2   height          3754 non-null   float64\n",
      " 3   width           3754 non-null   float64\n",
      " 4   h_to_w          3754 non-null   float64\n",
      " 5   filename        3754 non-null   object \n",
      " 6   logo            3754 non-null   int64  \n",
      " 7   pixel_array     3754 non-null   object \n",
      "dtypes: float64(4), int64(1), object(3)\n",
      "memory usage: 264.0+ KB\n"
     ]
    }
   ],
   "source": [
    "# Remove rows with null values\n",
    "combined_df = combined_df[combined_df.height.notnull()]\n",
    "combined_df.info(verbose=True)"
   ]
  },
  {
   "cell_type": "markdown",
   "metadata": {},
   "source": [
    "6.2 Create file type dummy variables from file name"
   ]
  },
  {
   "cell_type": "code",
   "execution_count": 19,
   "metadata": {},
   "outputs": [
    {
     "name": "stdout",
     "output_type": "stream",
     "text": [
      "{'pig', 'peg', '73e', 'age', 'png', 'jpg', 'jpe', 'lue', 'ite', 'ack', '0mm', 'hot'}\n"
     ]
    }
   ],
   "source": [
    "# Find file types from filename\n",
    "file_types = []\n",
    "for item in combined_df['filename']:\n",
    "    file_types.append(item[-3:].lower())\n",
    "\n",
    "print(set(file_types))"
   ]
  },
  {
   "cell_type": "code",
   "execution_count": 20,
   "metadata": {},
   "outputs": [],
   "source": [
    "# Create list of file types from filename to append to df\n",
    "filetype_encoding = []\n",
    "for item in combined_df['filename']:\n",
    "    if item[-3:].lower() == 'jpg':\n",
    "        filetype_encoding.append('jpg')\n",
    "    elif item[-3:].lower() == 'png':\n",
    "        filetype_encoding.append('png')\n",
    "    else:\n",
    "        filetype_encoding.append('other')"
   ]
  },
  {
   "cell_type": "code",
   "execution_count": 21,
   "metadata": {},
   "outputs": [
    {
     "name": "stderr",
     "output_type": "stream",
     "text": [
      "/Users/alyssaaugsburger/anaconda3/lib/python3.7/site-packages/ipykernel_launcher.py:2: SettingWithCopyWarning: \n",
      "A value is trying to be set on a copy of a slice from a DataFrame.\n",
      "Try using .loc[row_indexer,col_indexer] = value instead\n",
      "\n",
      "See the caveats in the documentation: https://pandas.pydata.org/pandas-docs/stable/user_guide/indexing.html#returning-a-view-versus-a-copy\n",
      "  \n"
     ]
    },
    {
     "data": {
      "text/html": [
       "<div>\n",
       "<style scoped>\n",
       "    .dataframe tbody tr th:only-of-type {\n",
       "        vertical-align: middle;\n",
       "    }\n",
       "\n",
       "    .dataframe tbody tr th {\n",
       "        vertical-align: top;\n",
       "    }\n",
       "\n",
       "    .dataframe thead th {\n",
       "        text-align: right;\n",
       "    }\n",
       "</style>\n",
       "<table border=\"1\" class=\"dataframe\">\n",
       "  <thead>\n",
       "    <tr style=\"text-align: right;\">\n",
       "      <th></th>\n",
       "      <th>attachment_key</th>\n",
       "      <th>size_mb</th>\n",
       "      <th>height</th>\n",
       "      <th>width</th>\n",
       "      <th>h_to_w</th>\n",
       "      <th>filetype</th>\n",
       "      <th>pixel_array</th>\n",
       "      <th>filename</th>\n",
       "      <th>logo</th>\n",
       "    </tr>\n",
       "  </thead>\n",
       "  <tbody>\n",
       "    <tr>\n",
       "      <th>0</th>\n",
       "      <td>00xjny6u</td>\n",
       "      <td>0.011849</td>\n",
       "      <td>520.0</td>\n",
       "      <td>506.0</td>\n",
       "      <td>1.027668</td>\n",
       "      <td>png</td>\n",
       "      <td>[0.5923961, 0.54204315, 0.51498044, 0.5923961,...</td>\n",
       "      <td>Esterdale Theatre - Logo.png</td>\n",
       "      <td>1</td>\n",
       "    </tr>\n",
       "    <tr>\n",
       "      <th>1</th>\n",
       "      <td>04o31jop</td>\n",
       "      <td>0.012610</td>\n",
       "      <td>269.0</td>\n",
       "      <td>396.0</td>\n",
       "      <td>0.679293</td>\n",
       "      <td>png</td>\n",
       "      <td>[0.5923961, 0.54204315, 0.51498044, 0.5923961,...</td>\n",
       "      <td>BLUE_LOGO.png</td>\n",
       "      <td>1</td>\n",
       "    </tr>\n",
       "    <tr>\n",
       "      <th>2</th>\n",
       "      <td>0840h7ox</td>\n",
       "      <td>0.399114</td>\n",
       "      <td>518.0</td>\n",
       "      <td>920.0</td>\n",
       "      <td>0.563044</td>\n",
       "      <td>jpg</td>\n",
       "      <td>[0.106121555, 0.05576863, 0.052235294, 0.09043...</td>\n",
       "      <td>ZEN_LB-5.jpg</td>\n",
       "      <td>0</td>\n",
       "    </tr>\n",
       "    <tr>\n",
       "      <th>3</th>\n",
       "      <td>0awudx2h</td>\n",
       "      <td>0.011226</td>\n",
       "      <td>200.0</td>\n",
       "      <td>200.0</td>\n",
       "      <td>1.000000</td>\n",
       "      <td>jpg</td>\n",
       "      <td>[0.5923961, 0.54204315, 0.51498044, 0.5923961,...</td>\n",
       "      <td>article central 200.jpg</td>\n",
       "      <td>1</td>\n",
       "    </tr>\n",
       "    <tr>\n",
       "      <th>4</th>\n",
       "      <td>0bb8y85h</td>\n",
       "      <td>0.263813</td>\n",
       "      <td>885.0</td>\n",
       "      <td>800.0</td>\n",
       "      <td>1.106250</td>\n",
       "      <td>jpg</td>\n",
       "      <td>[0.5923961, 0.54204315, 0.51498044, 0.5923961,...</td>\n",
       "      <td>1116-100_WGTank_white.jpg</td>\n",
       "      <td>0</td>\n",
       "    </tr>\n",
       "  </tbody>\n",
       "</table>\n",
       "</div>"
      ],
      "text/plain": [
       "  attachment_key   size_mb  height  width    h_to_w filetype  \\\n",
       "0       00xjny6u  0.011849   520.0  506.0  1.027668      png   \n",
       "1       04o31jop  0.012610   269.0  396.0  0.679293      png   \n",
       "2       0840h7ox  0.399114   518.0  920.0  0.563044      jpg   \n",
       "3       0awudx2h  0.011226   200.0  200.0  1.000000      jpg   \n",
       "4       0bb8y85h  0.263813   885.0  800.0  1.106250      jpg   \n",
       "\n",
       "                                         pixel_array  \\\n",
       "0  [0.5923961, 0.54204315, 0.51498044, 0.5923961,...   \n",
       "1  [0.5923961, 0.54204315, 0.51498044, 0.5923961,...   \n",
       "2  [0.106121555, 0.05576863, 0.052235294, 0.09043...   \n",
       "3  [0.5923961, 0.54204315, 0.51498044, 0.5923961,...   \n",
       "4  [0.5923961, 0.54204315, 0.51498044, 0.5923961,...   \n",
       "\n",
       "                       filename  logo  \n",
       "0  Esterdale Theatre - Logo.png     1  \n",
       "1                 BLUE_LOGO.png     1  \n",
       "2                  ZEN_LB-5.jpg     0  \n",
       "3       article central 200.jpg     1  \n",
       "4     1116-100_WGTank_white.jpg     0  "
      ]
     },
     "execution_count": 21,
     "metadata": {},
     "output_type": "execute_result"
    }
   ],
   "source": [
    "# Create df that includes column for file type\n",
    "combined_df['filetype'] = filetype_encoding\n",
    "combined_df = combined_df[['attachment_key', 'size_mb', 'height', 'width', 'h_to_w', 'filetype', 'pixel_array', 'filename','logo']]\n",
    "combined_df.head()\n",
    "#warnings.simplefilter(action='ignore', category=SettingWithCopyWarning)"
   ]
  },
  {
   "cell_type": "code",
   "execution_count": 22,
   "metadata": {},
   "outputs": [
    {
     "data": {
      "text/html": [
       "<div>\n",
       "<style scoped>\n",
       "    .dataframe tbody tr th:only-of-type {\n",
       "        vertical-align: middle;\n",
       "    }\n",
       "\n",
       "    .dataframe tbody tr th {\n",
       "        vertical-align: top;\n",
       "    }\n",
       "\n",
       "    .dataframe thead th {\n",
       "        text-align: right;\n",
       "    }\n",
       "</style>\n",
       "<table border=\"1\" class=\"dataframe\">\n",
       "  <thead>\n",
       "    <tr style=\"text-align: right;\">\n",
       "      <th></th>\n",
       "      <th>attachment_key</th>\n",
       "      <th>size_mb</th>\n",
       "      <th>height</th>\n",
       "      <th>width</th>\n",
       "      <th>h_to_w</th>\n",
       "      <th>filetype</th>\n",
       "      <th>pixel_array</th>\n",
       "      <th>filename</th>\n",
       "      <th>logo</th>\n",
       "      <th>jpg</th>\n",
       "      <th>other</th>\n",
       "      <th>png</th>\n",
       "    </tr>\n",
       "  </thead>\n",
       "  <tbody>\n",
       "    <tr>\n",
       "      <th>0</th>\n",
       "      <td>00xjny6u</td>\n",
       "      <td>0.011849</td>\n",
       "      <td>520.0</td>\n",
       "      <td>506.0</td>\n",
       "      <td>1.027668</td>\n",
       "      <td>png</td>\n",
       "      <td>[0.5923961, 0.54204315, 0.51498044, 0.5923961,...</td>\n",
       "      <td>Esterdale Theatre - Logo.png</td>\n",
       "      <td>1</td>\n",
       "      <td>0</td>\n",
       "      <td>0</td>\n",
       "      <td>1</td>\n",
       "    </tr>\n",
       "    <tr>\n",
       "      <th>1</th>\n",
       "      <td>04o31jop</td>\n",
       "      <td>0.012610</td>\n",
       "      <td>269.0</td>\n",
       "      <td>396.0</td>\n",
       "      <td>0.679293</td>\n",
       "      <td>png</td>\n",
       "      <td>[0.5923961, 0.54204315, 0.51498044, 0.5923961,...</td>\n",
       "      <td>BLUE_LOGO.png</td>\n",
       "      <td>1</td>\n",
       "      <td>0</td>\n",
       "      <td>0</td>\n",
       "      <td>1</td>\n",
       "    </tr>\n",
       "    <tr>\n",
       "      <th>2</th>\n",
       "      <td>0840h7ox</td>\n",
       "      <td>0.399114</td>\n",
       "      <td>518.0</td>\n",
       "      <td>920.0</td>\n",
       "      <td>0.563044</td>\n",
       "      <td>jpg</td>\n",
       "      <td>[0.106121555, 0.05576863, 0.052235294, 0.09043...</td>\n",
       "      <td>ZEN_LB-5.jpg</td>\n",
       "      <td>0</td>\n",
       "      <td>1</td>\n",
       "      <td>0</td>\n",
       "      <td>0</td>\n",
       "    </tr>\n",
       "    <tr>\n",
       "      <th>3</th>\n",
       "      <td>0awudx2h</td>\n",
       "      <td>0.011226</td>\n",
       "      <td>200.0</td>\n",
       "      <td>200.0</td>\n",
       "      <td>1.000000</td>\n",
       "      <td>jpg</td>\n",
       "      <td>[0.5923961, 0.54204315, 0.51498044, 0.5923961,...</td>\n",
       "      <td>article central 200.jpg</td>\n",
       "      <td>1</td>\n",
       "      <td>1</td>\n",
       "      <td>0</td>\n",
       "      <td>0</td>\n",
       "    </tr>\n",
       "    <tr>\n",
       "      <th>4</th>\n",
       "      <td>0bb8y85h</td>\n",
       "      <td>0.263813</td>\n",
       "      <td>885.0</td>\n",
       "      <td>800.0</td>\n",
       "      <td>1.106250</td>\n",
       "      <td>jpg</td>\n",
       "      <td>[0.5923961, 0.54204315, 0.51498044, 0.5923961,...</td>\n",
       "      <td>1116-100_WGTank_white.jpg</td>\n",
       "      <td>0</td>\n",
       "      <td>1</td>\n",
       "      <td>0</td>\n",
       "      <td>0</td>\n",
       "    </tr>\n",
       "  </tbody>\n",
       "</table>\n",
       "</div>"
      ],
      "text/plain": [
       "  attachment_key   size_mb  height  width    h_to_w filetype  \\\n",
       "0       00xjny6u  0.011849   520.0  506.0  1.027668      png   \n",
       "1       04o31jop  0.012610   269.0  396.0  0.679293      png   \n",
       "2       0840h7ox  0.399114   518.0  920.0  0.563044      jpg   \n",
       "3       0awudx2h  0.011226   200.0  200.0  1.000000      jpg   \n",
       "4       0bb8y85h  0.263813   885.0  800.0  1.106250      jpg   \n",
       "\n",
       "                                         pixel_array  \\\n",
       "0  [0.5923961, 0.54204315, 0.51498044, 0.5923961,...   \n",
       "1  [0.5923961, 0.54204315, 0.51498044, 0.5923961,...   \n",
       "2  [0.106121555, 0.05576863, 0.052235294, 0.09043...   \n",
       "3  [0.5923961, 0.54204315, 0.51498044, 0.5923961,...   \n",
       "4  [0.5923961, 0.54204315, 0.51498044, 0.5923961,...   \n",
       "\n",
       "                       filename  logo  jpg  other  png  \n",
       "0  Esterdale Theatre - Logo.png     1    0      0    1  \n",
       "1                 BLUE_LOGO.png     1    0      0    1  \n",
       "2                  ZEN_LB-5.jpg     0    1      0    0  \n",
       "3       article central 200.jpg     1    1      0    0  \n",
       "4     1116-100_WGTank_white.jpg     0    1      0    0  "
      ]
     },
     "execution_count": 22,
     "metadata": {},
     "output_type": "execute_result"
    }
   ],
   "source": [
    "# Get dummies for file type\n",
    "filetype_dummies = pd.get_dummies(combined_df.filetype)\n",
    "\n",
    "# add to initial df\n",
    "combined_df = pd.concat((combined_df, filetype_dummies), axis=1)\n",
    "\n",
    "# print head of df\n",
    "combined_df.head()"
   ]
  },
  {
   "cell_type": "markdown",
   "metadata": {},
   "source": [
    "6.3 Scale metadata variables"
   ]
  },
  {
   "cell_type": "code",
   "execution_count": 23,
   "metadata": {},
   "outputs": [],
   "source": [
    "# Scale continuous feature variables\n",
    "combined_df['size_mb'] = preprocessing.scale(combined_df['size_mb'])\n",
    "combined_df['h_to_w'] = preprocessing.scale(combined_df['h_to_w'])\n",
    "combined_df['height'] = preprocessing.scale(combined_df['height'])\n",
    "combined_df['width'] = preprocessing.scale(combined_df['width'])"
   ]
  },
  {
   "cell_type": "markdown",
   "metadata": {},
   "source": [
    "6.4 Create X, y arrays"
   ]
  },
  {
   "cell_type": "code",
   "execution_count": 24,
   "metadata": {},
   "outputs": [
    {
     "data": {
      "text/html": [
       "<div>\n",
       "<style scoped>\n",
       "    .dataframe tbody tr th:only-of-type {\n",
       "        vertical-align: middle;\n",
       "    }\n",
       "\n",
       "    .dataframe tbody tr th {\n",
       "        vertical-align: top;\n",
       "    }\n",
       "\n",
       "    .dataframe thead th {\n",
       "        text-align: right;\n",
       "    }\n",
       "</style>\n",
       "<table border=\"1\" class=\"dataframe\">\n",
       "  <thead>\n",
       "    <tr style=\"text-align: right;\">\n",
       "      <th></th>\n",
       "      <th>attachment_key</th>\n",
       "      <th>pixel_array</th>\n",
       "      <th>size_mb</th>\n",
       "      <th>h_to_w</th>\n",
       "      <th>jpg</th>\n",
       "      <th>png</th>\n",
       "      <th>other</th>\n",
       "      <th>height</th>\n",
       "      <th>width</th>\n",
       "      <th>logo</th>\n",
       "      <th>filetype</th>\n",
       "      <th>filename</th>\n",
       "    </tr>\n",
       "  </thead>\n",
       "  <tbody>\n",
       "    <tr>\n",
       "      <th>0</th>\n",
       "      <td>00xjny6u</td>\n",
       "      <td>[0.5923961, 0.54204315, 0.51498044, 0.5923961,...</td>\n",
       "      <td>-0.366308</td>\n",
       "      <td>0.638439</td>\n",
       "      <td>0</td>\n",
       "      <td>1</td>\n",
       "      <td>0</td>\n",
       "      <td>-0.712708</td>\n",
       "      <td>-0.888611</td>\n",
       "      <td>1</td>\n",
       "      <td>png</td>\n",
       "      <td>Esterdale Theatre - Logo.png</td>\n",
       "    </tr>\n",
       "    <tr>\n",
       "      <th>1</th>\n",
       "      <td>04o31jop</td>\n",
       "      <td>[0.5923961, 0.54204315, 0.51498044, 0.5923961,...</td>\n",
       "      <td>-0.366187</td>\n",
       "      <td>-0.187892</td>\n",
       "      <td>0</td>\n",
       "      <td>1</td>\n",
       "      <td>0</td>\n",
       "      <td>-0.861519</td>\n",
       "      <td>-0.943446</td>\n",
       "      <td>1</td>\n",
       "      <td>png</td>\n",
       "      <td>BLUE_LOGO.png</td>\n",
       "    </tr>\n",
       "    <tr>\n",
       "      <th>2</th>\n",
       "      <td>0840h7ox</td>\n",
       "      <td>[0.106121555, 0.05576863, 0.052235294, 0.09043...</td>\n",
       "      <td>-0.304882</td>\n",
       "      <td>-0.463630</td>\n",
       "      <td>1</td>\n",
       "      <td>0</td>\n",
       "      <td>0</td>\n",
       "      <td>-0.713894</td>\n",
       "      <td>-0.682232</td>\n",
       "      <td>0</td>\n",
       "      <td>jpg</td>\n",
       "      <td>ZEN_LB-5.jpg</td>\n",
       "    </tr>\n",
       "    <tr>\n",
       "      <th>3</th>\n",
       "      <td>0awudx2h</td>\n",
       "      <td>[0.5923961, 0.54204315, 0.51498044, 0.5923961,...</td>\n",
       "      <td>-0.366407</td>\n",
       "      <td>0.572811</td>\n",
       "      <td>1</td>\n",
       "      <td>0</td>\n",
       "      <td>0</td>\n",
       "      <td>-0.902427</td>\n",
       "      <td>-1.041152</td>\n",
       "      <td>1</td>\n",
       "      <td>jpg</td>\n",
       "      <td>article central 200.jpg</td>\n",
       "    </tr>\n",
       "    <tr>\n",
       "      <th>4</th>\n",
       "      <td>0bb8y85h</td>\n",
       "      <td>[0.5923961, 0.54204315, 0.51498044, 0.5923961,...</td>\n",
       "      <td>-0.326343</td>\n",
       "      <td>0.824832</td>\n",
       "      <td>1</td>\n",
       "      <td>0</td>\n",
       "      <td>0</td>\n",
       "      <td>-0.496310</td>\n",
       "      <td>-0.742052</td>\n",
       "      <td>0</td>\n",
       "      <td>jpg</td>\n",
       "      <td>1116-100_WGTank_white.jpg</td>\n",
       "    </tr>\n",
       "  </tbody>\n",
       "</table>\n",
       "</div>"
      ],
      "text/plain": [
       "  attachment_key                                        pixel_array   size_mb  \\\n",
       "0       00xjny6u  [0.5923961, 0.54204315, 0.51498044, 0.5923961,... -0.366308   \n",
       "1       04o31jop  [0.5923961, 0.54204315, 0.51498044, 0.5923961,... -0.366187   \n",
       "2       0840h7ox  [0.106121555, 0.05576863, 0.052235294, 0.09043... -0.304882   \n",
       "3       0awudx2h  [0.5923961, 0.54204315, 0.51498044, 0.5923961,... -0.366407   \n",
       "4       0bb8y85h  [0.5923961, 0.54204315, 0.51498044, 0.5923961,... -0.326343   \n",
       "\n",
       "     h_to_w  jpg  png  other    height     width  logo filetype  \\\n",
       "0  0.638439    0    1      0 -0.712708 -0.888611     1      png   \n",
       "1 -0.187892    0    1      0 -0.861519 -0.943446     1      png   \n",
       "2 -0.463630    1    0      0 -0.713894 -0.682232     0      jpg   \n",
       "3  0.572811    1    0      0 -0.902427 -1.041152     1      jpg   \n",
       "4  0.824832    1    0      0 -0.496310 -0.742052     0      jpg   \n",
       "\n",
       "                       filename  \n",
       "0  Esterdale Theatre - Logo.png  \n",
       "1                 BLUE_LOGO.png  \n",
       "2                  ZEN_LB-5.jpg  \n",
       "3       article central 200.jpg  \n",
       "4     1116-100_WGTank_white.jpg  "
      ]
     },
     "execution_count": 24,
     "metadata": {},
     "output_type": "execute_result"
    }
   ],
   "source": [
    "# Organize df to separate into feature arrays\n",
    "combined_df = combined_df[['attachment_key', 'pixel_array', 'size_mb', 'h_to_w', 'jpg', 'png', 'other',\n",
    "                                     'height', 'width', 'logo', 'filetype', 'filename']]\n",
    "combined_df.head()"
   ]
  },
  {
   "cell_type": "code",
   "execution_count": 25,
   "metadata": {},
   "outputs": [
    {
     "name": "stdout",
     "output_type": "stream",
     "text": [
      "(3754, 150528)\n"
     ]
    }
   ],
   "source": [
    "# y array contains logo/not logo binary variable\n",
    "y = np.array(combined_df.iloc[:, 9])\n",
    "\n",
    "# X array contains pixel array only\n",
    "X = np.array(combined_df['pixel_array'].tolist())\n",
    "print(X.shape)\n"
   ]
  },
  {
   "cell_type": "code",
   "execution_count": 27,
   "metadata": {},
   "outputs": [],
   "source": [
    "# Reduce dimensionality of pixel array\n",
    "ss_pixel = StandardScaler()\n",
    "XS = ss_pixel.fit_transform(X)\n",
    "pixel_reduced = reduce(XS,2)\n",
    "X_reduced = pixel_reduced\n",
    "\n",
    "nopixel_X = np.array(combined_df.iloc[:, 2:7].values)\n",
    "ss_nopixel = StandardScaler()\n",
    "nopixel_XS = ss_nopixel.fit_transform(nopixel_X)\n",
    "nopixel_reduced = reduce(nopixel_XS,2)\n",
    "\n",
    "combined_X = np.concatenate((nopixel_X, X), axis = 1)\n",
    "ss_combined = StandardScaler()\n",
    "combined_XS = ss_nopixel.fit_transform(combined_X)\n",
    "combined_reduced = reduce(combined_XS,2)\n",
    "\n",
    "colors = ['r' if label == 0 else 'g' for label in y]"
   ]
  },
  {
   "cell_type": "code",
   "execution_count": null,
   "metadata": {},
   "outputs": [],
   "source": [
    "PCA_visualization(pixel_reduced,'PCA - Pixel Only', colors)\n",
    "PCA_visualization(nopixel_reduced,'PCA - No Pixel Data', colors)\n",
    "PCA_visualization(combined_reduced,'PCA - Pixel and Other Data', colors)\n"
   ]
  },
  {
   "cell_type": "markdown",
   "metadata": {},
   "source": [
    "6.6 Create alternate X arrays with metadata features"
   ]
  },
  {
   "cell_type": "code",
   "execution_count": 28,
   "metadata": {},
   "outputs": [
    {
     "name": "stdout",
     "output_type": "stream",
     "text": [
      "(3754, 9)\n",
      "(3754, 7)\n",
      "(3754, 4)\n",
      "(3754, 5)\n",
      "(3754, 7)\n",
      "(3754, 5)\n",
      "(3754, 150533)\n"
     ]
    }
   ],
   "source": [
    "# Create variations of X array with reduced pixel data and different metadata features\n",
    "\n",
    "# X2 array contains pixel features, size, height, width, h_to_w, filetype dummies\n",
    "X2 = np.concatenate((pixel_reduced, np.array(combined_df.iloc[:, 2:9])),axis=1)\n",
    "print(X2.shape)\n",
    "\n",
    "# X3 array contains pixel features, size, h_to_w, filetype dummies\n",
    "X3 = np.concatenate((pixel_reduced, np.array(combined_df.iloc[:, 2:7])),axis=1)\n",
    "print(X3.shape)\n",
    "\n",
    "# X4 array contains pixel array, size, h_to_w\n",
    "X4 = np.concatenate((pixel_reduced, np.array(combined_df.iloc[:, 2:4])),axis=1)\n",
    "print(X4.shape)\n",
    "\n",
    "# X5 array contains pixel array, filetype dummies \n",
    "X5 = np.concatenate((pixel_reduced, np.array(combined_df.iloc[:, 4:7])),axis=1)\n",
    "print(X5.shape)\n",
    "\n",
    "# X6 array contains size, height, width, h_to_w, filetype\n",
    "X6 = np.array(combined_df.iloc[:, 2:9])\n",
    "print(X6.shape)\n",
    "\n",
    "# X7 array contains size, h_to_w, filetype\n",
    "X7 = np.array(combined_df.iloc[:, 2:7])\n",
    "print(X7.shape)\n",
    "\n",
    "# X8 array contains full pixel array, size, h_to_w, filetype\n",
    "X8 = np.concatenate((X, X7), axis=1)\n",
    "print(X8.shape)"
   ]
  },
  {
   "cell_type": "markdown",
   "metadata": {},
   "source": [
    "6.7 Split each set of features into train, development, and test data"
   ]
  },
  {
   "cell_type": "code",
   "execution_count": 29,
   "metadata": {},
   "outputs": [
    {
     "name": "stdout",
     "output_type": "stream",
     "text": [
      "Train data shape: (2252, 2)\n",
      "Dev data shape: (751, 2)\n",
      "Mini_train data shape: (100, 2)\n",
      "Train data shape: (2252, 9)\n",
      "Dev data shape: (751, 9)\n",
      "Mini_train data shape: (100, 9)\n",
      "Train data shape: (2252, 7)\n",
      "Dev data shape: (751, 7)\n",
      "Mini_train data shape: (100, 7)\n",
      "Train data shape: (2252, 4)\n",
      "Dev data shape: (751, 4)\n",
      "Mini_train data shape: (100, 4)\n",
      "Train data shape: (2252, 5)\n",
      "Dev data shape: (751, 5)\n",
      "Mini_train data shape: (100, 5)\n",
      "Train data shape: (2252, 7)\n",
      "Dev data shape: (751, 7)\n",
      "Mini_train data shape: (100, 7)\n",
      "Train data shape: (2252, 5)\n",
      "Dev data shape: (751, 5)\n",
      "Mini_train data shape: (100, 5)\n",
      "Train data shape: (2252, 150533)\n",
      "Dev data shape: (751, 150533)\n",
      "Mini_train data shape: (100, 150533)\n"
     ]
    }
   ],
   "source": [
    "# Split all feature combinations into train, test data\n",
    "train_data, train_labels, test_data, test_labels, dev_data, dev_labels, mini_train_data, mini_train_labels = data_split(X_reduced, y, 0.4, 100)\n",
    "train_data2, train_labels2, test_data2, test_labels2, dev_data2, dev_labels2, mini_train_data2, mini_train_labels2 = data_split(X2, y, 0.4, 100)\n",
    "train_data3, train_labels3, test_data3, test_labels3, dev_data3, dev_labels3, mini_train_data3, mini_train_labels3 = data_split(X3, y, 0.4, 100)\n",
    "train_data4, train_labels4, test_data4, test_labels4, dev_data4, dev_labels4, mini_train_data4, mini_train_labels4 = data_split(X4, y, 0.4, 100)\n",
    "train_data5, train_labels5, test_data5, test_labels5, dev_data5, dev_labels5, mini_train_data5, mini_train_labels5 = data_split(X5, y, 0.4, 100)\n",
    "train_data6, train_labels6, test_data6, test_labels6, dev_data6, dev_labels6, mini_train_data6, mini_train_labels6 = data_split(X6, y, 0.4, 100)\n",
    "train_data7, train_labels7, test_data7, test_labels7, dev_data7, dev_labels7, mini_train_data7, mini_train_labels7 = data_split(X7, y, 0.4, 100)\n",
    "train_data8, train_labels8, test_data8, test_labels8, dev_data8, dev_labels8, mini_train_data8, mini_train_labels8 = data_split(X8, y, 0.4, 100)"
   ]
  },
  {
   "cell_type": "markdown",
   "metadata": {},
   "source": [
    "**Step 7: Logistic Regression**"
   ]
  },
  {
   "cell_type": "markdown",
   "metadata": {},
   "source": [
    "7.1 Run logistic regression for pixel data only"
   ]
  },
  {
   "cell_type": "code",
   "execution_count": null,
   "metadata": {},
   "outputs": [],
   "source": [
    "# Pixel array only\n",
    "# Run LR and output best accuracy with c value\n",
    "print('Features: pixel features only\\nBest Accuracy: {}, c={}'.format(\n",
    "    LR_accuracy_c(train_data, train_labels, dev_data, dev_labels)[0],\n",
    "    LR_accuracy_c(train_data, train_labels, dev_data, dev_labels)[1]))"
   ]
  },
  {
   "cell_type": "markdown",
   "metadata": {},
   "source": [
    "7.2 Run logistic regression for all feature combinations"
   ]
  },
  {
   "cell_type": "code",
   "execution_count": 61,
   "metadata": {},
   "outputs": [
    {
     "name": "stdout",
     "output_type": "stream",
     "text": [
      "Features: pixel features, size, height, width, h_to_w, filetype dummies\n",
      "Best Accuracy: 0.858, c=0.1\n",
      "\n",
      "Features: pixel features, size, h_to_w, filetype dummies\n",
      "Best Accuracy: 0.849, c=2.0\n",
      "\n",
      "Features: pixel features, size, h_to_w\n",
      "Best Accuracy: 0.768, c=0.3\n",
      "\n",
      "Features: pixel features, filetype dummies\n",
      "Best Accuracy: 0.822, c=0.2\n",
      "\n",
      "Features: size, height, width, h_to_w, filetype\n",
      "Best Accuracy: 0.845, c=0.1\n",
      "\n",
      "Features: size, h_to_w, filetype\n",
      "Best Accuracy: 0.849, c=0.01\n",
      "\n"
     ]
    }
   ],
   "source": [
    "# Run LR and output best accuracies with c values for each combination of features\n",
    "print('Features: pixel features, size, height, width, h_to_w, filetype dummies\\nBest Accuracy: {}, c={}\\n'.format(\n",
    "    LR_accuracy_c(train_data2, train_labels2, dev_data2, dev_labels2)[0],\n",
    "    LR_accuracy_c(train_data2, train_labels2, dev_data2, dev_labels2)[1]))\n",
    "\n",
    "print('Features: pixel features, size, h_to_w, filetype dummies\\nBest Accuracy: {}, c={}\\n'.format(\n",
    "    LR_accuracy_c(train_data3, train_labels3, dev_data3, dev_labels3)[0],\n",
    "    LR_accuracy_c(train_data3, train_labels3, dev_data3, dev_labels3)[1]))\n",
    "\n",
    "print('Features: pixel features, size, h_to_w\\nBest Accuracy: {}, c={}\\n'.format(\n",
    "    LR_accuracy_c(train_data4, train_labels4, dev_data4, dev_labels4)[0],\n",
    "    LR_accuracy_c(train_data4, train_labels4, dev_data4, dev_labels4)[1]))\n",
    "\n",
    "print('Features: pixel features, filetype dummies\\nBest Accuracy: {}, c={}\\n'.format(\n",
    "    LR_accuracy_c(train_data5, train_labels5, dev_data5, dev_labels5)[0],\n",
    "    LR_accuracy_c(train_data5, train_labels5, dev_data5, dev_labels5)[1]))\n",
    "\n",
    "print('Features: size, height, width, h_to_w, filetype\\nBest Accuracy: {}, c={}\\n'.format(\n",
    "    LR_accuracy_c(train_data6, train_labels6, dev_data6, dev_labels6)[0],\n",
    "    LR_accuracy_c(train_data6, train_labels6, dev_data6, dev_labels6)[1]))\n",
    "\n",
    "print('Features: size, h_to_w, filetype\\nBest Accuracy: {}, c={}\\n'.format(\n",
    "    LR_accuracy_c(train_data7, train_labels7, dev_data7, dev_labels7)[0],\n",
    "    LR_accuracy_c(train_data7, train_labels7, dev_data7, dev_labels7)[1]))"
   ]
  },
  {
   "cell_type": "code",
   "execution_count": 37,
   "metadata": {},
   "outputs": [
    {
     "name": "stdout",
     "output_type": "stream",
     "text": [
      "Features: pixel array reduced to 1 dimensions, size, h_to_w, filetype\n",
      "Best Accuracy: 0.861, c=0.1\n",
      "\n"
     ]
    }
   ],
   "source": [
    "#Determine best k value for PCA of pixel data\n",
    "k_list = [i for i in range(1,15)]\n",
    "logreg_results = PCA_k_optimize(train_data8, train_labels8, dev_data8, dev_labels8, k_list)\n",
    "accuracies = logreg_results[0]\n",
    "c_vals = logreg_results[1]\n",
    "max_index = accuracies.index(max(accuracies))\n",
    "max_acc = accuracies[max_index]\n",
    "max_c = c_vals[max_index]\n",
    "max_k = k_list[max_index]\n",
    "print('Features: pixel array reduced to {0} dimensions, size, h_to_w, filetype\\nBest Accuracy: {1}, c={2}\\n'.format(max_k, max_acc, max_c))"
   ]
  },
  {
   "cell_type": "code",
   "execution_count": 49,
   "metadata": {},
   "outputs": [
    {
     "data": {
      "image/png": "[encoded data removed]",
      "text/plain": [
       "<Figure size 576x576 with 1 Axes>"
      ]
     },
     "metadata": {
      "needs_background": "light"
     },
     "output_type": "display_data"
    }
   ],
   "source": [
    "fig = plt.figure(figsize = (8,8))\n",
    "ax = fig.add_subplot(1,1,1) \n",
    "ax.set_xlabel('PCA k value', fontsize = 15)\n",
    "ax.set_ylabel('Max accuracy', fontsize = 15)\n",
    "ax.set_title(\"PCA k value vs. maximum accuracy\", fontsize = 20)\n",
    "ax.scatter(k_list, accuracies, s = 25)\n",
    "for c in c_vals:\n",
    "    plt.annotate(\"C={}\".format(c), (k_list[c_vals.index(c)], accuracies[c_vals.index(c)]), textcoords=\"offset points\", xytext=(0,10), ha='center')\n",
    "ax.grid()"
   ]
  },
  {
   "cell_type": "markdown",
   "metadata": {},
   "source": [
    "**Step 8: Multilayer NN**"
   ]
  },
  {
   "cell_type": "markdown",
   "metadata": {},
   "source": [
    "8.1 Build a single-layer dense neural network using Keras Tuner so that we can easily tune the hyperparameters."
   ]
  },
  {
   "cell_type": "code",
   "execution_count": 35,
   "metadata": {},
   "outputs": [],
   "source": [
    "# Instantiate the tuner to perform hypertuning using the Hyperband tuner and the model_builder function we defined initially.\n",
    "tuner = kt.Hyperband(model_builder,\n",
    "                     objective = 'val_accuracy', \n",
    "                     max_epochs = 10,\n",
    "                     factor = 3,\n",
    "                     directory = '/Users/alyssaaugsburger/Documents/Berkeley_MIDS/W207/Final_Project',\n",
    "                     project_name = 'keras_tuner_results')    "
   ]
  },
  {
   "cell_type": "code",
   "execution_count": 38,
   "metadata": {},
   "outputs": [
    {
     "data": {
      "text/html": [
       "<span style=\"color:#4527A0\"><h1 style=\"font-size:18px\">Trial complete</h1></span>"
      ],
      "text/plain": [
       "<IPython.core.display.HTML object>"
      ]
     },
     "metadata": {},
     "output_type": "display_data"
    },
    {
     "data": {
      "text/html": [
       "<span style=\"color:#4527A0\"><h1 style=\"font-size:18px\">Trial summary</h1></span>"
      ],
      "text/plain": [
       "<IPython.core.display.HTML object>"
      ]
     },
     "metadata": {},
     "output_type": "display_data"
    },
    {
     "data": {
      "text/html": [
       "<span style=\"color:cyan\"> |-Trial ID: 7ba2e7092df9140ca663ccfb64b63b0f</span>"
      ],
      "text/plain": [
       "<IPython.core.display.HTML object>"
      ]
     },
     "metadata": {},
     "output_type": "display_data"
    },
    {
     "data": {
      "text/html": [
       "<span style=\"color:cyan\"> |-Score: 0.5685752034187317</span>"
      ],
      "text/plain": [
       "<IPython.core.display.HTML object>"
      ]
     },
     "metadata": {},
     "output_type": "display_data"
    },
    {
     "data": {
      "text/html": [
       "<span style=\"color:cyan\"> |-Best step: 0</span>"
      ],
      "text/plain": [
       "<IPython.core.display.HTML object>"
      ]
     },
     "metadata": {},
     "output_type": "display_data"
    },
    {
     "data": {
      "text/html": [
       "<span style=\"color:#7E57C2\"><h2 style=\"font-size:16px\">Hyperparameters:</h2></span>"
      ],
      "text/plain": [
       "<IPython.core.display.HTML object>"
      ]
     },
     "metadata": {},
     "output_type": "display_data"
    },
    {
     "data": {
      "text/html": [
       "<span style=\"color:cyan\"> |-learning_rate: 0.01</span>"
      ],
      "text/plain": [
       "<IPython.core.display.HTML object>"
      ]
     },
     "metadata": {},
     "output_type": "display_data"
    },
    {
     "data": {
      "text/html": [
       "<span style=\"color:blue\"> |-tuner/bracket: 0</span>"
      ],
      "text/plain": [
       "<IPython.core.display.HTML object>"
      ]
     },
     "metadata": {},
     "output_type": "display_data"
    },
    {
     "data": {
      "text/html": [
       "<span style=\"color:cyan\"> |-tuner/epochs: 10</span>"
      ],
      "text/plain": [
       "<IPython.core.display.HTML object>"
      ]
     },
     "metadata": {},
     "output_type": "display_data"
    },
    {
     "data": {
      "text/html": [
       "<span style=\"color:blue\"> |-tuner/initial_epoch: 0</span>"
      ],
      "text/plain": [
       "<IPython.core.display.HTML object>"
      ]
     },
     "metadata": {},
     "output_type": "display_data"
    },
    {
     "data": {
      "text/html": [
       "<span style=\"color:cyan\"> |-tuner/round: 0</span>"
      ],
      "text/plain": [
       "<IPython.core.display.HTML object>"
      ]
     },
     "metadata": {},
     "output_type": "display_data"
    },
    {
     "data": {
      "text/html": [
       "<span style=\"color:blue\"> |-units: 352</span>"
      ],
      "text/plain": [
       "<IPython.core.display.HTML object>"
      ]
     },
     "metadata": {},
     "output_type": "display_data"
    },
    {
     "name": "stdout",
     "output_type": "stream",
     "text": [
      "INFO:tensorflow:Oracle triggered exit\n",
      "\n",
      "The hyperparameter search is complete. The optimal number of units in the first densely-connected\n",
      "layer is 384 and the optimal learning rate for the optimizer\n",
      "is 0.0001.\n",
      "\n"
     ]
    }
   ],
   "source": [
    "# Run the hyperparameter search\n",
    "tuner.search(train_data, train_labels, epochs = 10, validation_data = (dev_data,dev_labels), callbacks = [ClearTrainingOutput()])\n",
    "\n",
    "# Get the optimal hyperparameters\n",
    "best_hps = tuner.get_best_hyperparameters(num_trials = 1)[0]\n",
    "\n",
    "# Print the results\n",
    "print(f\"\"\"\n",
    "The hyperparameter search is complete. The optimal number of units in the first densely-connected\n",
    "layer is {best_hps.get('units')} and the optimal learning rate for the optimizer\n",
    "is {best_hps.get('learning_rate')}.\n",
    "\"\"\")"
   ]
  },
  {
   "cell_type": "code",
   "execution_count": 40,
   "metadata": {},
   "outputs": [
    {
     "name": "stdout",
     "output_type": "stream",
     "text": [
      "Epoch 1/10\n",
      "71/71 [==============================] - ETA: 0s - loss: 0.7506 - accuracy: 0.53 - ETA: 0s - loss: 0.7391 - accuracy: 0.56 - 0s 2ms/step - loss: 0.7409 - accuracy: 0.5599 - val_loss: 0.7363 - val_accuracy: 0.5686\n",
      "Epoch 2/10\n",
      "71/71 [==============================] - ETA: 0s - loss: 0.7517 - accuracy: 0.56 - ETA: 0s - loss: 0.6753 - accuracy: 0.60 - 0s 1ms/step - loss: 0.6705 - accuracy: 0.6128 - val_loss: 0.6655 - val_accuracy: 0.6285\n",
      "Epoch 3/10\n",
      "71/71 [==============================] - ETA: 0s - loss: 0.5816 - accuracy: 0.68 - ETA: 0s - loss: 0.6523 - accuracy: 0.64 - 0s 1ms/step - loss: 0.6519 - accuracy: 0.6430 - val_loss: 0.6549 - val_accuracy: 0.6312\n",
      "Epoch 4/10\n",
      "71/71 [==============================] - ETA: 0s - loss: 0.5502 - accuracy: 0.75 - ETA: 0s - loss: 0.6375 - accuracy: 0.64 - 0s 1ms/step - loss: 0.6358 - accuracy: 0.6510 - val_loss: 0.6447 - val_accuracy: 0.6418\n",
      "Epoch 5/10\n",
      "71/71 [==============================] - ETA: 0s - loss: 0.6399 - accuracy: 0.62 - ETA: 0s - loss: 0.6339 - accuracy: 0.64 - 0s 1ms/step - loss: 0.6343 - accuracy: 0.6505 - val_loss: 0.6143 - val_accuracy: 0.6511\n",
      "Epoch 6/10\n",
      "71/71 [==============================] - ETA: 0s - loss: 0.5312 - accuracy: 0.75 - ETA: 0s - loss: 0.6247 - accuracy: 0.65 - 0s 1ms/step - loss: 0.6254 - accuracy: 0.6563 - val_loss: 0.6137 - val_accuracy: 0.6778\n",
      "Epoch 7/10\n",
      "71/71 [==============================] - ETA: 0s - loss: 0.6427 - accuracy: 0.62 - ETA: 0s - loss: 0.6171 - accuracy: 0.65 - 0s 1ms/step - loss: 0.6196 - accuracy: 0.6545 - val_loss: 0.6196 - val_accuracy: 0.6511\n",
      "Epoch 8/10\n",
      "71/71 [==============================] - ETA: 0s - loss: 0.6230 - accuracy: 0.62 - ETA: 0s - loss: 0.6162 - accuracy: 0.66 - 0s 2ms/step - loss: 0.6168 - accuracy: 0.6590 - val_loss: 0.6149 - val_accuracy: 0.6525\n",
      "Epoch 9/10\n",
      "71/71 [==============================] - ETA: 0s - loss: 0.6513 - accuracy: 0.62 - ETA: 0s - loss: 0.6136 - accuracy: 0.66 - 0s 1ms/step - loss: 0.6151 - accuracy: 0.6599 - val_loss: 0.6167 - val_accuracy: 0.6605\n",
      "Epoch 10/10\n",
      "71/71 [==============================] - ETA: 0s - loss: 0.5533 - accuracy: 0.78 - ETA: 0s - loss: 0.6155 - accuracy: 0.65 - 0s 1ms/step - loss: 0.6144 - accuracy: 0.6550 - val_loss: 0.6133 - val_accuracy: 0.6631\n"
     ]
    },
    {
     "data": {
      "text/plain": [
       "<tensorflow.python.keras.callbacks.History at 0x7fafefd99278>"
      ]
     },
     "execution_count": 40,
     "metadata": {},
     "output_type": "execute_result"
    }
   ],
   "source": [
    "# Build the model with the optimal hyperparameters and train it on the data\n",
    "model = tuner.hypermodel.build(best_hps)\n",
    "model.fit(train_data, train_labels, epochs = 10, validation_data = (dev_data, dev_labels))"
   ]
  },
  {
   "cell_type": "markdown",
   "metadata": {},
   "source": [
    "8.2 Build a multi-layer dense neural network."
   ]
  },
  {
   "cell_type": "code",
   "execution_count": 70,
   "metadata": {},
   "outputs": [
    {
     "name": "stdout",
     "output_type": "stream",
     "text": [
      "Epoch 1/50\n",
      "71/71 [==============================] - ETA: 0s - loss: 17.7482 - accuracy: 0.468 - ETA: 0s - loss: 12.1404 - accuracy: 0.539 - 0s 992us/step - loss: 10.3425 - accuracy: 0.5413\n",
      "Epoch 2/50\n",
      "71/71 [==============================] - ETA: 0s - loss: 3.5368 - accuracy: 0.59 - ETA: 0s - loss: 3.9771 - accuracy: 0.57 - 0s 1ms/step - loss: 4.1478 - accuracy: 0.5653\n",
      "Epoch 3/50\n",
      "71/71 [==============================] - ETA: 0s - loss: 1.6871 - accuracy: 0.68 - ETA: 0s - loss: 3.8072 - accuracy: 0.58 - 0s 968us/step - loss: 3.9152 - accuracy: 0.5861\n",
      "Epoch 4/50\n",
      "71/71 [==============================] - ETA: 0s - loss: 5.0047 - accuracy: 0.50 - ETA: 0s - loss: 3.8582 - accuracy: 0.57 - 0s 960us/step - loss: 3.8989 - accuracy: 0.5830\n",
      "Epoch 5/50\n",
      "71/71 [==============================] - ETA: 0s - loss: 3.2401 - accuracy: 0.62 - ETA: 0s - loss: 3.7560 - accuracy: 0.57 - 0s 963us/step - loss: 3.7446 - accuracy: 0.5768\n",
      "Epoch 6/50\n",
      "71/71 [==============================] - ETA: 0s - loss: 3.3498 - accuracy: 0.59 - ETA: 0s - loss: 3.6981 - accuracy: 0.57 - 0s 977us/step - loss: 3.6609 - accuracy: 0.5870\n",
      "Epoch 7/50\n",
      "71/71 [==============================] - ETA: 0s - loss: 4.4459 - accuracy: 0.62 - ETA: 0s - loss: 3.9052 - accuracy: 0.60 - 0s 947us/step - loss: 3.7525 - accuracy: 0.6057\n",
      "Epoch 8/50\n",
      "71/71 [==============================] - ETA: 0s - loss: 1.8433 - accuracy: 0.71 - ETA: 0s - loss: 3.4519 - accuracy: 0.60 - 0s 978us/step - loss: 3.4610 - accuracy: 0.6030\n",
      "Epoch 9/50\n",
      "71/71 [==============================] - ETA: 0s - loss: 3.2138 - accuracy: 0.56 - ETA: 0s - loss: 3.2759 - accuracy: 0.60 - 0s 1ms/step - loss: 3.4754 - accuracy: 0.6017\n",
      "Epoch 10/50\n",
      "71/71 [==============================] - ETA: 0s - loss: 5.3914 - accuracy: 0.46 - ETA: 0s - loss: 3.3328 - accuracy: 0.61 - 0s 1ms/step - loss: 3.2702 - accuracy: 0.6066\n",
      "Epoch 11/50\n",
      "71/71 [==============================] - ETA: 0s - loss: 0.8022 - accuracy: 0.75 - ETA: 0s - loss: 3.1867 - accuracy: 0.62 - 0s 1ms/step - loss: 3.1773 - accuracy: 0.6190\n",
      "Epoch 12/50\n",
      "71/71 [==============================] - ETA: 0s - loss: 2.5089 - accuracy: 0.65 - ETA: 0s - loss: 3.4437 - accuracy: 0.59 - 0s 974us/step - loss: 3.3425 - accuracy: 0.5990\n",
      "Epoch 13/50\n",
      "71/71 [==============================] - ETA: 0s - loss: 3.3589 - accuracy: 0.53 - ETA: 0s - loss: 3.1846 - accuracy: 0.61 - 0s 994us/step - loss: 3.1387 - accuracy: 0.6137\n",
      "Epoch 14/50\n",
      "71/71 [==============================] - ETA: 0s - loss: 1.7414 - accuracy: 0.68 - ETA: 0s - loss: 2.6041 - accuracy: 0.65 - 0s 1ms/step - loss: 2.8036 - accuracy: 0.6381\n",
      "Epoch 15/50\n",
      "71/71 [==============================] - ETA: 0s - loss: 3.3578 - accuracy: 0.59 - ETA: 0s - loss: 3.0535 - accuracy: 0.61 - 0s 1ms/step - loss: 3.0637 - accuracy: 0.6217\n",
      "Epoch 16/50\n",
      "71/71 [==============================] - ETA: 0s - loss: 2.6094 - accuracy: 0.71 - ETA: 0s - loss: 2.9051 - accuracy: 0.64 - 0s 998us/step - loss: 3.0604 - accuracy: 0.6310\n",
      "Epoch 17/50\n",
      "71/71 [==============================] - ETA: 0s - loss: 3.5200 - accuracy: 0.62 - ETA: 0s - loss: 2.7761 - accuracy: 0.63 - 0s 1ms/step - loss: 2.7626 - accuracy: 0.6301\n",
      "Epoch 18/50\n",
      "71/71 [==============================] - ETA: 0s - loss: 1.7893 - accuracy: 0.65 - ETA: 0s - loss: 2.7078 - accuracy: 0.63 - 0s 1ms/step - loss: 2.6627 - accuracy: 0.6408\n",
      "Epoch 19/50\n",
      "71/71 [==============================] - ETA: 0s - loss: 1.7868 - accuracy: 0.71 - ETA: 0s - loss: 2.6530 - accuracy: 0.66 - 0s 993us/step - loss: 2.5508 - accuracy: 0.6665\n",
      "Epoch 20/50\n",
      "71/71 [==============================] - ETA: 0s - loss: 0.8193 - accuracy: 0.71 - ETA: 0s - loss: 2.6242 - accuracy: 0.65 - 0s 989us/step - loss: 2.5987 - accuracy: 0.6567\n",
      "Epoch 21/50\n",
      "71/71 [==============================] - ETA: 0s - loss: 1.9641 - accuracy: 0.68 - ETA: 0s - loss: 2.6743 - accuracy: 0.64 - 0s 1ms/step - loss: 2.6662 - accuracy: 0.6461\n",
      "Epoch 22/50\n",
      "71/71 [==============================] - ETA: 0s - loss: 1.6345 - accuracy: 0.59 - ETA: 0s - loss: 2.5651 - accuracy: 0.64 - 0s 1ms/step - loss: 2.5057 - accuracy: 0.6474\n",
      "Epoch 23/50\n",
      "71/71 [==============================] - ETA: 0s - loss: 2.8361 - accuracy: 0.59 - ETA: 0s - loss: 2.4515 - accuracy: 0.65 - 0s 918us/step - loss: 2.4411 - accuracy: 0.6496\n",
      "Epoch 24/50\n",
      "71/71 [==============================] - ETA: 0s - loss: 2.5245 - accuracy: 0.68 - ETA: 0s - loss: 2.3983 - accuracy: 0.65 - 0s 1ms/step - loss: 2.4143 - accuracy: 0.6621\n",
      "Epoch 25/50\n",
      "71/71 [==============================] - ETA: 0s - loss: 2.2142 - accuracy: 0.68 - ETA: 0s - loss: 2.5894 - accuracy: 0.66 - 0s 1ms/step - loss: 2.3994 - accuracy: 0.6723\n",
      "Epoch 26/50\n",
      "71/71 [==============================] - ETA: 0s - loss: 2.7479 - accuracy: 0.62 - ETA: 0s - loss: 2.2022 - accuracy: 0.67 - 0s 1ms/step - loss: 2.2664 - accuracy: 0.6687\n",
      "Epoch 27/50\n",
      "71/71 [==============================] - ETA: 0s - loss: 2.9631 - accuracy: 0.65 - ETA: 0s - loss: 2.2363 - accuracy: 0.65 - 0s 1ms/step - loss: 2.2753 - accuracy: 0.6567\n",
      "Epoch 28/50\n",
      "71/71 [==============================] - ETA: 0s - loss: 1.5893 - accuracy: 0.65 - ETA: 0s - loss: 2.1660 - accuracy: 0.67 - 0s 1ms/step - loss: 2.0629 - accuracy: 0.6794\n",
      "Epoch 29/50\n",
      "71/71 [==============================] - ETA: 0s - loss: 1.2214 - accuracy: 0.78 - ETA: 0s - loss: 2.1498 - accuracy: 0.68 - 0s 951us/step - loss: 2.1440 - accuracy: 0.6816\n",
      "Epoch 30/50\n",
      "71/71 [==============================] - ETA: 0s - loss: 1.2642 - accuracy: 0.78 - ETA: 0s - loss: 2.2164 - accuracy: 0.67 - 0s 1ms/step - loss: 2.0466 - accuracy: 0.6852\n",
      "Epoch 31/50\n",
      "71/71 [==============================] - ETA: 0s - loss: 1.1381 - accuracy: 0.78 - ETA: 0s - loss: 2.0575 - accuracy: 0.65 - 0s 994us/step - loss: 2.0266 - accuracy: 0.6607\n",
      "Epoch 32/50\n",
      "71/71 [==============================] - ETA: 0s - loss: 1.9747 - accuracy: 0.75 - ETA: 0s - loss: 1.9926 - accuracy: 0.68 - 0s 964us/step - loss: 2.0066 - accuracy: 0.6794\n",
      "Epoch 33/50\n",
      "71/71 [==============================] - ETA: 0s - loss: 1.3528 - accuracy: 0.75 - ETA: 0s - loss: 1.9861 - accuracy: 0.68 - 0s 965us/step - loss: 1.9487 - accuracy: 0.6856\n",
      "Epoch 34/50\n",
      "71/71 [==============================] - ETA: 0s - loss: 1.6707 - accuracy: 0.71 - ETA: 0s - loss: 1.8274 - accuracy: 0.68 - 0s 955us/step - loss: 1.8407 - accuracy: 0.6869\n",
      "Epoch 35/50\n",
      "71/71 [==============================] - ETA: 0s - loss: 1.7047 - accuracy: 0.71 - ETA: 0s - loss: 1.7818 - accuracy: 0.68 - 0s 985us/step - loss: 1.7149 - accuracy: 0.6869\n",
      "Epoch 36/50\n",
      "71/71 [==============================] - ETA: 0s - loss: 2.0790 - accuracy: 0.65 - ETA: 0s - loss: 1.7931 - accuracy: 0.68 - 0s 1ms/step - loss: 1.7257 - accuracy: 0.7034\n",
      "Epoch 37/50\n",
      "71/71 [==============================] - ETA: 0s - loss: 0.8999 - accuracy: 0.75 - ETA: 0s - loss: 1.8420 - accuracy: 0.69 - 0s 951us/step - loss: 1.8411 - accuracy: 0.6918\n",
      "Epoch 38/50\n",
      "71/71 [==============================] - ETA: 0s - loss: 1.3232 - accuracy: 0.71 - ETA: 0s - loss: 1.7894 - accuracy: 0.68 - 0s 942us/step - loss: 1.7772 - accuracy: 0.6869\n",
      "Epoch 39/50\n",
      "71/71 [==============================] - ETA: 0s - loss: 1.1315 - accuracy: 0.68 - ETA: 0s - loss: 1.6215 - accuracy: 0.71 - 0s 902us/step - loss: 1.6206 - accuracy: 0.7105\n",
      "Epoch 40/50\n",
      "71/71 [==============================] - ETA: 0s - loss: 1.9934 - accuracy: 0.78 - ETA: 0s - loss: 1.5403 - accuracy: 0.71 - 0s 934us/step - loss: 1.6171 - accuracy: 0.7105\n",
      "Epoch 41/50\n",
      "71/71 [==============================] - ETA: 0s - loss: 0.9751 - accuracy: 0.81 - ETA: 0s - loss: 1.6389 - accuracy: 0.70 - 0s 964us/step - loss: 1.6262 - accuracy: 0.7038\n",
      "Epoch 42/50\n",
      "71/71 [==============================] - ETA: 0s - loss: 0.5745 - accuracy: 0.84 - ETA: 0s - loss: 1.6237 - accuracy: 0.69 - 0s 919us/step - loss: 1.6339 - accuracy: 0.6914\n",
      "Epoch 43/50\n",
      "71/71 [==============================] - ETA: 0s - loss: 1.8501 - accuracy: 0.75 - ETA: 0s - loss: 1.4516 - accuracy: 0.71 - 0s 912us/step - loss: 1.5150 - accuracy: 0.7069\n",
      "Epoch 44/50\n",
      "71/71 [==============================] - ETA: 0s - loss: 1.0068 - accuracy: 0.65 - ETA: 0s - loss: 1.4900 - accuracy: 0.72 - 0s 994us/step - loss: 1.4684 - accuracy: 0.7242\n",
      "Epoch 45/50\n"
     ]
    },
    {
     "name": "stdout",
     "output_type": "stream",
     "text": [
      "71/71 [==============================] - ETA: 0s - loss: 1.6839 - accuracy: 0.65 - ETA: 0s - loss: 1.4201 - accuracy: 0.71 - 0s 918us/step - loss: 1.4166 - accuracy: 0.7145\n",
      "Epoch 46/50\n",
      "71/71 [==============================] - ETA: 0s - loss: 1.5288 - accuracy: 0.71 - ETA: 0s - loss: 1.4450 - accuracy: 0.70 - 0s 897us/step - loss: 1.4200 - accuracy: 0.7056\n",
      "Epoch 47/50\n",
      "71/71 [==============================] - ETA: 0s - loss: 1.4837 - accuracy: 0.71 - ETA: 0s - loss: 1.4456 - accuracy: 0.71 - 0s 921us/step - loss: 1.3933 - accuracy: 0.7145\n",
      "Epoch 48/50\n",
      "71/71 [==============================] - ETA: 0s - loss: 1.2029 - accuracy: 0.68 - ETA: 0s - loss: 1.4114 - accuracy: 0.73 - 0s 906us/step - loss: 1.4262 - accuracy: 0.7300\n",
      "Epoch 49/50\n",
      "71/71 [==============================] - ETA: 0s - loss: 1.0987 - accuracy: 0.78 - ETA: 0s - loss: 1.1889 - accuracy: 0.74 - 0s 978us/step - loss: 1.2032 - accuracy: 0.7429\n",
      "Epoch 50/50\n",
      "71/71 [==============================] - ETA: 0s - loss: 1.5382 - accuracy: 0.68 - ETA: 0s - loss: 1.3060 - accuracy: 0.74 - 0s 876us/step - loss: 1.3113 - accuracy: 0.7345\n",
      "24/24 [==============================] - ETA: 0s - loss: 0.5222 - accuracy: 0.81 - 0s 801us/step - loss: 0.5799 - accuracy: 0.7843\n",
      "0.7842876315116882\n"
     ]
    }
   ],
   "source": [
    "# Run an intial model using the parameters from the Keras Tuner model and an intial dropout rate of .2\n",
    "build_model_output = build_model(384, .2, .0001)\n",
    "fit_model_output = fit_model(build_model_output, train_data3, train_labels3, 50)\n",
    "final_accuracy = evaluate_model(build_model_output, dev_data3, dev_labels3)\n",
    "print(final_accuracy)"
   ]
  },
  {
   "cell_type": "markdown",
   "metadata": {},
   "source": [
    "8.3 Tune the hyperparameters to try and improve the accuracy."
   ]
  },
  {
   "cell_type": "code",
   "execution_count": 78,
   "metadata": {},
   "outputs": [
    {
     "name": "stdout",
     "output_type": "stream",
     "text": [
      "Epoch 1/5\n",
      "71/71 [==============================] - ETA: 0s - loss: 14.3289 - accuracy: 0.468 - ETA: 0s - loss: 5.3827 - accuracy: 0.501 - 0s 969us/step - loss: 4.7276 - accuracy: 0.5266\n",
      "Epoch 2/5\n",
      "71/71 [==============================] - ETA: 0s - loss: 3.7875 - accuracy: 0.37 - ETA: 0s - loss: 3.0881 - accuracy: 0.58 - 0s 945us/step - loss: 3.0053 - accuracy: 0.5915\n",
      "Epoch 3/5\n",
      "71/71 [==============================] - ETA: 0s - loss: 3.4592 - accuracy: 0.46 - ETA: 0s - loss: 3.0511 - accuracy: 0.57 - 0s 1ms/step - loss: 3.0293 - accuracy: 0.5719\n",
      "Epoch 4/5\n",
      "71/71 [==============================] - ETA: 0s - loss: 2.3750 - accuracy: 0.65 - ETA: 0s - loss: 2.8806 - accuracy: 0.57 - 0s 954us/step - loss: 2.8475 - accuracy: 0.5839\n",
      "Epoch 5/5\n",
      "71/71 [==============================] - ETA: 0s - loss: 4.2397 - accuracy: 0.56 - ETA: 0s - loss: 2.8106 - accuracy: 0.59 - 0s 1ms/step - loss: 2.8308 - accuracy: 0.5972\n",
      "24/24 [==============================] - ETA: 0s - loss: 1.1347 - accuracy: 0.71 - 0s 725us/step - loss: 1.4259 - accuracy: 0.6245\n",
      "Epoch 1/5\n",
      "71/71 [==============================] - ETA: 0s - loss: 7.4437 - accuracy: 0.46 - ETA: 0s - loss: 5.2540 - accuracy: 0.57 - 0s 995us/step - loss: 5.1432 - accuracy: 0.5719\n",
      "Epoch 2/5\n",
      "71/71 [==============================] - ETA: 0s - loss: 3.7297 - accuracy: 0.56 - ETA: 0s - loss: 4.4169 - accuracy: 0.57 - 0s 1ms/step - loss: 4.3291 - accuracy: 0.5906\n",
      "Epoch 3/5\n",
      "71/71 [==============================] - ETA: 0s - loss: 3.2558 - accuracy: 0.50 - ETA: 0s - loss: 3.9645 - accuracy: 0.58 - 0s 925us/step - loss: 3.9964 - accuracy: 0.5879\n",
      "Epoch 4/5\n",
      "71/71 [==============================] - ETA: 0s - loss: 4.5838 - accuracy: 0.65 - ETA: 0s - loss: 4.0124 - accuracy: 0.59 - 0s 978us/step - loss: 3.8963 - accuracy: 0.6012\n",
      "Epoch 5/5\n",
      "71/71 [==============================] - ETA: 0s - loss: 3.9924 - accuracy: 0.68 - ETA: 0s - loss: 4.3045 - accuracy: 0.56 - 0s 1ms/step - loss: 3.9254 - accuracy: 0.5875\n",
      "24/24 [==============================] - ETA: 0s - loss: 1.2362 - accuracy: 0.68 - 0s 819us/step - loss: 1.6804 - accuracy: 0.6391\n",
      "Epoch 1/5\n",
      "71/71 [==============================] - ETA: 0s - loss: 14.6853 - accuracy: 0.343 - ETA: 0s - loss: 6.5465 - accuracy: 0.534 - 0s 987us/step - loss: 6.2385 - accuracy: 0.5444\n",
      "Epoch 2/5\n",
      "71/71 [==============================] - ETA: 0s - loss: 3.6834 - accuracy: 0.62 - ETA: 0s - loss: 5.3170 - accuracy: 0.55 - 0s 992us/step - loss: 5.4005 - accuracy: 0.5653\n",
      "Epoch 3/5\n",
      "71/71 [==============================] - ETA: 0s - loss: 6.4769 - accuracy: 0.40 - ETA: 0s - loss: 5.7078 - accuracy: 0.57 - 0s 975us/step - loss: 5.6631 - accuracy: 0.5804\n",
      "Epoch 4/5\n",
      "71/71 [==============================] - ETA: 0s - loss: 4.8995 - accuracy: 0.53 - ETA: 0s - loss: 5.4966 - accuracy: 0.56 - 0s 981us/step - loss: 5.5977 - accuracy: 0.5671\n",
      "Epoch 5/5\n",
      "71/71 [==============================] - ETA: 0s - loss: 7.2280 - accuracy: 0.50 - ETA: 0s - loss: 5.4927 - accuracy: 0.58 - 0s 1ms/step - loss: 5.2681 - accuracy: 0.5835\n",
      "24/24 [==============================] - ETA: 0s - loss: 1.6473 - accuracy: 0.65 - 0s 782us/step - loss: 2.3162 - accuracy: 0.6352\n",
      "Epoch 1/5\n",
      "71/71 [==============================] - ETA: 0s - loss: 9.2212 - accuracy: 0.62 - ETA: 0s - loss: 9.4850 - accuracy: 0.51 - 0s 1ms/step - loss: 8.5554 - accuracy: 0.5360\n",
      "Epoch 2/5\n",
      "71/71 [==============================] - ETA: 0s - loss: 7.6507 - accuracy: 0.59 - ETA: 0s - loss: 5.9381 - accuracy: 0.60 - 0s 969us/step - loss: 6.0738 - accuracy: 0.6017\n",
      "Epoch 3/5\n",
      "71/71 [==============================] - ETA: 0s - loss: 6.7007 - accuracy: 0.59 - ETA: 0s - loss: 6.1830 - accuracy: 0.57 - 0s 1ms/step - loss: 6.0935 - accuracy: 0.5853\n",
      "Epoch 4/5\n",
      "71/71 [==============================] - ETA: 0s - loss: 5.6413 - accuracy: 0.53 - ETA: 0s - loss: 6.1357 - accuracy: 0.58 - 0s 1ms/step - loss: 6.2969 - accuracy: 0.5804\n",
      "Epoch 5/5\n",
      "71/71 [==============================] - ETA: 0s - loss: 6.6786 - accuracy: 0.62 - ETA: 0s - loss: 5.9910 - accuracy: 0.59 - 0s 1ms/step - loss: 5.8660 - accuracy: 0.5915\n",
      "24/24 [==============================] - ETA: 0s - loss: 1.8454 - accuracy: 0.68 - 0s 700us/step - loss: 2.6964 - accuracy: 0.6405\n",
      "Epoch 1/5\n",
      "71/71 [==============================] - ETA: 0s - loss: 25.7654 - accuracy: 0.312 - ETA: 0s - loss: 11.6714 - accuracy: 0.519 - 0s 1ms/step - loss: 10.7502 - accuracy: 0.5346\n",
      "Epoch 2/5\n",
      "71/71 [==============================] - ETA: 0s - loss: 7.7163 - accuracy: 0.56 - ETA: 0s - loss: 8.4815 - accuracy: 0.57 - 0s 1ms/step - loss: 8.0682 - accuracy: 0.5848\n",
      "Epoch 3/5\n",
      "71/71 [==============================] - ETA: 0s - loss: 9.6780 - accuracy: 0.62 - ETA: 0s - loss: 7.9604 - accuracy: 0.56 - 0s 1ms/step - loss: 8.0758 - accuracy: 0.5728\n",
      "Epoch 4/5\n",
      "71/71 [==============================] - ETA: 0s - loss: 5.2533 - accuracy: 0.62 - ETA: 0s - loss: 8.0123 - accuracy: 0.58 - 0s 962us/step - loss: 8.0483 - accuracy: 0.5724\n",
      "Epoch 5/5\n",
      "71/71 [==============================] - ETA: 0s - loss: 5.4140 - accuracy: 0.53 - ETA: 0s - loss: 6.7000 - accuracy: 0.59 - 0s 888us/step - loss: 6.7597 - accuracy: 0.5897\n",
      "24/24 [==============================] - ETA: 0s - loss: 2.0780 - accuracy: 0.68 - 0s 743us/step - loss: 2.9824 - accuracy: 0.6365\n",
      "Epoch 1/5\n",
      "71/71 [==============================] - ETA: 0s - loss: 21.3305 - accuracy: 0.562 - ETA: 0s - loss: 14.2982 - accuracy: 0.512 - 0s 1ms/step - loss: 13.5708 - accuracy: 0.5178\n",
      "Epoch 2/5\n",
      "71/71 [==============================] - ETA: 0s - loss: 15.2313 - accuracy: 0.531 - ETA: 0s - loss: 10.7662 - accuracy: 0.568 - 0s 1ms/step - loss: 10.6035 - accuracy: 0.5675\n",
      "Epoch 3/5\n",
      "71/71 [==============================] - ETA: 0s - loss: 12.3844 - accuracy: 0.500 - ETA: 0s - loss: 9.5824 - accuracy: 0.573 - 0s 1ms/step - loss: 9.4717 - accuracy: 0.5777\n",
      "Epoch 4/5\n",
      "71/71 [==============================] - ETA: 0s - loss: 7.5560 - accuracy: 0.59 - ETA: 0s - loss: 9.9545 - accuracy: 0.59 - 0s 1ms/step - loss: 9.5799 - accuracy: 0.5861\n",
      "Epoch 5/5\n",
      "71/71 [==============================] - ETA: 0s - loss: 10.0558 - accuracy: 0.531 - ETA: 0s - loss: 9.9227 - accuracy: 0.558 - 0s 845us/step - loss: 9.6674 - accuracy: 0.5604\n",
      "24/24 [==============================] - ETA: 0s - loss: 3.4078 - accuracy: 0.65 - 0s 749us/step - loss: 4.6834 - accuracy: 0.6258\n",
      "Epoch 1/5\n",
      "71/71 [==============================] - ETA: 0s - loss: 19.1479 - accuracy: 0.531 - ETA: 0s - loss: 15.6638 - accuracy: 0.509 - 0s 1ms/step - loss: 14.9567 - accuracy: 0.5138\n",
      "Epoch 2/5\n",
      "71/71 [==============================] - ETA: 0s - loss: 21.4690 - accuracy: 0.500 - ETA: 0s - loss: 12.7452 - accuracy: 0.551 - 0s 923us/step - loss: 12.6266 - accuracy: 0.5591\n",
      "Epoch 3/5\n",
      "71/71 [==============================] - ETA: 0s - loss: 10.1972 - accuracy: 0.562 - ETA: 0s - loss: 11.3218 - accuracy: 0.576 - 0s 909us/step - loss: 11.4647 - accuracy: 0.5737\n",
      "Epoch 4/5\n",
      "71/71 [==============================] - ETA: 0s - loss: 19.2817 - accuracy: 0.500 - ETA: 0s - loss: 11.8078 - accuracy: 0.577 - 0s 903us/step - loss: 11.5723 - accuracy: 0.5799\n",
      "Epoch 5/5\n",
      "71/71 [==============================] - ETA: 0s - loss: 17.9217 - accuracy: 0.375 - ETA: 0s - loss: 11.2439 - accuracy: 0.561 - 0s 929us/step - loss: 11.1680 - accuracy: 0.5639\n",
      "24/24 [==============================] - ETA: 0s - loss: 3.6811 - accuracy: 0.68 - 0s 735us/step - loss: 5.1952 - accuracy: 0.6165\n",
      "Epoch 1/5\n",
      "71/71 [==============================] - ETA: 0s - loss: 30.8717 - accuracy: 0.500 - ETA: 0s - loss: 20.8907 - accuracy: 0.506 - 0s 987us/step - loss: 20.2529 - accuracy: 0.5160\n",
      "Epoch 2/5\n",
      "71/71 [==============================] - ETA: 0s - loss: 21.3964 - accuracy: 0.593 - ETA: 0s - loss: 16.9984 - accuracy: 0.541 - 0s 907us/step - loss: 16.8634 - accuracy: 0.5395\n",
      "Epoch 3/5\n",
      "71/71 [==============================] - ETA: 0s - loss: 14.1800 - accuracy: 0.687 - ETA: 0s - loss: 15.2731 - accuracy: 0.576 - 0s 824us/step - loss: 15.2365 - accuracy: 0.5777\n",
      "Epoch 4/5\n",
      "71/71 [==============================] - ETA: 0s - loss: 15.2836 - accuracy: 0.718 - ETA: 0s - loss: 14.6684 - accuracy: 0.577 - 0s 862us/step - loss: 14.8465 - accuracy: 0.5755\n",
      "Epoch 5/5\n"
     ]
    },
    {
     "name": "stdout",
     "output_type": "stream",
     "text": [
      "71/71 [==============================] - ETA: 0s - loss: 20.8961 - accuracy: 0.375 - ETA: 0s - loss: 14.3588 - accuracy: 0.567 - 0s 828us/step - loss: 14.3523 - accuracy: 0.5693\n",
      "24/24 [==============================] - ETA: 0s - loss: 4.8334 - accuracy: 0.68 - 0s 820us/step - loss: 6.6237 - accuracy: 0.6192\n",
      "Epoch 1/5\n",
      "71/71 [==============================] - ETA: 0s - loss: 27.7425 - accuracy: 0.531 - ETA: 0s - loss: 27.2521 - accuracy: 0.523 - 0s 965us/step - loss: 26.3546 - accuracy: 0.5280\n",
      "Epoch 2/5\n",
      "71/71 [==============================] - ETA: 0s - loss: 25.1548 - accuracy: 0.593 - ETA: 0s - loss: 23.3568 - accuracy: 0.544 - 0s 902us/step - loss: 22.4850 - accuracy: 0.5520\n",
      "Epoch 3/5\n",
      "71/71 [==============================] - ETA: 0s - loss: 17.3419 - accuracy: 0.656 - ETA: 0s - loss: 20.0826 - accuracy: 0.556 - 0s 841us/step - loss: 20.5965 - accuracy: 0.5560\n",
      "Epoch 4/5\n",
      "71/71 [==============================] - ETA: 0s - loss: 23.4458 - accuracy: 0.468 - ETA: 0s - loss: 21.1349 - accuracy: 0.554 - 0s 826us/step - loss: 21.2899 - accuracy: 0.5546\n",
      "Epoch 5/5\n",
      "71/71 [==============================] - ETA: 0s - loss: 25.3742 - accuracy: 0.656 - ETA: 0s - loss: 17.8094 - accuracy: 0.577 - 0s 817us/step - loss: 17.7983 - accuracy: 0.5866\n",
      "24/24 [==============================] - ETA: 0s - loss: 6.2735 - accuracy: 0.68 - 0s 700us/step - loss: 8.4872 - accuracy: 0.6165\n"
     ]
    }
   ],
   "source": [
    "# Optimize dropout rate\n",
    "# Loop through dropout rates\n",
    "dropout_list = [.1,.2,.3,.4,.5,.6,.7,.8,.9]\n",
    "final_accuracy_dropout_list = []\n",
    "\n",
    "for i in dropout_list:\n",
    "    build_model_output = build_model(384, i, .0001)\n",
    "    fit_model_output = fit_model(build_model_output, train_data3, train_labels3, 5)\n",
    "    final_accuracy = evaluate_model(build_model_output, dev_data3, dev_labels3)\n",
    "    final_accuracy_dropout_list.append(final_accuracy)"
   ]
  },
  {
   "cell_type": "code",
   "execution_count": 80,
   "metadata": {},
   "outputs": [
    {
     "data": {
      "text/plain": [
       "Text(0, 0.5, 'Accuracy')"
      ]
     },
     "execution_count": 80,
     "metadata": {},
     "output_type": "execute_result"
    },
    {
     "data": {
      "image/png": "[encoded data removed]",
      "text/plain": [
       "<Figure size 432x288 with 1 Axes>"
      ]
     },
     "metadata": {
      "needs_background": "light"
     },
     "output_type": "display_data"
    }
   ],
   "source": [
    "# Graph results\n",
    "plt.plot(dropout_list, final_accuracy_dropout_list, marker = \".\")\n",
    "plt.xlabel('Dropout Rate')\n",
    "plt.ylabel('Accuracy')"
   ]
  },
  {
   "cell_type": "code",
   "execution_count": 81,
   "metadata": {},
   "outputs": [
    {
     "name": "stdout",
     "output_type": "stream",
     "text": [
      "Epoch 1/5\n",
      "71/71 [==============================] - ETA: 0s - loss: 12.4117 - accuracy: 0.406 - ETA: 0s - loss: 10.6756 - accuracy: 0.459 - 0s 971us/step - loss: 10.6652 - accuracy: 0.4605\n",
      "Epoch 2/5\n",
      "71/71 [==============================] - ETA: 0s - loss: 3.9994 - accuracy: 0.46 - ETA: 0s - loss: 9.6808 - accuracy: 0.48 - 0s 945us/step - loss: 9.3486 - accuracy: 0.4951\n",
      "Epoch 3/5\n",
      "71/71 [==============================] - ETA: 0s - loss: 7.0511 - accuracy: 0.65 - ETA: 0s - loss: 9.8283 - accuracy: 0.47 - 0s 979us/step - loss: 9.9090 - accuracy: 0.4645\n",
      "Epoch 4/5\n",
      "71/71 [==============================] - ETA: 0s - loss: 8.4655 - accuracy: 0.46 - ETA: 0s - loss: 9.5427 - accuracy: 0.48 - 0s 977us/step - loss: 9.8051 - accuracy: 0.4862\n",
      "Epoch 5/5\n",
      "71/71 [==============================] - ETA: 0s - loss: 6.8546 - accuracy: 0.53 - ETA: 0s - loss: 9.3783 - accuracy: 0.48 - 0s 1ms/step - loss: 9.1644 - accuracy: 0.4813\n",
      "24/24 [==============================] - ETA: 0s - loss: 3.2294 - accuracy: 0.46 - 0s 763us/step - loss: 3.2537 - accuracy: 0.4847\n",
      "Epoch 1/5\n",
      "71/71 [==============================] - ETA: 0s - loss: 21.9346 - accuracy: 0.468 - ETA: 0s - loss: 24.0070 - accuracy: 0.441 - 0s 982us/step - loss: 24.5329 - accuracy: 0.4227\n",
      "Epoch 2/5\n",
      "71/71 [==============================] - ETA: 0s - loss: 20.7990 - accuracy: 0.375 - ETA: 0s - loss: 21.6223 - accuracy: 0.434 - 0s 1ms/step - loss: 21.6591 - accuracy: 0.4334\n",
      "Epoch 3/5\n",
      "71/71 [==============================] - ETA: 0s - loss: 14.1073 - accuracy: 0.500 - ETA: 0s - loss: 19.4080 - accuracy: 0.430 - 0s 926us/step - loss: 19.6489 - accuracy: 0.4267\n",
      "Epoch 4/5\n",
      "71/71 [==============================] - ETA: 0s - loss: 24.2241 - accuracy: 0.406 - ETA: 0s - loss: 17.7435 - accuracy: 0.448 - 0s 1ms/step - loss: 17.2393 - accuracy: 0.4361\n",
      "Epoch 5/5\n",
      "71/71 [==============================] - ETA: 0s - loss: 17.6783 - accuracy: 0.500 - ETA: 0s - loss: 15.7649 - accuracy: 0.446 - 0s 947us/step - loss: 16.0326 - accuracy: 0.4356\n",
      "24/24 [==============================] - ETA: 0s - loss: 8.7993 - accuracy: 0.46 - 0s 762us/step - loss: 9.8274 - accuracy: 0.4474\n",
      "Epoch 1/5\n",
      "71/71 [==============================] - ETA: 0s - loss: 21.8878 - accuracy: 0.406 - ETA: 0s - loss: 11.5936 - accuracy: 0.517 - 0s 1ms/step - loss: 10.6352 - accuracy: 0.5204\n",
      "Epoch 2/5\n",
      "71/71 [==============================] - ETA: 0s - loss: 4.8785 - accuracy: 0.56 - ETA: 0s - loss: 6.2268 - accuracy: 0.57 - 0s 988us/step - loss: 6.5258 - accuracy: 0.5710\n",
      "Epoch 3/5\n",
      "71/71 [==============================] - ETA: 0s - loss: 10.6869 - accuracy: 0.468 - ETA: 0s - loss: 6.6566 - accuracy: 0.576 - 0s 1ms/step - loss: 6.4070 - accuracy: 0.5870\n",
      "Epoch 4/5\n",
      "71/71 [==============================] - ETA: 0s - loss: 5.4686 - accuracy: 0.50 - ETA: 0s - loss: 6.5019 - accuracy: 0.57 - 0s 1ms/step - loss: 6.3110 - accuracy: 0.5808\n",
      "Epoch 5/5\n",
      "71/71 [==============================] - ETA: 0s - loss: 3.6547 - accuracy: 0.59 - ETA: 0s - loss: 5.9688 - accuracy: 0.58 - 0s 1ms/step - loss: 6.2479 - accuracy: 0.5764\n",
      "24/24 [==============================] - ETA: 0s - loss: 2.0783 - accuracy: 0.71 - 0s 710us/step - loss: 2.9383 - accuracy: 0.6378\n",
      "Epoch 1/5\n",
      "71/71 [==============================] - ETA: 0s - loss: 8.0255 - accuracy: 0.56 - ETA: 0s - loss: 6.0430 - accuracy: 0.59 - 0s 971us/step - loss: 5.8785 - accuracy: 0.5901\n",
      "Epoch 2/5\n",
      "71/71 [==============================] - ETA: 0s - loss: 5.1045 - accuracy: 0.50 - ETA: 0s - loss: 4.8742 - accuracy: 0.59 - 0s 959us/step - loss: 4.7790 - accuracy: 0.6021\n",
      "Epoch 3/5\n",
      "71/71 [==============================] - ETA: 0s - loss: 3.9302 - accuracy: 0.68 - ETA: 0s - loss: 3.5108 - accuracy: 0.63 - 0s 1ms/step - loss: 3.3973 - accuracy: 0.6372\n",
      "Epoch 4/5\n",
      "71/71 [==============================] - ETA: 0s - loss: 1.3318 - accuracy: 0.75 - ETA: 0s - loss: 2.8097 - accuracy: 0.64 - 0s 1ms/step - loss: 2.6018 - accuracy: 0.6514\n",
      "Epoch 5/5\n",
      "71/71 [==============================] - ETA: 0s - loss: 4.3542 - accuracy: 0.56 - ETA: 0s - loss: 2.0537 - accuracy: 0.68 - 0s 1ms/step - loss: 1.8781 - accuracy: 0.6821\n",
      "24/24 [==============================] - ETA: 0s - loss: 0.4325 - accuracy: 0.87 - 0s 887us/step - loss: 0.7307 - accuracy: 0.7670\n",
      "Epoch 1/5\n",
      "71/71 [==============================] - ETA: 0s - loss: 10.0966 - accuracy: 0.531 - ETA: 0s - loss: 9.9970 - accuracy: 0.606 - 0s 1ms/step - loss: 8.5498 - accuracy: 0.6097\n",
      "Epoch 2/5\n",
      "71/71 [==============================] - ETA: 0s - loss: 2.6701 - accuracy: 0.71 - ETA: 0s - loss: 1.9062 - accuracy: 0.67 - 0s 1ms/step - loss: 1.6005 - accuracy: 0.6883\n",
      "Epoch 3/5\n",
      "71/71 [==============================] - ETA: 0s - loss: 0.9045 - accuracy: 0.78 - ETA: 0s - loss: 0.7172 - accuracy: 0.74 - 0s 1ms/step - loss: 0.6442 - accuracy: 0.7624\n",
      "Epoch 4/5\n",
      "71/71 [==============================] - ETA: 0s - loss: 0.6127 - accuracy: 0.87 - ETA: 0s - loss: 0.5063 - accuracy: 0.79 - 0s 1ms/step - loss: 0.5044 - accuracy: 0.7917\n",
      "Epoch 5/5\n",
      "71/71 [==============================] - ETA: 0s - loss: 0.3545 - accuracy: 0.87 - ETA: 0s - loss: 0.5062 - accuracy: 0.79 - 0s 1ms/step - loss: 0.5003 - accuracy: 0.7864\n",
      "24/24 [==============================] - ETA: 0s - loss: 0.3110 - accuracy: 0.90 - 0s 719us/step - loss: 0.3661 - accuracy: 0.8589\n",
      "Epoch 1/5\n",
      "71/71 [==============================] - ETA: 0s - loss: 5.1036 - accuracy: 0.56 - ETA: 0s - loss: 233.0110 - accuracy: 0.58 - 0s 1ms/step - loss: 187.2312 - accuracy: 0.5995\n",
      "Epoch 2/5\n",
      "71/71 [==============================] - ETA: 0s - loss: 107.9825 - accuracy: 0.56 - ETA: 0s - loss: 56.2510 - accuracy: 0.6701 - 0s 1ms/step - loss: 57.4249 - accuracy: 0.6754\n",
      "Epoch 3/5\n",
      "71/71 [==============================] - ETA: 0s - loss: 72.7872 - accuracy: 0.531 - ETA: 0s - loss: 43.9440 - accuracy: 0.717 - 0s 1ms/step - loss: 40.6673 - accuracy: 0.7251\n",
      "Epoch 4/5\n",
      "71/71 [==============================] - ETA: 0s - loss: 28.7803 - accuracy: 0.718 - ETA: 0s - loss: 38.5668 - accuracy: 0.707 - 0s 959us/step - loss: 40.4831 - accuracy: 0.7069\n",
      "Epoch 5/5\n",
      "71/71 [==============================] - ETA: 0s - loss: 20.3274 - accuracy: 0.781 - ETA: 0s - loss: 60.2357 - accuracy: 0.708 - 0s 1ms/step - loss: 55.4028 - accuracy: 0.7234\n",
      "24/24 [==============================] - ETA: 0s - loss: 37.4572 - accuracy: 0.812 - 0s 731us/step - loss: 42.5802 - accuracy: 0.7590\n"
     ]
    }
   ],
   "source": [
    "# Optimize learning rate\n",
    "# Loop through learning rates\n",
    "learning_rate_list = [.000001, .00001, .0001, .001, .01, .1]\n",
    "final_accuracy_learning_list = []\n",
    "\n",
    "for i in learning_rate_list:\n",
    "    build_model_output = build_model(384, .4, i)\n",
    "    fit_model_output = fit_model(build_model_output, train_data3, train_labels3, 5)\n",
    "    final_accuracy = evaluate_model(build_model_output, dev_data3, dev_labels3)\n",
    "    final_accuracy_learning_list.append(final_accuracy)"
   ]
  },
  {
   "cell_type": "code",
   "execution_count": 83,
   "metadata": {},
   "outputs": [
    {
     "data": {
      "text/plain": [
       "Text(0, 0.5, 'Accuracy')"
      ]
     },
     "execution_count": 83,
     "metadata": {},
     "output_type": "execute_result"
    },
    {
     "data": {
      "image/png": "[encoded data removed]",
      "text/plain": [
       "<Figure size 432x288 with 1 Axes>"
      ]
     },
     "metadata": {
      "needs_background": "light"
     },
     "output_type": "display_data"
    }
   ],
   "source": [
    "# Graph results\n",
    "plt.plot(learning_rate_list, final_accuracy_learning_list, label = \"Predicted Accuracies\", marker = \".\")\n",
    "plt.xlabel('Learning Rate')\n",
    "plt.ylabel('Accuracy')"
   ]
  },
  {
   "cell_type": "code",
   "execution_count": 84,
   "metadata": {},
   "outputs": [
    {
     "name": "stdout",
     "output_type": "stream",
     "text": [
      "Epoch 1/5\n",
      "71/71 [==============================] - ETA: 0s - loss: 39.7880 - accuracy: 0.437 - 0s 693us/step - loss: 29.6574 - accuracy: 0.4045\n",
      "Epoch 2/5\n",
      "71/71 [==============================] - ETA: 0s - loss: 6.5815 - accuracy: 0.31 - 0s 652us/step - loss: 1.9835 - accuracy: 0.4343\n",
      "Epoch 3/5\n",
      "71/71 [==============================] - ETA: 0s - loss: 0.6763 - accuracy: 0.62 - 0s 674us/step - loss: 0.6786 - accuracy: 0.5924\n",
      "Epoch 4/5\n",
      "71/71 [==============================] - ETA: 0s - loss: 0.6630 - accuracy: 0.62 - 0s 663us/step - loss: 0.6782 - accuracy: 0.5906\n",
      "Epoch 5/5\n",
      "71/71 [==============================] - ETA: 0s - loss: 0.6994 - accuracy: 0.53 - 0s 625us/step - loss: 0.6764 - accuracy: 0.5928\n",
      "24/24 [==============================] - ETA: 0s - loss: 0.6729 - accuracy: 0.59 - 0s 672us/step - loss: 0.6833 - accuracy: 0.5686\n",
      "Epoch 1/5\n",
      "71/71 [==============================] - ETA: 0s - loss: 18.5009 - accuracy: 0.687 - ETA: 0s - loss: 6.0067 - accuracy: 0.591 - 0s 776us/step - loss: 5.8458 - accuracy: 0.5946\n",
      "Epoch 2/5\n",
      "71/71 [==============================] - ETA: 0s - loss: 0.9514 - accuracy: 0.65 - ETA: 0s - loss: 0.7736 - accuracy: 0.68 - 0s 819us/step - loss: 0.7791 - accuracy: 0.6843\n",
      "Epoch 3/5\n",
      "71/71 [==============================] - ETA: 0s - loss: 1.4749 - accuracy: 0.59 - ETA: 0s - loss: 0.7257 - accuracy: 0.70 - 0s 884us/step - loss: 0.7122 - accuracy: 0.7034\n",
      "Epoch 4/5\n",
      "71/71 [==============================] - ETA: 0s - loss: 0.5306 - accuracy: 0.81 - ETA: 0s - loss: 0.5126 - accuracy: 0.78 - 0s 1ms/step - loss: 0.5020 - accuracy: 0.7784\n",
      "Epoch 5/5\n",
      "71/71 [==============================] - ETA: 0s - loss: 0.2441 - accuracy: 0.93 - ETA: 0s - loss: 0.4823 - accuracy: 0.78 - 0s 849us/step - loss: 0.4761 - accuracy: 0.7846\n",
      "24/24 [==============================] - ETA: 0s - loss: 0.2924 - accuracy: 0.84 - 0s 863us/step - loss: 0.3924 - accuracy: 0.8083\n",
      "Epoch 1/5\n",
      "71/71 [==============================] - ETA: 0s - loss: 28.3813 - accuracy: 0.593 - ETA: 0s - loss: 9.7927 - accuracy: 0.605 - 0s 897us/step - loss: 8.6510 - accuracy: 0.6092\n",
      "Epoch 2/5\n",
      "71/71 [==============================] - ETA: 0s - loss: 2.1186 - accuracy: 0.62 - ETA: 0s - loss: 1.2233 - accuracy: 0.68 - 0s 987us/step - loss: 1.1093 - accuracy: 0.6869\n",
      "Epoch 3/5\n",
      "71/71 [==============================] - ETA: 0s - loss: 0.5868 - accuracy: 0.65 - ETA: 0s - loss: 0.7266 - accuracy: 0.71 - 0s 991us/step - loss: 0.7011 - accuracy: 0.7189\n",
      "Epoch 4/5\n",
      "71/71 [==============================] - ETA: 0s - loss: 0.3966 - accuracy: 0.78 - ETA: 0s - loss: 0.5823 - accuracy: 0.75 - 0s 980us/step - loss: 0.5916 - accuracy: 0.7504\n",
      "Epoch 5/5\n",
      "71/71 [==============================] - ETA: 0s - loss: 0.5364 - accuracy: 0.78 - ETA: 0s - loss: 0.4685 - accuracy: 0.77 - 0s 1ms/step - loss: 0.4518 - accuracy: 0.7846\n",
      "24/24 [==============================] - ETA: 0s - loss: 0.3303 - accuracy: 0.81 - 0s 704us/step - loss: 0.4095 - accuracy: 0.8083\n",
      "Epoch 1/5\n",
      "71/71 [==============================] - ETA: 0s - loss: 20.8096 - accuracy: 0.593 - ETA: 0s - loss: 8.6339 - accuracy: 0.611 - 0s 988us/step - loss: 7.4601 - accuracy: 0.6115\n",
      "Epoch 2/5\n",
      "71/71 [==============================] - ETA: 0s - loss: 3.8825 - accuracy: 0.65 - ETA: 0s - loss: 1.3974 - accuracy: 0.65 - 0s 992us/step - loss: 1.2309 - accuracy: 0.6758\n",
      "Epoch 3/5\n",
      "71/71 [==============================] - ETA: 0s - loss: 0.5868 - accuracy: 0.75 - ETA: 0s - loss: 0.5185 - accuracy: 0.75 - 0s 931us/step - loss: 0.5220 - accuracy: 0.7536\n",
      "Epoch 4/5\n",
      "71/71 [==============================] - ETA: 0s - loss: 0.6979 - accuracy: 0.62 - ETA: 0s - loss: 0.5237 - accuracy: 0.76 - 0s 927us/step - loss: 0.5214 - accuracy: 0.7629\n",
      "Epoch 5/5\n",
      "71/71 [==============================] - ETA: 0s - loss: 0.3875 - accuracy: 0.81 - ETA: 0s - loss: 0.4728 - accuracy: 0.78 - 0s 961us/step - loss: 0.4689 - accuracy: 0.7864\n",
      "24/24 [==============================] - ETA: 0s - loss: 0.2947 - accuracy: 0.84 - 0s 652us/step - loss: 0.3901 - accuracy: 0.8162\n",
      "Epoch 1/5\n",
      "71/71 [==============================] - ETA: 0s - loss: 12.0181 - accuracy: 0.656 - ETA: 0s - loss: 8.9552 - accuracy: 0.593 - 0s 1ms/step - loss: 7.1581 - accuracy: 0.6097\n",
      "Epoch 2/5\n",
      "71/71 [==============================] - ETA: 0s - loss: 2.9078 - accuracy: 0.46 - ETA: 0s - loss: 1.2445 - accuracy: 0.68 - 0s 959us/step - loss: 1.1306 - accuracy: 0.6901\n",
      "Epoch 3/5\n",
      "71/71 [==============================] - ETA: 0s - loss: 0.5115 - accuracy: 0.84 - ETA: 0s - loss: 0.6386 - accuracy: 0.73 - 0s 878us/step - loss: 0.6145 - accuracy: 0.7398\n",
      "Epoch 4/5\n",
      "71/71 [==============================] - ETA: 0s - loss: 0.1775 - accuracy: 0.93 - ETA: 0s - loss: 0.4770 - accuracy: 0.79 - 0s 969us/step - loss: 0.4846 - accuracy: 0.7886\n",
      "Epoch 5/5\n",
      "71/71 [==============================] - ETA: 0s - loss: 0.5544 - accuracy: 0.68 - ETA: 0s - loss: 0.4571 - accuracy: 0.79 - 0s 926us/step - loss: 0.4446 - accuracy: 0.7988\n",
      "24/24 [==============================] - ETA: 0s - loss: 0.3005 - accuracy: 0.90 - 0s 697us/step - loss: 0.3631 - accuracy: 0.8455\n",
      "Epoch 1/5\n",
      "71/71 [==============================] - ETA: 0s - loss: 40.4149 - accuracy: 0.343 - ETA: 0s - loss: 8.0239 - accuracy: 0.602 - 0s 1ms/step - loss: 6.6789 - accuracy: 0.6079\n",
      "Epoch 2/5\n",
      "71/71 [==============================] - ETA: 0s - loss: 3.4166 - accuracy: 0.62 - ETA: 0s - loss: 1.4111 - accuracy: 0.67 - 0s 1ms/step - loss: 1.1581 - accuracy: 0.6994\n",
      "Epoch 3/5\n",
      "71/71 [==============================] - ETA: 0s - loss: 0.4840 - accuracy: 0.81 - ETA: 0s - loss: 0.6481 - accuracy: 0.74 - 0s 1ms/step - loss: 0.6151 - accuracy: 0.7527\n",
      "Epoch 4/5\n",
      "71/71 [==============================] - ETA: 0s - loss: 0.5256 - accuracy: 0.81 - ETA: 0s - loss: 0.5209 - accuracy: 0.76 - 0s 1ms/step - loss: 0.4924 - accuracy: 0.7824\n",
      "Epoch 5/5\n",
      "71/71 [==============================] - ETA: 0s - loss: 0.3196 - accuracy: 0.84 - ETA: 0s - loss: 0.4515 - accuracy: 0.79 - 0s 961us/step - loss: 0.4623 - accuracy: 0.7909\n",
      "24/24 [==============================] - ETA: 0s - loss: 0.3209 - accuracy: 0.84 - 0s 822us/step - loss: 0.3800 - accuracy: 0.8242\n",
      "Epoch 1/5\n",
      "71/71 [==============================] - ETA: 0s - loss: 8.9016 - accuracy: 0.65 - ETA: 0s - loss: 9.6139 - accuracy: 0.59 - 0s 1ms/step - loss: 7.9413 - accuracy: 0.6101\n",
      "Epoch 2/5\n",
      "71/71 [==============================] - ETA: 0s - loss: 5.4322 - accuracy: 0.62 - ETA: 0s - loss: 1.7160 - accuracy: 0.71 - 0s 981us/step - loss: 1.5540 - accuracy: 0.7096\n",
      "Epoch 3/5\n",
      "71/71 [==============================] - ETA: 0s - loss: 0.4721 - accuracy: 0.81 - ETA: 0s - loss: 0.6514 - accuracy: 0.74 - 0s 873us/step - loss: 0.6468 - accuracy: 0.7487\n",
      "Epoch 4/5\n",
      "71/71 [==============================] - ETA: 0s - loss: 0.5753 - accuracy: 0.75 - ETA: 0s - loss: 0.5033 - accuracy: 0.78 - 0s 891us/step - loss: 0.5124 - accuracy: 0.7806\n",
      "Epoch 5/5\n",
      "71/71 [==============================] - ETA: 0s - loss: 0.5714 - accuracy: 0.71 - ETA: 0s - loss: 0.4855 - accuracy: 0.78 - 0s 875us/step - loss: 0.4912 - accuracy: 0.7806\n",
      "24/24 [==============================] - ETA: 0s - loss: 0.3303 - accuracy: 0.84 - 0s 746us/step - loss: 0.4361 - accuracy: 0.7816\n",
      "Epoch 1/5\n",
      "71/71 [==============================] - ETA: 0s - loss: 9.4487 - accuracy: 0.62 - ETA: 0s - loss: 8.7420 - accuracy: 0.58 - 0s 991us/step - loss: 7.3553 - accuracy: 0.5999\n",
      "Epoch 2/5\n",
      "71/71 [==============================] - ETA: 0s - loss: 2.9682 - accuracy: 0.62 - ETA: 0s - loss: 1.4472 - accuracy: 0.70 - 0s 969us/step - loss: 1.3038 - accuracy: 0.7043\n",
      "Epoch 3/5\n",
      "71/71 [==============================] - ETA: 0s - loss: 0.7250 - accuracy: 0.75 - ETA: 0s - loss: 0.7117 - accuracy: 0.72 - 0s 1ms/step - loss: 0.6755 - accuracy: 0.7385\n",
      "Epoch 4/5\n",
      "71/71 [==============================] - ETA: 0s - loss: 0.6994 - accuracy: 0.71 - ETA: 0s - loss: 0.5497 - accuracy: 0.76 - 0s 939us/step - loss: 0.5195 - accuracy: 0.7815\n",
      "Epoch 5/5\n",
      "71/71 [==============================] - ETA: 0s - loss: 0.4061 - accuracy: 0.87 - ETA: 0s - loss: 0.4821 - accuracy: 0.78 - 0s 987us/step - loss: 0.4683 - accuracy: 0.7931\n",
      "24/24 [==============================] - ETA: 0s - loss: 0.3244 - accuracy: 0.87 - 0s 755us/step - loss: 0.3994 - accuracy: 0.8109\n",
      "Epoch 1/5\n"
     ]
    },
    {
     "name": "stdout",
     "output_type": "stream",
     "text": [
      "71/71 [==============================] - ETA: 0s - loss: 10.9356 - accuracy: 0.593 - ETA: 0s - loss: 9.7149 - accuracy: 0.601 - 0s 955us/step - loss: 8.3362 - accuracy: 0.6137\n",
      "Epoch 2/5\n",
      "71/71 [==============================] - ETA: 0s - loss: 1.5352 - accuracy: 0.75 - ETA: 0s - loss: 1.5760 - accuracy: 0.68 - 0s 896us/step - loss: 1.4388 - accuracy: 0.6958\n",
      "Epoch 3/5\n",
      "71/71 [==============================] - ETA: 0s - loss: 0.6333 - accuracy: 0.68 - ETA: 0s - loss: 0.6122 - accuracy: 0.75 - 0s 976us/step - loss: 0.6018 - accuracy: 0.7571\n",
      "Epoch 4/5\n",
      "71/71 [==============================] - ETA: 0s - loss: 0.6553 - accuracy: 0.75 - ETA: 0s - loss: 0.5585 - accuracy: 0.77 - 0s 876us/step - loss: 0.5479 - accuracy: 0.7735\n",
      "Epoch 5/5\n",
      "71/71 [==============================] - ETA: 0s - loss: 0.3652 - accuracy: 0.78 - ETA: 0s - loss: 0.4524 - accuracy: 0.79 - 0s 916us/step - loss: 0.4792 - accuracy: 0.7869\n",
      "24/24 [==============================] - ETA: 0s - loss: 0.2147 - accuracy: 0.93 - 0s 734us/step - loss: 0.3899 - accuracy: 0.8349\n",
      "Epoch 1/5\n",
      "71/71 [==============================] - ETA: 0s - loss: 9.2868 - accuracy: 0.43 - ETA: 0s - loss: 10.2228 - accuracy: 0.594 - 0s 931us/step - loss: 8.5429 - accuracy: 0.6083\n",
      "Epoch 2/5\n",
      "71/71 [==============================] - ETA: 0s - loss: 2.1786 - accuracy: 0.62 - ETA: 0s - loss: 1.3951 - accuracy: 0.68 - 0s 915us/step - loss: 1.2737 - accuracy: 0.6923\n",
      "Epoch 3/5\n",
      "71/71 [==============================] - ETA: 0s - loss: 0.4586 - accuracy: 0.78 - ETA: 0s - loss: 0.7436 - accuracy: 0.73 - 0s 909us/step - loss: 0.7005 - accuracy: 0.7491\n",
      "Epoch 4/5\n",
      "71/71 [==============================] - ETA: 0s - loss: 0.4014 - accuracy: 0.84 - ETA: 0s - loss: 0.5326 - accuracy: 0.77 - 0s 906us/step - loss: 0.5227 - accuracy: 0.7771\n",
      "Epoch 5/5\n",
      "71/71 [==============================] - ETA: 0s - loss: 0.5734 - accuracy: 0.78 - ETA: 0s - loss: 0.5787 - accuracy: 0.77 - 0s 911us/step - loss: 0.5992 - accuracy: 0.7695\n",
      "24/24 [==============================] - ETA: 0s - loss: 0.2967 - accuracy: 0.90 - 0s 816us/step - loss: 0.3646 - accuracy: 0.8455\n",
      "Epoch 1/5\n",
      "71/71 [==============================] - ETA: 0s - loss: 11.8933 - accuracy: 0.531 - ETA: 0s - loss: 8.7211 - accuracy: 0.614 - 0s 1ms/step - loss: 7.3119 - accuracy: 0.6297\n",
      "Epoch 2/5\n",
      "71/71 [==============================] - ETA: 0s - loss: 1.8103 - accuracy: 0.71 - ETA: 0s - loss: 1.4806 - accuracy: 0.69 - 0s 969us/step - loss: 1.5177 - accuracy: 0.6878\n",
      "Epoch 3/5\n",
      "71/71 [==============================] - ETA: 0s - loss: 0.3910 - accuracy: 0.81 - ETA: 0s - loss: 0.7370 - accuracy: 0.75 - 0s 912us/step - loss: 0.7110 - accuracy: 0.7482\n",
      "Epoch 4/5\n",
      "71/71 [==============================] - ETA: 0s - loss: 0.5013 - accuracy: 0.75 - ETA: 0s - loss: 0.5060 - accuracy: 0.79 - 0s 920us/step - loss: 0.5067 - accuracy: 0.7882\n",
      "Epoch 5/5\n",
      "71/71 [==============================] - ETA: 0s - loss: 0.5152 - accuracy: 0.75 - ETA: 0s - loss: 0.5093 - accuracy: 0.78 - 0s 925us/step - loss: 0.5093 - accuracy: 0.7837\n",
      "24/24 [==============================] - ETA: 0s - loss: 0.4516 - accuracy: 0.84 - 0s 780us/step - loss: 0.6221 - accuracy: 0.8029\n"
     ]
    }
   ],
   "source": [
    "# Try different numbers of nodes - keeping dropout at .4 and learning rate at .0001\n",
    "\n",
    "#Loop through nodes\n",
    "final_accuracy_node_list = []\n",
    "\n",
    "for i in range(1, 550, 50):\n",
    "    build_model_output = build_model(i, .4, .01)\n",
    "    fit_model_output = fit_model(build_model_output, train_data3, train_labels3, 5)\n",
    "    final_accuracy = evaluate_model(build_model_output, dev_data3, dev_labels3)\n",
    "    final_accuracy_node_list.append(final_accuracy)"
   ]
  },
  {
   "cell_type": "code",
   "execution_count": 85,
   "metadata": {},
   "outputs": [
    {
     "data": {
      "text/plain": [
       "Text(0, 0.5, 'Accuracy')"
      ]
     },
     "execution_count": 85,
     "metadata": {},
     "output_type": "execute_result"
    },
    {
     "data": {
      "image/png": "[encoded data removed]",
      "text/plain": [
       "<Figure size 432x288 with 1 Axes>"
      ]
     },
     "metadata": {
      "needs_background": "light"
     },
     "output_type": "display_data"
    }
   ],
   "source": [
    "#Graph the results\n",
    "plt.plot(range(1,550,50), final_accuracy_node_list, marker = \".\")\n",
    "plt.xlabel('Number of Nodes')\n",
    "plt.ylabel('Accuracy')"
   ]
  },
  {
   "cell_type": "code",
   "execution_count": 86,
   "metadata": {},
   "outputs": [
    {
     "name": "stdout",
     "output_type": "stream",
     "text": [
      "Epoch 1/5\n",
      "71/71 [==============================] - ETA: 0s - loss: 46.0051 - accuracy: 0.312 - ETA: 0s - loss: 10.3272 - accuracy: 0.582 - 0s 945us/step - loss: 8.5985 - accuracy: 0.5968\n",
      "Epoch 2/5\n",
      "71/71 [==============================] - ETA: 0s - loss: 0.8603 - accuracy: 0.81 - ETA: 0s - loss: 1.1397 - accuracy: 0.71 - 0s 836us/step - loss: 1.0868 - accuracy: 0.7131\n",
      "Epoch 3/5\n",
      "71/71 [==============================] - ETA: 0s - loss: 0.6531 - accuracy: 0.75 - ETA: 0s - loss: 0.6746 - accuracy: 0.73 - 0s 854us/step - loss: 0.6528 - accuracy: 0.7460\n",
      "Epoch 4/5\n",
      "71/71 [==============================] - ETA: 0s - loss: 0.4248 - accuracy: 0.75 - ETA: 0s - loss: 0.5253 - accuracy: 0.77 - 0s 823us/step - loss: 0.5229 - accuracy: 0.7766\n",
      "Epoch 5/5\n",
      "71/71 [==============================] - ETA: 0s - loss: 0.5448 - accuracy: 0.71 - ETA: 0s - loss: 0.4723 - accuracy: 0.78 - 0s 954us/step - loss: 0.4759 - accuracy: 0.7855\n",
      "24/24 [==============================] - ETA: 0s - loss: 0.2459 - accuracy: 0.90 - 0s 692us/step - loss: 0.3745 - accuracy: 0.8429\n",
      "Epoch 1/5\n",
      "71/71 [==============================] - ETA: 0s - loss: 11.8812 - accuracy: 0.375 - ETA: 0s - loss: 7.7040 - accuracy: 0.618 - 0s 899us/step - loss: 6.8667 - accuracy: 0.6212\n",
      "Epoch 2/5\n",
      "71/71 [==============================] - ETA: 0s - loss: 1.1674 - accuracy: 0.78 - ETA: 0s - loss: 1.9320 - accuracy: 0.67 - 0s 1ms/step - loss: 1.6107 - accuracy: 0.6901\n",
      "Epoch 3/5\n",
      "71/71 [==============================] - ETA: 0s - loss: 0.6194 - accuracy: 0.75 - ETA: 0s - loss: 0.5974 - accuracy: 0.74 - 0s 952us/step - loss: 0.5711 - accuracy: 0.7580\n",
      "Epoch 4/5\n",
      "71/71 [==============================] - ETA: 0s - loss: 0.5160 - accuracy: 0.78 - ETA: 0s - loss: 0.4791 - accuracy: 0.79 - 0s 925us/step - loss: 0.4786 - accuracy: 0.7940\n",
      "Epoch 5/5\n",
      "71/71 [==============================] - ETA: 0s - loss: 0.3608 - accuracy: 0.87 - ETA: 0s - loss: 0.5196 - accuracy: 0.77 - 0s 1ms/step - loss: 0.5130 - accuracy: 0.7758\n",
      "24/24 [==============================] - ETA: 0s - loss: 0.2426 - accuracy: 0.96 - 0s 663us/step - loss: 0.3874 - accuracy: 0.8309\n",
      "Epoch 1/5\n",
      "71/71 [==============================] - ETA: 0s - loss: 17.1341 - accuracy: 0.406 - ETA: 0s - loss: 7.0799 - accuracy: 0.618 - 0s 1ms/step - loss: 6.3374 - accuracy: 0.6159\n",
      "Epoch 2/5\n",
      "71/71 [==============================] - ETA: 0s - loss: 1.7331 - accuracy: 0.59 - ETA: 0s - loss: 1.6511 - accuracy: 0.67 - 0s 1ms/step - loss: 1.3864 - accuracy: 0.6945\n",
      "Epoch 3/5\n",
      "71/71 [==============================] - ETA: 0s - loss: 0.4355 - accuracy: 0.81 - ETA: 0s - loss: 0.7041 - accuracy: 0.74 - 0s 949us/step - loss: 0.6630 - accuracy: 0.7469\n",
      "Epoch 4/5\n",
      "71/71 [==============================] - ETA: 0s - loss: 0.3837 - accuracy: 0.84 - ETA: 0s - loss: 0.4941 - accuracy: 0.79 - 0s 964us/step - loss: 0.4842 - accuracy: 0.7944\n",
      "Epoch 5/5\n",
      "71/71 [==============================] - ETA: 0s - loss: 0.3909 - accuracy: 0.75 - ETA: 0s - loss: 0.4462 - accuracy: 0.78 - 0s 907us/step - loss: 0.4452 - accuracy: 0.7882\n",
      "24/24 [==============================] - ETA: 0s - loss: 0.2916 - accuracy: 0.90 - 0s 927us/step - loss: 0.3540 - accuracy: 0.8442\n",
      "Epoch 1/5\n",
      "71/71 [==============================] - ETA: 0s - loss: 39.1216 - accuracy: 0.281 - ETA: 0s - loss: 9.6600 - accuracy: 0.579 - 0s 996us/step - loss: 8.0789 - accuracy: 0.5893\n",
      "Epoch 2/5\n",
      "71/71 [==============================] - ETA: 0s - loss: 3.2346 - accuracy: 0.71 - ETA: 0s - loss: 1.6882 - accuracy: 0.68 - 0s 967us/step - loss: 1.5113 - accuracy: 0.6901\n",
      "Epoch 3/5\n",
      "71/71 [==============================] - ETA: 0s - loss: 0.5880 - accuracy: 0.71 - ETA: 0s - loss: 0.6036 - accuracy: 0.76 - 0s 1ms/step - loss: 0.5958 - accuracy: 0.7620\n",
      "Epoch 4/5\n",
      "71/71 [==============================] - ETA: 0s - loss: 0.4987 - accuracy: 0.75 - ETA: 0s - loss: 0.5608 - accuracy: 0.76 - 0s 1ms/step - loss: 0.5490 - accuracy: 0.7642\n",
      "Epoch 5/5\n",
      "71/71 [==============================] - ETA: 0s - loss: 0.6814 - accuracy: 0.71 - ETA: 0s - loss: 0.4632 - accuracy: 0.79 - 0s 932us/step - loss: 0.4627 - accuracy: 0.7913\n",
      "24/24 [==============================] - ETA: 0s - loss: 0.3865 - accuracy: 0.81 - 0s 745us/step - loss: 0.4364 - accuracy: 0.8016\n",
      "Epoch 1/5\n",
      "71/71 [==============================] - ETA: 0s - loss: 11.3539 - accuracy: 0.593 - ETA: 0s - loss: 8.4498 - accuracy: 0.585 - 0s 1ms/step - loss: 6.6217 - accuracy: 0.6110\n",
      "Epoch 2/5\n",
      "71/71 [==============================] - ETA: 0s - loss: 1.9340 - accuracy: 0.81 - ETA: 0s - loss: 1.4764 - accuracy: 0.68 - 0s 1ms/step - loss: 1.2622 - accuracy: 0.6998\n",
      "Epoch 3/5\n",
      "71/71 [==============================] - ETA: 0s - loss: 0.3600 - accuracy: 0.81 - ETA: 0s - loss: 0.6619 - accuracy: 0.75 - 0s 1ms/step - loss: 0.6331 - accuracy: 0.7602\n",
      "Epoch 4/5\n",
      "71/71 [==============================] - ETA: 0s - loss: 0.3225 - accuracy: 0.84 - ETA: 0s - loss: 0.5055 - accuracy: 0.78 - 0s 1ms/step - loss: 0.5086 - accuracy: 0.7784\n",
      "Epoch 5/5\n",
      "71/71 [==============================] - ETA: 0s - loss: 0.5302 - accuracy: 0.81 - ETA: 0s - loss: 0.4912 - accuracy: 0.79 - 0s 1ms/step - loss: 0.4539 - accuracy: 0.8060\n",
      "24/24 [==============================] - ETA: 0s - loss: 0.2951 - accuracy: 0.87 - 0s 733us/step - loss: 0.4572 - accuracy: 0.7963\n",
      "Epoch 1/5\n",
      "71/71 [==============================] - ETA: 0s - loss: 14.6338 - accuracy: 0.562 - ETA: 0s - loss: 9.2303 - accuracy: 0.618 - 0s 1ms/step - loss: 7.7397 - accuracy: 0.6239\n",
      "Epoch 2/5\n",
      "71/71 [==============================] - ETA: 0s - loss: 4.8124 - accuracy: 0.46 - ETA: 0s - loss: 1.6142 - accuracy: 0.67 - 0s 1ms/step - loss: 1.3297 - accuracy: 0.6949\n",
      "Epoch 3/5\n",
      "71/71 [==============================] - ETA: 0s - loss: 0.5629 - accuracy: 0.78 - ETA: 0s - loss: 0.6444 - accuracy: 0.73 - 0s 1ms/step - loss: 0.6155 - accuracy: 0.7522\n",
      "Epoch 4/5\n",
      "71/71 [==============================] - ETA: 0s - loss: 0.5830 - accuracy: 0.71 - ETA: 0s - loss: 0.5243 - accuracy: 0.76 - 0s 1ms/step - loss: 0.5125 - accuracy: 0.7749\n",
      "Epoch 5/5\n",
      "71/71 [==============================] - ETA: 0s - loss: 0.6622 - accuracy: 0.68 - ETA: 0s - loss: 0.6201 - accuracy: 0.75 - 0s 1ms/step - loss: 0.5675 - accuracy: 0.7709\n",
      "24/24 [==============================] - ETA: 0s - loss: 0.2967 - accuracy: 0.87 - 0s 669us/step - loss: 0.4396 - accuracy: 0.7976\n",
      "Epoch 1/5\n",
      "71/71 [==============================] - ETA: 0s - loss: 10.8269 - accuracy: 0.468 - ETA: 0s - loss: 8.2503 - accuracy: 0.610 - 0s 1ms/step - loss: 6.4008 - accuracy: 0.6292\n",
      "Epoch 2/5\n",
      "71/71 [==============================] - ETA: 0s - loss: 3.7907 - accuracy: 0.59 - ETA: 0s - loss: 1.8233 - accuracy: 0.69 - 0s 1ms/step - loss: 1.5624 - accuracy: 0.7060\n",
      "Epoch 3/5\n",
      "71/71 [==============================] - ETA: 0s - loss: 0.9799 - accuracy: 0.71 - ETA: 0s - loss: 0.7061 - accuracy: 0.73 - 0s 1ms/step - loss: 0.6558 - accuracy: 0.7358\n",
      "Epoch 4/5\n",
      "71/71 [==============================] - ETA: 0s - loss: 0.4328 - accuracy: 0.78 - ETA: 0s - loss: 0.5329 - accuracy: 0.78 - 0s 849us/step - loss: 0.5344 - accuracy: 0.7775\n",
      "Epoch 5/5\n",
      "71/71 [==============================] - ETA: 0s - loss: 0.5101 - accuracy: 0.78 - ETA: 0s - loss: 0.4721 - accuracy: 0.78 - 0s 888us/step - loss: 0.4682 - accuracy: 0.7909\n",
      "24/24 [==============================] - ETA: 0s - loss: 0.2431 - accuracy: 0.90 - 0s 790us/step - loss: 0.3430 - accuracy: 0.8522\n",
      "Epoch 1/5\n",
      "71/71 [==============================] - ETA: 0s - loss: 17.9082 - accuracy: 0.437 - ETA: 0s - loss: 8.8885 - accuracy: 0.609 - 0s 1ms/step - loss: 7.0105 - accuracy: 0.6155\n",
      "Epoch 2/5\n",
      "71/71 [==============================] - ETA: 0s - loss: 3.1416 - accuracy: 0.65 - ETA: 0s - loss: 1.9526 - accuracy: 0.65 - 0s 1ms/step - loss: 1.4700 - accuracy: 0.6794\n",
      "Epoch 3/5\n",
      "71/71 [==============================] - ETA: 0s - loss: 1.5207 - accuracy: 0.62 - ETA: 0s - loss: 0.6648 - accuracy: 0.73 - 0s 1ms/step - loss: 0.6223 - accuracy: 0.7451\n",
      "Epoch 4/5\n",
      "71/71 [==============================] - ETA: 0s - loss: 0.3423 - accuracy: 0.81 - ETA: 0s - loss: 0.5433 - accuracy: 0.76 - 0s 1ms/step - loss: 0.5227 - accuracy: 0.7700\n",
      "Epoch 5/5\n",
      "71/71 [==============================] - ETA: 0s - loss: 0.4493 - accuracy: 0.78 - ETA: 0s - loss: 0.4733 - accuracy: 0.78 - 0s 1ms/step - loss: 0.4561 - accuracy: 0.7944\n"
     ]
    },
    {
     "name": "stdout",
     "output_type": "stream",
     "text": [
      "24/24 [==============================] - ETA: 0s - loss: 0.4265 - accuracy: 0.81 - 0s 743us/step - loss: 0.5097 - accuracy: 0.7683\n",
      "Epoch 1/5\n",
      "71/71 [==============================] - ETA: 0s - loss: 7.9978 - accuracy: 0.65 - ETA: 0s - loss: 8.6453 - accuracy: 0.61 - 0s 998us/step - loss: 7.6033 - accuracy: 0.6208\n",
      "Epoch 2/5\n",
      "71/71 [==============================] - ETA: 0s - loss: 2.0916 - accuracy: 0.71 - ETA: 0s - loss: 2.1565 - accuracy: 0.67 - 0s 1ms/step - loss: 1.6241 - accuracy: 0.7114\n",
      "Epoch 3/5\n",
      "71/71 [==============================] - ETA: 0s - loss: 0.8908 - accuracy: 0.75 - ETA: 0s - loss: 0.8778 - accuracy: 0.74 - 0s 1ms/step - loss: 1.0368 - accuracy: 0.7296\n",
      "Epoch 4/5\n",
      "71/71 [==============================] - ETA: 0s - loss: 1.0909 - accuracy: 0.68 - ETA: 0s - loss: 0.8406 - accuracy: 0.74 - 0s 1ms/step - loss: 0.6499 - accuracy: 0.7749\n",
      "Epoch 5/5\n",
      "71/71 [==============================] - ETA: 0s - loss: 0.5369 - accuracy: 0.75 - ETA: 0s - loss: 0.4615 - accuracy: 0.79 - 0s 1ms/step - loss: 0.4576 - accuracy: 0.7913\n",
      "24/24 [==============================] - ETA: 0s - loss: 0.2318 - accuracy: 0.90 - 0s 783us/step - loss: 0.4004 - accuracy: 0.8309\n",
      "Epoch 1/5\n",
      "71/71 [==============================] - ETA: 0s - loss: 10.5115 - accuracy: 0.312 - ETA: 0s - loss: 8.9658 - accuracy: 0.623 - 0s 948us/step - loss: 7.7437 - accuracy: 0.6292\n",
      "Epoch 2/5\n",
      "71/71 [==============================] - ETA: 0s - loss: 4.9886 - accuracy: 0.59 - ETA: 0s - loss: 1.7273 - accuracy: 0.70 - 0s 910us/step - loss: 1.6027 - accuracy: 0.7012\n",
      "Epoch 3/5\n",
      "71/71 [==============================] - ETA: 0s - loss: 1.0558 - accuracy: 0.75 - ETA: 0s - loss: 0.7669 - accuracy: 0.74 - 0s 916us/step - loss: 0.7686 - accuracy: 0.7447\n",
      "Epoch 4/5\n",
      "71/71 [==============================] - ETA: 0s - loss: 1.0970 - accuracy: 0.62 - ETA: 0s - loss: 0.5985 - accuracy: 0.75 - 0s 951us/step - loss: 0.5828 - accuracy: 0.7647\n",
      "Epoch 5/5\n",
      "71/71 [==============================] - ETA: 0s - loss: 0.6270 - accuracy: 0.71 - ETA: 0s - loss: 0.6470 - accuracy: 0.76 - 0s 971us/step - loss: 0.6261 - accuracy: 0.7633\n",
      "24/24 [==============================] - ETA: 0s - loss: 0.2539 - accuracy: 0.90 - 0s 812us/step - loss: 0.4685 - accuracy: 0.8083\n",
      "Epoch 1/5\n",
      "71/71 [==============================] - ETA: 0s - loss: 9.4294 - accuracy: 0.40 - ETA: 0s - loss: 8.4093 - accuracy: 0.62 - 0s 1ms/step - loss: 7.1528 - accuracy: 0.6292\n",
      "Epoch 2/5\n",
      "71/71 [==============================] - ETA: 0s - loss: 1.4423 - accuracy: 0.78 - ETA: 0s - loss: 1.9954 - accuracy: 0.69 - 0s 1ms/step - loss: 1.8156 - accuracy: 0.7012\n",
      "Epoch 3/5\n",
      "71/71 [==============================] - ETA: 0s - loss: 1.0626 - accuracy: 0.84 - ETA: 0s - loss: 0.8722 - accuracy: 0.74 - 0s 956us/step - loss: 0.8000 - accuracy: 0.7513\n",
      "Epoch 4/5\n",
      "71/71 [==============================] - ETA: 0s - loss: 0.3250 - accuracy: 0.87 - ETA: 0s - loss: 0.7684 - accuracy: 0.76 - 0s 932us/step - loss: 0.7348 - accuracy: 0.7731\n",
      "Epoch 5/5\n",
      "71/71 [==============================] - ETA: 0s - loss: 0.6001 - accuracy: 0.71 - ETA: 0s - loss: 0.5415 - accuracy: 0.78 - 0s 932us/step - loss: 0.5293 - accuracy: 0.7882\n",
      "24/24 [==============================] - ETA: 0s - loss: 0.3460 - accuracy: 0.81 - 0s 757us/step - loss: 0.4628 - accuracy: 0.7870\n",
      "Epoch 1/5\n",
      "71/71 [==============================] - ETA: 0s - loss: 12.7989 - accuracy: 0.500 - ETA: 0s - loss: 8.6594 - accuracy: 0.603 - 0s 1ms/step - loss: 7.1416 - accuracy: 0.6123\n",
      "Epoch 2/5\n",
      "71/71 [==============================] - ETA: 0s - loss: 6.3897 - accuracy: 0.56 - ETA: 0s - loss: 2.1686 - accuracy: 0.68 - 0s 1ms/step - loss: 1.9490 - accuracy: 0.6918\n",
      "Epoch 3/5\n",
      "71/71 [==============================] - ETA: 0s - loss: 0.4925 - accuracy: 0.78 - ETA: 0s - loss: 1.0123 - accuracy: 0.73 - 0s 1ms/step - loss: 1.0685 - accuracy: 0.7296\n",
      "Epoch 4/5\n",
      "71/71 [==============================] - ETA: 0s - loss: 0.9086 - accuracy: 0.71 - ETA: 0s - loss: 0.6332 - accuracy: 0.78 - 0s 940us/step - loss: 0.6054 - accuracy: 0.7833\n",
      "Epoch 5/5\n",
      "71/71 [==============================] - ETA: 0s - loss: 0.3188 - accuracy: 0.90 - ETA: 0s - loss: 0.4978 - accuracy: 0.79 - 0s 962us/step - loss: 0.4891 - accuracy: 0.8002\n",
      "24/24 [==============================] - ETA: 0s - loss: 0.2567 - accuracy: 0.90 - 0s 707us/step - loss: 0.3380 - accuracy: 0.8535\n"
     ]
    }
   ],
   "source": [
    "# It looks like best value is somewhere between 200 and 500\n",
    "# Narrow this down\n",
    "# Loop through nodes\n",
    "final_accuracy_node_list = []\n",
    "\n",
    "for i in range(200, 500, 25):\n",
    "    build_model_output = build_model(i, .4, .01)\n",
    "    fit_model_output = fit_model(build_model_output, train_data3, train_labels3, 5)\n",
    "    final_accuracy = evaluate_model(build_model_output, dev_data3, dev_labels3)\n",
    "    final_accuracy_node_list.append(final_accuracy)"
   ]
  },
  {
   "cell_type": "code",
   "execution_count": 87,
   "metadata": {},
   "outputs": [
    {
     "data": {
      "text/plain": [
       "Text(0, 0.5, 'Accuracy')"
      ]
     },
     "execution_count": 87,
     "metadata": {},
     "output_type": "execute_result"
    },
    {
     "data": {
      "image/png": "[encoded data removed]",
      "text/plain": [
       "<Figure size 432x288 with 1 Axes>"
      ]
     },
     "metadata": {
      "needs_background": "light"
     },
     "output_type": "display_data"
    }
   ],
   "source": [
    "#Graph results\n",
    "plt.plot(range(200, 500, 25), final_accuracy_node_list, marker = \".\")\n",
    "plt.xlabel('Number of Nodes')\n",
    "plt.ylabel('Accuracy')"
   ]
  },
  {
   "cell_type": "code",
   "execution_count": 88,
   "metadata": {},
   "outputs": [
    {
     "name": "stdout",
     "output_type": "stream",
     "text": [
      "Epoch 1/5\n",
      "71/71 [==============================] - ETA: 0s - loss: 19.3679 - accuracy: 0.500 - ETA: 0s - loss: 7.8462 - accuracy: 0.600 - 0s 936us/step - loss: 7.0122 - accuracy: 0.6066\n",
      "Epoch 2/5\n",
      "71/71 [==============================] - ETA: 0s - loss: 1.2085 - accuracy: 0.71 - ETA: 0s - loss: 1.5368 - accuracy: 0.68 - 0s 941us/step - loss: 1.3603 - accuracy: 0.6998\n",
      "Epoch 3/5\n",
      "71/71 [==============================] - ETA: 0s - loss: 0.8683 - accuracy: 0.75 - ETA: 0s - loss: 0.5966 - accuracy: 0.76 - 0s 938us/step - loss: 0.5941 - accuracy: 0.7611\n",
      "Epoch 4/5\n",
      "71/71 [==============================] - ETA: 0s - loss: 0.5405 - accuracy: 0.75 - ETA: 0s - loss: 0.5528 - accuracy: 0.76 - 0s 1ms/step - loss: 0.5257 - accuracy: 0.7753\n",
      "Epoch 5/5\n",
      "71/71 [==============================] - ETA: 0s - loss: 0.6225 - accuracy: 0.71 - ETA: 0s - loss: 0.4721 - accuracy: 0.80 - 0s 955us/step - loss: 0.4726 - accuracy: 0.7971\n",
      "24/24 [==============================] - ETA: 0s - loss: 0.7237 - accuracy: 0.78 - 0s 802us/step - loss: 0.6652 - accuracy: 0.7377\n",
      "Epoch 1/5\n",
      "71/71 [==============================] - ETA: 0s - loss: 24.1441 - accuracy: 0.375 - ETA: 0s - loss: 9.9866 - accuracy: 0.600 - 0s 1ms/step - loss: 8.1157 - accuracy: 0.6159\n",
      "Epoch 2/5\n",
      "71/71 [==============================] - ETA: 0s - loss: 3.2966 - accuracy: 0.59 - ETA: 0s - loss: 1.7986 - accuracy: 0.69 - 0s 1ms/step - loss: 1.5689 - accuracy: 0.7020\n",
      "Epoch 3/5\n",
      "71/71 [==============================] - ETA: 0s - loss: 0.5065 - accuracy: 0.78 - ETA: 0s - loss: 0.7157 - accuracy: 0.73 - 0s 905us/step - loss: 0.7023 - accuracy: 0.7385\n",
      "Epoch 4/5\n",
      "71/71 [==============================] - ETA: 0s - loss: 1.2596 - accuracy: 0.65 - ETA: 0s - loss: 0.7049 - accuracy: 0.75 - 0s 1ms/step - loss: 0.6531 - accuracy: 0.7713\n",
      "Epoch 5/5\n",
      "71/71 [==============================] - ETA: 0s - loss: 0.6354 - accuracy: 0.71 - ETA: 0s - loss: 0.5627 - accuracy: 0.77 - 0s 969us/step - loss: 0.5460 - accuracy: 0.7837\n",
      "24/24 [==============================] - ETA: 0s - loss: 0.3280 - accuracy: 0.90 - 0s 812us/step - loss: 0.3951 - accuracy: 0.8336\n",
      "Epoch 1/5\n",
      "71/71 [==============================] - ETA: 0s - loss: 16.6609 - accuracy: 0.531 - ETA: 0s - loss: 9.6009 - accuracy: 0.611 - 0s 1ms/step - loss: 7.4147 - accuracy: 0.6230\n",
      "Epoch 2/5\n",
      "71/71 [==============================] - ETA: 0s - loss: 1.6274 - accuracy: 0.78 - ETA: 0s - loss: 1.4291 - accuracy: 0.69 - 0s 1ms/step - loss: 1.2690 - accuracy: 0.7020\n",
      "Epoch 3/5\n",
      "71/71 [==============================] - ETA: 0s - loss: 0.9185 - accuracy: 0.68 - ETA: 0s - loss: 0.7026 - accuracy: 0.75 - 0s 1ms/step - loss: 0.7608 - accuracy: 0.7398\n",
      "Epoch 4/5\n",
      "71/71 [==============================] - ETA: 0s - loss: 1.8732 - accuracy: 0.59 - ETA: 0s - loss: 0.6246 - accuracy: 0.76 - 0s 1ms/step - loss: 0.6174 - accuracy: 0.7669\n",
      "Epoch 5/5\n",
      "71/71 [==============================] - ETA: 0s - loss: 0.5682 - accuracy: 0.81 - ETA: 0s - loss: 0.5197 - accuracy: 0.76 - 0s 1ms/step - loss: 0.5853 - accuracy: 0.7647\n",
      "24/24 [==============================] - ETA: 0s - loss: 0.5321 - accuracy: 0.78 - 0s 696us/step - loss: 0.4547 - accuracy: 0.7736\n",
      "Epoch 1/5\n",
      "71/71 [==============================] - ETA: 0s - loss: 12.9580 - accuracy: 0.531 - ETA: 0s - loss: 7.2259 - accuracy: 0.621 - 0s 1ms/step - loss: 6.0576 - accuracy: 0.6332\n",
      "Epoch 2/5\n",
      "71/71 [==============================] - ETA: 0s - loss: 4.4622 - accuracy: 0.53 - ETA: 0s - loss: 2.0072 - accuracy: 0.67 - 0s 1ms/step - loss: 1.6653 - accuracy: 0.6958\n",
      "Epoch 3/5\n",
      "71/71 [==============================] - ETA: 0s - loss: 0.5412 - accuracy: 0.75 - ETA: 0s - loss: 0.7244 - accuracy: 0.72 - 0s 1ms/step - loss: 0.7126 - accuracy: 0.7331\n",
      "Epoch 4/5\n",
      "71/71 [==============================] - ETA: 0s - loss: 0.8573 - accuracy: 0.71 - ETA: 0s - loss: 0.5224 - accuracy: 0.77 - 0s 996us/step - loss: 0.5337 - accuracy: 0.7740\n",
      "Epoch 5/5\n",
      "71/71 [==============================] - ETA: 0s - loss: 0.4088 - accuracy: 0.78 - ETA: 0s - loss: 0.4760 - accuracy: 0.79 - 0s 970us/step - loss: 0.4749 - accuracy: 0.7944\n",
      "24/24 [==============================] - ETA: 0s - loss: 0.3093 - accuracy: 0.87 - 0s 667us/step - loss: 0.4187 - accuracy: 0.8176\n",
      "Epoch 1/5\n",
      "71/71 [==============================] - ETA: 0s - loss: 11.1964 - accuracy: 0.625 - ETA: 0s - loss: 10.8821 - accuracy: 0.597 - 0s 1ms/step - loss: 8.6324 - accuracy: 0.6106\n",
      "Epoch 2/5\n",
      "71/71 [==============================] - ETA: 0s - loss: 1.4114 - accuracy: 0.62 - ETA: 0s - loss: 1.6347 - accuracy: 0.67 - 0s 1ms/step - loss: 1.4070 - accuracy: 0.6883\n",
      "Epoch 3/5\n",
      "71/71 [==============================] - ETA: 0s - loss: 0.2112 - accuracy: 0.87 - ETA: 0s - loss: 0.6346 - accuracy: 0.76 - 0s 1ms/step - loss: 0.6400 - accuracy: 0.7575\n",
      "Epoch 4/5\n",
      "71/71 [==============================] - ETA: 0s - loss: 0.6818 - accuracy: 0.68 - ETA: 0s - loss: 0.5901 - accuracy: 0.76 - 0s 1ms/step - loss: 0.5418 - accuracy: 0.7762\n",
      "Epoch 5/5\n",
      "71/71 [==============================] - ETA: 0s - loss: 0.4669 - accuracy: 0.75 - ETA: 0s - loss: 0.6246 - accuracy: 0.76 - 0s 1ms/step - loss: 0.6538 - accuracy: 0.7678\n",
      "24/24 [==============================] - ETA: 0s - loss: 0.3593 - accuracy: 0.90 - 0s 847us/step - loss: 0.4449 - accuracy: 0.7923\n",
      "Epoch 1/5\n",
      "71/71 [==============================] - ETA: 0s - loss: 9.0883 - accuracy: 0.43 - ETA: 0s - loss: 9.1307 - accuracy: 0.61 - 0s 962us/step - loss: 7.9278 - accuracy: 0.6150\n",
      "Epoch 2/5\n",
      "71/71 [==============================] - ETA: 0s - loss: 4.9642 - accuracy: 0.53 - ETA: 0s - loss: 1.6801 - accuracy: 0.69 - 0s 1ms/step - loss: 1.5358 - accuracy: 0.7016\n",
      "Epoch 3/5\n",
      "71/71 [==============================] - ETA: 0s - loss: 0.6553 - accuracy: 0.71 - ETA: 0s - loss: 0.7324 - accuracy: 0.73 - 0s 1ms/step - loss: 0.7336 - accuracy: 0.7393\n",
      "Epoch 4/5\n",
      "71/71 [==============================] - ETA: 0s - loss: 0.4261 - accuracy: 0.87 - ETA: 0s - loss: 0.4816 - accuracy: 0.78 - 0s 1ms/step - loss: 0.4824 - accuracy: 0.7824\n",
      "Epoch 5/5\n",
      "71/71 [==============================] - ETA: 0s - loss: 0.4284 - accuracy: 0.75 - ETA: 0s - loss: 0.4843 - accuracy: 0.79 - 0s 1ms/step - loss: 0.4742 - accuracy: 0.7957\n",
      "24/24 [==============================] - ETA: 0s - loss: 0.3520 - accuracy: 0.90 - 0s 819us/step - loss: 0.3532 - accuracy: 0.8682\n",
      "Epoch 1/5\n",
      "71/71 [==============================] - ETA: 0s - loss: 8.4512 - accuracy: 0.62 - ETA: 0s - loss: 9.1060 - accuracy: 0.58 - 0s 1ms/step - loss: 7.4994 - accuracy: 0.6035\n",
      "Epoch 2/5\n",
      "71/71 [==============================] - ETA: 0s - loss: 4.3194 - accuracy: 0.53 - ETA: 0s - loss: 1.8407 - accuracy: 0.69 - 0s 1ms/step - loss: 1.5483 - accuracy: 0.7074\n",
      "Epoch 3/5\n",
      "71/71 [==============================] - ETA: 0s - loss: 1.1584 - accuracy: 0.78 - ETA: 0s - loss: 0.8250 - accuracy: 0.74 - 0s 1ms/step - loss: 0.8379 - accuracy: 0.7402\n",
      "Epoch 4/5\n",
      "71/71 [==============================] - ETA: 0s - loss: 0.5848 - accuracy: 0.81 - ETA: 0s - loss: 0.6230 - accuracy: 0.75 - 0s 933us/step - loss: 0.6000 - accuracy: 0.7602\n",
      "Epoch 5/5\n",
      "71/71 [==============================] - ETA: 0s - loss: 0.5561 - accuracy: 0.75 - ETA: 0s - loss: 0.5126 - accuracy: 0.78 - 0s 1ms/step - loss: 0.5036 - accuracy: 0.7909\n",
      "24/24 [==============================] - ETA: 0s - loss: 0.5007 - accuracy: 0.75 - 0s 844us/step - loss: 0.6113 - accuracy: 0.7443\n",
      "Epoch 1/5\n",
      "71/71 [==============================] - ETA: 0s - loss: 10.8477 - accuracy: 0.500 - ETA: 0s - loss: 8.3645 - accuracy: 0.603 - 0s 1ms/step - loss: 6.1875 - accuracy: 0.6270\n",
      "Epoch 2/5\n",
      "71/71 [==============================] - ETA: 0s - loss: 2.6446 - accuracy: 0.65 - ETA: 0s - loss: 1.4685 - accuracy: 0.69 - 0s 940us/step - loss: 1.3770 - accuracy: 0.7020\n",
      "Epoch 3/5\n",
      "71/71 [==============================] - ETA: 0s - loss: 1.7539 - accuracy: 0.46 - ETA: 0s - loss: 0.8136 - accuracy: 0.73 - 0s 901us/step - loss: 0.8100 - accuracy: 0.7296\n",
      "Epoch 4/5\n",
      "71/71 [==============================] - ETA: 0s - loss: 0.5061 - accuracy: 0.78 - ETA: 0s - loss: 0.5828 - accuracy: 0.76 - 0s 899us/step - loss: 0.5748 - accuracy: 0.7669\n",
      "Epoch 5/5\n",
      "71/71 [==============================] - ETA: 0s - loss: 0.6585 - accuracy: 0.68 - ETA: 0s - loss: 0.4938 - accuracy: 0.78 - 0s 891us/step - loss: 0.5062 - accuracy: 0.7780\n"
     ]
    },
    {
     "name": "stdout",
     "output_type": "stream",
     "text": [
      "24/24 [==============================] - ETA: 0s - loss: 0.2392 - accuracy: 0.90 - 0s 780us/step - loss: 0.4254 - accuracy: 0.8149\n",
      "Epoch 1/5\n",
      "71/71 [==============================] - ETA: 0s - loss: 12.2342 - accuracy: 0.500 - ETA: 0s - loss: 11.2343 - accuracy: 0.609 - 0s 1ms/step - loss: 9.4044 - accuracy: 0.6155\n",
      "Epoch 2/5\n",
      "71/71 [==============================] - ETA: 0s - loss: 1.6256 - accuracy: 0.78 - ETA: 0s - loss: 1.6220 - accuracy: 0.67 - 0s 924us/step - loss: 1.4852 - accuracy: 0.6838\n",
      "Epoch 3/5\n",
      "71/71 [==============================] - ETA: 0s - loss: 0.8371 - accuracy: 0.78 - ETA: 0s - loss: 0.7487 - accuracy: 0.74 - 0s 910us/step - loss: 0.7164 - accuracy: 0.7500\n",
      "Epoch 4/5\n",
      "71/71 [==============================] - ETA: 0s - loss: 0.1784 - accuracy: 0.93 - ETA: 0s - loss: 0.4937 - accuracy: 0.78 - 0s 922us/step - loss: 0.4889 - accuracy: 0.7851\n",
      "Epoch 5/5\n",
      "71/71 [==============================] - ETA: 0s - loss: 0.4857 - accuracy: 0.71 - ETA: 0s - loss: 0.4778 - accuracy: 0.79 - 0s 916us/step - loss: 0.4886 - accuracy: 0.7957\n",
      "24/24 [==============================] - ETA: 0s - loss: 0.2439 - accuracy: 0.90 - 0s 745us/step - loss: 0.3660 - accuracy: 0.8482\n",
      "Epoch 1/5\n",
      "71/71 [==============================] - ETA: 0s - loss: 5.5759 - accuracy: 0.68 - ETA: 0s - loss: 9.0343 - accuracy: 0.60 - 0s 970us/step - loss: 7.8681 - accuracy: 0.6128\n",
      "Epoch 2/5\n",
      "71/71 [==============================] - ETA: 0s - loss: 2.3677 - accuracy: 0.75 - ETA: 0s - loss: 1.9244 - accuracy: 0.68 - 0s 991us/step - loss: 1.6507 - accuracy: 0.7016\n",
      "Epoch 3/5\n",
      "71/71 [==============================] - ETA: 0s - loss: 0.7685 - accuracy: 0.68 - ETA: 0s - loss: 0.7060 - accuracy: 0.75 - 0s 874us/step - loss: 0.6896 - accuracy: 0.7469\n",
      "Epoch 4/5\n",
      "71/71 [==============================] - ETA: 0s - loss: 0.5698 - accuracy: 0.78 - ETA: 0s - loss: 0.5403 - accuracy: 0.76 - 0s 936us/step - loss: 0.5263 - accuracy: 0.7784\n",
      "Epoch 5/5\n",
      "71/71 [==============================] - ETA: 0s - loss: 0.8676 - accuracy: 0.68 - ETA: 0s - loss: 0.4831 - accuracy: 0.78 - 0s 878us/step - loss: 0.4794 - accuracy: 0.7913\n",
      "24/24 [==============================] - ETA: 0s - loss: 0.2492 - accuracy: 0.93 - 0s 817us/step - loss: 0.4076 - accuracy: 0.8229\n",
      "Epoch 1/5\n",
      "71/71 [==============================] - ETA: 0s - loss: 7.0633 - accuracy: 0.65 - ETA: 0s - loss: 9.3855 - accuracy: 0.59 - 0s 963us/step - loss: 8.5642 - accuracy: 0.5964\n",
      "Epoch 2/5\n",
      "71/71 [==============================] - ETA: 0s - loss: 2.9888 - accuracy: 0.59 - ETA: 0s - loss: 1.7254 - accuracy: 0.70 - 0s 926us/step - loss: 1.5508 - accuracy: 0.7087\n",
      "Epoch 3/5\n",
      "71/71 [==============================] - ETA: 0s - loss: 0.9712 - accuracy: 0.75 - ETA: 0s - loss: 0.7678 - accuracy: 0.73 - 0s 911us/step - loss: 0.7471 - accuracy: 0.7429\n",
      "Epoch 4/5\n",
      "71/71 [==============================] - ETA: 0s - loss: 0.3736 - accuracy: 0.84 - ETA: 0s - loss: 0.5024 - accuracy: 0.79 - 0s 890us/step - loss: 0.5140 - accuracy: 0.7891\n",
      "Epoch 5/5\n",
      "71/71 [==============================] - ETA: 0s - loss: 0.5663 - accuracy: 0.81 - ETA: 0s - loss: 0.4794 - accuracy: 0.79 - 0s 892us/step - loss: 0.4710 - accuracy: 0.7948\n",
      "24/24 [==============================] - ETA: 0s - loss: 0.2598 - accuracy: 0.93 - 0s 714us/step - loss: 0.3849 - accuracy: 0.8242\n",
      "Epoch 1/5\n",
      "71/71 [==============================] - ETA: 0s - loss: 9.4526 - accuracy: 0.75 - ETA: 0s - loss: 9.8538 - accuracy: 0.60 - 0s 1ms/step - loss: 8.0114 - accuracy: 0.6132\n",
      "Epoch 2/5\n",
      "71/71 [==============================] - ETA: 0s - loss: 2.6252 - accuracy: 0.62 - ETA: 0s - loss: 2.0772 - accuracy: 0.66 - 0s 1ms/step - loss: 1.5631 - accuracy: 0.6985\n",
      "Epoch 3/5\n",
      "71/71 [==============================] - ETA: 0s - loss: 0.4412 - accuracy: 0.75 - ETA: 0s - loss: 0.6628 - accuracy: 0.74 - 0s 1ms/step - loss: 0.6324 - accuracy: 0.7607\n",
      "Epoch 4/5\n",
      "71/71 [==============================] - ETA: 0s - loss: 0.6669 - accuracy: 0.84 - ETA: 0s - loss: 0.4813 - accuracy: 0.78 - 0s 903us/step - loss: 0.4907 - accuracy: 0.7909\n",
      "Epoch 5/5\n",
      "71/71 [==============================] - ETA: 0s - loss: 0.4698 - accuracy: 0.84 - ETA: 0s - loss: 0.4441 - accuracy: 0.81 - 0s 895us/step - loss: 0.4598 - accuracy: 0.8073\n",
      "24/24 [==============================] - ETA: 0s - loss: 0.3107 - accuracy: 0.81 - 0s 826us/step - loss: 0.4251 - accuracy: 0.7936\n",
      "Epoch 1/5\n",
      "71/71 [==============================] - ETA: 0s - loss: 22.4424 - accuracy: 0.406 - ETA: 0s - loss: 10.9362 - accuracy: 0.598 - 0s 1ms/step - loss: 8.3666 - accuracy: 0.6212\n",
      "Epoch 2/5\n",
      "71/71 [==============================] - ETA: 0s - loss: 3.0538 - accuracy: 0.59 - ETA: 0s - loss: 1.9472 - accuracy: 0.67 - 0s 960us/step - loss: 1.7063 - accuracy: 0.6834\n",
      "Epoch 3/5\n",
      "71/71 [==============================] - ETA: 0s - loss: 1.0568 - accuracy: 0.59 - ETA: 0s - loss: 1.0701 - accuracy: 0.71 - 0s 1ms/step - loss: 0.9663 - accuracy: 0.7260\n",
      "Epoch 4/5\n",
      "71/71 [==============================] - ETA: 0s - loss: 0.2241 - accuracy: 0.87 - ETA: 0s - loss: 0.5983 - accuracy: 0.77 - 0s 1ms/step - loss: 0.5692 - accuracy: 0.7758\n",
      "Epoch 5/5\n",
      "71/71 [==============================] - ETA: 0s - loss: 0.3767 - accuracy: 0.84 - ETA: 0s - loss: 0.5478 - accuracy: 0.77 - 0s 965us/step - loss: 0.5218 - accuracy: 0.7837\n",
      "24/24 [==============================] - ETA: 0s - loss: 0.2770 - accuracy: 0.90 - 0s 718us/step - loss: 0.4277 - accuracy: 0.7883\n",
      "Epoch 1/5\n",
      "71/71 [==============================] - ETA: 0s - loss: 20.5015 - accuracy: 0.531 - ETA: 0s - loss: 8.3501 - accuracy: 0.619 - 0s 991us/step - loss: 6.9435 - accuracy: 0.6261\n",
      "Epoch 2/5\n",
      "71/71 [==============================] - ETA: 0s - loss: 0.5839 - accuracy: 0.78 - ETA: 0s - loss: 2.1351 - accuracy: 0.68 - 0s 922us/step - loss: 2.0745 - accuracy: 0.6803\n",
      "Epoch 3/5\n",
      "71/71 [==============================] - ETA: 0s - loss: 0.9976 - accuracy: 0.71 - ETA: 0s - loss: 0.8644 - accuracy: 0.73 - 0s 916us/step - loss: 0.8178 - accuracy: 0.7402\n",
      "Epoch 4/5\n",
      "71/71 [==============================] - ETA: 0s - loss: 0.4819 - accuracy: 0.87 - ETA: 0s - loss: 0.5598 - accuracy: 0.77 - 0s 937us/step - loss: 0.5588 - accuracy: 0.7802\n",
      "Epoch 5/5\n",
      "71/71 [==============================] - ETA: 0s - loss: 0.7956 - accuracy: 0.75 - ETA: 0s - loss: 0.5139 - accuracy: 0.77 - 0s 1ms/step - loss: 0.5013 - accuracy: 0.7837\n",
      "24/24 [==============================] - ETA: 0s - loss: 0.3655 - accuracy: 0.84 - 0s 829us/step - loss: 0.4646 - accuracy: 0.7896\n",
      "Epoch 1/5\n",
      "71/71 [==============================] - ETA: 0s - loss: 4.1772 - accuracy: 0.59 - ETA: 0s - loss: 7.7820 - accuracy: 0.59 - 0s 1ms/step - loss: 5.9580 - accuracy: 0.6283\n",
      "Epoch 2/5\n",
      "71/71 [==============================] - ETA: 0s - loss: 1.3564 - accuracy: 0.78 - ETA: 0s - loss: 2.0832 - accuracy: 0.68 - 0s 1ms/step - loss: 1.8245 - accuracy: 0.6887\n",
      "Epoch 3/5\n",
      "71/71 [==============================] - ETA: 0s - loss: 1.1303 - accuracy: 0.78 - ETA: 0s - loss: 1.0722 - accuracy: 0.71 - 0s 1ms/step - loss: 0.9146 - accuracy: 0.7327\n",
      "Epoch 4/5\n",
      "71/71 [==============================] - ETA: 0s - loss: 0.3891 - accuracy: 0.81 - ETA: 0s - loss: 0.6515 - accuracy: 0.76 - 0s 929us/step - loss: 0.6323 - accuracy: 0.7678\n",
      "Epoch 5/5\n",
      "71/71 [==============================] - ETA: 0s - loss: 1.1342 - accuracy: 0.78 - ETA: 0s - loss: 0.5328 - accuracy: 0.79 - 0s 1ms/step - loss: 0.5161 - accuracy: 0.7913\n",
      "24/24 [==============================] - ETA: 0s - loss: 0.2968 - accuracy: 0.84 - 0s 736us/step - loss: 0.3680 - accuracy: 0.8269\n"
     ]
    }
   ],
   "source": [
    "# It looks like best value is somewhere between 350 and 500\n",
    "# Narrow this down\n",
    "# Loop through nodes\n",
    "final_accuracy_node_list = []\n",
    "\n",
    "for i in range(350, 500, 10):\n",
    "    build_model_output = build_model(i, .4, .01)\n",
    "    fit_model_output = fit_model(build_model_output, train_data3, train_labels3, 5)\n",
    "    final_accuracy = evaluate_model(build_model_output, dev_data3, dev_labels3)\n",
    "    final_accuracy_node_list.append(final_accuracy)\n"
   ]
  },
  {
   "cell_type": "code",
   "execution_count": 89,
   "metadata": {},
   "outputs": [
    {
     "data": {
      "text/plain": [
       "Text(0, 0.5, 'Accuracy')"
      ]
     },
     "execution_count": 89,
     "metadata": {},
     "output_type": "execute_result"
    },
    {
     "data": {
      "image/png": "[encoded data removed]",
      "text/plain": [
       "<Figure size 432x288 with 1 Axes>"
      ]
     },
     "metadata": {
      "needs_background": "light"
     },
     "output_type": "display_data"
    }
   ],
   "source": [
    "#Graph results\n",
    "plt.plot(range(350, 500, 10), final_accuracy_node_list, marker = \".\")\n",
    "plt.xlabel('Number of Nodes')\n",
    "plt.ylabel('Accuracy')"
   ]
  },
  {
   "cell_type": "code",
   "execution_count": 94,
   "metadata": {},
   "outputs": [
    {
     "name": "stdout",
     "output_type": "stream",
     "text": [
      "Epoch 1/5\n",
      "71/71 [==============================] - ETA: 0s - loss: 8.9231 - accuracy: 0.56 - ETA: 0s - loss: 6.5176 - accuracy: 0.63 - 0s 997us/step - loss: 5.6583 - accuracy: 0.6301\n",
      "Epoch 2/5\n",
      "71/71 [==============================] - ETA: 0s - loss: 2.3208 - accuracy: 0.68 - ETA: 0s - loss: 1.9936 - accuracy: 0.67 - 0s 978us/step - loss: 1.7482 - accuracy: 0.6883\n",
      "Epoch 3/5\n",
      "71/71 [==============================] - ETA: 0s - loss: 1.4628 - accuracy: 0.59 - ETA: 0s - loss: 0.7248 - accuracy: 0.76 - 0s 986us/step - loss: 0.6870 - accuracy: 0.7602\n",
      "Epoch 4/5\n",
      "71/71 [==============================] - ETA: 0s - loss: 0.4472 - accuracy: 0.78 - ETA: 0s - loss: 0.4950 - accuracy: 0.78 - 0s 958us/step - loss: 0.4962 - accuracy: 0.7806\n",
      "Epoch 5/5\n",
      "71/71 [==============================] - ETA: 0s - loss: 0.6988 - accuracy: 0.71 - ETA: 0s - loss: 0.4657 - accuracy: 0.80 - 0s 1ms/step - loss: 0.4714 - accuracy: 0.7988\n",
      "24/24 [==============================] - ETA: 0s - loss: 0.3826 - accuracy: 0.81 - 0s 699us/step - loss: 0.4395 - accuracy: 0.7896\n",
      "Epoch 1/5\n",
      "71/71 [==============================] - ETA: 0s - loss: 6.6614 - accuracy: 0.59 - ETA: 0s - loss: 8.1864 - accuracy: 0.62 - 0s 987us/step - loss: 6.9566 - accuracy: 0.6399\n",
      "Epoch 2/5\n",
      "71/71 [==============================] - ETA: 0s - loss: 3.6240 - accuracy: 0.53 - ETA: 0s - loss: 2.0778 - accuracy: 0.67 - 0s 1ms/step - loss: 1.5256 - accuracy: 0.7020\n",
      "Epoch 3/5\n",
      "71/71 [==============================] - ETA: 0s - loss: 0.9347 - accuracy: 0.78 - ETA: 0s - loss: 0.7280 - accuracy: 0.72 - 0s 975us/step - loss: 0.6826 - accuracy: 0.7442\n",
      "Epoch 4/5\n",
      "71/71 [==============================] - ETA: 0s - loss: 0.8654 - accuracy: 0.78 - ETA: 0s - loss: 0.5976 - accuracy: 0.75 - 0s 1ms/step - loss: 0.6403 - accuracy: 0.7536\n",
      "Epoch 5/5\n",
      "71/71 [==============================] - ETA: 0s - loss: 0.3642 - accuracy: 0.87 - ETA: 0s - loss: 0.5194 - accuracy: 0.77 - 0s 1ms/step - loss: 0.5024 - accuracy: 0.7873\n",
      "24/24 [==============================] - ETA: 0s - loss: 0.3303 - accuracy: 0.84 - 0s 702us/step - loss: 0.4697 - accuracy: 0.7790\n",
      "Epoch 1/5\n",
      "71/71 [==============================] - ETA: 0s - loss: 17.0309 - accuracy: 0.437 - ETA: 0s - loss: 7.4208 - accuracy: 0.605 - 0s 1ms/step - loss: 5.8065 - accuracy: 0.6203\n",
      "Epoch 2/5\n",
      "71/71 [==============================] - ETA: 0s - loss: 1.6087 - accuracy: 0.81 - ETA: 0s - loss: 2.1746 - accuracy: 0.65 - 0s 1ms/step - loss: 1.6405 - accuracy: 0.6949\n",
      "Epoch 3/5\n",
      "71/71 [==============================] - ETA: 0s - loss: 0.5113 - accuracy: 0.71 - ETA: 0s - loss: 0.6063 - accuracy: 0.76 - 0s 1ms/step - loss: 0.5963 - accuracy: 0.7700\n",
      "Epoch 4/5\n",
      "71/71 [==============================] - ETA: 0s - loss: 0.5215 - accuracy: 0.84 - ETA: 0s - loss: 0.5005 - accuracy: 0.78 - 0s 985us/step - loss: 0.5106 - accuracy: 0.7824\n",
      "Epoch 5/5\n",
      "71/71 [==============================] - ETA: 0s - loss: 0.4660 - accuracy: 0.71 - ETA: 0s - loss: 0.4487 - accuracy: 0.79 - 0s 1ms/step - loss: 0.4827 - accuracy: 0.7891\n",
      "24/24 [==============================] - ETA: 0s - loss: 0.3124 - accuracy: 0.90 - 0s 774us/step - loss: 0.4558 - accuracy: 0.7763\n",
      "Epoch 1/5\n",
      "71/71 [==============================] - ETA: 0s - loss: 15.4241 - accuracy: 0.437 - ETA: 0s - loss: 8.8014 - accuracy: 0.610 - 0s 1ms/step - loss: 7.0870 - accuracy: 0.6306\n",
      "Epoch 2/5\n",
      "71/71 [==============================] - ETA: 0s - loss: 2.4660 - accuracy: 0.62 - ETA: 0s - loss: 1.8426 - accuracy: 0.67 - 0s 1ms/step - loss: 1.5122 - accuracy: 0.6976\n",
      "Epoch 3/5\n",
      "71/71 [==============================] - ETA: 0s - loss: 0.8486 - accuracy: 0.68 - ETA: 0s - loss: 0.7051 - accuracy: 0.75 - 0s 1ms/step - loss: 0.6762 - accuracy: 0.7589\n",
      "Epoch 4/5\n",
      "71/71 [==============================] - ETA: 0s - loss: 0.8115 - accuracy: 0.68 - ETA: 0s - loss: 0.5650 - accuracy: 0.78 - 0s 987us/step - loss: 0.5487 - accuracy: 0.7820\n",
      "Epoch 5/5\n",
      "71/71 [==============================] - ETA: 0s - loss: 0.2965 - accuracy: 0.87 - ETA: 0s - loss: 0.5240 - accuracy: 0.77 - 0s 1ms/step - loss: 0.5221 - accuracy: 0.7824\n",
      "24/24 [==============================] - ETA: 0s - loss: 0.2963 - accuracy: 0.87 - 0s 770us/step - loss: 0.3778 - accuracy: 0.8242\n",
      "Epoch 1/5\n",
      "71/71 [==============================] - ETA: 0s - loss: 19.3575 - accuracy: 0.437 - ETA: 0s - loss: 8.4067 - accuracy: 0.623 - 0s 987us/step - loss: 7.0887 - accuracy: 0.6292\n",
      "Epoch 2/5\n",
      "71/71 [==============================] - ETA: 0s - loss: 2.1824 - accuracy: 0.78 - ETA: 0s - loss: 1.9786 - accuracy: 0.67 - ETA: 0s - loss: 1.4557 - accuracy: 0.69 - 0s 2ms/step - loss: 1.4407 - accuracy: 0.6985\n",
      "Epoch 3/5\n",
      "71/71 [==============================] - ETA: 0s - loss: 0.4455 - accuracy: 0.75 - ETA: 0s - loss: 0.6580 - accuracy: 0.75 - 0s 1ms/step - loss: 0.6535 - accuracy: 0.7491\n",
      "Epoch 4/5\n",
      "71/71 [==============================] - ETA: 0s - loss: 0.6318 - accuracy: 0.75 - ETA: 0s - loss: 0.5607 - accuracy: 0.76 - 0s 1ms/step - loss: 0.5618 - accuracy: 0.7660\n",
      "Epoch 5/5\n",
      "71/71 [==============================] - ETA: 0s - loss: 0.4303 - accuracy: 0.93 - ETA: 0s - loss: 0.5248 - accuracy: 0.78 - 0s 968us/step - loss: 0.5068 - accuracy: 0.7975\n",
      "24/24 [==============================] - ETA: 0s - loss: 0.3040 - accuracy: 0.87 - 0s 645us/step - loss: 0.3964 - accuracy: 0.8229\n",
      "Epoch 1/5\n",
      "71/71 [==============================] - ETA: 0s - loss: 12.6845 - accuracy: 0.500 - ETA: 0s - loss: 9.8597 - accuracy: 0.588 - 0s 1ms/step - loss: 8.5086 - accuracy: 0.6075\n",
      "Epoch 2/5\n",
      "71/71 [==============================] - ETA: 0s - loss: 2.9341 - accuracy: 0.62 - ETA: 0s - loss: 2.0998 - accuracy: 0.67 - 0s 1ms/step - loss: 1.8447 - accuracy: 0.6821\n",
      "Epoch 3/5\n",
      "71/71 [==============================] - ETA: 0s - loss: 2.7776 - accuracy: 0.65 - ETA: 0s - loss: 1.0693 - accuracy: 0.73 - 0s 1ms/step - loss: 0.8781 - accuracy: 0.7571\n",
      "Epoch 4/5\n",
      "71/71 [==============================] - ETA: 0s - loss: 0.4972 - accuracy: 0.78 - ETA: 0s - loss: 0.4956 - accuracy: 0.78 - 0s 1ms/step - loss: 0.5130 - accuracy: 0.7837\n",
      "Epoch 5/5\n",
      "71/71 [==============================] - ETA: 0s - loss: 0.4454 - accuracy: 0.78 - ETA: 0s - loss: 0.4459 - accuracy: 0.79 - 0s 1ms/step - loss: 0.4613 - accuracy: 0.7917\n",
      "24/24 [==============================] - ETA: 0s - loss: 0.2341 - accuracy: 0.90 - 0s 782us/step - loss: 0.3671 - accuracy: 0.8429\n",
      "Epoch 1/5\n",
      "71/71 [==============================] - ETA: 0s - loss: 22.8408 - accuracy: 0.468 - ETA: 0s - loss: 9.3268 - accuracy: 0.615 - 0s 1ms/step - loss: 7.3661 - accuracy: 0.6292\n",
      "Epoch 2/5\n",
      "71/71 [==============================] - ETA: 0s - loss: 1.6724 - accuracy: 0.71 - ETA: 0s - loss: 2.1361 - accuracy: 0.65 - 0s 1ms/step - loss: 1.6492 - accuracy: 0.6829\n",
      "Epoch 3/5\n",
      "71/71 [==============================] - ETA: 0s - loss: 1.1668 - accuracy: 0.68 - ETA: 0s - loss: 0.7683 - accuracy: 0.74 - 0s 976us/step - loss: 0.7159 - accuracy: 0.7567\n",
      "Epoch 4/5\n",
      "71/71 [==============================] - ETA: 0s - loss: 0.9357 - accuracy: 0.62 - ETA: 0s - loss: 0.5699 - accuracy: 0.76 - 0s 946us/step - loss: 0.5610 - accuracy: 0.7691\n",
      "Epoch 5/5\n",
      "71/71 [==============================] - ETA: 0s - loss: 0.2616 - accuracy: 0.93 - ETA: 0s - loss: 0.5064 - accuracy: 0.79 - 0s 1ms/step - loss: 0.5104 - accuracy: 0.7904\n",
      "24/24 [==============================] - ETA: 0s - loss: 0.2541 - accuracy: 0.90 - 0s 718us/step - loss: 0.3707 - accuracy: 0.8455\n",
      "Epoch 1/5\n",
      "71/71 [==============================] - ETA: 0s - loss: 3.7870 - accuracy: 0.68 - ETA: 0s - loss: 10.1405 - accuracy: 0.593 - 0s 1ms/step - loss: 7.7973 - accuracy: 0.6150\n",
      "Epoch 2/5\n",
      "71/71 [==============================] - ETA: 0s - loss: 3.9057 - accuracy: 0.56 - ETA: 0s - loss: 1.7003 - accuracy: 0.69 - 0s 919us/step - loss: 1.5590 - accuracy: 0.6945\n",
      "Epoch 3/5\n",
      "71/71 [==============================] - ETA: 0s - loss: 0.9825 - accuracy: 0.71 - ETA: 0s - loss: 0.9492 - accuracy: 0.74 - 0s 961us/step - loss: 0.8976 - accuracy: 0.7345\n",
      "Epoch 4/5\n",
      "71/71 [==============================] - ETA: 0s - loss: 0.4636 - accuracy: 0.78 - ETA: 0s - loss: 0.5567 - accuracy: 0.77 - 0s 903us/step - loss: 0.5396 - accuracy: 0.7744\n",
      "Epoch 5/5\n"
     ]
    },
    {
     "name": "stdout",
     "output_type": "stream",
     "text": [
      "71/71 [==============================] - ETA: 0s - loss: 0.7170 - accuracy: 0.68 - ETA: 0s - loss: 0.4712 - accuracy: 0.78 - 0s 933us/step - loss: 0.4771 - accuracy: 0.7855\n",
      "24/24 [==============================] - ETA: 0s - loss: 0.3606 - accuracy: 0.90 - 0s 778us/step - loss: 0.3957 - accuracy: 0.8429\n",
      "Epoch 1/5\n",
      "71/71 [==============================] - ETA: 0s - loss: 10.5858 - accuracy: 0.406 - ETA: 0s - loss: 9.1910 - accuracy: 0.585 - 0s 1ms/step - loss: 7.5102 - accuracy: 0.6057\n",
      "Epoch 2/5\n",
      "71/71 [==============================] - ETA: 0s - loss: 1.2530 - accuracy: 0.68 - ETA: 0s - loss: 1.6465 - accuracy: 0.69 - 0s 963us/step - loss: 1.5485 - accuracy: 0.6994\n",
      "Epoch 3/5\n",
      "71/71 [==============================] - ETA: 0s - loss: 0.9303 - accuracy: 0.71 - ETA: 0s - loss: 0.7202 - accuracy: 0.75 - 0s 960us/step - loss: 0.6801 - accuracy: 0.7611\n",
      "Epoch 4/5\n",
      "71/71 [==============================] - ETA: 0s - loss: 0.6405 - accuracy: 0.75 - ETA: 0s - loss: 0.5260 - accuracy: 0.78 - 0s 943us/step - loss: 0.5164 - accuracy: 0.7842\n",
      "Epoch 5/5\n",
      "71/71 [==============================] - ETA: 0s - loss: 0.3259 - accuracy: 0.84 - ETA: 0s - loss: 0.6040 - accuracy: 0.76 - 0s 932us/step - loss: 0.6035 - accuracy: 0.7655\n",
      "24/24 [==============================] - ETA: 0s - loss: 0.4126 - accuracy: 0.78 - 0s 725us/step - loss: 0.4815 - accuracy: 0.7763\n",
      "Epoch 1/5\n",
      "71/71 [==============================] - ETA: 0s - loss: 12.6978 - accuracy: 0.500 - ETA: 0s - loss: 8.7435 - accuracy: 0.609 - 0s 985us/step - loss: 7.1767 - accuracy: 0.6257\n",
      "Epoch 2/5\n",
      "71/71 [==============================] - ETA: 0s - loss: 0.2723 - accuracy: 0.93 - ETA: 0s - loss: 2.0960 - accuracy: 0.68 - 0s 955us/step - loss: 1.8180 - accuracy: 0.7065\n",
      "Epoch 3/5\n",
      "71/71 [==============================] - ETA: 0s - loss: 1.1656 - accuracy: 0.68 - ETA: 0s - loss: 0.7126 - accuracy: 0.76 - 0s 942us/step - loss: 0.7007 - accuracy: 0.7571\n",
      "Epoch 4/5\n",
      "71/71 [==============================] - ETA: 0s - loss: 0.8361 - accuracy: 0.71 - ETA: 0s - loss: 0.5736 - accuracy: 0.77 - 0s 886us/step - loss: 0.5647 - accuracy: 0.7740\n",
      "Epoch 5/5\n",
      "71/71 [==============================] - ETA: 0s - loss: 0.3041 - accuracy: 0.87 - ETA: 0s - loss: 0.5269 - accuracy: 0.77 - 0s 886us/step - loss: 0.5208 - accuracy: 0.7749\n",
      "24/24 [==============================] - ETA: 0s - loss: 0.3951 - accuracy: 0.81 - 0s 761us/step - loss: 0.4489 - accuracy: 0.7803\n",
      "Epoch 1/5\n",
      "71/71 [==============================] - ETA: 0s - loss: 7.9214 - accuracy: 0.56 - ETA: 0s - loss: 9.1127 - accuracy: 0.59 - 0s 933us/step - loss: 7.7301 - accuracy: 0.6128\n",
      "Epoch 2/5\n",
      "71/71 [==============================] - ETA: 0s - loss: 1.1839 - accuracy: 0.81 - ETA: 0s - loss: 1.4154 - accuracy: 0.69 - 0s 925us/step - loss: 1.3678 - accuracy: 0.6954\n",
      "Epoch 3/5\n",
      "71/71 [==============================] - ETA: 0s - loss: 0.6106 - accuracy: 0.84 - ETA: 0s - loss: 0.8260 - accuracy: 0.73 - 0s 885us/step - loss: 0.7931 - accuracy: 0.7389\n",
      "Epoch 4/5\n",
      "71/71 [==============================] - ETA: 0s - loss: 0.2504 - accuracy: 0.87 - ETA: 0s - loss: 0.5911 - accuracy: 0.76 - 0s 896us/step - loss: 0.5713 - accuracy: 0.7660\n",
      "Epoch 5/5\n",
      "71/71 [==============================] - ETA: 0s - loss: 0.4501 - accuracy: 0.78 - ETA: 0s - loss: 0.5205 - accuracy: 0.78 - 0s 937us/step - loss: 0.5242 - accuracy: 0.7824\n",
      "24/24 [==============================] - ETA: 0s - loss: 0.3141 - accuracy: 0.84 - 0s 679us/step - loss: 0.3903 - accuracy: 0.8123\n"
     ]
    }
   ],
   "source": [
    "# It looks like best value is somewhere between 400 and 410\n",
    "# Narrow this down\n",
    "# Loop through nodes\n",
    "final_accuracy_node_list = []\n",
    "\n",
    "for i in range(400, 411, 1):\n",
    "    build_model_output = build_model(i, .4, .01)\n",
    "    fit_model_output = fit_model(build_model_output, train_data3, train_labels3, 5)\n",
    "    final_accuracy = evaluate_model(build_model_output, dev_data3, dev_labels3)\n",
    "    final_accuracy_node_list.append(final_accuracy)"
   ]
  },
  {
   "cell_type": "code",
   "execution_count": 95,
   "metadata": {},
   "outputs": [
    {
     "data": {
      "text/plain": [
       "Text(0, 0.5, 'Accuracy')"
      ]
     },
     "execution_count": 95,
     "metadata": {},
     "output_type": "execute_result"
    },
    {
     "data": {
      "image/png": "[encoded data removed]",
      "text/plain": [
       "<Figure size 432x288 with 1 Axes>"
      ]
     },
     "metadata": {
      "needs_background": "light"
     },
     "output_type": "display_data"
    }
   ],
   "source": [
    "#Graph results\n",
    "plt.plot(range(400, 411, 1), final_accuracy_node_list, marker = \".\")\n",
    "plt.xlabel('Number of Nodes')\n",
    "plt.ylabel('Accuracy')"
   ]
  },
  {
   "cell_type": "code",
   "execution_count": 110,
   "metadata": {},
   "outputs": [
    {
     "name": "stdout",
     "output_type": "stream",
     "text": [
      "Epoch 1/10\n",
      "71/71 [==============================] - ETA: 0s - loss: 7.7689 - accuracy: 0.43 - ETA: 0s - loss: 8.7047 - accuracy: 0.60 - 0s 1ms/step - loss: 6.6478 - accuracy: 0.6252\n",
      "Epoch 2/10\n",
      "71/71 [==============================] - ETA: 0s - loss: 0.9405 - accuracy: 0.75 - ETA: 0s - loss: 1.2204 - accuracy: 0.70 - 0s 970us/step - loss: 1.1058 - accuracy: 0.7194\n",
      "Epoch 3/10\n",
      "71/71 [==============================] - ETA: 0s - loss: 0.6778 - accuracy: 0.68 - ETA: 0s - loss: 0.7363 - accuracy: 0.75 - 0s 984us/step - loss: 0.6876 - accuracy: 0.7611\n",
      "Epoch 4/10\n",
      "71/71 [==============================] - ETA: 0s - loss: 0.4710 - accuracy: 0.78 - ETA: 0s - loss: 0.4538 - accuracy: 0.79 - 0s 936us/step - loss: 0.4480 - accuracy: 0.7993\n",
      "Epoch 5/10\n",
      "71/71 [==============================] - ETA: 0s - loss: 0.3777 - accuracy: 0.84 - ETA: 0s - loss: 0.4269 - accuracy: 0.80 - 0s 980us/step - loss: 0.4231 - accuracy: 0.8042\n",
      "Epoch 6/10\n",
      "71/71 [==============================] - ETA: 0s - loss: 0.3536 - accuracy: 0.78 - ETA: 0s - loss: 0.4219 - accuracy: 0.81 - 0s 1ms/step - loss: 0.4341 - accuracy: 0.8104\n",
      "Epoch 7/10\n",
      "71/71 [==============================] - ETA: 0s - loss: 0.2397 - accuracy: 0.84 - ETA: 0s - loss: 0.4339 - accuracy: 0.79 - 0s 1ms/step - loss: 0.4318 - accuracy: 0.7993\n",
      "Epoch 8/10\n",
      "71/71 [==============================] - ETA: 0s - loss: 0.6264 - accuracy: 0.78 - ETA: 0s - loss: 0.4270 - accuracy: 0.81 - 0s 1ms/step - loss: 0.4180 - accuracy: 0.8099\n",
      "Epoch 9/10\n",
      "71/71 [==============================] - ETA: 0s - loss: 0.1898 - accuracy: 0.96 - ETA: 0s - loss: 0.4318 - accuracy: 0.81 - 0s 1ms/step - loss: 0.4338 - accuracy: 0.8108\n",
      "Epoch 10/10\n",
      "71/71 [==============================] - ETA: 0s - loss: 0.3168 - accuracy: 0.90 - ETA: 0s - loss: 0.4473 - accuracy: 0.80 - 0s 1ms/step - loss: 0.4381 - accuracy: 0.8051\n",
      "24/24 [==============================] - ETA: 0s - loss: 0.3755 - accuracy: 0.84 - 0s 723us/step - loss: 0.5638 - accuracy: 0.7896\n",
      "0.7896138429641724\n"
     ]
    }
   ],
   "source": [
    "#Best value is 406. Re-run model with this value and 50 epochs, since we have tuned all the parameters.\n",
    "build_model_output = build_model(406, .2, .01)\n",
    "fit_model_output = fit_model(build_model_output, train_data3, train_labels3, 10)\n",
    "final_accuracy = evaluate_model(build_model_output, dev_data3, dev_labels3)\n",
    "print(final_accuracy)"
   ]
  },
  {
   "cell_type": "code",
   "execution_count": 111,
   "metadata": {},
   "outputs": [
    {
     "data": {
      "image/png": "[encoded data removed]",
      "text/plain": [
       "<Figure size 864x360 with 2 Axes>"
      ]
     },
     "metadata": {
      "needs_background": "light"
     },
     "output_type": "display_data"
    }
   ],
   "source": [
    "# Plot training cost and accuracy\n",
    "hist = fit_model_output.history\n",
    "fig = plt.figure(figsize=(12, 5))\n",
    "ax = fig.add_subplot(1, 2, 1)\n",
    "ax.plot(hist['loss'], lw=3)\n",
    "ax.set_title('Training loss (cost)', size=15)\n",
    "ax.set_xlabel('Epoch', size=15)\n",
    "ax.tick_params(axis='both', which='major', labelsize=15)\n",
    "\n",
    "ax = fig.add_subplot(1, 2, 2)\n",
    "ax.plot(hist['accuracy'], lw=3)\n",
    "ax.set_title('Training accuracy', size=15)\n",
    "ax.set_xlabel('Epoch', size=15)\n",
    "ax.tick_params(axis='both', which='major', labelsize=15)\n",
    "plt.tight_layout()"
   ]
  },
  {
   "cell_type": "markdown",
   "metadata": {},
   "source": [
    "**Conclusions**"
   ]
  },
  {
   "cell_type": "code",
   "execution_count": null,
   "metadata": {},
   "outputs": [],
   "source": []
  }
 ],
 "metadata": {
  "kernelspec": {
   "display_name": "Python 3",
   "language": "python",
   "name": "python3"
  },
  "language_info": {
   "codemirror_mode": {
    "name": "ipython",
    "version": 3
   },
   "file_extension": ".py",
   "mimetype": "text/x-python",
   "name": "python",
   "nbconvert_exporter": "python",
   "pygments_lexer": "ipython3",
   "version": "3.7.3"
  }
 },
 "nbformat": 4,
 "nbformat_minor": 2
}
