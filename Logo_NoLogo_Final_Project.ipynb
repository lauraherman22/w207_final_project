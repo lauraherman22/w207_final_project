{
 "cells": [
  {
   "cell_type": "markdown",
   "metadata": {},
   "source": [
    "**Step 1: Import packages**"
   ]
  },
  {
   "cell_type": "code",
   "execution_count": 1,
   "metadata": {},
   "outputs": [],
   "source": [
    "# Import libraries\n",
    "import pandas as pd\n",
    "import pandas_profiling\n",
    "import numpy as np\n",
    "import matplotlib.pyplot as plt\n",
    "import os\n",
    "import warnings\n",
    "import tensorflow as tf\n",
    "import kerastuner as kt\n",
    "import IPython\n",
    "\n",
    "# sklearn libraries for preprocessing\n",
    "from sklearn import preprocessing\n",
    "from sklearn.preprocessing import StandardScaler\n",
    "from sklearn.decomposition import PCA\n",
    "from sklearn.model_selection import train_test_split\n",
    "\n",
    "# sklearn libraries for models\n",
    "from sklearn.linear_model import LogisticRegression\n",
    "from tensorflow import keras\n",
    "from kerastuner import HyperModel\n",
    "from kerastuner import Hyperband\n",
    "\n",
    "# sklearn libraries for evaluation\n",
    "from sklearn import metrics"
   ]
  },
  {
   "cell_type": "markdown",
   "metadata": {},
   "source": [
    "**Step 2: Define working directories**"
   ]
  },
  {
   "cell_type": "code",
   "execution_count": null,
   "metadata": {},
   "outputs": [],
   "source": [
    "os.chdir('C:/Users/user/Documents/Berkeley_MIDS/W207_Machine_Learning/w207_final_project')"
   ]
  },
  {
   "cell_type": "markdown",
   "metadata": {},
   "source": [
    "**Step 3: Define classes**"
   ]
  },
  {
   "cell_type": "code",
   "execution_count": 2,
   "metadata": {},
   "outputs": [],
   "source": [
    "# Clear the training outputs at the end of every step\n",
    "class ClearTrainingOutput(tf.keras.callbacks.Callback):\n",
    "    def on_train_end(*args, **kwargs):\n",
    "        '''Clear the training outputs at the end of every step for the Keras Tuner'''\n",
    "        IPython.display.clear_output(wait = True)"
   ]
  },
  {
   "cell_type": "markdown",
   "metadata": {},
   "source": [
    "**Step 4: Define functions**"
   ]
  },
  {
   "cell_type": "code",
   "execution_count": 3,
   "metadata": {},
   "outputs": [],
   "source": [
    "def reduce(X, n):\n",
    "    '''PCA dimensionality reduction for X array and n principal components'''\n",
    "    ss = StandardScaler()\n",
    "    XS = ss.fit_transform(X)\n",
    "    pca = PCA(n_components = n) \n",
    "    X_reduced = pca.fit_transform(XS)\n",
    "    return X_reduced"
   ]
  },
  {
   "cell_type": "code",
   "execution_count": 4,
   "metadata": {},
   "outputs": [],
   "source": [
    "def data_split(X, y, test_p, mini_s):\n",
    "    '''Split train and test data for X,y data arrays with test_p percentage of observations in the test data and \n",
    "    mini_s number of observations in the mini_train set.'''\n",
    "    # Split into train and test data\n",
    "    train_data, test_data, train_labels, test_labels = train_test_split(X, y, test_size=test_p, random_state=1, stratify=y)\n",
    "\n",
    "    # Split test data into development data and training into mini train set for computation time\n",
    "    dev_data, dev_labels = test_data[:int(test_data.shape[0]*0.5)], test_labels[:int(test_data.shape[0]*0.5)]\n",
    "    mini_train_data, mini_train_labels = train_data[:mini_s], train_labels[:mini_s]\n",
    "    print('Train data shape:', train_data.shape)\n",
    "    print('Dev data shape:', dev_data.shape)\n",
    "    print('Mini_train data shape:', mini_train_data.shape)\n",
    "    \n",
    "    return train_data, train_labels, test_data, test_labels, dev_data, dev_labels, mini_train_data, mini_train_labels"
   ]
  },
  {
   "cell_type": "code",
   "execution_count": 5,
   "metadata": {},
   "outputs": [],
   "source": [
    "def log_reg(train_X, train_Y, dev_X, dev_Y):\n",
    "    '''Logistic regression looping through values of C. Input train and test data and labels and funtion \n",
    "    returns list of accuracies and list of C values.'''\n",
    "    c_values = [0.001, 0.01, 0.1, 0.2, 0.3, 0.4, 0.5, 1.0, 2.0, 5.0]\n",
    "    LR = []\n",
    "    for c in c_values:\n",
    "        clf = LogisticRegression(C=c, solver='liblinear', multi_class='auto')\n",
    "        clf.fit(train_X, train_Y)\n",
    "        clf_pred = clf.predict(dev_X)\n",
    "        LR.append(round(metrics.f1_score(dev_Y, clf_pred, average='weighted'),3))\n",
    "\n",
    "    return LR, c_values"
   ]
  },
  {
   "cell_type": "code",
   "execution_count": 6,
   "metadata": {},
   "outputs": [],
   "source": [
    "def LR_accuracy_c(train_X, train_Y, dev_X, dev_Y):\n",
    "    '''Calls logistic regression function and returns highest accuracy for specific value of C.'''\n",
    "    accuracy_list = log_reg(train_X, train_Y, dev_X, dev_Y)[0]\n",
    "    accuracy = [y for x,y in sorted(enumerate(accuracy_list), key = lambda x: x[1], reverse=True)][:1]\n",
    "    accuracy_index = [x for x,y in sorted(enumerate(accuracy_list), key = lambda x: x[1], reverse=True)][:1]\n",
    "    C = log_reg(train_X, train_Y, dev_X, dev_Y)[1][accuracy_index[0]]\n",
    "    \n",
    "    return accuracy[0], C"
   ]
  },
  {
   "cell_type": "code",
   "execution_count": 7,
   "metadata": {},
   "outputs": [],
   "source": [
    "def PCA_visualization(pca_vals, title, colors):\n",
    "    x = [item[0] for item in pca_vals] \n",
    "    y = [item[1] for item in pca_vals] \n",
    "\n",
    "    fig = plt.figure(figsize = (8,8))\n",
    "    ax = fig.add_subplot(1,1,1) \n",
    "    ax.set_xlabel('Principal Component 1', fontsize = 15)\n",
    "    ax.set_ylabel('Principal Component 2', fontsize = 15)\n",
    "    ax.set_title(title, fontsize = 20)\n",
    "    ax.scatter(x, y, c=colors, s = 5)\n",
    "    ax.grid()"
   ]
  },
  {
   "cell_type": "code",
   "execution_count": 8,
   "metadata": {},
   "outputs": [],
   "source": [
    "def PCA_k_optimize(train_X, train_Y, dev_X, dev_Y, k_list):\n",
    "    accuracies = []\n",
    "    c_vals = []\n",
    "    # Subset pixel data\n",
    "    train_pixel = train_X[:, :150529]\n",
    "    dev_pixel = dev_X[:, :150529]\n",
    "    train_nopixel = train_X[:, 150529:]\n",
    "    dev_nopixel = dev_X[:, 150529:]\n",
    "    for k in k_list:\n",
    "        #Scale and reduce only pixel data\n",
    "        ss = StandardScaler()\n",
    "        train_pixel_s = ss.fit_transform(train_pixel)\n",
    "        dev_pixel_s = ss.transform(dev_pixel)\n",
    "        pca = PCA(n_components = k) \n",
    "        train_pixel_reduced = pca.fit_transform(train_pixel_s)\n",
    "        dev_pixel_reduced = pca.transform(dev_pixel_s)\n",
    "        #Concatenate reduced pixel data back with non pixel data\n",
    "        train_X_new = np.concatenate((train_nopixel, train_pixel_reduced), axis=1)\n",
    "        dev_X_new = np.concatenate((dev_nopixel, dev_pixel_reduced), axis=1)\n",
    "        #Obtain accuracy and optimized c value\n",
    "        results = LR_accuracy_c(train_X_new, train_Y, dev_X_new, dev_Y)\n",
    "        accuracies.append(results[0])\n",
    "        c_vals.append(results[1])\n",
    "    return accuracies, c_vals"
   ]
  },
  {
   "cell_type": "code",
   "execution_count": 9,
   "metadata": {},
   "outputs": [],
   "source": [
    "def model_builder(hp):\n",
    "    '''Build a single layer dense neural network using Keras Tuner'''\n",
    "    model = keras.Sequential()\n",
    "  \n",
    "    # Tune the number of units in the first Dense layer\n",
    "    # Choose an optimal value between 32-512\n",
    "    hp_units = hp.Int('units', min_value = 32, max_value = 512, step = 32)\n",
    "\n",
    "    model.add(keras.layers.Dense(units = hp_units, activation = 'relu'))\n",
    "    \n",
    "    model.add(keras.layers.Dense(2, activation = 'softmax'))\n",
    "\n",
    "    # Tune the learning rate for the optimizer \n",
    "    # Choose an optimal value from 0.01, 0.001, or 0.0001\n",
    "    hp_learning_rate = hp.Choice('learning_rate', values = [1e-2, 1e-3, 1e-4]) \n",
    "  \n",
    "    model.compile(optimizer = keras.optimizers.Adam(learning_rate = hp_learning_rate),\n",
    "                loss = keras.losses.SparseCategoricalCrossentropy(from_logits = True), \n",
    "                metrics = ['accuracy'])\n",
    "  \n",
    "    return model"
   ]
  },
  {
   "cell_type": "code",
   "execution_count": 10,
   "metadata": {},
   "outputs": [],
   "source": [
    "def build_model(nodes, dropout_rate, lr):\n",
    "    '''Build layers of a neural net'''\n",
    "    \n",
    "    # Begins the linear arrangment of layers\n",
    "    model = tf.keras.models.Sequential([\n",
    "\n",
    "    # First layer \n",
    "    # This is a dense layer. Nodes are fully connected.\n",
    "    # Nodes is the number of nodes in the layer. This will be specified when calling the function.\n",
    "    tf.keras.layers.Dense(nodes, activation='relu'),\n",
    "\n",
    "    # Second layer\n",
    "    # Uses dropout regularization by dropping a certain percentage before next layer\n",
    "    # This makes it so that some of the nodes in a given layer don’t pass on their information to the next layer. \n",
    "    # This helps with computation time (less parameters) and with overfitting.\n",
    "    # Each node in the second  layer has a probability equal to the specified dropout rate of being dropped from the computation of the activations of the next layer. \n",
    "    tf.keras.layers.Dropout(dropout_rate),\n",
    "    \n",
    "    # Third layer\n",
    "    # This is the output layer. It returns a logits array of length 2 (because we have 2 classes - logo or not logo)\n",
    "    # Each node contains a probability that indicates the current image belongs to one of the 2 classes\n",
    "    # It uses the activation function Softmax which is the equivalent of the Sigmoid function for multiclass logits\n",
    "    tf.keras.layers.Dense(2, activation='softmax')])\n",
    "    \n",
    "    # Compile the model using the Adam optimizer\n",
    "    # The learning rate will be specified when the function is called\n",
    "    model.compile(keras.optimizers.Adam(learning_rate = lr),\n",
    "              loss='sparse_categorical_crossentropy',\n",
    "              metrics=['accuracy'])\n",
    "    \n",
    "    return model"
   ]
  },
  {
   "cell_type": "code",
   "execution_count": 11,
   "metadata": {},
   "outputs": [],
   "source": [
    "# Fit the neural net model\n",
    "# Specify the number of epochs\n",
    "def fit_model(model, data, labels, epoch_num):\n",
    "    history = model.fit(data, labels, epochs = epoch_num)\n",
    "    return history"
   ]
  },
  {
   "cell_type": "code",
   "execution_count": 12,
   "metadata": {},
   "outputs": [],
   "source": [
    "# Evaluate the neural net model\n",
    "def evaluate_model(model, data, labels):\n",
    "    test_loss, test_acc = model.evaluate(data, labels)\n",
    "    return test_acc"
   ]
  },
  {
   "cell_type": "markdown",
   "metadata": {},
   "source": [
    "**Step 5: Read data**"
   ]
  },
  {
   "cell_type": "markdown",
   "metadata": {},
   "source": [
    "5.1 Load and combine pixel data files into dataframe"
   ]
  },
  {
   "cell_type": "code",
   "execution_count": 13,
   "metadata": {},
   "outputs": [
    {
     "name": "stdout",
     "output_type": "stream",
     "text": [
      "['arr_0', 'arr_1']\n"
     ]
    }
   ],
   "source": [
    "# Load npz files to combine and print content files\n",
    "data_1 = np.load('et_w207_project_npz_files_5000_tmp_tmp5ocrhjnn.npz')\n",
    "data_1.close\n",
    "\n",
    "data_2 = np.load('et_w207_project_npz_files_5000_tmp_tmp092sag67.npz')\n",
    "data_2.close\n",
    "\n",
    "data_3 = np.load('et_w207_project_npz_files_5000_tmp_tmpf31_pn8p.npz')\n",
    "data_3.close\n",
    "\n",
    "data_4 = np.load('et_w207_project_npz_files_5000_tmp_tmpq5b2g4n2.npz')\n",
    "data_4.close\n",
    "\n",
    "print(data_1.files)"
   ]
  },
  {
   "cell_type": "code",
   "execution_count": 14,
   "metadata": {},
   "outputs": [
    {
     "data": {
      "text/plain": [
       "array(['ozbpir-9ey6js-ggdqwo', '378ykanq', 'p366md-big834-7o23k6',\n",
       "       '3zruwvl2', 'q18iae-3vnh74-79npmy'], dtype='<U20')"
      ]
     },
     "execution_count": 14,
     "metadata": {},
     "output_type": "execute_result"
    }
   ],
   "source": [
    "# Show file arr_0 example\n",
    "data_1['arr_0'][:5]"
   ]
  },
  {
   "cell_type": "code",
   "execution_count": 15,
   "metadata": {},
   "outputs": [
    {
     "data": {
      "text/plain": [
       "array([[-103.939   , -116.779   , -123.68    , ..., -103.939   ,\n",
       "        -116.779   , -123.68    ],\n",
       "       [ -46.939003,  -74.779   , -118.68    , ...,  -57.939003,\n",
       "         -84.779   , -118.68    ],\n",
       "       [ 151.061   ,  138.22101 ,  131.32    , ...,  151.061   ,\n",
       "         138.22101 ,  131.32    ],\n",
       "       [  -3.939003,  -66.779   ,  -96.68    , ...,   -3.939003,\n",
       "         -66.779   ,  -96.68    ],\n",
       "       [-103.939   , -116.779   , -123.68    , ..., -103.939   ,\n",
       "        -116.779   , -123.68    ]], dtype=float32)"
      ]
     },
     "execution_count": 15,
     "metadata": {},
     "output_type": "execute_result"
    }
   ],
   "source": [
    "# Show file arr_1 example\n",
    "data_1['arr_1'][:5]"
   ]
  },
  {
   "cell_type": "code",
   "execution_count": 16,
   "metadata": {},
   "outputs": [
    {
     "name": "stdout",
     "output_type": "stream",
     "text": [
      "(878,)\n",
      "(893,)\n",
      "(638,)\n",
      "(1353,)\n"
     ]
    }
   ],
   "source": [
    "# Get number of observations in each file\n",
    "print(data_1['arr_0'].shape)\n",
    "print(data_2['arr_0'].shape)\n",
    "print(data_3['arr_0'].shape)\n",
    "print(data_4['arr_0'].shape)"
   ]
  },
  {
   "cell_type": "code",
   "execution_count": 17,
   "metadata": {},
   "outputs": [
    {
     "name": "stdout",
     "output_type": "stream",
     "text": [
      "(3762, 150528)\n"
     ]
    }
   ],
   "source": [
    "# Concatenate data from all files\n",
    "data_key = np.concatenate((data_1['arr_0'], data_2['arr_0'], data_3['arr_0'], data_4['arr_0']))\n",
    "\n",
    "data_pixel = np.concatenate((data_1['arr_1'], data_2['arr_1'], data_3['arr_1'], data_4['arr_1']))\n",
    "print(data_pixel.shape)"
   ]
  },
  {
   "cell_type": "code",
   "execution_count": 18,
   "metadata": {},
   "outputs": [
    {
     "data": {
      "text/html": [
       "<div>\n",
       "<style scoped>\n",
       "    .dataframe tbody tr th:only-of-type {\n",
       "        vertical-align: middle;\n",
       "    }\n",
       "\n",
       "    .dataframe tbody tr th {\n",
       "        vertical-align: top;\n",
       "    }\n",
       "\n",
       "    .dataframe thead th {\n",
       "        text-align: right;\n",
       "    }\n",
       "</style>\n",
       "<table border=\"1\" class=\"dataframe\">\n",
       "  <thead>\n",
       "    <tr style=\"text-align: right;\">\n",
       "      <th></th>\n",
       "      <th>pixel_array</th>\n",
       "    </tr>\n",
       "    <tr>\n",
       "      <th>attachment_key</th>\n",
       "      <th></th>\n",
       "    </tr>\n",
       "  </thead>\n",
       "  <tbody>\n",
       "    <tr>\n",
       "      <th>ozbpir-9ey6js-ggdqwo</th>\n",
       "      <td>[-0.40760392, -0.45795685, -0.4850196, -0.4076...</td>\n",
       "    </tr>\n",
       "    <tr>\n",
       "      <th>378ykanq</th>\n",
       "      <td>[-0.18407452, -0.29325098, -0.46541175, -0.097...</td>\n",
       "    </tr>\n",
       "    <tr>\n",
       "      <th>p366md-big834-7o23k6</th>\n",
       "      <td>[0.5923961, 0.54204315, 0.51498044, 0.5923961,...</td>\n",
       "    </tr>\n",
       "    <tr>\n",
       "      <th>3zruwvl2</th>\n",
       "      <td>[-0.015447071, -0.26187843, -0.37913725, -0.01...</td>\n",
       "    </tr>\n",
       "    <tr>\n",
       "      <th>q18iae-3vnh74-79npmy</th>\n",
       "      <td>[-0.40760392, -0.45795685, -0.4850196, -0.4076...</td>\n",
       "    </tr>\n",
       "    <tr>\n",
       "      <th>...</th>\n",
       "      <td>...</td>\n",
       "    </tr>\n",
       "    <tr>\n",
       "      <th>pktyig-481wyg-6gyulf</th>\n",
       "      <td>[-0.3605451, -0.41089803, -0.38305882, -0.3644...</td>\n",
       "    </tr>\n",
       "    <tr>\n",
       "      <th>zu7y3rha</th>\n",
       "      <td>[-0.007603933, -0.05795686, -0.08501961, -0.00...</td>\n",
       "    </tr>\n",
       "    <tr>\n",
       "      <th>pxcwxf-8tnpyg-8vhb9r</th>\n",
       "      <td>[0.3022, 0.18125883, 0.12674509, 0.31004313, 0...</td>\n",
       "    </tr>\n",
       "    <tr>\n",
       "      <th>p4hakf-fsskmw-1224up</th>\n",
       "      <td>[-0.40368235, -0.45403528, -0.48109803, -0.387...</td>\n",
       "    </tr>\n",
       "    <tr>\n",
       "      <th>ptuhsk-22124o-f0sxoc</th>\n",
       "      <td>[0.43945488, 0.39302352, 0.3502745, 0.44729802...</td>\n",
       "    </tr>\n",
       "  </tbody>\n",
       "</table>\n",
       "<p>3759 rows × 1 columns</p>\n",
       "</div>"
      ],
      "text/plain": [
       "                                                            pixel_array\n",
       "attachment_key                                                         \n",
       "ozbpir-9ey6js-ggdqwo  [-0.40760392, -0.45795685, -0.4850196, -0.4076...\n",
       "378ykanq              [-0.18407452, -0.29325098, -0.46541175, -0.097...\n",
       "p366md-big834-7o23k6  [0.5923961, 0.54204315, 0.51498044, 0.5923961,...\n",
       "3zruwvl2              [-0.015447071, -0.26187843, -0.37913725, -0.01...\n",
       "q18iae-3vnh74-79npmy  [-0.40760392, -0.45795685, -0.4850196, -0.4076...\n",
       "...                                                                 ...\n",
       "pktyig-481wyg-6gyulf  [-0.3605451, -0.41089803, -0.38305882, -0.3644...\n",
       "zu7y3rha              [-0.007603933, -0.05795686, -0.08501961, -0.00...\n",
       "pxcwxf-8tnpyg-8vhb9r  [0.3022, 0.18125883, 0.12674509, 0.31004313, 0...\n",
       "p4hakf-fsskmw-1224up  [-0.40368235, -0.45403528, -0.48109803, -0.387...\n",
       "ptuhsk-22124o-f0sxoc  [0.43945488, 0.39302352, 0.3502745, 0.44729802...\n",
       "\n",
       "[3759 rows x 1 columns]"
      ]
     },
     "execution_count": 18,
     "metadata": {},
     "output_type": "execute_result"
    }
   ],
   "source": [
    "# Create key value pairs with attachment key and pixel array\n",
    "# Standardize pixel values between 0 and 1 by dividing by 255\n",
    "# Store pixel data as dataframe\n",
    "data_dict = {}\n",
    "for i in range(data_key.shape[0]):\n",
    "    data_dict[data_key[i]] = [data_pixel[i]/255]\n",
    "\n",
    "df_pixel = pd.DataFrame(data=data_dict)\n",
    "df_pixel_t = df_pixel.transpose()\n",
    "df_pixel_t.index.names = ['attachment_key']\n",
    "df_pixel_t.columns = ['pixel_array']\n",
    "df_pixel_t"
   ]
  },
  {
   "cell_type": "markdown",
   "metadata": {},
   "source": [
    "5.2 Load metadata file"
   ]
  },
  {
   "cell_type": "code",
   "execution_count": 19,
   "metadata": {},
   "outputs": [
    {
     "data": {
      "text/html": [
       "<div>\n",
       "<style scoped>\n",
       "    .dataframe tbody tr th:only-of-type {\n",
       "        vertical-align: middle;\n",
       "    }\n",
       "\n",
       "    .dataframe tbody tr th {\n",
       "        vertical-align: top;\n",
       "    }\n",
       "\n",
       "    .dataframe thead th {\n",
       "        text-align: right;\n",
       "    }\n",
       "</style>\n",
       "<table border=\"1\" class=\"dataframe\">\n",
       "  <thead>\n",
       "    <tr style=\"text-align: right;\">\n",
       "      <th></th>\n",
       "      <th>attachment_key</th>\n",
       "      <th>size_mb</th>\n",
       "      <th>height</th>\n",
       "      <th>width</th>\n",
       "      <th>h_to_w</th>\n",
       "      <th>filename</th>\n",
       "      <th>logo</th>\n",
       "    </tr>\n",
       "  </thead>\n",
       "  <tbody>\n",
       "    <tr>\n",
       "      <th>0</th>\n",
       "      <td>001lq61k</td>\n",
       "      <td>0.122520</td>\n",
       "      <td>514.0</td>\n",
       "      <td>720.0</td>\n",
       "      <td>0.713889</td>\n",
       "      <td>campus ministry on the beach.jpg</td>\n",
       "      <td>0</td>\n",
       "    </tr>\n",
       "    <tr>\n",
       "      <th>1</th>\n",
       "      <td>002dlirq</td>\n",
       "      <td>3.256944</td>\n",
       "      <td>4072.0</td>\n",
       "      <td>3868.0</td>\n",
       "      <td>1.052741</td>\n",
       "      <td>BIG ALS FISH FLASH UV VP PL.jpg</td>\n",
       "      <td>0</td>\n",
       "    </tr>\n",
       "    <tr>\n",
       "      <th>2</th>\n",
       "      <td>003qefgm</td>\n",
       "      <td>0.002522</td>\n",
       "      <td>80.0</td>\n",
       "      <td>200.0</td>\n",
       "      <td>0.400000</td>\n",
       "      <td>netix_email_studio.png</td>\n",
       "      <td>1</td>\n",
       "    </tr>\n",
       "    <tr>\n",
       "      <th>3</th>\n",
       "      <td>0083okjl</td>\n",
       "      <td>0.116802</td>\n",
       "      <td>600.0</td>\n",
       "      <td>600.0</td>\n",
       "      <td>1.000000</td>\n",
       "      <td>productshot2.jpg</td>\n",
       "      <td>0</td>\n",
       "    </tr>\n",
       "    <tr>\n",
       "      <th>4</th>\n",
       "      <td>00a957mh</td>\n",
       "      <td>0.140714</td>\n",
       "      <td>816.0</td>\n",
       "      <td>2382.0</td>\n",
       "      <td>0.342569</td>\n",
       "      <td>divine_medical_billing_inc_master.png</td>\n",
       "      <td>1</td>\n",
       "    </tr>\n",
       "  </tbody>\n",
       "</table>\n",
       "</div>"
      ],
      "text/plain": [
       "  attachment_key   size_mb  height   width    h_to_w  \\\n",
       "0       001lq61k  0.122520   514.0   720.0  0.713889   \n",
       "1       002dlirq  3.256944  4072.0  3868.0  1.052741   \n",
       "2       003qefgm  0.002522    80.0   200.0  0.400000   \n",
       "3       0083okjl  0.116802   600.0   600.0  1.000000   \n",
       "4       00a957mh  0.140714   816.0  2382.0  0.342569   \n",
       "\n",
       "                                filename  logo  \n",
       "0       campus ministry on the beach.jpg     0  \n",
       "1        BIG ALS FISH FLASH UV VP PL.jpg     0  \n",
       "2                 netix_email_studio.png     1  \n",
       "3                       productshot2.jpg     0  \n",
       "4  divine_medical_billing_inc_master.png     1  "
      ]
     },
     "execution_count": 19,
     "metadata": {},
     "output_type": "execute_result"
    }
   ],
   "source": [
    "# Load excel data\n",
    "df = pd.read_csv('school_project_data_set-new.csv')\n",
    "df.head()"
   ]
  },
  {
   "cell_type": "markdown",
   "metadata": {},
   "source": [
    "5.3 Combine pixel and metadata features in a pandas dataframe"
   ]
  },
  {
   "cell_type": "code",
   "execution_count": 20,
   "metadata": {},
   "outputs": [
    {
     "data": {
      "text/html": [
       "<div>\n",
       "<style scoped>\n",
       "    .dataframe tbody tr th:only-of-type {\n",
       "        vertical-align: middle;\n",
       "    }\n",
       "\n",
       "    .dataframe tbody tr th {\n",
       "        vertical-align: top;\n",
       "    }\n",
       "\n",
       "    .dataframe thead th {\n",
       "        text-align: right;\n",
       "    }\n",
       "</style>\n",
       "<table border=\"1\" class=\"dataframe\">\n",
       "  <thead>\n",
       "    <tr style=\"text-align: right;\">\n",
       "      <th></th>\n",
       "      <th>attachment_key</th>\n",
       "      <th>size_mb</th>\n",
       "      <th>height</th>\n",
       "      <th>width</th>\n",
       "      <th>h_to_w</th>\n",
       "      <th>filename</th>\n",
       "      <th>logo</th>\n",
       "      <th>pixel_array</th>\n",
       "    </tr>\n",
       "  </thead>\n",
       "  <tbody>\n",
       "    <tr>\n",
       "      <th>0</th>\n",
       "      <td>00xjny6u</td>\n",
       "      <td>0.011849</td>\n",
       "      <td>520.0</td>\n",
       "      <td>506.0</td>\n",
       "      <td>1.027668</td>\n",
       "      <td>Esterdale Theatre - Logo.png</td>\n",
       "      <td>1</td>\n",
       "      <td>[0.5923961, 0.54204315, 0.51498044, 0.5923961,...</td>\n",
       "    </tr>\n",
       "    <tr>\n",
       "      <th>1</th>\n",
       "      <td>04o31jop</td>\n",
       "      <td>0.012610</td>\n",
       "      <td>269.0</td>\n",
       "      <td>396.0</td>\n",
       "      <td>0.679293</td>\n",
       "      <td>BLUE_LOGO.png</td>\n",
       "      <td>1</td>\n",
       "      <td>[0.5923961, 0.54204315, 0.51498044, 0.5923961,...</td>\n",
       "    </tr>\n",
       "    <tr>\n",
       "      <th>2</th>\n",
       "      <td>0840h7ox</td>\n",
       "      <td>0.399114</td>\n",
       "      <td>518.0</td>\n",
       "      <td>920.0</td>\n",
       "      <td>0.563044</td>\n",
       "      <td>ZEN_LB-5.jpg</td>\n",
       "      <td>0</td>\n",
       "      <td>[0.106121555, 0.05576863, 0.052235294, 0.09043...</td>\n",
       "    </tr>\n",
       "    <tr>\n",
       "      <th>3</th>\n",
       "      <td>0awudx2h</td>\n",
       "      <td>0.011226</td>\n",
       "      <td>200.0</td>\n",
       "      <td>200.0</td>\n",
       "      <td>1.000000</td>\n",
       "      <td>article central 200.jpg</td>\n",
       "      <td>1</td>\n",
       "      <td>[0.5923961, 0.54204315, 0.51498044, 0.5923961,...</td>\n",
       "    </tr>\n",
       "    <tr>\n",
       "      <th>4</th>\n",
       "      <td>0bb8y85h</td>\n",
       "      <td>0.263813</td>\n",
       "      <td>885.0</td>\n",
       "      <td>800.0</td>\n",
       "      <td>1.106250</td>\n",
       "      <td>1116-100_WGTank_white.jpg</td>\n",
       "      <td>0</td>\n",
       "      <td>[0.5923961, 0.54204315, 0.51498044, 0.5923961,...</td>\n",
       "    </tr>\n",
       "    <tr>\n",
       "      <th>...</th>\n",
       "      <td>...</td>\n",
       "      <td>...</td>\n",
       "      <td>...</td>\n",
       "      <td>...</td>\n",
       "      <td>...</td>\n",
       "      <td>...</td>\n",
       "      <td>...</td>\n",
       "      <td>...</td>\n",
       "    </tr>\n",
       "    <tr>\n",
       "      <th>3750</th>\n",
       "      <td>zu7y3rha</td>\n",
       "      <td>0.147371</td>\n",
       "      <td>498.0</td>\n",
       "      <td>702.0</td>\n",
       "      <td>0.709402</td>\n",
       "      <td>journalism.jpg</td>\n",
       "      <td>0</td>\n",
       "      <td>[-0.007603933, -0.05795686, -0.08501961, -0.00...</td>\n",
       "    </tr>\n",
       "    <tr>\n",
       "      <th>3751</th>\n",
       "      <td>zuanbsqe</td>\n",
       "      <td>0.580392</td>\n",
       "      <td>206.0</td>\n",
       "      <td>415.0</td>\n",
       "      <td>0.496386</td>\n",
       "      <td>2013 05 26_techstars_id_final_bug solo graysca...</td>\n",
       "      <td>1</td>\n",
       "      <td>[0.5923961, 0.54204315, 0.51498044, 0.5923961,...</td>\n",
       "    </tr>\n",
       "    <tr>\n",
       "      <th>3752</th>\n",
       "      <td>zw9234v4</td>\n",
       "      <td>2.021135</td>\n",
       "      <td>1645.0</td>\n",
       "      <td>1450.0</td>\n",
       "      <td>1.134483</td>\n",
       "      <td>SPIN N GLO SILVER WING GPK MY.jpg</td>\n",
       "      <td>0</td>\n",
       "      <td>[0.5923961, 0.54204315, 0.51498044, 0.5923961,...</td>\n",
       "    </tr>\n",
       "    <tr>\n",
       "      <th>3753</th>\n",
       "      <td>zxfqbfj1</td>\n",
       "      <td>0.012057</td>\n",
       "      <td>36.0</td>\n",
       "      <td>345.0</td>\n",
       "      <td>0.104348</td>\n",
       "      <td>cornerstone web logo medium.png</td>\n",
       "      <td>1</td>\n",
       "      <td>[-0.40760392, -0.45795685, -0.4850196, -0.4076...</td>\n",
       "    </tr>\n",
       "    <tr>\n",
       "      <th>3754</th>\n",
       "      <td>zzgkjqna</td>\n",
       "      <td>0.027983</td>\n",
       "      <td>56.0</td>\n",
       "      <td>350.0</td>\n",
       "      <td>0.160000</td>\n",
       "      <td>fieldcontrolslogohorz web.jpg</td>\n",
       "      <td>1</td>\n",
       "      <td>[0.5923961, 0.54204315, 0.51498044, 0.5923961,...</td>\n",
       "    </tr>\n",
       "  </tbody>\n",
       "</table>\n",
       "<p>3755 rows × 8 columns</p>\n",
       "</div>"
      ],
      "text/plain": [
       "     attachment_key   size_mb  height   width    h_to_w  \\\n",
       "0          00xjny6u  0.011849   520.0   506.0  1.027668   \n",
       "1          04o31jop  0.012610   269.0   396.0  0.679293   \n",
       "2          0840h7ox  0.399114   518.0   920.0  0.563044   \n",
       "3          0awudx2h  0.011226   200.0   200.0  1.000000   \n",
       "4          0bb8y85h  0.263813   885.0   800.0  1.106250   \n",
       "...             ...       ...     ...     ...       ...   \n",
       "3750       zu7y3rha  0.147371   498.0   702.0  0.709402   \n",
       "3751       zuanbsqe  0.580392   206.0   415.0  0.496386   \n",
       "3752       zw9234v4  2.021135  1645.0  1450.0  1.134483   \n",
       "3753       zxfqbfj1  0.012057    36.0   345.0  0.104348   \n",
       "3754       zzgkjqna  0.027983    56.0   350.0  0.160000   \n",
       "\n",
       "                                               filename  logo  \\\n",
       "0                          Esterdale Theatre - Logo.png     1   \n",
       "1                                         BLUE_LOGO.png     1   \n",
       "2                                          ZEN_LB-5.jpg     0   \n",
       "3                               article central 200.jpg     1   \n",
       "4                             1116-100_WGTank_white.jpg     0   \n",
       "...                                                 ...   ...   \n",
       "3750                                     journalism.jpg     0   \n",
       "3751  2013 05 26_techstars_id_final_bug solo graysca...     1   \n",
       "3752                  SPIN N GLO SILVER WING GPK MY.jpg     0   \n",
       "3753                    cornerstone web logo medium.png     1   \n",
       "3754                      fieldcontrolslogohorz web.jpg     1   \n",
       "\n",
       "                                            pixel_array  \n",
       "0     [0.5923961, 0.54204315, 0.51498044, 0.5923961,...  \n",
       "1     [0.5923961, 0.54204315, 0.51498044, 0.5923961,...  \n",
       "2     [0.106121555, 0.05576863, 0.052235294, 0.09043...  \n",
       "3     [0.5923961, 0.54204315, 0.51498044, 0.5923961,...  \n",
       "4     [0.5923961, 0.54204315, 0.51498044, 0.5923961,...  \n",
       "...                                                 ...  \n",
       "3750  [-0.007603933, -0.05795686, -0.08501961, -0.00...  \n",
       "3751  [0.5923961, 0.54204315, 0.51498044, 0.5923961,...  \n",
       "3752  [0.5923961, 0.54204315, 0.51498044, 0.5923961,...  \n",
       "3753  [-0.40760392, -0.45795685, -0.4850196, -0.4076...  \n",
       "3754  [0.5923961, 0.54204315, 0.51498044, 0.5923961,...  \n",
       "\n",
       "[3755 rows x 8 columns]"
      ]
     },
     "execution_count": 20,
     "metadata": {},
     "output_type": "execute_result"
    }
   ],
   "source": [
    "# Merge dataframes by attachment key\n",
    "combined_df = df.merge(df_pixel_t, on='attachment_key')\n",
    "combined_df"
   ]
  },
  {
   "cell_type": "markdown",
   "metadata": {},
   "source": [
    "5.4 Visualizations from Pandas profile"
   ]
  },
  {
   "cell_type": "code",
   "execution_count": 21,
   "metadata": {},
   "outputs": [
    {
     "name": "stderr",
     "output_type": "stream",
     "text": [
      "/opt/anaconda3/lib/python3.7/site-packages/pandas/core/missing.py:49: FutureWarning: elementwise comparison failed; returning scalar instead, but in the future will perform elementwise comparison\n",
      "  mask = arr == x\n"
     ]
    },
    {
     "ename": "NameError",
     "evalue": "name 'pandas_profiling' is not defined",
     "output_type": "error",
     "traceback": [
      "\u001b[0;31m---------------------------------------------------------------------------\u001b[0m",
      "\u001b[0;31mNameError\u001b[0m                                 Traceback (most recent call last)",
      "\u001b[0;32m<ipython-input-21-34356720d10f>\u001b[0m in \u001b[0;36m<module>\u001b[0;34m\u001b[0m\n\u001b[1;32m      3\u001b[0m \u001b[0;34m\u001b[0m\u001b[0m\n\u001b[1;32m      4\u001b[0m \u001b[0;31m# select features for summary stats\u001b[0m\u001b[0;34m\u001b[0m\u001b[0;34m\u001b[0m\u001b[0;34m\u001b[0m\u001b[0m\n\u001b[0;32m----> 5\u001b[0;31m \u001b[0mprofile\u001b[0m \u001b[0;34m=\u001b[0m \u001b[0mpandas_profiling\u001b[0m\u001b[0;34m.\u001b[0m\u001b[0mProfileReport\u001b[0m\u001b[0;34m(\u001b[0m\u001b[0mcombined_df\u001b[0m\u001b[0;34m[\u001b[0m\u001b[0;34m[\u001b[0m\u001b[0;34m'size_mb'\u001b[0m\u001b[0;34m,\u001b[0m \u001b[0;34m'height'\u001b[0m\u001b[0;34m,\u001b[0m \u001b[0;34m'width'\u001b[0m\u001b[0;34m,\u001b[0m \u001b[0;34m'h_to_w'\u001b[0m\u001b[0;34m,\u001b[0m \u001b[0;34m'filename'\u001b[0m\u001b[0;34m,\u001b[0m \u001b[0;34m'logo'\u001b[0m\u001b[0;34m]\u001b[0m\u001b[0;34m]\u001b[0m\u001b[0;34m)\u001b[0m\u001b[0;34m\u001b[0m\u001b[0;34m\u001b[0m\u001b[0m\n\u001b[0m\u001b[1;32m      6\u001b[0m \u001b[0mprofile\u001b[0m\u001b[0;34m.\u001b[0m\u001b[0mto_notebook_iframe\u001b[0m\u001b[0;34m(\u001b[0m\u001b[0;34m)\u001b[0m\u001b[0;34m\u001b[0m\u001b[0;34m\u001b[0m\u001b[0m\n",
      "\u001b[0;31mNameError\u001b[0m: name 'pandas_profiling' is not defined"
     ]
    }
   ],
   "source": [
    "# replace blank cells with NaN \n",
    "combined_df.replace('', np.nan, inplace=True)\n",
    "\n",
    "# select features for summary stats\n",
    "profile = pandas_profiling.ProfileReport(combined_df[['size_mb', 'height', 'width', 'h_to_w', 'filename', 'logo']]) \n",
    "profile.to_notebook_iframe()"
   ]
  },
  {
   "cell_type": "markdown",
   "metadata": {},
   "source": [
    "From the profile above, we can see that heights, width and h_to_w each has 1 missing data. We need to remove them in the data processing."
   ]
  },
  {
   "cell_type": "markdown",
   "metadata": {},
   "source": [
    "**Step 6: Data preprocessing**"
   ]
  },
  {
   "cell_type": "markdown",
   "metadata": {},
   "source": [
    "6.1 Remove null values"
   ]
  },
  {
   "cell_type": "code",
   "execution_count": 21,
   "metadata": {},
   "outputs": [
    {
     "name": "stdout",
     "output_type": "stream",
     "text": [
      "<class 'pandas.core.frame.DataFrame'>\n",
      "Int64Index: 3754 entries, 0 to 3754\n",
      "Data columns (total 8 columns):\n",
      " #   Column          Non-Null Count  Dtype  \n",
      "---  ------          --------------  -----  \n",
      " 0   attachment_key  3754 non-null   object \n",
      " 1   size_mb         3754 non-null   float64\n",
      " 2   height          3754 non-null   float64\n",
      " 3   width           3754 non-null   float64\n",
      " 4   h_to_w          3754 non-null   float64\n",
      " 5   filename        3754 non-null   object \n",
      " 6   logo            3754 non-null   int64  \n",
      " 7   pixel_array     3754 non-null   object \n",
      "dtypes: float64(4), int64(1), object(3)\n",
      "memory usage: 264.0+ KB\n"
     ]
    }
   ],
   "source": [
    "# Remove rows with null values\n",
    "combined_df = combined_df[combined_df.height.notnull()]\n",
    "combined_df.info(verbose=True)"
   ]
  },
  {
   "cell_type": "markdown",
   "metadata": {},
   "source": [
    "6.2 Create file type dummy variables from file name"
   ]
  },
  {
   "cell_type": "code",
   "execution_count": 22,
   "metadata": {},
   "outputs": [
    {
     "name": "stdout",
     "output_type": "stream",
     "text": [
      "{'age', 'pig', 'jpe', 'jpg', 'ack', '0mm', 'hot', 'ite', '73e', 'lue', 'png', 'peg'}\n"
     ]
    }
   ],
   "source": [
    "# Find file types from filename\n",
    "file_types = []\n",
    "for item in combined_df['filename']:\n",
    "    file_types.append(item[-3:].lower())\n",
    "\n",
    "print(set(file_types))"
   ]
  },
  {
   "cell_type": "code",
   "execution_count": 23,
   "metadata": {},
   "outputs": [],
   "source": [
    "# Create list of file types from filename to append to df\n",
    "filetype_encoding = []\n",
    "for item in combined_df['filename']:\n",
    "    if item[-3:].lower() == 'jpg':\n",
    "        filetype_encoding.append('jpg')\n",
    "    elif item[-3:].lower() == 'png':\n",
    "        filetype_encoding.append('png')\n",
    "    else:\n",
    "        filetype_encoding.append('other')"
   ]
  },
  {
   "cell_type": "code",
   "execution_count": 24,
   "metadata": {},
   "outputs": [
    {
     "name": "stderr",
     "output_type": "stream",
     "text": [
      "/opt/anaconda3/lib/python3.7/site-packages/ipykernel_launcher.py:2: SettingWithCopyWarning: \n",
      "A value is trying to be set on a copy of a slice from a DataFrame.\n",
      "Try using .loc[row_indexer,col_indexer] = value instead\n",
      "\n",
      "See the caveats in the documentation: https://pandas.pydata.org/pandas-docs/stable/user_guide/indexing.html#returning-a-view-versus-a-copy\n",
      "  \n"
     ]
    },
    {
     "data": {
      "text/html": [
       "<div>\n",
       "<style scoped>\n",
       "    .dataframe tbody tr th:only-of-type {\n",
       "        vertical-align: middle;\n",
       "    }\n",
       "\n",
       "    .dataframe tbody tr th {\n",
       "        vertical-align: top;\n",
       "    }\n",
       "\n",
       "    .dataframe thead th {\n",
       "        text-align: right;\n",
       "    }\n",
       "</style>\n",
       "<table border=\"1\" class=\"dataframe\">\n",
       "  <thead>\n",
       "    <tr style=\"text-align: right;\">\n",
       "      <th></th>\n",
       "      <th>attachment_key</th>\n",
       "      <th>size_mb</th>\n",
       "      <th>height</th>\n",
       "      <th>width</th>\n",
       "      <th>h_to_w</th>\n",
       "      <th>filetype</th>\n",
       "      <th>pixel_array</th>\n",
       "      <th>filename</th>\n",
       "      <th>logo</th>\n",
       "    </tr>\n",
       "  </thead>\n",
       "  <tbody>\n",
       "    <tr>\n",
       "      <th>0</th>\n",
       "      <td>00xjny6u</td>\n",
       "      <td>0.011849</td>\n",
       "      <td>520.0</td>\n",
       "      <td>506.0</td>\n",
       "      <td>1.027668</td>\n",
       "      <td>png</td>\n",
       "      <td>[0.5923961, 0.54204315, 0.51498044, 0.5923961,...</td>\n",
       "      <td>Esterdale Theatre - Logo.png</td>\n",
       "      <td>1</td>\n",
       "    </tr>\n",
       "    <tr>\n",
       "      <th>1</th>\n",
       "      <td>04o31jop</td>\n",
       "      <td>0.012610</td>\n",
       "      <td>269.0</td>\n",
       "      <td>396.0</td>\n",
       "      <td>0.679293</td>\n",
       "      <td>png</td>\n",
       "      <td>[0.5923961, 0.54204315, 0.51498044, 0.5923961,...</td>\n",
       "      <td>BLUE_LOGO.png</td>\n",
       "      <td>1</td>\n",
       "    </tr>\n",
       "    <tr>\n",
       "      <th>2</th>\n",
       "      <td>0840h7ox</td>\n",
       "      <td>0.399114</td>\n",
       "      <td>518.0</td>\n",
       "      <td>920.0</td>\n",
       "      <td>0.563044</td>\n",
       "      <td>jpg</td>\n",
       "      <td>[0.106121555, 0.05576863, 0.052235294, 0.09043...</td>\n",
       "      <td>ZEN_LB-5.jpg</td>\n",
       "      <td>0</td>\n",
       "    </tr>\n",
       "    <tr>\n",
       "      <th>3</th>\n",
       "      <td>0awudx2h</td>\n",
       "      <td>0.011226</td>\n",
       "      <td>200.0</td>\n",
       "      <td>200.0</td>\n",
       "      <td>1.000000</td>\n",
       "      <td>jpg</td>\n",
       "      <td>[0.5923961, 0.54204315, 0.51498044, 0.5923961,...</td>\n",
       "      <td>article central 200.jpg</td>\n",
       "      <td>1</td>\n",
       "    </tr>\n",
       "    <tr>\n",
       "      <th>4</th>\n",
       "      <td>0bb8y85h</td>\n",
       "      <td>0.263813</td>\n",
       "      <td>885.0</td>\n",
       "      <td>800.0</td>\n",
       "      <td>1.106250</td>\n",
       "      <td>jpg</td>\n",
       "      <td>[0.5923961, 0.54204315, 0.51498044, 0.5923961,...</td>\n",
       "      <td>1116-100_WGTank_white.jpg</td>\n",
       "      <td>0</td>\n",
       "    </tr>\n",
       "  </tbody>\n",
       "</table>\n",
       "</div>"
      ],
      "text/plain": [
       "  attachment_key   size_mb  height  width    h_to_w filetype  \\\n",
       "0       00xjny6u  0.011849   520.0  506.0  1.027668      png   \n",
       "1       04o31jop  0.012610   269.0  396.0  0.679293      png   \n",
       "2       0840h7ox  0.399114   518.0  920.0  0.563044      jpg   \n",
       "3       0awudx2h  0.011226   200.0  200.0  1.000000      jpg   \n",
       "4       0bb8y85h  0.263813   885.0  800.0  1.106250      jpg   \n",
       "\n",
       "                                         pixel_array  \\\n",
       "0  [0.5923961, 0.54204315, 0.51498044, 0.5923961,...   \n",
       "1  [0.5923961, 0.54204315, 0.51498044, 0.5923961,...   \n",
       "2  [0.106121555, 0.05576863, 0.052235294, 0.09043...   \n",
       "3  [0.5923961, 0.54204315, 0.51498044, 0.5923961,...   \n",
       "4  [0.5923961, 0.54204315, 0.51498044, 0.5923961,...   \n",
       "\n",
       "                       filename  logo  \n",
       "0  Esterdale Theatre - Logo.png     1  \n",
       "1                 BLUE_LOGO.png     1  \n",
       "2                  ZEN_LB-5.jpg     0  \n",
       "3       article central 200.jpg     1  \n",
       "4     1116-100_WGTank_white.jpg     0  "
      ]
     },
     "execution_count": 24,
     "metadata": {},
     "output_type": "execute_result"
    }
   ],
   "source": [
    "# Create df that includes column for file type\n",
    "combined_df['filetype'] = filetype_encoding\n",
    "combined_df = combined_df[['attachment_key', 'size_mb', 'height', 'width', 'h_to_w', 'filetype', 'pixel_array', 'filename','logo']]\n",
    "combined_df.head()\n",
    "#warnings.simplefilter(action='ignore', category=SettingWithCopyWarning)"
   ]
  },
  {
   "cell_type": "code",
   "execution_count": 25,
   "metadata": {},
   "outputs": [
    {
     "data": {
      "text/html": [
       "<div>\n",
       "<style scoped>\n",
       "    .dataframe tbody tr th:only-of-type {\n",
       "        vertical-align: middle;\n",
       "    }\n",
       "\n",
       "    .dataframe tbody tr th {\n",
       "        vertical-align: top;\n",
       "    }\n",
       "\n",
       "    .dataframe thead th {\n",
       "        text-align: right;\n",
       "    }\n",
       "</style>\n",
       "<table border=\"1\" class=\"dataframe\">\n",
       "  <thead>\n",
       "    <tr style=\"text-align: right;\">\n",
       "      <th></th>\n",
       "      <th>attachment_key</th>\n",
       "      <th>size_mb</th>\n",
       "      <th>height</th>\n",
       "      <th>width</th>\n",
       "      <th>h_to_w</th>\n",
       "      <th>filetype</th>\n",
       "      <th>pixel_array</th>\n",
       "      <th>filename</th>\n",
       "      <th>logo</th>\n",
       "      <th>jpg</th>\n",
       "      <th>other</th>\n",
       "      <th>png</th>\n",
       "    </tr>\n",
       "  </thead>\n",
       "  <tbody>\n",
       "    <tr>\n",
       "      <th>0</th>\n",
       "      <td>00xjny6u</td>\n",
       "      <td>0.011849</td>\n",
       "      <td>520.0</td>\n",
       "      <td>506.0</td>\n",
       "      <td>1.027668</td>\n",
       "      <td>png</td>\n",
       "      <td>[0.5923961, 0.54204315, 0.51498044, 0.5923961,...</td>\n",
       "      <td>Esterdale Theatre - Logo.png</td>\n",
       "      <td>1</td>\n",
       "      <td>0</td>\n",
       "      <td>0</td>\n",
       "      <td>1</td>\n",
       "    </tr>\n",
       "    <tr>\n",
       "      <th>1</th>\n",
       "      <td>04o31jop</td>\n",
       "      <td>0.012610</td>\n",
       "      <td>269.0</td>\n",
       "      <td>396.0</td>\n",
       "      <td>0.679293</td>\n",
       "      <td>png</td>\n",
       "      <td>[0.5923961, 0.54204315, 0.51498044, 0.5923961,...</td>\n",
       "      <td>BLUE_LOGO.png</td>\n",
       "      <td>1</td>\n",
       "      <td>0</td>\n",
       "      <td>0</td>\n",
       "      <td>1</td>\n",
       "    </tr>\n",
       "    <tr>\n",
       "      <th>2</th>\n",
       "      <td>0840h7ox</td>\n",
       "      <td>0.399114</td>\n",
       "      <td>518.0</td>\n",
       "      <td>920.0</td>\n",
       "      <td>0.563044</td>\n",
       "      <td>jpg</td>\n",
       "      <td>[0.106121555, 0.05576863, 0.052235294, 0.09043...</td>\n",
       "      <td>ZEN_LB-5.jpg</td>\n",
       "      <td>0</td>\n",
       "      <td>1</td>\n",
       "      <td>0</td>\n",
       "      <td>0</td>\n",
       "    </tr>\n",
       "    <tr>\n",
       "      <th>3</th>\n",
       "      <td>0awudx2h</td>\n",
       "      <td>0.011226</td>\n",
       "      <td>200.0</td>\n",
       "      <td>200.0</td>\n",
       "      <td>1.000000</td>\n",
       "      <td>jpg</td>\n",
       "      <td>[0.5923961, 0.54204315, 0.51498044, 0.5923961,...</td>\n",
       "      <td>article central 200.jpg</td>\n",
       "      <td>1</td>\n",
       "      <td>1</td>\n",
       "      <td>0</td>\n",
       "      <td>0</td>\n",
       "    </tr>\n",
       "    <tr>\n",
       "      <th>4</th>\n",
       "      <td>0bb8y85h</td>\n",
       "      <td>0.263813</td>\n",
       "      <td>885.0</td>\n",
       "      <td>800.0</td>\n",
       "      <td>1.106250</td>\n",
       "      <td>jpg</td>\n",
       "      <td>[0.5923961, 0.54204315, 0.51498044, 0.5923961,...</td>\n",
       "      <td>1116-100_WGTank_white.jpg</td>\n",
       "      <td>0</td>\n",
       "      <td>1</td>\n",
       "      <td>0</td>\n",
       "      <td>0</td>\n",
       "    </tr>\n",
       "  </tbody>\n",
       "</table>\n",
       "</div>"
      ],
      "text/plain": [
       "  attachment_key   size_mb  height  width    h_to_w filetype  \\\n",
       "0       00xjny6u  0.011849   520.0  506.0  1.027668      png   \n",
       "1       04o31jop  0.012610   269.0  396.0  0.679293      png   \n",
       "2       0840h7ox  0.399114   518.0  920.0  0.563044      jpg   \n",
       "3       0awudx2h  0.011226   200.0  200.0  1.000000      jpg   \n",
       "4       0bb8y85h  0.263813   885.0  800.0  1.106250      jpg   \n",
       "\n",
       "                                         pixel_array  \\\n",
       "0  [0.5923961, 0.54204315, 0.51498044, 0.5923961,...   \n",
       "1  [0.5923961, 0.54204315, 0.51498044, 0.5923961,...   \n",
       "2  [0.106121555, 0.05576863, 0.052235294, 0.09043...   \n",
       "3  [0.5923961, 0.54204315, 0.51498044, 0.5923961,...   \n",
       "4  [0.5923961, 0.54204315, 0.51498044, 0.5923961,...   \n",
       "\n",
       "                       filename  logo  jpg  other  png  \n",
       "0  Esterdale Theatre - Logo.png     1    0      0    1  \n",
       "1                 BLUE_LOGO.png     1    0      0    1  \n",
       "2                  ZEN_LB-5.jpg     0    1      0    0  \n",
       "3       article central 200.jpg     1    1      0    0  \n",
       "4     1116-100_WGTank_white.jpg     0    1      0    0  "
      ]
     },
     "execution_count": 25,
     "metadata": {},
     "output_type": "execute_result"
    }
   ],
   "source": [
    "# Get dummies for file type\n",
    "filetype_dummies = pd.get_dummies(combined_df.filetype)\n",
    "\n",
    "# add to initial df\n",
    "combined_df = pd.concat((combined_df, filetype_dummies), axis=1)\n",
    "\n",
    "# print head of df\n",
    "combined_df.head()"
   ]
  },
  {
   "cell_type": "markdown",
   "metadata": {},
   "source": [
    "6.3 Scale metadata variables"
   ]
  },
  {
   "cell_type": "code",
   "execution_count": 26,
   "metadata": {},
   "outputs": [],
   "source": [
    "# Scale continuous feature variables\n",
    "combined_df['size_mb'] = preprocessing.scale(combined_df['size_mb'])\n",
    "combined_df['h_to_w'] = preprocessing.scale(combined_df['h_to_w'])\n",
    "combined_df['height'] = preprocessing.scale(combined_df['height'])\n",
    "combined_df['width'] = preprocessing.scale(combined_df['width'])"
   ]
  },
  {
   "cell_type": "markdown",
   "metadata": {},
   "source": [
    "6.4 Create X, y arrays"
   ]
  },
  {
   "cell_type": "code",
   "execution_count": 27,
   "metadata": {},
   "outputs": [
    {
     "data": {
      "text/html": [
       "<div>\n",
       "<style scoped>\n",
       "    .dataframe tbody tr th:only-of-type {\n",
       "        vertical-align: middle;\n",
       "    }\n",
       "\n",
       "    .dataframe tbody tr th {\n",
       "        vertical-align: top;\n",
       "    }\n",
       "\n",
       "    .dataframe thead th {\n",
       "        text-align: right;\n",
       "    }\n",
       "</style>\n",
       "<table border=\"1\" class=\"dataframe\">\n",
       "  <thead>\n",
       "    <tr style=\"text-align: right;\">\n",
       "      <th></th>\n",
       "      <th>attachment_key</th>\n",
       "      <th>pixel_array</th>\n",
       "      <th>size_mb</th>\n",
       "      <th>h_to_w</th>\n",
       "      <th>jpg</th>\n",
       "      <th>png</th>\n",
       "      <th>other</th>\n",
       "      <th>height</th>\n",
       "      <th>width</th>\n",
       "      <th>logo</th>\n",
       "      <th>filetype</th>\n",
       "      <th>filename</th>\n",
       "    </tr>\n",
       "  </thead>\n",
       "  <tbody>\n",
       "    <tr>\n",
       "      <th>0</th>\n",
       "      <td>00xjny6u</td>\n",
       "      <td>[0.5923961, 0.54204315, 0.51498044, 0.5923961,...</td>\n",
       "      <td>-0.366308</td>\n",
       "      <td>0.638439</td>\n",
       "      <td>0</td>\n",
       "      <td>1</td>\n",
       "      <td>0</td>\n",
       "      <td>-0.712708</td>\n",
       "      <td>-0.888611</td>\n",
       "      <td>1</td>\n",
       "      <td>png</td>\n",
       "      <td>Esterdale Theatre - Logo.png</td>\n",
       "    </tr>\n",
       "    <tr>\n",
       "      <th>1</th>\n",
       "      <td>04o31jop</td>\n",
       "      <td>[0.5923961, 0.54204315, 0.51498044, 0.5923961,...</td>\n",
       "      <td>-0.366187</td>\n",
       "      <td>-0.187892</td>\n",
       "      <td>0</td>\n",
       "      <td>1</td>\n",
       "      <td>0</td>\n",
       "      <td>-0.861519</td>\n",
       "      <td>-0.943446</td>\n",
       "      <td>1</td>\n",
       "      <td>png</td>\n",
       "      <td>BLUE_LOGO.png</td>\n",
       "    </tr>\n",
       "    <tr>\n",
       "      <th>2</th>\n",
       "      <td>0840h7ox</td>\n",
       "      <td>[0.106121555, 0.05576863, 0.052235294, 0.09043...</td>\n",
       "      <td>-0.304882</td>\n",
       "      <td>-0.463630</td>\n",
       "      <td>1</td>\n",
       "      <td>0</td>\n",
       "      <td>0</td>\n",
       "      <td>-0.713894</td>\n",
       "      <td>-0.682232</td>\n",
       "      <td>0</td>\n",
       "      <td>jpg</td>\n",
       "      <td>ZEN_LB-5.jpg</td>\n",
       "    </tr>\n",
       "    <tr>\n",
       "      <th>3</th>\n",
       "      <td>0awudx2h</td>\n",
       "      <td>[0.5923961, 0.54204315, 0.51498044, 0.5923961,...</td>\n",
       "      <td>-0.366407</td>\n",
       "      <td>0.572811</td>\n",
       "      <td>1</td>\n",
       "      <td>0</td>\n",
       "      <td>0</td>\n",
       "      <td>-0.902427</td>\n",
       "      <td>-1.041152</td>\n",
       "      <td>1</td>\n",
       "      <td>jpg</td>\n",
       "      <td>article central 200.jpg</td>\n",
       "    </tr>\n",
       "    <tr>\n",
       "      <th>4</th>\n",
       "      <td>0bb8y85h</td>\n",
       "      <td>[0.5923961, 0.54204315, 0.51498044, 0.5923961,...</td>\n",
       "      <td>-0.326343</td>\n",
       "      <td>0.824832</td>\n",
       "      <td>1</td>\n",
       "      <td>0</td>\n",
       "      <td>0</td>\n",
       "      <td>-0.496310</td>\n",
       "      <td>-0.742052</td>\n",
       "      <td>0</td>\n",
       "      <td>jpg</td>\n",
       "      <td>1116-100_WGTank_white.jpg</td>\n",
       "    </tr>\n",
       "  </tbody>\n",
       "</table>\n",
       "</div>"
      ],
      "text/plain": [
       "  attachment_key                                        pixel_array   size_mb  \\\n",
       "0       00xjny6u  [0.5923961, 0.54204315, 0.51498044, 0.5923961,... -0.366308   \n",
       "1       04o31jop  [0.5923961, 0.54204315, 0.51498044, 0.5923961,... -0.366187   \n",
       "2       0840h7ox  [0.106121555, 0.05576863, 0.052235294, 0.09043... -0.304882   \n",
       "3       0awudx2h  [0.5923961, 0.54204315, 0.51498044, 0.5923961,... -0.366407   \n",
       "4       0bb8y85h  [0.5923961, 0.54204315, 0.51498044, 0.5923961,... -0.326343   \n",
       "\n",
       "     h_to_w  jpg  png  other    height     width  logo filetype  \\\n",
       "0  0.638439    0    1      0 -0.712708 -0.888611     1      png   \n",
       "1 -0.187892    0    1      0 -0.861519 -0.943446     1      png   \n",
       "2 -0.463630    1    0      0 -0.713894 -0.682232     0      jpg   \n",
       "3  0.572811    1    0      0 -0.902427 -1.041152     1      jpg   \n",
       "4  0.824832    1    0      0 -0.496310 -0.742052     0      jpg   \n",
       "\n",
       "                       filename  \n",
       "0  Esterdale Theatre - Logo.png  \n",
       "1                 BLUE_LOGO.png  \n",
       "2                  ZEN_LB-5.jpg  \n",
       "3       article central 200.jpg  \n",
       "4     1116-100_WGTank_white.jpg  "
      ]
     },
     "execution_count": 27,
     "metadata": {},
     "output_type": "execute_result"
    }
   ],
   "source": [
    "# Organize df to separate into feature arrays\n",
    "combined_df = combined_df[['attachment_key', 'pixel_array', 'size_mb', 'h_to_w', 'jpg', 'png', 'other',\n",
    "                                     'height', 'width', 'logo', 'filetype', 'filename']]\n",
    "combined_df.head()"
   ]
  },
  {
   "cell_type": "markdown",
   "metadata": {},
   "source": [
    "The following profile shows that logo has high correlation with jpg, png file type. The logo has low correlation with other file types. And now, there is no missing data. We have 3754 total observations now which is 1 less than the previous profile. And this proofs that we have removed the null columns correctly."
   ]
  },
  {
   "cell_type": "code",
   "execution_count": 29,
   "metadata": {},
   "outputs": [
    {
     "name": "stderr",
     "output_type": "stream",
     "text": [
      "/opt/anaconda3/lib/python3.7/site-packages/pandas/core/missing.py:49: FutureWarning: elementwise comparison failed; returning scalar instead, but in the future will perform elementwise comparison\n",
      "  mask = arr == x\n"
     ]
    },
    {
     "ename": "NameError",
     "evalue": "name 'pandas_profiling' is not defined",
     "output_type": "error",
     "traceback": [
      "\u001b[0;31m---------------------------------------------------------------------------\u001b[0m",
      "\u001b[0;31mNameError\u001b[0m                                 Traceback (most recent call last)",
      "\u001b[0;32m<ipython-input-29-0fab352e91d7>\u001b[0m in \u001b[0;36m<module>\u001b[0;34m\u001b[0m\n\u001b[1;32m      3\u001b[0m \u001b[0;34m\u001b[0m\u001b[0m\n\u001b[1;32m      4\u001b[0m \u001b[0;31m# select features for summary stats\u001b[0m\u001b[0;34m\u001b[0m\u001b[0;34m\u001b[0m\u001b[0;34m\u001b[0m\u001b[0m\n\u001b[0;32m----> 5\u001b[0;31m \u001b[0mprofile\u001b[0m \u001b[0;34m=\u001b[0m \u001b[0mpandas_profiling\u001b[0m\u001b[0;34m.\u001b[0m\u001b[0mProfileReport\u001b[0m\u001b[0;34m(\u001b[0m\u001b[0mcombined_df\u001b[0m\u001b[0;34m[\u001b[0m\u001b[0;34m[\u001b[0m\u001b[0;34m'size_mb'\u001b[0m\u001b[0;34m,\u001b[0m \u001b[0;34m'height'\u001b[0m\u001b[0;34m,\u001b[0m \u001b[0;34m'width'\u001b[0m\u001b[0;34m,\u001b[0m \u001b[0;34m'h_to_w'\u001b[0m\u001b[0;34m,\u001b[0m \u001b[0;34m'jpg'\u001b[0m\u001b[0;34m,\u001b[0m \u001b[0;34m'png'\u001b[0m\u001b[0;34m,\u001b[0m \u001b[0;34m'other'\u001b[0m\u001b[0;34m,\u001b[0m \u001b[0;34m'filename'\u001b[0m\u001b[0;34m,\u001b[0m \u001b[0;34m'filetype'\u001b[0m\u001b[0;34m,\u001b[0m \u001b[0;34m'logo'\u001b[0m\u001b[0;34m]\u001b[0m\u001b[0;34m]\u001b[0m\u001b[0;34m)\u001b[0m\u001b[0;34m\u001b[0m\u001b[0;34m\u001b[0m\u001b[0m\n\u001b[0m\u001b[1;32m      6\u001b[0m \u001b[0mprofile\u001b[0m\u001b[0;34m.\u001b[0m\u001b[0mto_notebook_iframe\u001b[0m\u001b[0;34m(\u001b[0m\u001b[0;34m)\u001b[0m\u001b[0;34m\u001b[0m\u001b[0;34m\u001b[0m\u001b[0m\n",
      "\u001b[0;31mNameError\u001b[0m: name 'pandas_profiling' is not defined"
     ]
    }
   ],
   "source": [
    "# replace blank cells with NaN \n",
    "combined_df.replace('', np.nan, inplace=True)\n",
    "\n",
    "# select features for summary stats\n",
    "profile = pandas_profiling.ProfileReport(combined_df[['size_mb', 'height', 'width', 'h_to_w', 'jpg', 'png', 'other', 'filename', 'filetype', 'logo']]) \n",
    "profile.to_notebook_iframe()"
   ]
  },
  {
   "cell_type": "code",
   "execution_count": 28,
   "metadata": {},
   "outputs": [
    {
     "name": "stdout",
     "output_type": "stream",
     "text": [
      "(3754, 150528)\n"
     ]
    }
   ],
   "source": [
    "# y array contains logo/not logo binary variable\n",
    "y = np.array(combined_df.iloc[:, 9])\n",
    "\n",
    "# X array contains pixel array only\n",
    "pixel_X = np.array(combined_df['pixel_array'].tolist())\n",
    "print(pixel_X.shape)\n"
   ]
  },
  {
   "cell_type": "code",
   "execution_count": 30,
   "metadata": {},
   "outputs": [],
   "source": [
    "# Reduce dimensionality of pixel array\n",
    "pixel_reduced = reduce(pixel_X,2)\n",
    "\n",
    "# Reduce dimensionality of non-pixel data\n",
    "nopixel_X = np.array(combined_df.iloc[:, 2:9].values)\n",
    "nopixel_reduced = reduce(nopixel_X,2)\n",
    "\n",
    "# Reduce dimensionality of pixel and non-pixel data\n",
    "combined_X = np.concatenate((nopixel_X, pixel_X), axis = 1)\n",
    "combined_reduced = reduce(combined_X,2)\n",
    "\n",
    "colors = ['r' if label == 0 else 'g' for label in y]"
   ]
  },
  {
   "cell_type": "code",
   "execution_count": 31,
   "metadata": {},
   "outputs": [
    {
     "data": {
      "image/png": "[encoded data removed]",
      "text/plain": [
       "<Figure size 576x576 with 1 Axes>"
      ]
     },
     "metadata": {},
     "output_type": "display_data"
    },
    {
     "data": {
      "image/png": "[encoded data removed]",
      "text/plain": [
       "<Figure size 576x576 with 1 Axes>"
      ]
     },
     "metadata": {},
     "output_type": "display_data"
    },
    {
     "data": {
      "image/png": "[encoded data removed]",
      "text/plain": [
       "<Figure size 576x576 with 1 Axes>"
      ]
     },
     "metadata": {},
     "output_type": "display_data"
    }
   ],
   "source": [
    "PCA_visualization(pixel_reduced,'PCA - Pixel Only', colors)\n",
    "PCA_visualization(nopixel_reduced,'PCA - No Pixel Data', colors)\n",
    "PCA_visualization(combined_reduced,'PCA - Pixel and Other Data', colors)\n"
   ]
  },
  {
   "cell_type": "markdown",
   "metadata": {},
   "source": [
    "6.6 Create alternate X arrays with metadata features"
   ]
  },
  {
   "cell_type": "code",
   "execution_count": 32,
   "metadata": {},
   "outputs": [
    {
     "name": "stdout",
     "output_type": "stream",
     "text": [
      "(3754, 5)\n",
      "(3754, 6)\n",
      "(3754, 2)\n",
      "(3754, 2)\n",
      "(3754, 2)\n",
      "(3754, 150533)\n"
     ]
    }
   ],
   "source": [
    "# Create variations of X array with reduced pixel data and different metadata features\n",
    "\n",
    "# X4 array contains size, h_to_w, filetype dummies\n",
    "X4 = np.array(combined_df.iloc[:, 2:7])\n",
    "print(X4.shape)\n",
    "\n",
    "# X5 array contains size, height, width, filetype dummies\n",
    "X5 = np.array(combined_df.iloc[:, [2,4,5,6,7,8]])\n",
    "print(X5.shape)\n",
    "\n",
    "# X6 array contains PCA reduced: full pixel array, size, height, width, h_to_w, filetype dummies\n",
    "X6 = reduce(np.concatenate((pixel_X, nopixel_X),axis=1),2)\n",
    "print(X6.shape)\n",
    "\n",
    "# X7.1 array contains PCA reduced: full pixel array, size, h_to_w, filetype dummies\n",
    "X71 = reduce(np.concatenate((pixel_X, X4),axis=1),2)\n",
    "print(X71.shape)\n",
    "\n",
    "# X7.2 array contains full pixel array, size, height, width, filetype dummies\n",
    "X72 = reduce(np.concatenate((pixel_X, X5),axis=1),2)\n",
    "print(X72.shape)\n",
    "\n",
    "# X8 array contains full pixel array, size, h_to_w, filetype\n",
    "# Remove height and width for covariance concerns and performance\n",
    "X8 = np.concatenate((pixel_X, X4), axis=1)\n",
    "print(X8.shape)"
   ]
  },
  {
   "cell_type": "markdown",
   "metadata": {},
   "source": [
    "6.7 Split each set of features into train, development, and test data"
   ]
  },
  {
   "cell_type": "code",
   "execution_count": 37,
   "metadata": {},
   "outputs": [
    {
     "name": "stdout",
     "output_type": "stream",
     "text": [
      "Train data shape: (2252, 2)\n",
      "Dev data shape: (751, 2)\n",
      "Mini_train data shape: (100, 2)\n",
      "Train data shape: (2252, 7)\n",
      "Dev data shape: (751, 7)\n",
      "Mini_train data shape: (100, 7)\n",
      "Train data shape: (2252, 5)\n",
      "Dev data shape: (751, 5)\n",
      "Mini_train data shape: (100, 5)\n",
      "Train data shape: (2252, 6)\n",
      "Dev data shape: (751, 6)\n",
      "Mini_train data shape: (100, 6)\n",
      "Train data shape: (2252, 2)\n",
      "Dev data shape: (751, 2)\n",
      "Mini_train data shape: (100, 2)\n",
      "Train data shape: (2252, 2)\n",
      "Dev data shape: (751, 2)\n",
      "Mini_train data shape: (100, 2)\n",
      "Train data shape: (2252, 2)\n",
      "Dev data shape: (751, 2)\n",
      "Mini_train data shape: (100, 2)\n",
      "Train data shape: (2252, 150533)\n",
      "Dev data shape: (751, 150533)\n",
      "Mini_train data shape: (100, 150533)\n"
     ]
    }
   ],
   "source": [
    "# Split all feature combinations into train, test data\n",
    "# Reduced pixel array only (2 dim)\n",
    "train_data2, train_labels2, test_data2, test_labels2, dev_data2, dev_labels2, mini_train_data2, mini_train_labels2 = data_split(pixel_reduced, y, 0.4, 100)\n",
    "\n",
    "# All non-pixel data only\n",
    "train_data3, train_labels3, test_data3, test_labels3, dev_data3, dev_labels3, mini_train_data3, mini_train_labels3 = data_split(nopixel_X, y, 0.4, 100)\n",
    "\n",
    "# Only size, h_to_w, filetype dummies\n",
    "train_data4, train_labels4, test_data4, test_labels4, dev_data4, dev_labels4, mini_train_data4, mini_train_labels4 = data_split(X4, y, 0.4, 100)\n",
    "# Only size, height, width, filetype dummies\n",
    "train_data5, train_labels5, test_data5, test_labels5, dev_data5, dev_labels5, mini_train_data5, mini_train_labels5 = data_split(X5, y, 0.4, 100)\n",
    "\n",
    "# PCA reduction of full pixel array, size, height, width, h_to_w, filetype dummies\n",
    "train_data6, train_labels6, test_data6, test_labels6, dev_data6, dev_labels6, mini_train_data6, mini_train_labels6 = data_split(X6, y, 0.4, 100)\n",
    "\n",
    "# PCA reduction of full pixel array, size, h_to_w, filetype dummies\n",
    "train_data71, train_labels71, test_data71, test_labels71, dev_data71, dev_labels71, mini_train_data71, mini_train_labels71 = data_split(X71, y, 0.4, 100)\n",
    "\n",
    "# PCA reduction of full pixel array, size, height, width, filetype dummies\n",
    "train_data72, train_labels72, test_data72, test_labels72, dev_data72, dev_labels72, mini_train_data72, mini_train_labels72 = data_split(X72, y, 0.4, 100)\n",
    "\n",
    "# Full pixel array with size, h_to_w, filetype\n",
    "train_data8, train_labels8, test_data8, test_labels8, dev_data8, dev_labels8, mini_train_data8, mini_train_labels8 = data_split(X8, y, 0.4, 100)"
   ]
  },
  {
   "cell_type": "markdown",
   "metadata": {},
   "source": [
    "**Step 7: Logistic Regression**"
   ]
  },
  {
   "cell_type": "markdown",
   "metadata": {},
   "source": [
    "7.1 Run logistic regression for pixel data only"
   ]
  },
  {
   "cell_type": "code",
   "execution_count": 38,
   "metadata": {},
   "outputs": [
    {
     "name": "stdout",
     "output_type": "stream",
     "text": [
      "Features: pixel features only\n",
      "Best Accuracy: 0.583, c=0.001\n"
     ]
    }
   ],
   "source": [
    "# Pixel array only\n",
    "# Run LR and output best accuracy with c value\n",
    "pixel_array_only_LR = LR_accuracy_c(train_data2, train_labels2, dev_data2, dev_labels2)\n",
    "print('Features: pixel features only\\nBest Accuracy: {}, c={}'.format(pixel_array_only_LR[0], pixel_array_only_LR[1]))"
   ]
  },
  {
   "cell_type": "markdown",
   "metadata": {},
   "source": [
    "7.2 Run logistic regression for metadata only: use combinations of height and width vs. aspect ratio"
   ]
  },
  {
   "cell_type": "code",
   "execution_count": 39,
   "metadata": {},
   "outputs": [
    {
     "name": "stdout",
     "output_type": "stream",
     "text": [
      "Features: size, height, width, h_to_w, filetype dummies\n",
      "Best Accuracy: 0.845, c=0.1\n",
      "Features: size, height, width, filetype dummies\n",
      "Best Accuracy: 0.846, c=0.1\n",
      "Features: size, h_to_w, filetype dummies\n",
      "Best Accuracy: 0.849, c=0.01\n"
     ]
    }
   ],
   "source": [
    "all_md_LR = LR_accuracy_c(train_data3, train_labels3, dev_data3, dev_labels3)\n",
    "h_w_LR = LR_accuracy_c(train_data5, train_labels5, dev_data5, dev_labels5)\n",
    "htw_LR = LR_accuracy_c(train_data4, train_labels4, dev_data4, dev_labels4)\n",
    "\n",
    "print('Features: size, height, width, h_to_w, filetype dummies\\nBest Accuracy: {}, c={}'.format(all_md_LR[0], all_md_LR[1]))\n",
    "print('Features: size, height, width, filetype dummies\\nBest Accuracy: {}, c={}'.format(h_w_LR[0], h_w_LR[1]))\n",
    "print('Features: size, h_to_w, filetype dummies\\nBest Accuracy: {}, c={}'.format(htw_LR[0], htw_LR[1]))"
   ]
  },
  {
   "cell_type": "markdown",
   "metadata": {},
   "source": [
    "Clearly, the metadata widely outperforms pixel data, so next we tried incorporating the metadata and reducing to two dimensions using PCA. We then ran logistic regressions on this data."
   ]
  },
  {
   "cell_type": "markdown",
   "metadata": {},
   "source": [
    "7.3 Run logistic regression for 2 dimension PCA reduced data including pixel array and metadata"
   ]
  },
  {
   "cell_type": "code",
   "execution_count": 41,
   "metadata": {},
   "outputs": [
    {
     "name": "stdout",
     "output_type": "stream",
     "text": [
      "Features: PCA reduction of size, height, width, h_to_w, filetype dummies\n",
      "Best Accuracy: 0.583, c=0.001\n",
      "Features: PCA reduction of size, height, width, filetype dummies\n",
      "Best Accuracy: 0.583, c=0.001\n",
      "Features: PCA reduction of size, h_to_w, filetype dummies\n",
      "Best Accuracy: 0.583, c=0.001\n"
     ]
    }
   ],
   "source": [
    "PCA_all_LR = LR_accuracy_c(train_data6, train_labels6, dev_data6, dev_labels6)\n",
    "PCA_h_w_LR = LR_accuracy_c(train_data71, train_labels71, dev_data71, dev_labels71)\n",
    "PCA_htw_LR = LR_accuracy_c(train_data72, train_labels72, dev_data72, dev_labels72)\n",
    "\n",
    "print('Features: PCA reduction of size, height, width, h_to_w, filetype dummies\\nBest Accuracy: {}, c={}'.format(PCA_all_LR[0], PCA_all_LR[1]))\n",
    "print('Features: PCA reduction of size, height, width, filetype dummies\\nBest Accuracy: {}, c={}'.format(PCA_h_w_LR[0], PCA_h_w_LR[1]))\n",
    "print('Features: PCA reduction of size, h_to_w, filetype dummies\\nBest Accuracy: {}, c={}'.format(PCA_htw_LR[0], PCA_htw_LR[1]))"
   ]
  },
  {
   "cell_type": "markdown",
   "metadata": {},
   "source": [
    "7.4 Use PCA dimension reduction on pixel data only and run logistic regression on reduced pixel array + original metadata"
   ]
  },
  {
   "cell_type": "markdown",
   "metadata": {},
   "source": [
    "Similar to the PCA visualizations above, the pixel data overwhelms the metadata when both are included in PCA reduction, and the accuracy of these models is quite low. Because of this, we decided to use PCA reduction on _only_ the pixel data, and append that dimension-reduced pixel data to the existing metadata. The existing metadata included in these models were size, aspect ratio, and the filetype dummies, as these features generally performed best. We used a loop to determine the optimal k value for PCA reduction on pixel data, which ended up to be k=1. Accuracy with this model was the highest of any logistic regression model, at 86.1%. As shown in the final chart, reducing the pixel data to any dimensions (up to 15) increases model performance from 58.3% to around 84-85%, but only the k=1 model truly out-performed the previous metadata-only models"
   ]
  },
  {
   "cell_type": "code",
   "execution_count": 42,
   "metadata": {},
   "outputs": [
    {
     "name": "stdout",
     "output_type": "stream",
     "text": [
      "Features: pixel array reduced to 1 dimensions, size, h_to_w, filetype\n",
      "Best Accuracy: 0.861, c=0.1\n",
      "\n"
     ]
    }
   ],
   "source": [
    "#Determine optimal k value for PCA of pixel data\n",
    "k_list = [i for i in range(1,15)]\n",
    "logreg_results = PCA_k_optimize(train_data8, train_labels8, dev_data8, dev_labels8, k_list)\n",
    "accuracies = logreg_results[0]\n",
    "c_vals = logreg_results[1]\n",
    "max_index = accuracies.index(max(accuracies))\n",
    "max_acc = accuracies[max_index]\n",
    "max_c = c_vals[max_index]\n",
    "max_k = k_list[max_index]\n",
    "print('Features: pixel array reduced to {0} dimensions, size, h_to_w, filetype\\nBest Accuracy: {1}, c={2}\\n'.format(max_k, max_acc, max_c))"
   ]
  },
  {
   "cell_type": "code",
   "execution_count": 44,
   "metadata": {},
   "outputs": [
    {
     "name": "stdout",
     "output_type": "stream",
     "text": [
      "(3754, 6)\n",
      "Train data shape: (2252, 6)\n",
      "Dev data shape: (751, 6)\n",
      "Mini_train data shape: (100, 6)\n"
     ]
    }
   ],
   "source": [
    "# Create new train/test data with optimized k value for pixel data\n",
    "reduce_pixel_k = reduce(pixel_X, max_k)\n",
    "\n",
    "X9 = np.concatenate((reduce_pixel_k, X4), axis=1)\n",
    "print(X9.shape)\n",
    "train_data9, train_labels9, test_data9, test_labels9, dev_data9, dev_labels9, mini_train_data9, mini_train_labels9 = data_split(X9, y, 0.4, 100)"
   ]
  },
  {
   "cell_type": "code",
   "execution_count": 47,
   "metadata": {},
   "outputs": [
    {
     "data": {
      "image/png": "[encoded data removed]",
      "text/plain": [
       "<Figure size 576x576 with 1 Axes>"
      ]
     },
     "metadata": {},
     "output_type": "display_data"
    }
   ],
   "source": [
    "fig = plt.figure(figsize = (8,8))\n",
    "ax = fig.add_subplot(1,1,1) \n",
    "ax.set_xlabel('PCA k value', fontsize = 15)\n",
    "ax.set_ylabel('Max accuracy', fontsize = 15)\n",
    "ax.set_title(\"PCA k value vs. maximum accuracy\", fontsize = 20)\n",
    "ax.scatter(k_list, accuracies, s = 100)\n",
    "for c in c_vals:\n",
    "    plt.annotate(\"C={}\".format(c), (k_list[c_vals.index(c)], accuracies[c_vals.index(c)]), textcoords=\"offset points\", xytext=(0,10), ha='center')\n",
    "ax.grid()"
   ]
  },
  {
   "cell_type": "markdown",
   "metadata": {},
   "source": [
    "**Step 8: Multilayer NN**"
   ]
  },
  {
   "cell_type": "markdown",
   "metadata": {},
   "source": [
    "8.1 Build a single-layer dense neural network using Keras Tuner so that we can easily tune the hyperparameters."
   ]
  },
  {
   "cell_type": "code",
   "execution_count": null,
   "metadata": {},
   "outputs": [],
   "source": [
    "# Instantiate the tuner to perform hypertuning using the Hyperband tuner and the model_builder function we defined initially.\n",
    "tuner = kt.Hyperband(model_builder,\n",
    "                     objective = 'val_accuracy', \n",
    "                     max_epochs = 10,\n",
    "                     factor = 3,\n",
    "                     directory = 'C:/Users/user/Documents/Berkeley_MIDS/W207_Machine_Learning/w207_final_project',\n",
    "                     project_name = 'keras_tuner_results')    "
   ]
  },
  {
   "cell_type": "code",
   "execution_count": null,
   "metadata": {},
   "outputs": [],
   "source": [
    "# Run the hyperparameter search\n",
    "tuner.search(train_data9, train_labels9, epochs = 10, validation_data = (dev_data9, dev_labels9), callbacks = [ClearTrainingOutput()])\n",
    "\n",
    "# Get the optimal hyperparameters\n",
    "best_hps = tuner.get_best_hyperparameters(num_trials = 1)[0]\n",
    "\n",
    "# Print the results\n",
    "print(f\"\"\"\n",
    "The hyperparameter search is complete. The optimal number of units in the first densely-connected\n",
    "layer is {best_hps.get('units')} and the optimal learning rate for the optimizer\n",
    "is {best_hps.get('learning_rate')}.\n",
    "\"\"\")"
   ]
  },
  {
   "cell_type": "code",
   "execution_count": null,
   "metadata": {},
   "outputs": [],
   "source": [
    "# Build the model with the optimal hyperparameters and train it on the data\n",
    "model = tuner.hypermodel.build(best_hps)\n",
    "model.fit(train_data9, train_labels9, epochs = 10, validation_data = (dev_data9, dev_labels9))"
   ]
  },
  {
   "cell_type": "markdown",
   "metadata": {},
   "source": [
    "8.2 Build a multi-layer dense neural network."
   ]
  },
  {
   "cell_type": "code",
   "execution_count": null,
   "metadata": {},
   "outputs": [],
   "source": [
    "# Run an intial model using the parameters from the Keras Tuner model and an intial dropout rate of .2\n",
    "build_model_output = build_model(384, .2, .001)\n",
    "fit_model_output = fit_model(build_model_output, train_data9, train_labels9, 50)\n",
    "final_accuracy = evaluate_model(build_model_output, dev_data9, dev_labels9)\n",
    "print(final_accuracy)"
   ]
  },
  {
   "cell_type": "markdown",
   "metadata": {},
   "source": [
    "8.3 Tune the hyperparameters to try and improve the accuracy."
   ]
  },
  {
   "cell_type": "code",
   "execution_count": null,
   "metadata": {},
   "outputs": [],
   "source": [
    "# Optimize dropout rate\n",
    "# Loop through dropout rates\n",
    "dropout_list = [.1,.2,.3,.4,.5,.6,.7,.8,.9]\n",
    "final_accuracy_dropout_list = []\n",
    "\n",
    "for i in dropout_list:\n",
    "    build_model_output = build_model(384, i, .001)\n",
    "    fit_model_output = fit_model(build_model_output, train_data9, train_labels9, 10)\n",
    "    final_accuracy = evaluate_model(build_model_output, dev_data9, dev_labels9)\n",
    "    final_accuracy_dropout_list.append(final_accuracy)"
   ]
  },
  {
   "cell_type": "code",
   "execution_count": null,
   "metadata": {},
   "outputs": [],
   "source": [
    "# Graph results\n",
    "plt.plot(dropout_list, final_accuracy_dropout_list, marker = \".\")\n",
    "plt.xlabel('Dropout Rate')\n",
    "plt.ylabel('Accuracy')"
   ]
  },
  {
   "cell_type": "code",
   "execution_count": null,
   "metadata": {},
   "outputs": [],
   "source": [
    "# Looks like best dropout rate is .4, so now we will use this\n",
    "# Run model using optimized dropout rate\n",
    "build_model_output = build_model(384, .4, .001)\n",
    "fit_model_output = fit_model(build_model_output, train_data9, train_labels9, 50)\n",
    "final_accuracy = evaluate_model(build_model_output, dev_data9, dev_labels9)\n",
    "print(final_accuracy)"
   ]
  },
  {
   "cell_type": "code",
   "execution_count": null,
   "metadata": {},
   "outputs": [],
   "source": [
    "# Optimize learning rate\n",
    "# Loop through learning rates\n",
    "learning_rate_list = [.000001, .00001, .0001, .001, .01, .1]\n",
    "final_accuracy_learning_list = []\n",
    "\n",
    "for i in learning_rate_list:\n",
    "    build_model_output = build_model(384, .4, i)\n",
    "    fit_model_output = fit_model(build_model_output, train_data9, train_labels9, 10)\n",
    "    final_accuracy = evaluate_model(build_model_output, dev_data9, dev_labels9)\n",
    "    final_accuracy_learning_list.append(final_accuracy)"
   ]
  },
  {
   "cell_type": "code",
   "execution_count": null,
   "metadata": {},
   "outputs": [],
   "source": [
    "# Graph results\n",
    "plt.plot(learning_rate_list, final_accuracy_learning_list, label = \"Predicted Accuracies\", marker = \".\")\n",
    "plt.xlabel('Learning Rate')\n",
    "plt.ylabel('Accuracy')"
   ]
  },
  {
   "cell_type": "code",
   "execution_count": null,
   "metadata": {},
   "outputs": [],
   "source": [
    "# Looks like best learning rate is .001, so now we will use this\n",
    "# Run model using learning dropout rate\n",
    "build_model_output = build_model(384, .4, .001)\n",
    "fit_model_output = fit_model(build_model_output, train_data9, train_labels9, 50)\n",
    "final_accuracy = evaluate_model(build_model_output, dev_data9, dev_labels9)\n",
    "print(final_accuracy)"
   ]
  },
  {
   "cell_type": "code",
   "execution_count": null,
   "metadata": {},
   "outputs": [],
   "source": [
    "# Try different numbers of nodes - keeping dropout at .3 and learning rate at .001\n",
    "\n",
    "#Loop through nodes\n",
    "final_accuracy_node_list = []\n",
    "\n",
    "for i in range(1, 550, 50):\n",
    "    build_model_output = build_model(i, .4, .001)\n",
    "    fit_model_output = fit_model(build_model_output, train_data9, train_labels9, 10)\n",
    "    final_accuracy = evaluate_model(build_model_output, dev_data9, dev_labels9)\n",
    "    final_accuracy_node_list.append(final_accuracy)"
   ]
  },
  {
   "cell_type": "code",
   "execution_count": null,
   "metadata": {},
   "outputs": [],
   "source": [
    "#Graph the results\n",
    "plt.plot(range(1,550,50), final_accuracy_node_list, marker = \".\")\n",
    "plt.xlabel('Number of Nodes')\n",
    "plt.ylabel('Accuracy')"
   ]
  },
  {
   "cell_type": "code",
   "execution_count": null,
   "metadata": {},
   "outputs": [],
   "source": [
    "# It looks like best value is somewhere between 300 and 450\n",
    "# Narrow this down\n",
    "# Loop through nodes\n",
    "final_accuracy_node_list = []\n",
    "\n",
    "for i in range(300, 450, 25):\n",
    "    build_model_output = build_model(i, .4, .001)\n",
    "    fit_model_output = fit_model(build_model_output, train_data9, train_labels9, 10)\n",
    "    final_accuracy = evaluate_model(build_model_output, dev_data9, dev_labels9)\n",
    "    final_accuracy_node_list.append(final_accuracy)"
   ]
  },
  {
   "cell_type": "code",
   "execution_count": null,
   "metadata": {},
   "outputs": [],
   "source": [
    "#Graph results\n",
    "plt.plot(range(300, 450, 25), final_accuracy_node_list, marker = \".\")\n",
    "plt.xlabel('Number of Nodes')\n",
    "plt.ylabel('Accuracy')"
   ]
  },
  {
   "cell_type": "code",
   "execution_count": null,
   "metadata": {},
   "outputs": [],
   "source": [
    "# It looks like best value is somewhere between 375 and 425\n",
    "# Narrow this down\n",
    "# Loop through nodes\n",
    "final_accuracy_node_list = []\n",
    "\n",
    "for i in range(375, 425, 10):\n",
    "    build_model_output = build_model(i, .4, .001)\n",
    "    fit_model_output = fit_model(build_model_output, train_data9, train_labels9, 10)\n",
    "    final_accuracy = evaluate_model(build_model_output, dev_data9, dev_labels9)\n",
    "    final_accuracy_node_list.append(final_accuracy)\n"
   ]
  },
  {
   "cell_type": "code",
   "execution_count": null,
   "metadata": {},
   "outputs": [],
   "source": [
    "#Graph results\n",
    "plt.plot(range(375, 425, 10), final_accuracy_node_list, marker = \".\")\n",
    "plt.xlabel('Number of Nodes')\n",
    "plt.ylabel('Accuracy')"
   ]
  },
  {
   "cell_type": "code",
   "execution_count": null,
   "metadata": {},
   "outputs": [],
   "source": [
    "# It looks like best value is somewhere between 400 and 410\n",
    "# Narrow this down\n",
    "# Loop through nodes\n",
    "final_accuracy_node_list = []\n",
    "\n",
    "for i in range(400, 410, 1):\n",
    "    build_model_output = build_model(i, .4, .001)\n",
    "    fit_model_output = fit_model(build_model_output, train_data9, train_labels9, 10)\n",
    "    final_accuracy = evaluate_model(build_model_output, dev_data9, dev_labels9)\n",
    "    final_accuracy_node_list.append(final_accuracy)"
   ]
  },
  {
   "cell_type": "code",
   "execution_count": null,
   "metadata": {},
   "outputs": [],
   "source": [
    "#Graph results\n",
    "plt.plot(range(400, 410, 1), final_accuracy_node_list, marker = \".\")\n",
    "plt.xlabel('Number of Nodes')\n",
    "plt.ylabel('Accuracy')"
   ]
  },
  {
   "cell_type": "code",
   "execution_count": null,
   "metadata": {},
   "outputs": [],
   "source": [
    "#Best value is 400. Re-run model with this value and 50 epochs, since we have tuned all the parameters.\n",
    "build_model_output = build_model(400, .4, .001)\n",
    "fit_model_output = fit_model(build_model_output, train_data9, train_labels9, 50)\n",
    "final_accuracy = evaluate_model(build_model_output, dev_data9, dev_labels9)\n",
    "print(final_accuracy)"
   ]
  },
  {
   "cell_type": "code",
   "execution_count": null,
   "metadata": {},
   "outputs": [],
   "source": [
    "# Plot training cost and accuracy\n",
    "hist = fit_model_output.history\n",
    "fig = plt.figure(figsize=(12, 5))\n",
    "ax = fig.add_subplot(1, 2, 1)\n",
    "ax.plot(hist['loss'], lw=3)\n",
    "ax.set_title('Training loss (cost)', size=15)\n",
    "ax.set_xlabel('Epoch', size=15)\n",
    "ax.tick_params(axis='both', which='major', labelsize=15)\n",
    "\n",
    "ax = fig.add_subplot(1, 2, 2)\n",
    "ax.plot(hist['accuracy'], lw=3)\n",
    "ax.set_title('Training accuracy', size=15)\n",
    "ax.set_xlabel('Epoch', size=15)\n",
    "ax.tick_params(axis='both', which='major', labelsize=15)\n",
    "plt.tight_layout()"
   ]
  },
  {
   "cell_type": "markdown",
   "metadata": {},
   "source": [
    "**Conclusions**"
   ]
  },
  {
   "cell_type": "code",
   "execution_count": null,
   "metadata": {},
   "outputs": [],
   "source": []
  }
 ],
 "metadata": {
  "kernelspec": {
   "display_name": "Python 3",
   "language": "python",
   "name": "python3"
  },
  "language_info": {
   "codemirror_mode": {
    "name": "ipython",
    "version": 3
   },
   "file_extension": ".py",
   "mimetype": "text/x-python",
   "name": "python",
   "nbconvert_exporter": "python",
   "pygments_lexer": "ipython3",
   "version": "3.7.6"
  }
 },
 "nbformat": 4,
 "nbformat_minor": 2
}
