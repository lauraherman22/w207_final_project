{
 "cells": [
  {
   "cell_type": "markdown",
   "metadata": {},
   "source": [
    "**Step 1: Import packages**"
   ]
  },
  {
   "cell_type": "code",
   "execution_count": 29,
   "metadata": {},
   "outputs": [],
   "source": [
    "import pandas as pd\n",
    "import numpy as np\n",
    "import matplotlib.pyplot as plt\n",
    "import matplotlib.image as mpimg\n",
    "import os\n",
    "from sklearn import metrics\n",
    "from sklearn.decomposition import PCA\n",
    "from sklearn.cluster import KMeans\n",
    "from sklearn.mixture import GaussianMixture\n",
    "from matplotlib.colors import LogNorm\n",
    "\n",
    "from sklearn.model_selection import train_test_split\n",
    "from sklearn.preprocessing import StandardScaler\n",
    "from sklearn.linear_model import LogisticRegression\n",
    "\n",
    "import tensorflow as tf"
   ]
  },
  {
   "cell_type": "markdown",
   "metadata": {},
   "source": [
    "**Step 2: Define working directories**"
   ]
  },
  {
   "cell_type": "code",
   "execution_count": 2,
   "metadata": {},
   "outputs": [],
   "source": [
    "os.chdir('C:/Users/user/Documents/Berkeley_MIDS/W207_Machine_Learning/w207_final_project')"
   ]
  },
  {
   "cell_type": "markdown",
   "metadata": {},
   "source": [
    "**Step 3: Define classes**"
   ]
  },
  {
   "cell_type": "markdown",
   "metadata": {},
   "source": [
    "**Step 4: Define functions**"
   ]
  },
  {
   "cell_type": "markdown",
   "metadata": {},
   "source": [
    "**Step 5: Read data**"
   ]
  },
  {
   "cell_type": "code",
   "execution_count": 3,
   "metadata": {},
   "outputs": [],
   "source": [
    "# Load npz files to combine and print content files\n",
    "data_1 = np.load('et_w207_project_npz_files_5000_tmp_tmp5ocrhjnn.npz')\n",
    "data_1.close\n",
    "\n",
    "data_2 = np.load('et_w207_project_npz_files_5000_tmp_tmp092sag67.npz')\n",
    "data_2.close\n",
    "\n",
    "data_3 = np.load('et_w207_project_npz_files_5000_tmp_tmpf31_pn8p.npz')\n",
    "data_3.close\n",
    "\n",
    "data_4 = np.load('et_w207_project_npz_files_5000_tmp_tmpq5b2g4n2.npz')\n",
    "data_4.close\n",
    "\n",
    "data_key = np.concatenate((data_1['arr_0'], data_2['arr_0'], data_3['arr_0'], data_4['arr_0']))\n",
    "data_pixel = np.concatenate((data_1['arr_1'], data_2['arr_1'], data_3['arr_1'], data_4['arr_1']))\n",
    "\n",
    "df = pd.read_csv('school_project_data_set-query.csv')\n",
    "# df = pd.read_csv('data/school_project_data_set-query.csv')\n"
   ]
  },
  {
   "cell_type": "code",
   "execution_count": 4,
   "metadata": {},
   "outputs": [
    {
     "data": {
      "text/plain": [
       "array([[-103.939    , -116.779    , -123.68     , ..., -103.939    ,\n",
       "        -116.779    , -123.68     ],\n",
       "       [ -46.939003 ,  -74.779    , -118.68     , ...,  -57.939003 ,\n",
       "         -84.779    , -118.68     ],\n",
       "       [ 151.061    ,  138.22101  ,  131.32     , ...,  151.061    ,\n",
       "         138.22101  ,  131.32     ],\n",
       "       ...,\n",
       "       [  77.061    ,   46.221    ,   32.32     , ...,  -55.939003 ,\n",
       "         -38.779    ,    1.3199997],\n",
       "       [-102.939    , -115.779    , -122.68     , ...,  -68.939    ,\n",
       "         -95.779    , -114.68     ],\n",
       "       [ 112.061    ,  100.221    ,   89.32     , ...,   -5.939003 ,\n",
       "          33.221    ,    3.3199997]], dtype=float32)"
      ]
     },
     "execution_count": 4,
     "metadata": {},
     "output_type": "execute_result"
    }
   ],
   "source": [
    "data_pixel"
   ]
  },
  {
   "cell_type": "code",
   "execution_count": 5,
   "metadata": {},
   "outputs": [
    {
     "data": {
      "text/html": [
       "<div>\n",
       "<style scoped>\n",
       "    .dataframe tbody tr th:only-of-type {\n",
       "        vertical-align: middle;\n",
       "    }\n",
       "\n",
       "    .dataframe tbody tr th {\n",
       "        vertical-align: top;\n",
       "    }\n",
       "\n",
       "    .dataframe thead th {\n",
       "        text-align: right;\n",
       "    }\n",
       "</style>\n",
       "<table border=\"1\" class=\"dataframe\">\n",
       "  <thead>\n",
       "    <tr style=\"text-align: right;\">\n",
       "      <th></th>\n",
       "      <th>pixel_array</th>\n",
       "    </tr>\n",
       "    <tr>\n",
       "      <th>attachment_key</th>\n",
       "      <th></th>\n",
       "    </tr>\n",
       "  </thead>\n",
       "  <tbody>\n",
       "    <tr>\n",
       "      <td>ozbpir-9ey6js-ggdqwo</td>\n",
       "      <td>[-103.939, -116.779, -123.68, -103.939, -116.7...</td>\n",
       "    </tr>\n",
       "    <tr>\n",
       "      <td>378ykanq</td>\n",
       "      <td>[-46.939003, -74.779, -118.68, -24.939003, -57...</td>\n",
       "    </tr>\n",
       "    <tr>\n",
       "      <td>p366md-big834-7o23k6</td>\n",
       "      <td>[151.061, 138.22101, 131.32, 151.061, 138.2210...</td>\n",
       "    </tr>\n",
       "    <tr>\n",
       "      <td>3zruwvl2</td>\n",
       "      <td>[-3.939003, -66.779, -96.68, -3.939003, -66.77...</td>\n",
       "    </tr>\n",
       "    <tr>\n",
       "      <td>q18iae-3vnh74-79npmy</td>\n",
       "      <td>[-103.939, -116.779, -123.68, -103.939, -116.7...</td>\n",
       "    </tr>\n",
       "    <tr>\n",
       "      <td>...</td>\n",
       "      <td>...</td>\n",
       "    </tr>\n",
       "    <tr>\n",
       "      <td>pktyig-481wyg-6gyulf</td>\n",
       "      <td>[-91.939, -104.779, -97.68, -92.939, -105.779,...</td>\n",
       "    </tr>\n",
       "    <tr>\n",
       "      <td>zu7y3rha</td>\n",
       "      <td>[-1.939003, -14.778999, -21.68, -1.939003, -14...</td>\n",
       "    </tr>\n",
       "    <tr>\n",
       "      <td>pxcwxf-8tnpyg-8vhb9r</td>\n",
       "      <td>[77.061, 46.221, 32.32, 79.061, 49.221, 33.32,...</td>\n",
       "    </tr>\n",
       "    <tr>\n",
       "      <td>p4hakf-fsskmw-1224up</td>\n",
       "      <td>[-102.939, -115.779, -122.68, -98.939, -111.77...</td>\n",
       "    </tr>\n",
       "    <tr>\n",
       "      <td>ptuhsk-22124o-f0sxoc</td>\n",
       "      <td>[112.061, 100.221, 89.32, 114.061, 102.221, 93...</td>\n",
       "    </tr>\n",
       "  </tbody>\n",
       "</table>\n",
       "<p>3759 rows × 1 columns</p>\n",
       "</div>"
      ],
      "text/plain": [
       "                                                            pixel_array\n",
       "attachment_key                                                         \n",
       "ozbpir-9ey6js-ggdqwo  [-103.939, -116.779, -123.68, -103.939, -116.7...\n",
       "378ykanq              [-46.939003, -74.779, -118.68, -24.939003, -57...\n",
       "p366md-big834-7o23k6  [151.061, 138.22101, 131.32, 151.061, 138.2210...\n",
       "3zruwvl2              [-3.939003, -66.779, -96.68, -3.939003, -66.77...\n",
       "q18iae-3vnh74-79npmy  [-103.939, -116.779, -123.68, -103.939, -116.7...\n",
       "...                                                                 ...\n",
       "pktyig-481wyg-6gyulf  [-91.939, -104.779, -97.68, -92.939, -105.779,...\n",
       "zu7y3rha              [-1.939003, -14.778999, -21.68, -1.939003, -14...\n",
       "pxcwxf-8tnpyg-8vhb9r  [77.061, 46.221, 32.32, 79.061, 49.221, 33.32,...\n",
       "p4hakf-fsskmw-1224up  [-102.939, -115.779, -122.68, -98.939, -111.77...\n",
       "ptuhsk-22124o-f0sxoc  [112.061, 100.221, 89.32, 114.061, 102.221, 93...\n",
       "\n",
       "[3759 rows x 1 columns]"
      ]
     },
     "execution_count": 5,
     "metadata": {},
     "output_type": "execute_result"
    }
   ],
   "source": [
    "data_dict = {}\n",
    "for i in range(data_key.shape[0]):\n",
    "    data_dict[data_key[i]] = [data_pixel[i]]\n",
    "\n",
    "df_pixel = pd.DataFrame(data=data_dict)\n",
    "df_pixel_t = df_pixel.transpose()\n",
    "df_pixel_t.index.names = ['attachment_key']\n",
    "df_pixel_t.columns = ['pixel_array']\n",
    "df_pixel_t"
   ]
  },
  {
   "cell_type": "code",
   "execution_count": 6,
   "metadata": {},
   "outputs": [
    {
     "data": {
      "text/html": [
       "<div>\n",
       "<style scoped>\n",
       "    .dataframe tbody tr th:only-of-type {\n",
       "        vertical-align: middle;\n",
       "    }\n",
       "\n",
       "    .dataframe tbody tr th {\n",
       "        vertical-align: top;\n",
       "    }\n",
       "\n",
       "    .dataframe thead th {\n",
       "        text-align: right;\n",
       "    }\n",
       "</style>\n",
       "<table border=\"1\" class=\"dataframe\">\n",
       "  <thead>\n",
       "    <tr style=\"text-align: right;\">\n",
       "      <th></th>\n",
       "      <th>attachment_key</th>\n",
       "      <th>size_mb</th>\n",
       "      <th>height</th>\n",
       "      <th>width</th>\n",
       "      <th>h_to_w</th>\n",
       "      <th>pixel_array</th>\n",
       "      <th>filename</th>\n",
       "      <th>logo</th>\n",
       "    </tr>\n",
       "  </thead>\n",
       "  <tbody>\n",
       "    <tr>\n",
       "      <td>0</td>\n",
       "      <td>00xjny6u</td>\n",
       "      <td>0.011849</td>\n",
       "      <td>520.0</td>\n",
       "      <td>506.0</td>\n",
       "      <td>1.027668</td>\n",
       "      <td>[151.061, 138.22101, 131.32, 151.061, 138.2210...</td>\n",
       "      <td>Esterdale Theatre - Logo.png</td>\n",
       "      <td>1</td>\n",
       "    </tr>\n",
       "    <tr>\n",
       "      <td>1</td>\n",
       "      <td>04o31jop</td>\n",
       "      <td>0.012610</td>\n",
       "      <td>269.0</td>\n",
       "      <td>396.0</td>\n",
       "      <td>0.679293</td>\n",
       "      <td>[151.061, 138.22101, 131.32, 151.061, 138.2210...</td>\n",
       "      <td>BLUE_LOGO.png</td>\n",
       "      <td>1</td>\n",
       "    </tr>\n",
       "    <tr>\n",
       "      <td>2</td>\n",
       "      <td>0840h7ox</td>\n",
       "      <td>0.399114</td>\n",
       "      <td>518.0</td>\n",
       "      <td>920.0</td>\n",
       "      <td>0.563044</td>\n",
       "      <td>[27.060997, 14.221001, 13.32, 23.060997, 13.22...</td>\n",
       "      <td>ZEN_LB-5.jpg</td>\n",
       "      <td>0</td>\n",
       "    </tr>\n",
       "    <tr>\n",
       "      <td>3</td>\n",
       "      <td>0awudx2h</td>\n",
       "      <td>0.011226</td>\n",
       "      <td>200.0</td>\n",
       "      <td>200.0</td>\n",
       "      <td>1.000000</td>\n",
       "      <td>[151.061, 138.22101, 131.32, 151.061, 138.2210...</td>\n",
       "      <td>article central 200.jpg</td>\n",
       "      <td>1</td>\n",
       "    </tr>\n",
       "    <tr>\n",
       "      <td>4</td>\n",
       "      <td>0bb8y85h</td>\n",
       "      <td>0.263813</td>\n",
       "      <td>885.0</td>\n",
       "      <td>800.0</td>\n",
       "      <td>1.106250</td>\n",
       "      <td>[151.061, 138.22101, 131.32, 151.061, 138.2210...</td>\n",
       "      <td>1116-100_WGTank_white.jpg</td>\n",
       "      <td>0</td>\n",
       "    </tr>\n",
       "  </tbody>\n",
       "</table>\n",
       "</div>"
      ],
      "text/plain": [
       "  attachment_key   size_mb  height  width    h_to_w  \\\n",
       "0       00xjny6u  0.011849   520.0  506.0  1.027668   \n",
       "1       04o31jop  0.012610   269.0  396.0  0.679293   \n",
       "2       0840h7ox  0.399114   518.0  920.0  0.563044   \n",
       "3       0awudx2h  0.011226   200.0  200.0  1.000000   \n",
       "4       0bb8y85h  0.263813   885.0  800.0  1.106250   \n",
       "\n",
       "                                         pixel_array  \\\n",
       "0  [151.061, 138.22101, 131.32, 151.061, 138.2210...   \n",
       "1  [151.061, 138.22101, 131.32, 151.061, 138.2210...   \n",
       "2  [27.060997, 14.221001, 13.32, 23.060997, 13.22...   \n",
       "3  [151.061, 138.22101, 131.32, 151.061, 138.2210...   \n",
       "4  [151.061, 138.22101, 131.32, 151.061, 138.2210...   \n",
       "\n",
       "                       filename  logo  \n",
       "0  Esterdale Theatre - Logo.png     1  \n",
       "1                 BLUE_LOGO.png     1  \n",
       "2                  ZEN_LB-5.jpg     0  \n",
       "3       article central 200.jpg     1  \n",
       "4     1116-100_WGTank_white.jpg     0  "
      ]
     },
     "execution_count": 6,
     "metadata": {},
     "output_type": "execute_result"
    }
   ],
   "source": [
    "merge_meta_pixel = df.merge(df_pixel_t, on='attachment_key')\n",
    "combined_df = merge_meta_pixel[['attachment_key', 'size_mb', 'height', 'width', 'h_to_w',  'pixel_array', 'filename','logo']]\n",
    "combined_df.head()"
   ]
  },
  {
   "cell_type": "code",
   "execution_count": 7,
   "metadata": {},
   "outputs": [
    {
     "name": "stdout",
     "output_type": "stream",
     "text": [
      "{'pig', 'jpe', 'jpg', 'lue', '0mm', 'hot', 'peg', 'png', 'age', '73e', 'ack', 'ite'}\n"
     ]
    }
   ],
   "source": [
    "file_types = []\n",
    "for item in combined_df['filename']:\n",
    "    file_types.append(item[-3:].lower())\n",
    "\n",
    "print(set(file_types))"
   ]
  },
  {
   "cell_type": "code",
   "execution_count": 8,
   "metadata": {},
   "outputs": [],
   "source": [
    "filetype_encoding = []\n",
    "for item in combined_df['filename']:\n",
    "    if item[-3:].lower() == 'jpg':\n",
    "        filetype_encoding.append('jpg')\n",
    "    elif item[-3:].lower() == 'png':\n",
    "        filetype_encoding.append('png')\n",
    "    else:\n",
    "        filetype_encoding.append('other')\n"
   ]
  },
  {
   "cell_type": "code",
   "execution_count": 9,
   "metadata": {},
   "outputs": [
    {
     "name": "stderr",
     "output_type": "stream",
     "text": [
      "C:\\Users\\yixzhang\\AppData\\Local\\Continuum\\anaconda3\\lib\\site-packages\\ipykernel_launcher.py:1: SettingWithCopyWarning: \n",
      "A value is trying to be set on a copy of a slice from a DataFrame.\n",
      "Try using .loc[row_indexer,col_indexer] = value instead\n",
      "\n",
      "See the caveats in the documentation: http://pandas.pydata.org/pandas-docs/stable/user_guide/indexing.html#returning-a-view-versus-a-copy\n",
      "  \"\"\"Entry point for launching an IPython kernel.\n"
     ]
    },
    {
     "data": {
      "text/html": [
       "<div>\n",
       "<style scoped>\n",
       "    .dataframe tbody tr th:only-of-type {\n",
       "        vertical-align: middle;\n",
       "    }\n",
       "\n",
       "    .dataframe tbody tr th {\n",
       "        vertical-align: top;\n",
       "    }\n",
       "\n",
       "    .dataframe thead th {\n",
       "        text-align: right;\n",
       "    }\n",
       "</style>\n",
       "<table border=\"1\" class=\"dataframe\">\n",
       "  <thead>\n",
       "    <tr style=\"text-align: right;\">\n",
       "      <th></th>\n",
       "      <th>attachment_key</th>\n",
       "      <th>size_mb</th>\n",
       "      <th>height</th>\n",
       "      <th>width</th>\n",
       "      <th>h_to_w</th>\n",
       "      <th>filetype</th>\n",
       "      <th>pixel_array</th>\n",
       "      <th>filename</th>\n",
       "      <th>logo</th>\n",
       "    </tr>\n",
       "  </thead>\n",
       "  <tbody>\n",
       "    <tr>\n",
       "      <td>0</td>\n",
       "      <td>00xjny6u</td>\n",
       "      <td>0.011849</td>\n",
       "      <td>520.0</td>\n",
       "      <td>506.0</td>\n",
       "      <td>1.027668</td>\n",
       "      <td>png</td>\n",
       "      <td>[151.061, 138.22101, 131.32, 151.061, 138.2210...</td>\n",
       "      <td>Esterdale Theatre - Logo.png</td>\n",
       "      <td>1</td>\n",
       "    </tr>\n",
       "    <tr>\n",
       "      <td>1</td>\n",
       "      <td>04o31jop</td>\n",
       "      <td>0.012610</td>\n",
       "      <td>269.0</td>\n",
       "      <td>396.0</td>\n",
       "      <td>0.679293</td>\n",
       "      <td>png</td>\n",
       "      <td>[151.061, 138.22101, 131.32, 151.061, 138.2210...</td>\n",
       "      <td>BLUE_LOGO.png</td>\n",
       "      <td>1</td>\n",
       "    </tr>\n",
       "    <tr>\n",
       "      <td>2</td>\n",
       "      <td>0840h7ox</td>\n",
       "      <td>0.399114</td>\n",
       "      <td>518.0</td>\n",
       "      <td>920.0</td>\n",
       "      <td>0.563044</td>\n",
       "      <td>jpg</td>\n",
       "      <td>[27.060997, 14.221001, 13.32, 23.060997, 13.22...</td>\n",
       "      <td>ZEN_LB-5.jpg</td>\n",
       "      <td>0</td>\n",
       "    </tr>\n",
       "    <tr>\n",
       "      <td>3</td>\n",
       "      <td>0awudx2h</td>\n",
       "      <td>0.011226</td>\n",
       "      <td>200.0</td>\n",
       "      <td>200.0</td>\n",
       "      <td>1.000000</td>\n",
       "      <td>jpg</td>\n",
       "      <td>[151.061, 138.22101, 131.32, 151.061, 138.2210...</td>\n",
       "      <td>article central 200.jpg</td>\n",
       "      <td>1</td>\n",
       "    </tr>\n",
       "    <tr>\n",
       "      <td>4</td>\n",
       "      <td>0bb8y85h</td>\n",
       "      <td>0.263813</td>\n",
       "      <td>885.0</td>\n",
       "      <td>800.0</td>\n",
       "      <td>1.106250</td>\n",
       "      <td>jpg</td>\n",
       "      <td>[151.061, 138.22101, 131.32, 151.061, 138.2210...</td>\n",
       "      <td>1116-100_WGTank_white.jpg</td>\n",
       "      <td>0</td>\n",
       "    </tr>\n",
       "  </tbody>\n",
       "</table>\n",
       "</div>"
      ],
      "text/plain": [
       "  attachment_key   size_mb  height  width    h_to_w filetype  \\\n",
       "0       00xjny6u  0.011849   520.0  506.0  1.027668      png   \n",
       "1       04o31jop  0.012610   269.0  396.0  0.679293      png   \n",
       "2       0840h7ox  0.399114   518.0  920.0  0.563044      jpg   \n",
       "3       0awudx2h  0.011226   200.0  200.0  1.000000      jpg   \n",
       "4       0bb8y85h  0.263813   885.0  800.0  1.106250      jpg   \n",
       "\n",
       "                                         pixel_array  \\\n",
       "0  [151.061, 138.22101, 131.32, 151.061, 138.2210...   \n",
       "1  [151.061, 138.22101, 131.32, 151.061, 138.2210...   \n",
       "2  [27.060997, 14.221001, 13.32, 23.060997, 13.22...   \n",
       "3  [151.061, 138.22101, 131.32, 151.061, 138.2210...   \n",
       "4  [151.061, 138.22101, 131.32, 151.061, 138.2210...   \n",
       "\n",
       "                       filename  logo  \n",
       "0  Esterdale Theatre - Logo.png     1  \n",
       "1                 BLUE_LOGO.png     1  \n",
       "2                  ZEN_LB-5.jpg     0  \n",
       "3       article central 200.jpg     1  \n",
       "4     1116-100_WGTank_white.jpg     0  "
      ]
     },
     "execution_count": 9,
     "metadata": {},
     "output_type": "execute_result"
    }
   ],
   "source": [
    "combined_df['filetype'] = filetype_encoding\n",
    "combined_df = combined_df[['attachment_key', 'size_mb', 'height', 'width', 'h_to_w', 'filetype', 'pixel_array', 'filename','logo']]\n",
    "combined_df.head()"
   ]
  },
  {
   "cell_type": "code",
   "execution_count": 10,
   "metadata": {},
   "outputs": [
    {
     "data": {
      "text/html": [
       "<div>\n",
       "<style scoped>\n",
       "    .dataframe tbody tr th:only-of-type {\n",
       "        vertical-align: middle;\n",
       "    }\n",
       "\n",
       "    .dataframe tbody tr th {\n",
       "        vertical-align: top;\n",
       "    }\n",
       "\n",
       "    .dataframe thead th {\n",
       "        text-align: right;\n",
       "    }\n",
       "</style>\n",
       "<table border=\"1\" class=\"dataframe\">\n",
       "  <thead>\n",
       "    <tr style=\"text-align: right;\">\n",
       "      <th></th>\n",
       "      <th>attachment_key</th>\n",
       "      <th>size_mb</th>\n",
       "      <th>height</th>\n",
       "      <th>width</th>\n",
       "      <th>h_to_w</th>\n",
       "      <th>filetype</th>\n",
       "      <th>pixel_array</th>\n",
       "      <th>filename</th>\n",
       "      <th>logo</th>\n",
       "      <th>jpg</th>\n",
       "      <th>other</th>\n",
       "      <th>png</th>\n",
       "    </tr>\n",
       "  </thead>\n",
       "  <tbody>\n",
       "    <tr>\n",
       "      <td>0</td>\n",
       "      <td>00xjny6u</td>\n",
       "      <td>0.011849</td>\n",
       "      <td>520.0</td>\n",
       "      <td>506.0</td>\n",
       "      <td>1.027668</td>\n",
       "      <td>png</td>\n",
       "      <td>[151.061, 138.22101, 131.32, 151.061, 138.2210...</td>\n",
       "      <td>Esterdale Theatre - Logo.png</td>\n",
       "      <td>1</td>\n",
       "      <td>0</td>\n",
       "      <td>0</td>\n",
       "      <td>1</td>\n",
       "    </tr>\n",
       "    <tr>\n",
       "      <td>1</td>\n",
       "      <td>04o31jop</td>\n",
       "      <td>0.012610</td>\n",
       "      <td>269.0</td>\n",
       "      <td>396.0</td>\n",
       "      <td>0.679293</td>\n",
       "      <td>png</td>\n",
       "      <td>[151.061, 138.22101, 131.32, 151.061, 138.2210...</td>\n",
       "      <td>BLUE_LOGO.png</td>\n",
       "      <td>1</td>\n",
       "      <td>0</td>\n",
       "      <td>0</td>\n",
       "      <td>1</td>\n",
       "    </tr>\n",
       "    <tr>\n",
       "      <td>2</td>\n",
       "      <td>0840h7ox</td>\n",
       "      <td>0.399114</td>\n",
       "      <td>518.0</td>\n",
       "      <td>920.0</td>\n",
       "      <td>0.563044</td>\n",
       "      <td>jpg</td>\n",
       "      <td>[27.060997, 14.221001, 13.32, 23.060997, 13.22...</td>\n",
       "      <td>ZEN_LB-5.jpg</td>\n",
       "      <td>0</td>\n",
       "      <td>1</td>\n",
       "      <td>0</td>\n",
       "      <td>0</td>\n",
       "    </tr>\n",
       "    <tr>\n",
       "      <td>3</td>\n",
       "      <td>0awudx2h</td>\n",
       "      <td>0.011226</td>\n",
       "      <td>200.0</td>\n",
       "      <td>200.0</td>\n",
       "      <td>1.000000</td>\n",
       "      <td>jpg</td>\n",
       "      <td>[151.061, 138.22101, 131.32, 151.061, 138.2210...</td>\n",
       "      <td>article central 200.jpg</td>\n",
       "      <td>1</td>\n",
       "      <td>1</td>\n",
       "      <td>0</td>\n",
       "      <td>0</td>\n",
       "    </tr>\n",
       "    <tr>\n",
       "      <td>4</td>\n",
       "      <td>0bb8y85h</td>\n",
       "      <td>0.263813</td>\n",
       "      <td>885.0</td>\n",
       "      <td>800.0</td>\n",
       "      <td>1.106250</td>\n",
       "      <td>jpg</td>\n",
       "      <td>[151.061, 138.22101, 131.32, 151.061, 138.2210...</td>\n",
       "      <td>1116-100_WGTank_white.jpg</td>\n",
       "      <td>0</td>\n",
       "      <td>1</td>\n",
       "      <td>0</td>\n",
       "      <td>0</td>\n",
       "    </tr>\n",
       "  </tbody>\n",
       "</table>\n",
       "</div>"
      ],
      "text/plain": [
       "  attachment_key   size_mb  height  width    h_to_w filetype  \\\n",
       "0       00xjny6u  0.011849   520.0  506.0  1.027668      png   \n",
       "1       04o31jop  0.012610   269.0  396.0  0.679293      png   \n",
       "2       0840h7ox  0.399114   518.0  920.0  0.563044      jpg   \n",
       "3       0awudx2h  0.011226   200.0  200.0  1.000000      jpg   \n",
       "4       0bb8y85h  0.263813   885.0  800.0  1.106250      jpg   \n",
       "\n",
       "                                         pixel_array  \\\n",
       "0  [151.061, 138.22101, 131.32, 151.061, 138.2210...   \n",
       "1  [151.061, 138.22101, 131.32, 151.061, 138.2210...   \n",
       "2  [27.060997, 14.221001, 13.32, 23.060997, 13.22...   \n",
       "3  [151.061, 138.22101, 131.32, 151.061, 138.2210...   \n",
       "4  [151.061, 138.22101, 131.32, 151.061, 138.2210...   \n",
       "\n",
       "                       filename  logo  jpg  other  png  \n",
       "0  Esterdale Theatre - Logo.png     1    0      0    1  \n",
       "1                 BLUE_LOGO.png     1    0      0    1  \n",
       "2                  ZEN_LB-5.jpg     0    1      0    0  \n",
       "3       article central 200.jpg     1    1      0    0  \n",
       "4     1116-100_WGTank_white.jpg     0    1      0    0  "
      ]
     },
     "execution_count": 10,
     "metadata": {},
     "output_type": "execute_result"
    }
   ],
   "source": [
    "# get dummies\n",
    "cork_dummies = pd.get_dummies(combined_df.filetype)\n",
    "\n",
    "# add to initial df\n",
    "combined_df = pd.concat((combined_df, cork_dummies), axis=1)\n",
    "\n",
    "# print head of df\n",
    "combined_df.head()"
   ]
  },
  {
   "cell_type": "markdown",
   "metadata": {},
   "source": [
    "**Step 6: Data preprocessing**"
   ]
  },
  {
   "cell_type": "code",
   "execution_count": 11,
   "metadata": {},
   "outputs": [],
   "source": [
    "# Standardize pixel values between 0 and 1 by dividing by 255"
   ]
  },
  {
   "cell_type": "code",
   "execution_count": 12,
   "metadata": {},
   "outputs": [],
   "source": [
    "combined_row_len, combined_column_len = combined_df.shape"
   ]
  },
  {
   "cell_type": "code",
   "execution_count": 13,
   "metadata": {},
   "outputs": [],
   "source": [
    "# !!!!!! remember to random the data"
   ]
  },
  {
   "cell_type": "code",
   "execution_count": 14,
   "metadata": {},
   "outputs": [],
   "source": [
    "# gray scale\n",
    "gray_df = combined_df\n",
    "gray_df.pixel_array = combined_df.pixel_array / 255.0\n",
    "test_data = gray_df.iloc[:1000, :].values\n",
    "train_data = gray_df.iloc[1000:combined_row_len, :].values"
   ]
  },
  {
   "cell_type": "code",
   "execution_count": 15,
   "metadata": {},
   "outputs": [],
   "source": [
    "# gray scale\n",
    "data_pixel_gray= data_pixel / 255.0\n",
    "test_pixel_data = data_pixel_gray[:1000]\n",
    "train_pixel_data = data_pixel_gray[1000:combined_row_len]"
   ]
  },
  {
   "cell_type": "code",
   "execution_count": 35,
   "metadata": {},
   "outputs": [
    {
     "data": {
      "text/plain": [
       "(1000, 150528)"
      ]
     },
     "execution_count": 35,
     "metadata": {},
     "output_type": "execute_result"
    }
   ],
   "source": [
    "test_pixel_data.shape"
   ]
  },
  {
   "cell_type": "code",
   "execution_count": 36,
   "metadata": {},
   "outputs": [
    {
     "data": {
      "text/plain": [
       "(2755, 150528)"
      ]
     },
     "execution_count": 36,
     "metadata": {},
     "output_type": "execute_result"
    }
   ],
   "source": [
    "train_pixel_data.shape"
   ]
  },
  {
   "cell_type": "code",
   "execution_count": 16,
   "metadata": {},
   "outputs": [
    {
     "data": {
      "text/plain": [
       "array([[ 0.5923961 ,  0.54204315,  0.51498044, ...,  0.5923961 ,\n",
       "         0.54204315,  0.51498044],\n",
       "       [ 0.43945488,  0.36165097,  0.23654902, ...,  0.52180785,\n",
       "         0.4440039 ,  0.35811764],\n",
       "       [-0.40760392, -0.45795685, -0.4850196 , ..., -0.40760392,\n",
       "        -0.45795685, -0.4850196 ],\n",
       "       ...,\n",
       "       [ 0.23553333,  0.12243529,  0.04831373, ...,  0.34141567,\n",
       "         0.22831765,  0.22870588],\n",
       "       [ 0.5923961 ,  0.54204315,  0.51498044, ...,  0.5923961 ,\n",
       "         0.54204315,  0.51498044],\n",
       "       [-0.40760392, -0.45795685, -0.4850196 , ..., -0.3958392 ,\n",
       "        -0.44619215, -0.4732549 ]], dtype=float32)"
      ]
     },
     "execution_count": 16,
     "metadata": {},
     "output_type": "execute_result"
    }
   ],
   "source": [
    "train_pixel_data"
   ]
  },
  {
   "cell_type": "code",
   "execution_count": 17,
   "metadata": {},
   "outputs": [],
   "source": [
    "test_labels = gray_df.logo.values[:1000]\n",
    "train_labels = gray_df.logo.values[1000:combined_row_len]"
   ]
  },
  {
   "cell_type": "code",
   "execution_count": 18,
   "metadata": {},
   "outputs": [
    {
     "data": {
      "text/plain": [
       "array([[-0.40760392, -0.45795685, -0.4850196 , ..., -0.40760392,\n",
       "        -0.45795685, -0.4850196 ],\n",
       "       [-0.18407452, -0.29325098, -0.46541175, ..., -0.22721177,\n",
       "        -0.33246666, -0.46541175],\n",
       "       [ 0.5923961 ,  0.54204315,  0.51498044, ...,  0.5923961 ,\n",
       "         0.54204315,  0.51498044],\n",
       "       ...,\n",
       "       [ 0.3022    ,  0.18125883,  0.12674509, ..., -0.21936864,\n",
       "        -0.1520745 ,  0.00517647],\n",
       "       [-0.40368235, -0.45403528, -0.48109803, ..., -0.27034903,\n",
       "        -0.3756039 , -0.44972548],\n",
       "       [ 0.43945488,  0.39302352,  0.3502745 , ..., -0.02329021,\n",
       "         0.13027844,  0.01301961]], dtype=float32)"
      ]
     },
     "execution_count": 18,
     "metadata": {},
     "output_type": "execute_result"
    }
   ],
   "source": [
    "data_pixel_gray"
   ]
  },
  {
   "cell_type": "code",
   "execution_count": 19,
   "metadata": {},
   "outputs": [
    {
     "data": {
      "text/html": [
       "<div>\n",
       "<style scoped>\n",
       "    .dataframe tbody tr th:only-of-type {\n",
       "        vertical-align: middle;\n",
       "    }\n",
       "\n",
       "    .dataframe tbody tr th {\n",
       "        vertical-align: top;\n",
       "    }\n",
       "\n",
       "    .dataframe thead th {\n",
       "        text-align: right;\n",
       "    }\n",
       "</style>\n",
       "<table border=\"1\" class=\"dataframe\">\n",
       "  <thead>\n",
       "    <tr style=\"text-align: right;\">\n",
       "      <th></th>\n",
       "      <th>attachment_key</th>\n",
       "      <th>size_mb</th>\n",
       "      <th>height</th>\n",
       "      <th>width</th>\n",
       "      <th>h_to_w</th>\n",
       "      <th>filetype</th>\n",
       "      <th>pixel_array</th>\n",
       "      <th>filename</th>\n",
       "      <th>logo</th>\n",
       "      <th>jpg</th>\n",
       "      <th>other</th>\n",
       "      <th>png</th>\n",
       "    </tr>\n",
       "  </thead>\n",
       "  <tbody>\n",
       "    <tr>\n",
       "      <td>0</td>\n",
       "      <td>00xjny6u</td>\n",
       "      <td>0.011849</td>\n",
       "      <td>520.0</td>\n",
       "      <td>506.0</td>\n",
       "      <td>1.027668</td>\n",
       "      <td>png</td>\n",
       "      <td>[0.5923961, 0.54204315, 0.51498044, 0.5923961,...</td>\n",
       "      <td>Esterdale Theatre - Logo.png</td>\n",
       "      <td>1</td>\n",
       "      <td>0</td>\n",
       "      <td>0</td>\n",
       "      <td>1</td>\n",
       "    </tr>\n",
       "    <tr>\n",
       "      <td>1</td>\n",
       "      <td>04o31jop</td>\n",
       "      <td>0.012610</td>\n",
       "      <td>269.0</td>\n",
       "      <td>396.0</td>\n",
       "      <td>0.679293</td>\n",
       "      <td>png</td>\n",
       "      <td>[0.5923961, 0.54204315, 0.51498044, 0.5923961,...</td>\n",
       "      <td>BLUE_LOGO.png</td>\n",
       "      <td>1</td>\n",
       "      <td>0</td>\n",
       "      <td>0</td>\n",
       "      <td>1</td>\n",
       "    </tr>\n",
       "    <tr>\n",
       "      <td>2</td>\n",
       "      <td>0840h7ox</td>\n",
       "      <td>0.399114</td>\n",
       "      <td>518.0</td>\n",
       "      <td>920.0</td>\n",
       "      <td>0.563044</td>\n",
       "      <td>jpg</td>\n",
       "      <td>[0.106121555, 0.05576863, 0.052235294, 0.09043...</td>\n",
       "      <td>ZEN_LB-5.jpg</td>\n",
       "      <td>0</td>\n",
       "      <td>1</td>\n",
       "      <td>0</td>\n",
       "      <td>0</td>\n",
       "    </tr>\n",
       "    <tr>\n",
       "      <td>3</td>\n",
       "      <td>0awudx2h</td>\n",
       "      <td>0.011226</td>\n",
       "      <td>200.0</td>\n",
       "      <td>200.0</td>\n",
       "      <td>1.000000</td>\n",
       "      <td>jpg</td>\n",
       "      <td>[0.5923961, 0.54204315, 0.51498044, 0.5923961,...</td>\n",
       "      <td>article central 200.jpg</td>\n",
       "      <td>1</td>\n",
       "      <td>1</td>\n",
       "      <td>0</td>\n",
       "      <td>0</td>\n",
       "    </tr>\n",
       "    <tr>\n",
       "      <td>4</td>\n",
       "      <td>0bb8y85h</td>\n",
       "      <td>0.263813</td>\n",
       "      <td>885.0</td>\n",
       "      <td>800.0</td>\n",
       "      <td>1.106250</td>\n",
       "      <td>jpg</td>\n",
       "      <td>[0.5923961, 0.54204315, 0.51498044, 0.5923961,...</td>\n",
       "      <td>1116-100_WGTank_white.jpg</td>\n",
       "      <td>0</td>\n",
       "      <td>1</td>\n",
       "      <td>0</td>\n",
       "      <td>0</td>\n",
       "    </tr>\n",
       "    <tr>\n",
       "      <td>...</td>\n",
       "      <td>...</td>\n",
       "      <td>...</td>\n",
       "      <td>...</td>\n",
       "      <td>...</td>\n",
       "      <td>...</td>\n",
       "      <td>...</td>\n",
       "      <td>...</td>\n",
       "      <td>...</td>\n",
       "      <td>...</td>\n",
       "      <td>...</td>\n",
       "      <td>...</td>\n",
       "      <td>...</td>\n",
       "    </tr>\n",
       "    <tr>\n",
       "      <td>3750</td>\n",
       "      <td>zu7y3rha</td>\n",
       "      <td>0.147371</td>\n",
       "      <td>498.0</td>\n",
       "      <td>702.0</td>\n",
       "      <td>0.709402</td>\n",
       "      <td>jpg</td>\n",
       "      <td>[-0.007603933, -0.05795686, -0.08501961, -0.00...</td>\n",
       "      <td>journalism.jpg</td>\n",
       "      <td>0</td>\n",
       "      <td>1</td>\n",
       "      <td>0</td>\n",
       "      <td>0</td>\n",
       "    </tr>\n",
       "    <tr>\n",
       "      <td>3751</td>\n",
       "      <td>zuanbsqe</td>\n",
       "      <td>0.580392</td>\n",
       "      <td>206.0</td>\n",
       "      <td>415.0</td>\n",
       "      <td>0.496386</td>\n",
       "      <td>jpg</td>\n",
       "      <td>[0.5923961, 0.54204315, 0.51498044, 0.5923961,...</td>\n",
       "      <td>2013 05 26_techstars_id_final_bug solo graysca...</td>\n",
       "      <td>1</td>\n",
       "      <td>1</td>\n",
       "      <td>0</td>\n",
       "      <td>0</td>\n",
       "    </tr>\n",
       "    <tr>\n",
       "      <td>3752</td>\n",
       "      <td>zw9234v4</td>\n",
       "      <td>2.021135</td>\n",
       "      <td>1645.0</td>\n",
       "      <td>1450.0</td>\n",
       "      <td>1.134483</td>\n",
       "      <td>jpg</td>\n",
       "      <td>[0.5923961, 0.54204315, 0.51498044, 0.5923961,...</td>\n",
       "      <td>SPIN N GLO SILVER WING GPK MY.jpg</td>\n",
       "      <td>0</td>\n",
       "      <td>1</td>\n",
       "      <td>0</td>\n",
       "      <td>0</td>\n",
       "    </tr>\n",
       "    <tr>\n",
       "      <td>3753</td>\n",
       "      <td>zxfqbfj1</td>\n",
       "      <td>0.012057</td>\n",
       "      <td>36.0</td>\n",
       "      <td>345.0</td>\n",
       "      <td>0.104348</td>\n",
       "      <td>png</td>\n",
       "      <td>[-0.40760392, -0.45795685, -0.4850196, -0.4076...</td>\n",
       "      <td>cornerstone web logo medium.png</td>\n",
       "      <td>1</td>\n",
       "      <td>0</td>\n",
       "      <td>0</td>\n",
       "      <td>1</td>\n",
       "    </tr>\n",
       "    <tr>\n",
       "      <td>3754</td>\n",
       "      <td>zzgkjqna</td>\n",
       "      <td>0.027983</td>\n",
       "      <td>56.0</td>\n",
       "      <td>350.0</td>\n",
       "      <td>0.160000</td>\n",
       "      <td>jpg</td>\n",
       "      <td>[0.5923961, 0.54204315, 0.51498044, 0.5923961,...</td>\n",
       "      <td>fieldcontrolslogohorz web.jpg</td>\n",
       "      <td>1</td>\n",
       "      <td>1</td>\n",
       "      <td>0</td>\n",
       "      <td>0</td>\n",
       "    </tr>\n",
       "  </tbody>\n",
       "</table>\n",
       "<p>3755 rows × 12 columns</p>\n",
       "</div>"
      ],
      "text/plain": [
       "     attachment_key   size_mb  height   width    h_to_w filetype  \\\n",
       "0          00xjny6u  0.011849   520.0   506.0  1.027668      png   \n",
       "1          04o31jop  0.012610   269.0   396.0  0.679293      png   \n",
       "2          0840h7ox  0.399114   518.0   920.0  0.563044      jpg   \n",
       "3          0awudx2h  0.011226   200.0   200.0  1.000000      jpg   \n",
       "4          0bb8y85h  0.263813   885.0   800.0  1.106250      jpg   \n",
       "...             ...       ...     ...     ...       ...      ...   \n",
       "3750       zu7y3rha  0.147371   498.0   702.0  0.709402      jpg   \n",
       "3751       zuanbsqe  0.580392   206.0   415.0  0.496386      jpg   \n",
       "3752       zw9234v4  2.021135  1645.0  1450.0  1.134483      jpg   \n",
       "3753       zxfqbfj1  0.012057    36.0   345.0  0.104348      png   \n",
       "3754       zzgkjqna  0.027983    56.0   350.0  0.160000      jpg   \n",
       "\n",
       "                                            pixel_array  \\\n",
       "0     [0.5923961, 0.54204315, 0.51498044, 0.5923961,...   \n",
       "1     [0.5923961, 0.54204315, 0.51498044, 0.5923961,...   \n",
       "2     [0.106121555, 0.05576863, 0.052235294, 0.09043...   \n",
       "3     [0.5923961, 0.54204315, 0.51498044, 0.5923961,...   \n",
       "4     [0.5923961, 0.54204315, 0.51498044, 0.5923961,...   \n",
       "...                                                 ...   \n",
       "3750  [-0.007603933, -0.05795686, -0.08501961, -0.00...   \n",
       "3751  [0.5923961, 0.54204315, 0.51498044, 0.5923961,...   \n",
       "3752  [0.5923961, 0.54204315, 0.51498044, 0.5923961,...   \n",
       "3753  [-0.40760392, -0.45795685, -0.4850196, -0.4076...   \n",
       "3754  [0.5923961, 0.54204315, 0.51498044, 0.5923961,...   \n",
       "\n",
       "                                               filename  logo  jpg  other  png  \n",
       "0                          Esterdale Theatre - Logo.png     1    0      0    1  \n",
       "1                                         BLUE_LOGO.png     1    0      0    1  \n",
       "2                                          ZEN_LB-5.jpg     0    1      0    0  \n",
       "3                               article central 200.jpg     1    1      0    0  \n",
       "4                             1116-100_WGTank_white.jpg     0    1      0    0  \n",
       "...                                                 ...   ...  ...    ...  ...  \n",
       "3750                                     journalism.jpg     0    1      0    0  \n",
       "3751  2013 05 26_techstars_id_final_bug solo graysca...     1    1      0    0  \n",
       "3752                  SPIN N GLO SILVER WING GPK MY.jpg     0    1      0    0  \n",
       "3753                    cornerstone web logo medium.png     1    0      0    1  \n",
       "3754                      fieldcontrolslogohorz web.jpg     1    1      0    0  \n",
       "\n",
       "[3755 rows x 12 columns]"
      ]
     },
     "execution_count": 19,
     "metadata": {},
     "output_type": "execute_result"
    }
   ],
   "source": [
    "gray_df"
   ]
  },
  {
   "cell_type": "code",
   "execution_count": 37,
   "metadata": {},
   "outputs": [],
   "source": [
    "def get_accuracy(num_pca):\n",
    "    pca = PCA(n_components=num_pca)\n",
    "    X_train_pca = pca.fit_transform(train_pixel_data)\n",
    "    test_pca = pca.transform(test_pixel_data)\n",
    "\n",
    "    # Create 2 GaussianMixture model,\n",
    "    # one for the positive examples and one for the negative examples\n",
    "    gm_logo = GaussianMixture(n_components=4, covariance_type='full').fit(X_train_pca[train_labels==1])\n",
    "    gm_non_logo = GaussianMixture(n_components=4, covariance_type='full').fit(X_train_pca[train_labels==0])\n",
    "\n",
    "    # Compare probability of the 2 GaussianMixture prediction\n",
    "    pred = gm_logo.score_samples(test_pca) > gm_non_logo.score_samples(test_pca)\n",
    "    print(\"Accuracy is\", metrics.accuracy_score(test_labels, pred))"
   ]
  },
  {
   "cell_type": "code",
   "execution_count": 21,
   "metadata": {},
   "outputs": [
    {
     "name": "stdout",
     "output_type": "stream",
     "text": [
      "Accuracy is 0.489\n"
     ]
    }
   ],
   "source": [
    "get_accuracy(2)"
   ]
  },
  {
   "cell_type": "code",
   "execution_count": 22,
   "metadata": {},
   "outputs": [
    {
     "name": "stdout",
     "output_type": "stream",
     "text": [
      "Accuracy is 0.502\n"
     ]
    }
   ],
   "source": [
    "get_accuracy(3)"
   ]
  },
  {
   "cell_type": "code",
   "execution_count": 23,
   "metadata": {},
   "outputs": [
    {
     "name": "stdout",
     "output_type": "stream",
     "text": [
      "Accuracy is 0.515\n"
     ]
    }
   ],
   "source": [
    "get_accuracy(4)"
   ]
  },
  {
   "cell_type": "code",
   "execution_count": 24,
   "metadata": {},
   "outputs": [
    {
     "name": "stdout",
     "output_type": "stream",
     "text": [
      "Accuracy is 0.489\n"
     ]
    }
   ],
   "source": [
    "get_accuracy(5)"
   ]
  },
  {
   "cell_type": "code",
   "execution_count": 25,
   "metadata": {},
   "outputs": [
    {
     "name": "stdout",
     "output_type": "stream",
     "text": [
      "Accuracy is 0.492\n"
     ]
    }
   ],
   "source": [
    "get_accuracy(10)"
   ]
  },
  {
   "cell_type": "code",
   "execution_count": 26,
   "metadata": {},
   "outputs": [
    {
     "name": "stdout",
     "output_type": "stream",
     "text": [
      "Accuracy is 0.455\n"
     ]
    }
   ],
   "source": [
    "get_accuracy(20)"
   ]
  },
  {
   "cell_type": "markdown",
   "metadata": {},
   "source": [
    "**Logistic Regression**"
   ]
  },
  {
   "cell_type": "code",
   "execution_count": 42,
   "metadata": {},
   "outputs": [
    {
     "name": "stdout",
     "output_type": "stream",
     "text": [
      "Accuracy is 0.704\n"
     ]
    },
    {
     "name": "stderr",
     "output_type": "stream",
     "text": [
      "C:\\Users\\yixzhang\\AppData\\Local\\Continuum\\anaconda3\\lib\\site-packages\\sklearn\\linear_model\\logistic.py:432: FutureWarning: Default solver will be changed to 'lbfgs' in 0.22. Specify a solver to silence this warning.\n",
      "  FutureWarning)\n"
     ]
    }
   ],
   "source": [
    "pca_logi = PCA(n_components=2)\n",
    "X_train_pca = pca_logi.fit_transform(train_pixel_data)\n",
    "test_pca = pca_logi.transform(test_pixel_data)\n",
    "# lr = LogisticRegression(C=2.0, random_state=1, solver='lbfgs', multi_class='ovr')\n",
    "lr = LogisticRegression(C=10.0)\n",
    "lr.fit(X_train_pca, train_labels)\n",
    "pred = lr.predict(test_pca)\n",
    "print(\"Accuracy is\", metrics.accuracy_score(test_labels, pred))"
   ]
  },
  {
   "cell_type": "markdown",
   "metadata": {},
   "source": [
    "**Step 7: Single Layer NN**"
   ]
  },
  {
   "cell_type": "markdown",
   "metadata": {},
   "source": [
    "7.1: Build the NN Model"
   ]
  },
  {
   "cell_type": "markdown",
   "metadata": {},
   "source": [
    "7.2: Fit the NN Model"
   ]
  },
  {
   "cell_type": "markdown",
   "metadata": {},
   "source": [
    "7.3: Evaluate performance on the test set"
   ]
  },
  {
   "cell_type": "markdown",
   "metadata": {},
   "source": [
    "7.4: Make predictions"
   ]
  },
  {
   "cell_type": "markdown",
   "metadata": {},
   "source": [
    "**Step 8: Multilayer NN**"
   ]
  },
  {
   "cell_type": "markdown",
   "metadata": {},
   "source": [
    "8.1: Build the NN Model"
   ]
  },
  {
   "cell_type": "markdown",
   "metadata": {},
   "source": [
    "8.2: Fit the NN Model"
   ]
  },
  {
   "cell_type": "markdown",
   "metadata": {},
   "source": [
    "8.3: Evaluate performance on the test set"
   ]
  },
  {
   "cell_type": "markdown",
   "metadata": {},
   "source": [
    "8.4: Make predictions"
   ]
  },
  {
   "cell_type": "markdown",
   "metadata": {},
   "source": [
    "**Conclusions**"
   ]
  },
  {
   "cell_type": "code",
   "execution_count": null,
   "metadata": {},
   "outputs": [],
   "source": []
  }
 ],
 "metadata": {
  "kernelspec": {
   "display_name": "Python 3",
   "language": "python",
   "name": "python3"
  },
  "language_info": {
   "codemirror_mode": {
    "name": "ipython",
    "version": 3
   },
   "file_extension": ".py",
   "mimetype": "text/x-python",
   "name": "python",
   "nbconvert_exporter": "python",
   "pygments_lexer": "ipython3",
   "version": "3.7.4"
  }
 },
 "nbformat": 4,
 "nbformat_minor": 2
}
