{
 "cells": [
  {
   "cell_type": "code",
   "execution_count": 1,
   "metadata": {},
   "outputs": [],
   "source": [
    "# Import libraries\n",
    "import pandas as pd\n",
    "import numpy as np\n",
    "import matplotlib.pyplot as plt\n",
    "import os\n",
    "\n",
    "from sklearn.model_selection import train_test_split\n",
    "from sklearn.preprocessing import StandardScaler"
   ]
  },
  {
   "cell_type": "code",
   "execution_count": 2,
   "metadata": {},
   "outputs": [],
   "source": [
    "# Set working directory\n",
    "os.chdir('C:/Users/user/Documents/Berkeley_MIDS/W207_Machine_Learning/w207_final_project')"
   ]
  },
  {
   "cell_type": "code",
   "execution_count": 3,
   "metadata": {},
   "outputs": [
    {
     "data": {
      "text/plain": [
       "['arr_0', 'arr_1']"
      ]
     },
     "execution_count": 3,
     "metadata": {},
     "output_type": "execute_result"
    }
   ],
   "source": [
    "# Load first npz file as an example and get files\n",
    "data_1 = np.load('et_w207_project_npz_files_5000_tmp_tmp5ocrhjnn.npz')\n",
    "data_1.close\n",
    "data_1.files"
   ]
  },
  {
   "cell_type": "code",
   "execution_count": 4,
   "metadata": {},
   "outputs": [
    {
     "data": {
      "text/plain": [
       "array(['ozbpir-9ey6js-ggdqwo', '378ykanq', 'p366md-big834-7o23k6',\n",
       "       '3zruwvl2', 'q18iae-3vnh74-79npmy'], dtype='<U20')"
      ]
     },
     "execution_count": 4,
     "metadata": {},
     "output_type": "execute_result"
    }
   ],
   "source": [
    "# Show file arr_0 example\n",
    "data_1['arr_0'][:5]"
   ]
  },
  {
   "cell_type": "code",
   "execution_count": 5,
   "metadata": {},
   "outputs": [
    {
     "data": {
      "text/plain": [
       "array([[-103.939   , -116.779   , -123.68    , ..., -103.939   ,\n",
       "        -116.779   , -123.68    ],\n",
       "       [ -46.939003,  -74.779   , -118.68    , ...,  -57.939003,\n",
       "         -84.779   , -118.68    ],\n",
       "       [ 151.061   ,  138.22101 ,  131.32    , ...,  151.061   ,\n",
       "         138.22101 ,  131.32    ],\n",
       "       [  -3.939003,  -66.779   ,  -96.68    , ...,   -3.939003,\n",
       "         -66.779   ,  -96.68    ],\n",
       "       [-103.939   , -116.779   , -123.68    , ..., -103.939   ,\n",
       "        -116.779   , -123.68    ]], dtype=float32)"
      ]
     },
     "execution_count": 5,
     "metadata": {},
     "output_type": "execute_result"
    }
   ],
   "source": [
    "# Show file arr_1 example\n",
    "data_1['arr_1'][:5]"
   ]
  },
  {
   "cell_type": "code",
   "execution_count": 6,
   "metadata": {},
   "outputs": [
    {
     "name": "stdout",
     "output_type": "stream",
     "text": [
      "['arr_0', 'arr_1']\n",
      "['arr_0', 'arr_1']\n",
      "['arr_0', 'arr_1']\n"
     ]
    }
   ],
   "source": [
    "# Load all data files\n",
    "data_2 = np.load('et_w207_project_npz_files_5000_tmp_tmp092sag67.npz')\n",
    "data_2.close\n",
    "print(data_2.files)\n",
    "\n",
    "data_3 = np.load('et_w207_project_npz_files_5000_tmp_tmpf31_pn8p.npz')\n",
    "data_3.close\n",
    "print(data_3.files)\n",
    "\n",
    "data_4 = np.load('et_w207_project_npz_files_5000_tmp_tmpq5b2g4n2.npz')\n",
    "data_4.close\n",
    "print(data_4.files)"
   ]
  },
  {
   "cell_type": "code",
   "execution_count": 7,
   "metadata": {},
   "outputs": [
    {
     "name": "stdout",
     "output_type": "stream",
     "text": [
      "(878,)\n",
      "(878, 150528)\n"
     ]
    }
   ],
   "source": [
    "# Get size of each file\n",
    "print(data_1['arr_0'].shape)\n",
    "print(data_1['arr_1'].shape)"
   ]
  },
  {
   "cell_type": "code",
   "execution_count": 8,
   "metadata": {},
   "outputs": [
    {
     "name": "stdout",
     "output_type": "stream",
     "text": [
      "(893,)\n",
      "(893, 150528)\n"
     ]
    }
   ],
   "source": [
    "print(data_2['arr_0'].shape)\n",
    "print(data_2['arr_1'].shape)"
   ]
  },
  {
   "cell_type": "code",
   "execution_count": 9,
   "metadata": {},
   "outputs": [
    {
     "name": "stdout",
     "output_type": "stream",
     "text": [
      "(638,)\n",
      "(638, 150528)\n"
     ]
    }
   ],
   "source": [
    "print(data_3['arr_0'].shape)\n",
    "print(data_3['arr_1'].shape)"
   ]
  },
  {
   "cell_type": "code",
   "execution_count": 10,
   "metadata": {},
   "outputs": [
    {
     "name": "stdout",
     "output_type": "stream",
     "text": [
      "(1353,)\n",
      "(1353, 150528)\n"
     ]
    }
   ],
   "source": [
    "print(data_4['arr_0'].shape)\n",
    "print(data_4['arr_1'].shape)"
   ]
  },
  {
   "cell_type": "code",
   "execution_count": 11,
   "metadata": {},
   "outputs": [
    {
     "data": {
      "text/plain": [
       "(3762,)"
      ]
     },
     "execution_count": 11,
     "metadata": {},
     "output_type": "execute_result"
    }
   ],
   "source": [
    "# Concatenate image vectors from all files\n",
    "data_arr0_all = np.concatenate((data_1['arr_0'], data_2['arr_0'], data_3['arr_0'], data_4['arr_0']))\n",
    "data_arr0_all.shape"
   ]
  },
  {
   "cell_type": "code",
   "execution_count": 12,
   "metadata": {},
   "outputs": [
    {
     "data": {
      "text/plain": [
       "(3762, 150528)"
      ]
     },
     "execution_count": 12,
     "metadata": {},
     "output_type": "execute_result"
    }
   ],
   "source": [
    "data_arr1_all = np.concatenate((data_1['arr_1'], data_2['arr_1'], data_3['arr_1'], data_4['arr_1']))\n",
    "data_arr1_all.shape"
   ]
  },
  {
   "cell_type": "code",
   "execution_count": 13,
   "metadata": {},
   "outputs": [
    {
     "data": {
      "text/html": [
       "<div>\n",
       "<style scoped>\n",
       "    .dataframe tbody tr th:only-of-type {\n",
       "        vertical-align: middle;\n",
       "    }\n",
       "\n",
       "    .dataframe tbody tr th {\n",
       "        vertical-align: top;\n",
       "    }\n",
       "\n",
       "    .dataframe thead th {\n",
       "        text-align: right;\n",
       "    }\n",
       "</style>\n",
       "<table border=\"1\" class=\"dataframe\">\n",
       "  <thead>\n",
       "    <tr style=\"text-align: right;\">\n",
       "      <th></th>\n",
       "      <th>pixel_array</th>\n",
       "    </tr>\n",
       "    <tr>\n",
       "      <th>attachment_key</th>\n",
       "      <th></th>\n",
       "    </tr>\n",
       "  </thead>\n",
       "  <tbody>\n",
       "    <tr>\n",
       "      <td>ozbpir-9ey6js-ggdqwo</td>\n",
       "      <td>[-0.40760392, -0.45795685, -0.4850196, -0.4076...</td>\n",
       "    </tr>\n",
       "    <tr>\n",
       "      <td>378ykanq</td>\n",
       "      <td>[-0.18407452, -0.29325098, -0.46541175, -0.097...</td>\n",
       "    </tr>\n",
       "    <tr>\n",
       "      <td>p366md-big834-7o23k6</td>\n",
       "      <td>[0.5923961, 0.54204315, 0.51498044, 0.5923961,...</td>\n",
       "    </tr>\n",
       "    <tr>\n",
       "      <td>3zruwvl2</td>\n",
       "      <td>[-0.015447071, -0.26187843, -0.37913725, -0.01...</td>\n",
       "    </tr>\n",
       "    <tr>\n",
       "      <td>q18iae-3vnh74-79npmy</td>\n",
       "      <td>[-0.40760392, -0.45795685, -0.4850196, -0.4076...</td>\n",
       "    </tr>\n",
       "    <tr>\n",
       "      <td>...</td>\n",
       "      <td>...</td>\n",
       "    </tr>\n",
       "    <tr>\n",
       "      <td>pktyig-481wyg-6gyulf</td>\n",
       "      <td>[-0.3605451, -0.41089803, -0.38305882, -0.3644...</td>\n",
       "    </tr>\n",
       "    <tr>\n",
       "      <td>zu7y3rha</td>\n",
       "      <td>[-0.007603933, -0.05795686, -0.08501961, -0.00...</td>\n",
       "    </tr>\n",
       "    <tr>\n",
       "      <td>pxcwxf-8tnpyg-8vhb9r</td>\n",
       "      <td>[0.3022, 0.18125883, 0.12674509, 0.31004313, 0...</td>\n",
       "    </tr>\n",
       "    <tr>\n",
       "      <td>p4hakf-fsskmw-1224up</td>\n",
       "      <td>[-0.40368235, -0.45403528, -0.48109803, -0.387...</td>\n",
       "    </tr>\n",
       "    <tr>\n",
       "      <td>ptuhsk-22124o-f0sxoc</td>\n",
       "      <td>[0.43945488, 0.39302352, 0.3502745, 0.44729802...</td>\n",
       "    </tr>\n",
       "  </tbody>\n",
       "</table>\n",
       "<p>3759 rows × 1 columns</p>\n",
       "</div>"
      ],
      "text/plain": [
       "                                                            pixel_array\n",
       "attachment_key                                                         \n",
       "ozbpir-9ey6js-ggdqwo  [-0.40760392, -0.45795685, -0.4850196, -0.4076...\n",
       "378ykanq              [-0.18407452, -0.29325098, -0.46541175, -0.097...\n",
       "p366md-big834-7o23k6  [0.5923961, 0.54204315, 0.51498044, 0.5923961,...\n",
       "3zruwvl2              [-0.015447071, -0.26187843, -0.37913725, -0.01...\n",
       "q18iae-3vnh74-79npmy  [-0.40760392, -0.45795685, -0.4850196, -0.4076...\n",
       "...                                                                 ...\n",
       "pktyig-481wyg-6gyulf  [-0.3605451, -0.41089803, -0.38305882, -0.3644...\n",
       "zu7y3rha              [-0.007603933, -0.05795686, -0.08501961, -0.00...\n",
       "pxcwxf-8tnpyg-8vhb9r  [0.3022, 0.18125883, 0.12674509, 0.31004313, 0...\n",
       "p4hakf-fsskmw-1224up  [-0.40368235, -0.45403528, -0.48109803, -0.387...\n",
       "ptuhsk-22124o-f0sxoc  [0.43945488, 0.39302352, 0.3502745, 0.44729802...\n",
       "\n",
       "[3759 rows x 1 columns]"
      ]
     },
     "execution_count": 13,
     "metadata": {},
     "output_type": "execute_result"
    }
   ],
   "source": [
    "# Store pixel vectors as DF with attachment key\n",
    "\n",
    "# Create key value pairs with arr0 (attachment key) and standardized arr1 (pixel array)\n",
    "# Standardize pixel values between 0 and 1 by dividing by 255\n",
    "data_dict = {}\n",
    "for i in range(data_arr0_all.shape[0]):\n",
    "    data_dict[data_arr0_all[i]] = [data_arr1_all[i]/255]\n",
    "\n",
    "df_pixel = pd.DataFrame(data=data_dict)\n",
    "df_pixel_t = df_pixel.transpose()\n",
    "df_pixel_t.index.names = ['attachment_key']\n",
    "df_pixel_t.columns = ['pixel_array']\n",
    "df_pixel_t"
   ]
  },
  {
   "cell_type": "code",
   "execution_count": 14,
   "metadata": {},
   "outputs": [
    {
     "data": {
      "text/html": [
       "<div>\n",
       "<style scoped>\n",
       "    .dataframe tbody tr th:only-of-type {\n",
       "        vertical-align: middle;\n",
       "    }\n",
       "\n",
       "    .dataframe tbody tr th {\n",
       "        vertical-align: top;\n",
       "    }\n",
       "\n",
       "    .dataframe thead th {\n",
       "        text-align: right;\n",
       "    }\n",
       "</style>\n",
       "<table border=\"1\" class=\"dataframe\">\n",
       "  <thead>\n",
       "    <tr style=\"text-align: right;\">\n",
       "      <th></th>\n",
       "      <th>attachment_key</th>\n",
       "      <th>size_mb</th>\n",
       "      <th>height</th>\n",
       "      <th>width</th>\n",
       "      <th>h_to_w</th>\n",
       "      <th>filename</th>\n",
       "      <th>logo</th>\n",
       "    </tr>\n",
       "  </thead>\n",
       "  <tbody>\n",
       "    <tr>\n",
       "      <td>0</td>\n",
       "      <td>q36z0t-gf0ta0-91uq4d</td>\n",
       "      <td>5.256976</td>\n",
       "      <td>3351.0</td>\n",
       "      <td>2530.0</td>\n",
       "      <td>1.324506</td>\n",
       "      <td>WVC021819TH-5756.jpg</td>\n",
       "      <td>0</td>\n",
       "    </tr>\n",
       "    <tr>\n",
       "      <td>1</td>\n",
       "      <td>p0td2i-8fv5ew-2c7suq</td>\n",
       "      <td>0.688739</td>\n",
       "      <td>3420.0</td>\n",
       "      <td>1365.0</td>\n",
       "      <td>2.505495</td>\n",
       "      <td>Lastricato_CastelloDelTrebbio.jpg</td>\n",
       "      <td>0</td>\n",
       "    </tr>\n",
       "    <tr>\n",
       "      <td>2</td>\n",
       "      <td>q6p0vh-6wed5k-3c8m2s</td>\n",
       "      <td>11.636952</td>\n",
       "      <td>6240.0</td>\n",
       "      <td>4160.0</td>\n",
       "      <td>1.500000</td>\n",
       "      <td>WVC2Port2020-9684.jpg</td>\n",
       "      <td>0</td>\n",
       "    </tr>\n",
       "    <tr>\n",
       "      <td>3</td>\n",
       "      <td>pg1c3o-fqyk3c-72hr82</td>\n",
       "      <td>4.161787</td>\n",
       "      <td>3257.0</td>\n",
       "      <td>4885.0</td>\n",
       "      <td>0.666735</td>\n",
       "      <td>EB4A1971.jpg</td>\n",
       "      <td>0</td>\n",
       "    </tr>\n",
       "    <tr>\n",
       "      <td>4</td>\n",
       "      <td>q52mox-a2mcsg-4ir06w</td>\n",
       "      <td>4.081567</td>\n",
       "      <td>3738.0</td>\n",
       "      <td>5600.0</td>\n",
       "      <td>0.667500</td>\n",
       "      <td>934879096.jpg</td>\n",
       "      <td>0</td>\n",
       "    </tr>\n",
       "  </tbody>\n",
       "</table>\n",
       "</div>"
      ],
      "text/plain": [
       "         attachment_key    size_mb  height   width    h_to_w  \\\n",
       "0  q36z0t-gf0ta0-91uq4d   5.256976  3351.0  2530.0  1.324506   \n",
       "1  p0td2i-8fv5ew-2c7suq   0.688739  3420.0  1365.0  2.505495   \n",
       "2  q6p0vh-6wed5k-3c8m2s  11.636952  6240.0  4160.0  1.500000   \n",
       "3  pg1c3o-fqyk3c-72hr82   4.161787  3257.0  4885.0  0.666735   \n",
       "4  q52mox-a2mcsg-4ir06w   4.081567  3738.0  5600.0  0.667500   \n",
       "\n",
       "                            filename  logo  \n",
       "0               WVC021819TH-5756.jpg     0  \n",
       "1  Lastricato_CastelloDelTrebbio.jpg     0  \n",
       "2              WVC2Port2020-9684.jpg     0  \n",
       "3                       EB4A1971.jpg     0  \n",
       "4                      934879096.jpg     0  "
      ]
     },
     "execution_count": 14,
     "metadata": {},
     "output_type": "execute_result"
    }
   ],
   "source": [
    "# Load excel data\n",
    "df = pd.read_csv('school_project_data_set-query.csv')\n",
    "df.head()"
   ]
  },
  {
   "cell_type": "code",
   "execution_count": 15,
   "metadata": {},
   "outputs": [
    {
     "data": {
      "text/html": [
       "<div>\n",
       "<style scoped>\n",
       "    .dataframe tbody tr th:only-of-type {\n",
       "        vertical-align: middle;\n",
       "    }\n",
       "\n",
       "    .dataframe tbody tr th {\n",
       "        vertical-align: top;\n",
       "    }\n",
       "\n",
       "    .dataframe thead th {\n",
       "        text-align: right;\n",
       "    }\n",
       "</style>\n",
       "<table border=\"1\" class=\"dataframe\">\n",
       "  <thead>\n",
       "    <tr style=\"text-align: right;\">\n",
       "      <th></th>\n",
       "      <th>attachment_key</th>\n",
       "      <th>size_mb</th>\n",
       "      <th>height</th>\n",
       "      <th>width</th>\n",
       "      <th>h_to_w</th>\n",
       "      <th>filename</th>\n",
       "      <th>logo</th>\n",
       "      <th>pixel_array</th>\n",
       "    </tr>\n",
       "  </thead>\n",
       "  <tbody>\n",
       "    <tr>\n",
       "      <td>0</td>\n",
       "      <td>q4zhny-2mxzu8-fz6s49</td>\n",
       "      <td>2.423621</td>\n",
       "      <td>4500.0</td>\n",
       "      <td>4500.0</td>\n",
       "      <td>1.000000</td>\n",
       "      <td>Ska-HazyIPA-can-White.jpg</td>\n",
       "      <td>0</td>\n",
       "      <td>[0.5923961, 0.54204315, 0.51498044, 0.5923961,...</td>\n",
       "    </tr>\n",
       "    <tr>\n",
       "      <td>1</td>\n",
       "      <td>pgeoak-9l272o-5dah6f</td>\n",
       "      <td>0.014292</td>\n",
       "      <td>137.0</td>\n",
       "      <td>327.0</td>\n",
       "      <td>0.418960</td>\n",
       "      <td>Screen Shot 2018-10-10 at 7.07.12 PM.png</td>\n",
       "      <td>0</td>\n",
       "      <td>[0.5492588, 0.5224353, 0.49145097, 0.5492588, ...</td>\n",
       "    </tr>\n",
       "    <tr>\n",
       "      <td>2</td>\n",
       "      <td>pgeoak-9l272o-5dah6f</td>\n",
       "      <td>0.014292</td>\n",
       "      <td>137.0</td>\n",
       "      <td>327.0</td>\n",
       "      <td>0.418960</td>\n",
       "      <td>Screen Shot 2018-10-10 at 7.07.12 PM.png</td>\n",
       "      <td>1</td>\n",
       "      <td>[0.5492588, 0.5224353, 0.49145097, 0.5492588, ...</td>\n",
       "    </tr>\n",
       "    <tr>\n",
       "      <td>3</td>\n",
       "      <td>vd92yz5a</td>\n",
       "      <td>0.109244</td>\n",
       "      <td>716.0</td>\n",
       "      <td>1428.0</td>\n",
       "      <td>0.501401</td>\n",
       "      <td>a pha_logo.jpg</td>\n",
       "      <td>1</td>\n",
       "      <td>[0.5923961, 0.54204315, 0.51498044, 0.5923961,...</td>\n",
       "    </tr>\n",
       "    <tr>\n",
       "      <td>4</td>\n",
       "      <td>pu19n0-ajc888-actmf5</td>\n",
       "      <td>0.027520</td>\n",
       "      <td>1251.0</td>\n",
       "      <td>1250.0</td>\n",
       "      <td>1.000800</td>\n",
       "      <td>AXON - Icon Family - July 2019-03.png</td>\n",
       "      <td>1</td>\n",
       "      <td>[-0.40760392, -0.45795685, -0.4850196, -0.4076...</td>\n",
       "    </tr>\n",
       "    <tr>\n",
       "      <td>...</td>\n",
       "      <td>...</td>\n",
       "      <td>...</td>\n",
       "      <td>...</td>\n",
       "      <td>...</td>\n",
       "      <td>...</td>\n",
       "      <td>...</td>\n",
       "      <td>...</td>\n",
       "      <td>...</td>\n",
       "    </tr>\n",
       "    <tr>\n",
       "      <td>4422</td>\n",
       "      <td>px1yxs-mfwvk-az49zm</td>\n",
       "      <td>0.045961</td>\n",
       "      <td>333.0</td>\n",
       "      <td>500.0</td>\n",
       "      <td>0.666000</td>\n",
       "      <td>zoom_se_rts400_574634_a_15a.jpg</td>\n",
       "      <td>0</td>\n",
       "      <td>[0.36886665, 0.3694941, 0.39733332, 0.36886665...</td>\n",
       "    </tr>\n",
       "    <tr>\n",
       "      <td>4423</td>\n",
       "      <td>q6mxyb-ferzig-bai2df</td>\n",
       "      <td>0.220249</td>\n",
       "      <td>352.0</td>\n",
       "      <td>500.0</td>\n",
       "      <td>0.704000</td>\n",
       "      <td>zoom_se_etsec150_576329_sod_01b_US.jpg</td>\n",
       "      <td>0</td>\n",
       "      <td>[0.5923961, 0.54204315, 0.51498044, 0.5923961,...</td>\n",
       "    </tr>\n",
       "    <tr>\n",
       "      <td>4424</td>\n",
       "      <td>olffz6-6619ps-53fw6l</td>\n",
       "      <td>0.006069</td>\n",
       "      <td>162.0</td>\n",
       "      <td>500.0</td>\n",
       "      <td>0.324000</td>\n",
       "      <td>web-logo-run-gum-energy-gum.png</td>\n",
       "      <td>1</td>\n",
       "      <td>[-0.40760392, -0.45795685, -0.4850196, -0.4076...</td>\n",
       "    </tr>\n",
       "    <tr>\n",
       "      <td>4425</td>\n",
       "      <td>px1yxs-mfwvk-174b2s</td>\n",
       "      <td>0.071568</td>\n",
       "      <td>540.0</td>\n",
       "      <td>500.0</td>\n",
       "      <td>1.080000</td>\n",
       "      <td>zoom_fr_sys_498889_z_01a.jpg</td>\n",
       "      <td>0</td>\n",
       "      <td>[0.5923961, 0.54204315, 0.51498044, 0.5923961,...</td>\n",
       "    </tr>\n",
       "    <tr>\n",
       "      <td>4426</td>\n",
       "      <td>q6qjrl-fs5ej4-c6p902</td>\n",
       "      <td>0.073736</td>\n",
       "      <td>322.0</td>\n",
       "      <td>500.0</td>\n",
       "      <td>0.644000</td>\n",
       "      <td>zoom_se_dts400_576064_sod_01a.jpg</td>\n",
       "      <td>0</td>\n",
       "      <td>[0.5923961, 0.54204315, 0.51498044, 0.5923961,...</td>\n",
       "    </tr>\n",
       "  </tbody>\n",
       "</table>\n",
       "<p>4427 rows × 8 columns</p>\n",
       "</div>"
      ],
      "text/plain": [
       "            attachment_key   size_mb  height   width    h_to_w  \\\n",
       "0     q4zhny-2mxzu8-fz6s49  2.423621  4500.0  4500.0  1.000000   \n",
       "1     pgeoak-9l272o-5dah6f  0.014292   137.0   327.0  0.418960   \n",
       "2     pgeoak-9l272o-5dah6f  0.014292   137.0   327.0  0.418960   \n",
       "3                 vd92yz5a  0.109244   716.0  1428.0  0.501401   \n",
       "4     pu19n0-ajc888-actmf5  0.027520  1251.0  1250.0  1.000800   \n",
       "...                    ...       ...     ...     ...       ...   \n",
       "4422   px1yxs-mfwvk-az49zm  0.045961   333.0   500.0  0.666000   \n",
       "4423  q6mxyb-ferzig-bai2df  0.220249   352.0   500.0  0.704000   \n",
       "4424  olffz6-6619ps-53fw6l  0.006069   162.0   500.0  0.324000   \n",
       "4425   px1yxs-mfwvk-174b2s  0.071568   540.0   500.0  1.080000   \n",
       "4426  q6qjrl-fs5ej4-c6p902  0.073736   322.0   500.0  0.644000   \n",
       "\n",
       "                                      filename  logo  \\\n",
       "0                    Ska-HazyIPA-can-White.jpg     0   \n",
       "1     Screen Shot 2018-10-10 at 7.07.12 PM.png     0   \n",
       "2     Screen Shot 2018-10-10 at 7.07.12 PM.png     1   \n",
       "3                               a pha_logo.jpg     1   \n",
       "4        AXON - Icon Family - July 2019-03.png     1   \n",
       "...                                        ...   ...   \n",
       "4422           zoom_se_rts400_574634_a_15a.jpg     0   \n",
       "4423    zoom_se_etsec150_576329_sod_01b_US.jpg     0   \n",
       "4424           web-logo-run-gum-energy-gum.png     1   \n",
       "4425              zoom_fr_sys_498889_z_01a.jpg     0   \n",
       "4426         zoom_se_dts400_576064_sod_01a.jpg     0   \n",
       "\n",
       "                                            pixel_array  \n",
       "0     [0.5923961, 0.54204315, 0.51498044, 0.5923961,...  \n",
       "1     [0.5492588, 0.5224353, 0.49145097, 0.5492588, ...  \n",
       "2     [0.5492588, 0.5224353, 0.49145097, 0.5492588, ...  \n",
       "3     [0.5923961, 0.54204315, 0.51498044, 0.5923961,...  \n",
       "4     [-0.40760392, -0.45795685, -0.4850196, -0.4076...  \n",
       "...                                                 ...  \n",
       "4422  [0.36886665, 0.3694941, 0.39733332, 0.36886665...  \n",
       "4423  [0.5923961, 0.54204315, 0.51498044, 0.5923961,...  \n",
       "4424  [-0.40760392, -0.45795685, -0.4850196, -0.4076...  \n",
       "4425  [0.5923961, 0.54204315, 0.51498044, 0.5923961,...  \n",
       "4426  [0.5923961, 0.54204315, 0.51498044, 0.5923961,...  \n",
       "\n",
       "[4427 rows x 8 columns]"
      ]
     },
     "execution_count": 15,
     "metadata": {},
     "output_type": "execute_result"
    }
   ],
   "source": [
    "# Merge dataframes by attachment key\n",
    "df.merge(df_pixel_t, on='attachment_key')"
   ]
  },
  {
   "cell_type": "code",
   "execution_count": null,
   "metadata": {},
   "outputs": [],
   "source": [
    "# STILL WORKING\n",
    "# Split into train and test data\n",
    "# Development data?\n",
    "X_train, X_test, y_train, y_test = train_test_split(X, y, test_size=0.4,\n",
    "                                                    random_state=1, stratify=y)"
   ]
  },
  {
   "cell_type": "code",
   "execution_count": null,
   "metadata": {},
   "outputs": [],
   "source": [
    "# Standardize"
   ]
  }
 ],
 "metadata": {
  "kernelspec": {
   "display_name": "Python 3",
   "language": "python",
   "name": "python3"
  },
  "language_info": {
   "codemirror_mode": {
    "name": "ipython",
    "version": 3
   },
   "file_extension": ".py",
   "mimetype": "text/x-python",
   "name": "python",
   "nbconvert_exporter": "python",
   "pygments_lexer": "ipython3",
   "version": "3.7.4"
  }
 },
 "nbformat": 4,
 "nbformat_minor": 2
}
