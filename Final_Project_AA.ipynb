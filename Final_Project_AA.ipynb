{
 "cells": [
  {
   "cell_type": "code",
   "execution_count": 2,
   "metadata": {},
   "outputs": [],
   "source": [
    "# Import libraries\n",
    "import pandas as pd\n",
    "import numpy as np\n",
    "import matplotlib.pyplot as plt\n",
    "import os\n",
    "import time\n",
    "\n",
    "from sklearn.model_selection import train_test_split\n",
    "from sklearn.preprocessing import StandardScaler\n",
    "from sklearn.neighbors import KNeighborsClassifier\n",
    "from sklearn.linear_model import LogisticRegression\n",
    "from sklearn.decomposition import PCA\n"
   ]
  },
  {
   "cell_type": "code",
   "execution_count": 4,
   "metadata": {},
   "outputs": [],
   "source": [
    "# Set working directory\n",
    "os.chdir('/Users/alyssaaugsburger/Documents/Berkeley_MIDS/W207/Final_Project')"
   ]
  },
  {
   "cell_type": "code",
   "execution_count": 5,
   "metadata": {},
   "outputs": [
    {
     "data": {
      "text/plain": [
       "['arr_0', 'arr_1']"
      ]
     },
     "execution_count": 5,
     "metadata": {},
     "output_type": "execute_result"
    }
   ],
   "source": [
    "# Load first npz file as an example and get files\n",
    "data_1 = np.load('et_w207_project_npz_files_5000_tmp_tmp5ocrhjnn.npz')\n",
    "data_1.close\n",
    "data_1.files"
   ]
  },
  {
   "cell_type": "code",
   "execution_count": 4,
   "metadata": {},
   "outputs": [
    {
     "data": {
      "text/plain": [
       "array(['ozbpir-9ey6js-ggdqwo', '378ykanq', 'p366md-big834-7o23k6',\n",
       "       '3zruwvl2', 'q18iae-3vnh74-79npmy'], dtype='<U20')"
      ]
     },
     "execution_count": 4,
     "metadata": {},
     "output_type": "execute_result"
    }
   ],
   "source": [
    "# Show file arr_0 example\n",
    "data_1['arr_0'][:5]"
   ]
  },
  {
   "cell_type": "code",
   "execution_count": 5,
   "metadata": {},
   "outputs": [
    {
     "data": {
      "text/plain": [
       "array([[-103.939   , -116.779   , -123.68    , ..., -103.939   ,\n",
       "        -116.779   , -123.68    ],\n",
       "       [ -46.939003,  -74.779   , -118.68    , ...,  -57.939003,\n",
       "         -84.779   , -118.68    ],\n",
       "       [ 151.061   ,  138.22101 ,  131.32    , ...,  151.061   ,\n",
       "         138.22101 ,  131.32    ],\n",
       "       [  -3.939003,  -66.779   ,  -96.68    , ...,   -3.939003,\n",
       "         -66.779   ,  -96.68    ],\n",
       "       [-103.939   , -116.779   , -123.68    , ..., -103.939   ,\n",
       "        -116.779   , -123.68    ]], dtype=float32)"
      ]
     },
     "execution_count": 5,
     "metadata": {},
     "output_type": "execute_result"
    }
   ],
   "source": [
    "# Show file arr_1 example\n",
    "data_1['arr_1'][:5]"
   ]
  },
  {
   "cell_type": "code",
   "execution_count": 6,
   "metadata": {},
   "outputs": [
    {
     "name": "stdout",
     "output_type": "stream",
     "text": [
      "['arr_0', 'arr_1']\n",
      "['arr_0', 'arr_1']\n",
      "['arr_0', 'arr_1']\n"
     ]
    }
   ],
   "source": [
    "# Load all data files\n",
    "data_2 = np.load('et_w207_project_npz_files_5000_tmp_tmp092sag67.npz')\n",
    "data_2.close\n",
    "print(data_2.files)\n",
    "\n",
    "data_3 = np.load('et_w207_project_npz_files_5000_tmp_tmpf31_pn8p.npz')\n",
    "data_3.close\n",
    "print(data_3.files)\n",
    "\n",
    "data_4 = np.load('et_w207_project_npz_files_5000_tmp_tmpq5b2g4n2.npz')\n",
    "data_4.close\n",
    "print(data_4.files)"
   ]
  },
  {
   "cell_type": "code",
   "execution_count": 7,
   "metadata": {},
   "outputs": [
    {
     "name": "stdout",
     "output_type": "stream",
     "text": [
      "(878,)\n",
      "(878, 150528)\n"
     ]
    }
   ],
   "source": [
    "# Get size of each file\n",
    "print(data_1['arr_0'].shape)\n",
    "print(data_1['arr_1'].shape)"
   ]
  },
  {
   "cell_type": "code",
   "execution_count": 8,
   "metadata": {},
   "outputs": [
    {
     "name": "stdout",
     "output_type": "stream",
     "text": [
      "(893,)\n",
      "(893, 150528)\n"
     ]
    }
   ],
   "source": [
    "print(data_2['arr_0'].shape)\n",
    "print(data_2['arr_1'].shape)"
   ]
  },
  {
   "cell_type": "code",
   "execution_count": 9,
   "metadata": {},
   "outputs": [
    {
     "name": "stdout",
     "output_type": "stream",
     "text": [
      "(638,)\n",
      "(638, 150528)\n"
     ]
    }
   ],
   "source": [
    "print(data_3['arr_0'].shape)\n",
    "print(data_3['arr_1'].shape)"
   ]
  },
  {
   "cell_type": "code",
   "execution_count": 10,
   "metadata": {},
   "outputs": [
    {
     "name": "stdout",
     "output_type": "stream",
     "text": [
      "(1353,)\n",
      "(1353, 150528)\n"
     ]
    }
   ],
   "source": [
    "print(data_4['arr_0'].shape)\n",
    "print(data_4['arr_1'].shape)"
   ]
  },
  {
   "cell_type": "code",
   "execution_count": 7,
   "metadata": {},
   "outputs": [
    {
     "data": {
      "text/plain": [
       "(3762,)"
      ]
     },
     "execution_count": 7,
     "metadata": {},
     "output_type": "execute_result"
    }
   ],
   "source": [
    "# Concatenate image vectors from all files\n",
    "data_arr0_all = np.concatenate((data_1['arr_0'], data_2['arr_0'], data_3['arr_0'], data_4['arr_0']))\n",
    "data_arr0_all.shape"
   ]
  },
  {
   "cell_type": "code",
   "execution_count": 8,
   "metadata": {},
   "outputs": [
    {
     "data": {
      "text/plain": [
       "(3762, 150528)"
      ]
     },
     "execution_count": 8,
     "metadata": {},
     "output_type": "execute_result"
    }
   ],
   "source": [
    "data_arr1_all = np.concatenate((data_1['arr_1'], data_2['arr_1'], data_3['arr_1'], data_4['arr_1']))\n",
    "data_arr1_all.shape"
   ]
  },
  {
   "cell_type": "code",
   "execution_count": 9,
   "metadata": {},
   "outputs": [
    {
     "data": {
      "text/html": [
       "<div>\n",
       "<style scoped>\n",
       "    .dataframe tbody tr th:only-of-type {\n",
       "        vertical-align: middle;\n",
       "    }\n",
       "\n",
       "    .dataframe tbody tr th {\n",
       "        vertical-align: top;\n",
       "    }\n",
       "\n",
       "    .dataframe thead th {\n",
       "        text-align: right;\n",
       "    }\n",
       "</style>\n",
       "<table border=\"1\" class=\"dataframe\">\n",
       "  <thead>\n",
       "    <tr style=\"text-align: right;\">\n",
       "      <th></th>\n",
       "      <th>pixel_array</th>\n",
       "    </tr>\n",
       "    <tr>\n",
       "      <th>attachment_key</th>\n",
       "      <th></th>\n",
       "    </tr>\n",
       "  </thead>\n",
       "  <tbody>\n",
       "    <tr>\n",
       "      <th>ozbpir-9ey6js-ggdqwo</th>\n",
       "      <td>[-0.40760392, -0.45795685, -0.4850196, -0.4076...</td>\n",
       "    </tr>\n",
       "    <tr>\n",
       "      <th>378ykanq</th>\n",
       "      <td>[-0.18407452, -0.29325098, -0.46541175, -0.097...</td>\n",
       "    </tr>\n",
       "    <tr>\n",
       "      <th>p366md-big834-7o23k6</th>\n",
       "      <td>[0.5923961, 0.54204315, 0.51498044, 0.5923961,...</td>\n",
       "    </tr>\n",
       "    <tr>\n",
       "      <th>3zruwvl2</th>\n",
       "      <td>[-0.015447071, -0.26187843, -0.37913725, -0.01...</td>\n",
       "    </tr>\n",
       "    <tr>\n",
       "      <th>q18iae-3vnh74-79npmy</th>\n",
       "      <td>[-0.40760392, -0.45795685, -0.4850196, -0.4076...</td>\n",
       "    </tr>\n",
       "    <tr>\n",
       "      <th>q0nyct-7525ow-3ur3ii</th>\n",
       "      <td>[0.5767098, 0.5263569, 0.4992941, 0.49043527, ...</td>\n",
       "    </tr>\n",
       "    <tr>\n",
       "      <th>7d8atetr</th>\n",
       "      <td>[0.5923961, 0.54204315, 0.51498044, 0.5923961,...</td>\n",
       "    </tr>\n",
       "    <tr>\n",
       "      <th>ppfy71-bfbnm8-emjouu</th>\n",
       "      <td>[0.5923961, 0.54204315, 0.51498044, 0.5923961,...</td>\n",
       "    </tr>\n",
       "    <tr>\n",
       "      <th>pe7vgl-2vda1s-fo18uc</th>\n",
       "      <td>[-0.40760392, -0.45795685, -0.4850196, -0.4076...</td>\n",
       "    </tr>\n",
       "    <tr>\n",
       "      <th>q7clmn-75pmlk-9pzb8r</th>\n",
       "      <td>[0.5923961, 0.54204315, 0.51498044, 0.5923961,...</td>\n",
       "    </tr>\n",
       "    <tr>\n",
       "      <th>pg3h39-bkfxvk-4590hb</th>\n",
       "      <td>[-0.40760392, -0.45795685, -0.4850196, -0.4076...</td>\n",
       "    </tr>\n",
       "    <tr>\n",
       "      <th>q5zhat-7f21pk-6kl4a5</th>\n",
       "      <td>[0.5923961, 0.54204315, 0.51498044, 0.5923961,...</td>\n",
       "    </tr>\n",
       "    <tr>\n",
       "      <th>po9jry-6wmt60-68re5m</th>\n",
       "      <td>[0.5923961, 0.54204315, 0.51498044, 0.5923961,...</td>\n",
       "    </tr>\n",
       "    <tr>\n",
       "      <th>pmflna-8ns1l4-atzjfo</th>\n",
       "      <td>[-0.40760392, -0.45795685, -0.4850196, -0.3997...</td>\n",
       "    </tr>\n",
       "    <tr>\n",
       "      <th>m4wjtm9c</th>\n",
       "      <td>[-0.40760392, -0.45795685, -0.4850196, -0.4076...</td>\n",
       "    </tr>\n",
       "    <tr>\n",
       "      <th>1jcg85ni</th>\n",
       "      <td>[0.5923961, 0.54204315, 0.51498044, 0.5923961,...</td>\n",
       "    </tr>\n",
       "    <tr>\n",
       "      <th>omkgpf-7804i8-5561t</th>\n",
       "      <td>[0.5923961, 0.54204315, 0.51498044, 0.5923961,...</td>\n",
       "    </tr>\n",
       "    <tr>\n",
       "      <th>q551vb-2var00-146pif</th>\n",
       "      <td>[-0.109564714, -0.018741174, -0.20658824, -0.1...</td>\n",
       "    </tr>\n",
       "    <tr>\n",
       "      <th>q1bvkt-9wjbrc-eboqr1</th>\n",
       "      <td>[-0.40368235, -0.45403528, -0.48109803, -0.407...</td>\n",
       "    </tr>\n",
       "    <tr>\n",
       "      <th>o1onon-e3vn3v-ca2w05</th>\n",
       "      <td>[-0.40760392, -0.45795685, -0.4850196, -0.4076...</td>\n",
       "    </tr>\n",
       "    <tr>\n",
       "      <th>t14z9el3</th>\n",
       "      <td>[-0.25074118, 0.0596902, 0.47968626, -0.250741...</td>\n",
       "    </tr>\n",
       "    <tr>\n",
       "      <th>pyiatn-4ga8e8-6qbmu8</th>\n",
       "      <td>[0.5923961, 0.54204315, 0.51498044, 0.5923961,...</td>\n",
       "    </tr>\n",
       "    <tr>\n",
       "      <th>9w5zo630</th>\n",
       "      <td>[-0.3370157, -0.38736862, -0.43796077, -0.3566...</td>\n",
       "    </tr>\n",
       "    <tr>\n",
       "      <th>pszyej-a539eo-5b2ezu</th>\n",
       "      <td>[-0.109564714, -0.018741174, -0.20658824, -0.1...</td>\n",
       "    </tr>\n",
       "    <tr>\n",
       "      <th>vw76hk0c</th>\n",
       "      <td>[-0.16838825, -0.26187843, -0.36345097, -0.168...</td>\n",
       "    </tr>\n",
       "    <tr>\n",
       "      <th>q7chtr-84ykp4-1dsiyc</th>\n",
       "      <td>[-0.40760392, -0.45795685, -0.4850196, -0.4076...</td>\n",
       "    </tr>\n",
       "    <tr>\n",
       "      <th>jqk6e2rc</th>\n",
       "      <td>[0.34533724, 0.2949843, 0.26792157, 0.3492588,...</td>\n",
       "    </tr>\n",
       "    <tr>\n",
       "      <th>o4m9wj-b0xs3k-eae43a</th>\n",
       "      <td>[0.4865137, 0.18125883, -0.4850196, 0.4865137,...</td>\n",
       "    </tr>\n",
       "    <tr>\n",
       "      <th>o7szie-bow9hc-65kkfx</th>\n",
       "      <td>[0.5923961, 0.54204315, 0.51498044, 0.5923961,...</td>\n",
       "    </tr>\n",
       "    <tr>\n",
       "      <th>omwu73-4c7zqg-9sv9vj</th>\n",
       "      <td>[-0.109564714, -0.018741174, -0.20658824, -0.1...</td>\n",
       "    </tr>\n",
       "    <tr>\n",
       "      <th>...</th>\n",
       "      <td>...</td>\n",
       "    </tr>\n",
       "    <tr>\n",
       "      <th>ovhpi4-a7tt8w-2ltb0o</th>\n",
       "      <td>[0.44729802, 0.3969451, 0.36988235, 0.45514116...</td>\n",
       "    </tr>\n",
       "    <tr>\n",
       "      <th>px1yxs-mfwvk-63aqid</th>\n",
       "      <td>[0.5923961, 0.54204315, 0.51498044, 0.5923961,...</td>\n",
       "    </tr>\n",
       "    <tr>\n",
       "      <th>p5afdq-cc4ze8-836mb6</th>\n",
       "      <td>[0.01200391, 0.15772942, 0.20909804, 0.0159254...</td>\n",
       "    </tr>\n",
       "    <tr>\n",
       "      <th>q4xrnp-d63cds-60glxq</th>\n",
       "      <td>[-0.14093727, -0.2030549, -0.17129412, -0.1095...</td>\n",
       "    </tr>\n",
       "    <tr>\n",
       "      <th>q6mxry-am0nog-9nhgpm</th>\n",
       "      <td>[0.43945488, 0.34204313, 0.2992941, 0.4237686,...</td>\n",
       "    </tr>\n",
       "    <tr>\n",
       "      <th>pql00h-euq5eg-br2xgt</th>\n",
       "      <td>[0.18455292, 0.23616078, 0.23654902, 0.0394548...</td>\n",
       "    </tr>\n",
       "    <tr>\n",
       "      <th>p49094-4wt3io-geeffz</th>\n",
       "      <td>[-0.40760392, -0.4501137, -0.4732549, -0.40760...</td>\n",
       "    </tr>\n",
       "    <tr>\n",
       "      <th>ptemr3-a6rok8-fla8zb</th>\n",
       "      <td>[0.5923961, 0.54204315, 0.51498044, 0.5923961,...</td>\n",
       "    </tr>\n",
       "    <tr>\n",
       "      <th>ovinll-dwz0sw-2efrzl</th>\n",
       "      <td>[0.3139647, 0.13812158, 0.06007843, 0.28651372...</td>\n",
       "    </tr>\n",
       "    <tr>\n",
       "      <th>pjdunt-c9s8gw-7dnupd</th>\n",
       "      <td>[0.39239606, 0.3694941, 0.35419607, 0.39631763...</td>\n",
       "    </tr>\n",
       "    <tr>\n",
       "      <th>ps13ow-fqxxps-68c6m8</th>\n",
       "      <td>[0.29435685, 0.24792549, 0.21301961, 0.2943568...</td>\n",
       "    </tr>\n",
       "    <tr>\n",
       "      <th>pjj4yy-e3zf80-640x1e</th>\n",
       "      <td>[0.43553331, 0.37341568, 0.3267451, 0.4512196,...</td>\n",
       "    </tr>\n",
       "    <tr>\n",
       "      <th>pvvr00-8mi6co-g62c6w</th>\n",
       "      <td>[0.5923961, 0.54204315, 0.51498044, 0.5923961,...</td>\n",
       "    </tr>\n",
       "    <tr>\n",
       "      <th>ppammb-9mor3k-5w0wcy</th>\n",
       "      <td>[0.5923961, 0.54204315, 0.51498044, 0.5923961,...</td>\n",
       "    </tr>\n",
       "    <tr>\n",
       "      <th>pfdh01-784pmo-91z5mq</th>\n",
       "      <td>[0.5923961, 0.54204315, 0.51498044, 0.5923961,...</td>\n",
       "    </tr>\n",
       "    <tr>\n",
       "      <th>q5b0s1-3ccvso-3xkf5i</th>\n",
       "      <td>[0.15710194, 0.13027844, 0.13066666, 0.1571019...</td>\n",
       "    </tr>\n",
       "    <tr>\n",
       "      <th>pv22xl-7vcpb4-2flusi</th>\n",
       "      <td>[0.5923961, 0.54204315, 0.51498044, 0.5923961,...</td>\n",
       "    </tr>\n",
       "    <tr>\n",
       "      <th>ptuldm-aqhru0-45k77z</th>\n",
       "      <td>[0.3257294, 0.13812158, -0.061490197, 0.325729...</td>\n",
       "    </tr>\n",
       "    <tr>\n",
       "      <th>oc8hwr-dyyoa0-3ncqb6</th>\n",
       "      <td>[0.40808234, 0.33812156, 0.3149804, 0.40808234...</td>\n",
       "    </tr>\n",
       "    <tr>\n",
       "      <th>pl6jsh-do6660-9tegk9</th>\n",
       "      <td>[0.5884745, 0.5381216, 0.51105887, 0.5884745, ...</td>\n",
       "    </tr>\n",
       "    <tr>\n",
       "      <th>omgflv-9dkzps-cftrg1</th>\n",
       "      <td>[0.23553333, 0.122435294, 0.048313726, 0.17278...</td>\n",
       "    </tr>\n",
       "    <tr>\n",
       "      <th>p2o47v-4a7ixs-3w2j1i</th>\n",
       "      <td>[0.5923961, 0.54204315, 0.51498044, 0.5923961,...</td>\n",
       "    </tr>\n",
       "    <tr>\n",
       "      <th>q6mxry-am0nog-3jddtr</th>\n",
       "      <td>[-0.40760392, -0.45795685, -0.4850196, -0.4076...</td>\n",
       "    </tr>\n",
       "    <tr>\n",
       "      <th>py33gr-28wj2w-c84esu</th>\n",
       "      <td>[0.5923961, 0.54204315, 0.51498044, 0.5923961,...</td>\n",
       "    </tr>\n",
       "    <tr>\n",
       "      <th>o2ntbw-133k9y-8gjo0t</th>\n",
       "      <td>[0.27082744, 0.25576863, 0.30713725, 0.274749,...</td>\n",
       "    </tr>\n",
       "    <tr>\n",
       "      <th>pktyig-481wyg-6gyulf</th>\n",
       "      <td>[-0.3605451, -0.41089803, -0.38305882, -0.3644...</td>\n",
       "    </tr>\n",
       "    <tr>\n",
       "      <th>zu7y3rha</th>\n",
       "      <td>[-0.007603933, -0.05795686, -0.08501961, -0.00...</td>\n",
       "    </tr>\n",
       "    <tr>\n",
       "      <th>pxcwxf-8tnpyg-8vhb9r</th>\n",
       "      <td>[0.3022, 0.18125883, 0.12674509, 0.31004313, 0...</td>\n",
       "    </tr>\n",
       "    <tr>\n",
       "      <th>p4hakf-fsskmw-1224up</th>\n",
       "      <td>[-0.40368235, -0.45403528, -0.48109803, -0.387...</td>\n",
       "    </tr>\n",
       "    <tr>\n",
       "      <th>ptuhsk-22124o-f0sxoc</th>\n",
       "      <td>[0.43945488, 0.39302352, 0.3502745, 0.44729802...</td>\n",
       "    </tr>\n",
       "  </tbody>\n",
       "</table>\n",
       "<p>3759 rows × 1 columns</p>\n",
       "</div>"
      ],
      "text/plain": [
       "                                                            pixel_array\n",
       "attachment_key                                                         \n",
       "ozbpir-9ey6js-ggdqwo  [-0.40760392, -0.45795685, -0.4850196, -0.4076...\n",
       "378ykanq              [-0.18407452, -0.29325098, -0.46541175, -0.097...\n",
       "p366md-big834-7o23k6  [0.5923961, 0.54204315, 0.51498044, 0.5923961,...\n",
       "3zruwvl2              [-0.015447071, -0.26187843, -0.37913725, -0.01...\n",
       "q18iae-3vnh74-79npmy  [-0.40760392, -0.45795685, -0.4850196, -0.4076...\n",
       "q0nyct-7525ow-3ur3ii  [0.5767098, 0.5263569, 0.4992941, 0.49043527, ...\n",
       "7d8atetr              [0.5923961, 0.54204315, 0.51498044, 0.5923961,...\n",
       "ppfy71-bfbnm8-emjouu  [0.5923961, 0.54204315, 0.51498044, 0.5923961,...\n",
       "pe7vgl-2vda1s-fo18uc  [-0.40760392, -0.45795685, -0.4850196, -0.4076...\n",
       "q7clmn-75pmlk-9pzb8r  [0.5923961, 0.54204315, 0.51498044, 0.5923961,...\n",
       "pg3h39-bkfxvk-4590hb  [-0.40760392, -0.45795685, -0.4850196, -0.4076...\n",
       "q5zhat-7f21pk-6kl4a5  [0.5923961, 0.54204315, 0.51498044, 0.5923961,...\n",
       "po9jry-6wmt60-68re5m  [0.5923961, 0.54204315, 0.51498044, 0.5923961,...\n",
       "pmflna-8ns1l4-atzjfo  [-0.40760392, -0.45795685, -0.4850196, -0.3997...\n",
       "m4wjtm9c              [-0.40760392, -0.45795685, -0.4850196, -0.4076...\n",
       "1jcg85ni              [0.5923961, 0.54204315, 0.51498044, 0.5923961,...\n",
       "omkgpf-7804i8-5561t   [0.5923961, 0.54204315, 0.51498044, 0.5923961,...\n",
       "q551vb-2var00-146pif  [-0.109564714, -0.018741174, -0.20658824, -0.1...\n",
       "q1bvkt-9wjbrc-eboqr1  [-0.40368235, -0.45403528, -0.48109803, -0.407...\n",
       "o1onon-e3vn3v-ca2w05  [-0.40760392, -0.45795685, -0.4850196, -0.4076...\n",
       "t14z9el3              [-0.25074118, 0.0596902, 0.47968626, -0.250741...\n",
       "pyiatn-4ga8e8-6qbmu8  [0.5923961, 0.54204315, 0.51498044, 0.5923961,...\n",
       "9w5zo630              [-0.3370157, -0.38736862, -0.43796077, -0.3566...\n",
       "pszyej-a539eo-5b2ezu  [-0.109564714, -0.018741174, -0.20658824, -0.1...\n",
       "vw76hk0c              [-0.16838825, -0.26187843, -0.36345097, -0.168...\n",
       "q7chtr-84ykp4-1dsiyc  [-0.40760392, -0.45795685, -0.4850196, -0.4076...\n",
       "jqk6e2rc              [0.34533724, 0.2949843, 0.26792157, 0.3492588,...\n",
       "o4m9wj-b0xs3k-eae43a  [0.4865137, 0.18125883, -0.4850196, 0.4865137,...\n",
       "o7szie-bow9hc-65kkfx  [0.5923961, 0.54204315, 0.51498044, 0.5923961,...\n",
       "omwu73-4c7zqg-9sv9vj  [-0.109564714, -0.018741174, -0.20658824, -0.1...\n",
       "...                                                                 ...\n",
       "ovhpi4-a7tt8w-2ltb0o  [0.44729802, 0.3969451, 0.36988235, 0.45514116...\n",
       "px1yxs-mfwvk-63aqid   [0.5923961, 0.54204315, 0.51498044, 0.5923961,...\n",
       "p5afdq-cc4ze8-836mb6  [0.01200391, 0.15772942, 0.20909804, 0.0159254...\n",
       "q4xrnp-d63cds-60glxq  [-0.14093727, -0.2030549, -0.17129412, -0.1095...\n",
       "q6mxry-am0nog-9nhgpm  [0.43945488, 0.34204313, 0.2992941, 0.4237686,...\n",
       "pql00h-euq5eg-br2xgt  [0.18455292, 0.23616078, 0.23654902, 0.0394548...\n",
       "p49094-4wt3io-geeffz  [-0.40760392, -0.4501137, -0.4732549, -0.40760...\n",
       "ptemr3-a6rok8-fla8zb  [0.5923961, 0.54204315, 0.51498044, 0.5923961,...\n",
       "ovinll-dwz0sw-2efrzl  [0.3139647, 0.13812158, 0.06007843, 0.28651372...\n",
       "pjdunt-c9s8gw-7dnupd  [0.39239606, 0.3694941, 0.35419607, 0.39631763...\n",
       "ps13ow-fqxxps-68c6m8  [0.29435685, 0.24792549, 0.21301961, 0.2943568...\n",
       "pjj4yy-e3zf80-640x1e  [0.43553331, 0.37341568, 0.3267451, 0.4512196,...\n",
       "pvvr00-8mi6co-g62c6w  [0.5923961, 0.54204315, 0.51498044, 0.5923961,...\n",
       "ppammb-9mor3k-5w0wcy  [0.5923961, 0.54204315, 0.51498044, 0.5923961,...\n",
       "pfdh01-784pmo-91z5mq  [0.5923961, 0.54204315, 0.51498044, 0.5923961,...\n",
       "q5b0s1-3ccvso-3xkf5i  [0.15710194, 0.13027844, 0.13066666, 0.1571019...\n",
       "pv22xl-7vcpb4-2flusi  [0.5923961, 0.54204315, 0.51498044, 0.5923961,...\n",
       "ptuldm-aqhru0-45k77z  [0.3257294, 0.13812158, -0.061490197, 0.325729...\n",
       "oc8hwr-dyyoa0-3ncqb6  [0.40808234, 0.33812156, 0.3149804, 0.40808234...\n",
       "pl6jsh-do6660-9tegk9  [0.5884745, 0.5381216, 0.51105887, 0.5884745, ...\n",
       "omgflv-9dkzps-cftrg1  [0.23553333, 0.122435294, 0.048313726, 0.17278...\n",
       "p2o47v-4a7ixs-3w2j1i  [0.5923961, 0.54204315, 0.51498044, 0.5923961,...\n",
       "q6mxry-am0nog-3jddtr  [-0.40760392, -0.45795685, -0.4850196, -0.4076...\n",
       "py33gr-28wj2w-c84esu  [0.5923961, 0.54204315, 0.51498044, 0.5923961,...\n",
       "o2ntbw-133k9y-8gjo0t  [0.27082744, 0.25576863, 0.30713725, 0.274749,...\n",
       "pktyig-481wyg-6gyulf  [-0.3605451, -0.41089803, -0.38305882, -0.3644...\n",
       "zu7y3rha              [-0.007603933, -0.05795686, -0.08501961, -0.00...\n",
       "pxcwxf-8tnpyg-8vhb9r  [0.3022, 0.18125883, 0.12674509, 0.31004313, 0...\n",
       "p4hakf-fsskmw-1224up  [-0.40368235, -0.45403528, -0.48109803, -0.387...\n",
       "ptuhsk-22124o-f0sxoc  [0.43945488, 0.39302352, 0.3502745, 0.44729802...\n",
       "\n",
       "[3759 rows x 1 columns]"
      ]
     },
     "execution_count": 9,
     "metadata": {},
     "output_type": "execute_result"
    }
   ],
   "source": [
    "# Store pixel vectors as DF with attachment key\n",
    "\n",
    "# Create key value pairs with arr0 (attachment key) and standardized arr1 (pixel array)\n",
    "# Standardize pixel values between 0 and 1 by dividing by 255\n",
    "data_dict = {}\n",
    "for i in range(data_arr0_all.shape[0]):\n",
    "    data_dict[data_arr0_all[i]] = [data_arr1_all[i]/255]\n",
    "\n",
    "df_pixel = pd.DataFrame(data=data_dict)\n",
    "df_pixel_t = df_pixel.transpose()\n",
    "df_pixel_t.index.names = ['attachment_key']\n",
    "df_pixel_t.columns = ['pixel_array']\n",
    "df_pixel_t"
   ]
  },
  {
   "cell_type": "code",
   "execution_count": 10,
   "metadata": {},
   "outputs": [
    {
     "data": {
      "text/html": [
       "<div>\n",
       "<style scoped>\n",
       "    .dataframe tbody tr th:only-of-type {\n",
       "        vertical-align: middle;\n",
       "    }\n",
       "\n",
       "    .dataframe tbody tr th {\n",
       "        vertical-align: top;\n",
       "    }\n",
       "\n",
       "    .dataframe thead th {\n",
       "        text-align: right;\n",
       "    }\n",
       "</style>\n",
       "<table border=\"1\" class=\"dataframe\">\n",
       "  <thead>\n",
       "    <tr style=\"text-align: right;\">\n",
       "      <th></th>\n",
       "      <th>attachment_key</th>\n",
       "      <th>size_mb</th>\n",
       "      <th>height</th>\n",
       "      <th>width</th>\n",
       "      <th>h_to_w</th>\n",
       "      <th>filename</th>\n",
       "      <th>logo</th>\n",
       "    </tr>\n",
       "  </thead>\n",
       "  <tbody>\n",
       "    <tr>\n",
       "      <th>0</th>\n",
       "      <td>001lq61k</td>\n",
       "      <td>0.122520</td>\n",
       "      <td>514.0</td>\n",
       "      <td>720.0</td>\n",
       "      <td>0.713889</td>\n",
       "      <td>campus ministry on the beach.jpg</td>\n",
       "      <td>0</td>\n",
       "    </tr>\n",
       "    <tr>\n",
       "      <th>1</th>\n",
       "      <td>002dlirq</td>\n",
       "      <td>3.256944</td>\n",
       "      <td>4072.0</td>\n",
       "      <td>3868.0</td>\n",
       "      <td>1.052741</td>\n",
       "      <td>BIG ALS FISH FLASH UV VP PL.jpg</td>\n",
       "      <td>0</td>\n",
       "    </tr>\n",
       "    <tr>\n",
       "      <th>2</th>\n",
       "      <td>003qefgm</td>\n",
       "      <td>0.002522</td>\n",
       "      <td>80.0</td>\n",
       "      <td>200.0</td>\n",
       "      <td>0.400000</td>\n",
       "      <td>netix_email_studio.png</td>\n",
       "      <td>1</td>\n",
       "    </tr>\n",
       "    <tr>\n",
       "      <th>3</th>\n",
       "      <td>0083okjl</td>\n",
       "      <td>0.116802</td>\n",
       "      <td>600.0</td>\n",
       "      <td>600.0</td>\n",
       "      <td>1.000000</td>\n",
       "      <td>productshot2.jpg</td>\n",
       "      <td>0</td>\n",
       "    </tr>\n",
       "    <tr>\n",
       "      <th>4</th>\n",
       "      <td>00a957mh</td>\n",
       "      <td>0.140714</td>\n",
       "      <td>816.0</td>\n",
       "      <td>2382.0</td>\n",
       "      <td>0.342569</td>\n",
       "      <td>divine_medical_billing_inc_master.png</td>\n",
       "      <td>1</td>\n",
       "    </tr>\n",
       "  </tbody>\n",
       "</table>\n",
       "</div>"
      ],
      "text/plain": [
       "  attachment_key   size_mb  height   width    h_to_w  \\\n",
       "0       001lq61k  0.122520   514.0   720.0  0.713889   \n",
       "1       002dlirq  3.256944  4072.0  3868.0  1.052741   \n",
       "2       003qefgm  0.002522    80.0   200.0  0.400000   \n",
       "3       0083okjl  0.116802   600.0   600.0  1.000000   \n",
       "4       00a957mh  0.140714   816.0  2382.0  0.342569   \n",
       "\n",
       "                                filename  logo  \n",
       "0       campus ministry on the beach.jpg     0  \n",
       "1        BIG ALS FISH FLASH UV VP PL.jpg     0  \n",
       "2                 netix_email_studio.png     1  \n",
       "3                       productshot2.jpg     0  \n",
       "4  divine_medical_billing_inc_master.png     1  "
      ]
     },
     "execution_count": 10,
     "metadata": {},
     "output_type": "execute_result"
    }
   ],
   "source": [
    "# Load excel data\n",
    "df = pd.read_csv('school_project_data_set-query.csv')\n",
    "df.head()"
   ]
  },
  {
   "cell_type": "code",
   "execution_count": 11,
   "metadata": {},
   "outputs": [],
   "source": [
    "# Merge dataframes by attachment key\n",
    "combined_df = df.merge(df_pixel_t, on='attachment_key')"
   ]
  },
  {
   "cell_type": "code",
   "execution_count": 12,
   "metadata": {},
   "outputs": [
    {
     "data": {
      "text/html": [
       "<div>\n",
       "<style scoped>\n",
       "    .dataframe tbody tr th:only-of-type {\n",
       "        vertical-align: middle;\n",
       "    }\n",
       "\n",
       "    .dataframe tbody tr th {\n",
       "        vertical-align: top;\n",
       "    }\n",
       "\n",
       "    .dataframe thead th {\n",
       "        text-align: right;\n",
       "    }\n",
       "</style>\n",
       "<table border=\"1\" class=\"dataframe\">\n",
       "  <thead>\n",
       "    <tr style=\"text-align: right;\">\n",
       "      <th></th>\n",
       "      <th>attachment_key</th>\n",
       "      <th>size_mb</th>\n",
       "      <th>height</th>\n",
       "      <th>width</th>\n",
       "      <th>h_to_w</th>\n",
       "      <th>filename</th>\n",
       "      <th>logo</th>\n",
       "      <th>pixel_array</th>\n",
       "    </tr>\n",
       "  </thead>\n",
       "  <tbody>\n",
       "    <tr>\n",
       "      <th>0</th>\n",
       "      <td>00xjny6u</td>\n",
       "      <td>0.011849</td>\n",
       "      <td>520.0</td>\n",
       "      <td>506.0</td>\n",
       "      <td>1.027668</td>\n",
       "      <td>Esterdale Theatre - Logo.png</td>\n",
       "      <td>1</td>\n",
       "      <td>[0.5923961, 0.54204315, 0.51498044, 0.5923961,...</td>\n",
       "    </tr>\n",
       "    <tr>\n",
       "      <th>1</th>\n",
       "      <td>04o31jop</td>\n",
       "      <td>0.012610</td>\n",
       "      <td>269.0</td>\n",
       "      <td>396.0</td>\n",
       "      <td>0.679293</td>\n",
       "      <td>BLUE_LOGO.png</td>\n",
       "      <td>1</td>\n",
       "      <td>[0.5923961, 0.54204315, 0.51498044, 0.5923961,...</td>\n",
       "    </tr>\n",
       "    <tr>\n",
       "      <th>2</th>\n",
       "      <td>0840h7ox</td>\n",
       "      <td>0.399114</td>\n",
       "      <td>518.0</td>\n",
       "      <td>920.0</td>\n",
       "      <td>0.563044</td>\n",
       "      <td>ZEN_LB-5.jpg</td>\n",
       "      <td>0</td>\n",
       "      <td>[0.106121555, 0.05576863, 0.052235294, 0.09043...</td>\n",
       "    </tr>\n",
       "    <tr>\n",
       "      <th>3</th>\n",
       "      <td>0awudx2h</td>\n",
       "      <td>0.011226</td>\n",
       "      <td>200.0</td>\n",
       "      <td>200.0</td>\n",
       "      <td>1.000000</td>\n",
       "      <td>article central 200.jpg</td>\n",
       "      <td>1</td>\n",
       "      <td>[0.5923961, 0.54204315, 0.51498044, 0.5923961,...</td>\n",
       "    </tr>\n",
       "    <tr>\n",
       "      <th>4</th>\n",
       "      <td>0bb8y85h</td>\n",
       "      <td>0.263813</td>\n",
       "      <td>885.0</td>\n",
       "      <td>800.0</td>\n",
       "      <td>1.106250</td>\n",
       "      <td>1116-100_WGTank_white.jpg</td>\n",
       "      <td>0</td>\n",
       "      <td>[0.5923961, 0.54204315, 0.51498044, 0.5923961,...</td>\n",
       "    </tr>\n",
       "  </tbody>\n",
       "</table>\n",
       "</div>"
      ],
      "text/plain": [
       "  attachment_key   size_mb  height  width    h_to_w  \\\n",
       "0       00xjny6u  0.011849   520.0  506.0  1.027668   \n",
       "1       04o31jop  0.012610   269.0  396.0  0.679293   \n",
       "2       0840h7ox  0.399114   518.0  920.0  0.563044   \n",
       "3       0awudx2h  0.011226   200.0  200.0  1.000000   \n",
       "4       0bb8y85h  0.263813   885.0  800.0  1.106250   \n",
       "\n",
       "                       filename  logo  \\\n",
       "0  Esterdale Theatre - Logo.png     1   \n",
       "1                 BLUE_LOGO.png     1   \n",
       "2                  ZEN_LB-5.jpg     0   \n",
       "3       article central 200.jpg     1   \n",
       "4     1116-100_WGTank_white.jpg     0   \n",
       "\n",
       "                                         pixel_array  \n",
       "0  [0.5923961, 0.54204315, 0.51498044, 0.5923961,...  \n",
       "1  [0.5923961, 0.54204315, 0.51498044, 0.5923961,...  \n",
       "2  [0.106121555, 0.05576863, 0.052235294, 0.09043...  \n",
       "3  [0.5923961, 0.54204315, 0.51498044, 0.5923961,...  \n",
       "4  [0.5923961, 0.54204315, 0.51498044, 0.5923961,...  "
      ]
     },
     "execution_count": 12,
     "metadata": {},
     "output_type": "execute_result"
    }
   ],
   "source": [
    "combined_df.head()"
   ]
  },
  {
   "cell_type": "code",
   "execution_count": 13,
   "metadata": {},
   "outputs": [
    {
     "data": {
      "text/html": [
       "<div>\n",
       "<style scoped>\n",
       "    .dataframe tbody tr th:only-of-type {\n",
       "        vertical-align: middle;\n",
       "    }\n",
       "\n",
       "    .dataframe tbody tr th {\n",
       "        vertical-align: top;\n",
       "    }\n",
       "\n",
       "    .dataframe thead th {\n",
       "        text-align: right;\n",
       "    }\n",
       "</style>\n",
       "<table border=\"1\" class=\"dataframe\">\n",
       "  <thead>\n",
       "    <tr style=\"text-align: right;\">\n",
       "      <th></th>\n",
       "      <th>attachment_key</th>\n",
       "      <th>size_mb</th>\n",
       "      <th>height</th>\n",
       "      <th>width</th>\n",
       "      <th>h_to_w</th>\n",
       "      <th>pixel_array</th>\n",
       "      <th>filename</th>\n",
       "      <th>logo</th>\n",
       "    </tr>\n",
       "  </thead>\n",
       "  <tbody>\n",
       "    <tr>\n",
       "      <th>0</th>\n",
       "      <td>00xjny6u</td>\n",
       "      <td>0.011849</td>\n",
       "      <td>520.0</td>\n",
       "      <td>506.0</td>\n",
       "      <td>1.027668</td>\n",
       "      <td>[0.5923961, 0.54204315, 0.51498044, 0.5923961,...</td>\n",
       "      <td>Esterdale Theatre - Logo.png</td>\n",
       "      <td>1</td>\n",
       "    </tr>\n",
       "    <tr>\n",
       "      <th>1</th>\n",
       "      <td>04o31jop</td>\n",
       "      <td>0.012610</td>\n",
       "      <td>269.0</td>\n",
       "      <td>396.0</td>\n",
       "      <td>0.679293</td>\n",
       "      <td>[0.5923961, 0.54204315, 0.51498044, 0.5923961,...</td>\n",
       "      <td>BLUE_LOGO.png</td>\n",
       "      <td>1</td>\n",
       "    </tr>\n",
       "    <tr>\n",
       "      <th>2</th>\n",
       "      <td>0840h7ox</td>\n",
       "      <td>0.399114</td>\n",
       "      <td>518.0</td>\n",
       "      <td>920.0</td>\n",
       "      <td>0.563044</td>\n",
       "      <td>[0.106121555, 0.05576863, 0.052235294, 0.09043...</td>\n",
       "      <td>ZEN_LB-5.jpg</td>\n",
       "      <td>0</td>\n",
       "    </tr>\n",
       "    <tr>\n",
       "      <th>3</th>\n",
       "      <td>0awudx2h</td>\n",
       "      <td>0.011226</td>\n",
       "      <td>200.0</td>\n",
       "      <td>200.0</td>\n",
       "      <td>1.000000</td>\n",
       "      <td>[0.5923961, 0.54204315, 0.51498044, 0.5923961,...</td>\n",
       "      <td>article central 200.jpg</td>\n",
       "      <td>1</td>\n",
       "    </tr>\n",
       "    <tr>\n",
       "      <th>4</th>\n",
       "      <td>0bb8y85h</td>\n",
       "      <td>0.263813</td>\n",
       "      <td>885.0</td>\n",
       "      <td>800.0</td>\n",
       "      <td>1.106250</td>\n",
       "      <td>[0.5923961, 0.54204315, 0.51498044, 0.5923961,...</td>\n",
       "      <td>1116-100_WGTank_white.jpg</td>\n",
       "      <td>0</td>\n",
       "    </tr>\n",
       "  </tbody>\n",
       "</table>\n",
       "</div>"
      ],
      "text/plain": [
       "  attachment_key   size_mb  height  width    h_to_w  \\\n",
       "0       00xjny6u  0.011849   520.0  506.0  1.027668   \n",
       "1       04o31jop  0.012610   269.0  396.0  0.679293   \n",
       "2       0840h7ox  0.399114   518.0  920.0  0.563044   \n",
       "3       0awudx2h  0.011226   200.0  200.0  1.000000   \n",
       "4       0bb8y85h  0.263813   885.0  800.0  1.106250   \n",
       "\n",
       "                                         pixel_array  \\\n",
       "0  [0.5923961, 0.54204315, 0.51498044, 0.5923961,...   \n",
       "1  [0.5923961, 0.54204315, 0.51498044, 0.5923961,...   \n",
       "2  [0.106121555, 0.05576863, 0.052235294, 0.09043...   \n",
       "3  [0.5923961, 0.54204315, 0.51498044, 0.5923961,...   \n",
       "4  [0.5923961, 0.54204315, 0.51498044, 0.5923961,...   \n",
       "\n",
       "                       filename  logo  \n",
       "0  Esterdale Theatre - Logo.png     1  \n",
       "1                 BLUE_LOGO.png     1  \n",
       "2                  ZEN_LB-5.jpg     0  \n",
       "3       article central 200.jpg     1  \n",
       "4     1116-100_WGTank_white.jpg     0  "
      ]
     },
     "execution_count": 13,
     "metadata": {},
     "output_type": "execute_result"
    }
   ],
   "source": [
    "combined_df = combined_df[['attachment_key', 'size_mb', 'height', 'width', 'h_to_w',  'pixel_array', 'filename','logo']]\n",
    "combined_df.head()"
   ]
  },
  {
   "cell_type": "code",
   "execution_count": 14,
   "metadata": {},
   "outputs": [
    {
     "name": "stdout",
     "output_type": "stream",
     "text": [
      "(3755, 150528)\n"
     ]
    }
   ],
   "source": [
    "#Feature is just the pixel array\n",
    "X = np.array(combined_df['pixel_array'].tolist())\n",
    "print(X.shape)"
   ]
  },
  {
   "cell_type": "code",
   "execution_count": 15,
   "metadata": {},
   "outputs": [
    {
     "name": "stdout",
     "output_type": "stream",
     "text": [
      "[1.184900e-02 5.200000e+02 5.060000e+02 1.027668e+00]\n",
      "(3755, 4)\n"
     ]
    }
   ],
   "source": [
    "#Features are size, height, width, h_to_w\n",
    "X2 = combined_df.iloc[:3755, 1:5].values\n",
    "print(X2[0])\n",
    "print(X2.shape)"
   ]
  },
  {
   "cell_type": "code",
   "execution_count": 16,
   "metadata": {},
   "outputs": [
    {
     "name": "stdout",
     "output_type": "stream",
     "text": [
      "(3755, 150532)\n",
      "0.011849\n"
     ]
    }
   ],
   "source": [
    "#Features are size, height, width, h_to_w, pixel_array\n",
    "X3 = np.concatenate((X2,X), axis=1)\n",
    "print(X3.shape)\n",
    "print(X3[0][0])"
   ]
  },
  {
   "cell_type": "code",
   "execution_count": 18,
   "metadata": {},
   "outputs": [
    {
     "name": "stdout",
     "output_type": "stream",
     "text": [
      "{'peg', 'ack', 'jpg', 'hot', 'png', 'lue', 'ite', 'jpe', '0mm', 'age', '73e', 'pig'}\n"
     ]
    }
   ],
   "source": [
    "file_types = []\n",
    "for item in combined_df['filename']:\n",
    "    file_types.append(item[-3:].lower())\n",
    "\n",
    "print(set(file_types))\n",
    "\n",
    "#File types should be png, jpg or other\n",
    "#Need to one hot encode these\n",
    "\n"
   ]
  },
  {
   "cell_type": "code",
   "execution_count": 19,
   "metadata": {},
   "outputs": [],
   "source": [
    "filetype_encoding = []\n",
    "for item in combined_df['filename']:\n",
    "    if item[-3:].lower() == 'jpg':\n",
    "        filetype_encoding.append('jpg')\n",
    "    elif item[-3:].lower() == 'png':\n",
    "        filetype_encoding.append('png')\n",
    "    else:\n",
    "        filetype_encoding.append('other')\n",
    "        "
   ]
  },
  {
   "cell_type": "code",
   "execution_count": 20,
   "metadata": {},
   "outputs": [
    {
     "data": {
      "text/html": [
       "<div>\n",
       "<style scoped>\n",
       "    .dataframe tbody tr th:only-of-type {\n",
       "        vertical-align: middle;\n",
       "    }\n",
       "\n",
       "    .dataframe tbody tr th {\n",
       "        vertical-align: top;\n",
       "    }\n",
       "\n",
       "    .dataframe thead th {\n",
       "        text-align: right;\n",
       "    }\n",
       "</style>\n",
       "<table border=\"1\" class=\"dataframe\">\n",
       "  <thead>\n",
       "    <tr style=\"text-align: right;\">\n",
       "      <th></th>\n",
       "      <th>attachment_key</th>\n",
       "      <th>size_mb</th>\n",
       "      <th>height</th>\n",
       "      <th>width</th>\n",
       "      <th>h_to_w</th>\n",
       "      <th>filetype</th>\n",
       "      <th>pixel_array</th>\n",
       "      <th>filename</th>\n",
       "      <th>logo</th>\n",
       "    </tr>\n",
       "  </thead>\n",
       "  <tbody>\n",
       "    <tr>\n",
       "      <th>0</th>\n",
       "      <td>00xjny6u</td>\n",
       "      <td>0.011849</td>\n",
       "      <td>520.0</td>\n",
       "      <td>506.0</td>\n",
       "      <td>1.027668</td>\n",
       "      <td>png</td>\n",
       "      <td>[0.5923961, 0.54204315, 0.51498044, 0.5923961,...</td>\n",
       "      <td>Esterdale Theatre - Logo.png</td>\n",
       "      <td>1</td>\n",
       "    </tr>\n",
       "    <tr>\n",
       "      <th>1</th>\n",
       "      <td>04o31jop</td>\n",
       "      <td>0.012610</td>\n",
       "      <td>269.0</td>\n",
       "      <td>396.0</td>\n",
       "      <td>0.679293</td>\n",
       "      <td>png</td>\n",
       "      <td>[0.5923961, 0.54204315, 0.51498044, 0.5923961,...</td>\n",
       "      <td>BLUE_LOGO.png</td>\n",
       "      <td>1</td>\n",
       "    </tr>\n",
       "    <tr>\n",
       "      <th>2</th>\n",
       "      <td>0840h7ox</td>\n",
       "      <td>0.399114</td>\n",
       "      <td>518.0</td>\n",
       "      <td>920.0</td>\n",
       "      <td>0.563044</td>\n",
       "      <td>jpg</td>\n",
       "      <td>[0.106121555, 0.05576863, 0.052235294, 0.09043...</td>\n",
       "      <td>ZEN_LB-5.jpg</td>\n",
       "      <td>0</td>\n",
       "    </tr>\n",
       "    <tr>\n",
       "      <th>3</th>\n",
       "      <td>0awudx2h</td>\n",
       "      <td>0.011226</td>\n",
       "      <td>200.0</td>\n",
       "      <td>200.0</td>\n",
       "      <td>1.000000</td>\n",
       "      <td>jpg</td>\n",
       "      <td>[0.5923961, 0.54204315, 0.51498044, 0.5923961,...</td>\n",
       "      <td>article central 200.jpg</td>\n",
       "      <td>1</td>\n",
       "    </tr>\n",
       "    <tr>\n",
       "      <th>4</th>\n",
       "      <td>0bb8y85h</td>\n",
       "      <td>0.263813</td>\n",
       "      <td>885.0</td>\n",
       "      <td>800.0</td>\n",
       "      <td>1.106250</td>\n",
       "      <td>jpg</td>\n",
       "      <td>[0.5923961, 0.54204315, 0.51498044, 0.5923961,...</td>\n",
       "      <td>1116-100_WGTank_white.jpg</td>\n",
       "      <td>0</td>\n",
       "    </tr>\n",
       "  </tbody>\n",
       "</table>\n",
       "</div>"
      ],
      "text/plain": [
       "  attachment_key   size_mb  height  width    h_to_w filetype  \\\n",
       "0       00xjny6u  0.011849   520.0  506.0  1.027668      png   \n",
       "1       04o31jop  0.012610   269.0  396.0  0.679293      png   \n",
       "2       0840h7ox  0.399114   518.0  920.0  0.563044      jpg   \n",
       "3       0awudx2h  0.011226   200.0  200.0  1.000000      jpg   \n",
       "4       0bb8y85h  0.263813   885.0  800.0  1.106250      jpg   \n",
       "\n",
       "                                         pixel_array  \\\n",
       "0  [0.5923961, 0.54204315, 0.51498044, 0.5923961,...   \n",
       "1  [0.5923961, 0.54204315, 0.51498044, 0.5923961,...   \n",
       "2  [0.106121555, 0.05576863, 0.052235294, 0.09043...   \n",
       "3  [0.5923961, 0.54204315, 0.51498044, 0.5923961,...   \n",
       "4  [0.5923961, 0.54204315, 0.51498044, 0.5923961,...   \n",
       "\n",
       "                       filename  logo  \n",
       "0  Esterdale Theatre - Logo.png     1  \n",
       "1                 BLUE_LOGO.png     1  \n",
       "2                  ZEN_LB-5.jpg     0  \n",
       "3       article central 200.jpg     1  \n",
       "4     1116-100_WGTank_white.jpg     0  "
      ]
     },
     "execution_count": 20,
     "metadata": {},
     "output_type": "execute_result"
    }
   ],
   "source": [
    "combined_df['filetype'] = filetype_encoding\n",
    "combined_df = combined_df[['attachment_key', 'size_mb', 'height', 'width', 'h_to_w', 'filetype', 'pixel_array', 'filename','logo']]\n",
    "combined_df.head()"
   ]
  },
  {
   "cell_type": "code",
   "execution_count": 21,
   "metadata": {},
   "outputs": [
    {
     "data": {
      "text/html": [
       "<div>\n",
       "<style scoped>\n",
       "    .dataframe tbody tr th:only-of-type {\n",
       "        vertical-align: middle;\n",
       "    }\n",
       "\n",
       "    .dataframe tbody tr th {\n",
       "        vertical-align: top;\n",
       "    }\n",
       "\n",
       "    .dataframe thead th {\n",
       "        text-align: right;\n",
       "    }\n",
       "</style>\n",
       "<table border=\"1\" class=\"dataframe\">\n",
       "  <thead>\n",
       "    <tr style=\"text-align: right;\">\n",
       "      <th></th>\n",
       "      <th>attachment_key</th>\n",
       "      <th>size_mb</th>\n",
       "      <th>height</th>\n",
       "      <th>width</th>\n",
       "      <th>h_to_w</th>\n",
       "      <th>filetype</th>\n",
       "      <th>pixel_array</th>\n",
       "      <th>filename</th>\n",
       "      <th>logo</th>\n",
       "      <th>jpg</th>\n",
       "      <th>other</th>\n",
       "      <th>png</th>\n",
       "    </tr>\n",
       "  </thead>\n",
       "  <tbody>\n",
       "    <tr>\n",
       "      <th>0</th>\n",
       "      <td>00xjny6u</td>\n",
       "      <td>0.011849</td>\n",
       "      <td>520.0</td>\n",
       "      <td>506.0</td>\n",
       "      <td>1.027668</td>\n",
       "      <td>png</td>\n",
       "      <td>[0.5923961, 0.54204315, 0.51498044, 0.5923961,...</td>\n",
       "      <td>Esterdale Theatre - Logo.png</td>\n",
       "      <td>1</td>\n",
       "      <td>0</td>\n",
       "      <td>0</td>\n",
       "      <td>1</td>\n",
       "    </tr>\n",
       "    <tr>\n",
       "      <th>1</th>\n",
       "      <td>04o31jop</td>\n",
       "      <td>0.012610</td>\n",
       "      <td>269.0</td>\n",
       "      <td>396.0</td>\n",
       "      <td>0.679293</td>\n",
       "      <td>png</td>\n",
       "      <td>[0.5923961, 0.54204315, 0.51498044, 0.5923961,...</td>\n",
       "      <td>BLUE_LOGO.png</td>\n",
       "      <td>1</td>\n",
       "      <td>0</td>\n",
       "      <td>0</td>\n",
       "      <td>1</td>\n",
       "    </tr>\n",
       "    <tr>\n",
       "      <th>2</th>\n",
       "      <td>0840h7ox</td>\n",
       "      <td>0.399114</td>\n",
       "      <td>518.0</td>\n",
       "      <td>920.0</td>\n",
       "      <td>0.563044</td>\n",
       "      <td>jpg</td>\n",
       "      <td>[0.106121555, 0.05576863, 0.052235294, 0.09043...</td>\n",
       "      <td>ZEN_LB-5.jpg</td>\n",
       "      <td>0</td>\n",
       "      <td>1</td>\n",
       "      <td>0</td>\n",
       "      <td>0</td>\n",
       "    </tr>\n",
       "    <tr>\n",
       "      <th>3</th>\n",
       "      <td>0awudx2h</td>\n",
       "      <td>0.011226</td>\n",
       "      <td>200.0</td>\n",
       "      <td>200.0</td>\n",
       "      <td>1.000000</td>\n",
       "      <td>jpg</td>\n",
       "      <td>[0.5923961, 0.54204315, 0.51498044, 0.5923961,...</td>\n",
       "      <td>article central 200.jpg</td>\n",
       "      <td>1</td>\n",
       "      <td>1</td>\n",
       "      <td>0</td>\n",
       "      <td>0</td>\n",
       "    </tr>\n",
       "    <tr>\n",
       "      <th>4</th>\n",
       "      <td>0bb8y85h</td>\n",
       "      <td>0.263813</td>\n",
       "      <td>885.0</td>\n",
       "      <td>800.0</td>\n",
       "      <td>1.106250</td>\n",
       "      <td>jpg</td>\n",
       "      <td>[0.5923961, 0.54204315, 0.51498044, 0.5923961,...</td>\n",
       "      <td>1116-100_WGTank_white.jpg</td>\n",
       "      <td>0</td>\n",
       "      <td>1</td>\n",
       "      <td>0</td>\n",
       "      <td>0</td>\n",
       "    </tr>\n",
       "  </tbody>\n",
       "</table>\n",
       "</div>"
      ],
      "text/plain": [
       "  attachment_key   size_mb  height  width    h_to_w filetype  \\\n",
       "0       00xjny6u  0.011849   520.0  506.0  1.027668      png   \n",
       "1       04o31jop  0.012610   269.0  396.0  0.679293      png   \n",
       "2       0840h7ox  0.399114   518.0  920.0  0.563044      jpg   \n",
       "3       0awudx2h  0.011226   200.0  200.0  1.000000      jpg   \n",
       "4       0bb8y85h  0.263813   885.0  800.0  1.106250      jpg   \n",
       "\n",
       "                                         pixel_array  \\\n",
       "0  [0.5923961, 0.54204315, 0.51498044, 0.5923961,...   \n",
       "1  [0.5923961, 0.54204315, 0.51498044, 0.5923961,...   \n",
       "2  [0.106121555, 0.05576863, 0.052235294, 0.09043...   \n",
       "3  [0.5923961, 0.54204315, 0.51498044, 0.5923961,...   \n",
       "4  [0.5923961, 0.54204315, 0.51498044, 0.5923961,...   \n",
       "\n",
       "                       filename  logo  jpg  other  png  \n",
       "0  Esterdale Theatre - Logo.png     1    0      0    1  \n",
       "1                 BLUE_LOGO.png     1    0      0    1  \n",
       "2                  ZEN_LB-5.jpg     0    1      0    0  \n",
       "3       article central 200.jpg     1    1      0    0  \n",
       "4     1116-100_WGTank_white.jpg     0    1      0    0  "
      ]
     },
     "execution_count": 21,
     "metadata": {},
     "output_type": "execute_result"
    }
   ],
   "source": [
    "# get dummies\n",
    "filetype_dummies = pd.get_dummies(combined_df.filetype)\n",
    "\n",
    "# add to initial df\n",
    "combined_df = pd.concat((combined_df, filetype_dummies), axis=1)\n",
    "\n",
    "# print head of df\n",
    "combined_df.head()"
   ]
  },
  {
   "cell_type": "code",
   "execution_count": 22,
   "metadata": {},
   "outputs": [
    {
     "data": {
      "text/html": [
       "<div>\n",
       "<style scoped>\n",
       "    .dataframe tbody tr th:only-of-type {\n",
       "        vertical-align: middle;\n",
       "    }\n",
       "\n",
       "    .dataframe tbody tr th {\n",
       "        vertical-align: top;\n",
       "    }\n",
       "\n",
       "    .dataframe thead th {\n",
       "        text-align: right;\n",
       "    }\n",
       "</style>\n",
       "<table border=\"1\" class=\"dataframe\">\n",
       "  <thead>\n",
       "    <tr style=\"text-align: right;\">\n",
       "      <th></th>\n",
       "      <th>attachment_key</th>\n",
       "      <th>size_mb</th>\n",
       "      <th>height</th>\n",
       "      <th>width</th>\n",
       "      <th>h_to_w</th>\n",
       "      <th>jpg</th>\n",
       "      <th>png</th>\n",
       "      <th>other</th>\n",
       "      <th>pixel_array</th>\n",
       "      <th>filetype</th>\n",
       "      <th>filename</th>\n",
       "      <th>logo</th>\n",
       "    </tr>\n",
       "  </thead>\n",
       "  <tbody>\n",
       "    <tr>\n",
       "      <th>0</th>\n",
       "      <td>00xjny6u</td>\n",
       "      <td>0.011849</td>\n",
       "      <td>520.0</td>\n",
       "      <td>506.0</td>\n",
       "      <td>1.027668</td>\n",
       "      <td>0</td>\n",
       "      <td>1</td>\n",
       "      <td>0</td>\n",
       "      <td>[0.5923961, 0.54204315, 0.51498044, 0.5923961,...</td>\n",
       "      <td>png</td>\n",
       "      <td>Esterdale Theatre - Logo.png</td>\n",
       "      <td>1</td>\n",
       "    </tr>\n",
       "    <tr>\n",
       "      <th>1</th>\n",
       "      <td>04o31jop</td>\n",
       "      <td>0.012610</td>\n",
       "      <td>269.0</td>\n",
       "      <td>396.0</td>\n",
       "      <td>0.679293</td>\n",
       "      <td>0</td>\n",
       "      <td>1</td>\n",
       "      <td>0</td>\n",
       "      <td>[0.5923961, 0.54204315, 0.51498044, 0.5923961,...</td>\n",
       "      <td>png</td>\n",
       "      <td>BLUE_LOGO.png</td>\n",
       "      <td>1</td>\n",
       "    </tr>\n",
       "    <tr>\n",
       "      <th>2</th>\n",
       "      <td>0840h7ox</td>\n",
       "      <td>0.399114</td>\n",
       "      <td>518.0</td>\n",
       "      <td>920.0</td>\n",
       "      <td>0.563044</td>\n",
       "      <td>1</td>\n",
       "      <td>0</td>\n",
       "      <td>0</td>\n",
       "      <td>[0.106121555, 0.05576863, 0.052235294, 0.09043...</td>\n",
       "      <td>jpg</td>\n",
       "      <td>ZEN_LB-5.jpg</td>\n",
       "      <td>0</td>\n",
       "    </tr>\n",
       "    <tr>\n",
       "      <th>3</th>\n",
       "      <td>0awudx2h</td>\n",
       "      <td>0.011226</td>\n",
       "      <td>200.0</td>\n",
       "      <td>200.0</td>\n",
       "      <td>1.000000</td>\n",
       "      <td>1</td>\n",
       "      <td>0</td>\n",
       "      <td>0</td>\n",
       "      <td>[0.5923961, 0.54204315, 0.51498044, 0.5923961,...</td>\n",
       "      <td>jpg</td>\n",
       "      <td>article central 200.jpg</td>\n",
       "      <td>1</td>\n",
       "    </tr>\n",
       "    <tr>\n",
       "      <th>4</th>\n",
       "      <td>0bb8y85h</td>\n",
       "      <td>0.263813</td>\n",
       "      <td>885.0</td>\n",
       "      <td>800.0</td>\n",
       "      <td>1.106250</td>\n",
       "      <td>1</td>\n",
       "      <td>0</td>\n",
       "      <td>0</td>\n",
       "      <td>[0.5923961, 0.54204315, 0.51498044, 0.5923961,...</td>\n",
       "      <td>jpg</td>\n",
       "      <td>1116-100_WGTank_white.jpg</td>\n",
       "      <td>0</td>\n",
       "    </tr>\n",
       "  </tbody>\n",
       "</table>\n",
       "</div>"
      ],
      "text/plain": [
       "  attachment_key   size_mb  height  width    h_to_w  jpg  png  other  \\\n",
       "0       00xjny6u  0.011849   520.0  506.0  1.027668    0    1      0   \n",
       "1       04o31jop  0.012610   269.0  396.0  0.679293    0    1      0   \n",
       "2       0840h7ox  0.399114   518.0  920.0  0.563044    1    0      0   \n",
       "3       0awudx2h  0.011226   200.0  200.0  1.000000    1    0      0   \n",
       "4       0bb8y85h  0.263813   885.0  800.0  1.106250    1    0      0   \n",
       "\n",
       "                                         pixel_array filetype  \\\n",
       "0  [0.5923961, 0.54204315, 0.51498044, 0.5923961,...      png   \n",
       "1  [0.5923961, 0.54204315, 0.51498044, 0.5923961,...      png   \n",
       "2  [0.106121555, 0.05576863, 0.052235294, 0.09043...      jpg   \n",
       "3  [0.5923961, 0.54204315, 0.51498044, 0.5923961,...      jpg   \n",
       "4  [0.5923961, 0.54204315, 0.51498044, 0.5923961,...      jpg   \n",
       "\n",
       "                       filename  logo  \n",
       "0  Esterdale Theatre - Logo.png     1  \n",
       "1                 BLUE_LOGO.png     1  \n",
       "2                  ZEN_LB-5.jpg     0  \n",
       "3       article central 200.jpg     1  \n",
       "4     1116-100_WGTank_white.jpg     0  "
      ]
     },
     "execution_count": 22,
     "metadata": {},
     "output_type": "execute_result"
    }
   ],
   "source": [
    "combined_df = combined_df[['attachment_key', 'size_mb', 'height', 'width', 'h_to_w', 'jpg', 'png', 'other', 'pixel_array', 'filetype','filename','logo']]\n",
    "combined_df.head()"
   ]
  },
  {
   "cell_type": "code",
   "execution_count": 23,
   "metadata": {},
   "outputs": [
    {
     "name": "stdout",
     "output_type": "stream",
     "text": [
      "[1.184900e-02 5.200000e+02 5.060000e+02 1.027668e+00 0.000000e+00\n",
      " 1.000000e+00 0.000000e+00]\n",
      "(3755, 7)\n"
     ]
    }
   ],
   "source": [
    "#Features are size, height, width, h_to_w, filetype\n",
    "X4 = combined_df.iloc[:3755, 1:8].values\n",
    "print(X4[0])\n",
    "print(X4.shape)"
   ]
  },
  {
   "cell_type": "code",
   "execution_count": 24,
   "metadata": {},
   "outputs": [
    {
     "name": "stdout",
     "output_type": "stream",
     "text": [
      "(3755, 150535)\n",
      "0.011849\n"
     ]
    }
   ],
   "source": [
    "#Features are size, height, width, h_to_w, filetype, pixel array\n",
    "X5 = np.concatenate((X4,X), axis=1)\n",
    "print(X5.shape)\n",
    "print(X5[0][0])"
   ]
  },
  {
   "cell_type": "code",
   "execution_count": 25,
   "metadata": {},
   "outputs": [
    {
     "name": "stdout",
     "output_type": "stream",
     "text": [
      "(3755,)\n"
     ]
    }
   ],
   "source": [
    "Y = np.array(combined_df['logo'])\n",
    "print(Y.shape)"
   ]
  },
  {
   "cell_type": "code",
   "execution_count": 26,
   "metadata": {},
   "outputs": [],
   "source": [
    "# STILL WORKING\n",
    "# Split into train and test data\n",
    "# Development data?\n",
    "#X_train, X_test, y_train, y_test = train_test_split(X, y, test_size=0.4,random_state=1, stratify=y)"
   ]
  },
  {
   "cell_type": "code",
   "execution_count": 27,
   "metadata": {},
   "outputs": [],
   "source": [
    "# # Set some variables to hold test and training data.\n",
    "test_data, test_labels = X[2000:], Y[2000:]\n",
    "# dev_data, dev_labels = X[60000:61000], Y[60000:61000]\n",
    "train_data, train_labels = X[:2000], Y[:2000]\n",
    "mini_train_data, mini_train_labels = X[:100], Y[:100]\n",
    "\n",
    "\n",
    "#Try with more features - size, height, width, h_to_w\n",
    "mini_train_data2, mini_train_labels2 = X2[:100], Y[:100]\n",
    "test_data2, test_labels2 = X2[2000:], Y[2000:]\n",
    "\n",
    "#Try with more features - size, height, width, h_to_w, pixel array\n",
    "mini_train_data3, mini_train_labels3 = X3[:100], Y[:100]\n",
    "test_data3, test_labels3 = X3[2000:], Y[2000:]\n",
    "\n",
    "#Try with more features - size, height, width, h_to_w, filetype\n",
    "mini_train_data4, mini_train_labels4 = X4[:100], Y[:100]\n",
    "test_data4, test_labels4 = X4[2000:], Y[2000:]\n",
    "\n",
    "#Try with more features - size, height, width, h_to_w, filetype, pixel array\n",
    "mini_train_data5, mini_train_labels5 = X5[:100], Y[:100]\n",
    "test_data5, test_labels5 = X5[2000:], Y[2000:]\n"
   ]
  },
  {
   "cell_type": "code",
   "execution_count": 28,
   "metadata": {},
   "outputs": [],
   "source": [
    "# Standardize"
   ]
  },
  {
   "cell_type": "code",
   "execution_count": 29,
   "metadata": {},
   "outputs": [
    {
     "ename": "KeyboardInterrupt",
     "evalue": "",
     "output_type": "error",
     "traceback": [
      "\u001b[0;31m---------------------------------------------------------------------------\u001b[0m",
      "\u001b[0;31mKeyboardInterrupt\u001b[0m                         Traceback (most recent call last)",
      "\u001b[0;32m<ipython-input-29-9068f81ff50a>\u001b[0m in \u001b[0;36m<module>\u001b[0;34m\u001b[0m\n\u001b[1;32m      3\u001b[0m \u001b[0;31m#Train the data\u001b[0m\u001b[0;34m\u001b[0m\u001b[0;34m\u001b[0m\u001b[0;34m\u001b[0m\u001b[0m\n\u001b[1;32m      4\u001b[0m \u001b[0mknn\u001b[0m \u001b[0;34m=\u001b[0m \u001b[0mKNeighborsClassifier\u001b[0m\u001b[0;34m(\u001b[0m\u001b[0mn_neighbors\u001b[0m\u001b[0;34m=\u001b[0m\u001b[0;36m1\u001b[0m\u001b[0;34m)\u001b[0m\u001b[0;34m\u001b[0m\u001b[0;34m\u001b[0m\u001b[0m\n\u001b[0;32m----> 5\u001b[0;31m \u001b[0mknn\u001b[0m\u001b[0;34m.\u001b[0m\u001b[0mfit\u001b[0m\u001b[0;34m(\u001b[0m\u001b[0mtrain_data\u001b[0m\u001b[0;34m,\u001b[0m \u001b[0mtrain_labels\u001b[0m\u001b[0;34m)\u001b[0m\u001b[0;34m\u001b[0m\u001b[0;34m\u001b[0m\u001b[0m\n\u001b[0m\u001b[1;32m      6\u001b[0m \u001b[0;34m\u001b[0m\u001b[0m\n\u001b[1;32m      7\u001b[0m \u001b[0;31m#Predict\u001b[0m\u001b[0;34m\u001b[0m\u001b[0;34m\u001b[0m\u001b[0;34m\u001b[0m\u001b[0m\n",
      "\u001b[0;32m~/anaconda3/lib/python3.7/site-packages/sklearn/neighbors/base.py\u001b[0m in \u001b[0;36mfit\u001b[0;34m(self, X, y)\u001b[0m\n\u001b[1;32m    915\u001b[0m             \u001b[0mself\u001b[0m\u001b[0;34m.\u001b[0m\u001b[0m_y\u001b[0m \u001b[0;34m=\u001b[0m \u001b[0mself\u001b[0m\u001b[0;34m.\u001b[0m\u001b[0m_y\u001b[0m\u001b[0;34m.\u001b[0m\u001b[0mravel\u001b[0m\u001b[0;34m(\u001b[0m\u001b[0;34m)\u001b[0m\u001b[0;34m\u001b[0m\u001b[0;34m\u001b[0m\u001b[0m\n\u001b[1;32m    916\u001b[0m \u001b[0;34m\u001b[0m\u001b[0m\n\u001b[0;32m--> 917\u001b[0;31m         \u001b[0;32mreturn\u001b[0m \u001b[0mself\u001b[0m\u001b[0;34m.\u001b[0m\u001b[0m_fit\u001b[0m\u001b[0;34m(\u001b[0m\u001b[0mX\u001b[0m\u001b[0;34m)\u001b[0m\u001b[0;34m\u001b[0m\u001b[0;34m\u001b[0m\u001b[0m\n\u001b[0m\u001b[1;32m    918\u001b[0m \u001b[0;34m\u001b[0m\u001b[0m\n\u001b[1;32m    919\u001b[0m \u001b[0;34m\u001b[0m\u001b[0m\n",
      "\u001b[0;32m~/anaconda3/lib/python3.7/site-packages/sklearn/neighbors/base.py\u001b[0m in \u001b[0;36m_fit\u001b[0;34m(self, X)\u001b[0m\n\u001b[1;32m    255\u001b[0m             self._tree = KDTree(X, self.leaf_size,\n\u001b[1;32m    256\u001b[0m                                 \u001b[0mmetric\u001b[0m\u001b[0;34m=\u001b[0m\u001b[0mself\u001b[0m\u001b[0;34m.\u001b[0m\u001b[0meffective_metric_\u001b[0m\u001b[0;34m,\u001b[0m\u001b[0;34m\u001b[0m\u001b[0;34m\u001b[0m\u001b[0m\n\u001b[0;32m--> 257\u001b[0;31m                                 **self.effective_metric_params_)\n\u001b[0m\u001b[1;32m    258\u001b[0m         \u001b[0;32melif\u001b[0m \u001b[0mself\u001b[0m\u001b[0;34m.\u001b[0m\u001b[0m_fit_method\u001b[0m \u001b[0;34m==\u001b[0m \u001b[0;34m'brute'\u001b[0m\u001b[0;34m:\u001b[0m\u001b[0;34m\u001b[0m\u001b[0;34m\u001b[0m\u001b[0m\n\u001b[1;32m    259\u001b[0m             \u001b[0mself\u001b[0m\u001b[0;34m.\u001b[0m\u001b[0m_tree\u001b[0m \u001b[0;34m=\u001b[0m \u001b[0;32mNone\u001b[0m\u001b[0;34m\u001b[0m\u001b[0;34m\u001b[0m\u001b[0m\n",
      "\u001b[0;32msklearn/neighbors/binary_tree.pxi\u001b[0m in \u001b[0;36msklearn.neighbors.kd_tree.BinaryTree.__init__\u001b[0;34m()\u001b[0m\n",
      "\u001b[0;32m~/anaconda3/lib/python3.7/site-packages/numpy/core/numeric.py\u001b[0m in \u001b[0;36masarray\u001b[0;34m(a, dtype, order)\u001b[0m\n\u001b[1;32m    536\u001b[0m \u001b[0;34m\u001b[0m\u001b[0m\n\u001b[1;32m    537\u001b[0m     \"\"\"\n\u001b[0;32m--> 538\u001b[0;31m     \u001b[0;32mreturn\u001b[0m \u001b[0marray\u001b[0m\u001b[0;34m(\u001b[0m\u001b[0ma\u001b[0m\u001b[0;34m,\u001b[0m \u001b[0mdtype\u001b[0m\u001b[0;34m,\u001b[0m \u001b[0mcopy\u001b[0m\u001b[0;34m=\u001b[0m\u001b[0;32mFalse\u001b[0m\u001b[0;34m,\u001b[0m \u001b[0morder\u001b[0m\u001b[0;34m=\u001b[0m\u001b[0morder\u001b[0m\u001b[0;34m)\u001b[0m\u001b[0;34m\u001b[0m\u001b[0;34m\u001b[0m\u001b[0m\n\u001b[0m\u001b[1;32m    539\u001b[0m \u001b[0;34m\u001b[0m\u001b[0m\n\u001b[1;32m    540\u001b[0m \u001b[0;34m\u001b[0m\u001b[0m\n",
      "\u001b[0;31mKeyboardInterrupt\u001b[0m: "
     ]
    }
   ],
   "source": [
    "#Try a K Nearest Neighbors model just to see if everything is working correctly \n",
    "#Only using pixel data as a feature\n",
    "#Train the data\n",
    "knn = KNeighborsClassifier(n_neighbors=1)\n",
    "knn.fit(train_data, train_labels)\n",
    "\n",
    "#Predict\n",
    "dev_pred = knn.predict(test_data)\n",
    "    \n",
    "print('Misclassified examples: %d' % (test_labels != dev_pred).sum())\n",
    "    \n",
    "error = (test_labels != dev_pred).sum()/len(dev_pred)\n",
    "print('Misclassification error: %.3f' % error)\n",
    "print('Accuracy: %.3f'% (1-error))\n",
    "    "
   ]
  },
  {
   "cell_type": "code",
   "execution_count": 53,
   "metadata": {},
   "outputs": [
    {
     "name": "stdout",
     "output_type": "stream",
     "text": [
      "Misclassified examples: 652\n",
      "Misclassification error: 0.372\n",
      "Accuracy: 0.628\n"
     ]
    }
   ],
   "source": [
    "#Logistic regression with only pixel array as a feature\n",
    "lr = LogisticRegression(penalty='l2', C = .3, solver='liblinear', multi_class='auto')\n",
    "lr.fit(mini_train_data, mini_train_labels)\n",
    "        \n",
    "#Predict\n",
    "pred_lr = lr.predict(test_data)\n",
    "\n",
    "print('Misclassified examples: %d' % (test_labels != pred_lr).sum())\n",
    "    \n",
    "error = (test_labels != pred_lr).sum()/len(pred_lr)\n",
    "print('Misclassification error: %.3f' % error)\n",
    "print('Accuracy: %.3f'% (1-error))"
   ]
  },
  {
   "cell_type": "code",
   "execution_count": 83,
   "metadata": {},
   "outputs": [
    {
     "name": "stdout",
     "output_type": "stream",
     "text": [
      "Misclassified examples: 421\n",
      "Misclassification error: 0.240\n",
      "Accuracy: 0.760\n"
     ]
    }
   ],
   "source": [
    "#Features are size, height, width, h_to_w\n",
    "lr2 = LogisticRegression(penalty='l2', C = 2, solver='liblinear', multi_class='auto')\n",
    "lr2.fit(mini_train_data2, mini_train_labels2)\n",
    "        \n",
    "#Predict\n",
    "pred_lr2 = lr2.predict(test_data2)\n",
    "\n",
    "print('Misclassified examples: %d' % (test_labels2 != pred_lr2).sum())\n",
    "    \n",
    "error2 = (test_labels2 != pred_lr2).sum()/len(pred_lr2)\n",
    "print('Misclassification error: %.3f' % error2)\n",
    "print('Accuracy: %.3f'% (1-error2))"
   ]
  },
  {
   "cell_type": "code",
   "execution_count": 84,
   "metadata": {},
   "outputs": [
    {
     "name": "stdout",
     "output_type": "stream",
     "text": [
      "Misclassified examples: 602\n",
      "Misclassification error: 0.343\n",
      "Accuracy: 0.657\n"
     ]
    }
   ],
   "source": [
    "#Features are size, height, width, h_to_w, pixel array\n",
    "lr3 = LogisticRegression(penalty='l2', C = 2, solver='liblinear', multi_class='auto')\n",
    "lr3.fit(mini_train_data3, mini_train_labels3)\n",
    "        \n",
    "#Predict\n",
    "pred_lr3 = lr3.predict(test_data3)\n",
    "\n",
    "print('Misclassified examples: %d' % (test_labels3 != pred_lr3).sum())\n",
    "    \n",
    "error3 = (test_labels3 != pred_lr3).sum()/len(pred_lr3)\n",
    "print('Misclassification error: %.3f' % error3)\n",
    "print('Accuracy: %.3f'% (1-error3))"
   ]
  },
  {
   "cell_type": "code",
   "execution_count": 126,
   "metadata": {},
   "outputs": [
    {
     "name": "stdout",
     "output_type": "stream",
     "text": [
      "Misclassified examples: 368\n",
      "Misclassification error: 0.210\n",
      "Accuracy: 0.790\n"
     ]
    }
   ],
   "source": [
    "#Features are size, height, width, h_to_w, filetype\n",
    "lr4 = LogisticRegression(penalty='l2', C = 2, solver='liblinear', multi_class='auto')\n",
    "lr4.fit(mini_train_data4, mini_train_labels4)\n",
    "        \n",
    "#Predict\n",
    "pred_lr4 = lr4.predict(test_data4)\n",
    "\n",
    "print('Misclassified examples: %d' % (test_labels4 != pred_lr4).sum())\n",
    "    \n",
    "error4 = (test_labels4 != pred_lr4).sum()/len(pred_lr4)\n",
    "print('Misclassification error: %.3f' % error4)\n",
    "print('Accuracy: %.3f'% (1-error4))"
   ]
  },
  {
   "cell_type": "code",
   "execution_count": 130,
   "metadata": {},
   "outputs": [
    {
     "name": "stdout",
     "output_type": "stream",
     "text": [
      "Misclassified examples: 602\n",
      "Misclassification error: 0.343\n",
      "Accuracy: 0.657\n"
     ]
    }
   ],
   "source": [
    "#Features are size, height, width, h_to_w, filetype, pixel array\n",
    "lr5 = LogisticRegression(penalty='l2', C = 2, solver='liblinear', multi_class='auto')\n",
    "lr5.fit(mini_train_data5, mini_train_labels5)\n",
    "        \n",
    "#Predict\n",
    "pred_lr5 = lr5.predict(test_data5)\n",
    "\n",
    "print('Misclassified examples: %d' % (test_labels5 != pred_lr5).sum())\n",
    "    \n",
    "error5 = (test_labels5 != pred_lr5).sum()/len(pred_lr5)\n",
    "print('Misclassification error: %.3f' % error5)\n",
    "print('Accuracy: %.3f'% (1-error5))"
   ]
  },
  {
   "cell_type": "code",
   "execution_count": 74,
   "metadata": {},
   "outputs": [
    {
     "name": "stdout",
     "output_type": "stream",
     "text": [
      "Misclassified examples: 414\n",
      "Misclassification error: 0.236\n",
      "Accuracy: 0.764\n"
     ]
    }
   ],
   "source": [
    "# create an instance of the PCA class\n",
    "pca = PCA(n_components=10)\n",
    "\n",
    "#mini_train_data_transformed = mini_train_data.reshape(1,-1)\n",
    "#mini_train_labels_transformed = mini_train_labels.reshape(1,-1)\n",
    "\n",
    "# fit the data using the original X_train_std data; tranform X_train_std data\n",
    "X_train_pca_l = pca.fit_transform(mini_train_data5)\n",
    "\n",
    "# transform the X_test_std data\n",
    "X_test_pca_l = pca.transform(test_data5)\n",
    "\n",
    "# #Logistic regression with only pixel array as a feature\n",
    "lr6 = LogisticRegression(penalty='l2', C = .3, solver='liblinear', multi_class='auto')\n",
    "lr6.fit(X_train_pca_l, mini_train_labels5)\n",
    "        \n",
    "# #Predict\n",
    "pred_lr6 = lr6.predict(X_test_pca_l)\n",
    "\n",
    "print('Misclassified examples: %d' % (test_labels5 != pred_lr6).sum())\n",
    "    \n",
    "error6 = (test_labels5 != pred_lr6).sum()/len(pred_lr6)\n",
    "print('Misclassification error: %.3f' % error6)\n",
    "print('Accuracy: %.3f'% (1-error6))\n"
   ]
  },
  {
   "cell_type": "markdown",
   "metadata": {},
   "source": [
    "###### "
   ]
  }
 ],
 "metadata": {
  "kernelspec": {
   "display_name": "Python 3",
   "language": "python",
   "name": "python3"
  },
  "language_info": {
   "codemirror_mode": {
    "name": "ipython",
    "version": 3
   },
   "file_extension": ".py",
   "mimetype": "text/x-python",
   "name": "python",
   "nbconvert_exporter": "python",
   "pygments_lexer": "ipython3",
   "version": "3.7.3"
  }
 },
 "nbformat": 4,
 "nbformat_minor": 2
}
