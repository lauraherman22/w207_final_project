{
 "cells": [
  {
   "cell_type": "code",
   "execution_count": 82,
   "metadata": {},
   "outputs": [],
   "source": [
    "# Import libraries\n",
    "import pandas as pd\n",
    "import numpy as np\n",
    "import matplotlib.pyplot as plt\n",
    "import os\n",
    "import time\n",
    "\n",
    "from sklearn.model_selection import train_test_split\n",
    "from sklearn.preprocessing import StandardScaler\n",
    "from sklearn.neighbors import KNeighborsClassifier\n",
    "from sklearn.linear_model import LogisticRegression\n"
   ]
  },
  {
   "cell_type": "code",
   "execution_count": 83,
   "metadata": {},
   "outputs": [],
   "source": [
    "# Set working directory\n",
    "os.chdir('/Users/alyssaaugsburger/Documents/Berkeley_MIDS/W207/Final_Project')"
   ]
  },
  {
   "cell_type": "code",
   "execution_count": 84,
   "metadata": {},
   "outputs": [
    {
     "data": {
      "text/plain": [
       "['arr_0', 'arr_1']"
      ]
     },
     "execution_count": 84,
     "metadata": {},
     "output_type": "execute_result"
    }
   ],
   "source": [
    "# Load first npz file as an example and get files\n",
    "data_1 = np.load('et_w207_project_npz_files_5000_tmp_tmp5ocrhjnn.npz')\n",
    "data_1.close\n",
    "data_1.files"
   ]
  },
  {
   "cell_type": "code",
   "execution_count": 85,
   "metadata": {},
   "outputs": [
    {
     "data": {
      "text/plain": [
       "array(['ozbpir-9ey6js-ggdqwo', '378ykanq', 'p366md-big834-7o23k6',\n",
       "       '3zruwvl2', 'q18iae-3vnh74-79npmy'], dtype='<U20')"
      ]
     },
     "execution_count": 85,
     "metadata": {},
     "output_type": "execute_result"
    }
   ],
   "source": [
    "# Show file arr_0 example\n",
    "data_1['arr_0'][:5]"
   ]
  },
  {
   "cell_type": "code",
   "execution_count": 86,
   "metadata": {},
   "outputs": [
    {
     "data": {
      "text/plain": [
       "array([[-103.939   , -116.779   , -123.68    , ..., -103.939   ,\n",
       "        -116.779   , -123.68    ],\n",
       "       [ -46.939003,  -74.779   , -118.68    , ...,  -57.939003,\n",
       "         -84.779   , -118.68    ],\n",
       "       [ 151.061   ,  138.22101 ,  131.32    , ...,  151.061   ,\n",
       "         138.22101 ,  131.32    ],\n",
       "       [  -3.939003,  -66.779   ,  -96.68    , ...,   -3.939003,\n",
       "         -66.779   ,  -96.68    ],\n",
       "       [-103.939   , -116.779   , -123.68    , ..., -103.939   ,\n",
       "        -116.779   , -123.68    ]], dtype=float32)"
      ]
     },
     "execution_count": 86,
     "metadata": {},
     "output_type": "execute_result"
    }
   ],
   "source": [
    "# Show file arr_1 example\n",
    "data_1['arr_1'][:5]"
   ]
  },
  {
   "cell_type": "code",
   "execution_count": 87,
   "metadata": {},
   "outputs": [
    {
     "name": "stdout",
     "output_type": "stream",
     "text": [
      "['arr_0', 'arr_1']\n",
      "['arr_0', 'arr_1']\n",
      "['arr_0', 'arr_1']\n"
     ]
    }
   ],
   "source": [
    "# Load all data files\n",
    "data_2 = np.load('et_w207_project_npz_files_5000_tmp_tmp092sag67.npz')\n",
    "data_2.close\n",
    "print(data_2.files)\n",
    "\n",
    "data_3 = np.load('et_w207_project_npz_files_5000_tmp_tmpf31_pn8p.npz')\n",
    "data_3.close\n",
    "print(data_3.files)\n",
    "\n",
    "data_4 = np.load('et_w207_project_npz_files_5000_tmp_tmpq5b2g4n2.npz')\n",
    "data_4.close\n",
    "print(data_4.files)"
   ]
  },
  {
   "cell_type": "code",
   "execution_count": 88,
   "metadata": {},
   "outputs": [
    {
     "name": "stdout",
     "output_type": "stream",
     "text": [
      "(878,)\n",
      "(878, 150528)\n"
     ]
    }
   ],
   "source": [
    "# Get size of each file\n",
    "print(data_1['arr_0'].shape)\n",
    "print(data_1['arr_1'].shape)"
   ]
  },
  {
   "cell_type": "code",
   "execution_count": 89,
   "metadata": {},
   "outputs": [
    {
     "name": "stdout",
     "output_type": "stream",
     "text": [
      "(893,)\n",
      "(893, 150528)\n"
     ]
    }
   ],
   "source": [
    "print(data_2['arr_0'].shape)\n",
    "print(data_2['arr_1'].shape)"
   ]
  },
  {
   "cell_type": "code",
   "execution_count": 90,
   "metadata": {},
   "outputs": [
    {
     "name": "stdout",
     "output_type": "stream",
     "text": [
      "(638,)\n",
      "(638, 150528)\n"
     ]
    }
   ],
   "source": [
    "print(data_3['arr_0'].shape)\n",
    "print(data_3['arr_1'].shape)"
   ]
  },
  {
   "cell_type": "code",
   "execution_count": 91,
   "metadata": {},
   "outputs": [
    {
     "name": "stdout",
     "output_type": "stream",
     "text": [
      "(1353,)\n",
      "(1353, 150528)\n"
     ]
    }
   ],
   "source": [
    "print(data_4['arr_0'].shape)\n",
    "print(data_4['arr_1'].shape)"
   ]
  },
  {
   "cell_type": "code",
   "execution_count": 92,
   "metadata": {},
   "outputs": [
    {
     "data": {
      "text/plain": [
       "(3762,)"
      ]
     },
     "execution_count": 92,
     "metadata": {},
     "output_type": "execute_result"
    }
   ],
   "source": [
    "# Concatenate image vectors from all files\n",
    "data_arr0_all = np.concatenate((data_1['arr_0'], data_2['arr_0'], data_3['arr_0'], data_4['arr_0']))\n",
    "data_arr0_all.shape"
   ]
  },
  {
   "cell_type": "code",
   "execution_count": 93,
   "metadata": {},
   "outputs": [
    {
     "data": {
      "text/plain": [
       "(3762, 150528)"
      ]
     },
     "execution_count": 93,
     "metadata": {},
     "output_type": "execute_result"
    }
   ],
   "source": [
    "data_arr1_all = np.concatenate((data_1['arr_1'], data_2['arr_1'], data_3['arr_1'], data_4['arr_1']))\n",
    "data_arr1_all.shape"
   ]
  },
  {
   "cell_type": "code",
   "execution_count": 94,
   "metadata": {},
   "outputs": [
    {
     "data": {
      "text/html": [
       "<div>\n",
       "<style scoped>\n",
       "    .dataframe tbody tr th:only-of-type {\n",
       "        vertical-align: middle;\n",
       "    }\n",
       "\n",
       "    .dataframe tbody tr th {\n",
       "        vertical-align: top;\n",
       "    }\n",
       "\n",
       "    .dataframe thead th {\n",
       "        text-align: right;\n",
       "    }\n",
       "</style>\n",
       "<table border=\"1\" class=\"dataframe\">\n",
       "  <thead>\n",
       "    <tr style=\"text-align: right;\">\n",
       "      <th></th>\n",
       "      <th>pixel_array</th>\n",
       "    </tr>\n",
       "    <tr>\n",
       "      <th>attachment_key</th>\n",
       "      <th></th>\n",
       "    </tr>\n",
       "  </thead>\n",
       "  <tbody>\n",
       "    <tr>\n",
       "      <th>ozbpir-9ey6js-ggdqwo</th>\n",
       "      <td>[-0.40760392, -0.45795685, -0.4850196, -0.4076...</td>\n",
       "    </tr>\n",
       "    <tr>\n",
       "      <th>378ykanq</th>\n",
       "      <td>[-0.18407452, -0.29325098, -0.46541175, -0.097...</td>\n",
       "    </tr>\n",
       "    <tr>\n",
       "      <th>p366md-big834-7o23k6</th>\n",
       "      <td>[0.5923961, 0.54204315, 0.51498044, 0.5923961,...</td>\n",
       "    </tr>\n",
       "    <tr>\n",
       "      <th>3zruwvl2</th>\n",
       "      <td>[-0.015447071, -0.26187843, -0.37913725, -0.01...</td>\n",
       "    </tr>\n",
       "    <tr>\n",
       "      <th>q18iae-3vnh74-79npmy</th>\n",
       "      <td>[-0.40760392, -0.45795685, -0.4850196, -0.4076...</td>\n",
       "    </tr>\n",
       "    <tr>\n",
       "      <th>q0nyct-7525ow-3ur3ii</th>\n",
       "      <td>[0.5767098, 0.5263569, 0.4992941, 0.49043527, ...</td>\n",
       "    </tr>\n",
       "    <tr>\n",
       "      <th>7d8atetr</th>\n",
       "      <td>[0.5923961, 0.54204315, 0.51498044, 0.5923961,...</td>\n",
       "    </tr>\n",
       "    <tr>\n",
       "      <th>ppfy71-bfbnm8-emjouu</th>\n",
       "      <td>[0.5923961, 0.54204315, 0.51498044, 0.5923961,...</td>\n",
       "    </tr>\n",
       "    <tr>\n",
       "      <th>pe7vgl-2vda1s-fo18uc</th>\n",
       "      <td>[-0.40760392, -0.45795685, -0.4850196, -0.4076...</td>\n",
       "    </tr>\n",
       "    <tr>\n",
       "      <th>q7clmn-75pmlk-9pzb8r</th>\n",
       "      <td>[0.5923961, 0.54204315, 0.51498044, 0.5923961,...</td>\n",
       "    </tr>\n",
       "    <tr>\n",
       "      <th>pg3h39-bkfxvk-4590hb</th>\n",
       "      <td>[-0.40760392, -0.45795685, -0.4850196, -0.4076...</td>\n",
       "    </tr>\n",
       "    <tr>\n",
       "      <th>q5zhat-7f21pk-6kl4a5</th>\n",
       "      <td>[0.5923961, 0.54204315, 0.51498044, 0.5923961,...</td>\n",
       "    </tr>\n",
       "    <tr>\n",
       "      <th>po9jry-6wmt60-68re5m</th>\n",
       "      <td>[0.5923961, 0.54204315, 0.51498044, 0.5923961,...</td>\n",
       "    </tr>\n",
       "    <tr>\n",
       "      <th>pmflna-8ns1l4-atzjfo</th>\n",
       "      <td>[-0.40760392, -0.45795685, -0.4850196, -0.3997...</td>\n",
       "    </tr>\n",
       "    <tr>\n",
       "      <th>m4wjtm9c</th>\n",
       "      <td>[-0.40760392, -0.45795685, -0.4850196, -0.4076...</td>\n",
       "    </tr>\n",
       "    <tr>\n",
       "      <th>1jcg85ni</th>\n",
       "      <td>[0.5923961, 0.54204315, 0.51498044, 0.5923961,...</td>\n",
       "    </tr>\n",
       "    <tr>\n",
       "      <th>omkgpf-7804i8-5561t</th>\n",
       "      <td>[0.5923961, 0.54204315, 0.51498044, 0.5923961,...</td>\n",
       "    </tr>\n",
       "    <tr>\n",
       "      <th>q551vb-2var00-146pif</th>\n",
       "      <td>[-0.109564714, -0.018741174, -0.20658824, -0.1...</td>\n",
       "    </tr>\n",
       "    <tr>\n",
       "      <th>q1bvkt-9wjbrc-eboqr1</th>\n",
       "      <td>[-0.40368235, -0.45403528, -0.48109803, -0.407...</td>\n",
       "    </tr>\n",
       "    <tr>\n",
       "      <th>o1onon-e3vn3v-ca2w05</th>\n",
       "      <td>[-0.40760392, -0.45795685, -0.4850196, -0.4076...</td>\n",
       "    </tr>\n",
       "    <tr>\n",
       "      <th>t14z9el3</th>\n",
       "      <td>[-0.25074118, 0.0596902, 0.47968626, -0.250741...</td>\n",
       "    </tr>\n",
       "    <tr>\n",
       "      <th>pyiatn-4ga8e8-6qbmu8</th>\n",
       "      <td>[0.5923961, 0.54204315, 0.51498044, 0.5923961,...</td>\n",
       "    </tr>\n",
       "    <tr>\n",
       "      <th>9w5zo630</th>\n",
       "      <td>[-0.3370157, -0.38736862, -0.43796077, -0.3566...</td>\n",
       "    </tr>\n",
       "    <tr>\n",
       "      <th>pszyej-a539eo-5b2ezu</th>\n",
       "      <td>[-0.109564714, -0.018741174, -0.20658824, -0.1...</td>\n",
       "    </tr>\n",
       "    <tr>\n",
       "      <th>vw76hk0c</th>\n",
       "      <td>[-0.16838825, -0.26187843, -0.36345097, -0.168...</td>\n",
       "    </tr>\n",
       "    <tr>\n",
       "      <th>q7chtr-84ykp4-1dsiyc</th>\n",
       "      <td>[-0.40760392, -0.45795685, -0.4850196, -0.4076...</td>\n",
       "    </tr>\n",
       "    <tr>\n",
       "      <th>jqk6e2rc</th>\n",
       "      <td>[0.34533724, 0.2949843, 0.26792157, 0.3492588,...</td>\n",
       "    </tr>\n",
       "    <tr>\n",
       "      <th>o4m9wj-b0xs3k-eae43a</th>\n",
       "      <td>[0.4865137, 0.18125883, -0.4850196, 0.4865137,...</td>\n",
       "    </tr>\n",
       "    <tr>\n",
       "      <th>o7szie-bow9hc-65kkfx</th>\n",
       "      <td>[0.5923961, 0.54204315, 0.51498044, 0.5923961,...</td>\n",
       "    </tr>\n",
       "    <tr>\n",
       "      <th>omwu73-4c7zqg-9sv9vj</th>\n",
       "      <td>[-0.109564714, -0.018741174, -0.20658824, -0.1...</td>\n",
       "    </tr>\n",
       "    <tr>\n",
       "      <th>...</th>\n",
       "      <td>...</td>\n",
       "    </tr>\n",
       "    <tr>\n",
       "      <th>ovhpi4-a7tt8w-2ltb0o</th>\n",
       "      <td>[0.44729802, 0.3969451, 0.36988235, 0.45514116...</td>\n",
       "    </tr>\n",
       "    <tr>\n",
       "      <th>px1yxs-mfwvk-63aqid</th>\n",
       "      <td>[0.5923961, 0.54204315, 0.51498044, 0.5923961,...</td>\n",
       "    </tr>\n",
       "    <tr>\n",
       "      <th>p5afdq-cc4ze8-836mb6</th>\n",
       "      <td>[0.01200391, 0.15772942, 0.20909804, 0.0159254...</td>\n",
       "    </tr>\n",
       "    <tr>\n",
       "      <th>q4xrnp-d63cds-60glxq</th>\n",
       "      <td>[-0.14093727, -0.2030549, -0.17129412, -0.1095...</td>\n",
       "    </tr>\n",
       "    <tr>\n",
       "      <th>q6mxry-am0nog-9nhgpm</th>\n",
       "      <td>[0.43945488, 0.34204313, 0.2992941, 0.4237686,...</td>\n",
       "    </tr>\n",
       "    <tr>\n",
       "      <th>pql00h-euq5eg-br2xgt</th>\n",
       "      <td>[0.18455292, 0.23616078, 0.23654902, 0.0394548...</td>\n",
       "    </tr>\n",
       "    <tr>\n",
       "      <th>p49094-4wt3io-geeffz</th>\n",
       "      <td>[-0.40760392, -0.4501137, -0.4732549, -0.40760...</td>\n",
       "    </tr>\n",
       "    <tr>\n",
       "      <th>ptemr3-a6rok8-fla8zb</th>\n",
       "      <td>[0.5923961, 0.54204315, 0.51498044, 0.5923961,...</td>\n",
       "    </tr>\n",
       "    <tr>\n",
       "      <th>ovinll-dwz0sw-2efrzl</th>\n",
       "      <td>[0.3139647, 0.13812158, 0.06007843, 0.28651372...</td>\n",
       "    </tr>\n",
       "    <tr>\n",
       "      <th>pjdunt-c9s8gw-7dnupd</th>\n",
       "      <td>[0.39239606, 0.3694941, 0.35419607, 0.39631763...</td>\n",
       "    </tr>\n",
       "    <tr>\n",
       "      <th>ps13ow-fqxxps-68c6m8</th>\n",
       "      <td>[0.29435685, 0.24792549, 0.21301961, 0.2943568...</td>\n",
       "    </tr>\n",
       "    <tr>\n",
       "      <th>pjj4yy-e3zf80-640x1e</th>\n",
       "      <td>[0.43553331, 0.37341568, 0.3267451, 0.4512196,...</td>\n",
       "    </tr>\n",
       "    <tr>\n",
       "      <th>pvvr00-8mi6co-g62c6w</th>\n",
       "      <td>[0.5923961, 0.54204315, 0.51498044, 0.5923961,...</td>\n",
       "    </tr>\n",
       "    <tr>\n",
       "      <th>ppammb-9mor3k-5w0wcy</th>\n",
       "      <td>[0.5923961, 0.54204315, 0.51498044, 0.5923961,...</td>\n",
       "    </tr>\n",
       "    <tr>\n",
       "      <th>pfdh01-784pmo-91z5mq</th>\n",
       "      <td>[0.5923961, 0.54204315, 0.51498044, 0.5923961,...</td>\n",
       "    </tr>\n",
       "    <tr>\n",
       "      <th>q5b0s1-3ccvso-3xkf5i</th>\n",
       "      <td>[0.15710194, 0.13027844, 0.13066666, 0.1571019...</td>\n",
       "    </tr>\n",
       "    <tr>\n",
       "      <th>pv22xl-7vcpb4-2flusi</th>\n",
       "      <td>[0.5923961, 0.54204315, 0.51498044, 0.5923961,...</td>\n",
       "    </tr>\n",
       "    <tr>\n",
       "      <th>ptuldm-aqhru0-45k77z</th>\n",
       "      <td>[0.3257294, 0.13812158, -0.061490197, 0.325729...</td>\n",
       "    </tr>\n",
       "    <tr>\n",
       "      <th>oc8hwr-dyyoa0-3ncqb6</th>\n",
       "      <td>[0.40808234, 0.33812156, 0.3149804, 0.40808234...</td>\n",
       "    </tr>\n",
       "    <tr>\n",
       "      <th>pl6jsh-do6660-9tegk9</th>\n",
       "      <td>[0.5884745, 0.5381216, 0.51105887, 0.5884745, ...</td>\n",
       "    </tr>\n",
       "    <tr>\n",
       "      <th>omgflv-9dkzps-cftrg1</th>\n",
       "      <td>[0.23553333, 0.122435294, 0.048313726, 0.17278...</td>\n",
       "    </tr>\n",
       "    <tr>\n",
       "      <th>p2o47v-4a7ixs-3w2j1i</th>\n",
       "      <td>[0.5923961, 0.54204315, 0.51498044, 0.5923961,...</td>\n",
       "    </tr>\n",
       "    <tr>\n",
       "      <th>q6mxry-am0nog-3jddtr</th>\n",
       "      <td>[-0.40760392, -0.45795685, -0.4850196, -0.4076...</td>\n",
       "    </tr>\n",
       "    <tr>\n",
       "      <th>py33gr-28wj2w-c84esu</th>\n",
       "      <td>[0.5923961, 0.54204315, 0.51498044, 0.5923961,...</td>\n",
       "    </tr>\n",
       "    <tr>\n",
       "      <th>o2ntbw-133k9y-8gjo0t</th>\n",
       "      <td>[0.27082744, 0.25576863, 0.30713725, 0.274749,...</td>\n",
       "    </tr>\n",
       "    <tr>\n",
       "      <th>pktyig-481wyg-6gyulf</th>\n",
       "      <td>[-0.3605451, -0.41089803, -0.38305882, -0.3644...</td>\n",
       "    </tr>\n",
       "    <tr>\n",
       "      <th>zu7y3rha</th>\n",
       "      <td>[-0.007603933, -0.05795686, -0.08501961, -0.00...</td>\n",
       "    </tr>\n",
       "    <tr>\n",
       "      <th>pxcwxf-8tnpyg-8vhb9r</th>\n",
       "      <td>[0.3022, 0.18125883, 0.12674509, 0.31004313, 0...</td>\n",
       "    </tr>\n",
       "    <tr>\n",
       "      <th>p4hakf-fsskmw-1224up</th>\n",
       "      <td>[-0.40368235, -0.45403528, -0.48109803, -0.387...</td>\n",
       "    </tr>\n",
       "    <tr>\n",
       "      <th>ptuhsk-22124o-f0sxoc</th>\n",
       "      <td>[0.43945488, 0.39302352, 0.3502745, 0.44729802...</td>\n",
       "    </tr>\n",
       "  </tbody>\n",
       "</table>\n",
       "<p>3759 rows × 1 columns</p>\n",
       "</div>"
      ],
      "text/plain": [
       "                                                            pixel_array\n",
       "attachment_key                                                         \n",
       "ozbpir-9ey6js-ggdqwo  [-0.40760392, -0.45795685, -0.4850196, -0.4076...\n",
       "378ykanq              [-0.18407452, -0.29325098, -0.46541175, -0.097...\n",
       "p366md-big834-7o23k6  [0.5923961, 0.54204315, 0.51498044, 0.5923961,...\n",
       "3zruwvl2              [-0.015447071, -0.26187843, -0.37913725, -0.01...\n",
       "q18iae-3vnh74-79npmy  [-0.40760392, -0.45795685, -0.4850196, -0.4076...\n",
       "q0nyct-7525ow-3ur3ii  [0.5767098, 0.5263569, 0.4992941, 0.49043527, ...\n",
       "7d8atetr              [0.5923961, 0.54204315, 0.51498044, 0.5923961,...\n",
       "ppfy71-bfbnm8-emjouu  [0.5923961, 0.54204315, 0.51498044, 0.5923961,...\n",
       "pe7vgl-2vda1s-fo18uc  [-0.40760392, -0.45795685, -0.4850196, -0.4076...\n",
       "q7clmn-75pmlk-9pzb8r  [0.5923961, 0.54204315, 0.51498044, 0.5923961,...\n",
       "pg3h39-bkfxvk-4590hb  [-0.40760392, -0.45795685, -0.4850196, -0.4076...\n",
       "q5zhat-7f21pk-6kl4a5  [0.5923961, 0.54204315, 0.51498044, 0.5923961,...\n",
       "po9jry-6wmt60-68re5m  [0.5923961, 0.54204315, 0.51498044, 0.5923961,...\n",
       "pmflna-8ns1l4-atzjfo  [-0.40760392, -0.45795685, -0.4850196, -0.3997...\n",
       "m4wjtm9c              [-0.40760392, -0.45795685, -0.4850196, -0.4076...\n",
       "1jcg85ni              [0.5923961, 0.54204315, 0.51498044, 0.5923961,...\n",
       "omkgpf-7804i8-5561t   [0.5923961, 0.54204315, 0.51498044, 0.5923961,...\n",
       "q551vb-2var00-146pif  [-0.109564714, -0.018741174, -0.20658824, -0.1...\n",
       "q1bvkt-9wjbrc-eboqr1  [-0.40368235, -0.45403528, -0.48109803, -0.407...\n",
       "o1onon-e3vn3v-ca2w05  [-0.40760392, -0.45795685, -0.4850196, -0.4076...\n",
       "t14z9el3              [-0.25074118, 0.0596902, 0.47968626, -0.250741...\n",
       "pyiatn-4ga8e8-6qbmu8  [0.5923961, 0.54204315, 0.51498044, 0.5923961,...\n",
       "9w5zo630              [-0.3370157, -0.38736862, -0.43796077, -0.3566...\n",
       "pszyej-a539eo-5b2ezu  [-0.109564714, -0.018741174, -0.20658824, -0.1...\n",
       "vw76hk0c              [-0.16838825, -0.26187843, -0.36345097, -0.168...\n",
       "q7chtr-84ykp4-1dsiyc  [-0.40760392, -0.45795685, -0.4850196, -0.4076...\n",
       "jqk6e2rc              [0.34533724, 0.2949843, 0.26792157, 0.3492588,...\n",
       "o4m9wj-b0xs3k-eae43a  [0.4865137, 0.18125883, -0.4850196, 0.4865137,...\n",
       "o7szie-bow9hc-65kkfx  [0.5923961, 0.54204315, 0.51498044, 0.5923961,...\n",
       "omwu73-4c7zqg-9sv9vj  [-0.109564714, -0.018741174, -0.20658824, -0.1...\n",
       "...                                                                 ...\n",
       "ovhpi4-a7tt8w-2ltb0o  [0.44729802, 0.3969451, 0.36988235, 0.45514116...\n",
       "px1yxs-mfwvk-63aqid   [0.5923961, 0.54204315, 0.51498044, 0.5923961,...\n",
       "p5afdq-cc4ze8-836mb6  [0.01200391, 0.15772942, 0.20909804, 0.0159254...\n",
       "q4xrnp-d63cds-60glxq  [-0.14093727, -0.2030549, -0.17129412, -0.1095...\n",
       "q6mxry-am0nog-9nhgpm  [0.43945488, 0.34204313, 0.2992941, 0.4237686,...\n",
       "pql00h-euq5eg-br2xgt  [0.18455292, 0.23616078, 0.23654902, 0.0394548...\n",
       "p49094-4wt3io-geeffz  [-0.40760392, -0.4501137, -0.4732549, -0.40760...\n",
       "ptemr3-a6rok8-fla8zb  [0.5923961, 0.54204315, 0.51498044, 0.5923961,...\n",
       "ovinll-dwz0sw-2efrzl  [0.3139647, 0.13812158, 0.06007843, 0.28651372...\n",
       "pjdunt-c9s8gw-7dnupd  [0.39239606, 0.3694941, 0.35419607, 0.39631763...\n",
       "ps13ow-fqxxps-68c6m8  [0.29435685, 0.24792549, 0.21301961, 0.2943568...\n",
       "pjj4yy-e3zf80-640x1e  [0.43553331, 0.37341568, 0.3267451, 0.4512196,...\n",
       "pvvr00-8mi6co-g62c6w  [0.5923961, 0.54204315, 0.51498044, 0.5923961,...\n",
       "ppammb-9mor3k-5w0wcy  [0.5923961, 0.54204315, 0.51498044, 0.5923961,...\n",
       "pfdh01-784pmo-91z5mq  [0.5923961, 0.54204315, 0.51498044, 0.5923961,...\n",
       "q5b0s1-3ccvso-3xkf5i  [0.15710194, 0.13027844, 0.13066666, 0.1571019...\n",
       "pv22xl-7vcpb4-2flusi  [0.5923961, 0.54204315, 0.51498044, 0.5923961,...\n",
       "ptuldm-aqhru0-45k77z  [0.3257294, 0.13812158, -0.061490197, 0.325729...\n",
       "oc8hwr-dyyoa0-3ncqb6  [0.40808234, 0.33812156, 0.3149804, 0.40808234...\n",
       "pl6jsh-do6660-9tegk9  [0.5884745, 0.5381216, 0.51105887, 0.5884745, ...\n",
       "omgflv-9dkzps-cftrg1  [0.23553333, 0.122435294, 0.048313726, 0.17278...\n",
       "p2o47v-4a7ixs-3w2j1i  [0.5923961, 0.54204315, 0.51498044, 0.5923961,...\n",
       "q6mxry-am0nog-3jddtr  [-0.40760392, -0.45795685, -0.4850196, -0.4076...\n",
       "py33gr-28wj2w-c84esu  [0.5923961, 0.54204315, 0.51498044, 0.5923961,...\n",
       "o2ntbw-133k9y-8gjo0t  [0.27082744, 0.25576863, 0.30713725, 0.274749,...\n",
       "pktyig-481wyg-6gyulf  [-0.3605451, -0.41089803, -0.38305882, -0.3644...\n",
       "zu7y3rha              [-0.007603933, -0.05795686, -0.08501961, -0.00...\n",
       "pxcwxf-8tnpyg-8vhb9r  [0.3022, 0.18125883, 0.12674509, 0.31004313, 0...\n",
       "p4hakf-fsskmw-1224up  [-0.40368235, -0.45403528, -0.48109803, -0.387...\n",
       "ptuhsk-22124o-f0sxoc  [0.43945488, 0.39302352, 0.3502745, 0.44729802...\n",
       "\n",
       "[3759 rows x 1 columns]"
      ]
     },
     "execution_count": 94,
     "metadata": {},
     "output_type": "execute_result"
    }
   ],
   "source": [
    "# Store pixel vectors as DF with attachment key\n",
    "\n",
    "# Create key value pairs with arr0 (attachment key) and standardized arr1 (pixel array)\n",
    "# Standardize pixel values between 0 and 1 by dividing by 255\n",
    "data_dict = {}\n",
    "for i in range(data_arr0_all.shape[0]):\n",
    "    data_dict[data_arr0_all[i]] = [data_arr1_all[i]/255]\n",
    "\n",
    "df_pixel = pd.DataFrame(data=data_dict)\n",
    "df_pixel_t = df_pixel.transpose()\n",
    "df_pixel_t.index.names = ['attachment_key']\n",
    "df_pixel_t.columns = ['pixel_array']\n",
    "df_pixel_t"
   ]
  },
  {
   "cell_type": "code",
   "execution_count": 95,
   "metadata": {},
   "outputs": [
    {
     "data": {
      "text/html": [
       "<div>\n",
       "<style scoped>\n",
       "    .dataframe tbody tr th:only-of-type {\n",
       "        vertical-align: middle;\n",
       "    }\n",
       "\n",
       "    .dataframe tbody tr th {\n",
       "        vertical-align: top;\n",
       "    }\n",
       "\n",
       "    .dataframe thead th {\n",
       "        text-align: right;\n",
       "    }\n",
       "</style>\n",
       "<table border=\"1\" class=\"dataframe\">\n",
       "  <thead>\n",
       "    <tr style=\"text-align: right;\">\n",
       "      <th></th>\n",
       "      <th>attachment_key</th>\n",
       "      <th>size_mb</th>\n",
       "      <th>height</th>\n",
       "      <th>width</th>\n",
       "      <th>h_to_w</th>\n",
       "      <th>filename</th>\n",
       "      <th>logo</th>\n",
       "    </tr>\n",
       "  </thead>\n",
       "  <tbody>\n",
       "    <tr>\n",
       "      <th>0</th>\n",
       "      <td>q36z0t-gf0ta0-91uq4d</td>\n",
       "      <td>5.256976</td>\n",
       "      <td>3351.0</td>\n",
       "      <td>2530.0</td>\n",
       "      <td>1.324506</td>\n",
       "      <td>WVC021819TH-5756.jpg</td>\n",
       "      <td>0</td>\n",
       "    </tr>\n",
       "    <tr>\n",
       "      <th>1</th>\n",
       "      <td>p0td2i-8fv5ew-2c7suq</td>\n",
       "      <td>0.688739</td>\n",
       "      <td>3420.0</td>\n",
       "      <td>1365.0</td>\n",
       "      <td>2.505495</td>\n",
       "      <td>Lastricato_CastelloDelTrebbio.jpg</td>\n",
       "      <td>0</td>\n",
       "    </tr>\n",
       "    <tr>\n",
       "      <th>2</th>\n",
       "      <td>q6p0vh-6wed5k-3c8m2s</td>\n",
       "      <td>11.636952</td>\n",
       "      <td>6240.0</td>\n",
       "      <td>4160.0</td>\n",
       "      <td>1.500000</td>\n",
       "      <td>WVC2Port2020-9684.jpg</td>\n",
       "      <td>0</td>\n",
       "    </tr>\n",
       "    <tr>\n",
       "      <th>3</th>\n",
       "      <td>pg1c3o-fqyk3c-72hr82</td>\n",
       "      <td>4.161787</td>\n",
       "      <td>3257.0</td>\n",
       "      <td>4885.0</td>\n",
       "      <td>0.666735</td>\n",
       "      <td>EB4A1971.jpg</td>\n",
       "      <td>0</td>\n",
       "    </tr>\n",
       "    <tr>\n",
       "      <th>4</th>\n",
       "      <td>q52mox-a2mcsg-4ir06w</td>\n",
       "      <td>4.081567</td>\n",
       "      <td>3738.0</td>\n",
       "      <td>5600.0</td>\n",
       "      <td>0.667500</td>\n",
       "      <td>934879096.jpg</td>\n",
       "      <td>0</td>\n",
       "    </tr>\n",
       "  </tbody>\n",
       "</table>\n",
       "</div>"
      ],
      "text/plain": [
       "         attachment_key    size_mb  height   width    h_to_w  \\\n",
       "0  q36z0t-gf0ta0-91uq4d   5.256976  3351.0  2530.0  1.324506   \n",
       "1  p0td2i-8fv5ew-2c7suq   0.688739  3420.0  1365.0  2.505495   \n",
       "2  q6p0vh-6wed5k-3c8m2s  11.636952  6240.0  4160.0  1.500000   \n",
       "3  pg1c3o-fqyk3c-72hr82   4.161787  3257.0  4885.0  0.666735   \n",
       "4  q52mox-a2mcsg-4ir06w   4.081567  3738.0  5600.0  0.667500   \n",
       "\n",
       "                            filename  logo  \n",
       "0               WVC021819TH-5756.jpg     0  \n",
       "1  Lastricato_CastelloDelTrebbio.jpg     0  \n",
       "2              WVC2Port2020-9684.jpg     0  \n",
       "3                       EB4A1971.jpg     0  \n",
       "4                      934879096.jpg     0  "
      ]
     },
     "execution_count": 95,
     "metadata": {},
     "output_type": "execute_result"
    }
   ],
   "source": [
    "# Load excel data\n",
    "df = pd.read_csv('school_project_data_set-query.csv')\n",
    "df.head()"
   ]
  },
  {
   "cell_type": "code",
   "execution_count": 96,
   "metadata": {},
   "outputs": [],
   "source": [
    "# Merge dataframes by attachment key\n",
    "combined_df = df.merge(df_pixel_t, on='attachment_key')"
   ]
  },
  {
   "cell_type": "code",
   "execution_count": 97,
   "metadata": {},
   "outputs": [
    {
     "data": {
      "text/html": [
       "<div>\n",
       "<style scoped>\n",
       "    .dataframe tbody tr th:only-of-type {\n",
       "        vertical-align: middle;\n",
       "    }\n",
       "\n",
       "    .dataframe tbody tr th {\n",
       "        vertical-align: top;\n",
       "    }\n",
       "\n",
       "    .dataframe thead th {\n",
       "        text-align: right;\n",
       "    }\n",
       "</style>\n",
       "<table border=\"1\" class=\"dataframe\">\n",
       "  <thead>\n",
       "    <tr style=\"text-align: right;\">\n",
       "      <th></th>\n",
       "      <th>attachment_key</th>\n",
       "      <th>size_mb</th>\n",
       "      <th>height</th>\n",
       "      <th>width</th>\n",
       "      <th>h_to_w</th>\n",
       "      <th>filename</th>\n",
       "      <th>logo</th>\n",
       "      <th>pixel_array</th>\n",
       "    </tr>\n",
       "  </thead>\n",
       "  <tbody>\n",
       "    <tr>\n",
       "      <th>0</th>\n",
       "      <td>q4zhny-2mxzu8-fz6s49</td>\n",
       "      <td>2.423621</td>\n",
       "      <td>4500.0</td>\n",
       "      <td>4500.0</td>\n",
       "      <td>1.000000</td>\n",
       "      <td>Ska-HazyIPA-can-White.jpg</td>\n",
       "      <td>0</td>\n",
       "      <td>[0.5923961, 0.54204315, 0.51498044, 0.5923961,...</td>\n",
       "    </tr>\n",
       "    <tr>\n",
       "      <th>1</th>\n",
       "      <td>pgeoak-9l272o-5dah6f</td>\n",
       "      <td>0.014292</td>\n",
       "      <td>137.0</td>\n",
       "      <td>327.0</td>\n",
       "      <td>0.418960</td>\n",
       "      <td>Screen Shot 2018-10-10 at 7.07.12 PM.png</td>\n",
       "      <td>0</td>\n",
       "      <td>[0.5492588, 0.5224353, 0.49145097, 0.5492588, ...</td>\n",
       "    </tr>\n",
       "    <tr>\n",
       "      <th>2</th>\n",
       "      <td>pgeoak-9l272o-5dah6f</td>\n",
       "      <td>0.014292</td>\n",
       "      <td>137.0</td>\n",
       "      <td>327.0</td>\n",
       "      <td>0.418960</td>\n",
       "      <td>Screen Shot 2018-10-10 at 7.07.12 PM.png</td>\n",
       "      <td>1</td>\n",
       "      <td>[0.5492588, 0.5224353, 0.49145097, 0.5492588, ...</td>\n",
       "    </tr>\n",
       "    <tr>\n",
       "      <th>3</th>\n",
       "      <td>vd92yz5a</td>\n",
       "      <td>0.109244</td>\n",
       "      <td>716.0</td>\n",
       "      <td>1428.0</td>\n",
       "      <td>0.501401</td>\n",
       "      <td>a pha_logo.jpg</td>\n",
       "      <td>1</td>\n",
       "      <td>[0.5923961, 0.54204315, 0.51498044, 0.5923961,...</td>\n",
       "    </tr>\n",
       "    <tr>\n",
       "      <th>4</th>\n",
       "      <td>pu19n0-ajc888-actmf5</td>\n",
       "      <td>0.027520</td>\n",
       "      <td>1251.0</td>\n",
       "      <td>1250.0</td>\n",
       "      <td>1.000800</td>\n",
       "      <td>AXON - Icon Family - July 2019-03.png</td>\n",
       "      <td>1</td>\n",
       "      <td>[-0.40760392, -0.45795685, -0.4850196, -0.4076...</td>\n",
       "    </tr>\n",
       "  </tbody>\n",
       "</table>\n",
       "</div>"
      ],
      "text/plain": [
       "         attachment_key   size_mb  height   width    h_to_w  \\\n",
       "0  q4zhny-2mxzu8-fz6s49  2.423621  4500.0  4500.0  1.000000   \n",
       "1  pgeoak-9l272o-5dah6f  0.014292   137.0   327.0  0.418960   \n",
       "2  pgeoak-9l272o-5dah6f  0.014292   137.0   327.0  0.418960   \n",
       "3              vd92yz5a  0.109244   716.0  1428.0  0.501401   \n",
       "4  pu19n0-ajc888-actmf5  0.027520  1251.0  1250.0  1.000800   \n",
       "\n",
       "                                   filename  logo  \\\n",
       "0                 Ska-HazyIPA-can-White.jpg     0   \n",
       "1  Screen Shot 2018-10-10 at 7.07.12 PM.png     0   \n",
       "2  Screen Shot 2018-10-10 at 7.07.12 PM.png     1   \n",
       "3                            a pha_logo.jpg     1   \n",
       "4     AXON - Icon Family - July 2019-03.png     1   \n",
       "\n",
       "                                         pixel_array  \n",
       "0  [0.5923961, 0.54204315, 0.51498044, 0.5923961,...  \n",
       "1  [0.5492588, 0.5224353, 0.49145097, 0.5492588, ...  \n",
       "2  [0.5492588, 0.5224353, 0.49145097, 0.5492588, ...  \n",
       "3  [0.5923961, 0.54204315, 0.51498044, 0.5923961,...  \n",
       "4  [-0.40760392, -0.45795685, -0.4850196, -0.4076...  "
      ]
     },
     "execution_count": 97,
     "metadata": {},
     "output_type": "execute_result"
    }
   ],
   "source": [
    "combined_df.head()"
   ]
  },
  {
   "cell_type": "code",
   "execution_count": 98,
   "metadata": {},
   "outputs": [
    {
     "name": "stdout",
     "output_type": "stream",
     "text": [
      "(4427, 150528)\n"
     ]
    }
   ],
   "source": [
    "X = np.array(combined_df['pixel_array'].tolist())\n",
    "print(X.shape)"
   ]
  },
  {
   "cell_type": "code",
   "execution_count": 99,
   "metadata": {},
   "outputs": [
    {
     "name": "stdout",
     "output_type": "stream",
     "text": [
      "(4427,)\n"
     ]
    }
   ],
   "source": [
    "Y = np.array(combined_df['logo'])\n",
    "print(Y.shape)"
   ]
  },
  {
   "cell_type": "code",
   "execution_count": 100,
   "metadata": {},
   "outputs": [],
   "source": [
    "# STILL WORKING\n",
    "# Split into train and test data\n",
    "# Development data?\n",
    "#X_train, X_test, y_train, y_test = train_test_split(X, y, test_size=0.4,random_state=1, stratify=y)"
   ]
  },
  {
   "cell_type": "code",
   "execution_count": 101,
   "metadata": {},
   "outputs": [],
   "source": [
    "# # Set some variables to hold test and training data.\n",
    "test_data, test_labels = X[2000:], Y[2000:]\n",
    "# dev_data, dev_labels = X[60000:61000], Y[60000:61000]\n",
    "train_data, train_labels = X[:2000], Y[:2000]\n",
    "mini_train_data, mini_train_labels = X[:100], Y[:100]"
   ]
  },
  {
   "cell_type": "code",
   "execution_count": 102,
   "metadata": {},
   "outputs": [],
   "source": [
    "# Standardize"
   ]
  },
  {
   "cell_type": "code",
   "execution_count": 76,
   "metadata": {},
   "outputs": [
    {
     "name": "stdout",
     "output_type": "stream",
     "text": [
      "Misclassified examples: 877\n",
      "Misclassification error: 0.361\n",
      "Accuracy: 0.639\n"
     ]
    }
   ],
   "source": [
    "#Try a K Nearest Neighbors model just to see if everything is working correctly \n",
    "#Train the data\n",
    "knn = KNeighborsClassifier(n_neighbors=1)\n",
    "knn.fit(train_data, train_labels)\n",
    "\n",
    "#Predict\n",
    "dev_pred = knn.predict(test_data)\n",
    "    \n",
    "print('Misclassified examples: %d' % (test_labels != dev_pred).sum())\n",
    "    \n",
    "error = (test_labels != dev_pred).sum()/len(dev_pred)\n",
    "print('Misclassification error: %.3f' % error)\n",
    "print('Accuracy: %.3f'% (1-error))\n",
    "    "
   ]
  },
  {
   "cell_type": "code",
   "execution_count": 104,
   "metadata": {},
   "outputs": [
    {
     "name": "stdout",
     "output_type": "stream",
     "text": [
      "Misclassified examples: 1041\n",
      "Misclassification error: 0.429\n",
      "Accuracy: 0.571\n"
     ]
    }
   ],
   "source": [
    "#Train the data with different C values\n",
    "lr = LogisticRegression(penalty='l2', C = .3, solver='liblinear', multi_class='auto')\n",
    "lr.fit(mini_train_data, mini_train_labels)\n",
    "        \n",
    "#Predict\n",
    "pred_lr = lr.predict(test_data)\n",
    "\n",
    "print('Misclassified examples: %d' % (test_labels != pred_lr).sum())\n",
    "    \n",
    "error = (test_labels != pred_lr).sum()/len(pred_lr)\n",
    "print('Misclassification error: %.3f' % error)\n",
    "print('Accuracy: %.3f'% (1-error))"
   ]
  },
  {
   "cell_type": "code",
   "execution_count": 105,
   "metadata": {},
   "outputs": [],
   "source": [
    "# Step 1: initalize hyperparameters\n",
    "eta = 0.0001\n",
    "n_iter = 50\n",
    "random_state = 1\n",
    "\n",
    "# Step 2: initalize weights (to small random numbers)\n",
    "rgen = np.random.RandomState(random_state)\n",
    "w_ = rgen.normal(loc=0.0, scale=0.01, size=1 + X.shape[1])\n",
    "\n",
    "# Step 3: initalize errors list\n",
    "errors_ = []\n",
    "\n",
    "# Step 4: compute net input, update weights, track error\n",
    "def fit(X, y):\n",
    "    for iter_ in range(n_iter):\n",
    "        errors = 0\n",
    "        # compute the net input function\n",
    "        net_input = np.dot(X, w_[1:]) + w_[0]\n",
    "\n",
    "        # compute the threshold (unit step) function; this gives us y_pred\n",
    "        y_pred = np.where(net_input >= 0.0, 1, -1)\n",
    "\n",
    "        # iterate through all i in X,y\n",
    "        for idx, (xi, y_actual) in enumerate(zip(X, y)):\n",
    "            # compute error\n",
    "            error = y_actual - y_pred[idx]\n",
    "            \n",
    "            # update weights (notice how weights are updated after each training example!)\n",
    "            delta_w = eta * error\n",
    "            w_[1:] += delta_w * xi[0]\n",
    "            w_[0] += delta_w * xi[1]\n",
    "            \n",
    "            # update errors\n",
    "            errors += int(delta_w != 0.0)\n",
    "        errors_.append(errors)\n",
    "        \n",
    "    return errors_\n",
    "\n",
    "def predict(X):\n",
    "    net_input = np.dot(X, w_[1:]) + w_[0]\n",
    "    y_pred = np.where(net_input >= 0.0, 1, -1)\n",
    "    \n",
    "    return y_pred"
   ]
  },
  {
   "cell_type": "code",
   "execution_count": 78,
   "metadata": {},
   "outputs": [
    {
     "name": "stdout",
     "output_type": "stream",
     "text": [
      "Misclassified examples: 3287 (out of 130)\n",
      "Prediction accuracy: 0.258\n"
     ]
    },
    {
     "data": {
      "image/png": "[encoded data removed]",
      "text/plain": [
       "<Figure size 432x288 with 1 Axes>"
      ]
     },
     "metadata": {
      "needs_background": "light"
     },
     "output_type": "display_data"
    }
   ],
   "source": [
    "errors_ = fit(X,Y)\n",
    "y_pred = predict(X)\n",
    "\n",
    "# print accuracy\n",
    "print('Misclassified examples: %d' % (Y != y_pred).sum())\n",
    "error = (Y != y_pred).sum()/len(y_pred)\n",
    "print('Prediction accuracy: %.3f'% (1-error))\n",
    "\n",
    "# plot cost\n",
    "plt.plot((range(1, len(errors_) + 1)), errors_, marker='o');\n",
    "plt.xlabel('epochs (n_iter)');\n",
    "plt.ylabel('number of updates'); # number of times y_actual != y_pred\n",
    "plt.ylim(50.0,80.0);\n",
    "\n",
    "plt.title('Perceptron convergence. Learning rate = ' + str(eta));"
   ]
  },
  {
   "cell_type": "code",
   "execution_count": null,
   "metadata": {},
   "outputs": [],
   "source": []
  }
 ],
 "metadata": {
  "kernelspec": {
   "display_name": "Python 3",
   "language": "python",
   "name": "python3"
  },
  "language_info": {
   "codemirror_mode": {
    "name": "ipython",
    "version": 3
   },
   "file_extension": ".py",
   "mimetype": "text/x-python",
   "name": "python",
   "nbconvert_exporter": "python",
   "pygments_lexer": "ipython3",
   "version": "3.7.3"
  }
 },
 "nbformat": 4,
 "nbformat_minor": 2
}
